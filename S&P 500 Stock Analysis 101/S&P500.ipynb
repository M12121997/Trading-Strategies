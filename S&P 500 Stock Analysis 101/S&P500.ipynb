{
 "cells": [
  {
   "cell_type": "markdown",
   "metadata": {},
   "source": [
    "## Assessing the S&P 500\n",
    "\n",
    "### Introduction\n",
    "\n",
    "This Jupyter Notebook aims to provide a brief and simple view of assessing the **S&P 500 Index**. The S&P 500 is a market-cap weighted index consisting of 500 of the largest publicly traded companies in the United States. The companies included in this index are selected based on their market capitalization, liquidity, and industry representation, which gives a comprehensive snapshot of the U.S. stock market's performance.\n",
    "\n",
    "The S&P 500 is widely regarded as one of the best representations of the U.S. equity market and is often used as a benchmark by investors to compare their performance against. If an investor’s portfolio is performing similarly to or better than the S&P 500, it suggests that their investments are on par with the broader market. Conversely, underperforming the index may signal a need for strategy reassessment.\n",
    "\n",
    "### Part 1: Retrieving the S&P 500 Constituents\n",
    "\n",
    "The S&P 500 index is updated periodically, so the exact list of companies in the index may change over time. However, we can obtain the list of current S&P 500 companies from publicly available sources such as **Wikipedia**, which is regularly updated with the latest constituents.\n",
    "\n",
    "Each company in the S&P 500 is assigned a ticker symbol, which is used to uniquely identify it on stock exchanges. For example, the ticker for Apple Inc. is **AAPL**, while the ticker for Microsoft is **MSFT**.\n",
    "\n",
    "Once we retrieve the list of tickers, we can use these symbols to fetch market data and financial information for the companies included in the S&P 500.\n",
    "In addition, we will examine the sector segments of the S&P 500 constituents in terms of their proportions, as well as analyze their subindustry breakdowns. This will help us visualize the distribution of companies across sectors and subindustries, offering a clearer picture of the market composition. \n",
    "\n",
    "This Notebook was inspired primarily by the tutorial 'Stock Analysis with Yahoo Finance, Plotly, Pandas, and Pandas_Ta' by Adi Dror, which can be found on https://www.linkedin.com/pulse/stock-analysis-yahoo-finance-plotly-pandas-pandasta-adi-dror-udg3f/"
   ]
  },
  {
   "cell_type": "code",
   "execution_count": 1,
   "metadata": {},
   "outputs": [
    {
     "name": "stdout",
     "output_type": "stream",
     "text": [
      "  Symbol             Security             GICS Sector  \\\n",
      "0    MMM                   3M             Industrials   \n",
      "1    AOS          A. O. Smith             Industrials   \n",
      "2    ABT  Abbott Laboratories             Health Care   \n",
      "3   ABBV               AbbVie             Health Care   \n",
      "4    ACN            Accenture  Information Technology   \n",
      "\n",
      "                GICS Sub-Industry    Headquarters Location  Date added  \\\n",
      "0        Industrial Conglomerates    Saint Paul, Minnesota  1957-03-04   \n",
      "1               Building Products     Milwaukee, Wisconsin  2017-07-26   \n",
      "2           Health Care Equipment  North Chicago, Illinois  1957-03-04   \n",
      "3                   Biotechnology  North Chicago, Illinois  2012-12-31   \n",
      "4  IT Consulting & Other Services          Dublin, Ireland  2011-07-06   \n",
      "\n",
      "       CIK      Founded  \n",
      "0    66740         1902  \n",
      "1    91142         1916  \n",
      "2     1800         1888  \n",
      "3  1551152  2013 (1888)  \n",
      "4  1467373         1989  \n"
     ]
    }
   ],
   "source": [
    "import requests\n",
    "import pandas as pd\n",
    "from bs4 import BeautifulSoup\n",
    "from io import StringIO\n",
    "\n",
    "url = \"https://en.wikipedia.org/wiki/List_of_S%26P_500_companies\"\n",
    "\n",
    "# Fetch the page content\n",
    "response = requests.get(url, headers={\"User-Agent\": \"Mozilla/5.0\"})\n",
    "\n",
    "# Parse the HTML\n",
    "soup = BeautifulSoup(response.text, \"html.parser\")\n",
    "\n",
    "# Find the first table with the S&P 500 list\n",
    "table = soup.find(\"table\", {\"class\": \"wikitable\"})\n",
    "\n",
    "# Convert the HTML table to DataFrame\n",
    "table_html = str(table)\n",
    "SP_500_DF = pd.read_html(StringIO(table_html))[0]\n",
    "\n",
    "# Print the first few rows of the DataFrame\n",
    "print(SP_500_DF.head())\n"
   ]
  },
  {
   "cell_type": "code",
   "execution_count": 2,
   "metadata": {},
   "outputs": [
    {
     "data": {
      "text/plain": [
       "GICS Sector\n",
       "Industrials               0.155070\n",
       "Financials                0.145129\n",
       "Information Technology    0.137177\n",
       "Health Care               0.121272\n",
       "Consumer Discretionary    0.099404\n",
       "Consumer Staples          0.075547\n",
       "Utilities                 0.061630\n",
       "Real Estate               0.061630\n",
       "Materials                 0.055666\n",
       "Communication Services    0.043738\n",
       "Energy                    0.043738\n",
       "Name: proportion, dtype: float64"
      ]
     },
     "execution_count": 2,
     "metadata": {},
     "output_type": "execute_result"
    }
   ],
   "source": [
    "SECTOR_DISTRIBUTION=SP_500_DF['GICS Sector'].value_counts(normalize=True)\n",
    "SECTOR_DISTRIBUTION"
   ]
  },
  {
   "cell_type": "code",
   "execution_count": 3,
   "metadata": {},
   "outputs": [
    {
     "data": {
      "application/vnd.plotly.v1+json": {
       "config": {
        "plotlyServerURL": "https://plot.ly"
       },
       "data": [
        {
         "domain": {
          "x": [
           0,
           1
          ],
          "y": [
           0,
           1
          ]
         },
         "hovertemplate": "GICS Sector=%{label}<br>proportion=%{value}<extra></extra>",
         "labels": [
          "Industrials",
          "Financials",
          "Information Technology",
          "Health Care",
          "Consumer Discretionary",
          "Consumer Staples",
          "Utilities",
          "Real Estate",
          "Materials",
          "Communication Services",
          "Energy"
         ],
         "legendgroup": "",
         "name": "",
         "showlegend": true,
         "type": "pie",
         "values": {
          "bdata": "0Uq78FHZwz/xisksmJPCP6UkCJADj8E/GLAKrbQLvz91/eJOg3K5P6qXWqIHV7M/P2Nr+/6Nrz8/Y2v7/o2vP1owJyVBgKw/kMqeeMVkpj+Qyp54xWSmPw==",
          "dtype": "f8"
         }
        }
       ],
       "layout": {
        "legend": {
         "tracegroupgap": 0
        },
        "template": {
         "data": {
          "bar": [
           {
            "error_x": {
             "color": "#2a3f5f"
            },
            "error_y": {
             "color": "#2a3f5f"
            },
            "marker": {
             "line": {
              "color": "#E5ECF6",
              "width": 0.5
             },
             "pattern": {
              "fillmode": "overlay",
              "size": 10,
              "solidity": 0.2
             }
            },
            "type": "bar"
           }
          ],
          "barpolar": [
           {
            "marker": {
             "line": {
              "color": "#E5ECF6",
              "width": 0.5
             },
             "pattern": {
              "fillmode": "overlay",
              "size": 10,
              "solidity": 0.2
             }
            },
            "type": "barpolar"
           }
          ],
          "carpet": [
           {
            "aaxis": {
             "endlinecolor": "#2a3f5f",
             "gridcolor": "white",
             "linecolor": "white",
             "minorgridcolor": "white",
             "startlinecolor": "#2a3f5f"
            },
            "baxis": {
             "endlinecolor": "#2a3f5f",
             "gridcolor": "white",
             "linecolor": "white",
             "minorgridcolor": "white",
             "startlinecolor": "#2a3f5f"
            },
            "type": "carpet"
           }
          ],
          "choropleth": [
           {
            "colorbar": {
             "outlinewidth": 0,
             "ticks": ""
            },
            "type": "choropleth"
           }
          ],
          "contour": [
           {
            "colorbar": {
             "outlinewidth": 0,
             "ticks": ""
            },
            "colorscale": [
             [
              0,
              "#0d0887"
             ],
             [
              0.1111111111111111,
              "#46039f"
             ],
             [
              0.2222222222222222,
              "#7201a8"
             ],
             [
              0.3333333333333333,
              "#9c179e"
             ],
             [
              0.4444444444444444,
              "#bd3786"
             ],
             [
              0.5555555555555556,
              "#d8576b"
             ],
             [
              0.6666666666666666,
              "#ed7953"
             ],
             [
              0.7777777777777778,
              "#fb9f3a"
             ],
             [
              0.8888888888888888,
              "#fdca26"
             ],
             [
              1,
              "#f0f921"
             ]
            ],
            "type": "contour"
           }
          ],
          "contourcarpet": [
           {
            "colorbar": {
             "outlinewidth": 0,
             "ticks": ""
            },
            "type": "contourcarpet"
           }
          ],
          "heatmap": [
           {
            "colorbar": {
             "outlinewidth": 0,
             "ticks": ""
            },
            "colorscale": [
             [
              0,
              "#0d0887"
             ],
             [
              0.1111111111111111,
              "#46039f"
             ],
             [
              0.2222222222222222,
              "#7201a8"
             ],
             [
              0.3333333333333333,
              "#9c179e"
             ],
             [
              0.4444444444444444,
              "#bd3786"
             ],
             [
              0.5555555555555556,
              "#d8576b"
             ],
             [
              0.6666666666666666,
              "#ed7953"
             ],
             [
              0.7777777777777778,
              "#fb9f3a"
             ],
             [
              0.8888888888888888,
              "#fdca26"
             ],
             [
              1,
              "#f0f921"
             ]
            ],
            "type": "heatmap"
           }
          ],
          "histogram": [
           {
            "marker": {
             "pattern": {
              "fillmode": "overlay",
              "size": 10,
              "solidity": 0.2
             }
            },
            "type": "histogram"
           }
          ],
          "histogram2d": [
           {
            "colorbar": {
             "outlinewidth": 0,
             "ticks": ""
            },
            "colorscale": [
             [
              0,
              "#0d0887"
             ],
             [
              0.1111111111111111,
              "#46039f"
             ],
             [
              0.2222222222222222,
              "#7201a8"
             ],
             [
              0.3333333333333333,
              "#9c179e"
             ],
             [
              0.4444444444444444,
              "#bd3786"
             ],
             [
              0.5555555555555556,
              "#d8576b"
             ],
             [
              0.6666666666666666,
              "#ed7953"
             ],
             [
              0.7777777777777778,
              "#fb9f3a"
             ],
             [
              0.8888888888888888,
              "#fdca26"
             ],
             [
              1,
              "#f0f921"
             ]
            ],
            "type": "histogram2d"
           }
          ],
          "histogram2dcontour": [
           {
            "colorbar": {
             "outlinewidth": 0,
             "ticks": ""
            },
            "colorscale": [
             [
              0,
              "#0d0887"
             ],
             [
              0.1111111111111111,
              "#46039f"
             ],
             [
              0.2222222222222222,
              "#7201a8"
             ],
             [
              0.3333333333333333,
              "#9c179e"
             ],
             [
              0.4444444444444444,
              "#bd3786"
             ],
             [
              0.5555555555555556,
              "#d8576b"
             ],
             [
              0.6666666666666666,
              "#ed7953"
             ],
             [
              0.7777777777777778,
              "#fb9f3a"
             ],
             [
              0.8888888888888888,
              "#fdca26"
             ],
             [
              1,
              "#f0f921"
             ]
            ],
            "type": "histogram2dcontour"
           }
          ],
          "mesh3d": [
           {
            "colorbar": {
             "outlinewidth": 0,
             "ticks": ""
            },
            "type": "mesh3d"
           }
          ],
          "parcoords": [
           {
            "line": {
             "colorbar": {
              "outlinewidth": 0,
              "ticks": ""
             }
            },
            "type": "parcoords"
           }
          ],
          "pie": [
           {
            "automargin": true,
            "type": "pie"
           }
          ],
          "scatter": [
           {
            "fillpattern": {
             "fillmode": "overlay",
             "size": 10,
             "solidity": 0.2
            },
            "type": "scatter"
           }
          ],
          "scatter3d": [
           {
            "line": {
             "colorbar": {
              "outlinewidth": 0,
              "ticks": ""
             }
            },
            "marker": {
             "colorbar": {
              "outlinewidth": 0,
              "ticks": ""
             }
            },
            "type": "scatter3d"
           }
          ],
          "scattercarpet": [
           {
            "marker": {
             "colorbar": {
              "outlinewidth": 0,
              "ticks": ""
             }
            },
            "type": "scattercarpet"
           }
          ],
          "scattergeo": [
           {
            "marker": {
             "colorbar": {
              "outlinewidth": 0,
              "ticks": ""
             }
            },
            "type": "scattergeo"
           }
          ],
          "scattergl": [
           {
            "marker": {
             "colorbar": {
              "outlinewidth": 0,
              "ticks": ""
             }
            },
            "type": "scattergl"
           }
          ],
          "scattermap": [
           {
            "marker": {
             "colorbar": {
              "outlinewidth": 0,
              "ticks": ""
             }
            },
            "type": "scattermap"
           }
          ],
          "scattermapbox": [
           {
            "marker": {
             "colorbar": {
              "outlinewidth": 0,
              "ticks": ""
             }
            },
            "type": "scattermapbox"
           }
          ],
          "scatterpolar": [
           {
            "marker": {
             "colorbar": {
              "outlinewidth": 0,
              "ticks": ""
             }
            },
            "type": "scatterpolar"
           }
          ],
          "scatterpolargl": [
           {
            "marker": {
             "colorbar": {
              "outlinewidth": 0,
              "ticks": ""
             }
            },
            "type": "scatterpolargl"
           }
          ],
          "scatterternary": [
           {
            "marker": {
             "colorbar": {
              "outlinewidth": 0,
              "ticks": ""
             }
            },
            "type": "scatterternary"
           }
          ],
          "surface": [
           {
            "colorbar": {
             "outlinewidth": 0,
             "ticks": ""
            },
            "colorscale": [
             [
              0,
              "#0d0887"
             ],
             [
              0.1111111111111111,
              "#46039f"
             ],
             [
              0.2222222222222222,
              "#7201a8"
             ],
             [
              0.3333333333333333,
              "#9c179e"
             ],
             [
              0.4444444444444444,
              "#bd3786"
             ],
             [
              0.5555555555555556,
              "#d8576b"
             ],
             [
              0.6666666666666666,
              "#ed7953"
             ],
             [
              0.7777777777777778,
              "#fb9f3a"
             ],
             [
              0.8888888888888888,
              "#fdca26"
             ],
             [
              1,
              "#f0f921"
             ]
            ],
            "type": "surface"
           }
          ],
          "table": [
           {
            "cells": {
             "fill": {
              "color": "#EBF0F8"
             },
             "line": {
              "color": "white"
             }
            },
            "header": {
             "fill": {
              "color": "#C8D4E3"
             },
             "line": {
              "color": "white"
             }
            },
            "type": "table"
           }
          ]
         },
         "layout": {
          "annotationdefaults": {
           "arrowcolor": "#2a3f5f",
           "arrowhead": 0,
           "arrowwidth": 1
          },
          "autotypenumbers": "strict",
          "coloraxis": {
           "colorbar": {
            "outlinewidth": 0,
            "ticks": ""
           }
          },
          "colorscale": {
           "diverging": [
            [
             0,
             "#8e0152"
            ],
            [
             0.1,
             "#c51b7d"
            ],
            [
             0.2,
             "#de77ae"
            ],
            [
             0.3,
             "#f1b6da"
            ],
            [
             0.4,
             "#fde0ef"
            ],
            [
             0.5,
             "#f7f7f7"
            ],
            [
             0.6,
             "#e6f5d0"
            ],
            [
             0.7,
             "#b8e186"
            ],
            [
             0.8,
             "#7fbc41"
            ],
            [
             0.9,
             "#4d9221"
            ],
            [
             1,
             "#276419"
            ]
           ],
           "sequential": [
            [
             0,
             "#0d0887"
            ],
            [
             0.1111111111111111,
             "#46039f"
            ],
            [
             0.2222222222222222,
             "#7201a8"
            ],
            [
             0.3333333333333333,
             "#9c179e"
            ],
            [
             0.4444444444444444,
             "#bd3786"
            ],
            [
             0.5555555555555556,
             "#d8576b"
            ],
            [
             0.6666666666666666,
             "#ed7953"
            ],
            [
             0.7777777777777778,
             "#fb9f3a"
            ],
            [
             0.8888888888888888,
             "#fdca26"
            ],
            [
             1,
             "#f0f921"
            ]
           ],
           "sequentialminus": [
            [
             0,
             "#0d0887"
            ],
            [
             0.1111111111111111,
             "#46039f"
            ],
            [
             0.2222222222222222,
             "#7201a8"
            ],
            [
             0.3333333333333333,
             "#9c179e"
            ],
            [
             0.4444444444444444,
             "#bd3786"
            ],
            [
             0.5555555555555556,
             "#d8576b"
            ],
            [
             0.6666666666666666,
             "#ed7953"
            ],
            [
             0.7777777777777778,
             "#fb9f3a"
            ],
            [
             0.8888888888888888,
             "#fdca26"
            ],
            [
             1,
             "#f0f921"
            ]
           ]
          },
          "colorway": [
           "#636efa",
           "#EF553B",
           "#00cc96",
           "#ab63fa",
           "#FFA15A",
           "#19d3f3",
           "#FF6692",
           "#B6E880",
           "#FF97FF",
           "#FECB52"
          ],
          "font": {
           "color": "#2a3f5f"
          },
          "geo": {
           "bgcolor": "white",
           "lakecolor": "white",
           "landcolor": "#E5ECF6",
           "showlakes": true,
           "showland": true,
           "subunitcolor": "white"
          },
          "hoverlabel": {
           "align": "left"
          },
          "hovermode": "closest",
          "mapbox": {
           "style": "light"
          },
          "paper_bgcolor": "white",
          "plot_bgcolor": "#E5ECF6",
          "polar": {
           "angularaxis": {
            "gridcolor": "white",
            "linecolor": "white",
            "ticks": ""
           },
           "bgcolor": "#E5ECF6",
           "radialaxis": {
            "gridcolor": "white",
            "linecolor": "white",
            "ticks": ""
           }
          },
          "scene": {
           "xaxis": {
            "backgroundcolor": "#E5ECF6",
            "gridcolor": "white",
            "gridwidth": 2,
            "linecolor": "white",
            "showbackground": true,
            "ticks": "",
            "zerolinecolor": "white"
           },
           "yaxis": {
            "backgroundcolor": "#E5ECF6",
            "gridcolor": "white",
            "gridwidth": 2,
            "linecolor": "white",
            "showbackground": true,
            "ticks": "",
            "zerolinecolor": "white"
           },
           "zaxis": {
            "backgroundcolor": "#E5ECF6",
            "gridcolor": "white",
            "gridwidth": 2,
            "linecolor": "white",
            "showbackground": true,
            "ticks": "",
            "zerolinecolor": "white"
           }
          },
          "shapedefaults": {
           "line": {
            "color": "#2a3f5f"
           }
          },
          "ternary": {
           "aaxis": {
            "gridcolor": "white",
            "linecolor": "white",
            "ticks": ""
           },
           "baxis": {
            "gridcolor": "white",
            "linecolor": "white",
            "ticks": ""
           },
           "bgcolor": "#E5ECF6",
           "caxis": {
            "gridcolor": "white",
            "linecolor": "white",
            "ticks": ""
           }
          },
          "title": {
           "x": 0.05
          },
          "xaxis": {
           "automargin": true,
           "gridcolor": "white",
           "linecolor": "white",
           "ticks": "",
           "title": {
            "standoff": 15
           },
           "zerolinecolor": "white",
           "zerolinewidth": 2
          },
          "yaxis": {
           "automargin": true,
           "gridcolor": "white",
           "linecolor": "white",
           "ticks": "",
           "title": {
            "standoff": 15
           },
           "zerolinecolor": "white",
           "zerolinewidth": 2
          }
         }
        },
        "title": {
         "text": "GICS Sector Breakdown"
        }
       }
      }
     },
     "metadata": {},
     "output_type": "display_data"
    }
   ],
   "source": [
    "import plotly.express as px \n",
    "\n",
    "px.pie(SECTOR_DISTRIBUTION.reset_index(), values='proportion',names='GICS Sector',title='GICS Sector Breakdown')"
   ]
  },
  {
   "cell_type": "code",
   "execution_count": 4,
   "metadata": {},
   "outputs": [
    {
     "data": {
      "text/plain": [
       "GICS Sector             GICS Sub-Industry                           \n",
       "Health Care             Health Care Equipment                           0.035785\n",
       "Utilities               Electric Utilities                              0.029821\n",
       "Information Technology  Semiconductors                                  0.027833\n",
       "Industrials             Industrial Machinery & Supplies & Components    0.027833\n",
       "                        Aerospace & Defense                             0.023857\n",
       "                                                                          ...   \n",
       "                        Heavy Electrical Equipment                      0.001988\n",
       "                        Passenger Ground Transportation                 0.001988\n",
       "Information Technology  Technology Distributors                         0.001988\n",
       "Materials               Commodity Chemicals                             0.001988\n",
       "Utilities               Water Utilities                                 0.001988\n",
       "Name: proportion, Length: 127, dtype: float64"
      ]
     },
     "execution_count": 4,
     "metadata": {},
     "output_type": "execute_result"
    }
   ],
   "source": [
    "SECTOR_INDUSTRY_DISTRIBUTION=SP_500_DF[['GICS Sector','GICS Sub-Industry']].value_counts(normalize=True)\n",
    "SECTOR_INDUSTRY_DISTRIBUTION"
   ]
  },
  {
   "cell_type": "code",
   "execution_count": 5,
   "metadata": {},
   "outputs": [
    {
     "data": {
      "application/vnd.plotly.v1+json": {
       "config": {
        "plotlyServerURL": "https://plot.ly"
       },
       "data": [
        {
         "domain": {
          "x": [
           0,
           0.31999999999999995
          ],
          "y": [
           0.8025,
           1
          ]
         },
         "hovertemplate": "GICS Sector=Health Care<br>GICS Sub-Industry=%{label}<br>proportion=%{value}<extra></extra>",
         "labels": [
          "Health Care Equipment",
          "Life Sciences Tools & Services",
          "Biotechnology",
          "Pharmaceuticals",
          "Managed Health Care",
          "Health Care Services",
          "Health Care Distributors",
          "Health Care Supplies",
          "Health Care Facilities",
          "Health Care Technology"
         ],
         "legendgroup": "",
         "name": "",
         "showlegend": true,
         "type": "pie",
         "values": {
          "bdata": "XjGZBXNSoj/FZBbMSUmQP8VkFsxJSZA/WjAnJUGAjD/3/Rs/nFuEP/f9Gz+cW4Q/xWQWzElJgD8olyGy7m14P8VkFsxJSXA/xWQWzElJYD8=",
          "dtype": "f8"
         }
        },
        {
         "domain": {
          "x": [
           0.33999999999999997,
           0.6599999999999999
          ],
          "y": [
           0.8025,
           1
          ]
         },
         "hovertemplate": "GICS Sector=Utilities<br>GICS Sub-Industry=%{label}<br>proportion=%{value}<extra></extra>",
         "labels": [
          "Electric Utilities",
          "Multi-Utilities",
          "Independent Power Producers & Energy Traders",
          "Gas Utilities",
          "Water Utilities"
         ],
         "legendgroup": "",
         "name": "",
         "showlegend": true,
         "type": "pie",
         "values": {
          "bdata": "8vypXmqJnj8olyGy7m2YP8VkFsxJSXA/xWQWzElJYD/FZBbMSUlgPw==",
          "dtype": "f8"
         }
        },
        {
         "domain": {
          "x": [
           0.6799999999999999,
           0.9999999999999999
          ],
          "y": [
           0.8025,
           1
          ]
         },
         "hovertemplate": "GICS Sector=Information Technology<br>GICS Sub-Industry=%{label}<br>proportion=%{value}<extra></extra>",
         "labels": [
          "Semiconductors",
          "Application Software",
          "Technology Hardware, Storage & Peripherals",
          "Systems Software",
          "Communications Equipment",
          "Electronic Equipment & Instruments",
          "IT Consulting & Other Services",
          "Semiconductor Materials & Equipment",
          "Internet Services & Infrastructure",
          "Electronic Components",
          "Electronic Manufacturing Services",
          "Technology Distributors"
         ],
         "legendgroup": "",
         "name": "",
         "showlegend": true,
         "type": "pie",
         "values": {
          "bdata": "WjAnJUGAnD8olyGy7m2YP8VkFsxJSZA/KJchsu5tiD/3/Rs/nFuEP/f9Gz+cW4Q/9/0bP5xbhD/3/Rs/nFuEP8VkFsxJSYA/xWQWzElJcD/FZBbMSUlwP8VkFsxJSWA/",
          "dtype": "f8"
         }
        },
        {
         "domain": {
          "x": [
           0,
           0.31999999999999995
          ],
          "y": [
           0.535,
           0.7325
          ]
         },
         "hovertemplate": "GICS Sector=Industrials<br>GICS Sub-Industry=%{label}<br>proportion=%{value}<extra></extra>",
         "labels": [
          "Industrial Machinery & Supplies & Components",
          "Aerospace & Defense",
          "Building Products",
          "Electrical Components & Equipment",
          "Human Resource & Employment Services",
          "Construction Machinery & Heavy Transportation Equipment",
          "Air Freight & Logistics",
          "Environmental & Facilities Services",
          "Diversified Support Services",
          "Passenger Airlines",
          "Rail Transportation",
          "Trading Companies & Distributors",
          "Industrial Conglomerates",
          "Research & Consulting Services",
          "Construction & Engineering",
          "Cargo Ground Transportation",
          "Agricultural & Farm Machinery",
          "Data Processing & Outsourced Services",
          "Heavy Electrical Equipment",
          "Passenger Ground Transportation"
         ],
         "legendgroup": "",
         "name": "",
         "showlegend": true,
         "type": "pie",
         "values": {
          "bdata": "WjAnJUGAnD8olyGy7m2YP8VkFsxJSZA/9/0bP5xbhD/FZBbMSUmAP8VkFsxJSYA/xWQWzElJgD/FZBbMSUmAPyiXIbLubXg/KJchsu5teD8olyGy7m14P8VkFsxJSXA/xWQWzElJcD/FZBbMSUlwP8VkFsxJSXA/xWQWzElJcD/FZBbMSUlgP8VkFsxJSWA/xWQWzElJYD/FZBbMSUlgPw==",
          "dtype": "f8"
         }
        },
        {
         "domain": {
          "x": [
           0.33999999999999997,
           0.6599999999999999
          ],
          "y": [
           0.535,
           0.7325
          ]
         },
         "hovertemplate": "GICS Sector=Consumer Staples<br>GICS Sub-Industry=%{label}<br>proportion=%{value}<extra></extra>",
         "labels": [
          "Packaged Foods & Meats",
          "Consumer Staples Merchandise Retail",
          "Soft Drinks & Non-alcoholic Beverages",
          "Household Products",
          "Personal Care Products",
          "Agricultural Products & Services",
          "Distillers & Vintners",
          "Tobacco",
          "Food Distributors",
          "Brewers",
          "Drug Retail",
          "Food Retail"
         ],
         "legendgroup": "",
         "name": "",
         "showlegend": true,
         "type": "pie",
         "values": {
          "bdata": "KJchsu5tmD/3/Rs/nFuEP8VkFsxJSYA/xWQWzElJgD8olyGy7m14P8VkFsxJSXA/xWQWzElJcD/FZBbMSUlwP8VkFsxJSWA/xWQWzElJYD/FZBbMSUlgP8VkFsxJSWA/",
          "dtype": "f8"
         }
        },
        {
         "domain": {
          "x": [
           0.6799999999999999,
           0.9999999999999999
          ],
          "y": [
           0.535,
           0.7325
          ]
         },
         "hovertemplate": "GICS Sector=Financials<br>GICS Sub-Industry=%{label}<br>proportion=%{value}<extra></extra>",
         "labels": [
          "Asset Management & Custody Banks",
          "Financial Exchanges & Data",
          "Property & Casualty Insurance",
          "Transaction & Payment Processing Services",
          "Diversified Banks",
          "Regional Banks",
          "Insurance Brokers",
          "Life & Health Insurance",
          "Investment Banking & Brokerage",
          "Consumer Finance",
          "Multi-line Insurance",
          "Multi-Sector Holdings",
          "Reinsurance"
         ],
         "legendgroup": "",
         "name": "",
         "showlegend": true,
         "type": "pie",
         "values": {
          "bdata": "kMqeeMVklj9eMZkFc1KSP8VkFsxJSZA/xWQWzElJkD9aMCclQYCMPyiXIbLubYg/KJchsu5tiD/3/Rs/nFuEP8VkFsxJSYA/xWQWzElJgD8olyGy7m14P8VkFsxJSWA/xWQWzElJYD8=",
          "dtype": "f8"
         }
        },
        {
         "domain": {
          "x": [
           0,
           0.31999999999999995
          ],
          "y": [
           0.2675,
           0.465
          ]
         },
         "hovertemplate": "GICS Sector=Energy<br>GICS Sub-Industry=%{label}<br>proportion=%{value}<extra></extra>",
         "labels": [
          "Oil & Gas Exploration & Production",
          "Oil & Gas Storage & Transportation",
          "Integrated Oil & Gas",
          "Oil & Gas Equipment & Services",
          "Oil & Gas Refining & Marketing"
         ],
         "legendgroup": "",
         "name": "",
         "showlegend": true,
         "type": "pie",
         "values": {
          "bdata": "XjGZBXNSkj/FZBbMSUmAPyiXIbLubXg/KJchsu5teD8olyGy7m14Pw==",
          "dtype": "f8"
         }
        },
        {
         "domain": {
          "x": [
           0.33999999999999997,
           0.6599999999999999
          ],
          "y": [
           0.2675,
           0.465
          ]
         },
         "hovertemplate": "GICS Sector=Materials<br>GICS Sub-Industry=%{label}<br>proportion=%{value}<extra></extra>",
         "labels": [
          "Specialty Chemicals",
          "Paper & Plastic Packaging Products & Materials",
          "Fertilizers & Agricultural Chemicals",
          "Steel",
          "Construction Materials",
          "Industrial Gases",
          "Metal, Glass & Plastic Containers",
          "Gold",
          "Copper",
          "Commodity Chemicals"
         ],
         "legendgroup": "",
         "name": "",
         "showlegend": true,
         "type": "pie",
         "values": {
          "bdata": "XjGZBXNSkj/3/Rs/nFuEP8VkFsxJSYA/xWQWzElJcD/FZBbMSUlwP8VkFsxJSXA/xWQWzElJYD/FZBbMSUlgP8VkFsxJSWA/xWQWzElJYD8=",
          "dtype": "f8"
         }
        },
        {
         "domain": {
          "x": [
           0.6799999999999999,
           0.9999999999999999
          ],
          "y": [
           0.2675,
           0.465
          ]
         },
         "hovertemplate": "GICS Sector=Consumer Discretionary<br>GICS Sub-Industry=%{label}<br>proportion=%{value}<extra></extra>",
         "labels": [
          "Hotels, Resorts & Cruise Lines",
          "Restaurants",
          "Apparel, Accessories & Luxury Goods",
          "Casinos & Gaming",
          "Homebuilding",
          "Automobile Manufacturers",
          "Automotive Retail",
          "Distributors",
          "Other Specialty Retail",
          "Apparel Retail",
          "Automotive Parts & Equipment",
          "Broadline Retail",
          "Home Improvement Retail",
          "Computer & Electronics Retail",
          "Consumer Electronics",
          "Footwear",
          "Home Furnishings",
          "Leisure Products"
         ],
         "legendgroup": "",
         "name": "",
         "showlegend": true,
         "type": "pie",
         "values": {
          "bdata": "xWQWzElJkD8olyGy7m2IP8VkFsxJSYA/xWQWzElJgD/FZBbMSUmAPyiXIbLubXg/KJchsu5teD8olyGy7m14P8VkFsxJSXA/xWQWzElJcD/FZBbMSUlwP8VkFsxJSXA/xWQWzElJcD/FZBbMSUlgP8VkFsxJSWA/xWQWzElJYD/FZBbMSUlgP8VkFsxJSWA/",
          "dtype": "f8"
         }
        },
        {
         "domain": {
          "x": [
           0,
           0.31999999999999995
          ],
          "y": [
           0,
           0.1975
          ]
         },
         "hovertemplate": "GICS Sector=Real Estate<br>GICS Sub-Industry=%{label}<br>proportion=%{value}<extra></extra>",
         "labels": [
          "Multi-Family Residential REITs",
          "Retail REITs",
          "Health Care REITs",
          "Telecom Tower REITs",
          "Hotel & Resort REITs",
          "Data Center REITs",
          "Self-Storage REITs",
          "Real Estate Services",
          "Office REITs",
          "Single-Family Residential REITs",
          "Timber REITs",
          "Other Specialized REITs",
          "Industrial REITs"
         ],
         "legendgroup": "",
         "name": "",
         "showlegend": true,
         "type": "pie",
         "values": {
          "bdata": "KJchsu5tiD/3/Rs/nFuEPyiXIbLubXg/KJchsu5teD/FZBbMSUlwP8VkFsxJSXA/xWQWzElJcD/FZBbMSUlwP8VkFsxJSXA/xWQWzElJYD/FZBbMSUlgP8VkFsxJSWA/xWQWzElJYD8=",
          "dtype": "f8"
         }
        },
        {
         "domain": {
          "x": [
           0.33999999999999997,
           0.6599999999999999
          ],
          "y": [
           0,
           0.1975
          ]
         },
         "hovertemplate": "GICS Sector=Communication Services<br>GICS Sub-Industry=%{label}<br>proportion=%{value}<extra></extra>",
         "labels": [
          "Interactive Media & Services",
          "Movies & Entertainment",
          "Broadcasting",
          "Advertising",
          "Cable & Satellite",
          "Integrated Telecommunication Services",
          "Interactive Home Entertainment",
          "Publishing",
          "Wireless Telecommunication Services"
         ],
         "legendgroup": "",
         "name": "",
         "showlegend": true,
         "type": "pie",
         "values": {
          "bdata": "xWQWzElJgD/FZBbMSUmAPyiXIbLubXg/xWQWzElJcD/FZBbMSUlwP8VkFsxJSXA/xWQWzElJcD/FZBbMSUlwP8VkFsxJSWA/",
          "dtype": "f8"
         }
        }
       ],
       "layout": {
        "annotations": [
         {
          "font": {},
          "showarrow": false,
          "text": "GICS Sector=Real Estate",
          "x": 0.15999999999999998,
          "xanchor": "center",
          "xref": "paper",
          "y": 0.1975,
          "yanchor": "bottom",
          "yref": "paper"
         },
         {
          "font": {},
          "showarrow": false,
          "text": "GICS Sector=Communication Services",
          "x": 0.49999999999999994,
          "xanchor": "center",
          "xref": "paper",
          "y": 0.1975,
          "yanchor": "bottom",
          "yref": "paper"
         },
         {
          "font": {},
          "showarrow": false,
          "text": "GICS Sector=Energy",
          "x": 0.15999999999999998,
          "xanchor": "center",
          "xref": "paper",
          "y": 0.465,
          "yanchor": "bottom",
          "yref": "paper"
         },
         {
          "font": {},
          "showarrow": false,
          "text": "GICS Sector=Materials",
          "x": 0.49999999999999994,
          "xanchor": "center",
          "xref": "paper",
          "y": 0.465,
          "yanchor": "bottom",
          "yref": "paper"
         },
         {
          "font": {},
          "showarrow": false,
          "text": "GICS Sector=Consumer Discretionary",
          "x": 0.8399999999999999,
          "xanchor": "center",
          "xref": "paper",
          "y": 0.465,
          "yanchor": "bottom",
          "yref": "paper"
         },
         {
          "font": {},
          "showarrow": false,
          "text": "GICS Sector=Industrials",
          "x": 0.15999999999999998,
          "xanchor": "center",
          "xref": "paper",
          "y": 0.7325,
          "yanchor": "bottom",
          "yref": "paper"
         },
         {
          "font": {},
          "showarrow": false,
          "text": "GICS Sector=Consumer Staples",
          "x": 0.49999999999999994,
          "xanchor": "center",
          "xref": "paper",
          "y": 0.7325,
          "yanchor": "bottom",
          "yref": "paper"
         },
         {
          "font": {},
          "showarrow": false,
          "text": "GICS Sector=Financials",
          "x": 0.8399999999999999,
          "xanchor": "center",
          "xref": "paper",
          "y": 0.7325,
          "yanchor": "bottom",
          "yref": "paper"
         },
         {
          "font": {},
          "showarrow": false,
          "text": "GICS Sector=Health Care",
          "x": 0.15999999999999998,
          "xanchor": "center",
          "xref": "paper",
          "y": 1,
          "yanchor": "bottom",
          "yref": "paper"
         },
         {
          "font": {},
          "showarrow": false,
          "text": "GICS Sector=Utilities",
          "x": 0.49999999999999994,
          "xanchor": "center",
          "xref": "paper",
          "y": 1,
          "yanchor": "bottom",
          "yref": "paper"
         },
         {
          "font": {},
          "showarrow": false,
          "text": "GICS Sector=Information Technology",
          "x": 0.8399999999999999,
          "xanchor": "center",
          "xref": "paper",
          "y": 1,
          "yanchor": "bottom",
          "yref": "paper"
         }
        ],
        "height": 800,
        "legend": {
         "tracegroupgap": 0
        },
        "template": {
         "data": {
          "bar": [
           {
            "error_x": {
             "color": "#2a3f5f"
            },
            "error_y": {
             "color": "#2a3f5f"
            },
            "marker": {
             "line": {
              "color": "#E5ECF6",
              "width": 0.5
             },
             "pattern": {
              "fillmode": "overlay",
              "size": 10,
              "solidity": 0.2
             }
            },
            "type": "bar"
           }
          ],
          "barpolar": [
           {
            "marker": {
             "line": {
              "color": "#E5ECF6",
              "width": 0.5
             },
             "pattern": {
              "fillmode": "overlay",
              "size": 10,
              "solidity": 0.2
             }
            },
            "type": "barpolar"
           }
          ],
          "carpet": [
           {
            "aaxis": {
             "endlinecolor": "#2a3f5f",
             "gridcolor": "white",
             "linecolor": "white",
             "minorgridcolor": "white",
             "startlinecolor": "#2a3f5f"
            },
            "baxis": {
             "endlinecolor": "#2a3f5f",
             "gridcolor": "white",
             "linecolor": "white",
             "minorgridcolor": "white",
             "startlinecolor": "#2a3f5f"
            },
            "type": "carpet"
           }
          ],
          "choropleth": [
           {
            "colorbar": {
             "outlinewidth": 0,
             "ticks": ""
            },
            "type": "choropleth"
           }
          ],
          "contour": [
           {
            "colorbar": {
             "outlinewidth": 0,
             "ticks": ""
            },
            "colorscale": [
             [
              0,
              "#0d0887"
             ],
             [
              0.1111111111111111,
              "#46039f"
             ],
             [
              0.2222222222222222,
              "#7201a8"
             ],
             [
              0.3333333333333333,
              "#9c179e"
             ],
             [
              0.4444444444444444,
              "#bd3786"
             ],
             [
              0.5555555555555556,
              "#d8576b"
             ],
             [
              0.6666666666666666,
              "#ed7953"
             ],
             [
              0.7777777777777778,
              "#fb9f3a"
             ],
             [
              0.8888888888888888,
              "#fdca26"
             ],
             [
              1,
              "#f0f921"
             ]
            ],
            "type": "contour"
           }
          ],
          "contourcarpet": [
           {
            "colorbar": {
             "outlinewidth": 0,
             "ticks": ""
            },
            "type": "contourcarpet"
           }
          ],
          "heatmap": [
           {
            "colorbar": {
             "outlinewidth": 0,
             "ticks": ""
            },
            "colorscale": [
             [
              0,
              "#0d0887"
             ],
             [
              0.1111111111111111,
              "#46039f"
             ],
             [
              0.2222222222222222,
              "#7201a8"
             ],
             [
              0.3333333333333333,
              "#9c179e"
             ],
             [
              0.4444444444444444,
              "#bd3786"
             ],
             [
              0.5555555555555556,
              "#d8576b"
             ],
             [
              0.6666666666666666,
              "#ed7953"
             ],
             [
              0.7777777777777778,
              "#fb9f3a"
             ],
             [
              0.8888888888888888,
              "#fdca26"
             ],
             [
              1,
              "#f0f921"
             ]
            ],
            "type": "heatmap"
           }
          ],
          "histogram": [
           {
            "marker": {
             "pattern": {
              "fillmode": "overlay",
              "size": 10,
              "solidity": 0.2
             }
            },
            "type": "histogram"
           }
          ],
          "histogram2d": [
           {
            "colorbar": {
             "outlinewidth": 0,
             "ticks": ""
            },
            "colorscale": [
             [
              0,
              "#0d0887"
             ],
             [
              0.1111111111111111,
              "#46039f"
             ],
             [
              0.2222222222222222,
              "#7201a8"
             ],
             [
              0.3333333333333333,
              "#9c179e"
             ],
             [
              0.4444444444444444,
              "#bd3786"
             ],
             [
              0.5555555555555556,
              "#d8576b"
             ],
             [
              0.6666666666666666,
              "#ed7953"
             ],
             [
              0.7777777777777778,
              "#fb9f3a"
             ],
             [
              0.8888888888888888,
              "#fdca26"
             ],
             [
              1,
              "#f0f921"
             ]
            ],
            "type": "histogram2d"
           }
          ],
          "histogram2dcontour": [
           {
            "colorbar": {
             "outlinewidth": 0,
             "ticks": ""
            },
            "colorscale": [
             [
              0,
              "#0d0887"
             ],
             [
              0.1111111111111111,
              "#46039f"
             ],
             [
              0.2222222222222222,
              "#7201a8"
             ],
             [
              0.3333333333333333,
              "#9c179e"
             ],
             [
              0.4444444444444444,
              "#bd3786"
             ],
             [
              0.5555555555555556,
              "#d8576b"
             ],
             [
              0.6666666666666666,
              "#ed7953"
             ],
             [
              0.7777777777777778,
              "#fb9f3a"
             ],
             [
              0.8888888888888888,
              "#fdca26"
             ],
             [
              1,
              "#f0f921"
             ]
            ],
            "type": "histogram2dcontour"
           }
          ],
          "mesh3d": [
           {
            "colorbar": {
             "outlinewidth": 0,
             "ticks": ""
            },
            "type": "mesh3d"
           }
          ],
          "parcoords": [
           {
            "line": {
             "colorbar": {
              "outlinewidth": 0,
              "ticks": ""
             }
            },
            "type": "parcoords"
           }
          ],
          "pie": [
           {
            "automargin": true,
            "type": "pie"
           }
          ],
          "scatter": [
           {
            "fillpattern": {
             "fillmode": "overlay",
             "size": 10,
             "solidity": 0.2
            },
            "type": "scatter"
           }
          ],
          "scatter3d": [
           {
            "line": {
             "colorbar": {
              "outlinewidth": 0,
              "ticks": ""
             }
            },
            "marker": {
             "colorbar": {
              "outlinewidth": 0,
              "ticks": ""
             }
            },
            "type": "scatter3d"
           }
          ],
          "scattercarpet": [
           {
            "marker": {
             "colorbar": {
              "outlinewidth": 0,
              "ticks": ""
             }
            },
            "type": "scattercarpet"
           }
          ],
          "scattergeo": [
           {
            "marker": {
             "colorbar": {
              "outlinewidth": 0,
              "ticks": ""
             }
            },
            "type": "scattergeo"
           }
          ],
          "scattergl": [
           {
            "marker": {
             "colorbar": {
              "outlinewidth": 0,
              "ticks": ""
             }
            },
            "type": "scattergl"
           }
          ],
          "scattermap": [
           {
            "marker": {
             "colorbar": {
              "outlinewidth": 0,
              "ticks": ""
             }
            },
            "type": "scattermap"
           }
          ],
          "scattermapbox": [
           {
            "marker": {
             "colorbar": {
              "outlinewidth": 0,
              "ticks": ""
             }
            },
            "type": "scattermapbox"
           }
          ],
          "scatterpolar": [
           {
            "marker": {
             "colorbar": {
              "outlinewidth": 0,
              "ticks": ""
             }
            },
            "type": "scatterpolar"
           }
          ],
          "scatterpolargl": [
           {
            "marker": {
             "colorbar": {
              "outlinewidth": 0,
              "ticks": ""
             }
            },
            "type": "scatterpolargl"
           }
          ],
          "scatterternary": [
           {
            "marker": {
             "colorbar": {
              "outlinewidth": 0,
              "ticks": ""
             }
            },
            "type": "scatterternary"
           }
          ],
          "surface": [
           {
            "colorbar": {
             "outlinewidth": 0,
             "ticks": ""
            },
            "colorscale": [
             [
              0,
              "#0d0887"
             ],
             [
              0.1111111111111111,
              "#46039f"
             ],
             [
              0.2222222222222222,
              "#7201a8"
             ],
             [
              0.3333333333333333,
              "#9c179e"
             ],
             [
              0.4444444444444444,
              "#bd3786"
             ],
             [
              0.5555555555555556,
              "#d8576b"
             ],
             [
              0.6666666666666666,
              "#ed7953"
             ],
             [
              0.7777777777777778,
              "#fb9f3a"
             ],
             [
              0.8888888888888888,
              "#fdca26"
             ],
             [
              1,
              "#f0f921"
             ]
            ],
            "type": "surface"
           }
          ],
          "table": [
           {
            "cells": {
             "fill": {
              "color": "#EBF0F8"
             },
             "line": {
              "color": "white"
             }
            },
            "header": {
             "fill": {
              "color": "#C8D4E3"
             },
             "line": {
              "color": "white"
             }
            },
            "type": "table"
           }
          ]
         },
         "layout": {
          "annotationdefaults": {
           "arrowcolor": "#2a3f5f",
           "arrowhead": 0,
           "arrowwidth": 1
          },
          "autotypenumbers": "strict",
          "coloraxis": {
           "colorbar": {
            "outlinewidth": 0,
            "ticks": ""
           }
          },
          "colorscale": {
           "diverging": [
            [
             0,
             "#8e0152"
            ],
            [
             0.1,
             "#c51b7d"
            ],
            [
             0.2,
             "#de77ae"
            ],
            [
             0.3,
             "#f1b6da"
            ],
            [
             0.4,
             "#fde0ef"
            ],
            [
             0.5,
             "#f7f7f7"
            ],
            [
             0.6,
             "#e6f5d0"
            ],
            [
             0.7,
             "#b8e186"
            ],
            [
             0.8,
             "#7fbc41"
            ],
            [
             0.9,
             "#4d9221"
            ],
            [
             1,
             "#276419"
            ]
           ],
           "sequential": [
            [
             0,
             "#0d0887"
            ],
            [
             0.1111111111111111,
             "#46039f"
            ],
            [
             0.2222222222222222,
             "#7201a8"
            ],
            [
             0.3333333333333333,
             "#9c179e"
            ],
            [
             0.4444444444444444,
             "#bd3786"
            ],
            [
             0.5555555555555556,
             "#d8576b"
            ],
            [
             0.6666666666666666,
             "#ed7953"
            ],
            [
             0.7777777777777778,
             "#fb9f3a"
            ],
            [
             0.8888888888888888,
             "#fdca26"
            ],
            [
             1,
             "#f0f921"
            ]
           ],
           "sequentialminus": [
            [
             0,
             "#0d0887"
            ],
            [
             0.1111111111111111,
             "#46039f"
            ],
            [
             0.2222222222222222,
             "#7201a8"
            ],
            [
             0.3333333333333333,
             "#9c179e"
            ],
            [
             0.4444444444444444,
             "#bd3786"
            ],
            [
             0.5555555555555556,
             "#d8576b"
            ],
            [
             0.6666666666666666,
             "#ed7953"
            ],
            [
             0.7777777777777778,
             "#fb9f3a"
            ],
            [
             0.8888888888888888,
             "#fdca26"
            ],
            [
             1,
             "#f0f921"
            ]
           ]
          },
          "colorway": [
           "#636efa",
           "#EF553B",
           "#00cc96",
           "#ab63fa",
           "#FFA15A",
           "#19d3f3",
           "#FF6692",
           "#B6E880",
           "#FF97FF",
           "#FECB52"
          ],
          "font": {
           "color": "#2a3f5f"
          },
          "geo": {
           "bgcolor": "white",
           "lakecolor": "white",
           "landcolor": "#E5ECF6",
           "showlakes": true,
           "showland": true,
           "subunitcolor": "white"
          },
          "hoverlabel": {
           "align": "left"
          },
          "hovermode": "closest",
          "mapbox": {
           "style": "light"
          },
          "paper_bgcolor": "white",
          "plot_bgcolor": "#E5ECF6",
          "polar": {
           "angularaxis": {
            "gridcolor": "white",
            "linecolor": "white",
            "ticks": ""
           },
           "bgcolor": "#E5ECF6",
           "radialaxis": {
            "gridcolor": "white",
            "linecolor": "white",
            "ticks": ""
           }
          },
          "scene": {
           "xaxis": {
            "backgroundcolor": "#E5ECF6",
            "gridcolor": "white",
            "gridwidth": 2,
            "linecolor": "white",
            "showbackground": true,
            "ticks": "",
            "zerolinecolor": "white"
           },
           "yaxis": {
            "backgroundcolor": "#E5ECF6",
            "gridcolor": "white",
            "gridwidth": 2,
            "linecolor": "white",
            "showbackground": true,
            "ticks": "",
            "zerolinecolor": "white"
           },
           "zaxis": {
            "backgroundcolor": "#E5ECF6",
            "gridcolor": "white",
            "gridwidth": 2,
            "linecolor": "white",
            "showbackground": true,
            "ticks": "",
            "zerolinecolor": "white"
           }
          },
          "shapedefaults": {
           "line": {
            "color": "#2a3f5f"
           }
          },
          "ternary": {
           "aaxis": {
            "gridcolor": "white",
            "linecolor": "white",
            "ticks": ""
           },
           "baxis": {
            "gridcolor": "white",
            "linecolor": "white",
            "ticks": ""
           },
           "bgcolor": "#E5ECF6",
           "caxis": {
            "gridcolor": "white",
            "linecolor": "white",
            "ticks": ""
           }
          },
          "title": {
           "x": 0.05
          },
          "xaxis": {
           "automargin": true,
           "gridcolor": "white",
           "linecolor": "white",
           "ticks": "",
           "title": {
            "standoff": 15
           },
           "zerolinecolor": "white",
           "zerolinewidth": 2
          },
          "yaxis": {
           "automargin": true,
           "gridcolor": "white",
           "linecolor": "white",
           "ticks": "",
           "title": {
            "standoff": 15
           },
           "zerolinecolor": "white",
           "zerolinewidth": 2
          }
         }
        },
        "title": {
         "text": "GICS Sub-Industry"
        },
        "width": 1300
       }
      }
     },
     "metadata": {},
     "output_type": "display_data"
    }
   ],
   "source": [
    "px.pie(SECTOR_INDUSTRY_DISTRIBUTION.reset_index(), values='proportion',names='GICS Sub-Industry',title='GICS Sub-Industry',facet_col='GICS Sector', facet_col_wrap=3,height=800, width=1300)"
   ]
  },
  {
   "cell_type": "code",
   "execution_count": 8,
   "metadata": {},
   "outputs": [
    {
     "data": {
      "application/vnd.plotly.v1+json": {
       "config": {
        "plotlyServerURL": "https://plot.ly"
       },
       "data": [
        {
         "branchvalues": "total",
         "domain": {
          "x": [
           0,
           1
          ],
          "y": [
           0,
           1
          ]
         },
         "hovertemplate": "labels=%{label}<br>proportion=%{value}<br>parent=%{parent}<br>id=%{id}<extra></extra>",
         "ids": [
          "SP-500/Health Care/Health Care Equipment",
          "SP-500/Utilities/Electric Utilities",
          "SP-500/Information Technology/Semiconductors",
          "SP-500/Industrials/Industrial Machinery & Supplies & Components",
          "SP-500/Industrials/Aerospace & Defense",
          "SP-500/Utilities/Multi-Utilities",
          "SP-500/Information Technology/Application Software",
          "SP-500/Consumer Staples/Packaged Foods & Meats",
          "SP-500/Financials/Asset Management & Custody Banks",
          "SP-500/Energy/Oil & Gas Exploration & Production",
          "SP-500/Financials/Financial Exchanges & Data",
          "SP-500/Materials/Specialty Chemicals",
          "SP-500/Financials/Property & Casualty Insurance",
          "SP-500/Financials/Transaction & Payment Processing Services",
          "SP-500/Consumer Discretionary/Hotels, Resorts & Cruise Lines",
          "SP-500/Health Care/Life Sciences Tools & Services",
          "SP-500/Industrials/Building Products",
          "SP-500/Health Care/Biotechnology",
          "SP-500/Information Technology/Technology Hardware, Storage & Peripherals",
          "SP-500/Health Care/Pharmaceuticals",
          "SP-500/Financials/Diversified Banks",
          "SP-500/Information Technology/Systems Software",
          "SP-500/Financials/Regional Banks",
          "SP-500/Financials/Insurance Brokers",
          "SP-500/Consumer Discretionary/Restaurants",
          "SP-500/Real Estate/Multi-Family Residential REITs",
          "SP-500/Information Technology/Communications Equipment",
          "SP-500/Health Care/Managed Health Care",
          "SP-500/Health Care/Health Care Services",
          "SP-500/Real Estate/Retail REITs",
          "SP-500/Financials/Life & Health Insurance",
          "SP-500/Consumer Staples/Consumer Staples Merchandise Retail",
          "SP-500/Information Technology/Electronic Equipment & Instruments",
          "SP-500/Materials/Paper & Plastic Packaging Products & Materials",
          "SP-500/Information Technology/IT Consulting & Other Services",
          "SP-500/Industrials/Electrical Components & Equipment",
          "SP-500/Information Technology/Semiconductor Materials & Equipment",
          "SP-500/Health Care/Health Care Distributors",
          "SP-500/Materials/Fertilizers & Agricultural Chemicals",
          "SP-500/Communication Services/Interactive Media & Services",
          "SP-500/Communication Services/Movies & Entertainment",
          "SP-500/Financials/Investment Banking & Brokerage",
          "SP-500/Consumer Discretionary/Apparel, Accessories & Luxury Goods",
          "SP-500/Industrials/Human Resource & Employment Services",
          "SP-500/Industrials/Construction Machinery & Heavy Transportation Equipment",
          "SP-500/Financials/Consumer Finance",
          "SP-500/Consumer Discretionary/Casinos & Gaming",
          "SP-500/Energy/Oil & Gas Storage & Transportation",
          "SP-500/Information Technology/Internet Services & Infrastructure",
          "SP-500/Consumer Discretionary/Homebuilding",
          "SP-500/Consumer Staples/Soft Drinks & Non-alcoholic Beverages",
          "SP-500/Industrials/Air Freight & Logistics",
          "SP-500/Consumer Staples/Household Products",
          "SP-500/Industrials/Environmental & Facilities Services",
          "SP-500/Health Care/Health Care Supplies",
          "SP-500/Communication Services/Broadcasting",
          "SP-500/Industrials/Diversified Support Services",
          "SP-500/Industrials/Passenger Airlines",
          "SP-500/Financials/Multi-line Insurance",
          "SP-500/Real Estate/Health Care REITs",
          "SP-500/Consumer Staples/Personal Care Products",
          "SP-500/Consumer Discretionary/Automobile Manufacturers",
          "SP-500/Consumer Discretionary/Automotive Retail",
          "SP-500/Consumer Discretionary/Distributors",
          "SP-500/Real Estate/Telecom Tower REITs",
          "SP-500/Industrials/Rail Transportation",
          "SP-500/Energy/Integrated Oil & Gas",
          "SP-500/Energy/Oil & Gas Equipment & Services",
          "SP-500/Energy/Oil & Gas Refining & Marketing",
          "SP-500/Information Technology/Electronic Components",
          "SP-500/Industrials/Trading Companies & Distributors",
          "SP-500/Real Estate/Hotel & Resort REITs",
          "SP-500/Real Estate/Data Center REITs",
          "SP-500/Industrials/Industrial Conglomerates",
          "SP-500/Industrials/Research & Consulting Services",
          "SP-500/Materials/Steel",
          "SP-500/Materials/Construction Materials",
          "SP-500/Information Technology/Electronic Manufacturing Services",
          "SP-500/Communication Services/Advertising",
          "SP-500/Consumer Discretionary/Other Specialty Retail",
          "SP-500/Consumer Staples/Agricultural Products & Services",
          "SP-500/Communication Services/Cable & Satellite",
          "SP-500/Communication Services/Integrated Telecommunication Services",
          "SP-500/Communication Services/Interactive Home Entertainment",
          "SP-500/Communication Services/Publishing",
          "SP-500/Consumer Discretionary/Apparel Retail",
          "SP-500/Consumer Discretionary/Automotive Parts & Equipment",
          "SP-500/Consumer Discretionary/Broadline Retail",
          "SP-500/Utilities/Independent Power Producers & Energy Traders",
          "SP-500/Consumer Discretionary/Home Improvement Retail",
          "SP-500/Industrials/Construction & Engineering",
          "SP-500/Materials/Industrial Gases",
          "SP-500/Consumer Staples/Distillers & Vintners",
          "SP-500/Real Estate/Self-Storage REITs",
          "SP-500/Real Estate/Real Estate Services",
          "SP-500/Consumer Staples/Tobacco",
          "SP-500/Real Estate/Office REITs",
          "SP-500/Health Care/Health Care Facilities",
          "SP-500/Industrials/Cargo Ground Transportation",
          "SP-500/Real Estate/Single-Family Residential REITs",
          "SP-500/Real Estate/Timber REITs",
          "SP-500/Utilities/Gas Utilities",
          "SP-500/Real Estate/Other Specialized REITs",
          "SP-500/Materials/Metal, Glass & Plastic Containers",
          "SP-500/Real Estate/Industrial REITs",
          "SP-500/Health Care/Health Care Technology",
          "SP-500/Materials/Gold",
          "SP-500/Consumer Staples/Food Distributors",
          "SP-500/Communication Services/Wireless Telecommunication Services",
          "SP-500/Consumer Discretionary/Computer & Electronics Retail",
          "SP-500/Consumer Discretionary/Consumer Electronics",
          "SP-500/Consumer Discretionary/Footwear",
          "SP-500/Consumer Discretionary/Home Furnishings",
          "SP-500/Consumer Discretionary/Leisure Products",
          "SP-500/Consumer Staples/Brewers",
          "SP-500/Consumer Staples/Drug Retail",
          "SP-500/Consumer Staples/Food Retail",
          "SP-500/Materials/Copper",
          "SP-500/Financials/Multi-Sector Holdings",
          "SP-500/Financials/Reinsurance",
          "SP-500/Industrials/Agricultural & Farm Machinery",
          "SP-500/Industrials/Data Processing & Outsourced Services",
          "SP-500/Industrials/Heavy Electrical Equipment",
          "SP-500/Industrials/Passenger Ground Transportation",
          "SP-500/Information Technology/Technology Distributors",
          "SP-500/Materials/Commodity Chemicals",
          "SP-500/Utilities/Water Utilities",
          "SP-500/Health Care",
          "SP-500/Utilities",
          "SP-500/Information Technology",
          "SP-500/Industrials",
          "SP-500/Consumer Staples",
          "SP-500/Financials",
          "SP-500/Energy",
          "SP-500/Materials",
          "SP-500/Consumer Discretionary",
          "SP-500/Real Estate",
          "SP-500/Communication Services",
          "SP-500"
         ],
         "labels": [
          "Health Care Equipment",
          "Electric Utilities",
          "Semiconductors",
          "Industrial Machinery & Supplies & Components",
          "Aerospace & Defense",
          "Multi-Utilities",
          "Application Software",
          "Packaged Foods & Meats",
          "Asset Management & Custody Banks",
          "Oil & Gas Exploration & Production",
          "Financial Exchanges & Data",
          "Specialty Chemicals",
          "Property & Casualty Insurance",
          "Transaction & Payment Processing Services",
          "Hotels, Resorts & Cruise Lines",
          "Life Sciences Tools & Services",
          "Building Products",
          "Biotechnology",
          "Technology Hardware, Storage & Peripherals",
          "Pharmaceuticals",
          "Diversified Banks",
          "Systems Software",
          "Regional Banks",
          "Insurance Brokers",
          "Restaurants",
          "Multi-Family Residential REITs",
          "Communications Equipment",
          "Managed Health Care",
          "Health Care Services",
          "Retail REITs",
          "Life & Health Insurance",
          "Consumer Staples Merchandise Retail",
          "Electronic Equipment & Instruments",
          "Paper & Plastic Packaging Products & Materials",
          "IT Consulting & Other Services",
          "Electrical Components & Equipment",
          "Semiconductor Materials & Equipment",
          "Health Care Distributors",
          "Fertilizers & Agricultural Chemicals",
          "Interactive Media & Services",
          "Movies & Entertainment",
          "Investment Banking & Brokerage",
          "Apparel, Accessories & Luxury Goods",
          "Human Resource & Employment Services",
          "Construction Machinery & Heavy Transportation Equipment",
          "Consumer Finance",
          "Casinos & Gaming",
          "Oil & Gas Storage & Transportation",
          "Internet Services & Infrastructure",
          "Homebuilding",
          "Soft Drinks & Non-alcoholic Beverages",
          "Air Freight & Logistics",
          "Household Products",
          "Environmental & Facilities Services",
          "Health Care Supplies",
          "Broadcasting",
          "Diversified Support Services",
          "Passenger Airlines",
          "Multi-line Insurance",
          "Health Care REITs",
          "Personal Care Products",
          "Automobile Manufacturers",
          "Automotive Retail",
          "Distributors",
          "Telecom Tower REITs",
          "Rail Transportation",
          "Integrated Oil & Gas",
          "Oil & Gas Equipment & Services",
          "Oil & Gas Refining & Marketing",
          "Electronic Components",
          "Trading Companies & Distributors",
          "Hotel & Resort REITs",
          "Data Center REITs",
          "Industrial Conglomerates",
          "Research & Consulting Services",
          "Steel",
          "Construction Materials",
          "Electronic Manufacturing Services",
          "Advertising",
          "Other Specialty Retail",
          "Agricultural Products & Services",
          "Cable & Satellite",
          "Integrated Telecommunication Services",
          "Interactive Home Entertainment",
          "Publishing",
          "Apparel Retail",
          "Automotive Parts & Equipment",
          "Broadline Retail",
          "Independent Power Producers & Energy Traders",
          "Home Improvement Retail",
          "Construction & Engineering",
          "Industrial Gases",
          "Distillers & Vintners",
          "Self-Storage REITs",
          "Real Estate Services",
          "Tobacco",
          "Office REITs",
          "Health Care Facilities",
          "Cargo Ground Transportation",
          "Single-Family Residential REITs",
          "Timber REITs",
          "Gas Utilities",
          "Other Specialized REITs",
          "Metal, Glass & Plastic Containers",
          "Industrial REITs",
          "Health Care Technology",
          "Gold",
          "Food Distributors",
          "Wireless Telecommunication Services",
          "Computer & Electronics Retail",
          "Consumer Electronics",
          "Footwear",
          "Home Furnishings",
          "Leisure Products",
          "Brewers",
          "Drug Retail",
          "Food Retail",
          "Copper",
          "Multi-Sector Holdings",
          "Reinsurance",
          "Agricultural & Farm Machinery",
          "Data Processing & Outsourced Services",
          "Heavy Electrical Equipment",
          "Passenger Ground Transportation",
          "Technology Distributors",
          "Commodity Chemicals",
          "Water Utilities",
          "Health Care",
          "Utilities",
          "Information Technology",
          "Industrials",
          "Consumer Staples",
          "Financials",
          "Energy",
          "Materials",
          "Consumer Discretionary",
          "Real Estate",
          "Communication Services",
          "SP-500"
         ],
         "name": "",
         "parents": [
          "SP-500/Health Care",
          "SP-500/Utilities",
          "SP-500/Information Technology",
          "SP-500/Industrials",
          "SP-500/Industrials",
          "SP-500/Utilities",
          "SP-500/Information Technology",
          "SP-500/Consumer Staples",
          "SP-500/Financials",
          "SP-500/Energy",
          "SP-500/Financials",
          "SP-500/Materials",
          "SP-500/Financials",
          "SP-500/Financials",
          "SP-500/Consumer Discretionary",
          "SP-500/Health Care",
          "SP-500/Industrials",
          "SP-500/Health Care",
          "SP-500/Information Technology",
          "SP-500/Health Care",
          "SP-500/Financials",
          "SP-500/Information Technology",
          "SP-500/Financials",
          "SP-500/Financials",
          "SP-500/Consumer Discretionary",
          "SP-500/Real Estate",
          "SP-500/Information Technology",
          "SP-500/Health Care",
          "SP-500/Health Care",
          "SP-500/Real Estate",
          "SP-500/Financials",
          "SP-500/Consumer Staples",
          "SP-500/Information Technology",
          "SP-500/Materials",
          "SP-500/Information Technology",
          "SP-500/Industrials",
          "SP-500/Information Technology",
          "SP-500/Health Care",
          "SP-500/Materials",
          "SP-500/Communication Services",
          "SP-500/Communication Services",
          "SP-500/Financials",
          "SP-500/Consumer Discretionary",
          "SP-500/Industrials",
          "SP-500/Industrials",
          "SP-500/Financials",
          "SP-500/Consumer Discretionary",
          "SP-500/Energy",
          "SP-500/Information Technology",
          "SP-500/Consumer Discretionary",
          "SP-500/Consumer Staples",
          "SP-500/Industrials",
          "SP-500/Consumer Staples",
          "SP-500/Industrials",
          "SP-500/Health Care",
          "SP-500/Communication Services",
          "SP-500/Industrials",
          "SP-500/Industrials",
          "SP-500/Financials",
          "SP-500/Real Estate",
          "SP-500/Consumer Staples",
          "SP-500/Consumer Discretionary",
          "SP-500/Consumer Discretionary",
          "SP-500/Consumer Discretionary",
          "SP-500/Real Estate",
          "SP-500/Industrials",
          "SP-500/Energy",
          "SP-500/Energy",
          "SP-500/Energy",
          "SP-500/Information Technology",
          "SP-500/Industrials",
          "SP-500/Real Estate",
          "SP-500/Real Estate",
          "SP-500/Industrials",
          "SP-500/Industrials",
          "SP-500/Materials",
          "SP-500/Materials",
          "SP-500/Information Technology",
          "SP-500/Communication Services",
          "SP-500/Consumer Discretionary",
          "SP-500/Consumer Staples",
          "SP-500/Communication Services",
          "SP-500/Communication Services",
          "SP-500/Communication Services",
          "SP-500/Communication Services",
          "SP-500/Consumer Discretionary",
          "SP-500/Consumer Discretionary",
          "SP-500/Consumer Discretionary",
          "SP-500/Utilities",
          "SP-500/Consumer Discretionary",
          "SP-500/Industrials",
          "SP-500/Materials",
          "SP-500/Consumer Staples",
          "SP-500/Real Estate",
          "SP-500/Real Estate",
          "SP-500/Consumer Staples",
          "SP-500/Real Estate",
          "SP-500/Health Care",
          "SP-500/Industrials",
          "SP-500/Real Estate",
          "SP-500/Real Estate",
          "SP-500/Utilities",
          "SP-500/Real Estate",
          "SP-500/Materials",
          "SP-500/Real Estate",
          "SP-500/Health Care",
          "SP-500/Materials",
          "SP-500/Consumer Staples",
          "SP-500/Communication Services",
          "SP-500/Consumer Discretionary",
          "SP-500/Consumer Discretionary",
          "SP-500/Consumer Discretionary",
          "SP-500/Consumer Discretionary",
          "SP-500/Consumer Discretionary",
          "SP-500/Consumer Staples",
          "SP-500/Consumer Staples",
          "SP-500/Consumer Staples",
          "SP-500/Materials",
          "SP-500/Financials",
          "SP-500/Financials",
          "SP-500/Industrials",
          "SP-500/Industrials",
          "SP-500/Industrials",
          "SP-500/Industrials",
          "SP-500/Information Technology",
          "SP-500/Materials",
          "SP-500/Utilities",
          "SP-500",
          "SP-500",
          "SP-500",
          "SP-500",
          "SP-500",
          "SP-500",
          "SP-500",
          "SP-500",
          "SP-500",
          "SP-500",
          "SP-500",
          ""
         ],
         "type": "treemap",
         "values": {
          "bdata": "XjGZBXNSoj/y/KleaomeP1owJyVBgJw/WjAnJUGAnD8olyGy7m2YPyiXIbLubZg/KJchsu5tmD8olyGy7m2YP5DKnnjFZJY/XjGZBXNSkj9eMZkFc1KSP14xmQVzUpI/xWQWzElJkD/FZBbMSUmQP8VkFsxJSZA/xWQWzElJkD/FZBbMSUmQP8VkFsxJSZA/xWQWzElJkD9aMCclQYCMP1owJyVBgIw/KJchsu5tiD8olyGy7m2IPyiXIbLubYg/KJchsu5tiD8olyGy7m2IP/f9Gz+cW4Q/9/0bP5xbhD/3/Rs/nFuEP/f9Gz+cW4Q/9/0bP5xbhD/3/Rs/nFuEP/f9Gz+cW4Q/9/0bP5xbhD/3/Rs/nFuEP/f9Gz+cW4Q/9/0bP5xbhD/FZBbMSUmAP8VkFsxJSYA/xWQWzElJgD/FZBbMSUmAP8VkFsxJSYA/xWQWzElJgD/FZBbMSUmAP8VkFsxJSYA/xWQWzElJgD/FZBbMSUmAP8VkFsxJSYA/xWQWzElJgD/FZBbMSUmAP8VkFsxJSYA/xWQWzElJgD/FZBbMSUmAP8VkFsxJSYA/KJchsu5teD8olyGy7m14PyiXIbLubXg/KJchsu5teD8olyGy7m14PyiXIbLubXg/KJchsu5teD8olyGy7m14PyiXIbLubXg/KJchsu5teD8olyGy7m14PyiXIbLubXg/KJchsu5teD8olyGy7m14PyiXIbLubXg/xWQWzElJcD/FZBbMSUlwP8VkFsxJSXA/xWQWzElJcD/FZBbMSUlwP8VkFsxJSXA/xWQWzElJcD/FZBbMSUlwP8VkFsxJSXA/xWQWzElJcD/FZBbMSUlwP8VkFsxJSXA/xWQWzElJcD/FZBbMSUlwP8VkFsxJSXA/xWQWzElJcD/FZBbMSUlwP8VkFsxJSXA/xWQWzElJcD/FZBbMSUlwP8VkFsxJSXA/xWQWzElJcD/FZBbMSUlwP8VkFsxJSXA/xWQWzElJcD/FZBbMSUlwP8VkFsxJSXA/xWQWzElJcD/FZBbMSUlwP8VkFsxJSXA/xWQWzElJYD/FZBbMSUlgP8VkFsxJSWA/xWQWzElJYD/FZBbMSUlgP8VkFsxJSWA/xWQWzElJYD/FZBbMSUlgP8VkFsxJSWA/xWQWzElJYD/FZBbMSUlgP8VkFsxJSWA/xWQWzElJYD/FZBbMSUlgP8VkFsxJSWA/xWQWzElJYD/FZBbMSUlgP8VkFsxJSWA/xWQWzElJYD/FZBbMSUlgP8VkFsxJSWA/xWQWzElJYD/FZBbMSUlgP8VkFsxJSWA/xWQWzElJYD/FZBbMSUlgP8VkFsxJSWA/xWQWzElJYD8YsAqttAu/Pz5ja/v+ja8/pSQIkAOPwT/QSrvwUdnDP6qXWqIHV7M/8YrJLJiTwj+Pyp54xWSmP1kwJyVBgKw/dP3iToNyuT8+Y2v7/o2vP4/KnnjFZKY/AAAAAAAA8D8=",
          "dtype": "f8"
         }
        }
       ],
       "layout": {
        "font": {
         "size": 9
        },
        "height": 1000,
        "legend": {
         "tracegroupgap": 0
        },
        "margin": {
         "t": 60
        },
        "template": {
         "data": {
          "bar": [
           {
            "error_x": {
             "color": "#2a3f5f"
            },
            "error_y": {
             "color": "#2a3f5f"
            },
            "marker": {
             "line": {
              "color": "#E5ECF6",
              "width": 0.5
             },
             "pattern": {
              "fillmode": "overlay",
              "size": 10,
              "solidity": 0.2
             }
            },
            "type": "bar"
           }
          ],
          "barpolar": [
           {
            "marker": {
             "line": {
              "color": "#E5ECF6",
              "width": 0.5
             },
             "pattern": {
              "fillmode": "overlay",
              "size": 10,
              "solidity": 0.2
             }
            },
            "type": "barpolar"
           }
          ],
          "carpet": [
           {
            "aaxis": {
             "endlinecolor": "#2a3f5f",
             "gridcolor": "white",
             "linecolor": "white",
             "minorgridcolor": "white",
             "startlinecolor": "#2a3f5f"
            },
            "baxis": {
             "endlinecolor": "#2a3f5f",
             "gridcolor": "white",
             "linecolor": "white",
             "minorgridcolor": "white",
             "startlinecolor": "#2a3f5f"
            },
            "type": "carpet"
           }
          ],
          "choropleth": [
           {
            "colorbar": {
             "outlinewidth": 0,
             "ticks": ""
            },
            "type": "choropleth"
           }
          ],
          "contour": [
           {
            "colorbar": {
             "outlinewidth": 0,
             "ticks": ""
            },
            "colorscale": [
             [
              0,
              "#0d0887"
             ],
             [
              0.1111111111111111,
              "#46039f"
             ],
             [
              0.2222222222222222,
              "#7201a8"
             ],
             [
              0.3333333333333333,
              "#9c179e"
             ],
             [
              0.4444444444444444,
              "#bd3786"
             ],
             [
              0.5555555555555556,
              "#d8576b"
             ],
             [
              0.6666666666666666,
              "#ed7953"
             ],
             [
              0.7777777777777778,
              "#fb9f3a"
             ],
             [
              0.8888888888888888,
              "#fdca26"
             ],
             [
              1,
              "#f0f921"
             ]
            ],
            "type": "contour"
           }
          ],
          "contourcarpet": [
           {
            "colorbar": {
             "outlinewidth": 0,
             "ticks": ""
            },
            "type": "contourcarpet"
           }
          ],
          "heatmap": [
           {
            "colorbar": {
             "outlinewidth": 0,
             "ticks": ""
            },
            "colorscale": [
             [
              0,
              "#0d0887"
             ],
             [
              0.1111111111111111,
              "#46039f"
             ],
             [
              0.2222222222222222,
              "#7201a8"
             ],
             [
              0.3333333333333333,
              "#9c179e"
             ],
             [
              0.4444444444444444,
              "#bd3786"
             ],
             [
              0.5555555555555556,
              "#d8576b"
             ],
             [
              0.6666666666666666,
              "#ed7953"
             ],
             [
              0.7777777777777778,
              "#fb9f3a"
             ],
             [
              0.8888888888888888,
              "#fdca26"
             ],
             [
              1,
              "#f0f921"
             ]
            ],
            "type": "heatmap"
           }
          ],
          "histogram": [
           {
            "marker": {
             "pattern": {
              "fillmode": "overlay",
              "size": 10,
              "solidity": 0.2
             }
            },
            "type": "histogram"
           }
          ],
          "histogram2d": [
           {
            "colorbar": {
             "outlinewidth": 0,
             "ticks": ""
            },
            "colorscale": [
             [
              0,
              "#0d0887"
             ],
             [
              0.1111111111111111,
              "#46039f"
             ],
             [
              0.2222222222222222,
              "#7201a8"
             ],
             [
              0.3333333333333333,
              "#9c179e"
             ],
             [
              0.4444444444444444,
              "#bd3786"
             ],
             [
              0.5555555555555556,
              "#d8576b"
             ],
             [
              0.6666666666666666,
              "#ed7953"
             ],
             [
              0.7777777777777778,
              "#fb9f3a"
             ],
             [
              0.8888888888888888,
              "#fdca26"
             ],
             [
              1,
              "#f0f921"
             ]
            ],
            "type": "histogram2d"
           }
          ],
          "histogram2dcontour": [
           {
            "colorbar": {
             "outlinewidth": 0,
             "ticks": ""
            },
            "colorscale": [
             [
              0,
              "#0d0887"
             ],
             [
              0.1111111111111111,
              "#46039f"
             ],
             [
              0.2222222222222222,
              "#7201a8"
             ],
             [
              0.3333333333333333,
              "#9c179e"
             ],
             [
              0.4444444444444444,
              "#bd3786"
             ],
             [
              0.5555555555555556,
              "#d8576b"
             ],
             [
              0.6666666666666666,
              "#ed7953"
             ],
             [
              0.7777777777777778,
              "#fb9f3a"
             ],
             [
              0.8888888888888888,
              "#fdca26"
             ],
             [
              1,
              "#f0f921"
             ]
            ],
            "type": "histogram2dcontour"
           }
          ],
          "mesh3d": [
           {
            "colorbar": {
             "outlinewidth": 0,
             "ticks": ""
            },
            "type": "mesh3d"
           }
          ],
          "parcoords": [
           {
            "line": {
             "colorbar": {
              "outlinewidth": 0,
              "ticks": ""
             }
            },
            "type": "parcoords"
           }
          ],
          "pie": [
           {
            "automargin": true,
            "type": "pie"
           }
          ],
          "scatter": [
           {
            "fillpattern": {
             "fillmode": "overlay",
             "size": 10,
             "solidity": 0.2
            },
            "type": "scatter"
           }
          ],
          "scatter3d": [
           {
            "line": {
             "colorbar": {
              "outlinewidth": 0,
              "ticks": ""
             }
            },
            "marker": {
             "colorbar": {
              "outlinewidth": 0,
              "ticks": ""
             }
            },
            "type": "scatter3d"
           }
          ],
          "scattercarpet": [
           {
            "marker": {
             "colorbar": {
              "outlinewidth": 0,
              "ticks": ""
             }
            },
            "type": "scattercarpet"
           }
          ],
          "scattergeo": [
           {
            "marker": {
             "colorbar": {
              "outlinewidth": 0,
              "ticks": ""
             }
            },
            "type": "scattergeo"
           }
          ],
          "scattergl": [
           {
            "marker": {
             "colorbar": {
              "outlinewidth": 0,
              "ticks": ""
             }
            },
            "type": "scattergl"
           }
          ],
          "scattermap": [
           {
            "marker": {
             "colorbar": {
              "outlinewidth": 0,
              "ticks": ""
             }
            },
            "type": "scattermap"
           }
          ],
          "scattermapbox": [
           {
            "marker": {
             "colorbar": {
              "outlinewidth": 0,
              "ticks": ""
             }
            },
            "type": "scattermapbox"
           }
          ],
          "scatterpolar": [
           {
            "marker": {
             "colorbar": {
              "outlinewidth": 0,
              "ticks": ""
             }
            },
            "type": "scatterpolar"
           }
          ],
          "scatterpolargl": [
           {
            "marker": {
             "colorbar": {
              "outlinewidth": 0,
              "ticks": ""
             }
            },
            "type": "scatterpolargl"
           }
          ],
          "scatterternary": [
           {
            "marker": {
             "colorbar": {
              "outlinewidth": 0,
              "ticks": ""
             }
            },
            "type": "scatterternary"
           }
          ],
          "surface": [
           {
            "colorbar": {
             "outlinewidth": 0,
             "ticks": ""
            },
            "colorscale": [
             [
              0,
              "#0d0887"
             ],
             [
              0.1111111111111111,
              "#46039f"
             ],
             [
              0.2222222222222222,
              "#7201a8"
             ],
             [
              0.3333333333333333,
              "#9c179e"
             ],
             [
              0.4444444444444444,
              "#bd3786"
             ],
             [
              0.5555555555555556,
              "#d8576b"
             ],
             [
              0.6666666666666666,
              "#ed7953"
             ],
             [
              0.7777777777777778,
              "#fb9f3a"
             ],
             [
              0.8888888888888888,
              "#fdca26"
             ],
             [
              1,
              "#f0f921"
             ]
            ],
            "type": "surface"
           }
          ],
          "table": [
           {
            "cells": {
             "fill": {
              "color": "#EBF0F8"
             },
             "line": {
              "color": "white"
             }
            },
            "header": {
             "fill": {
              "color": "#C8D4E3"
             },
             "line": {
              "color": "white"
             }
            },
            "type": "table"
           }
          ]
         },
         "layout": {
          "annotationdefaults": {
           "arrowcolor": "#2a3f5f",
           "arrowhead": 0,
           "arrowwidth": 1
          },
          "autotypenumbers": "strict",
          "coloraxis": {
           "colorbar": {
            "outlinewidth": 0,
            "ticks": ""
           }
          },
          "colorscale": {
           "diverging": [
            [
             0,
             "#8e0152"
            ],
            [
             0.1,
             "#c51b7d"
            ],
            [
             0.2,
             "#de77ae"
            ],
            [
             0.3,
             "#f1b6da"
            ],
            [
             0.4,
             "#fde0ef"
            ],
            [
             0.5,
             "#f7f7f7"
            ],
            [
             0.6,
             "#e6f5d0"
            ],
            [
             0.7,
             "#b8e186"
            ],
            [
             0.8,
             "#7fbc41"
            ],
            [
             0.9,
             "#4d9221"
            ],
            [
             1,
             "#276419"
            ]
           ],
           "sequential": [
            [
             0,
             "#0d0887"
            ],
            [
             0.1111111111111111,
             "#46039f"
            ],
            [
             0.2222222222222222,
             "#7201a8"
            ],
            [
             0.3333333333333333,
             "#9c179e"
            ],
            [
             0.4444444444444444,
             "#bd3786"
            ],
            [
             0.5555555555555556,
             "#d8576b"
            ],
            [
             0.6666666666666666,
             "#ed7953"
            ],
            [
             0.7777777777777778,
             "#fb9f3a"
            ],
            [
             0.8888888888888888,
             "#fdca26"
            ],
            [
             1,
             "#f0f921"
            ]
           ],
           "sequentialminus": [
            [
             0,
             "#0d0887"
            ],
            [
             0.1111111111111111,
             "#46039f"
            ],
            [
             0.2222222222222222,
             "#7201a8"
            ],
            [
             0.3333333333333333,
             "#9c179e"
            ],
            [
             0.4444444444444444,
             "#bd3786"
            ],
            [
             0.5555555555555556,
             "#d8576b"
            ],
            [
             0.6666666666666666,
             "#ed7953"
            ],
            [
             0.7777777777777778,
             "#fb9f3a"
            ],
            [
             0.8888888888888888,
             "#fdca26"
            ],
            [
             1,
             "#f0f921"
            ]
           ]
          },
          "colorway": [
           "#636efa",
           "#EF553B",
           "#00cc96",
           "#ab63fa",
           "#FFA15A",
           "#19d3f3",
           "#FF6692",
           "#B6E880",
           "#FF97FF",
           "#FECB52"
          ],
          "font": {
           "color": "#2a3f5f"
          },
          "geo": {
           "bgcolor": "white",
           "lakecolor": "white",
           "landcolor": "#E5ECF6",
           "showlakes": true,
           "showland": true,
           "subunitcolor": "white"
          },
          "hoverlabel": {
           "align": "left"
          },
          "hovermode": "closest",
          "mapbox": {
           "style": "light"
          },
          "paper_bgcolor": "white",
          "plot_bgcolor": "#E5ECF6",
          "polar": {
           "angularaxis": {
            "gridcolor": "white",
            "linecolor": "white",
            "ticks": ""
           },
           "bgcolor": "#E5ECF6",
           "radialaxis": {
            "gridcolor": "white",
            "linecolor": "white",
            "ticks": ""
           }
          },
          "scene": {
           "xaxis": {
            "backgroundcolor": "#E5ECF6",
            "gridcolor": "white",
            "gridwidth": 2,
            "linecolor": "white",
            "showbackground": true,
            "ticks": "",
            "zerolinecolor": "white"
           },
           "yaxis": {
            "backgroundcolor": "#E5ECF6",
            "gridcolor": "white",
            "gridwidth": 2,
            "linecolor": "white",
            "showbackground": true,
            "ticks": "",
            "zerolinecolor": "white"
           },
           "zaxis": {
            "backgroundcolor": "#E5ECF6",
            "gridcolor": "white",
            "gridwidth": 2,
            "linecolor": "white",
            "showbackground": true,
            "ticks": "",
            "zerolinecolor": "white"
           }
          },
          "shapedefaults": {
           "line": {
            "color": "#2a3f5f"
           }
          },
          "ternary": {
           "aaxis": {
            "gridcolor": "white",
            "linecolor": "white",
            "ticks": ""
           },
           "baxis": {
            "gridcolor": "white",
            "linecolor": "white",
            "ticks": ""
           },
           "bgcolor": "#E5ECF6",
           "caxis": {
            "gridcolor": "white",
            "linecolor": "white",
            "ticks": ""
           }
          },
          "title": {
           "x": 0.05
          },
          "xaxis": {
           "automargin": true,
           "gridcolor": "white",
           "linecolor": "white",
           "ticks": "",
           "title": {
            "standoff": 15
           },
           "zerolinecolor": "white",
           "zerolinewidth": 2
          },
          "yaxis": {
           "automargin": true,
           "gridcolor": "white",
           "linecolor": "white",
           "ticks": "",
           "title": {
            "standoff": 15
           },
           "zerolinecolor": "white",
           "zerolinewidth": 2
          }
         }
        },
        "uniformtext": {
         "minsize": 9,
         "mode": "show"
        },
        "width": 1000,
        "yaxis": {
         "automargin": true
        }
       }
      }
     },
     "metadata": {},
     "output_type": "display_data"
    }
   ],
   "source": [
    " #Create treemap\n",
    "fig = px.treemap(\n",
    "    SECTOR_INDUSTRY_DISTRIBUTION.reset_index(),\n",
    "    path=[px.Constant(\"SP-500\"), 'GICS Sector', 'GICS Sub-Industry'],\n",
    "    values='proportion',\n",
    "    height=1000,\n",
    "    width=1000\n",
    ")\n",
    "\n",
    "# Adjust layout for better text visibility\n",
    "fig.update_layout(\n",
    "    font=dict(size=9),  # Increase font size\n",
    "    uniformtext=dict(minsize=9, mode='show'),\n",
    "    yaxis=dict(automargin=True)\n",
    ")\n",
    "\n",
    "# Display the chart\n",
    "fig.show()"
   ]
  },
  {
   "cell_type": "markdown",
   "metadata": {},
   "source": [
    "# 📊 **Downloading S&P 500 Data from Yahoo Finance**\n",
    "\n",
    "In this guide, we'll walk through how to download the historical stock price data of the **S&P 500** constituents using the `yfinance` library and clean the data by removing columns with missing values.\n",
    "\n",
    "---\n",
    "\n",
    "## 🔽 **Step 1: Install and Import `yfinance`**\n",
    "\n",
    "To begin, you need to install the `yfinance` library, which can be done via `pip`. Open your terminal and run:\n",
    "\n",
    "```bash\n",
    "pip install yfinance\n"
   ]
  },
  {
   "cell_type": "code",
   "execution_count": 7,
   "metadata": {},
   "outputs": [
    {
     "name": "stderr",
     "output_type": "stream",
     "text": [
      "[*********************100%***********************]  503 of 503 completed\n",
      "\n",
      "2 Failed downloads:\n",
      "['BF.B']: YFPricesMissingError('possibly delisted; no price data found  (period=1y)')\n",
      "['BRK.B']: YFPricesMissingError('possibly delisted; no price data found  (period=1y) (Yahoo error = \"No data found, symbol may be delisted\")')\n"
     ]
    },
    {
     "data": {
      "text/html": [
       "<div>\n",
       "<style scoped>\n",
       "    .dataframe tbody tr th:only-of-type {\n",
       "        vertical-align: middle;\n",
       "    }\n",
       "\n",
       "    .dataframe tbody tr th {\n",
       "        vertical-align: top;\n",
       "    }\n",
       "\n",
       "    .dataframe thead tr th {\n",
       "        text-align: left;\n",
       "    }\n",
       "\n",
       "    .dataframe thead tr:last-of-type th {\n",
       "        text-align: right;\n",
       "    }\n",
       "</style>\n",
       "<table border=\"1\" class=\"dataframe\">\n",
       "  <thead>\n",
       "    <tr>\n",
       "      <th>Price</th>\n",
       "      <th colspan=\"10\" halign=\"left\">Adj Close</th>\n",
       "      <th>...</th>\n",
       "      <th colspan=\"10\" halign=\"left\">Volume</th>\n",
       "    </tr>\n",
       "    <tr>\n",
       "      <th>Ticker</th>\n",
       "      <th>A</th>\n",
       "      <th>AAPL</th>\n",
       "      <th>ABBV</th>\n",
       "      <th>ABNB</th>\n",
       "      <th>ABT</th>\n",
       "      <th>ACGL</th>\n",
       "      <th>ACN</th>\n",
       "      <th>ADBE</th>\n",
       "      <th>ADI</th>\n",
       "      <th>ADM</th>\n",
       "      <th>...</th>\n",
       "      <th>WTW</th>\n",
       "      <th>WY</th>\n",
       "      <th>WYNN</th>\n",
       "      <th>XEL</th>\n",
       "      <th>XOM</th>\n",
       "      <th>XYL</th>\n",
       "      <th>YUM</th>\n",
       "      <th>ZBH</th>\n",
       "      <th>ZBRA</th>\n",
       "      <th>ZTS</th>\n",
       "    </tr>\n",
       "    <tr>\n",
       "      <th>Date</th>\n",
       "      <th></th>\n",
       "      <th></th>\n",
       "      <th></th>\n",
       "      <th></th>\n",
       "      <th></th>\n",
       "      <th></th>\n",
       "      <th></th>\n",
       "      <th></th>\n",
       "      <th></th>\n",
       "      <th></th>\n",
       "      <th></th>\n",
       "      <th></th>\n",
       "      <th></th>\n",
       "      <th></th>\n",
       "      <th></th>\n",
       "      <th></th>\n",
       "      <th></th>\n",
       "      <th></th>\n",
       "      <th></th>\n",
       "      <th></th>\n",
       "      <th></th>\n",
       "    </tr>\n",
       "  </thead>\n",
       "  <tbody>\n",
       "    <tr>\n",
       "      <th>2024-03-08</th>\n",
       "      <td>146.851028</td>\n",
       "      <td>169.927612</td>\n",
       "      <td>172.563904</td>\n",
       "      <td>164.910004</td>\n",
       "      <td>118.544167</td>\n",
       "      <td>83.308220</td>\n",
       "      <td>373.546021</td>\n",
       "      <td>551.690002</td>\n",
       "      <td>192.740906</td>\n",
       "      <td>52.810604</td>\n",
       "      <td>...</td>\n",
       "      <td>354800</td>\n",
       "      <td>3734300</td>\n",
       "      <td>1137600</td>\n",
       "      <td>8848600</td>\n",
       "      <td>16274600</td>\n",
       "      <td>761500</td>\n",
       "      <td>1365000</td>\n",
       "      <td>1395200</td>\n",
       "      <td>328600</td>\n",
       "      <td>6518000</td>\n",
       "    </tr>\n",
       "    <tr>\n",
       "      <th>2024-03-11</th>\n",
       "      <td>146.275040</td>\n",
       "      <td>171.938141</td>\n",
       "      <td>173.316498</td>\n",
       "      <td>162.990005</td>\n",
       "      <td>117.789551</td>\n",
       "      <td>85.875641</td>\n",
       "      <td>368.656555</td>\n",
       "      <td>560.419983</td>\n",
       "      <td>194.973846</td>\n",
       "      <td>52.906952</td>\n",
       "      <td>...</td>\n",
       "      <td>608500</td>\n",
       "      <td>2202100</td>\n",
       "      <td>1943400</td>\n",
       "      <td>9838100</td>\n",
       "      <td>17577300</td>\n",
       "      <td>1019900</td>\n",
       "      <td>1711300</td>\n",
       "      <td>1079800</td>\n",
       "      <td>268800</td>\n",
       "      <td>3383500</td>\n",
       "    </tr>\n",
       "    <tr>\n",
       "      <th>2024-03-12</th>\n",
       "      <td>146.821259</td>\n",
       "      <td>172.415863</td>\n",
       "      <td>174.561157</td>\n",
       "      <td>166.669998</td>\n",
       "      <td>118.348160</td>\n",
       "      <td>86.455696</td>\n",
       "      <td>375.827820</td>\n",
       "      <td>579.140015</td>\n",
       "      <td>195.947662</td>\n",
       "      <td>54.988159</td>\n",
       "      <td>...</td>\n",
       "      <td>641900</td>\n",
       "      <td>3330900</td>\n",
       "      <td>1436800</td>\n",
       "      <td>8809700</td>\n",
       "      <td>14957200</td>\n",
       "      <td>1029700</td>\n",
       "      <td>1464800</td>\n",
       "      <td>1073000</td>\n",
       "      <td>316100</td>\n",
       "      <td>2598400</td>\n",
       "    </tr>\n",
       "    <tr>\n",
       "      <th>2024-03-13</th>\n",
       "      <td>146.801392</td>\n",
       "      <td>170.325760</td>\n",
       "      <td>173.538422</td>\n",
       "      <td>164.759995</td>\n",
       "      <td>117.760155</td>\n",
       "      <td>86.531769</td>\n",
       "      <td>374.089264</td>\n",
       "      <td>573.549988</td>\n",
       "      <td>195.357468</td>\n",
       "      <td>56.144379</td>\n",
       "      <td>...</td>\n",
       "      <td>530100</td>\n",
       "      <td>2508500</td>\n",
       "      <td>1138400</td>\n",
       "      <td>5420000</td>\n",
       "      <td>17122200</td>\n",
       "      <td>872500</td>\n",
       "      <td>3361400</td>\n",
       "      <td>847000</td>\n",
       "      <td>286200</td>\n",
       "      <td>5947400</td>\n",
       "    </tr>\n",
       "    <tr>\n",
       "      <th>2024-03-14</th>\n",
       "      <td>144.209381</td>\n",
       "      <td>172.186966</td>\n",
       "      <td>174.831314</td>\n",
       "      <td>166.440002</td>\n",
       "      <td>116.476318</td>\n",
       "      <td>86.560295</td>\n",
       "      <td>373.585510</td>\n",
       "      <td>570.450012</td>\n",
       "      <td>191.255539</td>\n",
       "      <td>56.086571</td>\n",
       "      <td>...</td>\n",
       "      <td>482900</td>\n",
       "      <td>4124900</td>\n",
       "      <td>1882700</td>\n",
       "      <td>11860000</td>\n",
       "      <td>22121000</td>\n",
       "      <td>1335500</td>\n",
       "      <td>3091900</td>\n",
       "      <td>1203900</td>\n",
       "      <td>375300</td>\n",
       "      <td>6432600</td>\n",
       "    </tr>\n",
       "    <tr>\n",
       "      <th>...</th>\n",
       "      <td>...</td>\n",
       "      <td>...</td>\n",
       "      <td>...</td>\n",
       "      <td>...</td>\n",
       "      <td>...</td>\n",
       "      <td>...</td>\n",
       "      <td>...</td>\n",
       "      <td>...</td>\n",
       "      <td>...</td>\n",
       "      <td>...</td>\n",
       "      <td>...</td>\n",
       "      <td>...</td>\n",
       "      <td>...</td>\n",
       "      <td>...</td>\n",
       "      <td>...</td>\n",
       "      <td>...</td>\n",
       "      <td>...</td>\n",
       "      <td>...</td>\n",
       "      <td>...</td>\n",
       "      <td>...</td>\n",
       "      <td>...</td>\n",
       "    </tr>\n",
       "    <tr>\n",
       "      <th>2025-03-03</th>\n",
       "      <td>126.330002</td>\n",
       "      <td>238.029999</td>\n",
       "      <td>211.479996</td>\n",
       "      <td>140.979996</td>\n",
       "      <td>140.220001</td>\n",
       "      <td>92.980003</td>\n",
       "      <td>344.989990</td>\n",
       "      <td>440.720001</td>\n",
       "      <td>227.540009</td>\n",
       "      <td>46.580002</td>\n",
       "      <td>...</td>\n",
       "      <td>535400</td>\n",
       "      <td>6490600</td>\n",
       "      <td>2123200</td>\n",
       "      <td>5015600</td>\n",
       "      <td>18706900</td>\n",
       "      <td>1318000</td>\n",
       "      <td>1913300</td>\n",
       "      <td>1653200</td>\n",
       "      <td>586800</td>\n",
       "      <td>3020200</td>\n",
       "    </tr>\n",
       "    <tr>\n",
       "      <th>2025-03-04</th>\n",
       "      <td>123.059998</td>\n",
       "      <td>235.929993</td>\n",
       "      <td>207.759995</td>\n",
       "      <td>141.419998</td>\n",
       "      <td>137.580002</td>\n",
       "      <td>91.870003</td>\n",
       "      <td>345.779999</td>\n",
       "      <td>446.029999</td>\n",
       "      <td>226.179993</td>\n",
       "      <td>45.820000</td>\n",
       "      <td>...</td>\n",
       "      <td>470100</td>\n",
       "      <td>4294100</td>\n",
       "      <td>2272300</td>\n",
       "      <td>4212100</td>\n",
       "      <td>19394900</td>\n",
       "      <td>1819000</td>\n",
       "      <td>3969000</td>\n",
       "      <td>1233200</td>\n",
       "      <td>848400</td>\n",
       "      <td>3013700</td>\n",
       "    </tr>\n",
       "    <tr>\n",
       "      <th>2025-03-05</th>\n",
       "      <td>126.510002</td>\n",
       "      <td>235.740005</td>\n",
       "      <td>211.539993</td>\n",
       "      <td>142.580002</td>\n",
       "      <td>137.710007</td>\n",
       "      <td>91.349998</td>\n",
       "      <td>348.260010</td>\n",
       "      <td>451.239990</td>\n",
       "      <td>229.470001</td>\n",
       "      <td>45.799999</td>\n",
       "      <td>...</td>\n",
       "      <td>629100</td>\n",
       "      <td>3884900</td>\n",
       "      <td>2448900</td>\n",
       "      <td>6975000</td>\n",
       "      <td>24822200</td>\n",
       "      <td>1521100</td>\n",
       "      <td>2234300</td>\n",
       "      <td>2498400</td>\n",
       "      <td>578200</td>\n",
       "      <td>3667900</td>\n",
       "    </tr>\n",
       "    <tr>\n",
       "      <th>2025-03-06</th>\n",
       "      <td>126.550003</td>\n",
       "      <td>235.330002</td>\n",
       "      <td>210.750000</td>\n",
       "      <td>134.770004</td>\n",
       "      <td>135.080002</td>\n",
       "      <td>91.379997</td>\n",
       "      <td>341.839996</td>\n",
       "      <td>444.779999</td>\n",
       "      <td>222.770004</td>\n",
       "      <td>48.060001</td>\n",
       "      <td>...</td>\n",
       "      <td>636800</td>\n",
       "      <td>3997300</td>\n",
       "      <td>1797200</td>\n",
       "      <td>5262300</td>\n",
       "      <td>17150200</td>\n",
       "      <td>1504700</td>\n",
       "      <td>2020200</td>\n",
       "      <td>1081400</td>\n",
       "      <td>469000</td>\n",
       "      <td>3011500</td>\n",
       "    </tr>\n",
       "    <tr>\n",
       "      <th>2025-03-07</th>\n",
       "      <td>126.699997</td>\n",
       "      <td>239.070007</td>\n",
       "      <td>214.289993</td>\n",
       "      <td>134.389999</td>\n",
       "      <td>137.139999</td>\n",
       "      <td>91.000000</td>\n",
       "      <td>342.179993</td>\n",
       "      <td>449.399994</td>\n",
       "      <td>225.860001</td>\n",
       "      <td>49.439999</td>\n",
       "      <td>...</td>\n",
       "      <td>463800</td>\n",
       "      <td>5394200</td>\n",
       "      <td>1889600</td>\n",
       "      <td>3849600</td>\n",
       "      <td>19616400</td>\n",
       "      <td>1282800</td>\n",
       "      <td>3411300</td>\n",
       "      <td>1792900</td>\n",
       "      <td>1178300</td>\n",
       "      <td>3296800</td>\n",
       "    </tr>\n",
       "  </tbody>\n",
       "</table>\n",
       "<p>250 rows × 3018 columns</p>\n",
       "</div>"
      ],
      "text/plain": [
       "Price        Adj Close                                                  \\\n",
       "Ticker               A        AAPL        ABBV        ABNB         ABT   \n",
       "Date                                                                     \n",
       "2024-03-08  146.851028  169.927612  172.563904  164.910004  118.544167   \n",
       "2024-03-11  146.275040  171.938141  173.316498  162.990005  117.789551   \n",
       "2024-03-12  146.821259  172.415863  174.561157  166.669998  118.348160   \n",
       "2024-03-13  146.801392  170.325760  173.538422  164.759995  117.760155   \n",
       "2024-03-14  144.209381  172.186966  174.831314  166.440002  116.476318   \n",
       "...                ...         ...         ...         ...         ...   \n",
       "2025-03-03  126.330002  238.029999  211.479996  140.979996  140.220001   \n",
       "2025-03-04  123.059998  235.929993  207.759995  141.419998  137.580002   \n",
       "2025-03-05  126.510002  235.740005  211.539993  142.580002  137.710007   \n",
       "2025-03-06  126.550003  235.330002  210.750000  134.770004  135.080002   \n",
       "2025-03-07  126.699997  239.070007  214.289993  134.389999  137.139999   \n",
       "\n",
       "Price                                                                 ...  \\\n",
       "Ticker           ACGL         ACN        ADBE         ADI        ADM  ...   \n",
       "Date                                                                  ...   \n",
       "2024-03-08  83.308220  373.546021  551.690002  192.740906  52.810604  ...   \n",
       "2024-03-11  85.875641  368.656555  560.419983  194.973846  52.906952  ...   \n",
       "2024-03-12  86.455696  375.827820  579.140015  195.947662  54.988159  ...   \n",
       "2024-03-13  86.531769  374.089264  573.549988  195.357468  56.144379  ...   \n",
       "2024-03-14  86.560295  373.585510  570.450012  191.255539  56.086571  ...   \n",
       "...               ...         ...         ...         ...        ...  ...   \n",
       "2025-03-03  92.980003  344.989990  440.720001  227.540009  46.580002  ...   \n",
       "2025-03-04  91.870003  345.779999  446.029999  226.179993  45.820000  ...   \n",
       "2025-03-05  91.349998  348.260010  451.239990  229.470001  45.799999  ...   \n",
       "2025-03-06  91.379997  341.839996  444.779999  222.770004  48.060001  ...   \n",
       "2025-03-07  91.000000  342.179993  449.399994  225.860001  49.439999  ...   \n",
       "\n",
       "Price       Volume                                                          \\\n",
       "Ticker         WTW       WY     WYNN       XEL       XOM      XYL      YUM   \n",
       "Date                                                                         \n",
       "2024-03-08  354800  3734300  1137600   8848600  16274600   761500  1365000   \n",
       "2024-03-11  608500  2202100  1943400   9838100  17577300  1019900  1711300   \n",
       "2024-03-12  641900  3330900  1436800   8809700  14957200  1029700  1464800   \n",
       "2024-03-13  530100  2508500  1138400   5420000  17122200   872500  3361400   \n",
       "2024-03-14  482900  4124900  1882700  11860000  22121000  1335500  3091900   \n",
       "...            ...      ...      ...       ...       ...      ...      ...   \n",
       "2025-03-03  535400  6490600  2123200   5015600  18706900  1318000  1913300   \n",
       "2025-03-04  470100  4294100  2272300   4212100  19394900  1819000  3969000   \n",
       "2025-03-05  629100  3884900  2448900   6975000  24822200  1521100  2234300   \n",
       "2025-03-06  636800  3997300  1797200   5262300  17150200  1504700  2020200   \n",
       "2025-03-07  463800  5394200  1889600   3849600  19616400  1282800  3411300   \n",
       "\n",
       "Price                                  \n",
       "Ticker          ZBH     ZBRA      ZTS  \n",
       "Date                                   \n",
       "2024-03-08  1395200   328600  6518000  \n",
       "2024-03-11  1079800   268800  3383500  \n",
       "2024-03-12  1073000   316100  2598400  \n",
       "2024-03-13   847000   286200  5947400  \n",
       "2024-03-14  1203900   375300  6432600  \n",
       "...             ...      ...      ...  \n",
       "2025-03-03  1653200   586800  3020200  \n",
       "2025-03-04  1233200   848400  3013700  \n",
       "2025-03-05  2498400   578200  3667900  \n",
       "2025-03-06  1081400   469000  3011500  \n",
       "2025-03-07  1792900  1178300  3296800  \n",
       "\n",
       "[250 rows x 3018 columns]"
      ]
     },
     "execution_count": 7,
     "metadata": {},
     "output_type": "execute_result"
    }
   ],
   "source": [
    "import yfinance as yf\n",
    "\n",
    "df=yf.download(SP_500_DF.Symbol.tolist(),period='1y',auto_adjust=False) \n",
    "df"
   ]
  },
  {
   "cell_type": "code",
   "execution_count": 9,
   "metadata": {},
   "outputs": [
    {
     "data": {
      "application/vnd.plotly.v1+json": {
       "config": {
        "plotlyServerURL": "https://plot.ly"
       },
       "data": [
        {
         "close": {
          "bdata": "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",
          "dtype": "f8"
         },
         "high": {
          "bdata": "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",
          "dtype": "f8"
         },
         "low": {
          "bdata": "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",
          "dtype": "f8"
         },
         "open": {
          "bdata": "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",
          "dtype": "f8"
         },
         "type": "ohlc",
         "x": [
          "2024-03-08T00:00:00",
          "2024-03-11T00:00:00",
          "2024-03-12T00:00:00",
          "2024-03-13T00:00:00",
          "2024-03-14T00:00:00",
          "2024-03-15T00:00:00",
          "2024-03-18T00:00:00",
          "2024-03-19T00:00:00",
          "2024-03-20T00:00:00",
          "2024-03-21T00:00:00",
          "2024-03-22T00:00:00",
          "2024-03-25T00:00:00",
          "2024-03-26T00:00:00",
          "2024-03-27T00:00:00",
          "2024-03-28T00:00:00",
          "2024-04-01T00:00:00",
          "2024-04-02T00:00:00",
          "2024-04-03T00:00:00",
          "2024-04-04T00:00:00",
          "2024-04-05T00:00:00",
          "2024-04-08T00:00:00",
          "2024-04-09T00:00:00",
          "2024-04-10T00:00:00",
          "2024-04-11T00:00:00",
          "2024-04-12T00:00:00",
          "2024-04-15T00:00:00",
          "2024-04-16T00:00:00",
          "2024-04-17T00:00:00",
          "2024-04-18T00:00:00",
          "2024-04-19T00:00:00",
          "2024-04-22T00:00:00",
          "2024-04-23T00:00:00",
          "2024-04-24T00:00:00",
          "2024-04-25T00:00:00",
          "2024-04-26T00:00:00",
          "2024-04-29T00:00:00",
          "2024-04-30T00:00:00",
          "2024-05-01T00:00:00",
          "2024-05-02T00:00:00",
          "2024-05-03T00:00:00",
          "2024-05-06T00:00:00",
          "2024-05-07T00:00:00",
          "2024-05-08T00:00:00",
          "2024-05-09T00:00:00",
          "2024-05-10T00:00:00",
          "2024-05-13T00:00:00",
          "2024-05-14T00:00:00",
          "2024-05-15T00:00:00",
          "2024-05-16T00:00:00",
          "2024-05-17T00:00:00",
          "2024-05-20T00:00:00",
          "2024-05-21T00:00:00",
          "2024-05-22T00:00:00",
          "2024-05-23T00:00:00",
          "2024-05-24T00:00:00",
          "2024-05-28T00:00:00",
          "2024-05-29T00:00:00",
          "2024-05-30T00:00:00",
          "2024-05-31T00:00:00",
          "2024-06-03T00:00:00",
          "2024-06-04T00:00:00",
          "2024-06-05T00:00:00",
          "2024-06-06T00:00:00",
          "2024-06-07T00:00:00",
          "2024-06-10T00:00:00",
          "2024-06-11T00:00:00",
          "2024-06-12T00:00:00",
          "2024-06-13T00:00:00",
          "2024-06-14T00:00:00",
          "2024-06-17T00:00:00",
          "2024-06-18T00:00:00",
          "2024-06-20T00:00:00",
          "2024-06-21T00:00:00",
          "2024-06-24T00:00:00",
          "2024-06-25T00:00:00",
          "2024-06-26T00:00:00",
          "2024-06-27T00:00:00",
          "2024-06-28T00:00:00",
          "2024-07-01T00:00:00",
          "2024-07-02T00:00:00",
          "2024-07-03T00:00:00",
          "2024-07-05T00:00:00",
          "2024-07-08T00:00:00",
          "2024-07-09T00:00:00",
          "2024-07-10T00:00:00",
          "2024-07-11T00:00:00",
          "2024-07-12T00:00:00",
          "2024-07-15T00:00:00",
          "2024-07-16T00:00:00",
          "2024-07-17T00:00:00",
          "2024-07-18T00:00:00",
          "2024-07-19T00:00:00",
          "2024-07-22T00:00:00",
          "2024-07-23T00:00:00",
          "2024-07-24T00:00:00",
          "2024-07-25T00:00:00",
          "2024-07-26T00:00:00",
          "2024-07-29T00:00:00",
          "2024-07-30T00:00:00",
          "2024-07-31T00:00:00",
          "2024-08-01T00:00:00",
          "2024-08-02T00:00:00",
          "2024-08-05T00:00:00",
          "2024-08-06T00:00:00",
          "2024-08-07T00:00:00",
          "2024-08-08T00:00:00",
          "2024-08-09T00:00:00",
          "2024-08-12T00:00:00",
          "2024-08-13T00:00:00",
          "2024-08-14T00:00:00",
          "2024-08-15T00:00:00",
          "2024-08-16T00:00:00",
          "2024-08-19T00:00:00",
          "2024-08-20T00:00:00",
          "2024-08-21T00:00:00",
          "2024-08-22T00:00:00",
          "2024-08-23T00:00:00",
          "2024-08-26T00:00:00",
          "2024-08-27T00:00:00",
          "2024-08-28T00:00:00",
          "2024-08-29T00:00:00",
          "2024-08-30T00:00:00",
          "2024-09-03T00:00:00",
          "2024-09-04T00:00:00",
          "2024-09-05T00:00:00",
          "2024-09-06T00:00:00",
          "2024-09-09T00:00:00",
          "2024-09-10T00:00:00",
          "2024-09-11T00:00:00",
          "2024-09-12T00:00:00",
          "2024-09-13T00:00:00",
          "2024-09-16T00:00:00",
          "2024-09-17T00:00:00",
          "2024-09-18T00:00:00",
          "2024-09-19T00:00:00",
          "2024-09-20T00:00:00",
          "2024-09-23T00:00:00",
          "2024-09-24T00:00:00",
          "2024-09-25T00:00:00",
          "2024-09-26T00:00:00",
          "2024-09-27T00:00:00",
          "2024-09-30T00:00:00",
          "2024-10-01T00:00:00",
          "2024-10-02T00:00:00",
          "2024-10-03T00:00:00",
          "2024-10-04T00:00:00",
          "2024-10-07T00:00:00",
          "2024-10-08T00:00:00",
          "2024-10-09T00:00:00",
          "2024-10-10T00:00:00",
          "2024-10-11T00:00:00",
          "2024-10-14T00:00:00",
          "2024-10-15T00:00:00",
          "2024-10-16T00:00:00",
          "2024-10-17T00:00:00",
          "2024-10-18T00:00:00",
          "2024-10-21T00:00:00",
          "2024-10-22T00:00:00",
          "2024-10-23T00:00:00",
          "2024-10-24T00:00:00",
          "2024-10-25T00:00:00",
          "2024-10-28T00:00:00",
          "2024-10-29T00:00:00",
          "2024-10-30T00:00:00",
          "2024-10-31T00:00:00",
          "2024-11-01T00:00:00",
          "2024-11-04T00:00:00",
          "2024-11-05T00:00:00",
          "2024-11-06T00:00:00",
          "2024-11-07T00:00:00",
          "2024-11-08T00:00:00",
          "2024-11-11T00:00:00",
          "2024-11-12T00:00:00",
          "2024-11-13T00:00:00",
          "2024-11-14T00:00:00",
          "2024-11-15T00:00:00",
          "2024-11-18T00:00:00",
          "2024-11-19T00:00:00",
          "2024-11-20T00:00:00",
          "2024-11-21T00:00:00",
          "2024-11-22T00:00:00",
          "2024-11-25T00:00:00",
          "2024-11-26T00:00:00",
          "2024-11-27T00:00:00",
          "2024-11-29T00:00:00",
          "2024-12-02T00:00:00",
          "2024-12-03T00:00:00",
          "2024-12-04T00:00:00",
          "2024-12-05T00:00:00",
          "2024-12-06T00:00:00",
          "2024-12-09T00:00:00",
          "2024-12-10T00:00:00",
          "2024-12-11T00:00:00",
          "2024-12-12T00:00:00",
          "2024-12-13T00:00:00",
          "2024-12-16T00:00:00",
          "2024-12-17T00:00:00",
          "2024-12-18T00:00:00",
          "2024-12-19T00:00:00",
          "2024-12-20T00:00:00",
          "2024-12-23T00:00:00",
          "2024-12-24T00:00:00",
          "2024-12-26T00:00:00",
          "2024-12-27T00:00:00",
          "2024-12-30T00:00:00",
          "2024-12-31T00:00:00",
          "2025-01-02T00:00:00",
          "2025-01-03T00:00:00",
          "2025-01-06T00:00:00",
          "2025-01-07T00:00:00",
          "2025-01-08T00:00:00",
          "2025-01-10T00:00:00",
          "2025-01-13T00:00:00",
          "2025-01-14T00:00:00",
          "2025-01-15T00:00:00",
          "2025-01-16T00:00:00",
          "2025-01-17T00:00:00",
          "2025-01-21T00:00:00",
          "2025-01-22T00:00:00",
          "2025-01-23T00:00:00",
          "2025-01-24T00:00:00",
          "2025-01-27T00:00:00",
          "2025-01-28T00:00:00",
          "2025-01-29T00:00:00",
          "2025-01-30T00:00:00",
          "2025-01-31T00:00:00",
          "2025-02-03T00:00:00",
          "2025-02-04T00:00:00",
          "2025-02-05T00:00:00",
          "2025-02-06T00:00:00",
          "2025-02-07T00:00:00",
          "2025-02-10T00:00:00",
          "2025-02-11T00:00:00",
          "2025-02-12T00:00:00",
          "2025-02-13T00:00:00",
          "2025-02-14T00:00:00",
          "2025-02-18T00:00:00",
          "2025-02-19T00:00:00",
          "2025-02-20T00:00:00",
          "2025-02-21T00:00:00",
          "2025-02-24T00:00:00",
          "2025-02-25T00:00:00",
          "2025-02-26T00:00:00",
          "2025-02-27T00:00:00",
          "2025-02-28T00:00:00",
          "2025-03-03T00:00:00",
          "2025-03-04T00:00:00",
          "2025-03-05T00:00:00",
          "2025-03-06T00:00:00",
          "2025-03-07T00:00:00"
         ],
         "xaxis": "x",
         "yaxis": "y"
        },
        {
         "name": "Volume",
         "type": "bar",
         "x": [
          "2024-03-08T00:00:00",
          "2024-03-11T00:00:00",
          "2024-03-12T00:00:00",
          "2024-03-13T00:00:00",
          "2024-03-14T00:00:00",
          "2024-03-15T00:00:00",
          "2024-03-18T00:00:00",
          "2024-03-19T00:00:00",
          "2024-03-20T00:00:00",
          "2024-03-21T00:00:00",
          "2024-03-22T00:00:00",
          "2024-03-25T00:00:00",
          "2024-03-26T00:00:00",
          "2024-03-27T00:00:00",
          "2024-03-28T00:00:00",
          "2024-04-01T00:00:00",
          "2024-04-02T00:00:00",
          "2024-04-03T00:00:00",
          "2024-04-04T00:00:00",
          "2024-04-05T00:00:00",
          "2024-04-08T00:00:00",
          "2024-04-09T00:00:00",
          "2024-04-10T00:00:00",
          "2024-04-11T00:00:00",
          "2024-04-12T00:00:00",
          "2024-04-15T00:00:00",
          "2024-04-16T00:00:00",
          "2024-04-17T00:00:00",
          "2024-04-18T00:00:00",
          "2024-04-19T00:00:00",
          "2024-04-22T00:00:00",
          "2024-04-23T00:00:00",
          "2024-04-24T00:00:00",
          "2024-04-25T00:00:00",
          "2024-04-26T00:00:00",
          "2024-04-29T00:00:00",
          "2024-04-30T00:00:00",
          "2024-05-01T00:00:00",
          "2024-05-02T00:00:00",
          "2024-05-03T00:00:00",
          "2024-05-06T00:00:00",
          "2024-05-07T00:00:00",
          "2024-05-08T00:00:00",
          "2024-05-09T00:00:00",
          "2024-05-10T00:00:00",
          "2024-05-13T00:00:00",
          "2024-05-14T00:00:00",
          "2024-05-15T00:00:00",
          "2024-05-16T00:00:00",
          "2024-05-17T00:00:00",
          "2024-05-20T00:00:00",
          "2024-05-21T00:00:00",
          "2024-05-22T00:00:00",
          "2024-05-23T00:00:00",
          "2024-05-24T00:00:00",
          "2024-05-28T00:00:00",
          "2024-05-29T00:00:00",
          "2024-05-30T00:00:00",
          "2024-05-31T00:00:00",
          "2024-06-03T00:00:00",
          "2024-06-04T00:00:00",
          "2024-06-05T00:00:00",
          "2024-06-06T00:00:00",
          "2024-06-07T00:00:00",
          "2024-06-10T00:00:00",
          "2024-06-11T00:00:00",
          "2024-06-12T00:00:00",
          "2024-06-13T00:00:00",
          "2024-06-14T00:00:00",
          "2024-06-17T00:00:00",
          "2024-06-18T00:00:00",
          "2024-06-20T00:00:00",
          "2024-06-21T00:00:00",
          "2024-06-24T00:00:00",
          "2024-06-25T00:00:00",
          "2024-06-26T00:00:00",
          "2024-06-27T00:00:00",
          "2024-06-28T00:00:00",
          "2024-07-01T00:00:00",
          "2024-07-02T00:00:00",
          "2024-07-03T00:00:00",
          "2024-07-05T00:00:00",
          "2024-07-08T00:00:00",
          "2024-07-09T00:00:00",
          "2024-07-10T00:00:00",
          "2024-07-11T00:00:00",
          "2024-07-12T00:00:00",
          "2024-07-15T00:00:00",
          "2024-07-16T00:00:00",
          "2024-07-17T00:00:00",
          "2024-07-18T00:00:00",
          "2024-07-19T00:00:00",
          "2024-07-22T00:00:00",
          "2024-07-23T00:00:00",
          "2024-07-24T00:00:00",
          "2024-07-25T00:00:00",
          "2024-07-26T00:00:00",
          "2024-07-29T00:00:00",
          "2024-07-30T00:00:00",
          "2024-07-31T00:00:00",
          "2024-08-01T00:00:00",
          "2024-08-02T00:00:00",
          "2024-08-05T00:00:00",
          "2024-08-06T00:00:00",
          "2024-08-07T00:00:00",
          "2024-08-08T00:00:00",
          "2024-08-09T00:00:00",
          "2024-08-12T00:00:00",
          "2024-08-13T00:00:00",
          "2024-08-14T00:00:00",
          "2024-08-15T00:00:00",
          "2024-08-16T00:00:00",
          "2024-08-19T00:00:00",
          "2024-08-20T00:00:00",
          "2024-08-21T00:00:00",
          "2024-08-22T00:00:00",
          "2024-08-23T00:00:00",
          "2024-08-26T00:00:00",
          "2024-08-27T00:00:00",
          "2024-08-28T00:00:00",
          "2024-08-29T00:00:00",
          "2024-08-30T00:00:00",
          "2024-09-03T00:00:00",
          "2024-09-04T00:00:00",
          "2024-09-05T00:00:00",
          "2024-09-06T00:00:00",
          "2024-09-09T00:00:00",
          "2024-09-10T00:00:00",
          "2024-09-11T00:00:00",
          "2024-09-12T00:00:00",
          "2024-09-13T00:00:00",
          "2024-09-16T00:00:00",
          "2024-09-17T00:00:00",
          "2024-09-18T00:00:00",
          "2024-09-19T00:00:00",
          "2024-09-20T00:00:00",
          "2024-09-23T00:00:00",
          "2024-09-24T00:00:00",
          "2024-09-25T00:00:00",
          "2024-09-26T00:00:00",
          "2024-09-27T00:00:00",
          "2024-09-30T00:00:00",
          "2024-10-01T00:00:00",
          "2024-10-02T00:00:00",
          "2024-10-03T00:00:00",
          "2024-10-04T00:00:00",
          "2024-10-07T00:00:00",
          "2024-10-08T00:00:00",
          "2024-10-09T00:00:00",
          "2024-10-10T00:00:00",
          "2024-10-11T00:00:00",
          "2024-10-14T00:00:00",
          "2024-10-15T00:00:00",
          "2024-10-16T00:00:00",
          "2024-10-17T00:00:00",
          "2024-10-18T00:00:00",
          "2024-10-21T00:00:00",
          "2024-10-22T00:00:00",
          "2024-10-23T00:00:00",
          "2024-10-24T00:00:00",
          "2024-10-25T00:00:00",
          "2024-10-28T00:00:00",
          "2024-10-29T00:00:00",
          "2024-10-30T00:00:00",
          "2024-10-31T00:00:00",
          "2024-11-01T00:00:00",
          "2024-11-04T00:00:00",
          "2024-11-05T00:00:00",
          "2024-11-06T00:00:00",
          "2024-11-07T00:00:00",
          "2024-11-08T00:00:00",
          "2024-11-11T00:00:00",
          "2024-11-12T00:00:00",
          "2024-11-13T00:00:00",
          "2024-11-14T00:00:00",
          "2024-11-15T00:00:00",
          "2024-11-18T00:00:00",
          "2024-11-19T00:00:00",
          "2024-11-20T00:00:00",
          "2024-11-21T00:00:00",
          "2024-11-22T00:00:00",
          "2024-11-25T00:00:00",
          "2024-11-26T00:00:00",
          "2024-11-27T00:00:00",
          "2024-11-29T00:00:00",
          "2024-12-02T00:00:00",
          "2024-12-03T00:00:00",
          "2024-12-04T00:00:00",
          "2024-12-05T00:00:00",
          "2024-12-06T00:00:00",
          "2024-12-09T00:00:00",
          "2024-12-10T00:00:00",
          "2024-12-11T00:00:00",
          "2024-12-12T00:00:00",
          "2024-12-13T00:00:00",
          "2024-12-16T00:00:00",
          "2024-12-17T00:00:00",
          "2024-12-18T00:00:00",
          "2024-12-19T00:00:00",
          "2024-12-20T00:00:00",
          "2024-12-23T00:00:00",
          "2024-12-24T00:00:00",
          "2024-12-26T00:00:00",
          "2024-12-27T00:00:00",
          "2024-12-30T00:00:00",
          "2024-12-31T00:00:00",
          "2025-01-02T00:00:00",
          "2025-01-03T00:00:00",
          "2025-01-06T00:00:00",
          "2025-01-07T00:00:00",
          "2025-01-08T00:00:00",
          "2025-01-10T00:00:00",
          "2025-01-13T00:00:00",
          "2025-01-14T00:00:00",
          "2025-01-15T00:00:00",
          "2025-01-16T00:00:00",
          "2025-01-17T00:00:00",
          "2025-01-21T00:00:00",
          "2025-01-22T00:00:00",
          "2025-01-23T00:00:00",
          "2025-01-24T00:00:00",
          "2025-01-27T00:00:00",
          "2025-01-28T00:00:00",
          "2025-01-29T00:00:00",
          "2025-01-30T00:00:00",
          "2025-01-31T00:00:00",
          "2025-02-03T00:00:00",
          "2025-02-04T00:00:00",
          "2025-02-05T00:00:00",
          "2025-02-06T00:00:00",
          "2025-02-07T00:00:00",
          "2025-02-10T00:00:00",
          "2025-02-11T00:00:00",
          "2025-02-12T00:00:00",
          "2025-02-13T00:00:00",
          "2025-02-14T00:00:00",
          "2025-02-18T00:00:00",
          "2025-02-19T00:00:00",
          "2025-02-20T00:00:00",
          "2025-02-21T00:00:00",
          "2025-02-24T00:00:00",
          "2025-02-25T00:00:00",
          "2025-02-26T00:00:00",
          "2025-02-27T00:00:00",
          "2025-02-28T00:00:00",
          "2025-03-03T00:00:00",
          "2025-03-04T00:00:00",
          "2025-03-05T00:00:00",
          "2025-03-06T00:00:00",
          "2025-03-07T00:00:00"
         ],
         "xaxis": "x2",
         "y": {
          "bdata": "SKQVRGADbyj4A9In6DXkJbCk5iNwdEUmgMPfJ/iDECjY640cIOWhHBif+CJA7egggKWdHjis7iLgzvAZqLP3GkAI0Bk4xg4WCArtGTCa0hcgmOEQeIQDHqi2vhkIQroZCIdwGYjRaBoIqhQWQDSHHWClqBowdio0CHGLIxjhIxqArIce6IFPGbjC1yD4OS8XSMKtFdjUXiEQRIYWiDO+F/hmbBYwTxEaqBtqE0gFiBZIp/wTgCpEEXhWrBFYIeYYgB1PE/hycBXg8/8SUFGbE0C0syCoFMYx8I6ZGcDW5ybQ4zkh8F4MHZimjSTAVCEaYDwKGFDGfh/AdJ4n0IKUGAy+uRKg3EMN+HTbEfQIig/Q2m8SUDoyEXwyixHQhNweHOcRJ+QcYBxsAGEZnJKiFTTwDQ8cZ84S/AH7EHAfBA2IEdwMvBPEDPSqKg5IWQIRqBzXDuy6VhY0mQ8POM5qDFwfzQw4PkAXLMIhE3iS8gyk0WEP2KtdCoR6iRO4EGwbPOp8ESSAyg6UfAQduBA0HJxmMx/sJ7scoLTzIIQHYRgQFYYYcBJcFyjuVRFcpmcTLJyiEkB9OBQsnvUSzCcJEqBi+RJo+OIR0P1eD6wwbBZcGkQTHGHJE4h3ERLserUaRJYAGzCl5BMcz3AcHHIzFowrShLUnacYwJBTEDSv/Q9Akk8aVILhFRwPNQ7M9tMOjOjSDTQXfxJgjX4RwOnLFhTMSgwQXSgVpBH4EHQMCRKwRScQZO+ADaSYARKMGTkNMHyEEJQ7hg7YW6MUhMcHEfCVrA6EYHEO3DAlCjRY2Q1YPoUWVL7JDzzXQxJY7H4KBMjED7A9fQ0Q8goRVO1FCjTqOQwMuVgKALBkCfSzsQowehgQ+IRYDAh0LQs4m5EJ/EttDqSAWwyIcngKYBHeCszs1gtENnALREaXC6S56A4QaDkNFHyUDVREeBKo9eUXuEUXDkxljxRUj1cLVCV+DSCpdAjwqzsKMMLMCewzyA2Q/UkKAF48C7ieSAskqoQM8G0FC4hffQkUo8wNfNguDnxJdg+Ud4kQoA+ADFhBRRL8XH4KiJFEBiAo7QZI4ioKrG3/CcArRwkgA9ELBC+rDXhW0Q84xfcUjBWNDUTDXwzEIjUMZHmoCxQxCguQrngMwOX9CwhpyQvIRSoO7BRLCUCX/A00Xs4w4AGNItix1xs8kWsXJJ5EF3SbIBZwpEoPEFOhD9BV/Q682JkNrP3uDIDVqQpIqI0J8IrECzDIpguYXhANgGX8CXDLkwgAU5oNbMX7DlysLRDIxzkTeFNqGhwPMReYLoUYZH27F+ym8hDM2CQT/CJUFA==",
          "dtype": "i4"
         },
         "yaxis": "y2"
        }
       ],
       "layout": {
        "annotations": [
         {
          "font": {
           "size": 16
          },
          "showarrow": false,
          "text": "NVDA Candlestick Chart",
          "x": 0.5,
          "xanchor": "center",
          "xref": "paper",
          "y": 1,
          "yanchor": "bottom",
          "yref": "paper"
         },
         {
          "font": {
           "size": 16
          },
          "showarrow": false,
          "text": "NVDA Volume",
          "x": 0.5,
          "xanchor": "center",
          "xref": "paper",
          "y": 0.17,
          "yanchor": "bottom",
          "yref": "paper"
         }
        ],
        "height": 800,
        "showlegend": false,
        "template": {
         "data": {
          "bar": [
           {
            "error_x": {
             "color": "#2a3f5f"
            },
            "error_y": {
             "color": "#2a3f5f"
            },
            "marker": {
             "line": {
              "color": "#E5ECF6",
              "width": 0.5
             },
             "pattern": {
              "fillmode": "overlay",
              "size": 10,
              "solidity": 0.2
             }
            },
            "type": "bar"
           }
          ],
          "barpolar": [
           {
            "marker": {
             "line": {
              "color": "#E5ECF6",
              "width": 0.5
             },
             "pattern": {
              "fillmode": "overlay",
              "size": 10,
              "solidity": 0.2
             }
            },
            "type": "barpolar"
           }
          ],
          "carpet": [
           {
            "aaxis": {
             "endlinecolor": "#2a3f5f",
             "gridcolor": "white",
             "linecolor": "white",
             "minorgridcolor": "white",
             "startlinecolor": "#2a3f5f"
            },
            "baxis": {
             "endlinecolor": "#2a3f5f",
             "gridcolor": "white",
             "linecolor": "white",
             "minorgridcolor": "white",
             "startlinecolor": "#2a3f5f"
            },
            "type": "carpet"
           }
          ],
          "choropleth": [
           {
            "colorbar": {
             "outlinewidth": 0,
             "ticks": ""
            },
            "type": "choropleth"
           }
          ],
          "contour": [
           {
            "colorbar": {
             "outlinewidth": 0,
             "ticks": ""
            },
            "colorscale": [
             [
              0,
              "#0d0887"
             ],
             [
              0.1111111111111111,
              "#46039f"
             ],
             [
              0.2222222222222222,
              "#7201a8"
             ],
             [
              0.3333333333333333,
              "#9c179e"
             ],
             [
              0.4444444444444444,
              "#bd3786"
             ],
             [
              0.5555555555555556,
              "#d8576b"
             ],
             [
              0.6666666666666666,
              "#ed7953"
             ],
             [
              0.7777777777777778,
              "#fb9f3a"
             ],
             [
              0.8888888888888888,
              "#fdca26"
             ],
             [
              1,
              "#f0f921"
             ]
            ],
            "type": "contour"
           }
          ],
          "contourcarpet": [
           {
            "colorbar": {
             "outlinewidth": 0,
             "ticks": ""
            },
            "type": "contourcarpet"
           }
          ],
          "heatmap": [
           {
            "colorbar": {
             "outlinewidth": 0,
             "ticks": ""
            },
            "colorscale": [
             [
              0,
              "#0d0887"
             ],
             [
              0.1111111111111111,
              "#46039f"
             ],
             [
              0.2222222222222222,
              "#7201a8"
             ],
             [
              0.3333333333333333,
              "#9c179e"
             ],
             [
              0.4444444444444444,
              "#bd3786"
             ],
             [
              0.5555555555555556,
              "#d8576b"
             ],
             [
              0.6666666666666666,
              "#ed7953"
             ],
             [
              0.7777777777777778,
              "#fb9f3a"
             ],
             [
              0.8888888888888888,
              "#fdca26"
             ],
             [
              1,
              "#f0f921"
             ]
            ],
            "type": "heatmap"
           }
          ],
          "histogram": [
           {
            "marker": {
             "pattern": {
              "fillmode": "overlay",
              "size": 10,
              "solidity": 0.2
             }
            },
            "type": "histogram"
           }
          ],
          "histogram2d": [
           {
            "colorbar": {
             "outlinewidth": 0,
             "ticks": ""
            },
            "colorscale": [
             [
              0,
              "#0d0887"
             ],
             [
              0.1111111111111111,
              "#46039f"
             ],
             [
              0.2222222222222222,
              "#7201a8"
             ],
             [
              0.3333333333333333,
              "#9c179e"
             ],
             [
              0.4444444444444444,
              "#bd3786"
             ],
             [
              0.5555555555555556,
              "#d8576b"
             ],
             [
              0.6666666666666666,
              "#ed7953"
             ],
             [
              0.7777777777777778,
              "#fb9f3a"
             ],
             [
              0.8888888888888888,
              "#fdca26"
             ],
             [
              1,
              "#f0f921"
             ]
            ],
            "type": "histogram2d"
           }
          ],
          "histogram2dcontour": [
           {
            "colorbar": {
             "outlinewidth": 0,
             "ticks": ""
            },
            "colorscale": [
             [
              0,
              "#0d0887"
             ],
             [
              0.1111111111111111,
              "#46039f"
             ],
             [
              0.2222222222222222,
              "#7201a8"
             ],
             [
              0.3333333333333333,
              "#9c179e"
             ],
             [
              0.4444444444444444,
              "#bd3786"
             ],
             [
              0.5555555555555556,
              "#d8576b"
             ],
             [
              0.6666666666666666,
              "#ed7953"
             ],
             [
              0.7777777777777778,
              "#fb9f3a"
             ],
             [
              0.8888888888888888,
              "#fdca26"
             ],
             [
              1,
              "#f0f921"
             ]
            ],
            "type": "histogram2dcontour"
           }
          ],
          "mesh3d": [
           {
            "colorbar": {
             "outlinewidth": 0,
             "ticks": ""
            },
            "type": "mesh3d"
           }
          ],
          "parcoords": [
           {
            "line": {
             "colorbar": {
              "outlinewidth": 0,
              "ticks": ""
             }
            },
            "type": "parcoords"
           }
          ],
          "pie": [
           {
            "automargin": true,
            "type": "pie"
           }
          ],
          "scatter": [
           {
            "fillpattern": {
             "fillmode": "overlay",
             "size": 10,
             "solidity": 0.2
            },
            "type": "scatter"
           }
          ],
          "scatter3d": [
           {
            "line": {
             "colorbar": {
              "outlinewidth": 0,
              "ticks": ""
             }
            },
            "marker": {
             "colorbar": {
              "outlinewidth": 0,
              "ticks": ""
             }
            },
            "type": "scatter3d"
           }
          ],
          "scattercarpet": [
           {
            "marker": {
             "colorbar": {
              "outlinewidth": 0,
              "ticks": ""
             }
            },
            "type": "scattercarpet"
           }
          ],
          "scattergeo": [
           {
            "marker": {
             "colorbar": {
              "outlinewidth": 0,
              "ticks": ""
             }
            },
            "type": "scattergeo"
           }
          ],
          "scattergl": [
           {
            "marker": {
             "colorbar": {
              "outlinewidth": 0,
              "ticks": ""
             }
            },
            "type": "scattergl"
           }
          ],
          "scattermap": [
           {
            "marker": {
             "colorbar": {
              "outlinewidth": 0,
              "ticks": ""
             }
            },
            "type": "scattermap"
           }
          ],
          "scattermapbox": [
           {
            "marker": {
             "colorbar": {
              "outlinewidth": 0,
              "ticks": ""
             }
            },
            "type": "scattermapbox"
           }
          ],
          "scatterpolar": [
           {
            "marker": {
             "colorbar": {
              "outlinewidth": 0,
              "ticks": ""
             }
            },
            "type": "scatterpolar"
           }
          ],
          "scatterpolargl": [
           {
            "marker": {
             "colorbar": {
              "outlinewidth": 0,
              "ticks": ""
             }
            },
            "type": "scatterpolargl"
           }
          ],
          "scatterternary": [
           {
            "marker": {
             "colorbar": {
              "outlinewidth": 0,
              "ticks": ""
             }
            },
            "type": "scatterternary"
           }
          ],
          "surface": [
           {
            "colorbar": {
             "outlinewidth": 0,
             "ticks": ""
            },
            "colorscale": [
             [
              0,
              "#0d0887"
             ],
             [
              0.1111111111111111,
              "#46039f"
             ],
             [
              0.2222222222222222,
              "#7201a8"
             ],
             [
              0.3333333333333333,
              "#9c179e"
             ],
             [
              0.4444444444444444,
              "#bd3786"
             ],
             [
              0.5555555555555556,
              "#d8576b"
             ],
             [
              0.6666666666666666,
              "#ed7953"
             ],
             [
              0.7777777777777778,
              "#fb9f3a"
             ],
             [
              0.8888888888888888,
              "#fdca26"
             ],
             [
              1,
              "#f0f921"
             ]
            ],
            "type": "surface"
           }
          ],
          "table": [
           {
            "cells": {
             "fill": {
              "color": "#EBF0F8"
             },
             "line": {
              "color": "white"
             }
            },
            "header": {
             "fill": {
              "color": "#C8D4E3"
             },
             "line": {
              "color": "white"
             }
            },
            "type": "table"
           }
          ]
         },
         "layout": {
          "annotationdefaults": {
           "arrowcolor": "#2a3f5f",
           "arrowhead": 0,
           "arrowwidth": 1
          },
          "autotypenumbers": "strict",
          "coloraxis": {
           "colorbar": {
            "outlinewidth": 0,
            "ticks": ""
           }
          },
          "colorscale": {
           "diverging": [
            [
             0,
             "#8e0152"
            ],
            [
             0.1,
             "#c51b7d"
            ],
            [
             0.2,
             "#de77ae"
            ],
            [
             0.3,
             "#f1b6da"
            ],
            [
             0.4,
             "#fde0ef"
            ],
            [
             0.5,
             "#f7f7f7"
            ],
            [
             0.6,
             "#e6f5d0"
            ],
            [
             0.7,
             "#b8e186"
            ],
            [
             0.8,
             "#7fbc41"
            ],
            [
             0.9,
             "#4d9221"
            ],
            [
             1,
             "#276419"
            ]
           ],
           "sequential": [
            [
             0,
             "#0d0887"
            ],
            [
             0.1111111111111111,
             "#46039f"
            ],
            [
             0.2222222222222222,
             "#7201a8"
            ],
            [
             0.3333333333333333,
             "#9c179e"
            ],
            [
             0.4444444444444444,
             "#bd3786"
            ],
            [
             0.5555555555555556,
             "#d8576b"
            ],
            [
             0.6666666666666666,
             "#ed7953"
            ],
            [
             0.7777777777777778,
             "#fb9f3a"
            ],
            [
             0.8888888888888888,
             "#fdca26"
            ],
            [
             1,
             "#f0f921"
            ]
           ],
           "sequentialminus": [
            [
             0,
             "#0d0887"
            ],
            [
             0.1111111111111111,
             "#46039f"
            ],
            [
             0.2222222222222222,
             "#7201a8"
            ],
            [
             0.3333333333333333,
             "#9c179e"
            ],
            [
             0.4444444444444444,
             "#bd3786"
            ],
            [
             0.5555555555555556,
             "#d8576b"
            ],
            [
             0.6666666666666666,
             "#ed7953"
            ],
            [
             0.7777777777777778,
             "#fb9f3a"
            ],
            [
             0.8888888888888888,
             "#fdca26"
            ],
            [
             1,
             "#f0f921"
            ]
           ]
          },
          "colorway": [
           "#636efa",
           "#EF553B",
           "#00cc96",
           "#ab63fa",
           "#FFA15A",
           "#19d3f3",
           "#FF6692",
           "#B6E880",
           "#FF97FF",
           "#FECB52"
          ],
          "font": {
           "color": "#2a3f5f"
          },
          "geo": {
           "bgcolor": "white",
           "lakecolor": "white",
           "landcolor": "#E5ECF6",
           "showlakes": true,
           "showland": true,
           "subunitcolor": "white"
          },
          "hoverlabel": {
           "align": "left"
          },
          "hovermode": "closest",
          "mapbox": {
           "style": "light"
          },
          "paper_bgcolor": "white",
          "plot_bgcolor": "#E5ECF6",
          "polar": {
           "angularaxis": {
            "gridcolor": "white",
            "linecolor": "white",
            "ticks": ""
           },
           "bgcolor": "#E5ECF6",
           "radialaxis": {
            "gridcolor": "white",
            "linecolor": "white",
            "ticks": ""
           }
          },
          "scene": {
           "xaxis": {
            "backgroundcolor": "#E5ECF6",
            "gridcolor": "white",
            "gridwidth": 2,
            "linecolor": "white",
            "showbackground": true,
            "ticks": "",
            "zerolinecolor": "white"
           },
           "yaxis": {
            "backgroundcolor": "#E5ECF6",
            "gridcolor": "white",
            "gridwidth": 2,
            "linecolor": "white",
            "showbackground": true,
            "ticks": "",
            "zerolinecolor": "white"
           },
           "zaxis": {
            "backgroundcolor": "#E5ECF6",
            "gridcolor": "white",
            "gridwidth": 2,
            "linecolor": "white",
            "showbackground": true,
            "ticks": "",
            "zerolinecolor": "white"
           }
          },
          "shapedefaults": {
           "line": {
            "color": "#2a3f5f"
           }
          },
          "ternary": {
           "aaxis": {
            "gridcolor": "white",
            "linecolor": "white",
            "ticks": ""
           },
           "baxis": {
            "gridcolor": "white",
            "linecolor": "white",
            "ticks": ""
           },
           "bgcolor": "#E5ECF6",
           "caxis": {
            "gridcolor": "white",
            "linecolor": "white",
            "ticks": ""
           }
          },
          "title": {
           "x": 0.05
          },
          "xaxis": {
           "automargin": true,
           "gridcolor": "white",
           "linecolor": "white",
           "ticks": "",
           "title": {
            "standoff": 15
           },
           "zerolinecolor": "white",
           "zerolinewidth": 2
          },
          "yaxis": {
           "automargin": true,
           "gridcolor": "white",
           "linecolor": "white",
           "ticks": "",
           "title": {
            "standoff": 15
           },
           "zerolinecolor": "white",
           "zerolinewidth": 2
          }
         }
        },
        "title": {
         "font": {
          "size": 24
         },
         "text": "NVDA Candlestick and Volume Chart",
         "x": 0.5
        },
        "xaxis": {
         "anchor": "y",
         "domain": [
          0,
          1
         ],
         "matches": "x2",
         "rangeslider": {
          "visible": false
         },
         "showticklabels": false,
         "title": {
          "text": "Date"
         }
        },
        "xaxis2": {
         "anchor": "y2",
         "domain": [
          0,
          1
         ]
        },
        "yaxis": {
         "anchor": "x",
         "domain": [
          0.32,
          1
         ],
         "title": {
          "text": "Price (USD)"
         }
        },
        "yaxis2": {
         "anchor": "x2",
         "domain": [
          0,
          0.17
         ]
        }
       }
      }
     },
     "metadata": {},
     "output_type": "display_data"
    }
   ],
   "source": [
    "from datetime import date\n",
    "from plotly import graph_objects as go\n",
    "from plotly.subplots import make_subplots\n",
    "\n",
    "# Get NVDA OHLCV\n",
    "df_NVDA = df.reorder_levels(['Ticker', 'Price'], axis=1)['NVDA']\n",
    "\n",
    "# Create subplots: 1 row, 2 columns (candlestick chart + volume plot)\n",
    "fig = make_subplots(rows=2, cols=1, shared_xaxes=True, \n",
    "                    vertical_spacing=0.15,  # Increased spacing between plots\n",
    "                    subplot_titles=('NVDA Candlestick Chart', 'NVDA Volume'),\n",
    "                    row_heights=[0.8, 0.2])\n",
    "\n",
    "# Plot Candlestick Chart in the first subplot\n",
    "fig.add_trace(go.Ohlc(x=df_NVDA.index,\n",
    "                     open=df_NVDA['Open'],\n",
    "                     high=df_NVDA['High'],\n",
    "                     low=df_NVDA['Low'],\n",
    "                     close=df_NVDA['Close']),\n",
    "              row=1, col=1)\n",
    "\n",
    "# Plot Volume Chart in the second subplot\n",
    "fig.add_trace(go.Bar(x=df_NVDA.index,\n",
    "                     y=df_NVDA['Volume'],\n",
    "                     name='Volume'),\n",
    "              row=2, col=1)\n",
    "\n",
    "# Format Title and Layout\n",
    "fig.update_layout(\n",
    "    title={'text': 'NVDA Candlestick and Volume Chart', 'x': 0.5, 'font': dict(size=24)},\n",
    "    xaxis_title='Date',  # X-axis title for the entire figure\n",
    "    yaxis_title='Price (USD)',\n",
    "    xaxis_rangeslider_visible=False,  # Hide range slider\n",
    "    showlegend=False,\n",
    "    height=800  # Set figure height to avoid squeezing\n",
    ")\n",
    "\n",
    "# Show the plot\n",
    "fig.show()\n"
   ]
  },
  {
   "cell_type": "markdown",
   "metadata": {},
   "source": [
    "## Adjusted Close Price for Analysis\n",
    "\n",
    "For the rest of our analysis, we will focus on the **Adjusted Close** price of the asset. The Adjusted Close price accounts for stock splits and dividend payments, providing a more accurate reflection of the actual value of an asset over time.\n",
    "\n",
    "### Why Not Total Return Index?\n",
    "In a more comprehensive analysis, the **Total Return Index** would be preferred, as it incorporates both price appreciation and the reinvestment of dividends. This gives a more complete picture of the investment’s performance.\n",
    "\n",
    "However, since Yahoo Finance does not provide a Total Return Index, we will proceed with the **Adjusted Close** price as a proxy for the total returns.\n"
   ]
  },
  {
   "cell_type": "code",
   "execution_count": 10,
   "metadata": {},
   "outputs": [
    {
     "data": {
      "text/html": [
       "<div>\n",
       "<style scoped>\n",
       "    .dataframe tbody tr th:only-of-type {\n",
       "        vertical-align: middle;\n",
       "    }\n",
       "\n",
       "    .dataframe tbody tr th {\n",
       "        vertical-align: top;\n",
       "    }\n",
       "\n",
       "    .dataframe thead th {\n",
       "        text-align: right;\n",
       "    }\n",
       "</style>\n",
       "<table border=\"1\" class=\"dataframe\">\n",
       "  <thead>\n",
       "    <tr style=\"text-align: right;\">\n",
       "      <th>Ticker</th>\n",
       "      <th>A</th>\n",
       "      <th>AAPL</th>\n",
       "      <th>ABBV</th>\n",
       "      <th>ABNB</th>\n",
       "      <th>ABT</th>\n",
       "      <th>ACGL</th>\n",
       "      <th>ACN</th>\n",
       "      <th>ADBE</th>\n",
       "      <th>ADI</th>\n",
       "      <th>ADM</th>\n",
       "      <th>...</th>\n",
       "      <th>WTW</th>\n",
       "      <th>WY</th>\n",
       "      <th>WYNN</th>\n",
       "      <th>XEL</th>\n",
       "      <th>XOM</th>\n",
       "      <th>XYL</th>\n",
       "      <th>YUM</th>\n",
       "      <th>ZBH</th>\n",
       "      <th>ZBRA</th>\n",
       "      <th>ZTS</th>\n",
       "    </tr>\n",
       "    <tr>\n",
       "      <th>Date</th>\n",
       "      <th></th>\n",
       "      <th></th>\n",
       "      <th></th>\n",
       "      <th></th>\n",
       "      <th></th>\n",
       "      <th></th>\n",
       "      <th></th>\n",
       "      <th></th>\n",
       "      <th></th>\n",
       "      <th></th>\n",
       "      <th></th>\n",
       "      <th></th>\n",
       "      <th></th>\n",
       "      <th></th>\n",
       "      <th></th>\n",
       "      <th></th>\n",
       "      <th></th>\n",
       "      <th></th>\n",
       "      <th></th>\n",
       "      <th></th>\n",
       "      <th></th>\n",
       "    </tr>\n",
       "  </thead>\n",
       "  <tbody>\n",
       "    <tr>\n",
       "      <th>2024-03-08</th>\n",
       "      <td>146.851028</td>\n",
       "      <td>169.927612</td>\n",
       "      <td>172.563904</td>\n",
       "      <td>164.910004</td>\n",
       "      <td>118.544167</td>\n",
       "      <td>83.308220</td>\n",
       "      <td>373.546021</td>\n",
       "      <td>551.690002</td>\n",
       "      <td>192.740906</td>\n",
       "      <td>52.810604</td>\n",
       "      <td>...</td>\n",
       "      <td>270.343750</td>\n",
       "      <td>33.928589</td>\n",
       "      <td>99.301147</td>\n",
       "      <td>49.132408</td>\n",
       "      <td>104.841194</td>\n",
       "      <td>125.669731</td>\n",
       "      <td>136.874863</td>\n",
       "      <td>125.658829</td>\n",
       "      <td>282.589996</td>\n",
       "      <td>180.237778</td>\n",
       "    </tr>\n",
       "    <tr>\n",
       "      <th>2024-03-11</th>\n",
       "      <td>146.275040</td>\n",
       "      <td>171.938141</td>\n",
       "      <td>173.316498</td>\n",
       "      <td>162.990005</td>\n",
       "      <td>117.789551</td>\n",
       "      <td>85.875641</td>\n",
       "      <td>368.656555</td>\n",
       "      <td>560.419983</td>\n",
       "      <td>194.973846</td>\n",
       "      <td>52.906952</td>\n",
       "      <td>...</td>\n",
       "      <td>268.625183</td>\n",
       "      <td>34.152569</td>\n",
       "      <td>102.069679</td>\n",
       "      <td>50.952480</td>\n",
       "      <td>105.460304</td>\n",
       "      <td>124.779724</td>\n",
       "      <td>137.384842</td>\n",
       "      <td>126.947723</td>\n",
       "      <td>280.230011</td>\n",
       "      <td>181.553741</td>\n",
       "    </tr>\n",
       "    <tr>\n",
       "      <th>2024-03-12</th>\n",
       "      <td>146.821259</td>\n",
       "      <td>172.415863</td>\n",
       "      <td>174.561157</td>\n",
       "      <td>166.669998</td>\n",
       "      <td>118.348160</td>\n",
       "      <td>86.455696</td>\n",
       "      <td>375.827820</td>\n",
       "      <td>579.140015</td>\n",
       "      <td>195.947662</td>\n",
       "      <td>54.988159</td>\n",
       "      <td>...</td>\n",
       "      <td>271.598175</td>\n",
       "      <td>33.568264</td>\n",
       "      <td>101.881813</td>\n",
       "      <td>49.979847</td>\n",
       "      <td>104.783150</td>\n",
       "      <td>127.034416</td>\n",
       "      <td>138.032166</td>\n",
       "      <td>127.116295</td>\n",
       "      <td>285.440002</td>\n",
       "      <td>179.436310</td>\n",
       "    </tr>\n",
       "    <tr>\n",
       "      <th>2024-03-13</th>\n",
       "      <td>146.801392</td>\n",
       "      <td>170.325760</td>\n",
       "      <td>173.538422</td>\n",
       "      <td>164.759995</td>\n",
       "      <td>117.760155</td>\n",
       "      <td>86.531769</td>\n",
       "      <td>374.089264</td>\n",
       "      <td>573.549988</td>\n",
       "      <td>195.357468</td>\n",
       "      <td>56.144379</td>\n",
       "      <td>...</td>\n",
       "      <td>271.519135</td>\n",
       "      <td>33.655910</td>\n",
       "      <td>101.179802</td>\n",
       "      <td>49.594646</td>\n",
       "      <td>105.953651</td>\n",
       "      <td>126.599297</td>\n",
       "      <td>135.697952</td>\n",
       "      <td>125.510094</td>\n",
       "      <td>284.500000</td>\n",
       "      <td>174.370331</td>\n",
       "    </tr>\n",
       "    <tr>\n",
       "      <th>2024-03-14</th>\n",
       "      <td>144.209381</td>\n",
       "      <td>172.186966</td>\n",
       "      <td>174.831314</td>\n",
       "      <td>166.440002</td>\n",
       "      <td>116.476318</td>\n",
       "      <td>86.560295</td>\n",
       "      <td>373.585510</td>\n",
       "      <td>570.450012</td>\n",
       "      <td>191.255539</td>\n",
       "      <td>56.086571</td>\n",
       "      <td>...</td>\n",
       "      <td>270.630219</td>\n",
       "      <td>33.363754</td>\n",
       "      <td>99.864754</td>\n",
       "      <td>50.497925</td>\n",
       "      <td>107.830307</td>\n",
       "      <td>126.539970</td>\n",
       "      <td>134.521042</td>\n",
       "      <td>124.657448</td>\n",
       "      <td>281.769989</td>\n",
       "      <td>172.045151</td>\n",
       "    </tr>\n",
       "    <tr>\n",
       "      <th>...</th>\n",
       "      <td>...</td>\n",
       "      <td>...</td>\n",
       "      <td>...</td>\n",
       "      <td>...</td>\n",
       "      <td>...</td>\n",
       "      <td>...</td>\n",
       "      <td>...</td>\n",
       "      <td>...</td>\n",
       "      <td>...</td>\n",
       "      <td>...</td>\n",
       "      <td>...</td>\n",
       "      <td>...</td>\n",
       "      <td>...</td>\n",
       "      <td>...</td>\n",
       "      <td>...</td>\n",
       "      <td>...</td>\n",
       "      <td>...</td>\n",
       "      <td>...</td>\n",
       "      <td>...</td>\n",
       "      <td>...</td>\n",
       "      <td>...</td>\n",
       "    </tr>\n",
       "    <tr>\n",
       "      <th>2025-03-03</th>\n",
       "      <td>126.330002</td>\n",
       "      <td>238.029999</td>\n",
       "      <td>211.479996</td>\n",
       "      <td>140.979996</td>\n",
       "      <td>140.220001</td>\n",
       "      <td>92.980003</td>\n",
       "      <td>344.989990</td>\n",
       "      <td>440.720001</td>\n",
       "      <td>227.540009</td>\n",
       "      <td>46.580002</td>\n",
       "      <td>...</td>\n",
       "      <td>340.359985</td>\n",
       "      <td>31.171867</td>\n",
       "      <td>88.930000</td>\n",
       "      <td>71.900002</td>\n",
       "      <td>107.760002</td>\n",
       "      <td>129.779999</td>\n",
       "      <td>156.929993</td>\n",
       "      <td>105.379997</td>\n",
       "      <td>306.839996</td>\n",
       "      <td>170.529999</td>\n",
       "    </tr>\n",
       "    <tr>\n",
       "      <th>2025-03-04</th>\n",
       "      <td>123.059998</td>\n",
       "      <td>235.929993</td>\n",
       "      <td>207.759995</td>\n",
       "      <td>141.419998</td>\n",
       "      <td>137.580002</td>\n",
       "      <td>91.870003</td>\n",
       "      <td>345.779999</td>\n",
       "      <td>446.029999</td>\n",
       "      <td>226.179993</td>\n",
       "      <td>45.820000</td>\n",
       "      <td>...</td>\n",
       "      <td>333.940002</td>\n",
       "      <td>30.576038</td>\n",
       "      <td>87.099998</td>\n",
       "      <td>70.029999</td>\n",
       "      <td>107.540001</td>\n",
       "      <td>127.320000</td>\n",
       "      <td>158.410004</td>\n",
       "      <td>103.989998</td>\n",
       "      <td>297.920013</td>\n",
       "      <td>169.899994</td>\n",
       "    </tr>\n",
       "    <tr>\n",
       "      <th>2025-03-05</th>\n",
       "      <td>126.510002</td>\n",
       "      <td>235.740005</td>\n",
       "      <td>211.539993</td>\n",
       "      <td>142.580002</td>\n",
       "      <td>137.710007</td>\n",
       "      <td>91.349998</td>\n",
       "      <td>348.260010</td>\n",
       "      <td>451.239990</td>\n",
       "      <td>229.470001</td>\n",
       "      <td>45.799999</td>\n",
       "      <td>...</td>\n",
       "      <td>334.500000</td>\n",
       "      <td>30.715065</td>\n",
       "      <td>90.669998</td>\n",
       "      <td>68.730003</td>\n",
       "      <td>105.440002</td>\n",
       "      <td>129.669998</td>\n",
       "      <td>159.369995</td>\n",
       "      <td>104.750000</td>\n",
       "      <td>304.000000</td>\n",
       "      <td>167.000000</td>\n",
       "    </tr>\n",
       "    <tr>\n",
       "      <th>2025-03-06</th>\n",
       "      <td>126.550003</td>\n",
       "      <td>235.330002</td>\n",
       "      <td>210.750000</td>\n",
       "      <td>134.770004</td>\n",
       "      <td>135.080002</td>\n",
       "      <td>91.379997</td>\n",
       "      <td>341.839996</td>\n",
       "      <td>444.779999</td>\n",
       "      <td>222.770004</td>\n",
       "      <td>48.060001</td>\n",
       "      <td>...</td>\n",
       "      <td>330.429993</td>\n",
       "      <td>30.009998</td>\n",
       "      <td>88.190002</td>\n",
       "      <td>67.660004</td>\n",
       "      <td>107.620003</td>\n",
       "      <td>128.960007</td>\n",
       "      <td>159.259995</td>\n",
       "      <td>105.320000</td>\n",
       "      <td>294.559998</td>\n",
       "      <td>167.250000</td>\n",
       "    </tr>\n",
       "    <tr>\n",
       "      <th>2025-03-07</th>\n",
       "      <td>126.699997</td>\n",
       "      <td>239.070007</td>\n",
       "      <td>214.289993</td>\n",
       "      <td>134.389999</td>\n",
       "      <td>137.139999</td>\n",
       "      <td>91.000000</td>\n",
       "      <td>342.179993</td>\n",
       "      <td>449.399994</td>\n",
       "      <td>225.860001</td>\n",
       "      <td>49.439999</td>\n",
       "      <td>...</td>\n",
       "      <td>330.890015</td>\n",
       "      <td>30.650000</td>\n",
       "      <td>88.720001</td>\n",
       "      <td>68.000000</td>\n",
       "      <td>109.019997</td>\n",
       "      <td>130.619995</td>\n",
       "      <td>162.529999</td>\n",
       "      <td>107.989998</td>\n",
       "      <td>292.690002</td>\n",
       "      <td>170.369995</td>\n",
       "    </tr>\n",
       "  </tbody>\n",
       "</table>\n",
       "<p>250 rows × 503 columns</p>\n",
       "</div>"
      ],
      "text/plain": [
       "Ticker               A        AAPL        ABBV        ABNB         ABT  \\\n",
       "Date                                                                     \n",
       "2024-03-08  146.851028  169.927612  172.563904  164.910004  118.544167   \n",
       "2024-03-11  146.275040  171.938141  173.316498  162.990005  117.789551   \n",
       "2024-03-12  146.821259  172.415863  174.561157  166.669998  118.348160   \n",
       "2024-03-13  146.801392  170.325760  173.538422  164.759995  117.760155   \n",
       "2024-03-14  144.209381  172.186966  174.831314  166.440002  116.476318   \n",
       "...                ...         ...         ...         ...         ...   \n",
       "2025-03-03  126.330002  238.029999  211.479996  140.979996  140.220001   \n",
       "2025-03-04  123.059998  235.929993  207.759995  141.419998  137.580002   \n",
       "2025-03-05  126.510002  235.740005  211.539993  142.580002  137.710007   \n",
       "2025-03-06  126.550003  235.330002  210.750000  134.770004  135.080002   \n",
       "2025-03-07  126.699997  239.070007  214.289993  134.389999  137.139999   \n",
       "\n",
       "Ticker           ACGL         ACN        ADBE         ADI        ADM  ...  \\\n",
       "Date                                                                  ...   \n",
       "2024-03-08  83.308220  373.546021  551.690002  192.740906  52.810604  ...   \n",
       "2024-03-11  85.875641  368.656555  560.419983  194.973846  52.906952  ...   \n",
       "2024-03-12  86.455696  375.827820  579.140015  195.947662  54.988159  ...   \n",
       "2024-03-13  86.531769  374.089264  573.549988  195.357468  56.144379  ...   \n",
       "2024-03-14  86.560295  373.585510  570.450012  191.255539  56.086571  ...   \n",
       "...               ...         ...         ...         ...        ...  ...   \n",
       "2025-03-03  92.980003  344.989990  440.720001  227.540009  46.580002  ...   \n",
       "2025-03-04  91.870003  345.779999  446.029999  226.179993  45.820000  ...   \n",
       "2025-03-05  91.349998  348.260010  451.239990  229.470001  45.799999  ...   \n",
       "2025-03-06  91.379997  341.839996  444.779999  222.770004  48.060001  ...   \n",
       "2025-03-07  91.000000  342.179993  449.399994  225.860001  49.439999  ...   \n",
       "\n",
       "Ticker             WTW         WY        WYNN        XEL         XOM  \\\n",
       "Date                                                                   \n",
       "2024-03-08  270.343750  33.928589   99.301147  49.132408  104.841194   \n",
       "2024-03-11  268.625183  34.152569  102.069679  50.952480  105.460304   \n",
       "2024-03-12  271.598175  33.568264  101.881813  49.979847  104.783150   \n",
       "2024-03-13  271.519135  33.655910  101.179802  49.594646  105.953651   \n",
       "2024-03-14  270.630219  33.363754   99.864754  50.497925  107.830307   \n",
       "...                ...        ...         ...        ...         ...   \n",
       "2025-03-03  340.359985  31.171867   88.930000  71.900002  107.760002   \n",
       "2025-03-04  333.940002  30.576038   87.099998  70.029999  107.540001   \n",
       "2025-03-05  334.500000  30.715065   90.669998  68.730003  105.440002   \n",
       "2025-03-06  330.429993  30.009998   88.190002  67.660004  107.620003   \n",
       "2025-03-07  330.890015  30.650000   88.720001  68.000000  109.019997   \n",
       "\n",
       "Ticker             XYL         YUM         ZBH        ZBRA         ZTS  \n",
       "Date                                                                    \n",
       "2024-03-08  125.669731  136.874863  125.658829  282.589996  180.237778  \n",
       "2024-03-11  124.779724  137.384842  126.947723  280.230011  181.553741  \n",
       "2024-03-12  127.034416  138.032166  127.116295  285.440002  179.436310  \n",
       "2024-03-13  126.599297  135.697952  125.510094  284.500000  174.370331  \n",
       "2024-03-14  126.539970  134.521042  124.657448  281.769989  172.045151  \n",
       "...                ...         ...         ...         ...         ...  \n",
       "2025-03-03  129.779999  156.929993  105.379997  306.839996  170.529999  \n",
       "2025-03-04  127.320000  158.410004  103.989998  297.920013  169.899994  \n",
       "2025-03-05  129.669998  159.369995  104.750000  304.000000  167.000000  \n",
       "2025-03-06  128.960007  159.259995  105.320000  294.559998  167.250000  \n",
       "2025-03-07  130.619995  162.529999  107.989998  292.690002  170.369995  \n",
       "\n",
       "[250 rows x 503 columns]"
      ]
     },
     "execution_count": 10,
     "metadata": {},
     "output_type": "execute_result"
    }
   ],
   "source": [
    "df = df['Adj Close']\n",
    "df"
   ]
  },
  {
   "cell_type": "markdown",
   "metadata": {},
   "source": [
    "## 🧪 **Melting the DataFrame with `melt()`**\n",
    "\n",
    "The `melt()` function in pandas is used to **transform the data from wide format to long format**. This is useful when you want to restructure the data to make it more suitable for analysis or visualization.\n",
    "\n",
    "### 🏆 **Why Use `melt()`?**\n",
    "\n",
    "- **Reshaping Data**: This transformation is typically used when you have data in a wide format (with multiple columns) and want to convert it into a long format where each row represents a single observation of an asset over time.\n",
    "  \n",
    "- **Easier Analysis & Plotting**: The long format is often more convenient for time-series analysis and creating visualizations, especially when plotting multiple series over the same x-axis (like dates or time periods).\n",
    "\n",
    "This process is particularly useful for **financial data analysis**, where you may want to stack different assets (like stocks or assets from different time periods) in a single column for easier analysis.\n"
   ]
  },
  {
   "cell_type": "code",
   "execution_count": 11,
   "metadata": {},
   "outputs": [
    {
     "data": {
      "text/html": [
       "<div>\n",
       "<style scoped>\n",
       "    .dataframe tbody tr th:only-of-type {\n",
       "        vertical-align: middle;\n",
       "    }\n",
       "\n",
       "    .dataframe tbody tr th {\n",
       "        vertical-align: top;\n",
       "    }\n",
       "\n",
       "    .dataframe thead th {\n",
       "        text-align: right;\n",
       "    }\n",
       "</style>\n",
       "<table border=\"1\" class=\"dataframe\">\n",
       "  <thead>\n",
       "    <tr style=\"text-align: right;\">\n",
       "      <th></th>\n",
       "      <th>Ticker</th>\n",
       "      <th>Adj Close</th>\n",
       "    </tr>\n",
       "    <tr>\n",
       "      <th>Date</th>\n",
       "      <th></th>\n",
       "      <th></th>\n",
       "    </tr>\n",
       "  </thead>\n",
       "  <tbody>\n",
       "    <tr>\n",
       "      <th>2024-03-08</th>\n",
       "      <td>A</td>\n",
       "      <td>146.851028</td>\n",
       "    </tr>\n",
       "    <tr>\n",
       "      <th>2024-03-11</th>\n",
       "      <td>A</td>\n",
       "      <td>146.275040</td>\n",
       "    </tr>\n",
       "    <tr>\n",
       "      <th>2024-03-12</th>\n",
       "      <td>A</td>\n",
       "      <td>146.821259</td>\n",
       "    </tr>\n",
       "    <tr>\n",
       "      <th>2024-03-13</th>\n",
       "      <td>A</td>\n",
       "      <td>146.801392</td>\n",
       "    </tr>\n",
       "    <tr>\n",
       "      <th>2024-03-14</th>\n",
       "      <td>A</td>\n",
       "      <td>144.209381</td>\n",
       "    </tr>\n",
       "    <tr>\n",
       "      <th>...</th>\n",
       "      <td>...</td>\n",
       "      <td>...</td>\n",
       "    </tr>\n",
       "    <tr>\n",
       "      <th>2025-03-03</th>\n",
       "      <td>ZTS</td>\n",
       "      <td>170.529999</td>\n",
       "    </tr>\n",
       "    <tr>\n",
       "      <th>2025-03-04</th>\n",
       "      <td>ZTS</td>\n",
       "      <td>169.899994</td>\n",
       "    </tr>\n",
       "    <tr>\n",
       "      <th>2025-03-05</th>\n",
       "      <td>ZTS</td>\n",
       "      <td>167.000000</td>\n",
       "    </tr>\n",
       "    <tr>\n",
       "      <th>2025-03-06</th>\n",
       "      <td>ZTS</td>\n",
       "      <td>167.250000</td>\n",
       "    </tr>\n",
       "    <tr>\n",
       "      <th>2025-03-07</th>\n",
       "      <td>ZTS</td>\n",
       "      <td>170.369995</td>\n",
       "    </tr>\n",
       "  </tbody>\n",
       "</table>\n",
       "<p>125750 rows × 2 columns</p>\n",
       "</div>"
      ],
      "text/plain": [
       "           Ticker   Adj Close\n",
       "Date                         \n",
       "2024-03-08      A  146.851028\n",
       "2024-03-11      A  146.275040\n",
       "2024-03-12      A  146.821259\n",
       "2024-03-13      A  146.801392\n",
       "2024-03-14      A  144.209381\n",
       "...           ...         ...\n",
       "2025-03-03    ZTS  170.529999\n",
       "2025-03-04    ZTS  169.899994\n",
       "2025-03-05    ZTS  167.000000\n",
       "2025-03-06    ZTS  167.250000\n",
       "2025-03-07    ZTS  170.369995\n",
       "\n",
       "[125750 rows x 2 columns]"
      ]
     },
     "execution_count": 11,
     "metadata": {},
     "output_type": "execute_result"
    }
   ],
   "source": [
    "df_long = df.melt(ignore_index=False, value_name='Adj Close')\n",
    "df_long"
   ]
  },
  {
   "cell_type": "code",
   "execution_count": 12,
   "metadata": {},
   "outputs": [
    {
     "data": {
      "text/html": [
       "<div>\n",
       "<style scoped>\n",
       "    .dataframe tbody tr th:only-of-type {\n",
       "        vertical-align: middle;\n",
       "    }\n",
       "\n",
       "    .dataframe tbody tr th {\n",
       "        vertical-align: top;\n",
       "    }\n",
       "\n",
       "    .dataframe thead th {\n",
       "        text-align: right;\n",
       "    }\n",
       "</style>\n",
       "<table border=\"1\" class=\"dataframe\">\n",
       "  <thead>\n",
       "    <tr style=\"text-align: right;\">\n",
       "      <th></th>\n",
       "      <th>Date</th>\n",
       "      <th>Adj Close</th>\n",
       "      <th>Symbol</th>\n",
       "      <th>GICS Sector</th>\n",
       "      <th>GICS Sub-Industry</th>\n",
       "    </tr>\n",
       "  </thead>\n",
       "  <tbody>\n",
       "    <tr>\n",
       "      <th>0</th>\n",
       "      <td>2024-03-08</td>\n",
       "      <td>146.851028</td>\n",
       "      <td>A</td>\n",
       "      <td>Health Care</td>\n",
       "      <td>Life Sciences Tools &amp; Services</td>\n",
       "    </tr>\n",
       "    <tr>\n",
       "      <th>1</th>\n",
       "      <td>2024-03-11</td>\n",
       "      <td>146.275040</td>\n",
       "      <td>A</td>\n",
       "      <td>Health Care</td>\n",
       "      <td>Life Sciences Tools &amp; Services</td>\n",
       "    </tr>\n",
       "    <tr>\n",
       "      <th>2</th>\n",
       "      <td>2024-03-12</td>\n",
       "      <td>146.821259</td>\n",
       "      <td>A</td>\n",
       "      <td>Health Care</td>\n",
       "      <td>Life Sciences Tools &amp; Services</td>\n",
       "    </tr>\n",
       "    <tr>\n",
       "      <th>3</th>\n",
       "      <td>2024-03-13</td>\n",
       "      <td>146.801392</td>\n",
       "      <td>A</td>\n",
       "      <td>Health Care</td>\n",
       "      <td>Life Sciences Tools &amp; Services</td>\n",
       "    </tr>\n",
       "    <tr>\n",
       "      <th>4</th>\n",
       "      <td>2024-03-14</td>\n",
       "      <td>144.209381</td>\n",
       "      <td>A</td>\n",
       "      <td>Health Care</td>\n",
       "      <td>Life Sciences Tools &amp; Services</td>\n",
       "    </tr>\n",
       "    <tr>\n",
       "      <th>...</th>\n",
       "      <td>...</td>\n",
       "      <td>...</td>\n",
       "      <td>...</td>\n",
       "      <td>...</td>\n",
       "      <td>...</td>\n",
       "    </tr>\n",
       "    <tr>\n",
       "      <th>125745</th>\n",
       "      <td>2025-03-03</td>\n",
       "      <td>170.529999</td>\n",
       "      <td>ZTS</td>\n",
       "      <td>Health Care</td>\n",
       "      <td>Pharmaceuticals</td>\n",
       "    </tr>\n",
       "    <tr>\n",
       "      <th>125746</th>\n",
       "      <td>2025-03-04</td>\n",
       "      <td>169.899994</td>\n",
       "      <td>ZTS</td>\n",
       "      <td>Health Care</td>\n",
       "      <td>Pharmaceuticals</td>\n",
       "    </tr>\n",
       "    <tr>\n",
       "      <th>125747</th>\n",
       "      <td>2025-03-05</td>\n",
       "      <td>167.000000</td>\n",
       "      <td>ZTS</td>\n",
       "      <td>Health Care</td>\n",
       "      <td>Pharmaceuticals</td>\n",
       "    </tr>\n",
       "    <tr>\n",
       "      <th>125748</th>\n",
       "      <td>2025-03-06</td>\n",
       "      <td>167.250000</td>\n",
       "      <td>ZTS</td>\n",
       "      <td>Health Care</td>\n",
       "      <td>Pharmaceuticals</td>\n",
       "    </tr>\n",
       "    <tr>\n",
       "      <th>125749</th>\n",
       "      <td>2025-03-07</td>\n",
       "      <td>170.369995</td>\n",
       "      <td>ZTS</td>\n",
       "      <td>Health Care</td>\n",
       "      <td>Pharmaceuticals</td>\n",
       "    </tr>\n",
       "  </tbody>\n",
       "</table>\n",
       "<p>125750 rows × 5 columns</p>\n",
       "</div>"
      ],
      "text/plain": [
       "             Date   Adj Close Symbol  GICS Sector  \\\n",
       "0      2024-03-08  146.851028      A  Health Care   \n",
       "1      2024-03-11  146.275040      A  Health Care   \n",
       "2      2024-03-12  146.821259      A  Health Care   \n",
       "3      2024-03-13  146.801392      A  Health Care   \n",
       "4      2024-03-14  144.209381      A  Health Care   \n",
       "...           ...         ...    ...          ...   \n",
       "125745 2025-03-03  170.529999    ZTS  Health Care   \n",
       "125746 2025-03-04  169.899994    ZTS  Health Care   \n",
       "125747 2025-03-05  167.000000    ZTS  Health Care   \n",
       "125748 2025-03-06  167.250000    ZTS  Health Care   \n",
       "125749 2025-03-07  170.369995    ZTS  Health Care   \n",
       "\n",
       "                     GICS Sub-Industry  \n",
       "0       Life Sciences Tools & Services  \n",
       "1       Life Sciences Tools & Services  \n",
       "2       Life Sciences Tools & Services  \n",
       "3       Life Sciences Tools & Services  \n",
       "4       Life Sciences Tools & Services  \n",
       "...                                ...  \n",
       "125745                 Pharmaceuticals  \n",
       "125746                 Pharmaceuticals  \n",
       "125747                 Pharmaceuticals  \n",
       "125748                 Pharmaceuticals  \n",
       "125749                 Pharmaceuticals  \n",
       "\n",
       "[125750 rows x 5 columns]"
      ]
     },
     "execution_count": 12,
     "metadata": {},
     "output_type": "execute_result"
    }
   ],
   "source": [
    "df_long = df_long.reset_index().merge(SP_500_DF[['Symbol', 'GICS Sector', 'GICS Sub-Industry']], left_on='Ticker', right_on='Symbol').drop('Ticker',axis=1)\n",
    "df_long\n"
   ]
  },
  {
   "cell_type": "code",
   "execution_count": 13,
   "metadata": {},
   "outputs": [
    {
     "data": {
      "application/vnd.plotly.v1+json": {
       "config": {
        "plotlyServerURL": "https://plot.ly"
       },
       "data": [
        {
         "hovertemplate": "Symbol=ADP<br>Date=%{x}<br>pct_change=%{y}<extra></extra>",
         "legendgroup": "ADP",
         "line": {
          "color": "#636efa",
          "dash": "solid",
          "width": 3
         },
         "marker": {
          "symbol": "circle"
         },
         "mode": "lines",
         "name": "ADP",
         "orientation": "v",
         "showlegend": true,
         "type": "scatter",
         "x": [
          "2024-03-08T00:00:00",
          "2024-03-11T00:00:00",
          "2024-03-12T00:00:00",
          "2024-03-13T00:00:00",
          "2024-03-14T00:00:00",
          "2024-03-15T00:00:00",
          "2024-03-18T00:00:00",
          "2024-03-19T00:00:00",
          "2024-03-20T00:00:00",
          "2024-03-21T00:00:00",
          "2024-03-22T00:00:00",
          "2024-03-25T00:00:00",
          "2024-03-26T00:00:00",
          "2024-03-27T00:00:00",
          "2024-03-28T00:00:00",
          "2024-04-01T00:00:00",
          "2024-04-02T00:00:00",
          "2024-04-03T00:00:00",
          "2024-04-04T00:00:00",
          "2024-04-05T00:00:00",
          "2024-04-08T00:00:00",
          "2024-04-09T00:00:00",
          "2024-04-10T00:00:00",
          "2024-04-11T00:00:00",
          "2024-04-12T00:00:00",
          "2024-04-15T00:00:00",
          "2024-04-16T00:00:00",
          "2024-04-17T00:00:00",
          "2024-04-18T00:00:00",
          "2024-04-19T00:00:00",
          "2024-04-22T00:00:00",
          "2024-04-23T00:00:00",
          "2024-04-24T00:00:00",
          "2024-04-25T00:00:00",
          "2024-04-26T00:00:00",
          "2024-04-29T00:00:00",
          "2024-04-30T00:00:00",
          "2024-05-01T00:00:00",
          "2024-05-02T00:00:00",
          "2024-05-03T00:00:00",
          "2024-05-06T00:00:00",
          "2024-05-07T00:00:00",
          "2024-05-08T00:00:00",
          "2024-05-09T00:00:00",
          "2024-05-10T00:00:00",
          "2024-05-13T00:00:00",
          "2024-05-14T00:00:00",
          "2024-05-15T00:00:00",
          "2024-05-16T00:00:00",
          "2024-05-17T00:00:00",
          "2024-05-20T00:00:00",
          "2024-05-21T00:00:00",
          "2024-05-22T00:00:00",
          "2024-05-23T00:00:00",
          "2024-05-24T00:00:00",
          "2024-05-28T00:00:00",
          "2024-05-29T00:00:00",
          "2024-05-30T00:00:00",
          "2024-05-31T00:00:00",
          "2024-06-03T00:00:00",
          "2024-06-04T00:00:00",
          "2024-06-05T00:00:00",
          "2024-06-06T00:00:00",
          "2024-06-07T00:00:00",
          "2024-06-10T00:00:00",
          "2024-06-11T00:00:00",
          "2024-06-12T00:00:00",
          "2024-06-13T00:00:00",
          "2024-06-14T00:00:00",
          "2024-06-17T00:00:00",
          "2024-06-18T00:00:00",
          "2024-06-20T00:00:00",
          "2024-06-21T00:00:00",
          "2024-06-24T00:00:00",
          "2024-06-25T00:00:00",
          "2024-06-26T00:00:00",
          "2024-06-27T00:00:00",
          "2024-06-28T00:00:00",
          "2024-07-01T00:00:00",
          "2024-07-02T00:00:00",
          "2024-07-03T00:00:00",
          "2024-07-05T00:00:00",
          "2024-07-08T00:00:00",
          "2024-07-09T00:00:00",
          "2024-07-10T00:00:00",
          "2024-07-11T00:00:00",
          "2024-07-12T00:00:00",
          "2024-07-15T00:00:00",
          "2024-07-16T00:00:00",
          "2024-07-17T00:00:00",
          "2024-07-18T00:00:00",
          "2024-07-19T00:00:00",
          "2024-07-22T00:00:00",
          "2024-07-23T00:00:00",
          "2024-07-24T00:00:00",
          "2024-07-25T00:00:00",
          "2024-07-26T00:00:00",
          "2024-07-29T00:00:00",
          "2024-07-30T00:00:00",
          "2024-07-31T00:00:00",
          "2024-08-01T00:00:00",
          "2024-08-02T00:00:00",
          "2024-08-05T00:00:00",
          "2024-08-06T00:00:00",
          "2024-08-07T00:00:00",
          "2024-08-08T00:00:00",
          "2024-08-09T00:00:00",
          "2024-08-12T00:00:00",
          "2024-08-13T00:00:00",
          "2024-08-14T00:00:00",
          "2024-08-15T00:00:00",
          "2024-08-16T00:00:00",
          "2024-08-19T00:00:00",
          "2024-08-20T00:00:00",
          "2024-08-21T00:00:00",
          "2024-08-22T00:00:00",
          "2024-08-23T00:00:00",
          "2024-08-26T00:00:00",
          "2024-08-27T00:00:00",
          "2024-08-28T00:00:00",
          "2024-08-29T00:00:00",
          "2024-08-30T00:00:00",
          "2024-09-03T00:00:00",
          "2024-09-04T00:00:00",
          "2024-09-05T00:00:00",
          "2024-09-06T00:00:00",
          "2024-09-09T00:00:00",
          "2024-09-10T00:00:00",
          "2024-09-11T00:00:00",
          "2024-09-12T00:00:00",
          "2024-09-13T00:00:00",
          "2024-09-16T00:00:00",
          "2024-09-17T00:00:00",
          "2024-09-18T00:00:00",
          "2024-09-19T00:00:00",
          "2024-09-20T00:00:00",
          "2024-09-23T00:00:00",
          "2024-09-24T00:00:00",
          "2024-09-25T00:00:00",
          "2024-09-26T00:00:00",
          "2024-09-27T00:00:00",
          "2024-09-30T00:00:00",
          "2024-10-01T00:00:00",
          "2024-10-02T00:00:00",
          "2024-10-03T00:00:00",
          "2024-10-04T00:00:00",
          "2024-10-07T00:00:00",
          "2024-10-08T00:00:00",
          "2024-10-09T00:00:00",
          "2024-10-10T00:00:00",
          "2024-10-11T00:00:00",
          "2024-10-14T00:00:00",
          "2024-10-15T00:00:00",
          "2024-10-16T00:00:00",
          "2024-10-17T00:00:00",
          "2024-10-18T00:00:00",
          "2024-10-21T00:00:00",
          "2024-10-22T00:00:00",
          "2024-10-23T00:00:00",
          "2024-10-24T00:00:00",
          "2024-10-25T00:00:00",
          "2024-10-28T00:00:00",
          "2024-10-29T00:00:00",
          "2024-10-30T00:00:00",
          "2024-10-31T00:00:00",
          "2024-11-01T00:00:00",
          "2024-11-04T00:00:00",
          "2024-11-05T00:00:00",
          "2024-11-06T00:00:00",
          "2024-11-07T00:00:00",
          "2024-11-08T00:00:00",
          "2024-11-11T00:00:00",
          "2024-11-12T00:00:00",
          "2024-11-13T00:00:00",
          "2024-11-14T00:00:00",
          "2024-11-15T00:00:00",
          "2024-11-18T00:00:00",
          "2024-11-19T00:00:00",
          "2024-11-20T00:00:00",
          "2024-11-21T00:00:00",
          "2024-11-22T00:00:00",
          "2024-11-25T00:00:00",
          "2024-11-26T00:00:00",
          "2024-11-27T00:00:00",
          "2024-11-29T00:00:00",
          "2024-12-02T00:00:00",
          "2024-12-03T00:00:00",
          "2024-12-04T00:00:00",
          "2024-12-05T00:00:00",
          "2024-12-06T00:00:00",
          "2024-12-09T00:00:00",
          "2024-12-10T00:00:00",
          "2024-12-11T00:00:00",
          "2024-12-12T00:00:00",
          "2024-12-13T00:00:00",
          "2024-12-16T00:00:00",
          "2024-12-17T00:00:00",
          "2024-12-18T00:00:00",
          "2024-12-19T00:00:00",
          "2024-12-20T00:00:00",
          "2024-12-23T00:00:00",
          "2024-12-24T00:00:00",
          "2024-12-26T00:00:00",
          "2024-12-27T00:00:00",
          "2024-12-30T00:00:00",
          "2024-12-31T00:00:00",
          "2025-01-02T00:00:00",
          "2025-01-03T00:00:00",
          "2025-01-06T00:00:00",
          "2025-01-07T00:00:00",
          "2025-01-08T00:00:00",
          "2025-01-10T00:00:00",
          "2025-01-13T00:00:00",
          "2025-01-14T00:00:00",
          "2025-01-15T00:00:00",
          "2025-01-16T00:00:00",
          "2025-01-17T00:00:00",
          "2025-01-21T00:00:00",
          "2025-01-22T00:00:00",
          "2025-01-23T00:00:00",
          "2025-01-24T00:00:00",
          "2025-01-27T00:00:00",
          "2025-01-28T00:00:00",
          "2025-01-29T00:00:00",
          "2025-01-30T00:00:00",
          "2025-01-31T00:00:00",
          "2025-02-03T00:00:00",
          "2025-02-04T00:00:00",
          "2025-02-05T00:00:00",
          "2025-02-06T00:00:00",
          "2025-02-07T00:00:00",
          "2025-02-10T00:00:00",
          "2025-02-11T00:00:00",
          "2025-02-12T00:00:00",
          "2025-02-13T00:00:00",
          "2025-02-14T00:00:00",
          "2025-02-18T00:00:00",
          "2025-02-19T00:00:00",
          "2025-02-20T00:00:00",
          "2025-02-21T00:00:00",
          "2025-02-24T00:00:00",
          "2025-02-25T00:00:00",
          "2025-02-26T00:00:00",
          "2025-02-27T00:00:00",
          "2025-02-28T00:00:00",
          "2025-03-03T00:00:00",
          "2025-03-04T00:00:00",
          "2025-03-05T00:00:00",
          "2025-03-06T00:00:00",
          "2025-03-07T00:00:00"
         ],
         "xaxis": "x",
         "y": {
          "bdata": "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",
          "dtype": "f8"
         },
         "yaxis": "y"
        },
        {
         "hovertemplate": "Symbol=DAY<br>Date=%{x}<br>pct_change=%{y}<extra></extra>",
         "legendgroup": "DAY",
         "line": {
          "color": "#EF553B",
          "dash": "solid",
          "width": 3
         },
         "marker": {
          "symbol": "circle"
         },
         "mode": "lines",
         "name": "DAY",
         "orientation": "v",
         "showlegend": true,
         "type": "scatter",
         "x": [
          "2024-03-08T00:00:00",
          "2024-03-11T00:00:00",
          "2024-03-12T00:00:00",
          "2024-03-13T00:00:00",
          "2024-03-14T00:00:00",
          "2024-03-15T00:00:00",
          "2024-03-18T00:00:00",
          "2024-03-19T00:00:00",
          "2024-03-20T00:00:00",
          "2024-03-21T00:00:00",
          "2024-03-22T00:00:00",
          "2024-03-25T00:00:00",
          "2024-03-26T00:00:00",
          "2024-03-27T00:00:00",
          "2024-03-28T00:00:00",
          "2024-04-01T00:00:00",
          "2024-04-02T00:00:00",
          "2024-04-03T00:00:00",
          "2024-04-04T00:00:00",
          "2024-04-05T00:00:00",
          "2024-04-08T00:00:00",
          "2024-04-09T00:00:00",
          "2024-04-10T00:00:00",
          "2024-04-11T00:00:00",
          "2024-04-12T00:00:00",
          "2024-04-15T00:00:00",
          "2024-04-16T00:00:00",
          "2024-04-17T00:00:00",
          "2024-04-18T00:00:00",
          "2024-04-19T00:00:00",
          "2024-04-22T00:00:00",
          "2024-04-23T00:00:00",
          "2024-04-24T00:00:00",
          "2024-04-25T00:00:00",
          "2024-04-26T00:00:00",
          "2024-04-29T00:00:00",
          "2024-04-30T00:00:00",
          "2024-05-01T00:00:00",
          "2024-05-02T00:00:00",
          "2024-05-03T00:00:00",
          "2024-05-06T00:00:00",
          "2024-05-07T00:00:00",
          "2024-05-08T00:00:00",
          "2024-05-09T00:00:00",
          "2024-05-10T00:00:00",
          "2024-05-13T00:00:00",
          "2024-05-14T00:00:00",
          "2024-05-15T00:00:00",
          "2024-05-16T00:00:00",
          "2024-05-17T00:00:00",
          "2024-05-20T00:00:00",
          "2024-05-21T00:00:00",
          "2024-05-22T00:00:00",
          "2024-05-23T00:00:00",
          "2024-05-24T00:00:00",
          "2024-05-28T00:00:00",
          "2024-05-29T00:00:00",
          "2024-05-30T00:00:00",
          "2024-05-31T00:00:00",
          "2024-06-03T00:00:00",
          "2024-06-04T00:00:00",
          "2024-06-05T00:00:00",
          "2024-06-06T00:00:00",
          "2024-06-07T00:00:00",
          "2024-06-10T00:00:00",
          "2024-06-11T00:00:00",
          "2024-06-12T00:00:00",
          "2024-06-13T00:00:00",
          "2024-06-14T00:00:00",
          "2024-06-17T00:00:00",
          "2024-06-18T00:00:00",
          "2024-06-20T00:00:00",
          "2024-06-21T00:00:00",
          "2024-06-24T00:00:00",
          "2024-06-25T00:00:00",
          "2024-06-26T00:00:00",
          "2024-06-27T00:00:00",
          "2024-06-28T00:00:00",
          "2024-07-01T00:00:00",
          "2024-07-02T00:00:00",
          "2024-07-03T00:00:00",
          "2024-07-05T00:00:00",
          "2024-07-08T00:00:00",
          "2024-07-09T00:00:00",
          "2024-07-10T00:00:00",
          "2024-07-11T00:00:00",
          "2024-07-12T00:00:00",
          "2024-07-15T00:00:00",
          "2024-07-16T00:00:00",
          "2024-07-17T00:00:00",
          "2024-07-18T00:00:00",
          "2024-07-19T00:00:00",
          "2024-07-22T00:00:00",
          "2024-07-23T00:00:00",
          "2024-07-24T00:00:00",
          "2024-07-25T00:00:00",
          "2024-07-26T00:00:00",
          "2024-07-29T00:00:00",
          "2024-07-30T00:00:00",
          "2024-07-31T00:00:00",
          "2024-08-01T00:00:00",
          "2024-08-02T00:00:00",
          "2024-08-05T00:00:00",
          "2024-08-06T00:00:00",
          "2024-08-07T00:00:00",
          "2024-08-08T00:00:00",
          "2024-08-09T00:00:00",
          "2024-08-12T00:00:00",
          "2024-08-13T00:00:00",
          "2024-08-14T00:00:00",
          "2024-08-15T00:00:00",
          "2024-08-16T00:00:00",
          "2024-08-19T00:00:00",
          "2024-08-20T00:00:00",
          "2024-08-21T00:00:00",
          "2024-08-22T00:00:00",
          "2024-08-23T00:00:00",
          "2024-08-26T00:00:00",
          "2024-08-27T00:00:00",
          "2024-08-28T00:00:00",
          "2024-08-29T00:00:00",
          "2024-08-30T00:00:00",
          "2024-09-03T00:00:00",
          "2024-09-04T00:00:00",
          "2024-09-05T00:00:00",
          "2024-09-06T00:00:00",
          "2024-09-09T00:00:00",
          "2024-09-10T00:00:00",
          "2024-09-11T00:00:00",
          "2024-09-12T00:00:00",
          "2024-09-13T00:00:00",
          "2024-09-16T00:00:00",
          "2024-09-17T00:00:00",
          "2024-09-18T00:00:00",
          "2024-09-19T00:00:00",
          "2024-09-20T00:00:00",
          "2024-09-23T00:00:00",
          "2024-09-24T00:00:00",
          "2024-09-25T00:00:00",
          "2024-09-26T00:00:00",
          "2024-09-27T00:00:00",
          "2024-09-30T00:00:00",
          "2024-10-01T00:00:00",
          "2024-10-02T00:00:00",
          "2024-10-03T00:00:00",
          "2024-10-04T00:00:00",
          "2024-10-07T00:00:00",
          "2024-10-08T00:00:00",
          "2024-10-09T00:00:00",
          "2024-10-10T00:00:00",
          "2024-10-11T00:00:00",
          "2024-10-14T00:00:00",
          "2024-10-15T00:00:00",
          "2024-10-16T00:00:00",
          "2024-10-17T00:00:00",
          "2024-10-18T00:00:00",
          "2024-10-21T00:00:00",
          "2024-10-22T00:00:00",
          "2024-10-23T00:00:00",
          "2024-10-24T00:00:00",
          "2024-10-25T00:00:00",
          "2024-10-28T00:00:00",
          "2024-10-29T00:00:00",
          "2024-10-30T00:00:00",
          "2024-10-31T00:00:00",
          "2024-11-01T00:00:00",
          "2024-11-04T00:00:00",
          "2024-11-05T00:00:00",
          "2024-11-06T00:00:00",
          "2024-11-07T00:00:00",
          "2024-11-08T00:00:00",
          "2024-11-11T00:00:00",
          "2024-11-12T00:00:00",
          "2024-11-13T00:00:00",
          "2024-11-14T00:00:00",
          "2024-11-15T00:00:00",
          "2024-11-18T00:00:00",
          "2024-11-19T00:00:00",
          "2024-11-20T00:00:00",
          "2024-11-21T00:00:00",
          "2024-11-22T00:00:00",
          "2024-11-25T00:00:00",
          "2024-11-26T00:00:00",
          "2024-11-27T00:00:00",
          "2024-11-29T00:00:00",
          "2024-12-02T00:00:00",
          "2024-12-03T00:00:00",
          "2024-12-04T00:00:00",
          "2024-12-05T00:00:00",
          "2024-12-06T00:00:00",
          "2024-12-09T00:00:00",
          "2024-12-10T00:00:00",
          "2024-12-11T00:00:00",
          "2024-12-12T00:00:00",
          "2024-12-13T00:00:00",
          "2024-12-16T00:00:00",
          "2024-12-17T00:00:00",
          "2024-12-18T00:00:00",
          "2024-12-19T00:00:00",
          "2024-12-20T00:00:00",
          "2024-12-23T00:00:00",
          "2024-12-24T00:00:00",
          "2024-12-26T00:00:00",
          "2024-12-27T00:00:00",
          "2024-12-30T00:00:00",
          "2024-12-31T00:00:00",
          "2025-01-02T00:00:00",
          "2025-01-03T00:00:00",
          "2025-01-06T00:00:00",
          "2025-01-07T00:00:00",
          "2025-01-08T00:00:00",
          "2025-01-10T00:00:00",
          "2025-01-13T00:00:00",
          "2025-01-14T00:00:00",
          "2025-01-15T00:00:00",
          "2025-01-16T00:00:00",
          "2025-01-17T00:00:00",
          "2025-01-21T00:00:00",
          "2025-01-22T00:00:00",
          "2025-01-23T00:00:00",
          "2025-01-24T00:00:00",
          "2025-01-27T00:00:00",
          "2025-01-28T00:00:00",
          "2025-01-29T00:00:00",
          "2025-01-30T00:00:00",
          "2025-01-31T00:00:00",
          "2025-02-03T00:00:00",
          "2025-02-04T00:00:00",
          "2025-02-05T00:00:00",
          "2025-02-06T00:00:00",
          "2025-02-07T00:00:00",
          "2025-02-10T00:00:00",
          "2025-02-11T00:00:00",
          "2025-02-12T00:00:00",
          "2025-02-13T00:00:00",
          "2025-02-14T00:00:00",
          "2025-02-18T00:00:00",
          "2025-02-19T00:00:00",
          "2025-02-20T00:00:00",
          "2025-02-21T00:00:00",
          "2025-02-24T00:00:00",
          "2025-02-25T00:00:00",
          "2025-02-26T00:00:00",
          "2025-02-27T00:00:00",
          "2025-02-28T00:00:00",
          "2025-03-03T00:00:00",
          "2025-03-04T00:00:00",
          "2025-03-05T00:00:00",
          "2025-03-06T00:00:00",
          "2025-03-07T00:00:00"
         ],
         "xaxis": "x",
         "y": {
          "bdata": "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",
          "dtype": "f8"
         },
         "yaxis": "y"
        },
        {
         "hovertemplate": "Symbol=PAYC<br>Date=%{x}<br>pct_change=%{y}<extra></extra>",
         "legendgroup": "PAYC",
         "line": {
          "color": "#00cc96",
          "dash": "solid",
          "width": 3
         },
         "marker": {
          "symbol": "circle"
         },
         "mode": "lines",
         "name": "PAYC",
         "orientation": "v",
         "showlegend": true,
         "type": "scatter",
         "x": [
          "2024-03-08T00:00:00",
          "2024-03-11T00:00:00",
          "2024-03-12T00:00:00",
          "2024-03-13T00:00:00",
          "2024-03-14T00:00:00",
          "2024-03-15T00:00:00",
          "2024-03-18T00:00:00",
          "2024-03-19T00:00:00",
          "2024-03-20T00:00:00",
          "2024-03-21T00:00:00",
          "2024-03-22T00:00:00",
          "2024-03-25T00:00:00",
          "2024-03-26T00:00:00",
          "2024-03-27T00:00:00",
          "2024-03-28T00:00:00",
          "2024-04-01T00:00:00",
          "2024-04-02T00:00:00",
          "2024-04-03T00:00:00",
          "2024-04-04T00:00:00",
          "2024-04-05T00:00:00",
          "2024-04-08T00:00:00",
          "2024-04-09T00:00:00",
          "2024-04-10T00:00:00",
          "2024-04-11T00:00:00",
          "2024-04-12T00:00:00",
          "2024-04-15T00:00:00",
          "2024-04-16T00:00:00",
          "2024-04-17T00:00:00",
          "2024-04-18T00:00:00",
          "2024-04-19T00:00:00",
          "2024-04-22T00:00:00",
          "2024-04-23T00:00:00",
          "2024-04-24T00:00:00",
          "2024-04-25T00:00:00",
          "2024-04-26T00:00:00",
          "2024-04-29T00:00:00",
          "2024-04-30T00:00:00",
          "2024-05-01T00:00:00",
          "2024-05-02T00:00:00",
          "2024-05-03T00:00:00",
          "2024-05-06T00:00:00",
          "2024-05-07T00:00:00",
          "2024-05-08T00:00:00",
          "2024-05-09T00:00:00",
          "2024-05-10T00:00:00",
          "2024-05-13T00:00:00",
          "2024-05-14T00:00:00",
          "2024-05-15T00:00:00",
          "2024-05-16T00:00:00",
          "2024-05-17T00:00:00",
          "2024-05-20T00:00:00",
          "2024-05-21T00:00:00",
          "2024-05-22T00:00:00",
          "2024-05-23T00:00:00",
          "2024-05-24T00:00:00",
          "2024-05-28T00:00:00",
          "2024-05-29T00:00:00",
          "2024-05-30T00:00:00",
          "2024-05-31T00:00:00",
          "2024-06-03T00:00:00",
          "2024-06-04T00:00:00",
          "2024-06-05T00:00:00",
          "2024-06-06T00:00:00",
          "2024-06-07T00:00:00",
          "2024-06-10T00:00:00",
          "2024-06-11T00:00:00",
          "2024-06-12T00:00:00",
          "2024-06-13T00:00:00",
          "2024-06-14T00:00:00",
          "2024-06-17T00:00:00",
          "2024-06-18T00:00:00",
          "2024-06-20T00:00:00",
          "2024-06-21T00:00:00",
          "2024-06-24T00:00:00",
          "2024-06-25T00:00:00",
          "2024-06-26T00:00:00",
          "2024-06-27T00:00:00",
          "2024-06-28T00:00:00",
          "2024-07-01T00:00:00",
          "2024-07-02T00:00:00",
          "2024-07-03T00:00:00",
          "2024-07-05T00:00:00",
          "2024-07-08T00:00:00",
          "2024-07-09T00:00:00",
          "2024-07-10T00:00:00",
          "2024-07-11T00:00:00",
          "2024-07-12T00:00:00",
          "2024-07-15T00:00:00",
          "2024-07-16T00:00:00",
          "2024-07-17T00:00:00",
          "2024-07-18T00:00:00",
          "2024-07-19T00:00:00",
          "2024-07-22T00:00:00",
          "2024-07-23T00:00:00",
          "2024-07-24T00:00:00",
          "2024-07-25T00:00:00",
          "2024-07-26T00:00:00",
          "2024-07-29T00:00:00",
          "2024-07-30T00:00:00",
          "2024-07-31T00:00:00",
          "2024-08-01T00:00:00",
          "2024-08-02T00:00:00",
          "2024-08-05T00:00:00",
          "2024-08-06T00:00:00",
          "2024-08-07T00:00:00",
          "2024-08-08T00:00:00",
          "2024-08-09T00:00:00",
          "2024-08-12T00:00:00",
          "2024-08-13T00:00:00",
          "2024-08-14T00:00:00",
          "2024-08-15T00:00:00",
          "2024-08-16T00:00:00",
          "2024-08-19T00:00:00",
          "2024-08-20T00:00:00",
          "2024-08-21T00:00:00",
          "2024-08-22T00:00:00",
          "2024-08-23T00:00:00",
          "2024-08-26T00:00:00",
          "2024-08-27T00:00:00",
          "2024-08-28T00:00:00",
          "2024-08-29T00:00:00",
          "2024-08-30T00:00:00",
          "2024-09-03T00:00:00",
          "2024-09-04T00:00:00",
          "2024-09-05T00:00:00",
          "2024-09-06T00:00:00",
          "2024-09-09T00:00:00",
          "2024-09-10T00:00:00",
          "2024-09-11T00:00:00",
          "2024-09-12T00:00:00",
          "2024-09-13T00:00:00",
          "2024-09-16T00:00:00",
          "2024-09-17T00:00:00",
          "2024-09-18T00:00:00",
          "2024-09-19T00:00:00",
          "2024-09-20T00:00:00",
          "2024-09-23T00:00:00",
          "2024-09-24T00:00:00",
          "2024-09-25T00:00:00",
          "2024-09-26T00:00:00",
          "2024-09-27T00:00:00",
          "2024-09-30T00:00:00",
          "2024-10-01T00:00:00",
          "2024-10-02T00:00:00",
          "2024-10-03T00:00:00",
          "2024-10-04T00:00:00",
          "2024-10-07T00:00:00",
          "2024-10-08T00:00:00",
          "2024-10-09T00:00:00",
          "2024-10-10T00:00:00",
          "2024-10-11T00:00:00",
          "2024-10-14T00:00:00",
          "2024-10-15T00:00:00",
          "2024-10-16T00:00:00",
          "2024-10-17T00:00:00",
          "2024-10-18T00:00:00",
          "2024-10-21T00:00:00",
          "2024-10-22T00:00:00",
          "2024-10-23T00:00:00",
          "2024-10-24T00:00:00",
          "2024-10-25T00:00:00",
          "2024-10-28T00:00:00",
          "2024-10-29T00:00:00",
          "2024-10-30T00:00:00",
          "2024-10-31T00:00:00",
          "2024-11-01T00:00:00",
          "2024-11-04T00:00:00",
          "2024-11-05T00:00:00",
          "2024-11-06T00:00:00",
          "2024-11-07T00:00:00",
          "2024-11-08T00:00:00",
          "2024-11-11T00:00:00",
          "2024-11-12T00:00:00",
          "2024-11-13T00:00:00",
          "2024-11-14T00:00:00",
          "2024-11-15T00:00:00",
          "2024-11-18T00:00:00",
          "2024-11-19T00:00:00",
          "2024-11-20T00:00:00",
          "2024-11-21T00:00:00",
          "2024-11-22T00:00:00",
          "2024-11-25T00:00:00",
          "2024-11-26T00:00:00",
          "2024-11-27T00:00:00",
          "2024-11-29T00:00:00",
          "2024-12-02T00:00:00",
          "2024-12-03T00:00:00",
          "2024-12-04T00:00:00",
          "2024-12-05T00:00:00",
          "2024-12-06T00:00:00",
          "2024-12-09T00:00:00",
          "2024-12-10T00:00:00",
          "2024-12-11T00:00:00",
          "2024-12-12T00:00:00",
          "2024-12-13T00:00:00",
          "2024-12-16T00:00:00",
          "2024-12-17T00:00:00",
          "2024-12-18T00:00:00",
          "2024-12-19T00:00:00",
          "2024-12-20T00:00:00",
          "2024-12-23T00:00:00",
          "2024-12-24T00:00:00",
          "2024-12-26T00:00:00",
          "2024-12-27T00:00:00",
          "2024-12-30T00:00:00",
          "2024-12-31T00:00:00",
          "2025-01-02T00:00:00",
          "2025-01-03T00:00:00",
          "2025-01-06T00:00:00",
          "2025-01-07T00:00:00",
          "2025-01-08T00:00:00",
          "2025-01-10T00:00:00",
          "2025-01-13T00:00:00",
          "2025-01-14T00:00:00",
          "2025-01-15T00:00:00",
          "2025-01-16T00:00:00",
          "2025-01-17T00:00:00",
          "2025-01-21T00:00:00",
          "2025-01-22T00:00:00",
          "2025-01-23T00:00:00",
          "2025-01-24T00:00:00",
          "2025-01-27T00:00:00",
          "2025-01-28T00:00:00",
          "2025-01-29T00:00:00",
          "2025-01-30T00:00:00",
          "2025-01-31T00:00:00",
          "2025-02-03T00:00:00",
          "2025-02-04T00:00:00",
          "2025-02-05T00:00:00",
          "2025-02-06T00:00:00",
          "2025-02-07T00:00:00",
          "2025-02-10T00:00:00",
          "2025-02-11T00:00:00",
          "2025-02-12T00:00:00",
          "2025-02-13T00:00:00",
          "2025-02-14T00:00:00",
          "2025-02-18T00:00:00",
          "2025-02-19T00:00:00",
          "2025-02-20T00:00:00",
          "2025-02-21T00:00:00",
          "2025-02-24T00:00:00",
          "2025-02-25T00:00:00",
          "2025-02-26T00:00:00",
          "2025-02-27T00:00:00",
          "2025-02-28T00:00:00",
          "2025-03-03T00:00:00",
          "2025-03-04T00:00:00",
          "2025-03-05T00:00:00",
          "2025-03-06T00:00:00",
          "2025-03-07T00:00:00"
         ],
         "xaxis": "x",
         "y": {
          "bdata": "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",
          "dtype": "f8"
         },
         "yaxis": "y"
        },
        {
         "hovertemplate": "Symbol=PAYX<br>Date=%{x}<br>pct_change=%{y}<extra></extra>",
         "legendgroup": "PAYX",
         "line": {
          "color": "#ab63fa",
          "dash": "solid",
          "width": 3
         },
         "marker": {
          "symbol": "circle"
         },
         "mode": "lines",
         "name": "PAYX",
         "orientation": "v",
         "showlegend": true,
         "type": "scatter",
         "x": [
          "2024-03-08T00:00:00",
          "2024-03-11T00:00:00",
          "2024-03-12T00:00:00",
          "2024-03-13T00:00:00",
          "2024-03-14T00:00:00",
          "2024-03-15T00:00:00",
          "2024-03-18T00:00:00",
          "2024-03-19T00:00:00",
          "2024-03-20T00:00:00",
          "2024-03-21T00:00:00",
          "2024-03-22T00:00:00",
          "2024-03-25T00:00:00",
          "2024-03-26T00:00:00",
          "2024-03-27T00:00:00",
          "2024-03-28T00:00:00",
          "2024-04-01T00:00:00",
          "2024-04-02T00:00:00",
          "2024-04-03T00:00:00",
          "2024-04-04T00:00:00",
          "2024-04-05T00:00:00",
          "2024-04-08T00:00:00",
          "2024-04-09T00:00:00",
          "2024-04-10T00:00:00",
          "2024-04-11T00:00:00",
          "2024-04-12T00:00:00",
          "2024-04-15T00:00:00",
          "2024-04-16T00:00:00",
          "2024-04-17T00:00:00",
          "2024-04-18T00:00:00",
          "2024-04-19T00:00:00",
          "2024-04-22T00:00:00",
          "2024-04-23T00:00:00",
          "2024-04-24T00:00:00",
          "2024-04-25T00:00:00",
          "2024-04-26T00:00:00",
          "2024-04-29T00:00:00",
          "2024-04-30T00:00:00",
          "2024-05-01T00:00:00",
          "2024-05-02T00:00:00",
          "2024-05-03T00:00:00",
          "2024-05-06T00:00:00",
          "2024-05-07T00:00:00",
          "2024-05-08T00:00:00",
          "2024-05-09T00:00:00",
          "2024-05-10T00:00:00",
          "2024-05-13T00:00:00",
          "2024-05-14T00:00:00",
          "2024-05-15T00:00:00",
          "2024-05-16T00:00:00",
          "2024-05-17T00:00:00",
          "2024-05-20T00:00:00",
          "2024-05-21T00:00:00",
          "2024-05-22T00:00:00",
          "2024-05-23T00:00:00",
          "2024-05-24T00:00:00",
          "2024-05-28T00:00:00",
          "2024-05-29T00:00:00",
          "2024-05-30T00:00:00",
          "2024-05-31T00:00:00",
          "2024-06-03T00:00:00",
          "2024-06-04T00:00:00",
          "2024-06-05T00:00:00",
          "2024-06-06T00:00:00",
          "2024-06-07T00:00:00",
          "2024-06-10T00:00:00",
          "2024-06-11T00:00:00",
          "2024-06-12T00:00:00",
          "2024-06-13T00:00:00",
          "2024-06-14T00:00:00",
          "2024-06-17T00:00:00",
          "2024-06-18T00:00:00",
          "2024-06-20T00:00:00",
          "2024-06-21T00:00:00",
          "2024-06-24T00:00:00",
          "2024-06-25T00:00:00",
          "2024-06-26T00:00:00",
          "2024-06-27T00:00:00",
          "2024-06-28T00:00:00",
          "2024-07-01T00:00:00",
          "2024-07-02T00:00:00",
          "2024-07-03T00:00:00",
          "2024-07-05T00:00:00",
          "2024-07-08T00:00:00",
          "2024-07-09T00:00:00",
          "2024-07-10T00:00:00",
          "2024-07-11T00:00:00",
          "2024-07-12T00:00:00",
          "2024-07-15T00:00:00",
          "2024-07-16T00:00:00",
          "2024-07-17T00:00:00",
          "2024-07-18T00:00:00",
          "2024-07-19T00:00:00",
          "2024-07-22T00:00:00",
          "2024-07-23T00:00:00",
          "2024-07-24T00:00:00",
          "2024-07-25T00:00:00",
          "2024-07-26T00:00:00",
          "2024-07-29T00:00:00",
          "2024-07-30T00:00:00",
          "2024-07-31T00:00:00",
          "2024-08-01T00:00:00",
          "2024-08-02T00:00:00",
          "2024-08-05T00:00:00",
          "2024-08-06T00:00:00",
          "2024-08-07T00:00:00",
          "2024-08-08T00:00:00",
          "2024-08-09T00:00:00",
          "2024-08-12T00:00:00",
          "2024-08-13T00:00:00",
          "2024-08-14T00:00:00",
          "2024-08-15T00:00:00",
          "2024-08-16T00:00:00",
          "2024-08-19T00:00:00",
          "2024-08-20T00:00:00",
          "2024-08-21T00:00:00",
          "2024-08-22T00:00:00",
          "2024-08-23T00:00:00",
          "2024-08-26T00:00:00",
          "2024-08-27T00:00:00",
          "2024-08-28T00:00:00",
          "2024-08-29T00:00:00",
          "2024-08-30T00:00:00",
          "2024-09-03T00:00:00",
          "2024-09-04T00:00:00",
          "2024-09-05T00:00:00",
          "2024-09-06T00:00:00",
          "2024-09-09T00:00:00",
          "2024-09-10T00:00:00",
          "2024-09-11T00:00:00",
          "2024-09-12T00:00:00",
          "2024-09-13T00:00:00",
          "2024-09-16T00:00:00",
          "2024-09-17T00:00:00",
          "2024-09-18T00:00:00",
          "2024-09-19T00:00:00",
          "2024-09-20T00:00:00",
          "2024-09-23T00:00:00",
          "2024-09-24T00:00:00",
          "2024-09-25T00:00:00",
          "2024-09-26T00:00:00",
          "2024-09-27T00:00:00",
          "2024-09-30T00:00:00",
          "2024-10-01T00:00:00",
          "2024-10-02T00:00:00",
          "2024-10-03T00:00:00",
          "2024-10-04T00:00:00",
          "2024-10-07T00:00:00",
          "2024-10-08T00:00:00",
          "2024-10-09T00:00:00",
          "2024-10-10T00:00:00",
          "2024-10-11T00:00:00",
          "2024-10-14T00:00:00",
          "2024-10-15T00:00:00",
          "2024-10-16T00:00:00",
          "2024-10-17T00:00:00",
          "2024-10-18T00:00:00",
          "2024-10-21T00:00:00",
          "2024-10-22T00:00:00",
          "2024-10-23T00:00:00",
          "2024-10-24T00:00:00",
          "2024-10-25T00:00:00",
          "2024-10-28T00:00:00",
          "2024-10-29T00:00:00",
          "2024-10-30T00:00:00",
          "2024-10-31T00:00:00",
          "2024-11-01T00:00:00",
          "2024-11-04T00:00:00",
          "2024-11-05T00:00:00",
          "2024-11-06T00:00:00",
          "2024-11-07T00:00:00",
          "2024-11-08T00:00:00",
          "2024-11-11T00:00:00",
          "2024-11-12T00:00:00",
          "2024-11-13T00:00:00",
          "2024-11-14T00:00:00",
          "2024-11-15T00:00:00",
          "2024-11-18T00:00:00",
          "2024-11-19T00:00:00",
          "2024-11-20T00:00:00",
          "2024-11-21T00:00:00",
          "2024-11-22T00:00:00",
          "2024-11-25T00:00:00",
          "2024-11-26T00:00:00",
          "2024-11-27T00:00:00",
          "2024-11-29T00:00:00",
          "2024-12-02T00:00:00",
          "2024-12-03T00:00:00",
          "2024-12-04T00:00:00",
          "2024-12-05T00:00:00",
          "2024-12-06T00:00:00",
          "2024-12-09T00:00:00",
          "2024-12-10T00:00:00",
          "2024-12-11T00:00:00",
          "2024-12-12T00:00:00",
          "2024-12-13T00:00:00",
          "2024-12-16T00:00:00",
          "2024-12-17T00:00:00",
          "2024-12-18T00:00:00",
          "2024-12-19T00:00:00",
          "2024-12-20T00:00:00",
          "2024-12-23T00:00:00",
          "2024-12-24T00:00:00",
          "2024-12-26T00:00:00",
          "2024-12-27T00:00:00",
          "2024-12-30T00:00:00",
          "2024-12-31T00:00:00",
          "2025-01-02T00:00:00",
          "2025-01-03T00:00:00",
          "2025-01-06T00:00:00",
          "2025-01-07T00:00:00",
          "2025-01-08T00:00:00",
          "2025-01-10T00:00:00",
          "2025-01-13T00:00:00",
          "2025-01-14T00:00:00",
          "2025-01-15T00:00:00",
          "2025-01-16T00:00:00",
          "2025-01-17T00:00:00",
          "2025-01-21T00:00:00",
          "2025-01-22T00:00:00",
          "2025-01-23T00:00:00",
          "2025-01-24T00:00:00",
          "2025-01-27T00:00:00",
          "2025-01-28T00:00:00",
          "2025-01-29T00:00:00",
          "2025-01-30T00:00:00",
          "2025-01-31T00:00:00",
          "2025-02-03T00:00:00",
          "2025-02-04T00:00:00",
          "2025-02-05T00:00:00",
          "2025-02-06T00:00:00",
          "2025-02-07T00:00:00",
          "2025-02-10T00:00:00",
          "2025-02-11T00:00:00",
          "2025-02-12T00:00:00",
          "2025-02-13T00:00:00",
          "2025-02-14T00:00:00",
          "2025-02-18T00:00:00",
          "2025-02-19T00:00:00",
          "2025-02-20T00:00:00",
          "2025-02-21T00:00:00",
          "2025-02-24T00:00:00",
          "2025-02-25T00:00:00",
          "2025-02-26T00:00:00",
          "2025-02-27T00:00:00",
          "2025-02-28T00:00:00",
          "2025-03-03T00:00:00",
          "2025-03-04T00:00:00",
          "2025-03-05T00:00:00",
          "2025-03-06T00:00:00",
          "2025-03-07T00:00:00"
         ],
         "xaxis": "x",
         "y": {
          "bdata": "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",
          "dtype": "f8"
         },
         "yaxis": "y"
        }
       ],
       "layout": {
        "height": 600,
        "legend": {
         "font": {
          "size": 20
         },
         "title": {
          "text": "Symbol"
         },
         "tracegroupgap": 0
        },
        "margin": {
         "t": 60
        },
        "template": {
         "data": {
          "bar": [
           {
            "error_x": {
             "color": "#2a3f5f"
            },
            "error_y": {
             "color": "#2a3f5f"
            },
            "marker": {
             "line": {
              "color": "#E5ECF6",
              "width": 0.5
             },
             "pattern": {
              "fillmode": "overlay",
              "size": 10,
              "solidity": 0.2
             }
            },
            "type": "bar"
           }
          ],
          "barpolar": [
           {
            "marker": {
             "line": {
              "color": "#E5ECF6",
              "width": 0.5
             },
             "pattern": {
              "fillmode": "overlay",
              "size": 10,
              "solidity": 0.2
             }
            },
            "type": "barpolar"
           }
          ],
          "carpet": [
           {
            "aaxis": {
             "endlinecolor": "#2a3f5f",
             "gridcolor": "white",
             "linecolor": "white",
             "minorgridcolor": "white",
             "startlinecolor": "#2a3f5f"
            },
            "baxis": {
             "endlinecolor": "#2a3f5f",
             "gridcolor": "white",
             "linecolor": "white",
             "minorgridcolor": "white",
             "startlinecolor": "#2a3f5f"
            },
            "type": "carpet"
           }
          ],
          "choropleth": [
           {
            "colorbar": {
             "outlinewidth": 0,
             "ticks": ""
            },
            "type": "choropleth"
           }
          ],
          "contour": [
           {
            "colorbar": {
             "outlinewidth": 0,
             "ticks": ""
            },
            "colorscale": [
             [
              0,
              "#0d0887"
             ],
             [
              0.1111111111111111,
              "#46039f"
             ],
             [
              0.2222222222222222,
              "#7201a8"
             ],
             [
              0.3333333333333333,
              "#9c179e"
             ],
             [
              0.4444444444444444,
              "#bd3786"
             ],
             [
              0.5555555555555556,
              "#d8576b"
             ],
             [
              0.6666666666666666,
              "#ed7953"
             ],
             [
              0.7777777777777778,
              "#fb9f3a"
             ],
             [
              0.8888888888888888,
              "#fdca26"
             ],
             [
              1,
              "#f0f921"
             ]
            ],
            "type": "contour"
           }
          ],
          "contourcarpet": [
           {
            "colorbar": {
             "outlinewidth": 0,
             "ticks": ""
            },
            "type": "contourcarpet"
           }
          ],
          "heatmap": [
           {
            "colorbar": {
             "outlinewidth": 0,
             "ticks": ""
            },
            "colorscale": [
             [
              0,
              "#0d0887"
             ],
             [
              0.1111111111111111,
              "#46039f"
             ],
             [
              0.2222222222222222,
              "#7201a8"
             ],
             [
              0.3333333333333333,
              "#9c179e"
             ],
             [
              0.4444444444444444,
              "#bd3786"
             ],
             [
              0.5555555555555556,
              "#d8576b"
             ],
             [
              0.6666666666666666,
              "#ed7953"
             ],
             [
              0.7777777777777778,
              "#fb9f3a"
             ],
             [
              0.8888888888888888,
              "#fdca26"
             ],
             [
              1,
              "#f0f921"
             ]
            ],
            "type": "heatmap"
           }
          ],
          "histogram": [
           {
            "marker": {
             "pattern": {
              "fillmode": "overlay",
              "size": 10,
              "solidity": 0.2
             }
            },
            "type": "histogram"
           }
          ],
          "histogram2d": [
           {
            "colorbar": {
             "outlinewidth": 0,
             "ticks": ""
            },
            "colorscale": [
             [
              0,
              "#0d0887"
             ],
             [
              0.1111111111111111,
              "#46039f"
             ],
             [
              0.2222222222222222,
              "#7201a8"
             ],
             [
              0.3333333333333333,
              "#9c179e"
             ],
             [
              0.4444444444444444,
              "#bd3786"
             ],
             [
              0.5555555555555556,
              "#d8576b"
             ],
             [
              0.6666666666666666,
              "#ed7953"
             ],
             [
              0.7777777777777778,
              "#fb9f3a"
             ],
             [
              0.8888888888888888,
              "#fdca26"
             ],
             [
              1,
              "#f0f921"
             ]
            ],
            "type": "histogram2d"
           }
          ],
          "histogram2dcontour": [
           {
            "colorbar": {
             "outlinewidth": 0,
             "ticks": ""
            },
            "colorscale": [
             [
              0,
              "#0d0887"
             ],
             [
              0.1111111111111111,
              "#46039f"
             ],
             [
              0.2222222222222222,
              "#7201a8"
             ],
             [
              0.3333333333333333,
              "#9c179e"
             ],
             [
              0.4444444444444444,
              "#bd3786"
             ],
             [
              0.5555555555555556,
              "#d8576b"
             ],
             [
              0.6666666666666666,
              "#ed7953"
             ],
             [
              0.7777777777777778,
              "#fb9f3a"
             ],
             [
              0.8888888888888888,
              "#fdca26"
             ],
             [
              1,
              "#f0f921"
             ]
            ],
            "type": "histogram2dcontour"
           }
          ],
          "mesh3d": [
           {
            "colorbar": {
             "outlinewidth": 0,
             "ticks": ""
            },
            "type": "mesh3d"
           }
          ],
          "parcoords": [
           {
            "line": {
             "colorbar": {
              "outlinewidth": 0,
              "ticks": ""
             }
            },
            "type": "parcoords"
           }
          ],
          "pie": [
           {
            "automargin": true,
            "type": "pie"
           }
          ],
          "scatter": [
           {
            "fillpattern": {
             "fillmode": "overlay",
             "size": 10,
             "solidity": 0.2
            },
            "type": "scatter"
           }
          ],
          "scatter3d": [
           {
            "line": {
             "colorbar": {
              "outlinewidth": 0,
              "ticks": ""
             }
            },
            "marker": {
             "colorbar": {
              "outlinewidth": 0,
              "ticks": ""
             }
            },
            "type": "scatter3d"
           }
          ],
          "scattercarpet": [
           {
            "marker": {
             "colorbar": {
              "outlinewidth": 0,
              "ticks": ""
             }
            },
            "type": "scattercarpet"
           }
          ],
          "scattergeo": [
           {
            "marker": {
             "colorbar": {
              "outlinewidth": 0,
              "ticks": ""
             }
            },
            "type": "scattergeo"
           }
          ],
          "scattergl": [
           {
            "marker": {
             "colorbar": {
              "outlinewidth": 0,
              "ticks": ""
             }
            },
            "type": "scattergl"
           }
          ],
          "scattermap": [
           {
            "marker": {
             "colorbar": {
              "outlinewidth": 0,
              "ticks": ""
             }
            },
            "type": "scattermap"
           }
          ],
          "scattermapbox": [
           {
            "marker": {
             "colorbar": {
              "outlinewidth": 0,
              "ticks": ""
             }
            },
            "type": "scattermapbox"
           }
          ],
          "scatterpolar": [
           {
            "marker": {
             "colorbar": {
              "outlinewidth": 0,
              "ticks": ""
             }
            },
            "type": "scatterpolar"
           }
          ],
          "scatterpolargl": [
           {
            "marker": {
             "colorbar": {
              "outlinewidth": 0,
              "ticks": ""
             }
            },
            "type": "scatterpolargl"
           }
          ],
          "scatterternary": [
           {
            "marker": {
             "colorbar": {
              "outlinewidth": 0,
              "ticks": ""
             }
            },
            "type": "scatterternary"
           }
          ],
          "surface": [
           {
            "colorbar": {
             "outlinewidth": 0,
             "ticks": ""
            },
            "colorscale": [
             [
              0,
              "#0d0887"
             ],
             [
              0.1111111111111111,
              "#46039f"
             ],
             [
              0.2222222222222222,
              "#7201a8"
             ],
             [
              0.3333333333333333,
              "#9c179e"
             ],
             [
              0.4444444444444444,
              "#bd3786"
             ],
             [
              0.5555555555555556,
              "#d8576b"
             ],
             [
              0.6666666666666666,
              "#ed7953"
             ],
             [
              0.7777777777777778,
              "#fb9f3a"
             ],
             [
              0.8888888888888888,
              "#fdca26"
             ],
             [
              1,
              "#f0f921"
             ]
            ],
            "type": "surface"
           }
          ],
          "table": [
           {
            "cells": {
             "fill": {
              "color": "#EBF0F8"
             },
             "line": {
              "color": "white"
             }
            },
            "header": {
             "fill": {
              "color": "#C8D4E3"
             },
             "line": {
              "color": "white"
             }
            },
            "type": "table"
           }
          ]
         },
         "layout": {
          "annotationdefaults": {
           "arrowcolor": "#2a3f5f",
           "arrowhead": 0,
           "arrowwidth": 1
          },
          "autotypenumbers": "strict",
          "coloraxis": {
           "colorbar": {
            "outlinewidth": 0,
            "ticks": ""
           }
          },
          "colorscale": {
           "diverging": [
            [
             0,
             "#8e0152"
            ],
            [
             0.1,
             "#c51b7d"
            ],
            [
             0.2,
             "#de77ae"
            ],
            [
             0.3,
             "#f1b6da"
            ],
            [
             0.4,
             "#fde0ef"
            ],
            [
             0.5,
             "#f7f7f7"
            ],
            [
             0.6,
             "#e6f5d0"
            ],
            [
             0.7,
             "#b8e186"
            ],
            [
             0.8,
             "#7fbc41"
            ],
            [
             0.9,
             "#4d9221"
            ],
            [
             1,
             "#276419"
            ]
           ],
           "sequential": [
            [
             0,
             "#0d0887"
            ],
            [
             0.1111111111111111,
             "#46039f"
            ],
            [
             0.2222222222222222,
             "#7201a8"
            ],
            [
             0.3333333333333333,
             "#9c179e"
            ],
            [
             0.4444444444444444,
             "#bd3786"
            ],
            [
             0.5555555555555556,
             "#d8576b"
            ],
            [
             0.6666666666666666,
             "#ed7953"
            ],
            [
             0.7777777777777778,
             "#fb9f3a"
            ],
            [
             0.8888888888888888,
             "#fdca26"
            ],
            [
             1,
             "#f0f921"
            ]
           ],
           "sequentialminus": [
            [
             0,
             "#0d0887"
            ],
            [
             0.1111111111111111,
             "#46039f"
            ],
            [
             0.2222222222222222,
             "#7201a8"
            ],
            [
             0.3333333333333333,
             "#9c179e"
            ],
            [
             0.4444444444444444,
             "#bd3786"
            ],
            [
             0.5555555555555556,
             "#d8576b"
            ],
            [
             0.6666666666666666,
             "#ed7953"
            ],
            [
             0.7777777777777778,
             "#fb9f3a"
            ],
            [
             0.8888888888888888,
             "#fdca26"
            ],
            [
             1,
             "#f0f921"
            ]
           ]
          },
          "colorway": [
           "#636efa",
           "#EF553B",
           "#00cc96",
           "#ab63fa",
           "#FFA15A",
           "#19d3f3",
           "#FF6692",
           "#B6E880",
           "#FF97FF",
           "#FECB52"
          ],
          "font": {
           "color": "#2a3f5f"
          },
          "geo": {
           "bgcolor": "white",
           "lakecolor": "white",
           "landcolor": "#E5ECF6",
           "showlakes": true,
           "showland": true,
           "subunitcolor": "white"
          },
          "hoverlabel": {
           "align": "left"
          },
          "hovermode": "closest",
          "mapbox": {
           "style": "light"
          },
          "paper_bgcolor": "white",
          "plot_bgcolor": "#E5ECF6",
          "polar": {
           "angularaxis": {
            "gridcolor": "white",
            "linecolor": "white",
            "ticks": ""
           },
           "bgcolor": "#E5ECF6",
           "radialaxis": {
            "gridcolor": "white",
            "linecolor": "white",
            "ticks": ""
           }
          },
          "scene": {
           "xaxis": {
            "backgroundcolor": "#E5ECF6",
            "gridcolor": "white",
            "gridwidth": 2,
            "linecolor": "white",
            "showbackground": true,
            "ticks": "",
            "zerolinecolor": "white"
           },
           "yaxis": {
            "backgroundcolor": "#E5ECF6",
            "gridcolor": "white",
            "gridwidth": 2,
            "linecolor": "white",
            "showbackground": true,
            "ticks": "",
            "zerolinecolor": "white"
           },
           "zaxis": {
            "backgroundcolor": "#E5ECF6",
            "gridcolor": "white",
            "gridwidth": 2,
            "linecolor": "white",
            "showbackground": true,
            "ticks": "",
            "zerolinecolor": "white"
           }
          },
          "shapedefaults": {
           "line": {
            "color": "#2a3f5f"
           }
          },
          "ternary": {
           "aaxis": {
            "gridcolor": "white",
            "linecolor": "white",
            "ticks": ""
           },
           "baxis": {
            "gridcolor": "white",
            "linecolor": "white",
            "ticks": ""
           },
           "bgcolor": "#E5ECF6",
           "caxis": {
            "gridcolor": "white",
            "linecolor": "white",
            "ticks": ""
           }
          },
          "title": {
           "x": 0.05
          },
          "xaxis": {
           "automargin": true,
           "gridcolor": "white",
           "linecolor": "white",
           "ticks": "",
           "title": {
            "standoff": 15
           },
           "zerolinecolor": "white",
           "zerolinewidth": 2
          },
          "yaxis": {
           "automargin": true,
           "gridcolor": "white",
           "linecolor": "white",
           "ticks": "",
           "title": {
            "standoff": 15
           },
           "zerolinecolor": "white",
           "zerolinewidth": 2
          }
         }
        },
        "title": {
         "font": {
          "size": 24
         },
         "text": "Human Resource & Employment Services Stocks YTD Performance Comparison",
         "x": 0.5
        },
        "xaxis": {
         "anchor": "y",
         "domain": [
          0,
          1
         ],
         "dtick": "M1",
         "tickfont": {
          "size": 20
         },
         "tickformat": "%b",
         "title": {
          "font": {
           "size": 20
          },
          "text": "Date"
         }
        },
        "yaxis": {
         "anchor": "x",
         "domain": [
          0,
          1
         ],
         "tickfont": {
          "size": 20
         },
         "tickformat": ".0%",
         "title": {
          "font": {
           "size": 20
          },
          "text": "Return"
         }
        }
       }
      }
     },
     "metadata": {},
     "output_type": "display_data"
    },
    {
     "data": {
      "application/vnd.jupyter.widget-view+json": {
       "model_id": "45f07bd28e4f4af985e3905eb18d54bb",
       "version_major": 2,
       "version_minor": 0
      },
      "text/plain": [
       "Dropdown(description='Sub-Industry:', index=10, options=('Life Sciences Tools & Services', 'Technology Hardwar…"
      ]
     },
     "metadata": {},
     "output_type": "display_data"
    }
   ],
   "source": [
    "import ipywidgets as widgets\n",
    "import plotly.express as px\n",
    "from IPython.display import display, clear_output\n",
    "\n",
    "# Create the Dropdown widget for selecting Sub-Industry for YTD plot\n",
    "sub_industry_dropdown_ytd = widgets.Dropdown(\n",
    "    options=df_long['GICS Sub-Industry'].unique(),  # Get all unique Sub-Industries\n",
    "    description='Sub-Industry:',\n",
    ")\n",
    "\n",
    "# Function to filter data, calculate start price, pct change, and plot graph\n",
    "def filter_and_plot_ytd(sub_industry):\n",
    "    # Filter the dataframe for the selected Sub-Industry\n",
    "    filtered_df0 = df_long[df_long['GICS Sub-Industry'] == sub_industry].copy()  # Use .copy() to avoid the SettingWithCopyWarning\n",
    "\n",
    "    # Get Start Price for each stock symbol\n",
    "    filtered_df0['start_price'] = filtered_df0.groupby('Symbol')['Adj Close'].transform('first')\n",
    "\n",
    "    # Get Percentage Change (Pct Change)\n",
    "    filtered_df0['pct_change'] = (filtered_df0['Adj Close'] - filtered_df0['start_price']) / filtered_df0['start_price']\n",
    "\n",
    "    # Plotting the data\n",
    "    fig0 = px.line(filtered_df0, x='Date', y='pct_change', color='Symbol', height=600)\n",
    "\n",
    "    # Adjusting the appearance of the plot\n",
    "    fig0.update_traces(line=dict(width=3))\n",
    "    fig0.update_layout(\n",
    "        title={'text': f'{sub_industry} Stocks YTD Performance Comparison', 'x': 0.5, 'font': dict(size=24)},\n",
    "        yaxis_tickfont=dict(size=20),\n",
    "        xaxis_tickfont=dict(size=20),\n",
    "        xaxis_title=dict(text='Date', font=dict(size=20)),\n",
    "        yaxis_title=dict(text='Return', font=dict(size=20)),\n",
    "        legend=dict(font=dict(size=20)),\n",
    "        yaxis_tickformat=\".0%\",  # Format y-axis as percentage\n",
    "        xaxis=dict(\n",
    "            dtick=\"M1\",  # Set x-axis ticks to each month\n",
    "            tickformat=\"%b\"  # Format x-axis tick labels as month abbreviations\n",
    "        )\n",
    "    )\n",
    "\n",
    "    # Display the plot\n",
    "    fig0.show()\n",
    "\n",
    "# Attach the filtering and plotting function to the dropdown change\n",
    "def update_ytd_plot(change):\n",
    "    # Clear the output before updating the plot (this is needed to update the plot)\n",
    "    clear_output(wait=True)\n",
    "    # Call the function to update the plot with the selected sub-industry\n",
    "    filter_and_plot_ytd(change.new)\n",
    "    # Display the dropdown again after plot is updated\n",
    "    display(sub_industry_dropdown_ytd)\n",
    "\n",
    "# Observe the change in dropdown value and trigger the update\n",
    "sub_industry_dropdown_ytd.observe(update_ytd_plot, names='value')\n",
    "\n",
    "# Display the dropdown widget\n",
    "display(sub_industry_dropdown_ytd)\n"
   ]
  },
  {
   "cell_type": "markdown",
   "metadata": {},
   "source": [
    "## Introduction to Technical Analysis 📊\n",
    "\n",
    "**Technical Analysis** 📉 is a method of evaluating and predicting the future price movements of an asset based on historical price data, trading volume, and other market indicators. Unlike fundamental analysis, which focuses on the intrinsic value of an asset, technical analysis primarily relies on charts and patterns to assess market behavior.\n",
    "\n",
    "### Key Concepts in Technical Analysis:\n",
    "- **Charts** 📈: The foundation of technical analysis is charting. Common chart types include line charts, bar charts, and candlestick charts.\n",
    "- **Trends** 🔽🔼: Identifying trends (uptrend, downtrend, or sideways) is essential in technical analysis. Understanding market sentiment is key to making predictions.\n",
    "- **Support and Resistance** 🔒📈: Support refers to a price level where an asset tends to find buying interest, while resistance is a level where selling interest is likely to emerge.\n",
    "- **Indicators and Oscillators** 📉📊: These are mathematical calculations based on the asset’s price and volume. Examples include Moving Averages, Relative Strength Index (RSI), Bollinger Bands, and MACD.\n",
    "\n",
    "In technical analysis, it is believed that all known information is already reflected in the price of an asset, and therefore, historical price patterns can help forecast future price movements.\n",
    "\n",
    "In the following section, we will explore one technical indicator (RSI) and how they can be used to assess and predict stock market trends.\n"
   ]
  },
  {
   "cell_type": "markdown",
   "metadata": {},
   "source": [
    "### 📉 **Relative Strength Index (RSI) Explanation**\n",
    "\n",
    "The **Relative Strength Index (RSI)** is a momentum oscillator that measures the speed and change of price movements. RSI is used to identify overbought or oversold conditions in a market, which can signal potential price reversals. \n",
    "\n",
    "#### **RSI Formula**\n",
    "\n",
    "The formula for calculating the RSI is as follows:\n",
    "\n",
    "$\n",
    "RSI = 100 - \\frac{100}{1 + RS}\n",
    "$\n",
    "\n",
    "Where:\n",
    "- $ RS = \\frac{\\text{Average Gain}}{\\text{Average Loss}} $\n",
    "\n",
    "- **Average Gain** is the average of the gains over a specified period (default is 14 periods).\n",
    "- **Average Loss** is the average of the losses over the same period.\n",
    "\n",
    "#### **Steps to Calculate RSI:**\n",
    "1. **Calculate the daily price changes**:\n",
    "   $\n",
    "   \\Delta P_t = P_t - P_{t-1}\n",
    "   $\n",
    "2. **Separate the gains and losses**:\n",
    "   - If \\($\\Delta P_t > 0$\\), the gain is \\($\\Delta P_t$\\), otherwise, the loss is \\($-\\Delta P_t$\\).\n",
    "3. **Calculate the average gains and losses** over the window (default 14 periods).\n",
    "4. **Calculate the relative strength (RS)** as the ratio of the average gain to the average loss.\n",
    "5. **Apply the RSI formula**.\n",
    "\n",
    "The RSI typically uses a **14-day window** by default.\n",
    "\n",
    "---\n",
    "\n",
    "### 📊 **Code Example for RSI Calculation**\n",
    "\n",
    "The following Python code snippet demonstrates how to compute the RSI for a stock using the **`ta`** library:\n",
    "\n",
    "```python\n",
    "import ta\n",
    "\n",
    "# Select the QCOM stock data\n",
    "df_QCOM = df['QCOM']\n",
    "\n",
    "# Calculate RSI with a 14-day window\n",
    "df_QCOM['RSI'] = ta.momentum.RSIIndicator(df_QCOM['Adj Close'], window=14).rsi() #the default window length is also usually 14\n",
    "```\n",
    "Below is a dynamic Figure that displays the top 5 companies, ordered by RSI, once a sub-industry has been selected."
   ]
  },
  {
   "cell_type": "code",
   "execution_count": null,
   "metadata": {},
   "outputs": [
    {
     "name": "stderr",
     "output_type": "stream",
     "text": [
      "/var/folders/gm/fn54mj5d4b51_7l5j667v4n00000gn/T/ipykernel_1779/3534313332.py:15: DeprecationWarning:\n",
      "\n",
      "DataFrameGroupBy.apply operated on the grouping columns. This behavior is deprecated, and in a future version of pandas the grouping columns will be excluded from the operation. Either pass `include_groups=False` to exclude the groupings or explicitly select the grouping columns after groupby to silence this warning.\n",
      "\n"
     ]
    },
    {
     "data": {
      "application/vnd.plotly.v1+json": {
       "config": {
        "plotlyServerURL": "https://plot.ly"
       },
       "data": [
        {
         "hovertemplate": "Symbol=%{y}<br>rsi=%{x}<extra></extra>",
         "legendgroup": "EXPE",
         "marker": {
          "color": "#636efa",
          "pattern": {
           "shape": ""
          }
         },
         "name": "EXPE",
         "orientation": "h",
         "showlegend": true,
         "textfont": {
          "size": 16
         },
         "textposition": "inside",
         "texttemplate": "%{y} %{x:.2f}",
         "type": "bar",
         "x": {
          "bdata": "Ld6kSv9yRUA=",
          "dtype": "f8"
         },
         "xaxis": "x",
         "y": [
          "EXPE"
         ],
         "yaxis": "y"
        },
        {
         "hovertemplate": "Symbol=%{y}<br>rsi=%{x}<extra></extra>",
         "legendgroup": "ABNB",
         "marker": {
          "color": "#EF553B",
          "pattern": {
           "shape": ""
          }
         },
         "name": "ABNB",
         "orientation": "h",
         "showlegend": true,
         "textfont": {
          "size": 16
         },
         "textposition": "inside",
         "texttemplate": "%{y} %{x:.2f}",
         "type": "bar",
         "x": {
          "bdata": "ASy96546RUA=",
          "dtype": "f8"
         },
         "xaxis": "x",
         "y": [
          "ABNB"
         ],
         "yaxis": "y"
        },
        {
         "hovertemplate": "Symbol=%{y}<br>rsi=%{x}<extra></extra>",
         "legendgroup": "BKNG",
         "marker": {
          "color": "#00cc96",
          "pattern": {
           "shape": ""
          }
         },
         "name": "BKNG",
         "orientation": "h",
         "showlegend": true,
         "textfont": {
          "size": 16
         },
         "textposition": "inside",
         "texttemplate": "%{y} %{x:.2f}",
         "type": "bar",
         "x": {
          "bdata": "LUETHklNQkA=",
          "dtype": "f8"
         },
         "xaxis": "x",
         "y": [
          "BKNG"
         ],
         "yaxis": "y"
        },
        {
         "hovertemplate": "Symbol=%{y}<br>rsi=%{x}<extra></extra>",
         "legendgroup": "HLT",
         "marker": {
          "color": "#ab63fa",
          "pattern": {
           "shape": ""
          }
         },
         "name": "HLT",
         "orientation": "h",
         "showlegend": true,
         "textfont": {
          "size": 16
         },
         "textposition": "inside",
         "texttemplate": "%{y} %{x:.2f}",
         "type": "bar",
         "x": {
          "bdata": "WN7h7KyDQUA=",
          "dtype": "f8"
         },
         "xaxis": "x",
         "y": [
          "HLT"
         ],
         "yaxis": "y"
        },
        {
         "hovertemplate": "Symbol=%{y}<br>rsi=%{x}<extra></extra>",
         "legendgroup": "RCL",
         "marker": {
          "color": "#FFA15A",
          "pattern": {
           "shape": ""
          }
         },
         "name": "RCL",
         "orientation": "h",
         "showlegend": true,
         "textfont": {
          "size": 16
         },
         "textposition": "inside",
         "texttemplate": "%{y} %{x:.2f}",
         "type": "bar",
         "x": {
          "bdata": "FIcsTgCWQEA=",
          "dtype": "f8"
         },
         "xaxis": "x",
         "y": [
          "RCL"
         ],
         "yaxis": "y"
        }
       ],
       "layout": {
        "barmode": "relative",
        "height": 800,
        "legend": {
         "title": {
          "text": "Symbol"
         },
         "tracegroupgap": 0
        },
        "template": {
         "data": {
          "bar": [
           {
            "error_x": {
             "color": "#2a3f5f"
            },
            "error_y": {
             "color": "#2a3f5f"
            },
            "marker": {
             "line": {
              "color": "#E5ECF6",
              "width": 0.5
             },
             "pattern": {
              "fillmode": "overlay",
              "size": 10,
              "solidity": 0.2
             }
            },
            "type": "bar"
           }
          ],
          "barpolar": [
           {
            "marker": {
             "line": {
              "color": "#E5ECF6",
              "width": 0.5
             },
             "pattern": {
              "fillmode": "overlay",
              "size": 10,
              "solidity": 0.2
             }
            },
            "type": "barpolar"
           }
          ],
          "carpet": [
           {
            "aaxis": {
             "endlinecolor": "#2a3f5f",
             "gridcolor": "white",
             "linecolor": "white",
             "minorgridcolor": "white",
             "startlinecolor": "#2a3f5f"
            },
            "baxis": {
             "endlinecolor": "#2a3f5f",
             "gridcolor": "white",
             "linecolor": "white",
             "minorgridcolor": "white",
             "startlinecolor": "#2a3f5f"
            },
            "type": "carpet"
           }
          ],
          "choropleth": [
           {
            "colorbar": {
             "outlinewidth": 0,
             "ticks": ""
            },
            "type": "choropleth"
           }
          ],
          "contour": [
           {
            "colorbar": {
             "outlinewidth": 0,
             "ticks": ""
            },
            "colorscale": [
             [
              0,
              "#0d0887"
             ],
             [
              0.1111111111111111,
              "#46039f"
             ],
             [
              0.2222222222222222,
              "#7201a8"
             ],
             [
              0.3333333333333333,
              "#9c179e"
             ],
             [
              0.4444444444444444,
              "#bd3786"
             ],
             [
              0.5555555555555556,
              "#d8576b"
             ],
             [
              0.6666666666666666,
              "#ed7953"
             ],
             [
              0.7777777777777778,
              "#fb9f3a"
             ],
             [
              0.8888888888888888,
              "#fdca26"
             ],
             [
              1,
              "#f0f921"
             ]
            ],
            "type": "contour"
           }
          ],
          "contourcarpet": [
           {
            "colorbar": {
             "outlinewidth": 0,
             "ticks": ""
            },
            "type": "contourcarpet"
           }
          ],
          "heatmap": [
           {
            "colorbar": {
             "outlinewidth": 0,
             "ticks": ""
            },
            "colorscale": [
             [
              0,
              "#0d0887"
             ],
             [
              0.1111111111111111,
              "#46039f"
             ],
             [
              0.2222222222222222,
              "#7201a8"
             ],
             [
              0.3333333333333333,
              "#9c179e"
             ],
             [
              0.4444444444444444,
              "#bd3786"
             ],
             [
              0.5555555555555556,
              "#d8576b"
             ],
             [
              0.6666666666666666,
              "#ed7953"
             ],
             [
              0.7777777777777778,
              "#fb9f3a"
             ],
             [
              0.8888888888888888,
              "#fdca26"
             ],
             [
              1,
              "#f0f921"
             ]
            ],
            "type": "heatmap"
           }
          ],
          "histogram": [
           {
            "marker": {
             "pattern": {
              "fillmode": "overlay",
              "size": 10,
              "solidity": 0.2
             }
            },
            "type": "histogram"
           }
          ],
          "histogram2d": [
           {
            "colorbar": {
             "outlinewidth": 0,
             "ticks": ""
            },
            "colorscale": [
             [
              0,
              "#0d0887"
             ],
             [
              0.1111111111111111,
              "#46039f"
             ],
             [
              0.2222222222222222,
              "#7201a8"
             ],
             [
              0.3333333333333333,
              "#9c179e"
             ],
             [
              0.4444444444444444,
              "#bd3786"
             ],
             [
              0.5555555555555556,
              "#d8576b"
             ],
             [
              0.6666666666666666,
              "#ed7953"
             ],
             [
              0.7777777777777778,
              "#fb9f3a"
             ],
             [
              0.8888888888888888,
              "#fdca26"
             ],
             [
              1,
              "#f0f921"
             ]
            ],
            "type": "histogram2d"
           }
          ],
          "histogram2dcontour": [
           {
            "colorbar": {
             "outlinewidth": 0,
             "ticks": ""
            },
            "colorscale": [
             [
              0,
              "#0d0887"
             ],
             [
              0.1111111111111111,
              "#46039f"
             ],
             [
              0.2222222222222222,
              "#7201a8"
             ],
             [
              0.3333333333333333,
              "#9c179e"
             ],
             [
              0.4444444444444444,
              "#bd3786"
             ],
             [
              0.5555555555555556,
              "#d8576b"
             ],
             [
              0.6666666666666666,
              "#ed7953"
             ],
             [
              0.7777777777777778,
              "#fb9f3a"
             ],
             [
              0.8888888888888888,
              "#fdca26"
             ],
             [
              1,
              "#f0f921"
             ]
            ],
            "type": "histogram2dcontour"
           }
          ],
          "mesh3d": [
           {
            "colorbar": {
             "outlinewidth": 0,
             "ticks": ""
            },
            "type": "mesh3d"
           }
          ],
          "parcoords": [
           {
            "line": {
             "colorbar": {
              "outlinewidth": 0,
              "ticks": ""
             }
            },
            "type": "parcoords"
           }
          ],
          "pie": [
           {
            "automargin": true,
            "type": "pie"
           }
          ],
          "scatter": [
           {
            "fillpattern": {
             "fillmode": "overlay",
             "size": 10,
             "solidity": 0.2
            },
            "type": "scatter"
           }
          ],
          "scatter3d": [
           {
            "line": {
             "colorbar": {
              "outlinewidth": 0,
              "ticks": ""
             }
            },
            "marker": {
             "colorbar": {
              "outlinewidth": 0,
              "ticks": ""
             }
            },
            "type": "scatter3d"
           }
          ],
          "scattercarpet": [
           {
            "marker": {
             "colorbar": {
              "outlinewidth": 0,
              "ticks": ""
             }
            },
            "type": "scattercarpet"
           }
          ],
          "scattergeo": [
           {
            "marker": {
             "colorbar": {
              "outlinewidth": 0,
              "ticks": ""
             }
            },
            "type": "scattergeo"
           }
          ],
          "scattergl": [
           {
            "marker": {
             "colorbar": {
              "outlinewidth": 0,
              "ticks": ""
             }
            },
            "type": "scattergl"
           }
          ],
          "scattermap": [
           {
            "marker": {
             "colorbar": {
              "outlinewidth": 0,
              "ticks": ""
             }
            },
            "type": "scattermap"
           }
          ],
          "scattermapbox": [
           {
            "marker": {
             "colorbar": {
              "outlinewidth": 0,
              "ticks": ""
             }
            },
            "type": "scattermapbox"
           }
          ],
          "scatterpolar": [
           {
            "marker": {
             "colorbar": {
              "outlinewidth": 0,
              "ticks": ""
             }
            },
            "type": "scatterpolar"
           }
          ],
          "scatterpolargl": [
           {
            "marker": {
             "colorbar": {
              "outlinewidth": 0,
              "ticks": ""
             }
            },
            "type": "scatterpolargl"
           }
          ],
          "scatterternary": [
           {
            "marker": {
             "colorbar": {
              "outlinewidth": 0,
              "ticks": ""
             }
            },
            "type": "scatterternary"
           }
          ],
          "surface": [
           {
            "colorbar": {
             "outlinewidth": 0,
             "ticks": ""
            },
            "colorscale": [
             [
              0,
              "#0d0887"
             ],
             [
              0.1111111111111111,
              "#46039f"
             ],
             [
              0.2222222222222222,
              "#7201a8"
             ],
             [
              0.3333333333333333,
              "#9c179e"
             ],
             [
              0.4444444444444444,
              "#bd3786"
             ],
             [
              0.5555555555555556,
              "#d8576b"
             ],
             [
              0.6666666666666666,
              "#ed7953"
             ],
             [
              0.7777777777777778,
              "#fb9f3a"
             ],
             [
              0.8888888888888888,
              "#fdca26"
             ],
             [
              1,
              "#f0f921"
             ]
            ],
            "type": "surface"
           }
          ],
          "table": [
           {
            "cells": {
             "fill": {
              "color": "#EBF0F8"
             },
             "line": {
              "color": "white"
             }
            },
            "header": {
             "fill": {
              "color": "#C8D4E3"
             },
             "line": {
              "color": "white"
             }
            },
            "type": "table"
           }
          ]
         },
         "layout": {
          "annotationdefaults": {
           "arrowcolor": "#2a3f5f",
           "arrowhead": 0,
           "arrowwidth": 1
          },
          "autotypenumbers": "strict",
          "coloraxis": {
           "colorbar": {
            "outlinewidth": 0,
            "ticks": ""
           }
          },
          "colorscale": {
           "diverging": [
            [
             0,
             "#8e0152"
            ],
            [
             0.1,
             "#c51b7d"
            ],
            [
             0.2,
             "#de77ae"
            ],
            [
             0.3,
             "#f1b6da"
            ],
            [
             0.4,
             "#fde0ef"
            ],
            [
             0.5,
             "#f7f7f7"
            ],
            [
             0.6,
             "#e6f5d0"
            ],
            [
             0.7,
             "#b8e186"
            ],
            [
             0.8,
             "#7fbc41"
            ],
            [
             0.9,
             "#4d9221"
            ],
            [
             1,
             "#276419"
            ]
           ],
           "sequential": [
            [
             0,
             "#0d0887"
            ],
            [
             0.1111111111111111,
             "#46039f"
            ],
            [
             0.2222222222222222,
             "#7201a8"
            ],
            [
             0.3333333333333333,
             "#9c179e"
            ],
            [
             0.4444444444444444,
             "#bd3786"
            ],
            [
             0.5555555555555556,
             "#d8576b"
            ],
            [
             0.6666666666666666,
             "#ed7953"
            ],
            [
             0.7777777777777778,
             "#fb9f3a"
            ],
            [
             0.8888888888888888,
             "#fdca26"
            ],
            [
             1,
             "#f0f921"
            ]
           ],
           "sequentialminus": [
            [
             0,
             "#0d0887"
            ],
            [
             0.1111111111111111,
             "#46039f"
            ],
            [
             0.2222222222222222,
             "#7201a8"
            ],
            [
             0.3333333333333333,
             "#9c179e"
            ],
            [
             0.4444444444444444,
             "#bd3786"
            ],
            [
             0.5555555555555556,
             "#d8576b"
            ],
            [
             0.6666666666666666,
             "#ed7953"
            ],
            [
             0.7777777777777778,
             "#fb9f3a"
            ],
            [
             0.8888888888888888,
             "#fdca26"
            ],
            [
             1,
             "#f0f921"
            ]
           ]
          },
          "colorway": [
           "#636efa",
           "#EF553B",
           "#00cc96",
           "#ab63fa",
           "#FFA15A",
           "#19d3f3",
           "#FF6692",
           "#B6E880",
           "#FF97FF",
           "#FECB52"
          ],
          "font": {
           "color": "#2a3f5f"
          },
          "geo": {
           "bgcolor": "white",
           "lakecolor": "white",
           "landcolor": "#E5ECF6",
           "showlakes": true,
           "showland": true,
           "subunitcolor": "white"
          },
          "hoverlabel": {
           "align": "left"
          },
          "hovermode": "closest",
          "mapbox": {
           "style": "light"
          },
          "paper_bgcolor": "white",
          "plot_bgcolor": "#E5ECF6",
          "polar": {
           "angularaxis": {
            "gridcolor": "white",
            "linecolor": "white",
            "ticks": ""
           },
           "bgcolor": "#E5ECF6",
           "radialaxis": {
            "gridcolor": "white",
            "linecolor": "white",
            "ticks": ""
           }
          },
          "scene": {
           "xaxis": {
            "backgroundcolor": "#E5ECF6",
            "gridcolor": "white",
            "gridwidth": 2,
            "linecolor": "white",
            "showbackground": true,
            "ticks": "",
            "zerolinecolor": "white"
           },
           "yaxis": {
            "backgroundcolor": "#E5ECF6",
            "gridcolor": "white",
            "gridwidth": 2,
            "linecolor": "white",
            "showbackground": true,
            "ticks": "",
            "zerolinecolor": "white"
           },
           "zaxis": {
            "backgroundcolor": "#E5ECF6",
            "gridcolor": "white",
            "gridwidth": 2,
            "linecolor": "white",
            "showbackground": true,
            "ticks": "",
            "zerolinecolor": "white"
           }
          },
          "shapedefaults": {
           "line": {
            "color": "#2a3f5f"
           }
          },
          "ternary": {
           "aaxis": {
            "gridcolor": "white",
            "linecolor": "white",
            "ticks": ""
           },
           "baxis": {
            "gridcolor": "white",
            "linecolor": "white",
            "ticks": ""
           },
           "bgcolor": "#E5ECF6",
           "caxis": {
            "gridcolor": "white",
            "linecolor": "white",
            "ticks": ""
           }
          },
          "title": {
           "x": 0.05
          },
          "xaxis": {
           "automargin": true,
           "gridcolor": "white",
           "linecolor": "white",
           "ticks": "",
           "title": {
            "standoff": 15
           },
           "zerolinecolor": "white",
           "zerolinewidth": 2
          },
          "yaxis": {
           "automargin": true,
           "gridcolor": "white",
           "linecolor": "white",
           "ticks": "",
           "title": {
            "standoff": 15
           },
           "zerolinecolor": "white",
           "zerolinewidth": 2
          }
         }
        },
        "title": {
         "font": {
          "color": "blue",
          "size": 28
         },
         "text": "Top 5 RSI Stocks in Hotels, Resorts & Cruise Lines",
         "x": 0.5
        },
        "width": 800,
        "xaxis": {
         "anchor": "y",
         "domain": [
          0,
          1
         ],
         "tickfont": {
          "size": 26
         },
         "title": {
          "font": {
           "size": 26
          },
          "text": "RSI"
         }
        },
        "yaxis": {
         "anchor": "x",
         "automargin": true,
         "categoryarray": [
          "RCL",
          "HLT",
          "BKNG",
          "ABNB",
          "EXPE"
         ],
         "categoryorder": "array",
         "domain": [
          0,
          1
         ],
         "tickfont": {
          "size": 26
         },
         "tickmode": "linear",
         "title": {
          "font": {
           "size": 26
          },
          "text": "Stock Symbol"
         }
        }
       }
      }
     },
     "metadata": {},
     "output_type": "display_data"
    },
    {
     "data": {
      "application/vnd.jupyter.widget-view+json": {
       "model_id": "0548c02182ee4f9fa13f4c7102b05098",
       "version_major": 2,
       "version_minor": 0
      },
      "text/plain": [
       "Dropdown(description='Sub-Industry:', index=3, options=('Life Sciences Tools & Services', 'Technology Hardware…"
      ]
     },
     "metadata": {},
     "output_type": "display_data"
    }
   ],
   "source": [
    "import ipywidgets as widgets\n",
    "import plotly.express as px\n",
    "import ta\n",
    "from IPython.display import display, clear_output\n",
    "\n",
    "# Dropdown for Sub-Industry selection\n",
    "sub_industry_dropdown = widgets.Dropdown(\n",
    "    options=df_long['GICS Sub-Industry'].unique(),  \n",
    "    description='Sub-Industry:',\n",
    ")\n",
    "\n",
    "# Function to filter data, calculate RSI, and plot\n",
    "def filter_and_plot_data(sub_industry):\n",
    "    df_sub = df_long[df_long['GICS Sub-Industry'] == sub_industry]\n",
    "    df_rsi = df_sub.groupby('Symbol').apply(lambda l: ta.momentum.RSIIndicator(l['Adj Close']).rsi().iloc[-1]).T.sort_values().to_frame('rsi')# default RSI is always 14 days\n",
    "    top_5_rsi = df_rsi.nlargest(5, 'rsi')\n",
    "\n",
    "    # Plot\n",
    "    fig = px.bar(top_5_rsi.reset_index(), y='Symbol', x='rsi', color='Symbol', height=1200, \n",
    "                 title=f'Top 5 RSI Stocks in {sub_industry}')\n",
    "    fig.update_traces(texttemplate='%{y} %{x:.2f}', textposition='inside', textfont=dict(size=16))\n",
    "    fig.update_layout(\n",
    "        height=800, width=800,\n",
    "        title={'text': f'Top 5 RSI Stocks in {sub_industry}', 'x': 0.5, 'font': dict(size=28, color='blue')},\n",
    "        yaxis=dict(automargin=True, tickmode='linear', tickfont=dict(size=26)),\n",
    "        xaxis_tickfont=dict(size=26),\n",
    "        xaxis_title=dict(text=\"RSI\", font=dict(size=26)),\n",
    "        yaxis_title=dict(text=\"Stock Symbol\", font=dict(size=26)),\n",
    "    )\n",
    "    fig.show()\n",
    "\n",
    "# Update function for dropdown\n",
    "def update_plot(change):\n",
    "    clear_output(wait=True)\n",
    "    filter_and_plot_data(change.new)\n",
    "    display(sub_industry_dropdown)\n",
    "\n",
    "# Observe dropdown change\n",
    "sub_industry_dropdown.observe(update_plot, names='value')\n",
    "\n",
    "# Display dropdown\n",
    "display(sub_industry_dropdown)\n"
   ]
  },
  {
   "cell_type": "markdown",
   "metadata": {},
   "source": [
    "# 📊 RSI Example: Hewlett Packard Enterprise (HPE) Stocks 🏢\n",
    "\n",
    "As an example of how RSI works, let's apply it to **Hewlett Packard Enterprise** stocks. RSI helps us identify whether a stock is overbought or oversold. \n",
    "\n",
    "We will calculate the **latest RSI value** for Hewlett Packard Enterprise and analyze its performance based on the momentum indicator. 📉📈\n"
   ]
  },
  {
   "cell_type": "code",
   "execution_count": 15,
   "metadata": {},
   "outputs": [
    {
     "data": {
      "text/html": [
       "<div>\n",
       "<style scoped>\n",
       "    .dataframe tbody tr th:only-of-type {\n",
       "        vertical-align: middle;\n",
       "    }\n",
       "\n",
       "    .dataframe tbody tr th {\n",
       "        vertical-align: top;\n",
       "    }\n",
       "\n",
       "    .dataframe thead th {\n",
       "        text-align: right;\n",
       "    }\n",
       "</style>\n",
       "<table border=\"1\" class=\"dataframe\">\n",
       "  <thead>\n",
       "    <tr style=\"text-align: right;\">\n",
       "      <th></th>\n",
       "      <th>Adj Close</th>\n",
       "      <th>RSI</th>\n",
       "    </tr>\n",
       "    <tr>\n",
       "      <th>Date</th>\n",
       "      <th></th>\n",
       "      <th></th>\n",
       "    </tr>\n",
       "  </thead>\n",
       "  <tbody>\n",
       "    <tr>\n",
       "      <th>2024-03-08</th>\n",
       "      <td>17.516363</td>\n",
       "      <td>NaN</td>\n",
       "    </tr>\n",
       "    <tr>\n",
       "      <th>2024-03-11</th>\n",
       "      <td>17.565044</td>\n",
       "      <td>NaN</td>\n",
       "    </tr>\n",
       "    <tr>\n",
       "      <th>2024-03-12</th>\n",
       "      <td>17.574781</td>\n",
       "      <td>NaN</td>\n",
       "    </tr>\n",
       "    <tr>\n",
       "      <th>2024-03-13</th>\n",
       "      <td>17.428728</td>\n",
       "      <td>NaN</td>\n",
       "    </tr>\n",
       "    <tr>\n",
       "      <th>2024-03-14</th>\n",
       "      <td>17.193340</td>\n",
       "      <td>NaN</td>\n",
       "    </tr>\n",
       "    <tr>\n",
       "      <th>...</th>\n",
       "      <td>...</td>\n",
       "      <td>...</td>\n",
       "    </tr>\n",
       "    <tr>\n",
       "      <th>2025-03-03</th>\n",
       "      <td>19.030001</td>\n",
       "      <td>27.067950</td>\n",
       "    </tr>\n",
       "    <tr>\n",
       "      <th>2025-03-04</th>\n",
       "      <td>18.840000</td>\n",
       "      <td>25.966371</td>\n",
       "    </tr>\n",
       "    <tr>\n",
       "      <th>2025-03-05</th>\n",
       "      <td>18.889999</td>\n",
       "      <td>26.810487</td>\n",
       "    </tr>\n",
       "    <tr>\n",
       "      <th>2025-03-06</th>\n",
       "      <td>17.959999</td>\n",
       "      <td>21.825707</td>\n",
       "    </tr>\n",
       "    <tr>\n",
       "      <th>2025-03-07</th>\n",
       "      <td>15.810000</td>\n",
       "      <td>14.919546</td>\n",
       "    </tr>\n",
       "  </tbody>\n",
       "</table>\n",
       "<p>250 rows × 2 columns</p>\n",
       "</div>"
      ],
      "text/plain": [
       "            Adj Close        RSI\n",
       "Date                            \n",
       "2024-03-08  17.516363        NaN\n",
       "2024-03-11  17.565044        NaN\n",
       "2024-03-12  17.574781        NaN\n",
       "2024-03-13  17.428728        NaN\n",
       "2024-03-14  17.193340        NaN\n",
       "...               ...        ...\n",
       "2025-03-03  19.030001  27.067950\n",
       "2025-03-04  18.840000  25.966371\n",
       "2025-03-05  18.889999  26.810487\n",
       "2025-03-06  17.959999  21.825707\n",
       "2025-03-07  15.810000  14.919546\n",
       "\n",
       "[250 rows x 2 columns]"
      ]
     },
     "execution_count": 15,
     "metadata": {},
     "output_type": "execute_result"
    }
   ],
   "source": [
    "# Select the 'HPE' column and rename it to 'Adj Close'\n",
    "df_HPE = df['HPE'].to_frame()  # Convert to DataFrame\n",
    "df_HPE.rename(columns={'HPE': 'Adj Close'}, inplace=True)\n",
    "\n",
    "# Calculate RSI for the 'Adj Close' column\n",
    "df_HPE['RSI'] = ta.momentum.RSIIndicator(df_HPE['Adj Close'], window=14).rsi()  # default RSI is 14 days\n",
    "\n",
    "# Display the result\n",
    "df_HPE"
   ]
  },
  {
   "cell_type": "code",
   "execution_count": 16,
   "metadata": {},
   "outputs": [],
   "source": [
    "df_HPE['RSI_BECAME_OVERSOLD'] = (df_HPE['RSI'] < 30) & (df_HPE['RSI'].shift(1) > 30 )\n"
   ]
  },
  {
   "cell_type": "code",
   "execution_count": 17,
   "metadata": {},
   "outputs": [
    {
     "data": {
      "application/vnd.plotly.v1+json": {
       "config": {
        "plotlyServerURL": "https://plot.ly"
       },
       "data": [
        {
         "hovertemplate": "metric=Adj Close<br>Date=%{x}<br>value=%{y}<extra></extra>",
         "legendgroup": "Adj Close",
         "line": {
          "color": "#636efa",
          "dash": "solid"
         },
         "marker": {
          "symbol": "circle"
         },
         "mode": "lines",
         "name": "Adj Close",
         "orientation": "v",
         "showlegend": true,
         "type": "scatter",
         "x": [
          "2024-03-08T00:00:00.000000000",
          "2024-03-11T00:00:00.000000000",
          "2024-03-12T00:00:00.000000000",
          "2024-03-13T00:00:00.000000000",
          "2024-03-14T00:00:00.000000000",
          "2024-03-15T00:00:00.000000000",
          "2024-03-18T00:00:00.000000000",
          "2024-03-19T00:00:00.000000000",
          "2024-03-20T00:00:00.000000000",
          "2024-03-21T00:00:00.000000000",
          "2024-03-22T00:00:00.000000000",
          "2024-03-25T00:00:00.000000000",
          "2024-03-26T00:00:00.000000000",
          "2024-03-27T00:00:00.000000000",
          "2024-03-28T00:00:00.000000000",
          "2024-04-01T00:00:00.000000000",
          "2024-04-02T00:00:00.000000000",
          "2024-04-03T00:00:00.000000000",
          "2024-04-04T00:00:00.000000000",
          "2024-04-05T00:00:00.000000000",
          "2024-04-08T00:00:00.000000000",
          "2024-04-09T00:00:00.000000000",
          "2024-04-10T00:00:00.000000000",
          "2024-04-11T00:00:00.000000000",
          "2024-04-12T00:00:00.000000000",
          "2024-04-15T00:00:00.000000000",
          "2024-04-16T00:00:00.000000000",
          "2024-04-17T00:00:00.000000000",
          "2024-04-18T00:00:00.000000000",
          "2024-04-19T00:00:00.000000000",
          "2024-04-22T00:00:00.000000000",
          "2024-04-23T00:00:00.000000000",
          "2024-04-24T00:00:00.000000000",
          "2024-04-25T00:00:00.000000000",
          "2024-04-26T00:00:00.000000000",
          "2024-04-29T00:00:00.000000000",
          "2024-04-30T00:00:00.000000000",
          "2024-05-01T00:00:00.000000000",
          "2024-05-02T00:00:00.000000000",
          "2024-05-03T00:00:00.000000000",
          "2024-05-06T00:00:00.000000000",
          "2024-05-07T00:00:00.000000000",
          "2024-05-08T00:00:00.000000000",
          "2024-05-09T00:00:00.000000000",
          "2024-05-10T00:00:00.000000000",
          "2024-05-13T00:00:00.000000000",
          "2024-05-14T00:00:00.000000000",
          "2024-05-15T00:00:00.000000000",
          "2024-05-16T00:00:00.000000000",
          "2024-05-17T00:00:00.000000000",
          "2024-05-20T00:00:00.000000000",
          "2024-05-21T00:00:00.000000000",
          "2024-05-22T00:00:00.000000000",
          "2024-05-23T00:00:00.000000000",
          "2024-05-24T00:00:00.000000000",
          "2024-05-28T00:00:00.000000000",
          "2024-05-29T00:00:00.000000000",
          "2024-05-30T00:00:00.000000000",
          "2024-05-31T00:00:00.000000000",
          "2024-06-03T00:00:00.000000000",
          "2024-06-04T00:00:00.000000000",
          "2024-06-05T00:00:00.000000000",
          "2024-06-06T00:00:00.000000000",
          "2024-06-07T00:00:00.000000000",
          "2024-06-10T00:00:00.000000000",
          "2024-06-11T00:00:00.000000000",
          "2024-06-12T00:00:00.000000000",
          "2024-06-13T00:00:00.000000000",
          "2024-06-14T00:00:00.000000000",
          "2024-06-17T00:00:00.000000000",
          "2024-06-18T00:00:00.000000000",
          "2024-06-20T00:00:00.000000000",
          "2024-06-21T00:00:00.000000000",
          "2024-06-24T00:00:00.000000000",
          "2024-06-25T00:00:00.000000000",
          "2024-06-26T00:00:00.000000000",
          "2024-06-27T00:00:00.000000000",
          "2024-06-28T00:00:00.000000000",
          "2024-07-01T00:00:00.000000000",
          "2024-07-02T00:00:00.000000000",
          "2024-07-03T00:00:00.000000000",
          "2024-07-05T00:00:00.000000000",
          "2024-07-08T00:00:00.000000000",
          "2024-07-09T00:00:00.000000000",
          "2024-07-10T00:00:00.000000000",
          "2024-07-11T00:00:00.000000000",
          "2024-07-12T00:00:00.000000000",
          "2024-07-15T00:00:00.000000000",
          "2024-07-16T00:00:00.000000000",
          "2024-07-17T00:00:00.000000000",
          "2024-07-18T00:00:00.000000000",
          "2024-07-19T00:00:00.000000000",
          "2024-07-22T00:00:00.000000000",
          "2024-07-23T00:00:00.000000000",
          "2024-07-24T00:00:00.000000000",
          "2024-07-25T00:00:00.000000000",
          "2024-07-26T00:00:00.000000000",
          "2024-07-29T00:00:00.000000000",
          "2024-07-30T00:00:00.000000000",
          "2024-07-31T00:00:00.000000000",
          "2024-08-01T00:00:00.000000000",
          "2024-08-02T00:00:00.000000000",
          "2024-08-05T00:00:00.000000000",
          "2024-08-06T00:00:00.000000000",
          "2024-08-07T00:00:00.000000000",
          "2024-08-08T00:00:00.000000000",
          "2024-08-09T00:00:00.000000000",
          "2024-08-12T00:00:00.000000000",
          "2024-08-13T00:00:00.000000000",
          "2024-08-14T00:00:00.000000000",
          "2024-08-15T00:00:00.000000000",
          "2024-08-16T00:00:00.000000000",
          "2024-08-19T00:00:00.000000000",
          "2024-08-20T00:00:00.000000000",
          "2024-08-21T00:00:00.000000000",
          "2024-08-22T00:00:00.000000000",
          "2024-08-23T00:00:00.000000000",
          "2024-08-26T00:00:00.000000000",
          "2024-08-27T00:00:00.000000000",
          "2024-08-28T00:00:00.000000000",
          "2024-08-29T00:00:00.000000000",
          "2024-08-30T00:00:00.000000000",
          "2024-09-03T00:00:00.000000000",
          "2024-09-04T00:00:00.000000000",
          "2024-09-05T00:00:00.000000000",
          "2024-09-06T00:00:00.000000000",
          "2024-09-09T00:00:00.000000000",
          "2024-09-10T00:00:00.000000000",
          "2024-09-11T00:00:00.000000000",
          "2024-09-12T00:00:00.000000000",
          "2024-09-13T00:00:00.000000000",
          "2024-09-16T00:00:00.000000000",
          "2024-09-17T00:00:00.000000000",
          "2024-09-18T00:00:00.000000000",
          "2024-09-19T00:00:00.000000000",
          "2024-09-20T00:00:00.000000000",
          "2024-09-23T00:00:00.000000000",
          "2024-09-24T00:00:00.000000000",
          "2024-09-25T00:00:00.000000000",
          "2024-09-26T00:00:00.000000000",
          "2024-09-27T00:00:00.000000000",
          "2024-09-30T00:00:00.000000000",
          "2024-10-01T00:00:00.000000000",
          "2024-10-02T00:00:00.000000000",
          "2024-10-03T00:00:00.000000000",
          "2024-10-04T00:00:00.000000000",
          "2024-10-07T00:00:00.000000000",
          "2024-10-08T00:00:00.000000000",
          "2024-10-09T00:00:00.000000000",
          "2024-10-10T00:00:00.000000000",
          "2024-10-11T00:00:00.000000000",
          "2024-10-14T00:00:00.000000000",
          "2024-10-15T00:00:00.000000000",
          "2024-10-16T00:00:00.000000000",
          "2024-10-17T00:00:00.000000000",
          "2024-10-18T00:00:00.000000000",
          "2024-10-21T00:00:00.000000000",
          "2024-10-22T00:00:00.000000000",
          "2024-10-23T00:00:00.000000000",
          "2024-10-24T00:00:00.000000000",
          "2024-10-25T00:00:00.000000000",
          "2024-10-28T00:00:00.000000000",
          "2024-10-29T00:00:00.000000000",
          "2024-10-30T00:00:00.000000000",
          "2024-10-31T00:00:00.000000000",
          "2024-11-01T00:00:00.000000000",
          "2024-11-04T00:00:00.000000000",
          "2024-11-05T00:00:00.000000000",
          "2024-11-06T00:00:00.000000000",
          "2024-11-07T00:00:00.000000000",
          "2024-11-08T00:00:00.000000000",
          "2024-11-11T00:00:00.000000000",
          "2024-11-12T00:00:00.000000000",
          "2024-11-13T00:00:00.000000000",
          "2024-11-14T00:00:00.000000000",
          "2024-11-15T00:00:00.000000000",
          "2024-11-18T00:00:00.000000000",
          "2024-11-19T00:00:00.000000000",
          "2024-11-20T00:00:00.000000000",
          "2024-11-21T00:00:00.000000000",
          "2024-11-22T00:00:00.000000000",
          "2024-11-25T00:00:00.000000000",
          "2024-11-26T00:00:00.000000000",
          "2024-11-27T00:00:00.000000000",
          "2024-11-29T00:00:00.000000000",
          "2024-12-02T00:00:00.000000000",
          "2024-12-03T00:00:00.000000000",
          "2024-12-04T00:00:00.000000000",
          "2024-12-05T00:00:00.000000000",
          "2024-12-06T00:00:00.000000000",
          "2024-12-09T00:00:00.000000000",
          "2024-12-10T00:00:00.000000000",
          "2024-12-11T00:00:00.000000000",
          "2024-12-12T00:00:00.000000000",
          "2024-12-13T00:00:00.000000000",
          "2024-12-16T00:00:00.000000000",
          "2024-12-17T00:00:00.000000000",
          "2024-12-18T00:00:00.000000000",
          "2024-12-19T00:00:00.000000000",
          "2024-12-20T00:00:00.000000000",
          "2024-12-23T00:00:00.000000000",
          "2024-12-24T00:00:00.000000000",
          "2024-12-26T00:00:00.000000000",
          "2024-12-27T00:00:00.000000000",
          "2024-12-30T00:00:00.000000000",
          "2024-12-31T00:00:00.000000000",
          "2025-01-02T00:00:00.000000000",
          "2025-01-03T00:00:00.000000000",
          "2025-01-06T00:00:00.000000000",
          "2025-01-07T00:00:00.000000000",
          "2025-01-08T00:00:00.000000000",
          "2025-01-10T00:00:00.000000000",
          "2025-01-13T00:00:00.000000000",
          "2025-01-14T00:00:00.000000000",
          "2025-01-15T00:00:00.000000000",
          "2025-01-16T00:00:00.000000000",
          "2025-01-17T00:00:00.000000000",
          "2025-01-21T00:00:00.000000000",
          "2025-01-22T00:00:00.000000000",
          "2025-01-23T00:00:00.000000000",
          "2025-01-24T00:00:00.000000000",
          "2025-01-27T00:00:00.000000000",
          "2025-01-28T00:00:00.000000000",
          "2025-01-29T00:00:00.000000000",
          "2025-01-30T00:00:00.000000000",
          "2025-01-31T00:00:00.000000000",
          "2025-02-03T00:00:00.000000000",
          "2025-02-04T00:00:00.000000000",
          "2025-02-05T00:00:00.000000000",
          "2025-02-06T00:00:00.000000000",
          "2025-02-07T00:00:00.000000000",
          "2025-02-10T00:00:00.000000000",
          "2025-02-11T00:00:00.000000000",
          "2025-02-12T00:00:00.000000000",
          "2025-02-13T00:00:00.000000000",
          "2025-02-14T00:00:00.000000000",
          "2025-02-18T00:00:00.000000000",
          "2025-02-19T00:00:00.000000000",
          "2025-02-20T00:00:00.000000000",
          "2025-02-21T00:00:00.000000000",
          "2025-02-24T00:00:00.000000000",
          "2025-02-25T00:00:00.000000000",
          "2025-02-26T00:00:00.000000000",
          "2025-02-27T00:00:00.000000000",
          "2025-02-28T00:00:00.000000000",
          "2025-03-03T00:00:00.000000000",
          "2025-03-04T00:00:00.000000000",
          "2025-03-05T00:00:00.000000000",
          "2025-03-06T00:00:00.000000000",
          "2025-03-07T00:00:00.000000000"
         ],
         "xaxis": "x3",
         "y": [
          17.5163631439209,
          17.565044403076172,
          17.57478141784668,
          17.428728103637695,
          17.193340301513672,
          16.40870475769043,
          16.73236656188965,
          16.457746505737305,
          16.6048641204834,
          16.879486083984375,
          17.036413192749023,
          17.085453033447266,
          17.35026741027832,
          17.330650329589844,
          17.38949966430664,
          17.59546661376953,
          17.360076904296875,
          17.840665817260742,
          17.59546661376953,
          17.654314041137695,
          17.791624069213867,
          17.673931121826172,
          17.654314041137695,
          17.59546661376953,
          17.085453033447266,
          16.928525924682617,
          16.810829162597656,
          16.702943801879883,
          16.712749481201172,
          16.467552185058594,
          16.506784439086914,
          16.506784439086914,
          16.6048641204834,
          16.64409637451172,
          16.840253829956055,
          16.850061416625977,
          16.67351722717285,
          16.124271392822266,
          16.212543487548828,
          16.53620719909668,
          16.830446243286133,
          16.53620719909668,
          16.850061416625977,
          16.73236656188965,
          16.73236656188965,
          17.046220779418945,
          17.31103515625,
          17.624889373779297,
          17.54642677307129,
          17.51700210571289,
          17.458154678344727,
          17.438541412353516,
          17.801433563232422,
          17.88970375061035,
          18.056438446044922,
          18.056438446044922,
          17.830856323242188,
          18.16432762145996,
          17.31103515625,
          17.605274200439453,
          17.261995315551758,
          19.10589027404785,
          19.213777542114258,
          19.64533042907715,
          20.19457244873047,
          20.165149688720703,
          20.5084285736084,
          21.342103958129883,
          21.185178756713867,
          21.2440242767334,
          21.54990577697754,
          21.194686889648438,
          20.642127990722656,
          20.198102951049805,
          20.83946990966797,
          20.642127990722656,
          20.76053237915039,
          20.888805389404297,
          20.878938674926758,
          20.83946990966797,
          20.39544677734375,
          20.277040481567383,
          20.612524032592773,
          20.967742919921875,
          21.066415786743164,
          20.918407440185547,
          20.888805389404297,
          21.15522003173828,
          21.145353317260742,
          20.533586502075195,
          20.39544677734375,
          20.207969665527344,
          20.316509246826172,
          20.267173767089844,
          19.783681869506836,
          19.191652297973633,
          19.497533798217773,
          19.152183532714844,
          18.757495880126953,
          19.64554214477539,
          18.826566696166992,
          17.79051399230957,
          17.119544982910156,
          17.0208740234375,
          16.497913360595703,
          17.080076217651367,
          17.109678268432617,
          16.961669921875,
          17.563568115234375,
          17.543834686279297,
          18.51081657409668,
          18.422012329101562,
          18.629220962524414,
          18.52068328857422,
          18.629220962524414,
          18.52068328857422,
          18.9548397064209,
          18.92523956298828,
          18.846302032470703,
          18.747629165649414,
          18.4318790435791,
          19.112716674804688,
          18.80683135986328,
          18.52068328857422,
          17.40569305419922,
          17.297155380249023,
          17.366226196289062,
          15.886148452758789,
          16.18216323852539,
          16.63605499267578,
          16.92220115661621,
          17.00113868713379,
          17.958255767822266,
          18.056926727294922,
          18.732694625854492,
          18.692943572998047,
          18.712820053100586,
          18.76250648498535,
          19.726472854614258,
          20.223360061645508,
          20.014665603637695,
          20.332674026489258,
          19.825849533081055,
          20.372426986694336,
          20.223360061645508,
          20.491680145263672,
          20.730186462402344,
          20.839500427246094,
          20.72024917602539,
          20.41217803955078,
          20.54136848449707,
          20.59105682373047,
          20.610933303833008,
          20.759998321533203,
          20.809688568115234,
          20.56124496459961,
          19.84572410583496,
          19.76622200012207,
          19.18983268737793,
          19.279272079467773,
          19.338897705078125,
          19.60721778869629,
          19.746347427368164,
          20.213422775268555,
          19.368711471557617,
          19.935163497924805,
          19.88547706604004,
          19.875537872314453,
          21.197261810302734,
          21.306577682495117,
          21.902843475341797,
          21.88296890258789,
          21.594772338867188,
          21.714025497436523,
          21.207199096679688,
          20.938879013061523,
          21.246950149536133,
          21.39601707458496,
          21.048194885253906,
          21.60470962524414,
          21.96247100830078,
          22.07178497314453,
          21.99228286743164,
          20.67055892944336,
          21.08794593811035,
          21.117759704589844,
          21.167448043823242,
          21.62458610534668,
          21.515270233154297,
          23.80095863342285,
          22.966184616088867,
          21.78359031677246,
          21.773653030395508,
          21.694150924682617,
          21.694150924682617,
          21.714025497436523,
          21.405956268310547,
          20.46186637878418,
          20.759998321533203,
          21.610000610351562,
          21.81999969482422,
          21.889999389648438,
          22.030000686645508,
          21.649999618530273,
          21.399999618530273,
          21.350000381469727,
          21.469999313354492,
          21.81999969482422,
          22.850000381469727,
          22.280000686645508,
          22.030000686645508,
          22.079999923706055,
          21.979999542236328,
          22.540000915527344,
          23.299999237060547,
          23.40999984741211,
          23.139999389648438,
          23.700000762939453,
          24.420000076293945,
          24.360000610351562,
          24.3700008392334,
          22.950000762939453,
          21.459999084472656,
          21.65999984741211,
          21.190000534057617,
          21.190000534057617,
          20.459999084472656,
          20.829999923706055,
          21.360000610351562,
          21.360000610351562,
          21.270000457763672,
          21.43000030517578,
          21.18000030517578,
          21.09000015258789,
          21.280000686645508,
          21.709999084472656,
          21.780000686645508,
          21.850000381469727,
          21.739999771118164,
          21.139999389648438,
          20.75,
          20.290000915527344,
          20.3700008392334,
          19.84000015258789,
          19.809999465942383,
          19.030000686645508,
          18.84000015258789,
          18.889999389648438,
          17.959999084472656,
          15.8100004196167
         ],
         "yaxis": "y3"
        },
        {
         "hovertemplate": "metric=RSI<br>Date=%{x}<br>value=%{y}<extra></extra>",
         "legendgroup": "RSI",
         "line": {
          "color": "#EF553B",
          "dash": "solid"
         },
         "marker": {
          "symbol": "circle"
         },
         "mode": "lines",
         "name": "RSI",
         "orientation": "v",
         "showlegend": true,
         "type": "scatter",
         "x": [
          "2024-03-08T00:00:00.000000000",
          "2024-03-11T00:00:00.000000000",
          "2024-03-12T00:00:00.000000000",
          "2024-03-13T00:00:00.000000000",
          "2024-03-14T00:00:00.000000000",
          "2024-03-15T00:00:00.000000000",
          "2024-03-18T00:00:00.000000000",
          "2024-03-19T00:00:00.000000000",
          "2024-03-20T00:00:00.000000000",
          "2024-03-21T00:00:00.000000000",
          "2024-03-22T00:00:00.000000000",
          "2024-03-25T00:00:00.000000000",
          "2024-03-26T00:00:00.000000000",
          "2024-03-27T00:00:00.000000000",
          "2024-03-28T00:00:00.000000000",
          "2024-04-01T00:00:00.000000000",
          "2024-04-02T00:00:00.000000000",
          "2024-04-03T00:00:00.000000000",
          "2024-04-04T00:00:00.000000000",
          "2024-04-05T00:00:00.000000000",
          "2024-04-08T00:00:00.000000000",
          "2024-04-09T00:00:00.000000000",
          "2024-04-10T00:00:00.000000000",
          "2024-04-11T00:00:00.000000000",
          "2024-04-12T00:00:00.000000000",
          "2024-04-15T00:00:00.000000000",
          "2024-04-16T00:00:00.000000000",
          "2024-04-17T00:00:00.000000000",
          "2024-04-18T00:00:00.000000000",
          "2024-04-19T00:00:00.000000000",
          "2024-04-22T00:00:00.000000000",
          "2024-04-23T00:00:00.000000000",
          "2024-04-24T00:00:00.000000000",
          "2024-04-25T00:00:00.000000000",
          "2024-04-26T00:00:00.000000000",
          "2024-04-29T00:00:00.000000000",
          "2024-04-30T00:00:00.000000000",
          "2024-05-01T00:00:00.000000000",
          "2024-05-02T00:00:00.000000000",
          "2024-05-03T00:00:00.000000000",
          "2024-05-06T00:00:00.000000000",
          "2024-05-07T00:00:00.000000000",
          "2024-05-08T00:00:00.000000000",
          "2024-05-09T00:00:00.000000000",
          "2024-05-10T00:00:00.000000000",
          "2024-05-13T00:00:00.000000000",
          "2024-05-14T00:00:00.000000000",
          "2024-05-15T00:00:00.000000000",
          "2024-05-16T00:00:00.000000000",
          "2024-05-17T00:00:00.000000000",
          "2024-05-20T00:00:00.000000000",
          "2024-05-21T00:00:00.000000000",
          "2024-05-22T00:00:00.000000000",
          "2024-05-23T00:00:00.000000000",
          "2024-05-24T00:00:00.000000000",
          "2024-05-28T00:00:00.000000000",
          "2024-05-29T00:00:00.000000000",
          "2024-05-30T00:00:00.000000000",
          "2024-05-31T00:00:00.000000000",
          "2024-06-03T00:00:00.000000000",
          "2024-06-04T00:00:00.000000000",
          "2024-06-05T00:00:00.000000000",
          "2024-06-06T00:00:00.000000000",
          "2024-06-07T00:00:00.000000000",
          "2024-06-10T00:00:00.000000000",
          "2024-06-11T00:00:00.000000000",
          "2024-06-12T00:00:00.000000000",
          "2024-06-13T00:00:00.000000000",
          "2024-06-14T00:00:00.000000000",
          "2024-06-17T00:00:00.000000000",
          "2024-06-18T00:00:00.000000000",
          "2024-06-20T00:00:00.000000000",
          "2024-06-21T00:00:00.000000000",
          "2024-06-24T00:00:00.000000000",
          "2024-06-25T00:00:00.000000000",
          "2024-06-26T00:00:00.000000000",
          "2024-06-27T00:00:00.000000000",
          "2024-06-28T00:00:00.000000000",
          "2024-07-01T00:00:00.000000000",
          "2024-07-02T00:00:00.000000000",
          "2024-07-03T00:00:00.000000000",
          "2024-07-05T00:00:00.000000000",
          "2024-07-08T00:00:00.000000000",
          "2024-07-09T00:00:00.000000000",
          "2024-07-10T00:00:00.000000000",
          "2024-07-11T00:00:00.000000000",
          "2024-07-12T00:00:00.000000000",
          "2024-07-15T00:00:00.000000000",
          "2024-07-16T00:00:00.000000000",
          "2024-07-17T00:00:00.000000000",
          "2024-07-18T00:00:00.000000000",
          "2024-07-19T00:00:00.000000000",
          "2024-07-22T00:00:00.000000000",
          "2024-07-23T00:00:00.000000000",
          "2024-07-24T00:00:00.000000000",
          "2024-07-25T00:00:00.000000000",
          "2024-07-26T00:00:00.000000000",
          "2024-07-29T00:00:00.000000000",
          "2024-07-30T00:00:00.000000000",
          "2024-07-31T00:00:00.000000000",
          "2024-08-01T00:00:00.000000000",
          "2024-08-02T00:00:00.000000000",
          "2024-08-05T00:00:00.000000000",
          "2024-08-06T00:00:00.000000000",
          "2024-08-07T00:00:00.000000000",
          "2024-08-08T00:00:00.000000000",
          "2024-08-09T00:00:00.000000000",
          "2024-08-12T00:00:00.000000000",
          "2024-08-13T00:00:00.000000000",
          "2024-08-14T00:00:00.000000000",
          "2024-08-15T00:00:00.000000000",
          "2024-08-16T00:00:00.000000000",
          "2024-08-19T00:00:00.000000000",
          "2024-08-20T00:00:00.000000000",
          "2024-08-21T00:00:00.000000000",
          "2024-08-22T00:00:00.000000000",
          "2024-08-23T00:00:00.000000000",
          "2024-08-26T00:00:00.000000000",
          "2024-08-27T00:00:00.000000000",
          "2024-08-28T00:00:00.000000000",
          "2024-08-29T00:00:00.000000000",
          "2024-08-30T00:00:00.000000000",
          "2024-09-03T00:00:00.000000000",
          "2024-09-04T00:00:00.000000000",
          "2024-09-05T00:00:00.000000000",
          "2024-09-06T00:00:00.000000000",
          "2024-09-09T00:00:00.000000000",
          "2024-09-10T00:00:00.000000000",
          "2024-09-11T00:00:00.000000000",
          "2024-09-12T00:00:00.000000000",
          "2024-09-13T00:00:00.000000000",
          "2024-09-16T00:00:00.000000000",
          "2024-09-17T00:00:00.000000000",
          "2024-09-18T00:00:00.000000000",
          "2024-09-19T00:00:00.000000000",
          "2024-09-20T00:00:00.000000000",
          "2024-09-23T00:00:00.000000000",
          "2024-09-24T00:00:00.000000000",
          "2024-09-25T00:00:00.000000000",
          "2024-09-26T00:00:00.000000000",
          "2024-09-27T00:00:00.000000000",
          "2024-09-30T00:00:00.000000000",
          "2024-10-01T00:00:00.000000000",
          "2024-10-02T00:00:00.000000000",
          "2024-10-03T00:00:00.000000000",
          "2024-10-04T00:00:00.000000000",
          "2024-10-07T00:00:00.000000000",
          "2024-10-08T00:00:00.000000000",
          "2024-10-09T00:00:00.000000000",
          "2024-10-10T00:00:00.000000000",
          "2024-10-11T00:00:00.000000000",
          "2024-10-14T00:00:00.000000000",
          "2024-10-15T00:00:00.000000000",
          "2024-10-16T00:00:00.000000000",
          "2024-10-17T00:00:00.000000000",
          "2024-10-18T00:00:00.000000000",
          "2024-10-21T00:00:00.000000000",
          "2024-10-22T00:00:00.000000000",
          "2024-10-23T00:00:00.000000000",
          "2024-10-24T00:00:00.000000000",
          "2024-10-25T00:00:00.000000000",
          "2024-10-28T00:00:00.000000000",
          "2024-10-29T00:00:00.000000000",
          "2024-10-30T00:00:00.000000000",
          "2024-10-31T00:00:00.000000000",
          "2024-11-01T00:00:00.000000000",
          "2024-11-04T00:00:00.000000000",
          "2024-11-05T00:00:00.000000000",
          "2024-11-06T00:00:00.000000000",
          "2024-11-07T00:00:00.000000000",
          "2024-11-08T00:00:00.000000000",
          "2024-11-11T00:00:00.000000000",
          "2024-11-12T00:00:00.000000000",
          "2024-11-13T00:00:00.000000000",
          "2024-11-14T00:00:00.000000000",
          "2024-11-15T00:00:00.000000000",
          "2024-11-18T00:00:00.000000000",
          "2024-11-19T00:00:00.000000000",
          "2024-11-20T00:00:00.000000000",
          "2024-11-21T00:00:00.000000000",
          "2024-11-22T00:00:00.000000000",
          "2024-11-25T00:00:00.000000000",
          "2024-11-26T00:00:00.000000000",
          "2024-11-27T00:00:00.000000000",
          "2024-11-29T00:00:00.000000000",
          "2024-12-02T00:00:00.000000000",
          "2024-12-03T00:00:00.000000000",
          "2024-12-04T00:00:00.000000000",
          "2024-12-05T00:00:00.000000000",
          "2024-12-06T00:00:00.000000000",
          "2024-12-09T00:00:00.000000000",
          "2024-12-10T00:00:00.000000000",
          "2024-12-11T00:00:00.000000000",
          "2024-12-12T00:00:00.000000000",
          "2024-12-13T00:00:00.000000000",
          "2024-12-16T00:00:00.000000000",
          "2024-12-17T00:00:00.000000000",
          "2024-12-18T00:00:00.000000000",
          "2024-12-19T00:00:00.000000000",
          "2024-12-20T00:00:00.000000000",
          "2024-12-23T00:00:00.000000000",
          "2024-12-24T00:00:00.000000000",
          "2024-12-26T00:00:00.000000000",
          "2024-12-27T00:00:00.000000000",
          "2024-12-30T00:00:00.000000000",
          "2024-12-31T00:00:00.000000000",
          "2025-01-02T00:00:00.000000000",
          "2025-01-03T00:00:00.000000000",
          "2025-01-06T00:00:00.000000000",
          "2025-01-07T00:00:00.000000000",
          "2025-01-08T00:00:00.000000000",
          "2025-01-10T00:00:00.000000000",
          "2025-01-13T00:00:00.000000000",
          "2025-01-14T00:00:00.000000000",
          "2025-01-15T00:00:00.000000000",
          "2025-01-16T00:00:00.000000000",
          "2025-01-17T00:00:00.000000000",
          "2025-01-21T00:00:00.000000000",
          "2025-01-22T00:00:00.000000000",
          "2025-01-23T00:00:00.000000000",
          "2025-01-24T00:00:00.000000000",
          "2025-01-27T00:00:00.000000000",
          "2025-01-28T00:00:00.000000000",
          "2025-01-29T00:00:00.000000000",
          "2025-01-30T00:00:00.000000000",
          "2025-01-31T00:00:00.000000000",
          "2025-02-03T00:00:00.000000000",
          "2025-02-04T00:00:00.000000000",
          "2025-02-05T00:00:00.000000000",
          "2025-02-06T00:00:00.000000000",
          "2025-02-07T00:00:00.000000000",
          "2025-02-10T00:00:00.000000000",
          "2025-02-11T00:00:00.000000000",
          "2025-02-12T00:00:00.000000000",
          "2025-02-13T00:00:00.000000000",
          "2025-02-14T00:00:00.000000000",
          "2025-02-18T00:00:00.000000000",
          "2025-02-19T00:00:00.000000000",
          "2025-02-20T00:00:00.000000000",
          "2025-02-21T00:00:00.000000000",
          "2025-02-24T00:00:00.000000000",
          "2025-02-25T00:00:00.000000000",
          "2025-02-26T00:00:00.000000000",
          "2025-02-27T00:00:00.000000000",
          "2025-02-28T00:00:00.000000000",
          "2025-03-03T00:00:00.000000000",
          "2025-03-04T00:00:00.000000000",
          "2025-03-05T00:00:00.000000000",
          "2025-03-06T00:00:00.000000000",
          "2025-03-07T00:00:00.000000000"
         ],
         "xaxis": "x2",
         "y": [
          null,
          null,
          null,
          null,
          null,
          null,
          null,
          null,
          null,
          null,
          null,
          null,
          null,
          53.323827013683655,
          54.94945167329285,
          60.17701721438042,
          52.656828745662494,
          62.86139615405331,
          56.204958403214135,
          57.371632782392496,
          60.0461350619067,
          56.759040586980234,
          56.20672911607186,
          54.493668046148876,
          42.42530322773132,
          39.524802286323826,
          37.45644375229068,
          35.616558431490006,
          35.92463251855682,
          31.823936676612078,
          33.13901096642145,
          33.13901096642145,
          36.680307672955074,
          38.092779270602435,
          44.731233179513765,
          45.04851638042779,
          40.53725867367254,
          30.353221737464523,
          33.25539349072709,
          42.68597081812864,
          49.650732135713135,
          43.90501653449895,
          50.48691002759346,
          48.20281876305631,
          48.20281876305631,
          54.56061962358219,
          59.120039003260075,
          63.76115649437493,
          61.870066966858744,
          61.137750324006035,
          59.61791783095599,
          59.09067300379322,
          65.21957585308886,
          66.53298063876665,
          68.92043596605288,
          68.92043596605288,
          61.98242692363138,
          67.23357609349392,
          48.69802668908516,
          53.46244502870781,
          47.87611957922254,
          67.51267025366128,
          68.26597774666449,
          71.14791178081558,
          74.3416678924628,
          73.86993457687987,
          75.79940718563273,
          79.71658864330357,
          77.18405244245274,
          77.4730635170685,
          78.96465567077689,
          72.92577394430172,
          64.64407033841465,
          58.85952830173199,
          63.88637027188224,
          61.40040724588307,
          62.34711906102641,
          63.39456781487678,
          63.24881768765817,
          62.628527712858364,
          55.97744755902872,
          54.320763376066445,
          58.10413430626256,
          61.719461631816074,
          62.68278492285838,
          60.23422631163827,
          59.73166722089944,
          62.744372535288306,
          62.55770321169172,
          52.1899810499034,
          50.1681359764478,
          47.47979751977939,
          49.17778369884956,
          48.41163441271886,
          41.57569107945725,
          35.04937795960083,
          40.26660927620968,
          36.683809989800515,
          33.063057333620435,
          45.98206451401683,
          38.58582406665016,
          31.650080559916603,
          28.124321760387602,
          27.636752451345046,
          25.148310726824718,
          32.44094124763053,
          32.799464500289886,
          31.888264497659804,
          39.27626553364891,
          39.126421542870375,
          49.32820105173455,
          48.52392872357611,
          50.549902433752344,
          49.451985478669,
          50.60729061244611,
          49.39158001015973,
          54.13754781637867,
          53.76733386188596,
          52.73171370809664,
          51.39900391755207,
          47.281051768612635,
          55.550526468154004,
          51.63194038978321,
          48.20615182849879,
          37.70747657634663,
          36.86579130412451,
          37.817036408582524,
          28.06046577273125,
          31.84754809779143,
          37.29811059972108,
          40.52733029014306,
          41.4235618140516,
          51.0547440340664,
          51.93218913000312,
          57.545578453545026,
          57.122990108443865,
          57.29187530470464,
          57.73998031681966,
          65.33844856793809,
          68.48407425664985,
          65.78375275575418,
          67.8631685124827,
          61.45318373796253,
          65.26371110131242,
          63.42229149248438,
          65.3191183842925,
          66.95929961356461,
          67.71298491987855,
          65.94572894691973,
          61.481516823857014,
          62.62416650391536,
          63.07783627273066,
          63.26989797283615,
          64.75079183016156,
          65.25370202087299,
          60.598442630984025,
          49.61929797463748,
          48.56640549907989,
          41.663783602247484,
          43.01716370686658,
          43.950719684010465,
          48.07350064892447,
          50.12220199947933,
          56.34863612956861,
          45.328039540514276,
          52.09429573750587,
          51.49231092833585,
          51.364444661172215,
          64.12305431393446,
          64.9422002467929,
          69.08805011384933,
          68.79601519172108,
          64.53601445532007,
          65.48832417007081,
          58.32052071293263,
          54.894947751833605,
          57.948962027251895,
          59.3820690847201,
          54.69789325620722,
          60.118560617993076,
          63.16956401416799,
          64.07393858811588,
          62.8649075951761,
          46.990080337485544,
          51.18244992785587,
          51.47764350367201,
          51.99860674828621,
          56.61384328915331,
          55.24592272548735,
          71.01555842864843,
          62.371602606471164,
          52.603215419915045,
          52.52876795997315,
          51.89596760188783,
          51.89596760188783,
          52.0633945323305,
          49.20458881151146,
          41.65579891054972,
          44.548888192669295,
          51.87584343223987,
          53.51022230348352,
          54.07017052528998,
          55.23157321940722,
          51.430174405809616,
          49.03886219895784,
          48.55263512051325,
          49.83813233734365,
          53.48855894681096,
          62.205305889509894,
          55.95559466674693,
          53.42052030499966,
          53.87064477599685,
          52.772229916592494,
          57.94373594499631,
          63.745841765989866,
          64.50904428320658,
          61.108579766230875,
          65.20533126048268,
          69.63424814477509,
          68.84779143344603,
          68.9108158010884,
          52.62885549421438,
          41.53834448440645,
          43.2665539274088,
          40.254969642723836,
          40.254969642723836,
          35.77001822212007,
          39.452160461781205,
          44.37162196237023,
          44.371621962370234,
          43.672800654911434,
          45.32148882248291,
          43.19408579440925,
          42.422071403414144,
          44.67037569799443,
          49.4784626171837,
          50.23660438184585,
          51.02800163803886,
          49.69065831004402,
          43.06141755083086,
          39.383512039388805,
          35.52897160745138,
          36.68948799709773,
          32.51381779071711,
          32.289796500804684,
          27.067949981950804,
          25.966371015216566,
          26.81048746467434,
          21.82570693677772,
          14.919545705387279
         ],
         "yaxis": "y2"
        },
        {
         "hovertemplate": "metric=RSI_BECAME_OVERSOLD<br>Date=%{x}<br>value=%{y}<extra></extra>",
         "legendgroup": "RSI_BECAME_OVERSOLD",
         "line": {
          "color": "#00cc96",
          "dash": "solid"
         },
         "marker": {
          "symbol": "circle"
         },
         "mode": "lines",
         "name": "RSI_BECAME_OVERSOLD",
         "orientation": "v",
         "showlegend": true,
         "type": "scatter",
         "x": [
          "2024-03-08T00:00:00.000000000",
          "2024-03-11T00:00:00.000000000",
          "2024-03-12T00:00:00.000000000",
          "2024-03-13T00:00:00.000000000",
          "2024-03-14T00:00:00.000000000",
          "2024-03-15T00:00:00.000000000",
          "2024-03-18T00:00:00.000000000",
          "2024-03-19T00:00:00.000000000",
          "2024-03-20T00:00:00.000000000",
          "2024-03-21T00:00:00.000000000",
          "2024-03-22T00:00:00.000000000",
          "2024-03-25T00:00:00.000000000",
          "2024-03-26T00:00:00.000000000",
          "2024-03-27T00:00:00.000000000",
          "2024-03-28T00:00:00.000000000",
          "2024-04-01T00:00:00.000000000",
          "2024-04-02T00:00:00.000000000",
          "2024-04-03T00:00:00.000000000",
          "2024-04-04T00:00:00.000000000",
          "2024-04-05T00:00:00.000000000",
          "2024-04-08T00:00:00.000000000",
          "2024-04-09T00:00:00.000000000",
          "2024-04-10T00:00:00.000000000",
          "2024-04-11T00:00:00.000000000",
          "2024-04-12T00:00:00.000000000",
          "2024-04-15T00:00:00.000000000",
          "2024-04-16T00:00:00.000000000",
          "2024-04-17T00:00:00.000000000",
          "2024-04-18T00:00:00.000000000",
          "2024-04-19T00:00:00.000000000",
          "2024-04-22T00:00:00.000000000",
          "2024-04-23T00:00:00.000000000",
          "2024-04-24T00:00:00.000000000",
          "2024-04-25T00:00:00.000000000",
          "2024-04-26T00:00:00.000000000",
          "2024-04-29T00:00:00.000000000",
          "2024-04-30T00:00:00.000000000",
          "2024-05-01T00:00:00.000000000",
          "2024-05-02T00:00:00.000000000",
          "2024-05-03T00:00:00.000000000",
          "2024-05-06T00:00:00.000000000",
          "2024-05-07T00:00:00.000000000",
          "2024-05-08T00:00:00.000000000",
          "2024-05-09T00:00:00.000000000",
          "2024-05-10T00:00:00.000000000",
          "2024-05-13T00:00:00.000000000",
          "2024-05-14T00:00:00.000000000",
          "2024-05-15T00:00:00.000000000",
          "2024-05-16T00:00:00.000000000",
          "2024-05-17T00:00:00.000000000",
          "2024-05-20T00:00:00.000000000",
          "2024-05-21T00:00:00.000000000",
          "2024-05-22T00:00:00.000000000",
          "2024-05-23T00:00:00.000000000",
          "2024-05-24T00:00:00.000000000",
          "2024-05-28T00:00:00.000000000",
          "2024-05-29T00:00:00.000000000",
          "2024-05-30T00:00:00.000000000",
          "2024-05-31T00:00:00.000000000",
          "2024-06-03T00:00:00.000000000",
          "2024-06-04T00:00:00.000000000",
          "2024-06-05T00:00:00.000000000",
          "2024-06-06T00:00:00.000000000",
          "2024-06-07T00:00:00.000000000",
          "2024-06-10T00:00:00.000000000",
          "2024-06-11T00:00:00.000000000",
          "2024-06-12T00:00:00.000000000",
          "2024-06-13T00:00:00.000000000",
          "2024-06-14T00:00:00.000000000",
          "2024-06-17T00:00:00.000000000",
          "2024-06-18T00:00:00.000000000",
          "2024-06-20T00:00:00.000000000",
          "2024-06-21T00:00:00.000000000",
          "2024-06-24T00:00:00.000000000",
          "2024-06-25T00:00:00.000000000",
          "2024-06-26T00:00:00.000000000",
          "2024-06-27T00:00:00.000000000",
          "2024-06-28T00:00:00.000000000",
          "2024-07-01T00:00:00.000000000",
          "2024-07-02T00:00:00.000000000",
          "2024-07-03T00:00:00.000000000",
          "2024-07-05T00:00:00.000000000",
          "2024-07-08T00:00:00.000000000",
          "2024-07-09T00:00:00.000000000",
          "2024-07-10T00:00:00.000000000",
          "2024-07-11T00:00:00.000000000",
          "2024-07-12T00:00:00.000000000",
          "2024-07-15T00:00:00.000000000",
          "2024-07-16T00:00:00.000000000",
          "2024-07-17T00:00:00.000000000",
          "2024-07-18T00:00:00.000000000",
          "2024-07-19T00:00:00.000000000",
          "2024-07-22T00:00:00.000000000",
          "2024-07-23T00:00:00.000000000",
          "2024-07-24T00:00:00.000000000",
          "2024-07-25T00:00:00.000000000",
          "2024-07-26T00:00:00.000000000",
          "2024-07-29T00:00:00.000000000",
          "2024-07-30T00:00:00.000000000",
          "2024-07-31T00:00:00.000000000",
          "2024-08-01T00:00:00.000000000",
          "2024-08-02T00:00:00.000000000",
          "2024-08-05T00:00:00.000000000",
          "2024-08-06T00:00:00.000000000",
          "2024-08-07T00:00:00.000000000",
          "2024-08-08T00:00:00.000000000",
          "2024-08-09T00:00:00.000000000",
          "2024-08-12T00:00:00.000000000",
          "2024-08-13T00:00:00.000000000",
          "2024-08-14T00:00:00.000000000",
          "2024-08-15T00:00:00.000000000",
          "2024-08-16T00:00:00.000000000",
          "2024-08-19T00:00:00.000000000",
          "2024-08-20T00:00:00.000000000",
          "2024-08-21T00:00:00.000000000",
          "2024-08-22T00:00:00.000000000",
          "2024-08-23T00:00:00.000000000",
          "2024-08-26T00:00:00.000000000",
          "2024-08-27T00:00:00.000000000",
          "2024-08-28T00:00:00.000000000",
          "2024-08-29T00:00:00.000000000",
          "2024-08-30T00:00:00.000000000",
          "2024-09-03T00:00:00.000000000",
          "2024-09-04T00:00:00.000000000",
          "2024-09-05T00:00:00.000000000",
          "2024-09-06T00:00:00.000000000",
          "2024-09-09T00:00:00.000000000",
          "2024-09-10T00:00:00.000000000",
          "2024-09-11T00:00:00.000000000",
          "2024-09-12T00:00:00.000000000",
          "2024-09-13T00:00:00.000000000",
          "2024-09-16T00:00:00.000000000",
          "2024-09-17T00:00:00.000000000",
          "2024-09-18T00:00:00.000000000",
          "2024-09-19T00:00:00.000000000",
          "2024-09-20T00:00:00.000000000",
          "2024-09-23T00:00:00.000000000",
          "2024-09-24T00:00:00.000000000",
          "2024-09-25T00:00:00.000000000",
          "2024-09-26T00:00:00.000000000",
          "2024-09-27T00:00:00.000000000",
          "2024-09-30T00:00:00.000000000",
          "2024-10-01T00:00:00.000000000",
          "2024-10-02T00:00:00.000000000",
          "2024-10-03T00:00:00.000000000",
          "2024-10-04T00:00:00.000000000",
          "2024-10-07T00:00:00.000000000",
          "2024-10-08T00:00:00.000000000",
          "2024-10-09T00:00:00.000000000",
          "2024-10-10T00:00:00.000000000",
          "2024-10-11T00:00:00.000000000",
          "2024-10-14T00:00:00.000000000",
          "2024-10-15T00:00:00.000000000",
          "2024-10-16T00:00:00.000000000",
          "2024-10-17T00:00:00.000000000",
          "2024-10-18T00:00:00.000000000",
          "2024-10-21T00:00:00.000000000",
          "2024-10-22T00:00:00.000000000",
          "2024-10-23T00:00:00.000000000",
          "2024-10-24T00:00:00.000000000",
          "2024-10-25T00:00:00.000000000",
          "2024-10-28T00:00:00.000000000",
          "2024-10-29T00:00:00.000000000",
          "2024-10-30T00:00:00.000000000",
          "2024-10-31T00:00:00.000000000",
          "2024-11-01T00:00:00.000000000",
          "2024-11-04T00:00:00.000000000",
          "2024-11-05T00:00:00.000000000",
          "2024-11-06T00:00:00.000000000",
          "2024-11-07T00:00:00.000000000",
          "2024-11-08T00:00:00.000000000",
          "2024-11-11T00:00:00.000000000",
          "2024-11-12T00:00:00.000000000",
          "2024-11-13T00:00:00.000000000",
          "2024-11-14T00:00:00.000000000",
          "2024-11-15T00:00:00.000000000",
          "2024-11-18T00:00:00.000000000",
          "2024-11-19T00:00:00.000000000",
          "2024-11-20T00:00:00.000000000",
          "2024-11-21T00:00:00.000000000",
          "2024-11-22T00:00:00.000000000",
          "2024-11-25T00:00:00.000000000",
          "2024-11-26T00:00:00.000000000",
          "2024-11-27T00:00:00.000000000",
          "2024-11-29T00:00:00.000000000",
          "2024-12-02T00:00:00.000000000",
          "2024-12-03T00:00:00.000000000",
          "2024-12-04T00:00:00.000000000",
          "2024-12-05T00:00:00.000000000",
          "2024-12-06T00:00:00.000000000",
          "2024-12-09T00:00:00.000000000",
          "2024-12-10T00:00:00.000000000",
          "2024-12-11T00:00:00.000000000",
          "2024-12-12T00:00:00.000000000",
          "2024-12-13T00:00:00.000000000",
          "2024-12-16T00:00:00.000000000",
          "2024-12-17T00:00:00.000000000",
          "2024-12-18T00:00:00.000000000",
          "2024-12-19T00:00:00.000000000",
          "2024-12-20T00:00:00.000000000",
          "2024-12-23T00:00:00.000000000",
          "2024-12-24T00:00:00.000000000",
          "2024-12-26T00:00:00.000000000",
          "2024-12-27T00:00:00.000000000",
          "2024-12-30T00:00:00.000000000",
          "2024-12-31T00:00:00.000000000",
          "2025-01-02T00:00:00.000000000",
          "2025-01-03T00:00:00.000000000",
          "2025-01-06T00:00:00.000000000",
          "2025-01-07T00:00:00.000000000",
          "2025-01-08T00:00:00.000000000",
          "2025-01-10T00:00:00.000000000",
          "2025-01-13T00:00:00.000000000",
          "2025-01-14T00:00:00.000000000",
          "2025-01-15T00:00:00.000000000",
          "2025-01-16T00:00:00.000000000",
          "2025-01-17T00:00:00.000000000",
          "2025-01-21T00:00:00.000000000",
          "2025-01-22T00:00:00.000000000",
          "2025-01-23T00:00:00.000000000",
          "2025-01-24T00:00:00.000000000",
          "2025-01-27T00:00:00.000000000",
          "2025-01-28T00:00:00.000000000",
          "2025-01-29T00:00:00.000000000",
          "2025-01-30T00:00:00.000000000",
          "2025-01-31T00:00:00.000000000",
          "2025-02-03T00:00:00.000000000",
          "2025-02-04T00:00:00.000000000",
          "2025-02-05T00:00:00.000000000",
          "2025-02-06T00:00:00.000000000",
          "2025-02-07T00:00:00.000000000",
          "2025-02-10T00:00:00.000000000",
          "2025-02-11T00:00:00.000000000",
          "2025-02-12T00:00:00.000000000",
          "2025-02-13T00:00:00.000000000",
          "2025-02-14T00:00:00.000000000",
          "2025-02-18T00:00:00.000000000",
          "2025-02-19T00:00:00.000000000",
          "2025-02-20T00:00:00.000000000",
          "2025-02-21T00:00:00.000000000",
          "2025-02-24T00:00:00.000000000",
          "2025-02-25T00:00:00.000000000",
          "2025-02-26T00:00:00.000000000",
          "2025-02-27T00:00:00.000000000",
          "2025-02-28T00:00:00.000000000",
          "2025-03-03T00:00:00.000000000",
          "2025-03-04T00:00:00.000000000",
          "2025-03-05T00:00:00.000000000",
          "2025-03-06T00:00:00.000000000",
          "2025-03-07T00:00:00.000000000"
         ],
         "xaxis": "x",
         "y": [
          0,
          0,
          0,
          0,
          0,
          0,
          0,
          0,
          0,
          0,
          0,
          0,
          0,
          0,
          0,
          0,
          0,
          0,
          0,
          0,
          0,
          0,
          0,
          0,
          0,
          0,
          0,
          0,
          0,
          0,
          0,
          0,
          0,
          0,
          0,
          0,
          0,
          0,
          0,
          0,
          0,
          0,
          0,
          0,
          0,
          0,
          0,
          0,
          0,
          0,
          0,
          0,
          0,
          0,
          0,
          0,
          0,
          0,
          0,
          0,
          0,
          0,
          0,
          0,
          0,
          0,
          0,
          0,
          0,
          0,
          0,
          0,
          0,
          0,
          0,
          0,
          0,
          0,
          0,
          0,
          0,
          0,
          0,
          0,
          0,
          0,
          0,
          0,
          0,
          0,
          0,
          0,
          0,
          0,
          0,
          0,
          0,
          0,
          0,
          0,
          0,
          0,
          1,
          0,
          0,
          0,
          0,
          0,
          0,
          0,
          0,
          0,
          0,
          0,
          0,
          0,
          0,
          0,
          0,
          0,
          0,
          0,
          0,
          0,
          0,
          0,
          0,
          1,
          0,
          0,
          0,
          0,
          0,
          0,
          0,
          0,
          0,
          0,
          0,
          0,
          0,
          0,
          0,
          0,
          0,
          0,
          0,
          0,
          0,
          0,
          0,
          0,
          0,
          0,
          0,
          0,
          0,
          0,
          0,
          0,
          0,
          0,
          0,
          0,
          0,
          0,
          0,
          0,
          0,
          0,
          0,
          0,
          0,
          0,
          0,
          0,
          0,
          0,
          0,
          0,
          0,
          0,
          0,
          0,
          0,
          0,
          0,
          0,
          0,
          0,
          0,
          0,
          0,
          0,
          0,
          0,
          0,
          0,
          0,
          0,
          0,
          0,
          0,
          0,
          0,
          0,
          0,
          0,
          0,
          0,
          0,
          0,
          0,
          0,
          0,
          0,
          0,
          0,
          0,
          0,
          0,
          0,
          0,
          0,
          0,
          0,
          0,
          0,
          0,
          0,
          0,
          0,
          0,
          0,
          0,
          0,
          0,
          0,
          0,
          0,
          0,
          0,
          0,
          0,
          0,
          1,
          0,
          0,
          0,
          0
         ],
         "yaxis": "y"
        }
       ],
       "layout": {
        "annotations": [
         {
          "font": {},
          "showarrow": false,
          "text": "metric=RSI_BECAME_OVERSOLD",
          "textangle": 90,
          "x": 0.98,
          "xanchor": "left",
          "xref": "paper",
          "y": 0.15666666666666665,
          "yanchor": "middle",
          "yref": "paper"
         },
         {
          "font": {},
          "showarrow": false,
          "text": "metric=RSI",
          "textangle": 90,
          "x": 0.98,
          "xanchor": "left",
          "xref": "paper",
          "y": 0.4999999999999999,
          "yanchor": "middle",
          "yref": "paper"
         },
         {
          "font": {},
          "showarrow": false,
          "text": "metric=Adj Close",
          "textangle": 90,
          "x": 0.98,
          "xanchor": "left",
          "xref": "paper",
          "y": 0.8433333333333332,
          "yanchor": "middle",
          "yref": "paper"
         }
        ],
        "legend": {
         "title": {
          "text": "metric"
         },
         "tracegroupgap": 0
        },
        "margin": {
         "t": 60
        },
        "template": {
         "data": {
          "bar": [
           {
            "error_x": {
             "color": "#2a3f5f"
            },
            "error_y": {
             "color": "#2a3f5f"
            },
            "marker": {
             "line": {
              "color": "#E5ECF6",
              "width": 0.5
             },
             "pattern": {
              "fillmode": "overlay",
              "size": 10,
              "solidity": 0.2
             }
            },
            "type": "bar"
           }
          ],
          "barpolar": [
           {
            "marker": {
             "line": {
              "color": "#E5ECF6",
              "width": 0.5
             },
             "pattern": {
              "fillmode": "overlay",
              "size": 10,
              "solidity": 0.2
             }
            },
            "type": "barpolar"
           }
          ],
          "carpet": [
           {
            "aaxis": {
             "endlinecolor": "#2a3f5f",
             "gridcolor": "white",
             "linecolor": "white",
             "minorgridcolor": "white",
             "startlinecolor": "#2a3f5f"
            },
            "baxis": {
             "endlinecolor": "#2a3f5f",
             "gridcolor": "white",
             "linecolor": "white",
             "minorgridcolor": "white",
             "startlinecolor": "#2a3f5f"
            },
            "type": "carpet"
           }
          ],
          "choropleth": [
           {
            "colorbar": {
             "outlinewidth": 0,
             "ticks": ""
            },
            "type": "choropleth"
           }
          ],
          "contour": [
           {
            "colorbar": {
             "outlinewidth": 0,
             "ticks": ""
            },
            "colorscale": [
             [
              0,
              "#0d0887"
             ],
             [
              0.1111111111111111,
              "#46039f"
             ],
             [
              0.2222222222222222,
              "#7201a8"
             ],
             [
              0.3333333333333333,
              "#9c179e"
             ],
             [
              0.4444444444444444,
              "#bd3786"
             ],
             [
              0.5555555555555556,
              "#d8576b"
             ],
             [
              0.6666666666666666,
              "#ed7953"
             ],
             [
              0.7777777777777778,
              "#fb9f3a"
             ],
             [
              0.8888888888888888,
              "#fdca26"
             ],
             [
              1,
              "#f0f921"
             ]
            ],
            "type": "contour"
           }
          ],
          "contourcarpet": [
           {
            "colorbar": {
             "outlinewidth": 0,
             "ticks": ""
            },
            "type": "contourcarpet"
           }
          ],
          "heatmap": [
           {
            "colorbar": {
             "outlinewidth": 0,
             "ticks": ""
            },
            "colorscale": [
             [
              0,
              "#0d0887"
             ],
             [
              0.1111111111111111,
              "#46039f"
             ],
             [
              0.2222222222222222,
              "#7201a8"
             ],
             [
              0.3333333333333333,
              "#9c179e"
             ],
             [
              0.4444444444444444,
              "#bd3786"
             ],
             [
              0.5555555555555556,
              "#d8576b"
             ],
             [
              0.6666666666666666,
              "#ed7953"
             ],
             [
              0.7777777777777778,
              "#fb9f3a"
             ],
             [
              0.8888888888888888,
              "#fdca26"
             ],
             [
              1,
              "#f0f921"
             ]
            ],
            "type": "heatmap"
           }
          ],
          "histogram": [
           {
            "marker": {
             "pattern": {
              "fillmode": "overlay",
              "size": 10,
              "solidity": 0.2
             }
            },
            "type": "histogram"
           }
          ],
          "histogram2d": [
           {
            "colorbar": {
             "outlinewidth": 0,
             "ticks": ""
            },
            "colorscale": [
             [
              0,
              "#0d0887"
             ],
             [
              0.1111111111111111,
              "#46039f"
             ],
             [
              0.2222222222222222,
              "#7201a8"
             ],
             [
              0.3333333333333333,
              "#9c179e"
             ],
             [
              0.4444444444444444,
              "#bd3786"
             ],
             [
              0.5555555555555556,
              "#d8576b"
             ],
             [
              0.6666666666666666,
              "#ed7953"
             ],
             [
              0.7777777777777778,
              "#fb9f3a"
             ],
             [
              0.8888888888888888,
              "#fdca26"
             ],
             [
              1,
              "#f0f921"
             ]
            ],
            "type": "histogram2d"
           }
          ],
          "histogram2dcontour": [
           {
            "colorbar": {
             "outlinewidth": 0,
             "ticks": ""
            },
            "colorscale": [
             [
              0,
              "#0d0887"
             ],
             [
              0.1111111111111111,
              "#46039f"
             ],
             [
              0.2222222222222222,
              "#7201a8"
             ],
             [
              0.3333333333333333,
              "#9c179e"
             ],
             [
              0.4444444444444444,
              "#bd3786"
             ],
             [
              0.5555555555555556,
              "#d8576b"
             ],
             [
              0.6666666666666666,
              "#ed7953"
             ],
             [
              0.7777777777777778,
              "#fb9f3a"
             ],
             [
              0.8888888888888888,
              "#fdca26"
             ],
             [
              1,
              "#f0f921"
             ]
            ],
            "type": "histogram2dcontour"
           }
          ],
          "mesh3d": [
           {
            "colorbar": {
             "outlinewidth": 0,
             "ticks": ""
            },
            "type": "mesh3d"
           }
          ],
          "parcoords": [
           {
            "line": {
             "colorbar": {
              "outlinewidth": 0,
              "ticks": ""
             }
            },
            "type": "parcoords"
           }
          ],
          "pie": [
           {
            "automargin": true,
            "type": "pie"
           }
          ],
          "scatter": [
           {
            "fillpattern": {
             "fillmode": "overlay",
             "size": 10,
             "solidity": 0.2
            },
            "type": "scatter"
           }
          ],
          "scatter3d": [
           {
            "line": {
             "colorbar": {
              "outlinewidth": 0,
              "ticks": ""
             }
            },
            "marker": {
             "colorbar": {
              "outlinewidth": 0,
              "ticks": ""
             }
            },
            "type": "scatter3d"
           }
          ],
          "scattercarpet": [
           {
            "marker": {
             "colorbar": {
              "outlinewidth": 0,
              "ticks": ""
             }
            },
            "type": "scattercarpet"
           }
          ],
          "scattergeo": [
           {
            "marker": {
             "colorbar": {
              "outlinewidth": 0,
              "ticks": ""
             }
            },
            "type": "scattergeo"
           }
          ],
          "scattergl": [
           {
            "marker": {
             "colorbar": {
              "outlinewidth": 0,
              "ticks": ""
             }
            },
            "type": "scattergl"
           }
          ],
          "scattermap": [
           {
            "marker": {
             "colorbar": {
              "outlinewidth": 0,
              "ticks": ""
             }
            },
            "type": "scattermap"
           }
          ],
          "scattermapbox": [
           {
            "marker": {
             "colorbar": {
              "outlinewidth": 0,
              "ticks": ""
             }
            },
            "type": "scattermapbox"
           }
          ],
          "scatterpolar": [
           {
            "marker": {
             "colorbar": {
              "outlinewidth": 0,
              "ticks": ""
             }
            },
            "type": "scatterpolar"
           }
          ],
          "scatterpolargl": [
           {
            "marker": {
             "colorbar": {
              "outlinewidth": 0,
              "ticks": ""
             }
            },
            "type": "scatterpolargl"
           }
          ],
          "scatterternary": [
           {
            "marker": {
             "colorbar": {
              "outlinewidth": 0,
              "ticks": ""
             }
            },
            "type": "scatterternary"
           }
          ],
          "surface": [
           {
            "colorbar": {
             "outlinewidth": 0,
             "ticks": ""
            },
            "colorscale": [
             [
              0,
              "#0d0887"
             ],
             [
              0.1111111111111111,
              "#46039f"
             ],
             [
              0.2222222222222222,
              "#7201a8"
             ],
             [
              0.3333333333333333,
              "#9c179e"
             ],
             [
              0.4444444444444444,
              "#bd3786"
             ],
             [
              0.5555555555555556,
              "#d8576b"
             ],
             [
              0.6666666666666666,
              "#ed7953"
             ],
             [
              0.7777777777777778,
              "#fb9f3a"
             ],
             [
              0.8888888888888888,
              "#fdca26"
             ],
             [
              1,
              "#f0f921"
             ]
            ],
            "type": "surface"
           }
          ],
          "table": [
           {
            "cells": {
             "fill": {
              "color": "#EBF0F8"
             },
             "line": {
              "color": "white"
             }
            },
            "header": {
             "fill": {
              "color": "#C8D4E3"
             },
             "line": {
              "color": "white"
             }
            },
            "type": "table"
           }
          ]
         },
         "layout": {
          "annotationdefaults": {
           "arrowcolor": "#2a3f5f",
           "arrowhead": 0,
           "arrowwidth": 1
          },
          "autotypenumbers": "strict",
          "coloraxis": {
           "colorbar": {
            "outlinewidth": 0,
            "ticks": ""
           }
          },
          "colorscale": {
           "diverging": [
            [
             0,
             "#8e0152"
            ],
            [
             0.1,
             "#c51b7d"
            ],
            [
             0.2,
             "#de77ae"
            ],
            [
             0.3,
             "#f1b6da"
            ],
            [
             0.4,
             "#fde0ef"
            ],
            [
             0.5,
             "#f7f7f7"
            ],
            [
             0.6,
             "#e6f5d0"
            ],
            [
             0.7,
             "#b8e186"
            ],
            [
             0.8,
             "#7fbc41"
            ],
            [
             0.9,
             "#4d9221"
            ],
            [
             1,
             "#276419"
            ]
           ],
           "sequential": [
            [
             0,
             "#0d0887"
            ],
            [
             0.1111111111111111,
             "#46039f"
            ],
            [
             0.2222222222222222,
             "#7201a8"
            ],
            [
             0.3333333333333333,
             "#9c179e"
            ],
            [
             0.4444444444444444,
             "#bd3786"
            ],
            [
             0.5555555555555556,
             "#d8576b"
            ],
            [
             0.6666666666666666,
             "#ed7953"
            ],
            [
             0.7777777777777778,
             "#fb9f3a"
            ],
            [
             0.8888888888888888,
             "#fdca26"
            ],
            [
             1,
             "#f0f921"
            ]
           ],
           "sequentialminus": [
            [
             0,
             "#0d0887"
            ],
            [
             0.1111111111111111,
             "#46039f"
            ],
            [
             0.2222222222222222,
             "#7201a8"
            ],
            [
             0.3333333333333333,
             "#9c179e"
            ],
            [
             0.4444444444444444,
             "#bd3786"
            ],
            [
             0.5555555555555556,
             "#d8576b"
            ],
            [
             0.6666666666666666,
             "#ed7953"
            ],
            [
             0.7777777777777778,
             "#fb9f3a"
            ],
            [
             0.8888888888888888,
             "#fdca26"
            ],
            [
             1,
             "#f0f921"
            ]
           ]
          },
          "colorway": [
           "#636efa",
           "#EF553B",
           "#00cc96",
           "#ab63fa",
           "#FFA15A",
           "#19d3f3",
           "#FF6692",
           "#B6E880",
           "#FF97FF",
           "#FECB52"
          ],
          "font": {
           "color": "#2a3f5f"
          },
          "geo": {
           "bgcolor": "white",
           "lakecolor": "white",
           "landcolor": "#E5ECF6",
           "showlakes": true,
           "showland": true,
           "subunitcolor": "white"
          },
          "hoverlabel": {
           "align": "left"
          },
          "hovermode": "closest",
          "mapbox": {
           "style": "light"
          },
          "paper_bgcolor": "white",
          "plot_bgcolor": "#E5ECF6",
          "polar": {
           "angularaxis": {
            "gridcolor": "white",
            "linecolor": "white",
            "ticks": ""
           },
           "bgcolor": "#E5ECF6",
           "radialaxis": {
            "gridcolor": "white",
            "linecolor": "white",
            "ticks": ""
           }
          },
          "scene": {
           "xaxis": {
            "backgroundcolor": "#E5ECF6",
            "gridcolor": "white",
            "gridwidth": 2,
            "linecolor": "white",
            "showbackground": true,
            "ticks": "",
            "zerolinecolor": "white"
           },
           "yaxis": {
            "backgroundcolor": "#E5ECF6",
            "gridcolor": "white",
            "gridwidth": 2,
            "linecolor": "white",
            "showbackground": true,
            "ticks": "",
            "zerolinecolor": "white"
           },
           "zaxis": {
            "backgroundcolor": "#E5ECF6",
            "gridcolor": "white",
            "gridwidth": 2,
            "linecolor": "white",
            "showbackground": true,
            "ticks": "",
            "zerolinecolor": "white"
           }
          },
          "shapedefaults": {
           "line": {
            "color": "#2a3f5f"
           }
          },
          "ternary": {
           "aaxis": {
            "gridcolor": "white",
            "linecolor": "white",
            "ticks": ""
           },
           "baxis": {
            "gridcolor": "white",
            "linecolor": "white",
            "ticks": ""
           },
           "bgcolor": "#E5ECF6",
           "caxis": {
            "gridcolor": "white",
            "linecolor": "white",
            "ticks": ""
           }
          },
          "title": {
           "x": 0.05
          },
          "xaxis": {
           "automargin": true,
           "gridcolor": "white",
           "linecolor": "white",
           "ticks": "",
           "title": {
            "standoff": 15
           },
           "zerolinecolor": "white",
           "zerolinewidth": 2
          },
          "yaxis": {
           "automargin": true,
           "gridcolor": "white",
           "linecolor": "white",
           "ticks": "",
           "title": {
            "standoff": 15
           },
           "zerolinecolor": "white",
           "zerolinewidth": 2
          }
         }
        },
        "xaxis": {
         "anchor": "y",
         "domain": [
          0,
          0.98
         ],
         "title": {
          "text": "Date"
         }
        },
        "xaxis2": {
         "anchor": "y2",
         "domain": [
          0,
          0.98
         ],
         "matches": "x",
         "showticklabels": false
        },
        "xaxis3": {
         "anchor": "y3",
         "domain": [
          0,
          0.98
         ],
         "matches": "x",
         "showticklabels": false
        },
        "yaxis": {
         "anchor": "x",
         "domain": [
          0,
          0.3133333333333333
         ],
         "title": {
          "text": "value"
         }
        },
        "yaxis2": {
         "anchor": "x2",
         "domain": [
          0.34333333333333327,
          0.6566666666666665
         ],
         "title": {
          "text": "value"
         }
        },
        "yaxis3": {
         "anchor": "x3",
         "domain": [
          0.6866666666666665,
          0.9999999999999998
         ],
         "title": {
          "text": "value"
         }
        }
       }
      }
     },
     "metadata": {},
     "output_type": "display_data"
    }
   ],
   "source": [
    "df_HPE_long = df_HPE.melt(ignore_index=False, var_name='metric', value_name='value')\n",
    "fig = px.line(df_HPE_long, y='value', facet_row='metric', color='metric')\n",
    "fig.update_yaxes(matches=None)\n",
    "fig.show()\n"
   ]
  },
  {
   "cell_type": "code",
   "execution_count": 18,
   "metadata": {},
   "outputs": [
    {
     "data": {
      "application/vnd.plotly.v1+json": {
       "config": {
        "plotlyServerURL": "https://plot.ly"
       },
       "data": [
        {
         "hovertemplate": "OVERSOLD_GROUP=1<br>Date=%{x}<br>Adj Close=%{y}<extra></extra>",
         "legendgroup": "1",
         "line": {
          "color": "#636efa",
          "dash": "solid"
         },
         "marker": {
          "symbol": "circle"
         },
         "mode": "lines",
         "name": "1",
         "orientation": "v",
         "showlegend": true,
         "type": "scatter",
         "x": [
          "2024-08-05T00:00:00",
          "2024-08-06T00:00:00",
          "2024-08-07T00:00:00",
          "2024-08-08T00:00:00",
          "2024-08-09T00:00:00",
          "2024-08-12T00:00:00",
          "2024-08-13T00:00:00",
          "2024-08-14T00:00:00",
          "2024-08-15T00:00:00",
          "2024-08-16T00:00:00"
         ],
         "xaxis": "x",
         "y": {
          "bdata": "AAAAgJoeMUAAAAAAWAUxQAAAAEB3fzBAAAAA4H8UMUAAAADgExwxQAAAAAAw9jBAAAAAAEaQMUAAAADAOIsxQAAAAODEgjJAAAAAAAlsMkA=",
          "dtype": "f8"
         },
         "yaxis": "y"
        },
        {
         "hovertemplate": "OVERSOLD_GROUP=2<br>Date=%{x}<br>Adj Close=%{y}<extra></extra>",
         "legendgroup": "2",
         "line": {
          "color": "#EF553B",
          "dash": "solid"
         },
         "marker": {
          "symbol": "circle"
         },
         "mode": "lines",
         "name": "2",
         "orientation": "v",
         "showlegend": true,
         "type": "scatter",
         "x": [
          "2024-09-10T00:00:00",
          "2024-09-11T00:00:00",
          "2024-09-12T00:00:00",
          "2024-09-13T00:00:00",
          "2024-09-16T00:00:00",
          "2024-09-17T00:00:00",
          "2024-09-18T00:00:00",
          "2024-09-19T00:00:00",
          "2024-09-20T00:00:00",
          "2024-09-23T00:00:00"
         ],
         "xaxis": "x",
         "y": {
          "bdata": "AAAAQLXFL0AAAABAoi4wQAAAAIDUojBAAAAAYBXsMEAAAACgSgAxQAAAAEBQ9TFAAAAAwJIOMkAAAADgkbsyQAAAAMBksTJAAAAAYHu2MkA=",
          "dtype": "f8"
         },
         "yaxis": "y"
        }
       ],
       "layout": {
        "height": 600,
        "legend": {
         "title": {
          "text": "OVERSOLD_GROUP"
         },
         "tracegroupgap": 0
        },
        "template": {
         "data": {
          "bar": [
           {
            "error_x": {
             "color": "#f2f5fa"
            },
            "error_y": {
             "color": "#f2f5fa"
            },
            "marker": {
             "line": {
              "color": "rgb(17,17,17)",
              "width": 0.5
             },
             "pattern": {
              "fillmode": "overlay",
              "size": 10,
              "solidity": 0.2
             }
            },
            "type": "bar"
           }
          ],
          "barpolar": [
           {
            "marker": {
             "line": {
              "color": "rgb(17,17,17)",
              "width": 0.5
             },
             "pattern": {
              "fillmode": "overlay",
              "size": 10,
              "solidity": 0.2
             }
            },
            "type": "barpolar"
           }
          ],
          "carpet": [
           {
            "aaxis": {
             "endlinecolor": "#A2B1C6",
             "gridcolor": "#506784",
             "linecolor": "#506784",
             "minorgridcolor": "#506784",
             "startlinecolor": "#A2B1C6"
            },
            "baxis": {
             "endlinecolor": "#A2B1C6",
             "gridcolor": "#506784",
             "linecolor": "#506784",
             "minorgridcolor": "#506784",
             "startlinecolor": "#A2B1C6"
            },
            "type": "carpet"
           }
          ],
          "choropleth": [
           {
            "colorbar": {
             "outlinewidth": 0,
             "ticks": ""
            },
            "type": "choropleth"
           }
          ],
          "contour": [
           {
            "colorbar": {
             "outlinewidth": 0,
             "ticks": ""
            },
            "colorscale": [
             [
              0,
              "#0d0887"
             ],
             [
              0.1111111111111111,
              "#46039f"
             ],
             [
              0.2222222222222222,
              "#7201a8"
             ],
             [
              0.3333333333333333,
              "#9c179e"
             ],
             [
              0.4444444444444444,
              "#bd3786"
             ],
             [
              0.5555555555555556,
              "#d8576b"
             ],
             [
              0.6666666666666666,
              "#ed7953"
             ],
             [
              0.7777777777777778,
              "#fb9f3a"
             ],
             [
              0.8888888888888888,
              "#fdca26"
             ],
             [
              1,
              "#f0f921"
             ]
            ],
            "type": "contour"
           }
          ],
          "contourcarpet": [
           {
            "colorbar": {
             "outlinewidth": 0,
             "ticks": ""
            },
            "type": "contourcarpet"
           }
          ],
          "heatmap": [
           {
            "colorbar": {
             "outlinewidth": 0,
             "ticks": ""
            },
            "colorscale": [
             [
              0,
              "#0d0887"
             ],
             [
              0.1111111111111111,
              "#46039f"
             ],
             [
              0.2222222222222222,
              "#7201a8"
             ],
             [
              0.3333333333333333,
              "#9c179e"
             ],
             [
              0.4444444444444444,
              "#bd3786"
             ],
             [
              0.5555555555555556,
              "#d8576b"
             ],
             [
              0.6666666666666666,
              "#ed7953"
             ],
             [
              0.7777777777777778,
              "#fb9f3a"
             ],
             [
              0.8888888888888888,
              "#fdca26"
             ],
             [
              1,
              "#f0f921"
             ]
            ],
            "type": "heatmap"
           }
          ],
          "histogram": [
           {
            "marker": {
             "pattern": {
              "fillmode": "overlay",
              "size": 10,
              "solidity": 0.2
             }
            },
            "type": "histogram"
           }
          ],
          "histogram2d": [
           {
            "colorbar": {
             "outlinewidth": 0,
             "ticks": ""
            },
            "colorscale": [
             [
              0,
              "#0d0887"
             ],
             [
              0.1111111111111111,
              "#46039f"
             ],
             [
              0.2222222222222222,
              "#7201a8"
             ],
             [
              0.3333333333333333,
              "#9c179e"
             ],
             [
              0.4444444444444444,
              "#bd3786"
             ],
             [
              0.5555555555555556,
              "#d8576b"
             ],
             [
              0.6666666666666666,
              "#ed7953"
             ],
             [
              0.7777777777777778,
              "#fb9f3a"
             ],
             [
              0.8888888888888888,
              "#fdca26"
             ],
             [
              1,
              "#f0f921"
             ]
            ],
            "type": "histogram2d"
           }
          ],
          "histogram2dcontour": [
           {
            "colorbar": {
             "outlinewidth": 0,
             "ticks": ""
            },
            "colorscale": [
             [
              0,
              "#0d0887"
             ],
             [
              0.1111111111111111,
              "#46039f"
             ],
             [
              0.2222222222222222,
              "#7201a8"
             ],
             [
              0.3333333333333333,
              "#9c179e"
             ],
             [
              0.4444444444444444,
              "#bd3786"
             ],
             [
              0.5555555555555556,
              "#d8576b"
             ],
             [
              0.6666666666666666,
              "#ed7953"
             ],
             [
              0.7777777777777778,
              "#fb9f3a"
             ],
             [
              0.8888888888888888,
              "#fdca26"
             ],
             [
              1,
              "#f0f921"
             ]
            ],
            "type": "histogram2dcontour"
           }
          ],
          "mesh3d": [
           {
            "colorbar": {
             "outlinewidth": 0,
             "ticks": ""
            },
            "type": "mesh3d"
           }
          ],
          "parcoords": [
           {
            "line": {
             "colorbar": {
              "outlinewidth": 0,
              "ticks": ""
             }
            },
            "type": "parcoords"
           }
          ],
          "pie": [
           {
            "automargin": true,
            "type": "pie"
           }
          ],
          "scatter": [
           {
            "marker": {
             "line": {
              "color": "#283442"
             }
            },
            "type": "scatter"
           }
          ],
          "scatter3d": [
           {
            "line": {
             "colorbar": {
              "outlinewidth": 0,
              "ticks": ""
             }
            },
            "marker": {
             "colorbar": {
              "outlinewidth": 0,
              "ticks": ""
             }
            },
            "type": "scatter3d"
           }
          ],
          "scattercarpet": [
           {
            "marker": {
             "colorbar": {
              "outlinewidth": 0,
              "ticks": ""
             }
            },
            "type": "scattercarpet"
           }
          ],
          "scattergeo": [
           {
            "marker": {
             "colorbar": {
              "outlinewidth": 0,
              "ticks": ""
             }
            },
            "type": "scattergeo"
           }
          ],
          "scattergl": [
           {
            "marker": {
             "line": {
              "color": "#283442"
             }
            },
            "type": "scattergl"
           }
          ],
          "scattermap": [
           {
            "marker": {
             "colorbar": {
              "outlinewidth": 0,
              "ticks": ""
             }
            },
            "type": "scattermap"
           }
          ],
          "scattermapbox": [
           {
            "marker": {
             "colorbar": {
              "outlinewidth": 0,
              "ticks": ""
             }
            },
            "type": "scattermapbox"
           }
          ],
          "scatterpolar": [
           {
            "marker": {
             "colorbar": {
              "outlinewidth": 0,
              "ticks": ""
             }
            },
            "type": "scatterpolar"
           }
          ],
          "scatterpolargl": [
           {
            "marker": {
             "colorbar": {
              "outlinewidth": 0,
              "ticks": ""
             }
            },
            "type": "scatterpolargl"
           }
          ],
          "scatterternary": [
           {
            "marker": {
             "colorbar": {
              "outlinewidth": 0,
              "ticks": ""
             }
            },
            "type": "scatterternary"
           }
          ],
          "surface": [
           {
            "colorbar": {
             "outlinewidth": 0,
             "ticks": ""
            },
            "colorscale": [
             [
              0,
              "#0d0887"
             ],
             [
              0.1111111111111111,
              "#46039f"
             ],
             [
              0.2222222222222222,
              "#7201a8"
             ],
             [
              0.3333333333333333,
              "#9c179e"
             ],
             [
              0.4444444444444444,
              "#bd3786"
             ],
             [
              0.5555555555555556,
              "#d8576b"
             ],
             [
              0.6666666666666666,
              "#ed7953"
             ],
             [
              0.7777777777777778,
              "#fb9f3a"
             ],
             [
              0.8888888888888888,
              "#fdca26"
             ],
             [
              1,
              "#f0f921"
             ]
            ],
            "type": "surface"
           }
          ],
          "table": [
           {
            "cells": {
             "fill": {
              "color": "#506784"
             },
             "line": {
              "color": "rgb(17,17,17)"
             }
            },
            "header": {
             "fill": {
              "color": "#2a3f5f"
             },
             "line": {
              "color": "rgb(17,17,17)"
             }
            },
            "type": "table"
           }
          ]
         },
         "layout": {
          "annotationdefaults": {
           "arrowcolor": "#f2f5fa",
           "arrowhead": 0,
           "arrowwidth": 1
          },
          "autotypenumbers": "strict",
          "coloraxis": {
           "colorbar": {
            "outlinewidth": 0,
            "ticks": ""
           }
          },
          "colorscale": {
           "diverging": [
            [
             0,
             "#8e0152"
            ],
            [
             0.1,
             "#c51b7d"
            ],
            [
             0.2,
             "#de77ae"
            ],
            [
             0.3,
             "#f1b6da"
            ],
            [
             0.4,
             "#fde0ef"
            ],
            [
             0.5,
             "#f7f7f7"
            ],
            [
             0.6,
             "#e6f5d0"
            ],
            [
             0.7,
             "#b8e186"
            ],
            [
             0.8,
             "#7fbc41"
            ],
            [
             0.9,
             "#4d9221"
            ],
            [
             1,
             "#276419"
            ]
           ],
           "sequential": [
            [
             0,
             "#0d0887"
            ],
            [
             0.1111111111111111,
             "#46039f"
            ],
            [
             0.2222222222222222,
             "#7201a8"
            ],
            [
             0.3333333333333333,
             "#9c179e"
            ],
            [
             0.4444444444444444,
             "#bd3786"
            ],
            [
             0.5555555555555556,
             "#d8576b"
            ],
            [
             0.6666666666666666,
             "#ed7953"
            ],
            [
             0.7777777777777778,
             "#fb9f3a"
            ],
            [
             0.8888888888888888,
             "#fdca26"
            ],
            [
             1,
             "#f0f921"
            ]
           ],
           "sequentialminus": [
            [
             0,
             "#0d0887"
            ],
            [
             0.1111111111111111,
             "#46039f"
            ],
            [
             0.2222222222222222,
             "#7201a8"
            ],
            [
             0.3333333333333333,
             "#9c179e"
            ],
            [
             0.4444444444444444,
             "#bd3786"
            ],
            [
             0.5555555555555556,
             "#d8576b"
            ],
            [
             0.6666666666666666,
             "#ed7953"
            ],
            [
             0.7777777777777778,
             "#fb9f3a"
            ],
            [
             0.8888888888888888,
             "#fdca26"
            ],
            [
             1,
             "#f0f921"
            ]
           ]
          },
          "colorway": [
           "#636efa",
           "#EF553B",
           "#00cc96",
           "#ab63fa",
           "#FFA15A",
           "#19d3f3",
           "#FF6692",
           "#B6E880",
           "#FF97FF",
           "#FECB52"
          ],
          "font": {
           "color": "#f2f5fa"
          },
          "geo": {
           "bgcolor": "rgb(17,17,17)",
           "lakecolor": "rgb(17,17,17)",
           "landcolor": "rgb(17,17,17)",
           "showlakes": true,
           "showland": true,
           "subunitcolor": "#506784"
          },
          "hoverlabel": {
           "align": "left"
          },
          "hovermode": "closest",
          "mapbox": {
           "style": "dark"
          },
          "paper_bgcolor": "rgb(17,17,17)",
          "plot_bgcolor": "rgb(17,17,17)",
          "polar": {
           "angularaxis": {
            "gridcolor": "#506784",
            "linecolor": "#506784",
            "ticks": ""
           },
           "bgcolor": "rgb(17,17,17)",
           "radialaxis": {
            "gridcolor": "#506784",
            "linecolor": "#506784",
            "ticks": ""
           }
          },
          "scene": {
           "xaxis": {
            "backgroundcolor": "rgb(17,17,17)",
            "gridcolor": "#506784",
            "gridwidth": 2,
            "linecolor": "#506784",
            "showbackground": true,
            "ticks": "",
            "zerolinecolor": "#C8D4E3"
           },
           "yaxis": {
            "backgroundcolor": "rgb(17,17,17)",
            "gridcolor": "#506784",
            "gridwidth": 2,
            "linecolor": "#506784",
            "showbackground": true,
            "ticks": "",
            "zerolinecolor": "#C8D4E3"
           },
           "zaxis": {
            "backgroundcolor": "rgb(17,17,17)",
            "gridcolor": "#506784",
            "gridwidth": 2,
            "linecolor": "#506784",
            "showbackground": true,
            "ticks": "",
            "zerolinecolor": "#C8D4E3"
           }
          },
          "shapedefaults": {
           "line": {
            "color": "#f2f5fa"
           }
          },
          "sliderdefaults": {
           "bgcolor": "#C8D4E3",
           "bordercolor": "rgb(17,17,17)",
           "borderwidth": 1,
           "tickwidth": 0
          },
          "ternary": {
           "aaxis": {
            "gridcolor": "#506784",
            "linecolor": "#506784",
            "ticks": ""
           },
           "baxis": {
            "gridcolor": "#506784",
            "linecolor": "#506784",
            "ticks": ""
           },
           "bgcolor": "rgb(17,17,17)",
           "caxis": {
            "gridcolor": "#506784",
            "linecolor": "#506784",
            "ticks": ""
           }
          },
          "title": {
           "x": 0.05
          },
          "updatemenudefaults": {
           "bgcolor": "#506784",
           "borderwidth": 0
          },
          "xaxis": {
           "automargin": true,
           "gridcolor": "#283442",
           "linecolor": "#506784",
           "ticks": "",
           "title": {
            "standoff": 15
           },
           "zerolinecolor": "#283442",
           "zerolinewidth": 2
          },
          "yaxis": {
           "automargin": true,
           "gridcolor": "#283442",
           "linecolor": "#506784",
           "ticks": "",
           "title": {
            "standoff": 15
           },
           "zerolinecolor": "#283442",
           "zerolinewidth": 2
          }
         }
        },
        "title": {
         "text": "Top 2 Oversold Events"
        },
        "xaxis": {
         "anchor": "y",
         "domain": [
          0,
          1
         ],
         "title": {
          "text": "Date"
         }
        },
        "yaxis": {
         "anchor": "x",
         "domain": [
          0,
          1
         ],
         "title": {
          "text": "Adj Close"
         }
        }
       }
      }
     },
     "metadata": {},
     "output_type": "display_data"
    }
   ],
   "source": [
    "# Create a cumulative sum to group oversold events\n",
    "df_HPE['OVERSOLD_GROUP'] = df_HPE['RSI_BECAME_OVERSOLD'].cumsum()\n",
    "\n",
    "# Filter the DataFrame for oversold events\n",
    "df_HPE_OVERSOLD = df_HPE[df_HPE['OVERSOLD_GROUP'] > 0]\n",
    "\n",
    "# Get the top 3 oversold groups\n",
    "top_2_oversold_groups = df_HPE_OVERSOLD['OVERSOLD_GROUP'].value_counts().nlargest(2).index\n",
    "\n",
    "# Filter only top 3 oversold groups\n",
    "df_top_2_oversold = df_HPE_OVERSOLD[df_HPE_OVERSOLD['OVERSOLD_GROUP'].isin(top_2_oversold_groups)]\n",
    "\n",
    "# Group by oversold group and take the first 10 entries from each group\n",
    "df_top_2_oversold_10 = df_top_2_oversold.groupby('OVERSOLD_GROUP').head(10)\n",
    "\n",
    "# Create the figure using Plotly Express\n",
    "fig = px.line(df_top_2_oversold_10, \n",
    "              y='Adj Close', \n",
    "              color='OVERSOLD_GROUP',  # Color by oversold group\n",
    "              title=\"Top 2 Oversold Events\",\n",
    "              height=600,\n",
    "              template=\"plotly_dark\")  # Use a dark theme\n",
    "\n",
    "# Show the plot\n",
    "fig.show()"
   ]
  },
  {
   "cell_type": "markdown",
   "metadata": {},
   "source": [
    "# 📊 Get Latest RSI for All S&P 500 Stocks and Keep Sector Info 🏢\n",
    "\n",
    "Stay updated with the **Relative Strength Index (RSI)** for all **S&P 500 stocks** 📈 and keep track of their **sector information** 🏙️.\n"
   ]
  },
  {
   "cell_type": "code",
   "execution_count": 19,
   "metadata": {},
   "outputs": [
    {
     "data": {
      "text/html": [
       "<div>\n",
       "<style scoped>\n",
       "    .dataframe tbody tr th:only-of-type {\n",
       "        vertical-align: middle;\n",
       "    }\n",
       "\n",
       "    .dataframe tbody tr th {\n",
       "        vertical-align: top;\n",
       "    }\n",
       "\n",
       "    .dataframe thead th {\n",
       "        text-align: right;\n",
       "    }\n",
       "</style>\n",
       "<table border=\"1\" class=\"dataframe\">\n",
       "  <thead>\n",
       "    <tr style=\"text-align: right;\">\n",
       "      <th></th>\n",
       "      <th>Symbol</th>\n",
       "      <th>GICS Sector</th>\n",
       "      <th>Latest RSI</th>\n",
       "    </tr>\n",
       "  </thead>\n",
       "  <tbody>\n",
       "    <tr>\n",
       "      <th>0</th>\n",
       "      <td>HPE</td>\n",
       "      <td>Information Technology</td>\n",
       "      <td>14.919546</td>\n",
       "    </tr>\n",
       "    <tr>\n",
       "      <th>1</th>\n",
       "      <td>DECK</td>\n",
       "      <td>Consumer Discretionary</td>\n",
       "      <td>22.028820</td>\n",
       "    </tr>\n",
       "    <tr>\n",
       "      <th>2</th>\n",
       "      <td>CZR</td>\n",
       "      <td>Consumer Discretionary</td>\n",
       "      <td>22.283987</td>\n",
       "    </tr>\n",
       "    <tr>\n",
       "      <th>3</th>\n",
       "      <td>VMC</td>\n",
       "      <td>Materials</td>\n",
       "      <td>22.837085</td>\n",
       "    </tr>\n",
       "    <tr>\n",
       "      <th>4</th>\n",
       "      <td>DAY</td>\n",
       "      <td>Industrials</td>\n",
       "      <td>23.003162</td>\n",
       "    </tr>\n",
       "    <tr>\n",
       "      <th>...</th>\n",
       "      <td>...</td>\n",
       "      <td>...</td>\n",
       "      <td>...</td>\n",
       "    </tr>\n",
       "    <tr>\n",
       "      <th>498</th>\n",
       "      <td>JKHY</td>\n",
       "      <td>Financials</td>\n",
       "      <td>78.343400</td>\n",
       "    </tr>\n",
       "    <tr>\n",
       "      <th>499</th>\n",
       "      <td>GILD</td>\n",
       "      <td>Health Care</td>\n",
       "      <td>78.477748</td>\n",
       "    </tr>\n",
       "    <tr>\n",
       "      <th>500</th>\n",
       "      <td>YUM</td>\n",
       "      <td>Consumer Discretionary</td>\n",
       "      <td>80.344443</td>\n",
       "    </tr>\n",
       "    <tr>\n",
       "      <th>501</th>\n",
       "      <td>BF.B</td>\n",
       "      <td>Consumer Staples</td>\n",
       "      <td>100.000000</td>\n",
       "    </tr>\n",
       "    <tr>\n",
       "      <th>502</th>\n",
       "      <td>BRK.B</td>\n",
       "      <td>Financials</td>\n",
       "      <td>100.000000</td>\n",
       "    </tr>\n",
       "  </tbody>\n",
       "</table>\n",
       "<p>503 rows × 3 columns</p>\n",
       "</div>"
      ],
      "text/plain": [
       "    Symbol             GICS Sector  Latest RSI\n",
       "0      HPE  Information Technology   14.919546\n",
       "1     DECK  Consumer Discretionary   22.028820\n",
       "2      CZR  Consumer Discretionary   22.283987\n",
       "3      VMC               Materials   22.837085\n",
       "4      DAY             Industrials   23.003162\n",
       "..     ...                     ...         ...\n",
       "498   JKHY              Financials   78.343400\n",
       "499   GILD             Health Care   78.477748\n",
       "500    YUM  Consumer Discretionary   80.344443\n",
       "501   BF.B        Consumer Staples  100.000000\n",
       "502  BRK.B              Financials  100.000000\n",
       "\n",
       "[503 rows x 3 columns]"
      ]
     },
     "execution_count": 19,
     "metadata": {},
     "output_type": "execute_result"
    }
   ],
   "source": [
    "df_rsi = df_long.groupby(['Symbol', 'GICS Sector'])['Adj Close'].apply(lambda x: ta.momentum.RSIIndicator(x, window=14).rsi().iloc[-1])\n",
    "df_rsi = df_rsi.to_frame('Latest RSI').reset_index()\n",
    "\n",
    "# Sort by RSI values in ascending order and drop NaNs\n",
    "df_rsi = df_rsi.sort_values(by='Latest RSI', ascending=True).dropna().reset_index(drop=True)\n",
    "\n",
    "df_rsi\n"
   ]
  },
  {
   "cell_type": "markdown",
   "metadata": {},
   "source": [
    "## 🧐 Inspecting the RSI Data  \n",
    "\n",
    "After reviewing the RSI values, we noticed that the tickers **BF.B** & **BRK.B** have an **RSI of 100 for NA values**. This could lead to misleading insights.  \n",
    "\n",
    "🔍 **Key takeaway:** Always clean your data before analysis! If not, you risk the classic **\"garbage in, garbage out\"** scenario.  \n",
    "\n",
    "### 🛠️ Fixing the Issue  \n",
    "To ensure accurate results, we'll remove these anomalies before proceeding. Let's keep our data **clean and reliable!** 🚀  \n"
   ]
  },
  {
   "cell_type": "code",
   "execution_count": 20,
   "metadata": {},
   "outputs": [
    {
     "data": {
      "text/html": [
       "<div>\n",
       "<style scoped>\n",
       "    .dataframe tbody tr th:only-of-type {\n",
       "        vertical-align: middle;\n",
       "    }\n",
       "\n",
       "    .dataframe tbody tr th {\n",
       "        vertical-align: top;\n",
       "    }\n",
       "\n",
       "    .dataframe thead th {\n",
       "        text-align: right;\n",
       "    }\n",
       "</style>\n",
       "<table border=\"1\" class=\"dataframe\">\n",
       "  <thead>\n",
       "    <tr style=\"text-align: right;\">\n",
       "      <th></th>\n",
       "      <th>Symbol</th>\n",
       "      <th>GICS Sector</th>\n",
       "      <th>Latest RSI</th>\n",
       "    </tr>\n",
       "  </thead>\n",
       "  <tbody>\n",
       "    <tr>\n",
       "      <th>0</th>\n",
       "      <td>HPE</td>\n",
       "      <td>Information Technology</td>\n",
       "      <td>14.919546</td>\n",
       "    </tr>\n",
       "    <tr>\n",
       "      <th>1</th>\n",
       "      <td>DECK</td>\n",
       "      <td>Consumer Discretionary</td>\n",
       "      <td>22.028820</td>\n",
       "    </tr>\n",
       "    <tr>\n",
       "      <th>2</th>\n",
       "      <td>CZR</td>\n",
       "      <td>Consumer Discretionary</td>\n",
       "      <td>22.283987</td>\n",
       "    </tr>\n",
       "    <tr>\n",
       "      <th>3</th>\n",
       "      <td>VMC</td>\n",
       "      <td>Materials</td>\n",
       "      <td>22.837085</td>\n",
       "    </tr>\n",
       "    <tr>\n",
       "      <th>4</th>\n",
       "      <td>DAY</td>\n",
       "      <td>Industrials</td>\n",
       "      <td>23.003162</td>\n",
       "    </tr>\n",
       "    <tr>\n",
       "      <th>...</th>\n",
       "      <td>...</td>\n",
       "      <td>...</td>\n",
       "      <td>...</td>\n",
       "    </tr>\n",
       "    <tr>\n",
       "      <th>496</th>\n",
       "      <td>ABBV</td>\n",
       "      <td>Health Care</td>\n",
       "      <td>76.741734</td>\n",
       "    </tr>\n",
       "    <tr>\n",
       "      <th>497</th>\n",
       "      <td>VZ</td>\n",
       "      <td>Communication Services</td>\n",
       "      <td>76.991988</td>\n",
       "    </tr>\n",
       "    <tr>\n",
       "      <th>498</th>\n",
       "      <td>JKHY</td>\n",
       "      <td>Financials</td>\n",
       "      <td>78.343400</td>\n",
       "    </tr>\n",
       "    <tr>\n",
       "      <th>499</th>\n",
       "      <td>GILD</td>\n",
       "      <td>Health Care</td>\n",
       "      <td>78.477748</td>\n",
       "    </tr>\n",
       "    <tr>\n",
       "      <th>500</th>\n",
       "      <td>YUM</td>\n",
       "      <td>Consumer Discretionary</td>\n",
       "      <td>80.344443</td>\n",
       "    </tr>\n",
       "  </tbody>\n",
       "</table>\n",
       "<p>501 rows × 3 columns</p>\n",
       "</div>"
      ],
      "text/plain": [
       "    Symbol             GICS Sector  Latest RSI\n",
       "0      HPE  Information Technology   14.919546\n",
       "1     DECK  Consumer Discretionary   22.028820\n",
       "2      CZR  Consumer Discretionary   22.283987\n",
       "3      VMC               Materials   22.837085\n",
       "4      DAY             Industrials   23.003162\n",
       "..     ...                     ...         ...\n",
       "496   ABBV             Health Care   76.741734\n",
       "497     VZ  Communication Services   76.991988\n",
       "498   JKHY              Financials   78.343400\n",
       "499   GILD             Health Care   78.477748\n",
       "500    YUM  Consumer Discretionary   80.344443\n",
       "\n",
       "[501 rows x 3 columns]"
      ]
     },
     "execution_count": 20,
     "metadata": {},
     "output_type": "execute_result"
    }
   ],
   "source": [
    "# Remove rows where RSI is 100 and Symbol is BF.B or BRK.B\n",
    "df_rsi_cleaned = df_rsi[~((df_rsi['Latest RSI'] == 100) & (df_rsi['Symbol'].isin(['BF.B', 'BRK.B'])))]\n",
    "\n",
    "# Display cleaned DataFrame\n",
    "df_rsi_cleaned\n"
   ]
  },
  {
   "cell_type": "code",
   "execution_count": 21,
   "metadata": {},
   "outputs": [
    {
     "data": {
      "application/vnd.plotly.v1+json": {
       "config": {
        "plotlyServerURL": "https://plot.ly"
       },
       "data": [
        {
         "hovertemplate": "Stock Symbol=%{y}<br>RSI Value=%{x}<extra></extra>",
         "legendgroup": "YUM",
         "marker": {
          "color": "#636efa",
          "pattern": {
           "shape": ""
          }
         },
         "name": "YUM",
         "orientation": "h",
         "showlegend": true,
         "textfont": {
          "size": 16
         },
         "textposition": "inside",
         "texttemplate": "%{y} %{x:.2f}",
         "type": "bar",
         "x": {
          "bdata": "mGwQXAsWVEA=",
          "dtype": "f8"
         },
         "xaxis": "x",
         "y": [
          "YUM"
         ],
         "yaxis": "y"
        },
        {
         "hovertemplate": "Stock Symbol=%{y}<br>RSI Value=%{x}<extra></extra>",
         "legendgroup": "GILD",
         "marker": {
          "color": "#EF553B",
          "pattern": {
           "shape": ""
          }
         },
         "name": "GILD",
         "orientation": "h",
         "showlegend": true,
         "textfont": {
          "size": 16
         },
         "textposition": "inside",
         "texttemplate": "%{y} %{x:.2f}",
         "type": "bar",
         "x": {
          "bdata": "mNhRa5OeU0A=",
          "dtype": "f8"
         },
         "xaxis": "x",
         "y": [
          "GILD"
         ],
         "yaxis": "y"
        },
        {
         "hovertemplate": "Stock Symbol=%{y}<br>RSI Value=%{x}<extra></extra>",
         "legendgroup": "JKHY",
         "marker": {
          "color": "#00cc96",
          "pattern": {
           "shape": ""
          }
         },
         "name": "JKHY",
         "orientation": "h",
         "showlegend": true,
         "textfont": {
          "size": 16
         },
         "textposition": "inside",
         "texttemplate": "%{y} %{x:.2f}",
         "type": "bar",
         "x": {
          "bdata": "hAjrQvqVU0A=",
          "dtype": "f8"
         },
         "xaxis": "x",
         "y": [
          "JKHY"
         ],
         "yaxis": "y"
        },
        {
         "hovertemplate": "Stock Symbol=%{y}<br>RSI Value=%{x}<extra></extra>",
         "legendgroup": "VZ",
         "marker": {
          "color": "#ab63fa",
          "pattern": {
           "shape": ""
          }
         },
         "name": "VZ",
         "orientation": "h",
         "showlegend": true,
         "textfont": {
          "size": 16
         },
         "textposition": "inside",
         "texttemplate": "%{y} %{x:.2f}",
         "type": "bar",
         "x": {
          "bdata": "eI4Punw/U0A=",
          "dtype": "f8"
         },
         "xaxis": "x",
         "y": [
          "VZ"
         ],
         "yaxis": "y"
        },
        {
         "hovertemplate": "Stock Symbol=%{y}<br>RSI Value=%{x}<extra></extra>",
         "legendgroup": "ABBV",
         "marker": {
          "color": "#FFA15A",
          "pattern": {
           "shape": ""
          }
         },
         "name": "ABBV",
         "orientation": "h",
         "showlegend": true,
         "textfont": {
          "size": 16
         },
         "textposition": "inside",
         "texttemplate": "%{y} %{x:.2f}",
         "type": "bar",
         "x": {
          "bdata": "nLwWkXgvU0A=",
          "dtype": "f8"
         },
         "xaxis": "x",
         "y": [
          "ABBV"
         ],
         "yaxis": "y"
        },
        {
         "hovertemplate": "Stock Symbol=%{y}<br>RSI Value=%{x}<extra></extra>",
         "legendgroup": "AWK",
         "marker": {
          "color": "#19d3f3",
          "pattern": {
           "shape": ""
          }
         },
         "name": "AWK",
         "orientation": "h",
         "showlegend": true,
         "textfont": {
          "size": 16
         },
         "textposition": "inside",
         "texttemplate": "%{y} %{x:.2f}",
         "type": "bar",
         "x": {
          "bdata": "SYhqEXkGU0A=",
          "dtype": "f8"
         },
         "xaxis": "x",
         "y": [
          "AWK"
         ],
         "yaxis": "y"
        },
        {
         "hovertemplate": "Stock Symbol=%{y}<br>RSI Value=%{x}<extra></extra>",
         "legendgroup": "EXPD",
         "marker": {
          "color": "#FF6692",
          "pattern": {
           "shape": ""
          }
         },
         "name": "EXPD",
         "orientation": "h",
         "showlegend": true,
         "textfont": {
          "size": 16
         },
         "textposition": "inside",
         "texttemplate": "%{y} %{x:.2f}",
         "type": "bar",
         "x": {
          "bdata": "FkwySC34UkA=",
          "dtype": "f8"
         },
         "xaxis": "x",
         "y": [
          "EXPD"
         ],
         "yaxis": "y"
        },
        {
         "hovertemplate": "Stock Symbol=%{y}<br>RSI Value=%{x}<extra></extra>",
         "legendgroup": "LKQ",
         "marker": {
          "color": "#B6E880",
          "pattern": {
           "shape": ""
          }
         },
         "name": "LKQ",
         "orientation": "h",
         "showlegend": true,
         "textfont": {
          "size": 16
         },
         "textposition": "inside",
         "texttemplate": "%{y} %{x:.2f}",
         "type": "bar",
         "x": {
          "bdata": "9EaOuvfmUkA=",
          "dtype": "f8"
         },
         "xaxis": "x",
         "y": [
          "LKQ"
         ],
         "yaxis": "y"
        },
        {
         "hovertemplate": "Stock Symbol=%{y}<br>RSI Value=%{x}<extra></extra>",
         "legendgroup": "AMGN",
         "marker": {
          "color": "#FF97FF",
          "pattern": {
           "shape": ""
          }
         },
         "name": "AMGN",
         "orientation": "h",
         "showlegend": true,
         "textfont": {
          "size": 16
         },
         "textposition": "inside",
         "texttemplate": "%{y} %{x:.2f}",
         "type": "bar",
         "x": {
          "bdata": "OD31BJC1UkA=",
          "dtype": "f8"
         },
         "xaxis": "x",
         "y": [
          "AMGN"
         ],
         "yaxis": "y"
        },
        {
         "hovertemplate": "Stock Symbol=%{y}<br>RSI Value=%{x}<extra></extra>",
         "legendgroup": "BRO",
         "marker": {
          "color": "#FECB52",
          "pattern": {
           "shape": ""
          }
         },
         "name": "BRO",
         "orientation": "h",
         "showlegend": true,
         "textfont": {
          "size": 16
         },
         "textposition": "inside",
         "texttemplate": "%{y} %{x:.2f}",
         "type": "bar",
         "x": {
          "bdata": "Ag461DqPUkA=",
          "dtype": "f8"
         },
         "xaxis": "x",
         "y": [
          "BRO"
         ],
         "yaxis": "y"
        },
        {
         "hovertemplate": "Stock Symbol=%{y}<br>RSI Value=%{x}<extra></extra>",
         "legendgroup": "HPE",
         "marker": {
          "color": "#636efa",
          "pattern": {
           "shape": ""
          }
         },
         "name": "HPE",
         "orientation": "h",
         "showlegend": true,
         "textfont": {
          "size": 16
         },
         "textposition": "inside",
         "texttemplate": "%{y} %{x:.2f}",
         "type": "bar",
         "x": {
          "bdata": "mKHXsc7WLUA=",
          "dtype": "f8"
         },
         "xaxis": "x",
         "y": [
          "HPE"
         ],
         "yaxis": "y"
        },
        {
         "hovertemplate": "Stock Symbol=%{y}<br>RSI Value=%{x}<extra></extra>",
         "legendgroup": "DECK",
         "marker": {
          "color": "#EF553B",
          "pattern": {
           "shape": ""
          }
         },
         "name": "DECK",
         "orientation": "h",
         "showlegend": true,
         "textfont": {
          "size": 16
         },
         "textposition": "inside",
         "texttemplate": "%{y} %{x:.2f}",
         "type": "bar",
         "x": {
          "bdata": "DB0HumAHNkA=",
          "dtype": "f8"
         },
         "xaxis": "x",
         "y": [
          "DECK"
         ],
         "yaxis": "y"
        },
        {
         "hovertemplate": "Stock Symbol=%{y}<br>RSI Value=%{x}<extra></extra>",
         "legendgroup": "CZR",
         "marker": {
          "color": "#00cc96",
          "pattern": {
           "shape": ""
          }
         },
         "name": "CZR",
         "orientation": "h",
         "showlegend": true,
         "textfont": {
          "size": 16
         },
         "textposition": "inside",
         "texttemplate": "%{y} %{x:.2f}",
         "type": "bar",
         "x": {
          "bdata": "pPaLXLNINkA=",
          "dtype": "f8"
         },
         "xaxis": "x",
         "y": [
          "CZR"
         ],
         "yaxis": "y"
        },
        {
         "hovertemplate": "Stock Symbol=%{y}<br>RSI Value=%{x}<extra></extra>",
         "legendgroup": "VMC",
         "marker": {
          "color": "#ab63fa",
          "pattern": {
           "shape": ""
          }
         },
         "name": "VMC",
         "orientation": "h",
         "showlegend": true,
         "textfont": {
          "size": 16
         },
         "textposition": "inside",
         "texttemplate": "%{y} %{x:.2f}",
         "type": "bar",
         "x": {
          "bdata": "DIQ5M0vWNkA=",
          "dtype": "f8"
         },
         "xaxis": "x",
         "y": [
          "VMC"
         ],
         "yaxis": "y"
        },
        {
         "hovertemplate": "Stock Symbol=%{y}<br>RSI Value=%{x}<extra></extra>",
         "legendgroup": "DAY",
         "marker": {
          "color": "#FFA15A",
          "pattern": {
           "shape": ""
          }
         },
         "name": "DAY",
         "orientation": "h",
         "showlegend": true,
         "textfont": {
          "size": 16
         },
         "textposition": "inside",
         "texttemplate": "%{y} %{x:.2f}",
         "type": "bar",
         "x": {
          "bdata": "wCmLM88AN0A=",
          "dtype": "f8"
         },
         "xaxis": "x",
         "y": [
          "DAY"
         ],
         "yaxis": "y"
        },
        {
         "hovertemplate": "Stock Symbol=%{y}<br>RSI Value=%{x}<extra></extra>",
         "legendgroup": "ADSK",
         "marker": {
          "color": "#19d3f3",
          "pattern": {
           "shape": ""
          }
         },
         "name": "ADSK",
         "orientation": "h",
         "showlegend": true,
         "textfont": {
          "size": 16
         },
         "textposition": "inside",
         "texttemplate": "%{y} %{x:.2f}",
         "type": "bar",
         "x": {
          "bdata": "0DbEK2+KN0A=",
          "dtype": "f8"
         },
         "xaxis": "x",
         "y": [
          "ADSK"
         ],
         "yaxis": "y"
        },
        {
         "hovertemplate": "Stock Symbol=%{y}<br>RSI Value=%{x}<extra></extra>",
         "legendgroup": "NCLH",
         "marker": {
          "color": "#FF6692",
          "pattern": {
           "shape": ""
          }
         },
         "name": "NCLH",
         "orientation": "h",
         "showlegend": true,
         "textfont": {
          "size": 16
         },
         "textposition": "inside",
         "texttemplate": "%{y} %{x:.2f}",
         "type": "bar",
         "x": {
          "bdata": "bICUKXgpOEA=",
          "dtype": "f8"
         },
         "xaxis": "x",
         "y": [
          "NCLH"
         ],
         "yaxis": "y"
        },
        {
         "hovertemplate": "Stock Symbol=%{y}<br>RSI Value=%{x}<extra></extra>",
         "legendgroup": "NTAP",
         "marker": {
          "color": "#B6E880",
          "pattern": {
           "shape": ""
          }
         },
         "name": "NTAP",
         "orientation": "h",
         "showlegend": true,
         "textfont": {
          "size": 16
         },
         "textposition": "inside",
         "texttemplate": "%{y} %{x:.2f}",
         "type": "bar",
         "x": {
          "bdata": "VIa9R//yOEA=",
          "dtype": "f8"
         },
         "xaxis": "x",
         "y": [
          "NTAP"
         ],
         "yaxis": "y"
        },
        {
         "hovertemplate": "Stock Symbol=%{y}<br>RSI Value=%{x}<extra></extra>",
         "legendgroup": "APO",
         "marker": {
          "color": "#FF97FF",
          "pattern": {
           "shape": ""
          }
         },
         "name": "APO",
         "orientation": "h",
         "showlegend": true,
         "textfont": {
          "size": 16
         },
         "textposition": "inside",
         "texttemplate": "%{y} %{x:.2f}",
         "type": "bar",
         "x": {
          "bdata": "mKP/Ld0DOUA=",
          "dtype": "f8"
         },
         "xaxis": "x",
         "y": [
          "APO"
         ],
         "yaxis": "y"
        },
        {
         "hovertemplate": "Stock Symbol=%{y}<br>RSI Value=%{x}<extra></extra>",
         "legendgroup": "KKR",
         "marker": {
          "color": "#FECB52",
          "pattern": {
           "shape": ""
          }
         },
         "name": "KKR",
         "orientation": "h",
         "showlegend": true,
         "textfont": {
          "size": 16
         },
         "textposition": "inside",
         "texttemplate": "%{y} %{x:.2f}",
         "type": "bar",
         "x": {
          "bdata": "rIP8SFJBOUA=",
          "dtype": "f8"
         },
         "xaxis": "x",
         "y": [
          "KKR"
         ],
         "yaxis": "y"
        }
       ],
       "layout": {
        "barmode": "relative",
        "height": 1200,
        "legend": {
         "title": {
          "text": "Stock Symbol"
         },
         "tracegroupgap": 0
        },
        "template": {
         "data": {
          "bar": [
           {
            "error_x": {
             "color": "#2a3f5f"
            },
            "error_y": {
             "color": "#2a3f5f"
            },
            "marker": {
             "line": {
              "color": "#E5ECF6",
              "width": 0.5
             },
             "pattern": {
              "fillmode": "overlay",
              "size": 10,
              "solidity": 0.2
             }
            },
            "type": "bar"
           }
          ],
          "barpolar": [
           {
            "marker": {
             "line": {
              "color": "#E5ECF6",
              "width": 0.5
             },
             "pattern": {
              "fillmode": "overlay",
              "size": 10,
              "solidity": 0.2
             }
            },
            "type": "barpolar"
           }
          ],
          "carpet": [
           {
            "aaxis": {
             "endlinecolor": "#2a3f5f",
             "gridcolor": "white",
             "linecolor": "white",
             "minorgridcolor": "white",
             "startlinecolor": "#2a3f5f"
            },
            "baxis": {
             "endlinecolor": "#2a3f5f",
             "gridcolor": "white",
             "linecolor": "white",
             "minorgridcolor": "white",
             "startlinecolor": "#2a3f5f"
            },
            "type": "carpet"
           }
          ],
          "choropleth": [
           {
            "colorbar": {
             "outlinewidth": 0,
             "ticks": ""
            },
            "type": "choropleth"
           }
          ],
          "contour": [
           {
            "colorbar": {
             "outlinewidth": 0,
             "ticks": ""
            },
            "colorscale": [
             [
              0,
              "#0d0887"
             ],
             [
              0.1111111111111111,
              "#46039f"
             ],
             [
              0.2222222222222222,
              "#7201a8"
             ],
             [
              0.3333333333333333,
              "#9c179e"
             ],
             [
              0.4444444444444444,
              "#bd3786"
             ],
             [
              0.5555555555555556,
              "#d8576b"
             ],
             [
              0.6666666666666666,
              "#ed7953"
             ],
             [
              0.7777777777777778,
              "#fb9f3a"
             ],
             [
              0.8888888888888888,
              "#fdca26"
             ],
             [
              1,
              "#f0f921"
             ]
            ],
            "type": "contour"
           }
          ],
          "contourcarpet": [
           {
            "colorbar": {
             "outlinewidth": 0,
             "ticks": ""
            },
            "type": "contourcarpet"
           }
          ],
          "heatmap": [
           {
            "colorbar": {
             "outlinewidth": 0,
             "ticks": ""
            },
            "colorscale": [
             [
              0,
              "#0d0887"
             ],
             [
              0.1111111111111111,
              "#46039f"
             ],
             [
              0.2222222222222222,
              "#7201a8"
             ],
             [
              0.3333333333333333,
              "#9c179e"
             ],
             [
              0.4444444444444444,
              "#bd3786"
             ],
             [
              0.5555555555555556,
              "#d8576b"
             ],
             [
              0.6666666666666666,
              "#ed7953"
             ],
             [
              0.7777777777777778,
              "#fb9f3a"
             ],
             [
              0.8888888888888888,
              "#fdca26"
             ],
             [
              1,
              "#f0f921"
             ]
            ],
            "type": "heatmap"
           }
          ],
          "histogram": [
           {
            "marker": {
             "pattern": {
              "fillmode": "overlay",
              "size": 10,
              "solidity": 0.2
             }
            },
            "type": "histogram"
           }
          ],
          "histogram2d": [
           {
            "colorbar": {
             "outlinewidth": 0,
             "ticks": ""
            },
            "colorscale": [
             [
              0,
              "#0d0887"
             ],
             [
              0.1111111111111111,
              "#46039f"
             ],
             [
              0.2222222222222222,
              "#7201a8"
             ],
             [
              0.3333333333333333,
              "#9c179e"
             ],
             [
              0.4444444444444444,
              "#bd3786"
             ],
             [
              0.5555555555555556,
              "#d8576b"
             ],
             [
              0.6666666666666666,
              "#ed7953"
             ],
             [
              0.7777777777777778,
              "#fb9f3a"
             ],
             [
              0.8888888888888888,
              "#fdca26"
             ],
             [
              1,
              "#f0f921"
             ]
            ],
            "type": "histogram2d"
           }
          ],
          "histogram2dcontour": [
           {
            "colorbar": {
             "outlinewidth": 0,
             "ticks": ""
            },
            "colorscale": [
             [
              0,
              "#0d0887"
             ],
             [
              0.1111111111111111,
              "#46039f"
             ],
             [
              0.2222222222222222,
              "#7201a8"
             ],
             [
              0.3333333333333333,
              "#9c179e"
             ],
             [
              0.4444444444444444,
              "#bd3786"
             ],
             [
              0.5555555555555556,
              "#d8576b"
             ],
             [
              0.6666666666666666,
              "#ed7953"
             ],
             [
              0.7777777777777778,
              "#fb9f3a"
             ],
             [
              0.8888888888888888,
              "#fdca26"
             ],
             [
              1,
              "#f0f921"
             ]
            ],
            "type": "histogram2dcontour"
           }
          ],
          "mesh3d": [
           {
            "colorbar": {
             "outlinewidth": 0,
             "ticks": ""
            },
            "type": "mesh3d"
           }
          ],
          "parcoords": [
           {
            "line": {
             "colorbar": {
              "outlinewidth": 0,
              "ticks": ""
             }
            },
            "type": "parcoords"
           }
          ],
          "pie": [
           {
            "automargin": true,
            "type": "pie"
           }
          ],
          "scatter": [
           {
            "fillpattern": {
             "fillmode": "overlay",
             "size": 10,
             "solidity": 0.2
            },
            "type": "scatter"
           }
          ],
          "scatter3d": [
           {
            "line": {
             "colorbar": {
              "outlinewidth": 0,
              "ticks": ""
             }
            },
            "marker": {
             "colorbar": {
              "outlinewidth": 0,
              "ticks": ""
             }
            },
            "type": "scatter3d"
           }
          ],
          "scattercarpet": [
           {
            "marker": {
             "colorbar": {
              "outlinewidth": 0,
              "ticks": ""
             }
            },
            "type": "scattercarpet"
           }
          ],
          "scattergeo": [
           {
            "marker": {
             "colorbar": {
              "outlinewidth": 0,
              "ticks": ""
             }
            },
            "type": "scattergeo"
           }
          ],
          "scattergl": [
           {
            "marker": {
             "colorbar": {
              "outlinewidth": 0,
              "ticks": ""
             }
            },
            "type": "scattergl"
           }
          ],
          "scattermap": [
           {
            "marker": {
             "colorbar": {
              "outlinewidth": 0,
              "ticks": ""
             }
            },
            "type": "scattermap"
           }
          ],
          "scattermapbox": [
           {
            "marker": {
             "colorbar": {
              "outlinewidth": 0,
              "ticks": ""
             }
            },
            "type": "scattermapbox"
           }
          ],
          "scatterpolar": [
           {
            "marker": {
             "colorbar": {
              "outlinewidth": 0,
              "ticks": ""
             }
            },
            "type": "scatterpolar"
           }
          ],
          "scatterpolargl": [
           {
            "marker": {
             "colorbar": {
              "outlinewidth": 0,
              "ticks": ""
             }
            },
            "type": "scatterpolargl"
           }
          ],
          "scatterternary": [
           {
            "marker": {
             "colorbar": {
              "outlinewidth": 0,
              "ticks": ""
             }
            },
            "type": "scatterternary"
           }
          ],
          "surface": [
           {
            "colorbar": {
             "outlinewidth": 0,
             "ticks": ""
            },
            "colorscale": [
             [
              0,
              "#0d0887"
             ],
             [
              0.1111111111111111,
              "#46039f"
             ],
             [
              0.2222222222222222,
              "#7201a8"
             ],
             [
              0.3333333333333333,
              "#9c179e"
             ],
             [
              0.4444444444444444,
              "#bd3786"
             ],
             [
              0.5555555555555556,
              "#d8576b"
             ],
             [
              0.6666666666666666,
              "#ed7953"
             ],
             [
              0.7777777777777778,
              "#fb9f3a"
             ],
             [
              0.8888888888888888,
              "#fdca26"
             ],
             [
              1,
              "#f0f921"
             ]
            ],
            "type": "surface"
           }
          ],
          "table": [
           {
            "cells": {
             "fill": {
              "color": "#EBF0F8"
             },
             "line": {
              "color": "white"
             }
            },
            "header": {
             "fill": {
              "color": "#C8D4E3"
             },
             "line": {
              "color": "white"
             }
            },
            "type": "table"
           }
          ]
         },
         "layout": {
          "annotationdefaults": {
           "arrowcolor": "#2a3f5f",
           "arrowhead": 0,
           "arrowwidth": 1
          },
          "autotypenumbers": "strict",
          "coloraxis": {
           "colorbar": {
            "outlinewidth": 0,
            "ticks": ""
           }
          },
          "colorscale": {
           "diverging": [
            [
             0,
             "#8e0152"
            ],
            [
             0.1,
             "#c51b7d"
            ],
            [
             0.2,
             "#de77ae"
            ],
            [
             0.3,
             "#f1b6da"
            ],
            [
             0.4,
             "#fde0ef"
            ],
            [
             0.5,
             "#f7f7f7"
            ],
            [
             0.6,
             "#e6f5d0"
            ],
            [
             0.7,
             "#b8e186"
            ],
            [
             0.8,
             "#7fbc41"
            ],
            [
             0.9,
             "#4d9221"
            ],
            [
             1,
             "#276419"
            ]
           ],
           "sequential": [
            [
             0,
             "#0d0887"
            ],
            [
             0.1111111111111111,
             "#46039f"
            ],
            [
             0.2222222222222222,
             "#7201a8"
            ],
            [
             0.3333333333333333,
             "#9c179e"
            ],
            [
             0.4444444444444444,
             "#bd3786"
            ],
            [
             0.5555555555555556,
             "#d8576b"
            ],
            [
             0.6666666666666666,
             "#ed7953"
            ],
            [
             0.7777777777777778,
             "#fb9f3a"
            ],
            [
             0.8888888888888888,
             "#fdca26"
            ],
            [
             1,
             "#f0f921"
            ]
           ],
           "sequentialminus": [
            [
             0,
             "#0d0887"
            ],
            [
             0.1111111111111111,
             "#46039f"
            ],
            [
             0.2222222222222222,
             "#7201a8"
            ],
            [
             0.3333333333333333,
             "#9c179e"
            ],
            [
             0.4444444444444444,
             "#bd3786"
            ],
            [
             0.5555555555555556,
             "#d8576b"
            ],
            [
             0.6666666666666666,
             "#ed7953"
            ],
            [
             0.7777777777777778,
             "#fb9f3a"
            ],
            [
             0.8888888888888888,
             "#fdca26"
            ],
            [
             1,
             "#f0f921"
            ]
           ]
          },
          "colorway": [
           "#636efa",
           "#EF553B",
           "#00cc96",
           "#ab63fa",
           "#FFA15A",
           "#19d3f3",
           "#FF6692",
           "#B6E880",
           "#FF97FF",
           "#FECB52"
          ],
          "font": {
           "color": "#2a3f5f"
          },
          "geo": {
           "bgcolor": "white",
           "lakecolor": "white",
           "landcolor": "#E5ECF6",
           "showlakes": true,
           "showland": true,
           "subunitcolor": "white"
          },
          "hoverlabel": {
           "align": "left"
          },
          "hovermode": "closest",
          "mapbox": {
           "style": "light"
          },
          "paper_bgcolor": "white",
          "plot_bgcolor": "#E5ECF6",
          "polar": {
           "angularaxis": {
            "gridcolor": "white",
            "linecolor": "white",
            "ticks": ""
           },
           "bgcolor": "#E5ECF6",
           "radialaxis": {
            "gridcolor": "white",
            "linecolor": "white",
            "ticks": ""
           }
          },
          "scene": {
           "xaxis": {
            "backgroundcolor": "#E5ECF6",
            "gridcolor": "white",
            "gridwidth": 2,
            "linecolor": "white",
            "showbackground": true,
            "ticks": "",
            "zerolinecolor": "white"
           },
           "yaxis": {
            "backgroundcolor": "#E5ECF6",
            "gridcolor": "white",
            "gridwidth": 2,
            "linecolor": "white",
            "showbackground": true,
            "ticks": "",
            "zerolinecolor": "white"
           },
           "zaxis": {
            "backgroundcolor": "#E5ECF6",
            "gridcolor": "white",
            "gridwidth": 2,
            "linecolor": "white",
            "showbackground": true,
            "ticks": "",
            "zerolinecolor": "white"
           }
          },
          "shapedefaults": {
           "line": {
            "color": "#2a3f5f"
           }
          },
          "ternary": {
           "aaxis": {
            "gridcolor": "white",
            "linecolor": "white",
            "ticks": ""
           },
           "baxis": {
            "gridcolor": "white",
            "linecolor": "white",
            "ticks": ""
           },
           "bgcolor": "#E5ECF6",
           "caxis": {
            "gridcolor": "white",
            "linecolor": "white",
            "ticks": ""
           }
          },
          "title": {
           "x": 0.05
          },
          "xaxis": {
           "automargin": true,
           "gridcolor": "white",
           "linecolor": "white",
           "ticks": "",
           "title": {
            "standoff": 15
           },
           "zerolinecolor": "white",
           "zerolinewidth": 2
          },
          "yaxis": {
           "automargin": true,
           "gridcolor": "white",
           "linecolor": "white",
           "ticks": "",
           "title": {
            "standoff": 15
           },
           "zerolinecolor": "white",
           "zerolinewidth": 2
          }
         }
        },
        "title": {
         "font": {
          "color": "blue",
          "size": 28
         },
         "text": "Top and Bottom 10 RSI Stocks (Overbought and Oversold)",
         "x": 0.5
        },
        "width": 1000,
        "xaxis": {
         "anchor": "y",
         "domain": [
          0,
          1
         ],
         "tickfont": {
          "size": 26
         },
         "title": {
          "font": {
           "size": 26
          },
          "text": "RSI"
         }
        },
        "yaxis": {
         "anchor": "x",
         "automargin": true,
         "categoryarray": [
          "KKR",
          "APO",
          "NTAP",
          "NCLH",
          "ADSK",
          "DAY",
          "VMC",
          "CZR",
          "DECK",
          "HPE",
          "BRO",
          "AMGN",
          "LKQ",
          "EXPD",
          "AWK",
          "ABBV",
          "VZ",
          "JKHY",
          "GILD",
          "YUM"
         ],
         "categoryorder": "array",
         "domain": [
          0,
          1
         ],
         "tickfont": {
          "size": 26
         },
         "tickmode": "linear",
         "title": {
          "font": {
           "size": 26
          },
          "text": "Stock Symbol"
         }
        }
       }
      }
     },
     "metadata": {},
     "output_type": "display_data"
    }
   ],
   "source": [
    "# Sort the dataframe by RSI and get the top 10 and bottom 10\n",
    "top_10_rsi = df_rsi_cleaned.nlargest(10, 'Latest RSI')\n",
    "bottom_10_rsi = df_rsi_cleaned.nsmallest(10, 'Latest RSI')\n",
    "\n",
    "# Concatenate top and bottom RSI data\n",
    "df_rsi_top_bottom = pd.concat([top_10_rsi, bottom_10_rsi])\n",
    "\n",
    "# Create a horizontal bar chart for the top and bottom RSI values\n",
    "fig = px.bar(df_rsi_top_bottom,\n",
    "             y='Symbol', \n",
    "             x='Latest RSI', \n",
    "             color='Symbol',\n",
    "             orientation='h',  # Horizontal bars\n",
    "             title=\"Top 10 and Bottom 10 RSI Values (Overbought and Oversold)\",\n",
    "             labels={'Symbol': 'Stock Symbol', 'Latest RSI': 'RSI Value'})\n",
    "\n",
    "# Add text to the bars\n",
    "fig.update_traces(texttemplate='%{y} %{x:.2f}', textposition='inside', textfont=dict(size=16))\n",
    "\n",
    "# Adjusting the appearance of the plot\n",
    "fig.update_layout(\n",
    "    height=1200, \n",
    "    width=1000,  # Set desired height and width\n",
    "    title={'text': 'Top and Bottom 10 RSI Stocks (Overbought and Oversold)', 'x': 0.5, 'font': dict(size=28, color='blue')},\n",
    "    yaxis=dict(automargin=True, tickmode='linear'),  # Force all labels to show\n",
    "    yaxis_tickfont=dict(size=26),  # Increase font size of y-axis labels\n",
    "    xaxis_tickfont=dict(size=26),  # Increase font size of x-axis labels\n",
    "    xaxis_title=dict(text=\"RSI\", font=dict(size=26)),  # Font size for x-axis title\n",
    "    yaxis_title=dict(text=\"Stock Symbol\", font=dict(size=26))  # Font size for y-axis title\n",
    ")\n",
    "\n",
    "# Display the plot\n",
    "fig.show()"
   ]
  },
  {
   "cell_type": "markdown",
   "metadata": {},
   "source": [
    "# 📊 Part 4: **Fundamental Analysis with Yahoo Finance** 📈\n",
    "\n",
    "In this section, we'll dive into calculating important **fundamental metrics** for stocks using the data from **Yahoo Finance**.\n",
    "\n",
    "---\n",
    "\n",
    "### 🔢 **P/E Ratio Formula:**\n",
    "\n",
    "The **Price-to-Earnings (P/E) Ratio** is one of the most commonly used metrics to assess whether a stock is **overvalued** or **undervalued**. It is calculated as:\n",
    "\n",
    "$\n",
    "\\text{P/E Ratio} = \\frac{\\text{Latest Stock Price (Adj Close)}}{\\text{Trailing 12-Month Earnings (EPS)}}\n",
    "$\n",
    "\n",
    "Where:\n",
    "- 📅 **Latest Stock Price (Adj Close)**: The most recent **adjusted closing price** of the stock.\n",
    "- 🧮 **Trailing 12-Month Earnings (EPS)**: The **earnings per share (EPS)** for the last 12 months.\n",
    "\n",
    "---\n",
    "\n",
    "### 🏷️ **Other Fundamental Metrics**:\n",
    "\n",
    "1. **Forward P/E**: \n",
    "   - A variation of the P/E ratio based on **forecasted earnings** for the next 12 months.\n",
    "\n",
    "2. **Price-to-Book (P/B) Ratio**:\n",
    "   - Measures a company's **market value** relative to its **book value**.\n",
    "\n",
    "   $\n",
    "   \\text{P/B Ratio} = \\frac{\\text{Market Price per Share}}{\\text{Book Value per Share}}\n",
    "   $\n",
    "\n",
    "3. **EPS (TTM)**:\n",
    "   - **Earnings per Share (EPS)** for the **trailing twelve months**.\n",
    "\n",
    "4. **Debt-to-Equity Ratio (D/E)**:\n",
    "   - Indicates the **financial leverage** of a company, calculated as:\n",
    "\n",
    "   $\n",
    "   \\text{Debt-to-Equity Ratio} = \\frac{\\text{Total Debt}}{\\text{Total Equity}}\n",
    "   $\n",
    "\n",
    "5. **Market Cap**:\n",
    "   - The total market value of a company’s **outstanding shares**.\n",
    "\n",
    "   $\n",
    "   \\text{Market Cap} = \\text{Share Price} \\times \\text{Shares Outstanding}\n",
    "   $\n",
    "\n",
    "6. **Price-to-Sales Ratio (P/S)**:\n",
    "   - Compares a company’s stock price to its **total revenue**.\n",
    "\n",
    "   $\n",
    "   \\text{P/S Ratio} = \\frac{\\text{Market Cap}}{\\text{Total Revenue}}\n",
    "   $\n",
    "\n",
    "7. **Profit Margin**:\n",
    "   - Measures the percentage of revenue that exceeds the **cost of goods sold (COGS)**.\n",
    "\n",
    "   $\n",
    "   \\text{Profit Margin} = \\frac{\\text{Net Income}}{\\text{Revenue}} \\times 100\n",
    "   $\n",
    "\n",
    "8. **Return on Equity (ROE)**:\n",
    "   - Measures a company’s **profitability** relative to shareholders' equity.\n",
    "   \n",
    "   $\n",
    "   \\text{ROE} = \\frac{\\text{Net Income}}{\\text{Shareholders' Equity}} \\times 100\n",
    "   $\n",
    "\n",
    "9. **Earnings Growth**:\n",
    "   - The percentage growth in a company’s **earnings** over a specific period.\n",
    "\n",
    "10. **Revenue Growth**:\n",
    "    - The percentage growth in a company’s **revenue** over a specified period.\n",
    "\n",
    "11. **Total Cash**:\n",
    "    - The total amount of **cash** and **cash equivalents** the company holds.\n",
    "\n",
    "12. **Total Debt**:\n",
    "    - The total amount of **debt** the company owes.\n",
    "\n",
    "13. **Book Value**:\n",
    "    - The **net asset value** of the company, calculated as:\n",
    "\n",
    "    $\n",
    "    \\text{Book Value} = \\text{Total Assets} - \\text{Total Liabilities}\n",
    "    $\n",
    "\n",
    "---\n",
    "\n",
    "### 📉 **Visualizing Fundamental Metrics**:\n",
    "\n",
    "We can compare multiple companies based on these fundamental metrics by creating **visualizations**. For example, we can use **strip plots** to compare different stocks across the various **financial ratios**.\n",
    "\n",
    "---\n",
    "\n",
    "Feel free to copy and paste the above markdown into your Jupyter notebook for a neat and organized presentation of **Fundamental Analysis**! 💼💡\n"
   ]
  },
  {
   "cell_type": "code",
   "execution_count": 22,
   "metadata": {},
   "outputs": [],
   "source": [
    "def get_fundamental_data(symbol, last_price):\n",
    "    # Print the stock symbol and its last price to indicate the start of data fetching\n",
    "    print(f\"Fetching data for {symbol}...\")\n",
    "    print(f\"Last Price: {last_price}\")\n",
    "    \n",
    "    \"\"\"\n",
    "    Fetches fundamental data for a single stock symbol.\n",
    "\n",
    "    Args:\n",
    "        symbol (str): The stock ticker symbol. (e.g., 'AAPL', 'GOOG', etc.)\n",
    "        last_price (float): The last traded price of the stock (typically from the Adj Close).\n",
    "\n",
    "    Returns:\n",
    "        pandas.Series: A Series containing the fundamental data for the given stock,\n",
    "                       or None if data retrieval fails due to errors.\n",
    "    \"\"\"\n",
    "\n",
    "    # Use the Yahoo Finance library to fetch data for the given stock symbol\n",
    "    ticker = yf.Ticker(symbol)\n",
    "    \n",
    "    try:\n",
    "        # Fetch fundamental financial data using Yahoo Finance's API\n",
    "        data = {\n",
    "            # These are different fundamental financial metrics we are fetching from the ticker's information:\n",
    "            #\"Trailing P/E\": ticker.info.get('trailingPE', None),  # Commented out because it's not used\n",
    "            \"Forward P/E\": ticker.info.get('forwardPE', None),  # Forward Price-to-Earnings ratio\n",
    "            \"Price-to-Book\": ticker.info.get('priceToBook', None),  # Price-to-Book ratio\n",
    "            \"EPS (TTM)\": ticker.info.get('trailingEps', None),  # Earnings Per Share (Trailing 12 Months)\n",
    "            \"Debt-to-Equity\": ticker.info.get('debtToEquity', None),  # Debt-to-Equity ratio\n",
    "            #\"Current Ratio\": ticker.info.get('currentRatio', None),  # Commented out\n",
    "            #\"Quick Ratio\": ticker.info.get('quickRatio', None),  # Commented out\n",
    "            \"Market Cap\": ticker.info.get('marketCap', None),  # Market Capitalization\n",
    "            \"Total Revenue\": ticker.info.get('totalRevenue', None),  # Total Revenue\n",
    "            \"Price-to-Sales\": ticker.info.get('priceToSalesTrailing12Months', None),  # Price-to-Sales ratio\n",
    "            #\"Gross Profit\": ticker.info.get('grossProfits', None),  # Commented out\n",
    "            #\"Operating Margin\": ticker.info.get('operatingMargin', None),  # Commented out\n",
    "            \"Profit Margin\": ticker.info.get('profitMargins', None),  # Profit Margin\n",
    "            \"Return on Equity\": ticker.info.get('returnOnEquity', None),  # Return on Equity\n",
    "            \"Earnings Growth\": ticker.info.get('earningsGrowth', None),  # Earnings Growth\n",
    "            \"Revenue Growth\": ticker.info.get('revenueGrowth', None),  # Revenue Growth\n",
    "            \"Total Cash\": ticker.info.get('totalCash', None),  # Total Cash on hand\n",
    "            \"Total Debt\": ticker.info.get('totalDebt', None),  # Total Debt\n",
    "            \"Book Value\": ticker.info.get('bookValue', None)  # Book Value of the company\n",
    "        }\n",
    "\n",
    "        # Convert the data dictionary into a pandas Series for easy manipulation\n",
    "        fundamentals = pd.Series(data, name=symbol)\n",
    "        \n",
    "        # Calculate the P/E ratio by dividing the last price by the trailing 12-month EPS\n",
    "        fundamentals['P/E Ratio'] = last_price / fundamentals['EPS (TTM)']\n",
    "        \n",
    "        # Return the full Series containing all the fetched fundamental data\n",
    "        return fundamentals\n",
    "\n",
    "    # Handle exceptions in case data retrieval fails (e.g., missing data, bad symbol)\n",
    "    except (KeyError, IndexError, TypeError) as e:\n",
    "        # Print an error message if any error occurs while fetching data\n",
    "        print(f\"Error fetching data for {symbol}: {e}\")\n",
    "        \n",
    "        # Return None to indicate the failure to fetch data\n",
    "        return None\n"
   ]
  },
  {
   "cell_type": "code",
   "execution_count": 23,
   "metadata": {},
   "outputs": [
    {
     "name": "stdout",
     "output_type": "stream",
     "text": [
      "Fetching data for HPE...\n",
      "Last Price: 15.8100004196167\n",
      "Fetching data for MSI...\n",
      "Last Price: 423.1300048828125\n",
      "Fetching data for FFIV...\n",
      "Last Price: 275.6300048828125\n"
     ]
    },
    {
     "data": {
      "text/html": [
       "<div>\n",
       "<style scoped>\n",
       "    .dataframe tbody tr th:only-of-type {\n",
       "        vertical-align: middle;\n",
       "    }\n",
       "\n",
       "    .dataframe tbody tr th {\n",
       "        vertical-align: top;\n",
       "    }\n",
       "\n",
       "    .dataframe thead th {\n",
       "        text-align: right;\n",
       "    }\n",
       "</style>\n",
       "<table border=\"1\" class=\"dataframe\">\n",
       "  <thead>\n",
       "    <tr style=\"text-align: right;\">\n",
       "      <th></th>\n",
       "      <th>Metric</th>\n",
       "      <th>Value</th>\n",
       "    </tr>\n",
       "    <tr>\n",
       "      <th>Ticker</th>\n",
       "      <th></th>\n",
       "      <th></th>\n",
       "    </tr>\n",
       "  </thead>\n",
       "  <tbody>\n",
       "    <tr>\n",
       "      <th>HPE</th>\n",
       "      <td>Forward P/E</td>\n",
       "      <td>7.528572e+00</td>\n",
       "    </tr>\n",
       "    <tr>\n",
       "      <th>MSI</th>\n",
       "      <td>Forward P/E</td>\n",
       "      <td>2.880395e+01</td>\n",
       "    </tr>\n",
       "    <tr>\n",
       "      <th>FFIV</th>\n",
       "      <td>Forward P/E</td>\n",
       "      <td>1.789805e+01</td>\n",
       "    </tr>\n",
       "    <tr>\n",
       "      <th>HPE</th>\n",
       "      <td>Price-to-Book</td>\n",
       "      <td>8.229660e-01</td>\n",
       "    </tr>\n",
       "    <tr>\n",
       "      <th>MSI</th>\n",
       "      <td>Price-to-Book</td>\n",
       "      <td>4.151589e+01</td>\n",
       "    </tr>\n",
       "    <tr>\n",
       "      <th>FFIV</th>\n",
       "      <td>Price-to-Book</td>\n",
       "      <td>4.951852e+00</td>\n",
       "    </tr>\n",
       "    <tr>\n",
       "      <th>HPE</th>\n",
       "      <td>EPS (TTM)</td>\n",
       "      <td>2.080000e+00</td>\n",
       "    </tr>\n",
       "    <tr>\n",
       "      <th>MSI</th>\n",
       "      <td>EPS (TTM)</td>\n",
       "      <td>9.220000e+00</td>\n",
       "    </tr>\n",
       "    <tr>\n",
       "      <th>FFIV</th>\n",
       "      <td>EPS (TTM)</td>\n",
       "      <td>1.004000e+01</td>\n",
       "    </tr>\n",
       "    <tr>\n",
       "      <th>HPE</th>\n",
       "      <td>Debt-to-Equity</td>\n",
       "      <td>7.071000e+01</td>\n",
       "    </tr>\n",
       "    <tr>\n",
       "      <th>MSI</th>\n",
       "      <td>Debt-to-Equity</td>\n",
       "      <td>3.810940e+02</td>\n",
       "    </tr>\n",
       "    <tr>\n",
       "      <th>FFIV</th>\n",
       "      <td>Debt-to-Equity</td>\n",
       "      <td>8.478000e+00</td>\n",
       "    </tr>\n",
       "    <tr>\n",
       "      <th>HPE</th>\n",
       "      <td>Market Cap</td>\n",
       "      <td>2.076770e+10</td>\n",
       "    </tr>\n",
       "    <tr>\n",
       "      <th>MSI</th>\n",
       "      <td>Market Cap</td>\n",
       "      <td>7.063605e+10</td>\n",
       "    </tr>\n",
       "    <tr>\n",
       "      <th>FFIV</th>\n",
       "      <td>Market Cap</td>\n",
       "      <td>1.589070e+10</td>\n",
       "    </tr>\n",
       "    <tr>\n",
       "      <th>HPE</th>\n",
       "      <td>Total Revenue</td>\n",
       "      <td>3.122600e+10</td>\n",
       "    </tr>\n",
       "    <tr>\n",
       "      <th>MSI</th>\n",
       "      <td>Total Revenue</td>\n",
       "      <td>1.081700e+10</td>\n",
       "    </tr>\n",
       "    <tr>\n",
       "      <th>FFIV</th>\n",
       "      <td>Total Revenue</td>\n",
       "      <td>2.890012e+09</td>\n",
       "    </tr>\n",
       "    <tr>\n",
       "      <th>HPE</th>\n",
       "      <td>Price-to-Sales</td>\n",
       "      <td>6.650772e-01</td>\n",
       "    </tr>\n",
       "    <tr>\n",
       "      <th>MSI</th>\n",
       "      <td>Price-to-Sales</td>\n",
       "      <td>6.530096e+00</td>\n",
       "    </tr>\n",
       "    <tr>\n",
       "      <th>FFIV</th>\n",
       "      <td>Price-to-Sales</td>\n",
       "      <td>5.498491e+00</td>\n",
       "    </tr>\n",
       "    <tr>\n",
       "      <th>HPE</th>\n",
       "      <td>Profit Margin</td>\n",
       "      <td>9.028000e-02</td>\n",
       "    </tr>\n",
       "    <tr>\n",
       "      <th>MSI</th>\n",
       "      <td>Profit Margin</td>\n",
       "      <td>1.457900e-01</td>\n",
       "    </tr>\n",
       "    <tr>\n",
       "      <th>FFIV</th>\n",
       "      <td>Profit Margin</td>\n",
       "      <td>2.058300e-01</td>\n",
       "    </tr>\n",
       "    <tr>\n",
       "      <th>HPE</th>\n",
       "      <td>Return on Equity</td>\n",
       "      <td>1.206000e-01</td>\n",
       "    </tr>\n",
       "    <tr>\n",
       "      <th>MSI</th>\n",
       "      <td>Return on Equity</td>\n",
       "      <td>1.287230e+00</td>\n",
       "    </tr>\n",
       "    <tr>\n",
       "      <th>FFIV</th>\n",
       "      <td>Return on Equity</td>\n",
       "      <td>1.951300e-01</td>\n",
       "    </tr>\n",
       "    <tr>\n",
       "      <th>HPE</th>\n",
       "      <td>Earnings Growth</td>\n",
       "      <td>5.340000e-01</td>\n",
       "    </tr>\n",
       "    <tr>\n",
       "      <th>MSI</th>\n",
       "      <td>Earnings Growth</td>\n",
       "      <td>2.500000e-02</td>\n",
       "    </tr>\n",
       "    <tr>\n",
       "      <th>FFIV</th>\n",
       "      <td>Earnings Growth</td>\n",
       "      <td>2.160000e-01</td>\n",
       "    </tr>\n",
       "    <tr>\n",
       "      <th>HPE</th>\n",
       "      <td>Revenue Growth</td>\n",
       "      <td>1.630000e-01</td>\n",
       "    </tr>\n",
       "    <tr>\n",
       "      <th>MSI</th>\n",
       "      <td>Revenue Growth</td>\n",
       "      <td>5.700000e-02</td>\n",
       "    </tr>\n",
       "    <tr>\n",
       "      <th>FFIV</th>\n",
       "      <td>Revenue Growth</td>\n",
       "      <td>1.070000e-01</td>\n",
       "    </tr>\n",
       "    <tr>\n",
       "      <th>HPE</th>\n",
       "      <td>Total Cash</td>\n",
       "      <td>1.343100e+10</td>\n",
       "    </tr>\n",
       "    <tr>\n",
       "      <th>MSI</th>\n",
       "      <td>Total Cash</td>\n",
       "      <td>2.102000e+09</td>\n",
       "    </tr>\n",
       "    <tr>\n",
       "      <th>FFIV</th>\n",
       "      <td>Total Cash</td>\n",
       "      <td>1.150907e+09</td>\n",
       "    </tr>\n",
       "    <tr>\n",
       "      <th>HPE</th>\n",
       "      <td>Total Debt</td>\n",
       "      <td>1.787700e+10</td>\n",
       "    </tr>\n",
       "    <tr>\n",
       "      <th>MSI</th>\n",
       "      <td>Total Debt</td>\n",
       "      <td>6.551000e+09</td>\n",
       "    </tr>\n",
       "    <tr>\n",
       "      <th>FFIV</th>\n",
       "      <td>Total Debt</td>\n",
       "      <td>2.743240e+08</td>\n",
       "    </tr>\n",
       "    <tr>\n",
       "      <th>HPE</th>\n",
       "      <td>Book Value</td>\n",
       "      <td>1.921100e+01</td>\n",
       "    </tr>\n",
       "    <tr>\n",
       "      <th>MSI</th>\n",
       "      <td>Book Value</td>\n",
       "      <td>1.019200e+01</td>\n",
       "    </tr>\n",
       "    <tr>\n",
       "      <th>FFIV</th>\n",
       "      <td>Book Value</td>\n",
       "      <td>5.566200e+01</td>\n",
       "    </tr>\n",
       "    <tr>\n",
       "      <th>HPE</th>\n",
       "      <td>P/E Ratio</td>\n",
       "      <td>7.600962e+00</td>\n",
       "    </tr>\n",
       "    <tr>\n",
       "      <th>MSI</th>\n",
       "      <td>P/E Ratio</td>\n",
       "      <td>4.589263e+01</td>\n",
       "    </tr>\n",
       "    <tr>\n",
       "      <th>FFIV</th>\n",
       "      <td>P/E Ratio</td>\n",
       "      <td>2.745319e+01</td>\n",
       "    </tr>\n",
       "  </tbody>\n",
       "</table>\n",
       "</div>"
      ],
      "text/plain": [
       "                  Metric         Value\n",
       "Ticker                                \n",
       "HPE          Forward P/E  7.528572e+00\n",
       "MSI          Forward P/E  2.880395e+01\n",
       "FFIV         Forward P/E  1.789805e+01\n",
       "HPE        Price-to-Book  8.229660e-01\n",
       "MSI        Price-to-Book  4.151589e+01\n",
       "FFIV       Price-to-Book  4.951852e+00\n",
       "HPE            EPS (TTM)  2.080000e+00\n",
       "MSI            EPS (TTM)  9.220000e+00\n",
       "FFIV           EPS (TTM)  1.004000e+01\n",
       "HPE       Debt-to-Equity  7.071000e+01\n",
       "MSI       Debt-to-Equity  3.810940e+02\n",
       "FFIV      Debt-to-Equity  8.478000e+00\n",
       "HPE           Market Cap  2.076770e+10\n",
       "MSI           Market Cap  7.063605e+10\n",
       "FFIV          Market Cap  1.589070e+10\n",
       "HPE        Total Revenue  3.122600e+10\n",
       "MSI        Total Revenue  1.081700e+10\n",
       "FFIV       Total Revenue  2.890012e+09\n",
       "HPE       Price-to-Sales  6.650772e-01\n",
       "MSI       Price-to-Sales  6.530096e+00\n",
       "FFIV      Price-to-Sales  5.498491e+00\n",
       "HPE        Profit Margin  9.028000e-02\n",
       "MSI        Profit Margin  1.457900e-01\n",
       "FFIV       Profit Margin  2.058300e-01\n",
       "HPE     Return on Equity  1.206000e-01\n",
       "MSI     Return on Equity  1.287230e+00\n",
       "FFIV    Return on Equity  1.951300e-01\n",
       "HPE      Earnings Growth  5.340000e-01\n",
       "MSI      Earnings Growth  2.500000e-02\n",
       "FFIV     Earnings Growth  2.160000e-01\n",
       "HPE       Revenue Growth  1.630000e-01\n",
       "MSI       Revenue Growth  5.700000e-02\n",
       "FFIV      Revenue Growth  1.070000e-01\n",
       "HPE           Total Cash  1.343100e+10\n",
       "MSI           Total Cash  2.102000e+09\n",
       "FFIV          Total Cash  1.150907e+09\n",
       "HPE           Total Debt  1.787700e+10\n",
       "MSI           Total Debt  6.551000e+09\n",
       "FFIV          Total Debt  2.743240e+08\n",
       "HPE           Book Value  1.921100e+01\n",
       "MSI           Book Value  1.019200e+01\n",
       "FFIV          Book Value  5.566200e+01\n",
       "HPE            P/E Ratio  7.600962e+00\n",
       "MSI            P/E Ratio  4.589263e+01\n",
       "FFIV           P/E Ratio  2.745319e+01"
      ]
     },
     "execution_count": 23,
     "metadata": {},
     "output_type": "execute_result"
    }
   ],
   "source": [
    "#looking at the market \n",
    "df_CE_fundamentals = df[['HPE','MSI','FFIV']].iloc[-1].to_frame('Last Price').reset_index()\n",
    "df_CE_fundamentals = df_CE_fundamentals.apply(lambda l:get_fundamental_data(l['Ticker'],l['Last Price']),axis=1).set_index(df_CE_fundamentals['Ticker'])\n",
    "df_CE_fundamentals = df_CE_fundamentals.melt(value_name='Value',var_name='Metric',ignore_index=False)\n",
    "\n",
    "df_CE_fundamentals"
   ]
  },
  {
   "cell_type": "code",
   "execution_count": 24,
   "metadata": {},
   "outputs": [
    {
     "data": {
      "application/vnd.plotly.v1+json": {
       "config": {
        "plotlyServerURL": "https://plot.ly"
       },
       "data": [
        {
         "alignmentgroup": "True",
         "boxpoints": "all",
         "fillcolor": "rgba(255,255,255,0)",
         "hoveron": "points",
         "hovertemplate": "Ticker=%{y}<br>Metric=Forward P/E<br>Value=%{x}<extra></extra>",
         "legendgroup": "HPE",
         "line": {
          "color": "rgba(255,255,255,0)"
         },
         "marker": {
          "color": "#636efa",
          "size": 15,
          "symbol": "square"
         },
         "name": "HPE",
         "offsetgroup": "HPE",
         "orientation": "h",
         "pointpos": 0,
         "showlegend": true,
         "type": "box",
         "x": {
          "bdata": "Q1N2+kEdHkA=",
          "dtype": "f8"
         },
         "x0": " ",
         "xaxis": "x13",
         "y": [
          "HPE"
         ],
         "y0": " ",
         "yaxis": "y13"
        },
        {
         "alignmentgroup": "True",
         "boxpoints": "all",
         "fillcolor": "rgba(255,255,255,0)",
         "hoveron": "points",
         "hovertemplate": "Ticker=%{y}<br>Metric=Price-to-Book<br>Value=%{x}<extra></extra>",
         "legendgroup": "HPE",
         "line": {
          "color": "rgba(255,255,255,0)"
         },
         "marker": {
          "color": "#636efa",
          "size": 15,
          "symbol": "square"
         },
         "name": "HPE",
         "offsetgroup": "HPE",
         "orientation": "h",
         "pointpos": 0,
         "showlegend": false,
         "type": "box",
         "x": {
          "bdata": "mZhw4LxV6j8=",
          "dtype": "f8"
         },
         "x0": " ",
         "xaxis": "x14",
         "y": [
          "HPE"
         ],
         "y0": " ",
         "yaxis": "y14"
        },
        {
         "alignmentgroup": "True",
         "boxpoints": "all",
         "fillcolor": "rgba(255,255,255,0)",
         "hoveron": "points",
         "hovertemplate": "Ticker=%{y}<br>Metric=EPS (TTM)<br>Value=%{x}<extra></extra>",
         "legendgroup": "HPE",
         "line": {
          "color": "rgba(255,255,255,0)"
         },
         "marker": {
          "color": "#636efa",
          "size": 15,
          "symbol": "square"
         },
         "name": "HPE",
         "offsetgroup": "HPE",
         "orientation": "h",
         "pointpos": 0,
         "showlegend": false,
         "type": "box",
         "x": {
          "bdata": "pHA9CtejAEA=",
          "dtype": "f8"
         },
         "x0": " ",
         "xaxis": "x15",
         "y": [
          "HPE"
         ],
         "y0": " ",
         "yaxis": "y15"
        },
        {
         "alignmentgroup": "True",
         "boxpoints": "all",
         "fillcolor": "rgba(255,255,255,0)",
         "hoveron": "points",
         "hovertemplate": "Ticker=%{y}<br>Metric=Debt-to-Equity<br>Value=%{x}<extra></extra>",
         "legendgroup": "HPE",
         "line": {
          "color": "rgba(255,255,255,0)"
         },
         "marker": {
          "color": "#636efa",
          "size": 15,
          "symbol": "square"
         },
         "name": "HPE",
         "offsetgroup": "HPE",
         "orientation": "h",
         "pointpos": 0,
         "showlegend": false,
         "type": "box",
         "x": {
          "bdata": "PQrXo3CtUUA=",
          "dtype": "f8"
         },
         "x0": " ",
         "xaxis": "x10",
         "y": [
          "HPE"
         ],
         "y0": " ",
         "yaxis": "y10"
        },
        {
         "alignmentgroup": "True",
         "boxpoints": "all",
         "fillcolor": "rgba(255,255,255,0)",
         "hoveron": "points",
         "hovertemplate": "Ticker=%{y}<br>Metric=Market Cap<br>Value=%{x}<extra></extra>",
         "legendgroup": "HPE",
         "line": {
          "color": "rgba(255,255,255,0)"
         },
         "marker": {
          "color": "#636efa",
          "size": 15,
          "symbol": "square"
         },
         "name": "HPE",
         "offsetgroup": "HPE",
         "orientation": "h",
         "pointpos": 0,
         "showlegend": false,
         "type": "box",
         "x": {
          "bdata": "AAAA4GdXE0I=",
          "dtype": "f8"
         },
         "x0": " ",
         "xaxis": "x11",
         "y": [
          "HPE"
         ],
         "y0": " ",
         "yaxis": "y11"
        },
        {
         "alignmentgroup": "True",
         "boxpoints": "all",
         "fillcolor": "rgba(255,255,255,0)",
         "hoveron": "points",
         "hovertemplate": "Ticker=%{y}<br>Metric=Total Revenue<br>Value=%{x}<extra></extra>",
         "legendgroup": "HPE",
         "line": {
          "color": "rgba(255,255,255,0)"
         },
         "marker": {
          "color": "#636efa",
          "size": 15,
          "symbol": "square"
         },
         "name": "HPE",
         "offsetgroup": "HPE",
         "orientation": "h",
         "pointpos": 0,
         "showlegend": false,
         "type": "box",
         "x": {
          "bdata": "AAAAwNsUHUI=",
          "dtype": "f8"
         },
         "x0": " ",
         "xaxis": "x12",
         "y": [
          "HPE"
         ],
         "y0": " ",
         "yaxis": "y12"
        },
        {
         "alignmentgroup": "True",
         "boxpoints": "all",
         "fillcolor": "rgba(255,255,255,0)",
         "hoveron": "points",
         "hovertemplate": "Ticker=%{y}<br>Metric=Price-to-Sales<br>Value=%{x}<extra></extra>",
         "legendgroup": "HPE",
         "line": {
          "color": "rgba(255,255,255,0)"
         },
         "marker": {
          "color": "#636efa",
          "size": 15,
          "symbol": "square"
         },
         "name": "HPE",
         "offsetgroup": "HPE",
         "orientation": "h",
         "pointpos": 0,
         "showlegend": false,
         "type": "box",
         "x": {
          "bdata": "ihbq+k9I5T8=",
          "dtype": "f8"
         },
         "x0": " ",
         "xaxis": "x7",
         "y": [
          "HPE"
         ],
         "y0": " ",
         "yaxis": "y7"
        },
        {
         "alignmentgroup": "True",
         "boxpoints": "all",
         "fillcolor": "rgba(255,255,255,0)",
         "hoveron": "points",
         "hovertemplate": "Ticker=%{y}<br>Metric=Profit Margin<br>Value=%{x}<extra></extra>",
         "legendgroup": "HPE",
         "line": {
          "color": "rgba(255,255,255,0)"
         },
         "marker": {
          "color": "#636efa",
          "size": 15,
          "symbol": "square"
         },
         "name": "HPE",
         "offsetgroup": "HPE",
         "orientation": "h",
         "pointpos": 0,
         "showlegend": false,
         "type": "box",
         "x": {
          "bdata": "Bp57D5cctz8=",
          "dtype": "f8"
         },
         "x0": " ",
         "xaxis": "x8",
         "y": [
          "HPE"
         ],
         "y0": " ",
         "yaxis": "y8"
        },
        {
         "alignmentgroup": "True",
         "boxpoints": "all",
         "fillcolor": "rgba(255,255,255,0)",
         "hoveron": "points",
         "hovertemplate": "Ticker=%{y}<br>Metric=Return on Equity<br>Value=%{x}<extra></extra>",
         "legendgroup": "HPE",
         "line": {
          "color": "rgba(255,255,255,0)"
         },
         "marker": {
          "color": "#636efa",
          "size": 15,
          "symbol": "square"
         },
         "name": "HPE",
         "offsetgroup": "HPE",
         "orientation": "h",
         "pointpos": 0,
         "showlegend": false,
         "type": "box",
         "x": {
          "bdata": "4ebYaqTfvj8=",
          "dtype": "f8"
         },
         "x0": " ",
         "xaxis": "x9",
         "y": [
          "HPE"
         ],
         "y0": " ",
         "yaxis": "y9"
        },
        {
         "alignmentgroup": "True",
         "boxpoints": "all",
         "fillcolor": "rgba(255,255,255,0)",
         "hoveron": "points",
         "hovertemplate": "Ticker=%{y}<br>Metric=Earnings Growth<br>Value=%{x}<extra></extra>",
         "legendgroup": "HPE",
         "line": {
          "color": "rgba(255,255,255,0)"
         },
         "marker": {
          "color": "#636efa",
          "size": 15,
          "symbol": "square"
         },
         "name": "HPE",
         "offsetgroup": "HPE",
         "orientation": "h",
         "pointpos": 0,
         "showlegend": false,
         "type": "box",
         "x": {
          "bdata": "SgwCK4cW4T8=",
          "dtype": "f8"
         },
         "x0": " ",
         "xaxis": "x4",
         "y": [
          "HPE"
         ],
         "y0": " ",
         "yaxis": "y4"
        },
        {
         "alignmentgroup": "True",
         "boxpoints": "all",
         "fillcolor": "rgba(255,255,255,0)",
         "hoveron": "points",
         "hovertemplate": "Ticker=%{y}<br>Metric=Revenue Growth<br>Value=%{x}<extra></extra>",
         "legendgroup": "HPE",
         "line": {
          "color": "rgba(255,255,255,0)"
         },
         "marker": {
          "color": "#636efa",
          "size": 15,
          "symbol": "square"
         },
         "name": "HPE",
         "offsetgroup": "HPE",
         "orientation": "h",
         "pointpos": 0,
         "showlegend": false,
         "type": "box",
         "x": {
          "bdata": "d76fGi/dxD8=",
          "dtype": "f8"
         },
         "x0": " ",
         "xaxis": "x5",
         "y": [
          "HPE"
         ],
         "y0": " ",
         "yaxis": "y5"
        },
        {
         "alignmentgroup": "True",
         "boxpoints": "all",
         "fillcolor": "rgba(255,255,255,0)",
         "hoveron": "points",
         "hovertemplate": "Ticker=%{y}<br>Metric=Total Cash<br>Value=%{x}<extra></extra>",
         "legendgroup": "HPE",
         "line": {
          "color": "rgba(255,255,255,0)"
         },
         "marker": {
          "color": "#636efa",
          "size": 15,
          "symbol": "square"
         },
         "name": "HPE",
         "offsetgroup": "HPE",
         "orientation": "h",
         "pointpos": 0,
         "showlegend": false,
         "type": "box",
         "x": {
          "bdata": "AAAAYGYECUI=",
          "dtype": "f8"
         },
         "x0": " ",
         "xaxis": "x6",
         "y": [
          "HPE"
         ],
         "y0": " ",
         "yaxis": "y6"
        },
        {
         "alignmentgroup": "True",
         "boxpoints": "all",
         "fillcolor": "rgba(255,255,255,0)",
         "hoveron": "points",
         "hovertemplate": "Ticker=%{y}<br>Metric=Total Debt<br>Value=%{x}<extra></extra>",
         "legendgroup": "HPE",
         "line": {
          "color": "rgba(255,255,255,0)"
         },
         "marker": {
          "color": "#636efa",
          "size": 15,
          "symbol": "square"
         },
         "name": "HPE",
         "offsetgroup": "HPE",
         "orientation": "h",
         "pointpos": 0,
         "showlegend": false,
         "type": "box",
         "x": {
          "bdata": "AAAAgDWmEEI=",
          "dtype": "f8"
         },
         "x0": " ",
         "xaxis": "x",
         "y": [
          "HPE"
         ],
         "y0": " ",
         "yaxis": "y"
        },
        {
         "alignmentgroup": "True",
         "boxpoints": "all",
         "fillcolor": "rgba(255,255,255,0)",
         "hoveron": "points",
         "hovertemplate": "Ticker=%{y}<br>Metric=Book Value<br>Value=%{x}<extra></extra>",
         "legendgroup": "HPE",
         "line": {
          "color": "rgba(255,255,255,0)"
         },
         "marker": {
          "color": "#636efa",
          "size": 15,
          "symbol": "square"
         },
         "name": "HPE",
         "offsetgroup": "HPE",
         "orientation": "h",
         "pointpos": 0,
         "showlegend": false,
         "type": "box",
         "x": {
          "bdata": "vHSTGAQ2M0A=",
          "dtype": "f8"
         },
         "x0": " ",
         "xaxis": "x2",
         "y": [
          "HPE"
         ],
         "y0": " ",
         "yaxis": "y2"
        },
        {
         "alignmentgroup": "True",
         "boxpoints": "all",
         "fillcolor": "rgba(255,255,255,0)",
         "hoveron": "points",
         "hovertemplate": "Ticker=%{y}<br>Metric=P/E Ratio<br>Value=%{x}<extra></extra>",
         "legendgroup": "HPE",
         "line": {
          "color": "rgba(255,255,255,0)"
         },
         "marker": {
          "color": "#636efa",
          "size": 15,
          "symbol": "square"
         },
         "name": "HPE",
         "offsetgroup": "HPE",
         "orientation": "h",
         "pointpos": 0,
         "showlegend": false,
         "type": "box",
         "x": {
          "bdata": "Ezuxg2JnHkA=",
          "dtype": "f8"
         },
         "x0": " ",
         "xaxis": "x3",
         "y": [
          "HPE"
         ],
         "y0": " ",
         "yaxis": "y3"
        },
        {
         "alignmentgroup": "True",
         "boxpoints": "all",
         "fillcolor": "rgba(255,255,255,0)",
         "hoveron": "points",
         "hovertemplate": "Ticker=%{y}<br>Metric=Forward P/E<br>Value=%{x}<extra></extra>",
         "legendgroup": "MSI",
         "line": {
          "color": "rgba(255,255,255,0)"
         },
         "marker": {
          "color": "#EF553B",
          "size": 15,
          "symbol": "square"
         },
         "name": "MSI",
         "offsetgroup": "MSI",
         "orientation": "h",
         "pointpos": 0,
         "showlegend": true,
         "type": "box",
         "x": {
          "bdata": "hJ7Nqs/NPEA=",
          "dtype": "f8"
         },
         "x0": " ",
         "xaxis": "x13",
         "y": [
          "MSI"
         ],
         "y0": " ",
         "yaxis": "y13"
        },
        {
         "alignmentgroup": "True",
         "boxpoints": "all",
         "fillcolor": "rgba(255,255,255,0)",
         "hoveron": "points",
         "hovertemplate": "Ticker=%{y}<br>Metric=Price-to-Book<br>Value=%{x}<extra></extra>",
         "legendgroup": "MSI",
         "line": {
          "color": "rgba(255,255,255,0)"
         },
         "marker": {
          "color": "#EF553B",
          "size": 15,
          "symbol": "square"
         },
         "name": "MSI",
         "offsetgroup": "MSI",
         "orientation": "h",
         "pointpos": 0,
         "showlegend": false,
         "type": "box",
         "x": {
          "bdata": "TyLCvwjCREA=",
          "dtype": "f8"
         },
         "x0": " ",
         "xaxis": "x14",
         "y": [
          "MSI"
         ],
         "y0": " ",
         "yaxis": "y14"
        },
        {
         "alignmentgroup": "True",
         "boxpoints": "all",
         "fillcolor": "rgba(255,255,255,0)",
         "hoveron": "points",
         "hovertemplate": "Ticker=%{y}<br>Metric=EPS (TTM)<br>Value=%{x}<extra></extra>",
         "legendgroup": "MSI",
         "line": {
          "color": "rgba(255,255,255,0)"
         },
         "marker": {
          "color": "#EF553B",
          "size": 15,
          "symbol": "square"
         },
         "name": "MSI",
         "offsetgroup": "MSI",
         "orientation": "h",
         "pointpos": 0,
         "showlegend": false,
         "type": "box",
         "x": {
          "bdata": "cT0K16NwIkA=",
          "dtype": "f8"
         },
         "x0": " ",
         "xaxis": "x15",
         "y": [
          "MSI"
         ],
         "y0": " ",
         "yaxis": "y15"
        },
        {
         "alignmentgroup": "True",
         "boxpoints": "all",
         "fillcolor": "rgba(255,255,255,0)",
         "hoveron": "points",
         "hovertemplate": "Ticker=%{y}<br>Metric=Debt-to-Equity<br>Value=%{x}<extra></extra>",
         "legendgroup": "MSI",
         "line": {
          "color": "rgba(255,255,255,0)"
         },
         "marker": {
          "color": "#EF553B",
          "size": 15,
          "symbol": "square"
         },
         "name": "MSI",
         "offsetgroup": "MSI",
         "orientation": "h",
         "pointpos": 0,
         "showlegend": false,
         "type": "box",
         "x": {
          "bdata": "L90kBoHRd0A=",
          "dtype": "f8"
         },
         "x0": " ",
         "xaxis": "x10",
         "y": [
          "MSI"
         ],
         "y0": " ",
         "yaxis": "y10"
        },
        {
         "alignmentgroup": "True",
         "boxpoints": "all",
         "fillcolor": "rgba(255,255,255,0)",
         "hoveron": "points",
         "hovertemplate": "Ticker=%{y}<br>Metric=Market Cap<br>Value=%{x}<extra></extra>",
         "legendgroup": "MSI",
         "line": {
          "color": "rgba(255,255,255,0)"
         },
         "marker": {
          "color": "#EF553B",
          "size": 15,
          "symbol": "square"
         },
         "name": "MSI",
         "offsetgroup": "MSI",
         "orientation": "h",
         "pointpos": 0,
         "showlegend": false,
         "type": "box",
         "x": {
          "bdata": "AAAAoDxyMEI=",
          "dtype": "f8"
         },
         "x0": " ",
         "xaxis": "x11",
         "y": [
          "MSI"
         ],
         "y0": " ",
         "yaxis": "y11"
        },
        {
         "alignmentgroup": "True",
         "boxpoints": "all",
         "fillcolor": "rgba(255,255,255,0)",
         "hoveron": "points",
         "hovertemplate": "Ticker=%{y}<br>Metric=Total Revenue<br>Value=%{x}<extra></extra>",
         "legendgroup": "MSI",
         "line": {
          "color": "rgba(255,255,255,0)"
         },
         "marker": {
          "color": "#EF553B",
          "size": 15,
          "symbol": "square"
         },
         "name": "MSI",
         "offsetgroup": "MSI",
         "orientation": "h",
         "pointpos": 0,
         "showlegend": false,
         "type": "box",
         "x": {
          "bdata": "AAAAoPIlBEI=",
          "dtype": "f8"
         },
         "x0": " ",
         "xaxis": "x12",
         "y": [
          "MSI"
         ],
         "y0": " ",
         "yaxis": "y12"
        },
        {
         "alignmentgroup": "True",
         "boxpoints": "all",
         "fillcolor": "rgba(255,255,255,0)",
         "hoveron": "points",
         "hovertemplate": "Ticker=%{y}<br>Metric=Price-to-Sales<br>Value=%{x}<extra></extra>",
         "legendgroup": "MSI",
         "line": {
          "color": "rgba(255,255,255,0)"
         },
         "marker": {
          "color": "#EF553B",
          "size": 15,
          "symbol": "square"
         },
         "name": "MSI",
         "offsetgroup": "MSI",
         "orientation": "h",
         "pointpos": 0,
         "showlegend": false,
         "type": "box",
         "x": {
          "bdata": "MPZefNEeGkA=",
          "dtype": "f8"
         },
         "x0": " ",
         "xaxis": "x7",
         "y": [
          "MSI"
         ],
         "y0": " ",
         "yaxis": "y7"
        },
        {
         "alignmentgroup": "True",
         "boxpoints": "all",
         "fillcolor": "rgba(255,255,255,0)",
         "hoveron": "points",
         "hovertemplate": "Ticker=%{y}<br>Metric=Profit Margin<br>Value=%{x}<extra></extra>",
         "legendgroup": "MSI",
         "line": {
          "color": "rgba(255,255,255,0)"
         },
         "marker": {
          "color": "#EF553B",
          "size": 15,
          "symbol": "square"
         },
         "name": "MSI",
         "offsetgroup": "MSI",
         "orientation": "h",
         "pointpos": 0,
         "showlegend": false,
         "type": "box",
         "x": {
          "bdata": "J0qEPj+pwj8=",
          "dtype": "f8"
         },
         "x0": " ",
         "xaxis": "x8",
         "y": [
          "MSI"
         ],
         "y0": " ",
         "yaxis": "y8"
        },
        {
         "alignmentgroup": "True",
         "boxpoints": "all",
         "fillcolor": "rgba(255,255,255,0)",
         "hoveron": "points",
         "hovertemplate": "Ticker=%{y}<br>Metric=Return on Equity<br>Value=%{x}<extra></extra>",
         "legendgroup": "MSI",
         "line": {
          "color": "rgba(255,255,255,0)"
         },
         "marker": {
          "color": "#EF553B",
          "size": 15,
          "symbol": "square"
         },
         "name": "MSI",
         "offsetgroup": "MSI",
         "orientation": "h",
         "pointpos": 0,
         "showlegend": false,
         "type": "box",
         "x": {
          "bdata": "nOEGfH6Y9D8=",
          "dtype": "f8"
         },
         "x0": " ",
         "xaxis": "x9",
         "y": [
          "MSI"
         ],
         "y0": " ",
         "yaxis": "y9"
        },
        {
         "alignmentgroup": "True",
         "boxpoints": "all",
         "fillcolor": "rgba(255,255,255,0)",
         "hoveron": "points",
         "hovertemplate": "Ticker=%{y}<br>Metric=Earnings Growth<br>Value=%{x}<extra></extra>",
         "legendgroup": "MSI",
         "line": {
          "color": "rgba(255,255,255,0)"
         },
         "marker": {
          "color": "#EF553B",
          "size": 15,
          "symbol": "square"
         },
         "name": "MSI",
         "offsetgroup": "MSI",
         "orientation": "h",
         "pointpos": 0,
         "showlegend": false,
         "type": "box",
         "x": {
          "bdata": "mpmZmZmZmT8=",
          "dtype": "f8"
         },
         "x0": " ",
         "xaxis": "x4",
         "y": [
          "MSI"
         ],
         "y0": " ",
         "yaxis": "y4"
        },
        {
         "alignmentgroup": "True",
         "boxpoints": "all",
         "fillcolor": "rgba(255,255,255,0)",
         "hoveron": "points",
         "hovertemplate": "Ticker=%{y}<br>Metric=Revenue Growth<br>Value=%{x}<extra></extra>",
         "legendgroup": "MSI",
         "line": {
          "color": "rgba(255,255,255,0)"
         },
         "marker": {
          "color": "#EF553B",
          "size": 15,
          "symbol": "square"
         },
         "name": "MSI",
         "offsetgroup": "MSI",
         "orientation": "h",
         "pointpos": 0,
         "showlegend": false,
         "type": "box",
         "x": {
          "bdata": "yXa+nxovrT8=",
          "dtype": "f8"
         },
         "x0": " ",
         "xaxis": "x5",
         "y": [
          "MSI"
         ],
         "y0": " ",
         "yaxis": "y5"
        },
        {
         "alignmentgroup": "True",
         "boxpoints": "all",
         "fillcolor": "rgba(255,255,255,0)",
         "hoveron": "points",
         "hovertemplate": "Ticker=%{y}<br>Metric=Total Cash<br>Value=%{x}<extra></extra>",
         "legendgroup": "MSI",
         "line": {
          "color": "rgba(255,255,255,0)"
         },
         "marker": {
          "color": "#EF553B",
          "size": 15,
          "symbol": "square"
         },
         "name": "MSI",
         "offsetgroup": "MSI",
         "orientation": "h",
         "pointpos": 0,
         "showlegend": false,
         "type": "box",
         "x": {
          "bdata": "AAAAYH5S30E=",
          "dtype": "f8"
         },
         "x0": " ",
         "xaxis": "x6",
         "y": [
          "MSI"
         ],
         "y0": " ",
         "yaxis": "y6"
        },
        {
         "alignmentgroup": "True",
         "boxpoints": "all",
         "fillcolor": "rgba(255,255,255,0)",
         "hoveron": "points",
         "hovertemplate": "Ticker=%{y}<br>Metric=Total Debt<br>Value=%{x}<extra></extra>",
         "legendgroup": "MSI",
         "line": {
          "color": "rgba(255,255,255,0)"
         },
         "marker": {
          "color": "#EF553B",
          "size": 15,
          "symbol": "square"
         },
         "name": "MSI",
         "offsetgroup": "MSI",
         "orientation": "h",
         "pointpos": 0,
         "showlegend": false,
         "type": "box",
         "x": {
          "bdata": "AAAAQIVn+EE=",
          "dtype": "f8"
         },
         "x0": " ",
         "xaxis": "x",
         "y": [
          "MSI"
         ],
         "y0": " ",
         "yaxis": "y"
        },
        {
         "alignmentgroup": "True",
         "boxpoints": "all",
         "fillcolor": "rgba(255,255,255,0)",
         "hoveron": "points",
         "hovertemplate": "Ticker=%{y}<br>Metric=Book Value<br>Value=%{x}<extra></extra>",
         "legendgroup": "MSI",
         "line": {
          "color": "rgba(255,255,255,0)"
         },
         "marker": {
          "color": "#EF553B",
          "size": 15,
          "symbol": "square"
         },
         "name": "MSI",
         "offsetgroup": "MSI",
         "orientation": "h",
         "pointpos": 0,
         "showlegend": false,
         "type": "box",
         "x": {
          "bdata": "/Knx0k1iJEA=",
          "dtype": "f8"
         },
         "x0": " ",
         "xaxis": "x2",
         "y": [
          "MSI"
         ],
         "y0": " ",
         "yaxis": "y2"
        },
        {
         "alignmentgroup": "True",
         "boxpoints": "all",
         "fillcolor": "rgba(255,255,255,0)",
         "hoveron": "points",
         "hovertemplate": "Ticker=%{y}<br>Metric=P/E Ratio<br>Value=%{x}<extra></extra>",
         "legendgroup": "MSI",
         "line": {
          "color": "rgba(255,255,255,0)"
         },
         "marker": {
          "color": "#EF553B",
          "size": 15,
          "symbol": "square"
         },
         "name": "MSI",
         "offsetgroup": "MSI",
         "orientation": "h",
         "pointpos": 0,
         "showlegend": false,
         "type": "box",
         "x": {
          "bdata": "aUpii0HyRkA=",
          "dtype": "f8"
         },
         "x0": " ",
         "xaxis": "x3",
         "y": [
          "MSI"
         ],
         "y0": " ",
         "yaxis": "y3"
        },
        {
         "alignmentgroup": "True",
         "boxpoints": "all",
         "fillcolor": "rgba(255,255,255,0)",
         "hoveron": "points",
         "hovertemplate": "Ticker=%{y}<br>Metric=Forward P/E<br>Value=%{x}<extra></extra>",
         "legendgroup": "FFIV",
         "line": {
          "color": "rgba(255,255,255,0)"
         },
         "marker": {
          "color": "#00cc96",
          "size": 15,
          "symbol": "square"
         },
         "name": "FFIV",
         "offsetgroup": "FFIV",
         "orientation": "h",
         "pointpos": 0,
         "showlegend": true,
         "type": "box",
         "x": {
          "bdata": "fhtivOblMUA=",
          "dtype": "f8"
         },
         "x0": " ",
         "xaxis": "x13",
         "y": [
          "FFIV"
         ],
         "y0": " ",
         "yaxis": "y13"
        },
        {
         "alignmentgroup": "True",
         "boxpoints": "all",
         "fillcolor": "rgba(255,255,255,0)",
         "hoveron": "points",
         "hovertemplate": "Ticker=%{y}<br>Metric=Price-to-Book<br>Value=%{x}<extra></extra>",
         "legendgroup": "FFIV",
         "line": {
          "color": "rgba(255,255,255,0)"
         },
         "marker": {
          "color": "#00cc96",
          "size": 15,
          "symbol": "square"
         },
         "name": "FFIV",
         "offsetgroup": "FFIV",
         "orientation": "h",
         "pointpos": 0,
         "showlegend": false,
         "type": "box",
         "x": {
          "bdata": "UX2MXrLOE0A=",
          "dtype": "f8"
         },
         "x0": " ",
         "xaxis": "x14",
         "y": [
          "FFIV"
         ],
         "y0": " ",
         "yaxis": "y14"
        },
        {
         "alignmentgroup": "True",
         "boxpoints": "all",
         "fillcolor": "rgba(255,255,255,0)",
         "hoveron": "points",
         "hovertemplate": "Ticker=%{y}<br>Metric=EPS (TTM)<br>Value=%{x}<extra></extra>",
         "legendgroup": "FFIV",
         "line": {
          "color": "rgba(255,255,255,0)"
         },
         "marker": {
          "color": "#00cc96",
          "size": 15,
          "symbol": "square"
         },
         "name": "FFIV",
         "offsetgroup": "FFIV",
         "orientation": "h",
         "pointpos": 0,
         "showlegend": false,
         "type": "box",
         "x": {
          "bdata": "FK5H4XoUJEA=",
          "dtype": "f8"
         },
         "x0": " ",
         "xaxis": "x15",
         "y": [
          "FFIV"
         ],
         "y0": " ",
         "yaxis": "y15"
        },
        {
         "alignmentgroup": "True",
         "boxpoints": "all",
         "fillcolor": "rgba(255,255,255,0)",
         "hoveron": "points",
         "hovertemplate": "Ticker=%{y}<br>Metric=Debt-to-Equity<br>Value=%{x}<extra></extra>",
         "legendgroup": "FFIV",
         "line": {
          "color": "rgba(255,255,255,0)"
         },
         "marker": {
          "color": "#00cc96",
          "size": 15,
          "symbol": "square"
         },
         "name": "FFIV",
         "offsetgroup": "FFIV",
         "orientation": "h",
         "pointpos": 0,
         "showlegend": false,
         "type": "box",
         "x": {
          "bdata": "2/l+arz0IEA=",
          "dtype": "f8"
         },
         "x0": " ",
         "xaxis": "x10",
         "y": [
          "FFIV"
         ],
         "y0": " ",
         "yaxis": "y10"
        },
        {
         "alignmentgroup": "True",
         "boxpoints": "all",
         "fillcolor": "rgba(255,255,255,0)",
         "hoveron": "points",
         "hovertemplate": "Ticker=%{y}<br>Metric=Market Cap<br>Value=%{x}<extra></extra>",
         "legendgroup": "FFIV",
         "line": {
          "color": "rgba(255,255,255,0)"
         },
         "marker": {
          "color": "#00cc96",
          "size": 15,
          "symbol": "square"
         },
         "name": "FFIV",
         "offsetgroup": "FFIV",
         "orientation": "h",
         "pointpos": 0,
         "showlegend": false,
         "type": "box",
         "x": {
          "bdata": "AAAAIEeZDUI=",
          "dtype": "f8"
         },
         "x0": " ",
         "xaxis": "x11",
         "y": [
          "FFIV"
         ],
         "y0": " ",
         "yaxis": "y11"
        },
        {
         "alignmentgroup": "True",
         "boxpoints": "all",
         "fillcolor": "rgba(255,255,255,0)",
         "hoveron": "points",
         "hovertemplate": "Ticker=%{y}<br>Metric=Total Revenue<br>Value=%{x}<extra></extra>",
         "legendgroup": "FFIV",
         "line": {
          "color": "rgba(255,255,255,0)"
         },
         "marker": {
          "color": "#00cc96",
          "size": 15,
          "symbol": "square"
         },
         "name": "FFIV",
         "offsetgroup": "FFIV",
         "orientation": "h",
         "pointpos": 0,
         "showlegend": false,
         "type": "box",
         "x": {
          "bdata": "AAAAoEKI5UE=",
          "dtype": "f8"
         },
         "x0": " ",
         "xaxis": "x12",
         "y": [
          "FFIV"
         ],
         "y0": " ",
         "yaxis": "y12"
        },
        {
         "alignmentgroup": "True",
         "boxpoints": "all",
         "fillcolor": "rgba(255,255,255,0)",
         "hoveron": "points",
         "hovertemplate": "Ticker=%{y}<br>Metric=Price-to-Sales<br>Value=%{x}<extra></extra>",
         "legendgroup": "FFIV",
         "line": {
          "color": "rgba(255,255,255,0)"
         },
         "marker": {
          "color": "#00cc96",
          "size": 15,
          "symbol": "square"
         },
         "name": "FFIV",
         "offsetgroup": "FFIV",
         "orientation": "h",
         "pointpos": 0,
         "showlegend": false,
         "type": "box",
         "x": {
          "bdata": "vma5bHT+FUA=",
          "dtype": "f8"
         },
         "x0": " ",
         "xaxis": "x7",
         "y": [
          "FFIV"
         ],
         "y0": " ",
         "yaxis": "y7"
        },
        {
         "alignmentgroup": "True",
         "boxpoints": "all",
         "fillcolor": "rgba(255,255,255,0)",
         "hoveron": "points",
         "hovertemplate": "Ticker=%{y}<br>Metric=Profit Margin<br>Value=%{x}<extra></extra>",
         "legendgroup": "FFIV",
         "line": {
          "color": "rgba(255,255,255,0)"
         },
         "marker": {
          "color": "#00cc96",
          "size": 15,
          "symbol": "square"
         },
         "name": "FFIV",
         "offsetgroup": "FFIV",
         "orientation": "h",
         "pointpos": 0,
         "showlegend": false,
         "type": "box",
         "x": {
          "bdata": "DCC+RKNYyj8=",
          "dtype": "f8"
         },
         "x0": " ",
         "xaxis": "x8",
         "y": [
          "FFIV"
         ],
         "y0": " ",
         "yaxis": "y8"
        },
        {
         "alignmentgroup": "True",
         "boxpoints": "all",
         "fillcolor": "rgba(255,255,255,0)",
         "hoveron": "points",
         "hovertemplate": "Ticker=%{y}<br>Metric=Return on Equity<br>Value=%{x}<extra></extra>",
         "legendgroup": "FFIV",
         "line": {
          "color": "rgba(255,255,255,0)"
         },
         "marker": {
          "color": "#00cc96",
          "size": 15,
          "symbol": "square"
         },
         "name": "FFIV",
         "offsetgroup": "FFIV",
         "orientation": "h",
         "pointpos": 0,
         "showlegend": false,
         "type": "box",
         "x": {
          "bdata": "J/c7FAX6yD8=",
          "dtype": "f8"
         },
         "x0": " ",
         "xaxis": "x9",
         "y": [
          "FFIV"
         ],
         "y0": " ",
         "yaxis": "y9"
        },
        {
         "alignmentgroup": "True",
         "boxpoints": "all",
         "fillcolor": "rgba(255,255,255,0)",
         "hoveron": "points",
         "hovertemplate": "Ticker=%{y}<br>Metric=Earnings Growth<br>Value=%{x}<extra></extra>",
         "legendgroup": "FFIV",
         "line": {
          "color": "rgba(255,255,255,0)"
         },
         "marker": {
          "color": "#00cc96",
          "size": 15,
          "symbol": "square"
         },
         "name": "FFIV",
         "offsetgroup": "FFIV",
         "orientation": "h",
         "pointpos": 0,
         "showlegend": false,
         "type": "box",
         "x": {
          "bdata": "2c73U+Olyz8=",
          "dtype": "f8"
         },
         "x0": " ",
         "xaxis": "x4",
         "y": [
          "FFIV"
         ],
         "y0": " ",
         "yaxis": "y4"
        },
        {
         "alignmentgroup": "True",
         "boxpoints": "all",
         "fillcolor": "rgba(255,255,255,0)",
         "hoveron": "points",
         "hovertemplate": "Ticker=%{y}<br>Metric=Revenue Growth<br>Value=%{x}<extra></extra>",
         "legendgroup": "FFIV",
         "line": {
          "color": "rgba(255,255,255,0)"
         },
         "marker": {
          "color": "#00cc96",
          "size": 15,
          "symbol": "square"
         },
         "name": "FFIV",
         "offsetgroup": "FFIV",
         "orientation": "h",
         "pointpos": 0,
         "showlegend": false,
         "type": "box",
         "x": {
          "bdata": "MQisHFpkuz8=",
          "dtype": "f8"
         },
         "x0": " ",
         "xaxis": "x5",
         "y": [
          "FFIV"
         ],
         "y0": " ",
         "yaxis": "y5"
        },
        {
         "alignmentgroup": "True",
         "boxpoints": "all",
         "fillcolor": "rgba(255,255,255,0)",
         "hoveron": "points",
         "hovertemplate": "Ticker=%{y}<br>Metric=Total Cash<br>Value=%{x}<extra></extra>",
         "legendgroup": "FFIV",
         "line": {
          "color": "rgba(255,255,255,0)"
         },
         "marker": {
          "color": "#00cc96",
          "size": 15,
          "symbol": "square"
         },
         "name": "FFIV",
         "offsetgroup": "FFIV",
         "orientation": "h",
         "pointpos": 0,
         "showlegend": false,
         "type": "box",
         "x": {
          "bdata": "AAAAoFwm0UE=",
          "dtype": "f8"
         },
         "x0": " ",
         "xaxis": "x6",
         "y": [
          "FFIV"
         ],
         "y0": " ",
         "yaxis": "y6"
        },
        {
         "alignmentgroup": "True",
         "boxpoints": "all",
         "fillcolor": "rgba(255,255,255,0)",
         "hoveron": "points",
         "hovertemplate": "Ticker=%{y}<br>Metric=Total Debt<br>Value=%{x}<extra></extra>",
         "legendgroup": "FFIV",
         "line": {
          "color": "rgba(255,255,255,0)"
         },
         "marker": {
          "color": "#00cc96",
          "size": 15,
          "symbol": "square"
         },
         "name": "FFIV",
         "offsetgroup": "FFIV",
         "orientation": "h",
         "pointpos": 0,
         "showlegend": false,
         "type": "box",
         "x": {
          "bdata": "AAAAINpZsEE=",
          "dtype": "f8"
         },
         "x0": " ",
         "xaxis": "x",
         "y": [
          "FFIV"
         ],
         "y0": " ",
         "yaxis": "y"
        },
        {
         "alignmentgroup": "True",
         "boxpoints": "all",
         "fillcolor": "rgba(255,255,255,0)",
         "hoveron": "points",
         "hovertemplate": "Ticker=%{y}<br>Metric=Book Value<br>Value=%{x}<extra></extra>",
         "legendgroup": "FFIV",
         "line": {
          "color": "rgba(255,255,255,0)"
         },
         "marker": {
          "color": "#00cc96",
          "size": 15,
          "symbol": "square"
         },
         "name": "FFIV",
         "offsetgroup": "FFIV",
         "orientation": "h",
         "pointpos": 0,
         "showlegend": false,
         "type": "box",
         "x": {
          "bdata": "2/l+arzUS0A=",
          "dtype": "f8"
         },
         "x0": " ",
         "xaxis": "x2",
         "y": [
          "FFIV"
         ],
         "y0": " ",
         "yaxis": "y2"
        },
        {
         "alignmentgroup": "True",
         "boxpoints": "all",
         "fillcolor": "rgba(255,255,255,0)",
         "hoveron": "points",
         "hovertemplate": "Ticker=%{y}<br>Metric=P/E Ratio<br>Value=%{x}<extra></extra>",
         "legendgroup": "FFIV",
         "line": {
          "color": "rgba(255,255,255,0)"
         },
         "marker": {
          "color": "#00cc96",
          "size": 15,
          "symbol": "square"
         },
         "name": "FFIV",
         "offsetgroup": "FFIV",
         "orientation": "h",
         "pointpos": 0,
         "showlegend": false,
         "type": "box",
         "x": {
          "bdata": "8smOHAR0O0A=",
          "dtype": "f8"
         },
         "x0": " ",
         "xaxis": "x3",
         "y": [
          "FFIV"
         ],
         "y0": " ",
         "yaxis": "y3"
        }
       ],
       "layout": {
        "annotations": [
         {
          "font": {
           "size": 15
          },
          "showarrow": false,
          "text": "Metric=Total Debt",
          "x": 0.15999999999999998,
          "xanchor": "center",
          "xref": "paper",
          "y": 0.144,
          "yanchor": "bottom",
          "yref": "paper"
         },
         {
          "font": {
           "size": 15
          },
          "showarrow": false,
          "text": "Metric=Book Value",
          "x": 0.49999999999999994,
          "xanchor": "center",
          "xref": "paper",
          "y": 0.144,
          "yanchor": "bottom",
          "yref": "paper"
         },
         {
          "font": {
           "size": 15
          },
          "showarrow": false,
          "text": "Metric=P/E Ratio",
          "x": 0.8399999999999999,
          "xanchor": "center",
          "xref": "paper",
          "y": 0.144,
          "yanchor": "bottom",
          "yref": "paper"
         },
         {
          "font": {
           "size": 15
          },
          "showarrow": false,
          "text": "Metric=Earnings Growth",
          "x": 0.15999999999999998,
          "xanchor": "center",
          "xref": "paper",
          "y": 0.358,
          "yanchor": "bottom",
          "yref": "paper"
         },
         {
          "font": {
           "size": 15
          },
          "showarrow": false,
          "text": "Metric=Revenue Growth",
          "x": 0.49999999999999994,
          "xanchor": "center",
          "xref": "paper",
          "y": 0.358,
          "yanchor": "bottom",
          "yref": "paper"
         },
         {
          "font": {
           "size": 15
          },
          "showarrow": false,
          "text": "Metric=Total Cash",
          "x": 0.8399999999999999,
          "xanchor": "center",
          "xref": "paper",
          "y": 0.358,
          "yanchor": "bottom",
          "yref": "paper"
         },
         {
          "font": {
           "size": 15
          },
          "showarrow": false,
          "text": "Metric=Price-to-Sales",
          "x": 0.15999999999999998,
          "xanchor": "center",
          "xref": "paper",
          "y": 0.572,
          "yanchor": "bottom",
          "yref": "paper"
         },
         {
          "font": {
           "size": 15
          },
          "showarrow": false,
          "text": "Metric=Profit Margin",
          "x": 0.49999999999999994,
          "xanchor": "center",
          "xref": "paper",
          "y": 0.572,
          "yanchor": "bottom",
          "yref": "paper"
         },
         {
          "font": {
           "size": 15
          },
          "showarrow": false,
          "text": "Metric=Return on Equity",
          "x": 0.8399999999999999,
          "xanchor": "center",
          "xref": "paper",
          "y": 0.572,
          "yanchor": "bottom",
          "yref": "paper"
         },
         {
          "font": {
           "size": 15
          },
          "showarrow": false,
          "text": "Metric=Debt-to-Equity",
          "x": 0.15999999999999998,
          "xanchor": "center",
          "xref": "paper",
          "y": 0.7859999999999999,
          "yanchor": "bottom",
          "yref": "paper"
         },
         {
          "font": {
           "size": 15
          },
          "showarrow": false,
          "text": "Metric=Market Cap",
          "x": 0.49999999999999994,
          "xanchor": "center",
          "xref": "paper",
          "y": 0.7859999999999999,
          "yanchor": "bottom",
          "yref": "paper"
         },
         {
          "font": {
           "size": 15
          },
          "showarrow": false,
          "text": "Metric=Total Revenue",
          "x": 0.8399999999999999,
          "xanchor": "center",
          "xref": "paper",
          "y": 0.7859999999999999,
          "yanchor": "bottom",
          "yref": "paper"
         },
         {
          "font": {
           "size": 15
          },
          "showarrow": false,
          "text": "Metric=Forward P/E",
          "x": 0.15999999999999998,
          "xanchor": "center",
          "xref": "paper",
          "y": 1,
          "yanchor": "bottom",
          "yref": "paper"
         },
         {
          "font": {
           "size": 15
          },
          "showarrow": false,
          "text": "Metric=Price-to-Book",
          "x": 0.49999999999999994,
          "xanchor": "center",
          "xref": "paper",
          "y": 1,
          "yanchor": "bottom",
          "yref": "paper"
         },
         {
          "font": {
           "size": 15
          },
          "showarrow": false,
          "text": "Metric=EPS (TTM)",
          "x": 0.8399999999999999,
          "xanchor": "center",
          "xref": "paper",
          "y": 1,
          "yanchor": "bottom",
          "yref": "paper"
         }
        ],
        "boxmode": "overlay",
        "height": 1000,
        "legend": {
         "title": {
          "text": "Ticker"
         },
         "tracegroupgap": 0
        },
        "margin": {
         "b": 50,
         "l": 50,
         "r": 50,
         "t": 50
        },
        "template": {
         "data": {
          "bar": [
           {
            "error_x": {
             "color": "#2a3f5f"
            },
            "error_y": {
             "color": "#2a3f5f"
            },
            "marker": {
             "line": {
              "color": "#E5ECF6",
              "width": 0.5
             },
             "pattern": {
              "fillmode": "overlay",
              "size": 10,
              "solidity": 0.2
             }
            },
            "type": "bar"
           }
          ],
          "barpolar": [
           {
            "marker": {
             "line": {
              "color": "#E5ECF6",
              "width": 0.5
             },
             "pattern": {
              "fillmode": "overlay",
              "size": 10,
              "solidity": 0.2
             }
            },
            "type": "barpolar"
           }
          ],
          "carpet": [
           {
            "aaxis": {
             "endlinecolor": "#2a3f5f",
             "gridcolor": "white",
             "linecolor": "white",
             "minorgridcolor": "white",
             "startlinecolor": "#2a3f5f"
            },
            "baxis": {
             "endlinecolor": "#2a3f5f",
             "gridcolor": "white",
             "linecolor": "white",
             "minorgridcolor": "white",
             "startlinecolor": "#2a3f5f"
            },
            "type": "carpet"
           }
          ],
          "choropleth": [
           {
            "colorbar": {
             "outlinewidth": 0,
             "ticks": ""
            },
            "type": "choropleth"
           }
          ],
          "contour": [
           {
            "colorbar": {
             "outlinewidth": 0,
             "ticks": ""
            },
            "colorscale": [
             [
              0,
              "#0d0887"
             ],
             [
              0.1111111111111111,
              "#46039f"
             ],
             [
              0.2222222222222222,
              "#7201a8"
             ],
             [
              0.3333333333333333,
              "#9c179e"
             ],
             [
              0.4444444444444444,
              "#bd3786"
             ],
             [
              0.5555555555555556,
              "#d8576b"
             ],
             [
              0.6666666666666666,
              "#ed7953"
             ],
             [
              0.7777777777777778,
              "#fb9f3a"
             ],
             [
              0.8888888888888888,
              "#fdca26"
             ],
             [
              1,
              "#f0f921"
             ]
            ],
            "type": "contour"
           }
          ],
          "contourcarpet": [
           {
            "colorbar": {
             "outlinewidth": 0,
             "ticks": ""
            },
            "type": "contourcarpet"
           }
          ],
          "heatmap": [
           {
            "colorbar": {
             "outlinewidth": 0,
             "ticks": ""
            },
            "colorscale": [
             [
              0,
              "#0d0887"
             ],
             [
              0.1111111111111111,
              "#46039f"
             ],
             [
              0.2222222222222222,
              "#7201a8"
             ],
             [
              0.3333333333333333,
              "#9c179e"
             ],
             [
              0.4444444444444444,
              "#bd3786"
             ],
             [
              0.5555555555555556,
              "#d8576b"
             ],
             [
              0.6666666666666666,
              "#ed7953"
             ],
             [
              0.7777777777777778,
              "#fb9f3a"
             ],
             [
              0.8888888888888888,
              "#fdca26"
             ],
             [
              1,
              "#f0f921"
             ]
            ],
            "type": "heatmap"
           }
          ],
          "histogram": [
           {
            "marker": {
             "pattern": {
              "fillmode": "overlay",
              "size": 10,
              "solidity": 0.2
             }
            },
            "type": "histogram"
           }
          ],
          "histogram2d": [
           {
            "colorbar": {
             "outlinewidth": 0,
             "ticks": ""
            },
            "colorscale": [
             [
              0,
              "#0d0887"
             ],
             [
              0.1111111111111111,
              "#46039f"
             ],
             [
              0.2222222222222222,
              "#7201a8"
             ],
             [
              0.3333333333333333,
              "#9c179e"
             ],
             [
              0.4444444444444444,
              "#bd3786"
             ],
             [
              0.5555555555555556,
              "#d8576b"
             ],
             [
              0.6666666666666666,
              "#ed7953"
             ],
             [
              0.7777777777777778,
              "#fb9f3a"
             ],
             [
              0.8888888888888888,
              "#fdca26"
             ],
             [
              1,
              "#f0f921"
             ]
            ],
            "type": "histogram2d"
           }
          ],
          "histogram2dcontour": [
           {
            "colorbar": {
             "outlinewidth": 0,
             "ticks": ""
            },
            "colorscale": [
             [
              0,
              "#0d0887"
             ],
             [
              0.1111111111111111,
              "#46039f"
             ],
             [
              0.2222222222222222,
              "#7201a8"
             ],
             [
              0.3333333333333333,
              "#9c179e"
             ],
             [
              0.4444444444444444,
              "#bd3786"
             ],
             [
              0.5555555555555556,
              "#d8576b"
             ],
             [
              0.6666666666666666,
              "#ed7953"
             ],
             [
              0.7777777777777778,
              "#fb9f3a"
             ],
             [
              0.8888888888888888,
              "#fdca26"
             ],
             [
              1,
              "#f0f921"
             ]
            ],
            "type": "histogram2dcontour"
           }
          ],
          "mesh3d": [
           {
            "colorbar": {
             "outlinewidth": 0,
             "ticks": ""
            },
            "type": "mesh3d"
           }
          ],
          "parcoords": [
           {
            "line": {
             "colorbar": {
              "outlinewidth": 0,
              "ticks": ""
             }
            },
            "type": "parcoords"
           }
          ],
          "pie": [
           {
            "automargin": true,
            "type": "pie"
           }
          ],
          "scatter": [
           {
            "fillpattern": {
             "fillmode": "overlay",
             "size": 10,
             "solidity": 0.2
            },
            "type": "scatter"
           }
          ],
          "scatter3d": [
           {
            "line": {
             "colorbar": {
              "outlinewidth": 0,
              "ticks": ""
             }
            },
            "marker": {
             "colorbar": {
              "outlinewidth": 0,
              "ticks": ""
             }
            },
            "type": "scatter3d"
           }
          ],
          "scattercarpet": [
           {
            "marker": {
             "colorbar": {
              "outlinewidth": 0,
              "ticks": ""
             }
            },
            "type": "scattercarpet"
           }
          ],
          "scattergeo": [
           {
            "marker": {
             "colorbar": {
              "outlinewidth": 0,
              "ticks": ""
             }
            },
            "type": "scattergeo"
           }
          ],
          "scattergl": [
           {
            "marker": {
             "colorbar": {
              "outlinewidth": 0,
              "ticks": ""
             }
            },
            "type": "scattergl"
           }
          ],
          "scattermap": [
           {
            "marker": {
             "colorbar": {
              "outlinewidth": 0,
              "ticks": ""
             }
            },
            "type": "scattermap"
           }
          ],
          "scattermapbox": [
           {
            "marker": {
             "colorbar": {
              "outlinewidth": 0,
              "ticks": ""
             }
            },
            "type": "scattermapbox"
           }
          ],
          "scatterpolar": [
           {
            "marker": {
             "colorbar": {
              "outlinewidth": 0,
              "ticks": ""
             }
            },
            "type": "scatterpolar"
           }
          ],
          "scatterpolargl": [
           {
            "marker": {
             "colorbar": {
              "outlinewidth": 0,
              "ticks": ""
             }
            },
            "type": "scatterpolargl"
           }
          ],
          "scatterternary": [
           {
            "marker": {
             "colorbar": {
              "outlinewidth": 0,
              "ticks": ""
             }
            },
            "type": "scatterternary"
           }
          ],
          "surface": [
           {
            "colorbar": {
             "outlinewidth": 0,
             "ticks": ""
            },
            "colorscale": [
             [
              0,
              "#0d0887"
             ],
             [
              0.1111111111111111,
              "#46039f"
             ],
             [
              0.2222222222222222,
              "#7201a8"
             ],
             [
              0.3333333333333333,
              "#9c179e"
             ],
             [
              0.4444444444444444,
              "#bd3786"
             ],
             [
              0.5555555555555556,
              "#d8576b"
             ],
             [
              0.6666666666666666,
              "#ed7953"
             ],
             [
              0.7777777777777778,
              "#fb9f3a"
             ],
             [
              0.8888888888888888,
              "#fdca26"
             ],
             [
              1,
              "#f0f921"
             ]
            ],
            "type": "surface"
           }
          ],
          "table": [
           {
            "cells": {
             "fill": {
              "color": "#EBF0F8"
             },
             "line": {
              "color": "white"
             }
            },
            "header": {
             "fill": {
              "color": "#C8D4E3"
             },
             "line": {
              "color": "white"
             }
            },
            "type": "table"
           }
          ]
         },
         "layout": {
          "annotationdefaults": {
           "arrowcolor": "#2a3f5f",
           "arrowhead": 0,
           "arrowwidth": 1
          },
          "autotypenumbers": "strict",
          "coloraxis": {
           "colorbar": {
            "outlinewidth": 0,
            "ticks": ""
           }
          },
          "colorscale": {
           "diverging": [
            [
             0,
             "#8e0152"
            ],
            [
             0.1,
             "#c51b7d"
            ],
            [
             0.2,
             "#de77ae"
            ],
            [
             0.3,
             "#f1b6da"
            ],
            [
             0.4,
             "#fde0ef"
            ],
            [
             0.5,
             "#f7f7f7"
            ],
            [
             0.6,
             "#e6f5d0"
            ],
            [
             0.7,
             "#b8e186"
            ],
            [
             0.8,
             "#7fbc41"
            ],
            [
             0.9,
             "#4d9221"
            ],
            [
             1,
             "#276419"
            ]
           ],
           "sequential": [
            [
             0,
             "#0d0887"
            ],
            [
             0.1111111111111111,
             "#46039f"
            ],
            [
             0.2222222222222222,
             "#7201a8"
            ],
            [
             0.3333333333333333,
             "#9c179e"
            ],
            [
             0.4444444444444444,
             "#bd3786"
            ],
            [
             0.5555555555555556,
             "#d8576b"
            ],
            [
             0.6666666666666666,
             "#ed7953"
            ],
            [
             0.7777777777777778,
             "#fb9f3a"
            ],
            [
             0.8888888888888888,
             "#fdca26"
            ],
            [
             1,
             "#f0f921"
            ]
           ],
           "sequentialminus": [
            [
             0,
             "#0d0887"
            ],
            [
             0.1111111111111111,
             "#46039f"
            ],
            [
             0.2222222222222222,
             "#7201a8"
            ],
            [
             0.3333333333333333,
             "#9c179e"
            ],
            [
             0.4444444444444444,
             "#bd3786"
            ],
            [
             0.5555555555555556,
             "#d8576b"
            ],
            [
             0.6666666666666666,
             "#ed7953"
            ],
            [
             0.7777777777777778,
             "#fb9f3a"
            ],
            [
             0.8888888888888888,
             "#fdca26"
            ],
            [
             1,
             "#f0f921"
            ]
           ]
          },
          "colorway": [
           "#636efa",
           "#EF553B",
           "#00cc96",
           "#ab63fa",
           "#FFA15A",
           "#19d3f3",
           "#FF6692",
           "#B6E880",
           "#FF97FF",
           "#FECB52"
          ],
          "font": {
           "color": "#2a3f5f"
          },
          "geo": {
           "bgcolor": "white",
           "lakecolor": "white",
           "landcolor": "#E5ECF6",
           "showlakes": true,
           "showland": true,
           "subunitcolor": "white"
          },
          "hoverlabel": {
           "align": "left"
          },
          "hovermode": "closest",
          "mapbox": {
           "style": "light"
          },
          "paper_bgcolor": "white",
          "plot_bgcolor": "#E5ECF6",
          "polar": {
           "angularaxis": {
            "gridcolor": "white",
            "linecolor": "white",
            "ticks": ""
           },
           "bgcolor": "#E5ECF6",
           "radialaxis": {
            "gridcolor": "white",
            "linecolor": "white",
            "ticks": ""
           }
          },
          "scene": {
           "xaxis": {
            "backgroundcolor": "#E5ECF6",
            "gridcolor": "white",
            "gridwidth": 2,
            "linecolor": "white",
            "showbackground": true,
            "ticks": "",
            "zerolinecolor": "white"
           },
           "yaxis": {
            "backgroundcolor": "#E5ECF6",
            "gridcolor": "white",
            "gridwidth": 2,
            "linecolor": "white",
            "showbackground": true,
            "ticks": "",
            "zerolinecolor": "white"
           },
           "zaxis": {
            "backgroundcolor": "#E5ECF6",
            "gridcolor": "white",
            "gridwidth": 2,
            "linecolor": "white",
            "showbackground": true,
            "ticks": "",
            "zerolinecolor": "white"
           }
          },
          "shapedefaults": {
           "line": {
            "color": "#2a3f5f"
           }
          },
          "ternary": {
           "aaxis": {
            "gridcolor": "white",
            "linecolor": "white",
            "ticks": ""
           },
           "baxis": {
            "gridcolor": "white",
            "linecolor": "white",
            "ticks": ""
           },
           "bgcolor": "#E5ECF6",
           "caxis": {
            "gridcolor": "white",
            "linecolor": "white",
            "ticks": ""
           }
          },
          "title": {
           "x": 0.05
          },
          "xaxis": {
           "automargin": true,
           "gridcolor": "white",
           "linecolor": "white",
           "ticks": "",
           "title": {
            "standoff": 15
           },
           "zerolinecolor": "white",
           "zerolinewidth": 2
          },
          "yaxis": {
           "automargin": true,
           "gridcolor": "white",
           "linecolor": "white",
           "ticks": "",
           "title": {
            "standoff": 15
           },
           "zerolinecolor": "white",
           "zerolinewidth": 2
          }
         }
        },
        "title": {
         "font": {
          "color": "blue",
          "size": 28
         },
         "text": "Stock Comparison by Metric",
         "x": 0.5
        },
        "width": 1000,
        "xaxis": {
         "anchor": "y",
         "domain": [
          0,
          0.31999999999999995
         ],
         "showticklabels": true,
         "tickfont": {
          "size": 16
         },
         "tickmode": "array",
         "title": {
          "font": {
           "size": 15
          },
          "text": "Value"
         }
        },
        "xaxis10": {
         "anchor": "y10",
         "domain": [
          0,
          0.31999999999999995
         ],
         "showticklabels": true,
         "tickfont": {
          "size": 16
         },
         "tickmode": "array",
         "title": {
          "font": {
           "size": 15
          }
         }
        },
        "xaxis11": {
         "anchor": "y11",
         "domain": [
          0.33999999999999997,
          0.6599999999999999
         ],
         "showticklabels": true,
         "tickfont": {
          "size": 16
         },
         "tickmode": "array",
         "title": {
          "font": {
           "size": 15
          }
         }
        },
        "xaxis12": {
         "anchor": "y12",
         "domain": [
          0.6799999999999999,
          0.9999999999999999
         ],
         "showticklabels": true,
         "tickfont": {
          "size": 16
         },
         "tickmode": "array",
         "title": {
          "font": {
           "size": 15
          }
         }
        },
        "xaxis13": {
         "anchor": "y13",
         "domain": [
          0,
          0.31999999999999995
         ],
         "showticklabels": true,
         "tickfont": {
          "size": 16
         },
         "tickmode": "array",
         "title": {
          "font": {
           "size": 15
          }
         }
        },
        "xaxis14": {
         "anchor": "y14",
         "domain": [
          0.33999999999999997,
          0.6599999999999999
         ],
         "showticklabels": true,
         "tickfont": {
          "size": 16
         },
         "tickmode": "array",
         "title": {
          "font": {
           "size": 15
          }
         }
        },
        "xaxis15": {
         "anchor": "y15",
         "domain": [
          0.6799999999999999,
          0.9999999999999999
         ],
         "showticklabels": true,
         "tickfont": {
          "size": 16
         },
         "tickmode": "array",
         "title": {
          "font": {
           "size": 15
          }
         }
        },
        "xaxis2": {
         "anchor": "y2",
         "domain": [
          0.33999999999999997,
          0.6599999999999999
         ],
         "showticklabels": true,
         "tickfont": {
          "size": 16
         },
         "tickmode": "array",
         "title": {
          "font": {
           "size": 15
          },
          "text": "Value"
         }
        },
        "xaxis3": {
         "anchor": "y3",
         "domain": [
          0.6799999999999999,
          0.9999999999999999
         ],
         "showticklabels": true,
         "tickfont": {
          "size": 16
         },
         "tickmode": "array",
         "title": {
          "font": {
           "size": 15
          },
          "text": "Value"
         }
        },
        "xaxis4": {
         "anchor": "y4",
         "domain": [
          0,
          0.31999999999999995
         ],
         "showticklabels": true,
         "tickfont": {
          "size": 16
         },
         "tickmode": "array",
         "title": {
          "font": {
           "size": 15
          }
         }
        },
        "xaxis5": {
         "anchor": "y5",
         "domain": [
          0.33999999999999997,
          0.6599999999999999
         ],
         "showticklabels": true,
         "tickfont": {
          "size": 16
         },
         "tickmode": "array",
         "title": {
          "font": {
           "size": 15
          }
         }
        },
        "xaxis6": {
         "anchor": "y6",
         "domain": [
          0.6799999999999999,
          0.9999999999999999
         ],
         "showticklabels": true,
         "tickfont": {
          "size": 16
         },
         "tickmode": "array",
         "title": {
          "font": {
           "size": 15
          }
         }
        },
        "xaxis7": {
         "anchor": "y7",
         "domain": [
          0,
          0.31999999999999995
         ],
         "showticklabels": true,
         "tickfont": {
          "size": 16
         },
         "tickmode": "array",
         "title": {
          "font": {
           "size": 15
          }
         }
        },
        "xaxis8": {
         "anchor": "y8",
         "domain": [
          0.33999999999999997,
          0.6599999999999999
         ],
         "showticklabels": true,
         "tickfont": {
          "size": 16
         },
         "tickmode": "array",
         "title": {
          "font": {
           "size": 15
          }
         }
        },
        "xaxis9": {
         "anchor": "y9",
         "domain": [
          0.6799999999999999,
          0.9999999999999999
         ],
         "showticklabels": true,
         "tickfont": {
          "size": 16
         },
         "tickmode": "array",
         "title": {
          "font": {
           "size": 15
          }
         }
        },
        "yaxis": {
         "anchor": "x",
         "categoryarray": [
          "FFIV",
          "MSI",
          "HPE"
         ],
         "categoryorder": "category ascending",
         "domain": [
          0,
          0.144
         ],
         "tickfont": {
          "size": 16
         },
         "tickmode": "array",
         "tickvals": [
          "HPE",
          "MSI",
          "FFIV"
         ],
         "title": {
          "font": {
           "size": 15
          },
          "text": "Ticker"
         }
        },
        "yaxis10": {
         "anchor": "x10",
         "categoryarray": [
          "FFIV",
          "MSI",
          "HPE"
         ],
         "categoryorder": "category ascending",
         "domain": [
          0.6419999999999999,
          0.7859999999999999
         ],
         "tickfont": {
          "size": 16
         },
         "tickmode": "array",
         "tickvals": [
          "HPE",
          "MSI",
          "FFIV"
         ],
         "title": {
          "font": {
           "size": 15
          },
          "text": "Ticker"
         }
        },
        "yaxis11": {
         "anchor": "x11",
         "categoryorder": "category ascending",
         "domain": [
          0.6419999999999999,
          0.7859999999999999
         ],
         "showticklabels": false,
         "tickfont": {
          "size": 16
         },
         "tickmode": "array",
         "tickvals": [
          "HPE",
          "MSI",
          "FFIV"
         ],
         "title": {
          "font": {
           "size": 15
          }
         }
        },
        "yaxis12": {
         "anchor": "x12",
         "categoryorder": "category ascending",
         "domain": [
          0.6419999999999999,
          0.7859999999999999
         ],
         "showticklabels": false,
         "tickfont": {
          "size": 16
         },
         "tickmode": "array",
         "tickvals": [
          "HPE",
          "MSI",
          "FFIV"
         ],
         "title": {
          "font": {
           "size": 15
          }
         }
        },
        "yaxis13": {
         "anchor": "x13",
         "categoryarray": [
          "FFIV",
          "MSI",
          "HPE"
         ],
         "categoryorder": "category ascending",
         "domain": [
          0.856,
          1
         ],
         "tickfont": {
          "size": 16
         },
         "tickmode": "array",
         "tickvals": [
          "HPE",
          "MSI",
          "FFIV"
         ],
         "title": {
          "font": {
           "size": 15
          },
          "text": "Ticker"
         }
        },
        "yaxis14": {
         "anchor": "x14",
         "categoryorder": "category ascending",
         "domain": [
          0.856,
          1
         ],
         "showticklabels": false,
         "tickfont": {
          "size": 16
         },
         "tickmode": "array",
         "tickvals": [
          "HPE",
          "MSI",
          "FFIV"
         ],
         "title": {
          "font": {
           "size": 15
          }
         }
        },
        "yaxis15": {
         "anchor": "x15",
         "categoryorder": "category ascending",
         "domain": [
          0.856,
          1
         ],
         "showticklabels": false,
         "tickfont": {
          "size": 16
         },
         "tickmode": "array",
         "tickvals": [
          "HPE",
          "MSI",
          "FFIV"
         ],
         "title": {
          "font": {
           "size": 15
          }
         }
        },
        "yaxis2": {
         "anchor": "x2",
         "categoryorder": "category ascending",
         "domain": [
          0,
          0.144
         ],
         "showticklabels": false,
         "tickfont": {
          "size": 16
         },
         "tickmode": "array",
         "tickvals": [
          "HPE",
          "MSI",
          "FFIV"
         ],
         "title": {
          "font": {
           "size": 15
          }
         }
        },
        "yaxis3": {
         "anchor": "x3",
         "categoryorder": "category ascending",
         "domain": [
          0,
          0.144
         ],
         "showticklabels": false,
         "tickfont": {
          "size": 16
         },
         "tickmode": "array",
         "tickvals": [
          "HPE",
          "MSI",
          "FFIV"
         ],
         "title": {
          "font": {
           "size": 15
          }
         }
        },
        "yaxis4": {
         "anchor": "x4",
         "categoryarray": [
          "FFIV",
          "MSI",
          "HPE"
         ],
         "categoryorder": "category ascending",
         "domain": [
          0.214,
          0.358
         ],
         "tickfont": {
          "size": 16
         },
         "tickmode": "array",
         "tickvals": [
          "HPE",
          "MSI",
          "FFIV"
         ],
         "title": {
          "font": {
           "size": 15
          },
          "text": "Ticker"
         }
        },
        "yaxis5": {
         "anchor": "x5",
         "categoryorder": "category ascending",
         "domain": [
          0.214,
          0.358
         ],
         "showticklabels": false,
         "tickfont": {
          "size": 16
         },
         "tickmode": "array",
         "tickvals": [
          "HPE",
          "MSI",
          "FFIV"
         ],
         "title": {
          "font": {
           "size": 15
          }
         }
        },
        "yaxis6": {
         "anchor": "x6",
         "categoryorder": "category ascending",
         "domain": [
          0.214,
          0.358
         ],
         "showticklabels": false,
         "tickfont": {
          "size": 16
         },
         "tickmode": "array",
         "tickvals": [
          "HPE",
          "MSI",
          "FFIV"
         ],
         "title": {
          "font": {
           "size": 15
          }
         }
        },
        "yaxis7": {
         "anchor": "x7",
         "categoryarray": [
          "FFIV",
          "MSI",
          "HPE"
         ],
         "categoryorder": "category ascending",
         "domain": [
          0.428,
          0.572
         ],
         "tickfont": {
          "size": 16
         },
         "tickmode": "array",
         "tickvals": [
          "HPE",
          "MSI",
          "FFIV"
         ],
         "title": {
          "font": {
           "size": 15
          },
          "text": "Ticker"
         }
        },
        "yaxis8": {
         "anchor": "x8",
         "categoryorder": "category ascending",
         "domain": [
          0.428,
          0.572
         ],
         "showticklabels": false,
         "tickfont": {
          "size": 16
         },
         "tickmode": "array",
         "tickvals": [
          "HPE",
          "MSI",
          "FFIV"
         ],
         "title": {
          "font": {
           "size": 15
          }
         }
        },
        "yaxis9": {
         "anchor": "x9",
         "categoryorder": "category ascending",
         "domain": [
          0.428,
          0.572
         ],
         "showticklabels": false,
         "tickfont": {
          "size": 16
         },
         "tickmode": "array",
         "tickvals": [
          "HPE",
          "MSI",
          "FFIV"
         ],
         "title": {
          "font": {
           "size": 15
          }
         }
        }
       }
      }
     },
     "metadata": {},
     "output_type": "display_data"
    }
   ],
   "source": [
    "fig = px.strip(\n",
    "    df_CE_fundamentals.reset_index(),\n",
    "    y='Ticker',\n",
    "    x='Value',\n",
    "    color='Ticker',\n",
    "    facet_col='Metric',  # Use facet_col for horizontal titles\n",
    "    facet_col_wrap=3\n",
    ")\n",
    "\n",
    "# Update layout\n",
    "fig.update_layout(\n",
    "    title={'text':'Stock Comparison by Metric','x':0.5,'font':dict(size=28,color='blue')},\n",
    "    height=1000,  # Adjust height to fit all facets\n",
    "    width=1000,  # Adjust width for better layout\n",
    "    margin=dict(t=50, l=50, r=50, b=50),  # Adjust margins,\n",
    ")\n",
    "\n",
    "# Force all y-axis ticks to show\n",
    "fig.update_yaxes(\n",
    "    matches=None,\n",
    "    tickmode='array',  # Use array mode to show specific ticks\n",
    "    tickvals=df_CE_fundamentals.index.unique(),  # Set tick values explicitly\n",
    "    tickfont=dict(size=16) # Increase y-axis tick font size\n",
    ")\n",
    "\n",
    "# Update traces for square shape and potentially larger size\n",
    "fig.update_traces(\n",
    "    marker_symbol='square',  # Make dots square\n",
    "    marker_size=15          # Increase size further if needed\n",
    ")\n",
    "\n",
    "# Ensure x-axes are independent and complete\n",
    "fig.update_xaxes(matches=None, tickfont=dict(size=16)) # Increase x-axis tick font size\n",
    "\n",
    "# Increase and center tile font (facet titles)\n",
    "for annotation in fig.layout.annotations:\n",
    "    annotation.font.size = 15  # Increase tile font size\n",
    "    annotation.xanchor = 'center'  # Center the title horizontally\n",
    "\n",
    "# Increase metric font (axis titles)\n",
    "fig.update_xaxes(title_font=dict(size=15)) # Increase x-axis title font size\n",
    "fig.update_yaxes(title_font=dict(size=15)) # Increase y-axis title font size\n",
    "\n",
    "fig.for_each_xaxis(lambda x: x.update(\n",
    "    tickmode='array',\n",
    "    matches=None, showticklabels=True\n",
    "))\n",
    "\n",
    "fig.for_each_yaxis(lambda x: x.update(\n",
    "    tickmode='array',tickvals=df_CE_fundamentals.index.unique(),\n",
    "    matches=None,categoryorder='category ascending'\n",
    "\n",
    "))\n",
    "\n",
    "fig.show()"
   ]
  }
 ],
 "metadata": {
  "kernelspec": {
   "display_name": "Python 3",
   "language": "python",
   "name": "python3"
  },
  "language_info": {
   "codemirror_mode": {
    "name": "ipython",
    "version": 3
   },
   "file_extension": ".py",
   "mimetype": "text/x-python",
   "name": "python",
   "nbconvert_exporter": "python",
   "pygments_lexer": "ipython3",
   "version": "3.13.1"
  }
 },
 "nbformat": 4,
 "nbformat_minor": 2
}
