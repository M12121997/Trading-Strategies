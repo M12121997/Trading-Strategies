{
 "cells": [
  {
   "cell_type": "markdown",
   "metadata": {},
   "source": [
    "## Assessing the S&P 500\n",
    "\n",
    "### Introduction\n",
    "\n",
    "This Jupyter Notebook aims to provide a brief and simple view of assessing the **S&P 500 Index**. The S&P 500 is a market-cap weighted index consisting of 500 of the largest publicly traded companies in the United States. The companies included in this index are selected based on their market capitalization, liquidity, and industry representation, which gives a comprehensive snapshot of the U.S. stock market's performance.\n",
    "\n",
    "The S&P 500 is widely regarded as one of the best representations of the U.S. equity market and is often used as a benchmark by investors to compare their performance against. If an investor’s portfolio is performing similarly to or better than the S&P 500, it suggests that their investments are on par with the broader market. Conversely, underperforming the index may signal a need for strategy reassessment.\n",
    "\n",
    "### Part 1: Retrieving the S&P 500 Constituents\n",
    "\n",
    "The S&P 500 index is updated periodically, so the exact list of companies in the index may change over time. However, we can obtain the list of current S&P 500 companies from publicly available sources such as **Wikipedia**, which is regularly updated with the latest constituents.\n",
    "\n",
    "Each company in the S&P 500 is assigned a ticker symbol, which is used to uniquely identify it on stock exchanges. For example, the ticker for Apple Inc. is **AAPL**, while the ticker for Microsoft is **MSFT**.\n",
    "\n",
    "Once we retrieve the list of tickers, we can use these symbols to fetch market data and financial information for the companies included in the S&P 500.\n",
    "In addition, we will examine the sector segments of the S&P 500 constituents in terms of their proportions, as well as analyze their subindustry breakdowns. This will help us visualize the distribution of companies across sectors and subindustries, offering a clearer picture of the market composition. \n",
    "\n",
    "This Notebook was inspired primarily by the tutorial 'Stock Analysis with Yahoo Finance, Plotly, Pandas, and Pandas_Ta' by Adi Dror, which can be found on https://www.linkedin.com/pulse/stock-analysis-yahoo-finance-plotly-pandas-pandasta-adi-dror-udg3f/"
   ]
  },
  {
   "cell_type": "code",
   "execution_count": 70,
   "metadata": {},
   "outputs": [
    {
     "name": "stdout",
     "output_type": "stream",
     "text": [
      "  Symbol             Security             GICS Sector  \\\n",
      "0    MMM                   3M             Industrials   \n",
      "1    AOS          A. O. Smith             Industrials   \n",
      "2    ABT  Abbott Laboratories             Health Care   \n",
      "3   ABBV               AbbVie             Health Care   \n",
      "4    ACN            Accenture  Information Technology   \n",
      "\n",
      "                GICS Sub-Industry    Headquarters Location  Date added  \\\n",
      "0        Industrial Conglomerates    Saint Paul, Minnesota  1957-03-04   \n",
      "1               Building Products     Milwaukee, Wisconsin  2017-07-26   \n",
      "2           Health Care Equipment  North Chicago, Illinois  1957-03-04   \n",
      "3                   Biotechnology  North Chicago, Illinois  2012-12-31   \n",
      "4  IT Consulting & Other Services          Dublin, Ireland  2011-07-06   \n",
      "\n",
      "       CIK      Founded  \n",
      "0    66740         1902  \n",
      "1    91142         1916  \n",
      "2     1800         1888  \n",
      "3  1551152  2013 (1888)  \n",
      "4  1467373         1989  \n"
     ]
    },
    {
     "name": "stderr",
     "output_type": "stream",
     "text": [
      "/var/folders/gm/fn54mj5d4b51_7l5j667v4n00000gn/T/ipykernel_1423/475999257.py:17: FutureWarning:\n",
      "\n",
      "Passing literal html to 'read_html' is deprecated and will be removed in a future version. To read from a literal string, wrap it in a 'StringIO' object.\n",
      "\n"
     ]
    }
   ],
   "source": [
    "import requests\n",
    "import pandas as pd\n",
    "from bs4 import BeautifulSoup\n",
    "\n",
    "url = \"https://en.wikipedia.org/wiki/List_of_S%26P_500_companies\"\n",
    "\n",
    "# Fetch the page content\n",
    "response = requests.get(url, headers={\"User-Agent\": \"Mozilla/5.0\"})\n",
    "\n",
    "# Parse the HTML\n",
    "soup = BeautifulSoup(response.text, \"html.parser\")\n",
    "\n",
    "# Find the first table with the S&P 500 list\n",
    "table = soup.find(\"table\", {\"class\": \"wikitable\"})\n",
    "\n",
    "# Convert to DataFrame\n",
    "SP_500_DF = pd.read_html(str(table))[0]\n",
    "\n",
    "print(SP_500_DF.head())\n"
   ]
  },
  {
   "cell_type": "code",
   "execution_count": 71,
   "metadata": {},
   "outputs": [
    {
     "data": {
      "text/plain": [
       "GICS Sector\n",
       "Industrials               0.155070\n",
       "Financials                0.145129\n",
       "Information Technology    0.137177\n",
       "Health Care               0.121272\n",
       "Consumer Discretionary    0.099404\n",
       "Consumer Staples          0.075547\n",
       "Utilities                 0.061630\n",
       "Real Estate               0.061630\n",
       "Materials                 0.055666\n",
       "Communication Services    0.043738\n",
       "Energy                    0.043738\n",
       "Name: proportion, dtype: float64"
      ]
     },
     "execution_count": 71,
     "metadata": {},
     "output_type": "execute_result"
    }
   ],
   "source": [
    "SECTOR_DISTRIBUTION=SP_500_DF['GICS Sector'].value_counts(normalize=True)\n",
    "SECTOR_DISTRIBUTION"
   ]
  },
  {
   "cell_type": "code",
   "execution_count": 72,
   "metadata": {},
   "outputs": [
    {
     "data": {
      "application/vnd.plotly.v1+json": {
       "config": {
        "plotlyServerURL": "https://plot.ly"
       },
       "data": [
        {
         "domain": {
          "x": [
           0,
           1
          ],
          "y": [
           0,
           1
          ]
         },
         "hovertemplate": "GICS Sector=%{label}<br>proportion=%{value}<extra></extra>",
         "labels": [
          "Industrials",
          "Financials",
          "Information Technology",
          "Health Care",
          "Consumer Discretionary",
          "Consumer Staples",
          "Utilities",
          "Real Estate",
          "Materials",
          "Communication Services",
          "Energy"
         ],
         "legendgroup": "",
         "name": "",
         "showlegend": true,
         "type": "pie",
         "values": {
          "bdata": "0Uq78FHZwz/xisksmJPCP6UkCJADj8E/GLAKrbQLvz91/eJOg3K5P6qXWqIHV7M/P2Nr+/6Nrz8/Y2v7/o2vP1owJyVBgKw/kMqeeMVkpj+Qyp54xWSmPw==",
          "dtype": "f8"
         }
        }
       ],
       "layout": {
        "legend": {
         "tracegroupgap": 0
        },
        "template": {
         "data": {
          "bar": [
           {
            "error_x": {
             "color": "#2a3f5f"
            },
            "error_y": {
             "color": "#2a3f5f"
            },
            "marker": {
             "line": {
              "color": "#E5ECF6",
              "width": 0.5
             },
             "pattern": {
              "fillmode": "overlay",
              "size": 10,
              "solidity": 0.2
             }
            },
            "type": "bar"
           }
          ],
          "barpolar": [
           {
            "marker": {
             "line": {
              "color": "#E5ECF6",
              "width": 0.5
             },
             "pattern": {
              "fillmode": "overlay",
              "size": 10,
              "solidity": 0.2
             }
            },
            "type": "barpolar"
           }
          ],
          "carpet": [
           {
            "aaxis": {
             "endlinecolor": "#2a3f5f",
             "gridcolor": "white",
             "linecolor": "white",
             "minorgridcolor": "white",
             "startlinecolor": "#2a3f5f"
            },
            "baxis": {
             "endlinecolor": "#2a3f5f",
             "gridcolor": "white",
             "linecolor": "white",
             "minorgridcolor": "white",
             "startlinecolor": "#2a3f5f"
            },
            "type": "carpet"
           }
          ],
          "choropleth": [
           {
            "colorbar": {
             "outlinewidth": 0,
             "ticks": ""
            },
            "type": "choropleth"
           }
          ],
          "contour": [
           {
            "colorbar": {
             "outlinewidth": 0,
             "ticks": ""
            },
            "colorscale": [
             [
              0,
              "#0d0887"
             ],
             [
              0.1111111111111111,
              "#46039f"
             ],
             [
              0.2222222222222222,
              "#7201a8"
             ],
             [
              0.3333333333333333,
              "#9c179e"
             ],
             [
              0.4444444444444444,
              "#bd3786"
             ],
             [
              0.5555555555555556,
              "#d8576b"
             ],
             [
              0.6666666666666666,
              "#ed7953"
             ],
             [
              0.7777777777777778,
              "#fb9f3a"
             ],
             [
              0.8888888888888888,
              "#fdca26"
             ],
             [
              1,
              "#f0f921"
             ]
            ],
            "type": "contour"
           }
          ],
          "contourcarpet": [
           {
            "colorbar": {
             "outlinewidth": 0,
             "ticks": ""
            },
            "type": "contourcarpet"
           }
          ],
          "heatmap": [
           {
            "colorbar": {
             "outlinewidth": 0,
             "ticks": ""
            },
            "colorscale": [
             [
              0,
              "#0d0887"
             ],
             [
              0.1111111111111111,
              "#46039f"
             ],
             [
              0.2222222222222222,
              "#7201a8"
             ],
             [
              0.3333333333333333,
              "#9c179e"
             ],
             [
              0.4444444444444444,
              "#bd3786"
             ],
             [
              0.5555555555555556,
              "#d8576b"
             ],
             [
              0.6666666666666666,
              "#ed7953"
             ],
             [
              0.7777777777777778,
              "#fb9f3a"
             ],
             [
              0.8888888888888888,
              "#fdca26"
             ],
             [
              1,
              "#f0f921"
             ]
            ],
            "type": "heatmap"
           }
          ],
          "histogram": [
           {
            "marker": {
             "pattern": {
              "fillmode": "overlay",
              "size": 10,
              "solidity": 0.2
             }
            },
            "type": "histogram"
           }
          ],
          "histogram2d": [
           {
            "colorbar": {
             "outlinewidth": 0,
             "ticks": ""
            },
            "colorscale": [
             [
              0,
              "#0d0887"
             ],
             [
              0.1111111111111111,
              "#46039f"
             ],
             [
              0.2222222222222222,
              "#7201a8"
             ],
             [
              0.3333333333333333,
              "#9c179e"
             ],
             [
              0.4444444444444444,
              "#bd3786"
             ],
             [
              0.5555555555555556,
              "#d8576b"
             ],
             [
              0.6666666666666666,
              "#ed7953"
             ],
             [
              0.7777777777777778,
              "#fb9f3a"
             ],
             [
              0.8888888888888888,
              "#fdca26"
             ],
             [
              1,
              "#f0f921"
             ]
            ],
            "type": "histogram2d"
           }
          ],
          "histogram2dcontour": [
           {
            "colorbar": {
             "outlinewidth": 0,
             "ticks": ""
            },
            "colorscale": [
             [
              0,
              "#0d0887"
             ],
             [
              0.1111111111111111,
              "#46039f"
             ],
             [
              0.2222222222222222,
              "#7201a8"
             ],
             [
              0.3333333333333333,
              "#9c179e"
             ],
             [
              0.4444444444444444,
              "#bd3786"
             ],
             [
              0.5555555555555556,
              "#d8576b"
             ],
             [
              0.6666666666666666,
              "#ed7953"
             ],
             [
              0.7777777777777778,
              "#fb9f3a"
             ],
             [
              0.8888888888888888,
              "#fdca26"
             ],
             [
              1,
              "#f0f921"
             ]
            ],
            "type": "histogram2dcontour"
           }
          ],
          "mesh3d": [
           {
            "colorbar": {
             "outlinewidth": 0,
             "ticks": ""
            },
            "type": "mesh3d"
           }
          ],
          "parcoords": [
           {
            "line": {
             "colorbar": {
              "outlinewidth": 0,
              "ticks": ""
             }
            },
            "type": "parcoords"
           }
          ],
          "pie": [
           {
            "automargin": true,
            "type": "pie"
           }
          ],
          "scatter": [
           {
            "fillpattern": {
             "fillmode": "overlay",
             "size": 10,
             "solidity": 0.2
            },
            "type": "scatter"
           }
          ],
          "scatter3d": [
           {
            "line": {
             "colorbar": {
              "outlinewidth": 0,
              "ticks": ""
             }
            },
            "marker": {
             "colorbar": {
              "outlinewidth": 0,
              "ticks": ""
             }
            },
            "type": "scatter3d"
           }
          ],
          "scattercarpet": [
           {
            "marker": {
             "colorbar": {
              "outlinewidth": 0,
              "ticks": ""
             }
            },
            "type": "scattercarpet"
           }
          ],
          "scattergeo": [
           {
            "marker": {
             "colorbar": {
              "outlinewidth": 0,
              "ticks": ""
             }
            },
            "type": "scattergeo"
           }
          ],
          "scattergl": [
           {
            "marker": {
             "colorbar": {
              "outlinewidth": 0,
              "ticks": ""
             }
            },
            "type": "scattergl"
           }
          ],
          "scattermap": [
           {
            "marker": {
             "colorbar": {
              "outlinewidth": 0,
              "ticks": ""
             }
            },
            "type": "scattermap"
           }
          ],
          "scattermapbox": [
           {
            "marker": {
             "colorbar": {
              "outlinewidth": 0,
              "ticks": ""
             }
            },
            "type": "scattermapbox"
           }
          ],
          "scatterpolar": [
           {
            "marker": {
             "colorbar": {
              "outlinewidth": 0,
              "ticks": ""
             }
            },
            "type": "scatterpolar"
           }
          ],
          "scatterpolargl": [
           {
            "marker": {
             "colorbar": {
              "outlinewidth": 0,
              "ticks": ""
             }
            },
            "type": "scatterpolargl"
           }
          ],
          "scatterternary": [
           {
            "marker": {
             "colorbar": {
              "outlinewidth": 0,
              "ticks": ""
             }
            },
            "type": "scatterternary"
           }
          ],
          "surface": [
           {
            "colorbar": {
             "outlinewidth": 0,
             "ticks": ""
            },
            "colorscale": [
             [
              0,
              "#0d0887"
             ],
             [
              0.1111111111111111,
              "#46039f"
             ],
             [
              0.2222222222222222,
              "#7201a8"
             ],
             [
              0.3333333333333333,
              "#9c179e"
             ],
             [
              0.4444444444444444,
              "#bd3786"
             ],
             [
              0.5555555555555556,
              "#d8576b"
             ],
             [
              0.6666666666666666,
              "#ed7953"
             ],
             [
              0.7777777777777778,
              "#fb9f3a"
             ],
             [
              0.8888888888888888,
              "#fdca26"
             ],
             [
              1,
              "#f0f921"
             ]
            ],
            "type": "surface"
           }
          ],
          "table": [
           {
            "cells": {
             "fill": {
              "color": "#EBF0F8"
             },
             "line": {
              "color": "white"
             }
            },
            "header": {
             "fill": {
              "color": "#C8D4E3"
             },
             "line": {
              "color": "white"
             }
            },
            "type": "table"
           }
          ]
         },
         "layout": {
          "annotationdefaults": {
           "arrowcolor": "#2a3f5f",
           "arrowhead": 0,
           "arrowwidth": 1
          },
          "autotypenumbers": "strict",
          "coloraxis": {
           "colorbar": {
            "outlinewidth": 0,
            "ticks": ""
           }
          },
          "colorscale": {
           "diverging": [
            [
             0,
             "#8e0152"
            ],
            [
             0.1,
             "#c51b7d"
            ],
            [
             0.2,
             "#de77ae"
            ],
            [
             0.3,
             "#f1b6da"
            ],
            [
             0.4,
             "#fde0ef"
            ],
            [
             0.5,
             "#f7f7f7"
            ],
            [
             0.6,
             "#e6f5d0"
            ],
            [
             0.7,
             "#b8e186"
            ],
            [
             0.8,
             "#7fbc41"
            ],
            [
             0.9,
             "#4d9221"
            ],
            [
             1,
             "#276419"
            ]
           ],
           "sequential": [
            [
             0,
             "#0d0887"
            ],
            [
             0.1111111111111111,
             "#46039f"
            ],
            [
             0.2222222222222222,
             "#7201a8"
            ],
            [
             0.3333333333333333,
             "#9c179e"
            ],
            [
             0.4444444444444444,
             "#bd3786"
            ],
            [
             0.5555555555555556,
             "#d8576b"
            ],
            [
             0.6666666666666666,
             "#ed7953"
            ],
            [
             0.7777777777777778,
             "#fb9f3a"
            ],
            [
             0.8888888888888888,
             "#fdca26"
            ],
            [
             1,
             "#f0f921"
            ]
           ],
           "sequentialminus": [
            [
             0,
             "#0d0887"
            ],
            [
             0.1111111111111111,
             "#46039f"
            ],
            [
             0.2222222222222222,
             "#7201a8"
            ],
            [
             0.3333333333333333,
             "#9c179e"
            ],
            [
             0.4444444444444444,
             "#bd3786"
            ],
            [
             0.5555555555555556,
             "#d8576b"
            ],
            [
             0.6666666666666666,
             "#ed7953"
            ],
            [
             0.7777777777777778,
             "#fb9f3a"
            ],
            [
             0.8888888888888888,
             "#fdca26"
            ],
            [
             1,
             "#f0f921"
            ]
           ]
          },
          "colorway": [
           "#636efa",
           "#EF553B",
           "#00cc96",
           "#ab63fa",
           "#FFA15A",
           "#19d3f3",
           "#FF6692",
           "#B6E880",
           "#FF97FF",
           "#FECB52"
          ],
          "font": {
           "color": "#2a3f5f"
          },
          "geo": {
           "bgcolor": "white",
           "lakecolor": "white",
           "landcolor": "#E5ECF6",
           "showlakes": true,
           "showland": true,
           "subunitcolor": "white"
          },
          "hoverlabel": {
           "align": "left"
          },
          "hovermode": "closest",
          "mapbox": {
           "style": "light"
          },
          "paper_bgcolor": "white",
          "plot_bgcolor": "#E5ECF6",
          "polar": {
           "angularaxis": {
            "gridcolor": "white",
            "linecolor": "white",
            "ticks": ""
           },
           "bgcolor": "#E5ECF6",
           "radialaxis": {
            "gridcolor": "white",
            "linecolor": "white",
            "ticks": ""
           }
          },
          "scene": {
           "xaxis": {
            "backgroundcolor": "#E5ECF6",
            "gridcolor": "white",
            "gridwidth": 2,
            "linecolor": "white",
            "showbackground": true,
            "ticks": "",
            "zerolinecolor": "white"
           },
           "yaxis": {
            "backgroundcolor": "#E5ECF6",
            "gridcolor": "white",
            "gridwidth": 2,
            "linecolor": "white",
            "showbackground": true,
            "ticks": "",
            "zerolinecolor": "white"
           },
           "zaxis": {
            "backgroundcolor": "#E5ECF6",
            "gridcolor": "white",
            "gridwidth": 2,
            "linecolor": "white",
            "showbackground": true,
            "ticks": "",
            "zerolinecolor": "white"
           }
          },
          "shapedefaults": {
           "line": {
            "color": "#2a3f5f"
           }
          },
          "ternary": {
           "aaxis": {
            "gridcolor": "white",
            "linecolor": "white",
            "ticks": ""
           },
           "baxis": {
            "gridcolor": "white",
            "linecolor": "white",
            "ticks": ""
           },
           "bgcolor": "#E5ECF6",
           "caxis": {
            "gridcolor": "white",
            "linecolor": "white",
            "ticks": ""
           }
          },
          "title": {
           "x": 0.05
          },
          "xaxis": {
           "automargin": true,
           "gridcolor": "white",
           "linecolor": "white",
           "ticks": "",
           "title": {
            "standoff": 15
           },
           "zerolinecolor": "white",
           "zerolinewidth": 2
          },
          "yaxis": {
           "automargin": true,
           "gridcolor": "white",
           "linecolor": "white",
           "ticks": "",
           "title": {
            "standoff": 15
           },
           "zerolinecolor": "white",
           "zerolinewidth": 2
          }
         }
        },
        "title": {
         "text": "GICS Sector Breakdown"
        }
       }
      }
     },
     "metadata": {},
     "output_type": "display_data"
    }
   ],
   "source": [
    "import plotly.express as px \n",
    "\n",
    "px.pie(SECTOR_DISTRIBUTION.reset_index(), values='proportion',names='GICS Sector',title='GICS Sector Breakdown')"
   ]
  },
  {
   "cell_type": "code",
   "execution_count": 73,
   "metadata": {},
   "outputs": [
    {
     "data": {
      "text/plain": [
       "GICS Sector             GICS Sub-Industry                           \n",
       "Health Care             Health Care Equipment                           0.035785\n",
       "Utilities               Electric Utilities                              0.029821\n",
       "Information Technology  Semiconductors                                  0.027833\n",
       "Industrials             Industrial Machinery & Supplies & Components    0.027833\n",
       "                        Aerospace & Defense                             0.023857\n",
       "                                                                          ...   \n",
       "                        Heavy Electrical Equipment                      0.001988\n",
       "                        Passenger Ground Transportation                 0.001988\n",
       "Information Technology  Technology Distributors                         0.001988\n",
       "Materials               Commodity Chemicals                             0.001988\n",
       "Utilities               Water Utilities                                 0.001988\n",
       "Name: proportion, Length: 127, dtype: float64"
      ]
     },
     "execution_count": 73,
     "metadata": {},
     "output_type": "execute_result"
    }
   ],
   "source": [
    "SECTOR_INDUSTRY_DISTRIBUTION=SP_500_DF[['GICS Sector','GICS Sub-Industry']].value_counts(normalize=True)\n",
    "SECTOR_INDUSTRY_DISTRIBUTION"
   ]
  },
  {
   "cell_type": "code",
   "execution_count": 97,
   "metadata": {},
   "outputs": [
    {
     "data": {
      "application/vnd.plotly.v1+json": {
       "config": {
        "plotlyServerURL": "https://plot.ly"
       },
       "data": [
        {
         "domain": {
          "x": [
           0,
           0.31999999999999995
          ],
          "y": [
           0.8025,
           1
          ]
         },
         "hovertemplate": "GICS Sector=Health Care<br>GICS Sub-Industry=%{label}<br>proportion=%{value}<extra></extra>",
         "labels": [
          "Health Care Equipment",
          "Life Sciences Tools & Services",
          "Biotechnology",
          "Pharmaceuticals",
          "Managed Health Care",
          "Health Care Services",
          "Health Care Distributors",
          "Health Care Supplies",
          "Health Care Facilities",
          "Health Care Technology"
         ],
         "legendgroup": "",
         "name": "",
         "showlegend": true,
         "type": "pie",
         "values": {
          "bdata": "XjGZBXNSoj/FZBbMSUmQP8VkFsxJSZA/WjAnJUGAjD/3/Rs/nFuEP/f9Gz+cW4Q/xWQWzElJgD8olyGy7m14P8VkFsxJSXA/xWQWzElJYD8=",
          "dtype": "f8"
         }
        },
        {
         "domain": {
          "x": [
           0.33999999999999997,
           0.6599999999999999
          ],
          "y": [
           0.8025,
           1
          ]
         },
         "hovertemplate": "GICS Sector=Utilities<br>GICS Sub-Industry=%{label}<br>proportion=%{value}<extra></extra>",
         "labels": [
          "Electric Utilities",
          "Multi-Utilities",
          "Independent Power Producers & Energy Traders",
          "Gas Utilities",
          "Water Utilities"
         ],
         "legendgroup": "",
         "name": "",
         "showlegend": true,
         "type": "pie",
         "values": {
          "bdata": "8vypXmqJnj8olyGy7m2YP8VkFsxJSXA/xWQWzElJYD/FZBbMSUlgPw==",
          "dtype": "f8"
         }
        },
        {
         "domain": {
          "x": [
           0.6799999999999999,
           0.9999999999999999
          ],
          "y": [
           0.8025,
           1
          ]
         },
         "hovertemplate": "GICS Sector=Information Technology<br>GICS Sub-Industry=%{label}<br>proportion=%{value}<extra></extra>",
         "labels": [
          "Semiconductors",
          "Application Software",
          "Technology Hardware, Storage & Peripherals",
          "Systems Software",
          "Communications Equipment",
          "Electronic Equipment & Instruments",
          "IT Consulting & Other Services",
          "Semiconductor Materials & Equipment",
          "Internet Services & Infrastructure",
          "Electronic Components",
          "Electronic Manufacturing Services",
          "Technology Distributors"
         ],
         "legendgroup": "",
         "name": "",
         "showlegend": true,
         "type": "pie",
         "values": {
          "bdata": "WjAnJUGAnD8olyGy7m2YP8VkFsxJSZA/KJchsu5tiD/3/Rs/nFuEP/f9Gz+cW4Q/9/0bP5xbhD/3/Rs/nFuEP8VkFsxJSYA/xWQWzElJcD/FZBbMSUlwP8VkFsxJSWA/",
          "dtype": "f8"
         }
        },
        {
         "domain": {
          "x": [
           0,
           0.31999999999999995
          ],
          "y": [
           0.535,
           0.7325
          ]
         },
         "hovertemplate": "GICS Sector=Industrials<br>GICS Sub-Industry=%{label}<br>proportion=%{value}<extra></extra>",
         "labels": [
          "Industrial Machinery & Supplies & Components",
          "Aerospace & Defense",
          "Building Products",
          "Electrical Components & Equipment",
          "Human Resource & Employment Services",
          "Construction Machinery & Heavy Transportation Equipment",
          "Air Freight & Logistics",
          "Environmental & Facilities Services",
          "Diversified Support Services",
          "Passenger Airlines",
          "Rail Transportation",
          "Trading Companies & Distributors",
          "Industrial Conglomerates",
          "Research & Consulting Services",
          "Construction & Engineering",
          "Cargo Ground Transportation",
          "Agricultural & Farm Machinery",
          "Data Processing & Outsourced Services",
          "Heavy Electrical Equipment",
          "Passenger Ground Transportation"
         ],
         "legendgroup": "",
         "name": "",
         "showlegend": true,
         "type": "pie",
         "values": {
          "bdata": "WjAnJUGAnD8olyGy7m2YP8VkFsxJSZA/9/0bP5xbhD/FZBbMSUmAP8VkFsxJSYA/xWQWzElJgD/FZBbMSUmAPyiXIbLubXg/KJchsu5teD8olyGy7m14P8VkFsxJSXA/xWQWzElJcD/FZBbMSUlwP8VkFsxJSXA/xWQWzElJcD/FZBbMSUlgP8VkFsxJSWA/xWQWzElJYD/FZBbMSUlgPw==",
          "dtype": "f8"
         }
        },
        {
         "domain": {
          "x": [
           0.33999999999999997,
           0.6599999999999999
          ],
          "y": [
           0.535,
           0.7325
          ]
         },
         "hovertemplate": "GICS Sector=Consumer Staples<br>GICS Sub-Industry=%{label}<br>proportion=%{value}<extra></extra>",
         "labels": [
          "Packaged Foods & Meats",
          "Consumer Staples Merchandise Retail",
          "Soft Drinks & Non-alcoholic Beverages",
          "Household Products",
          "Personal Care Products",
          "Agricultural Products & Services",
          "Distillers & Vintners",
          "Tobacco",
          "Food Distributors",
          "Brewers",
          "Drug Retail",
          "Food Retail"
         ],
         "legendgroup": "",
         "name": "",
         "showlegend": true,
         "type": "pie",
         "values": {
          "bdata": "KJchsu5tmD/3/Rs/nFuEP8VkFsxJSYA/xWQWzElJgD8olyGy7m14P8VkFsxJSXA/xWQWzElJcD/FZBbMSUlwP8VkFsxJSWA/xWQWzElJYD/FZBbMSUlgP8VkFsxJSWA/",
          "dtype": "f8"
         }
        },
        {
         "domain": {
          "x": [
           0.6799999999999999,
           0.9999999999999999
          ],
          "y": [
           0.535,
           0.7325
          ]
         },
         "hovertemplate": "GICS Sector=Financials<br>GICS Sub-Industry=%{label}<br>proportion=%{value}<extra></extra>",
         "labels": [
          "Asset Management & Custody Banks",
          "Financial Exchanges & Data",
          "Property & Casualty Insurance",
          "Transaction & Payment Processing Services",
          "Diversified Banks",
          "Regional Banks",
          "Insurance Brokers",
          "Life & Health Insurance",
          "Investment Banking & Brokerage",
          "Consumer Finance",
          "Multi-line Insurance",
          "Multi-Sector Holdings",
          "Reinsurance"
         ],
         "legendgroup": "",
         "name": "",
         "showlegend": true,
         "type": "pie",
         "values": {
          "bdata": "kMqeeMVklj9eMZkFc1KSP8VkFsxJSZA/xWQWzElJkD9aMCclQYCMPyiXIbLubYg/KJchsu5tiD/3/Rs/nFuEP8VkFsxJSYA/xWQWzElJgD8olyGy7m14P8VkFsxJSWA/xWQWzElJYD8=",
          "dtype": "f8"
         }
        },
        {
         "domain": {
          "x": [
           0,
           0.31999999999999995
          ],
          "y": [
           0.2675,
           0.465
          ]
         },
         "hovertemplate": "GICS Sector=Energy<br>GICS Sub-Industry=%{label}<br>proportion=%{value}<extra></extra>",
         "labels": [
          "Oil & Gas Exploration & Production",
          "Oil & Gas Storage & Transportation",
          "Integrated Oil & Gas",
          "Oil & Gas Equipment & Services",
          "Oil & Gas Refining & Marketing"
         ],
         "legendgroup": "",
         "name": "",
         "showlegend": true,
         "type": "pie",
         "values": {
          "bdata": "XjGZBXNSkj/FZBbMSUmAPyiXIbLubXg/KJchsu5teD8olyGy7m14Pw==",
          "dtype": "f8"
         }
        },
        {
         "domain": {
          "x": [
           0.33999999999999997,
           0.6599999999999999
          ],
          "y": [
           0.2675,
           0.465
          ]
         },
         "hovertemplate": "GICS Sector=Materials<br>GICS Sub-Industry=%{label}<br>proportion=%{value}<extra></extra>",
         "labels": [
          "Specialty Chemicals",
          "Paper & Plastic Packaging Products & Materials",
          "Fertilizers & Agricultural Chemicals",
          "Steel",
          "Construction Materials",
          "Industrial Gases",
          "Metal, Glass & Plastic Containers",
          "Gold",
          "Copper",
          "Commodity Chemicals"
         ],
         "legendgroup": "",
         "name": "",
         "showlegend": true,
         "type": "pie",
         "values": {
          "bdata": "XjGZBXNSkj/3/Rs/nFuEP8VkFsxJSYA/xWQWzElJcD/FZBbMSUlwP8VkFsxJSXA/xWQWzElJYD/FZBbMSUlgP8VkFsxJSWA/xWQWzElJYD8=",
          "dtype": "f8"
         }
        },
        {
         "domain": {
          "x": [
           0.6799999999999999,
           0.9999999999999999
          ],
          "y": [
           0.2675,
           0.465
          ]
         },
         "hovertemplate": "GICS Sector=Consumer Discretionary<br>GICS Sub-Industry=%{label}<br>proportion=%{value}<extra></extra>",
         "labels": [
          "Hotels, Resorts & Cruise Lines",
          "Restaurants",
          "Apparel, Accessories & Luxury Goods",
          "Casinos & Gaming",
          "Homebuilding",
          "Automobile Manufacturers",
          "Automotive Retail",
          "Distributors",
          "Other Specialty Retail",
          "Apparel Retail",
          "Automotive Parts & Equipment",
          "Broadline Retail",
          "Home Improvement Retail",
          "Computer & Electronics Retail",
          "Consumer Electronics",
          "Footwear",
          "Home Furnishings",
          "Leisure Products"
         ],
         "legendgroup": "",
         "name": "",
         "showlegend": true,
         "type": "pie",
         "values": {
          "bdata": "xWQWzElJkD8olyGy7m2IP8VkFsxJSYA/xWQWzElJgD/FZBbMSUmAPyiXIbLubXg/KJchsu5teD8olyGy7m14P8VkFsxJSXA/xWQWzElJcD/FZBbMSUlwP8VkFsxJSXA/xWQWzElJcD/FZBbMSUlgP8VkFsxJSWA/xWQWzElJYD/FZBbMSUlgP8VkFsxJSWA/",
          "dtype": "f8"
         }
        },
        {
         "domain": {
          "x": [
           0,
           0.31999999999999995
          ],
          "y": [
           0,
           0.1975
          ]
         },
         "hovertemplate": "GICS Sector=Real Estate<br>GICS Sub-Industry=%{label}<br>proportion=%{value}<extra></extra>",
         "labels": [
          "Multi-Family Residential REITs",
          "Retail REITs",
          "Health Care REITs",
          "Telecom Tower REITs",
          "Hotel & Resort REITs",
          "Data Center REITs",
          "Self-Storage REITs",
          "Real Estate Services",
          "Office REITs",
          "Single-Family Residential REITs",
          "Timber REITs",
          "Other Specialized REITs",
          "Industrial REITs"
         ],
         "legendgroup": "",
         "name": "",
         "showlegend": true,
         "type": "pie",
         "values": {
          "bdata": "KJchsu5tiD/3/Rs/nFuEPyiXIbLubXg/KJchsu5teD/FZBbMSUlwP8VkFsxJSXA/xWQWzElJcD/FZBbMSUlwP8VkFsxJSXA/xWQWzElJYD/FZBbMSUlgP8VkFsxJSWA/xWQWzElJYD8=",
          "dtype": "f8"
         }
        },
        {
         "domain": {
          "x": [
           0.33999999999999997,
           0.6599999999999999
          ],
          "y": [
           0,
           0.1975
          ]
         },
         "hovertemplate": "GICS Sector=Communication Services<br>GICS Sub-Industry=%{label}<br>proportion=%{value}<extra></extra>",
         "labels": [
          "Interactive Media & Services",
          "Movies & Entertainment",
          "Broadcasting",
          "Advertising",
          "Cable & Satellite",
          "Integrated Telecommunication Services",
          "Interactive Home Entertainment",
          "Publishing",
          "Wireless Telecommunication Services"
         ],
         "legendgroup": "",
         "name": "",
         "showlegend": true,
         "type": "pie",
         "values": {
          "bdata": "xWQWzElJgD/FZBbMSUmAPyiXIbLubXg/xWQWzElJcD/FZBbMSUlwP8VkFsxJSXA/xWQWzElJcD/FZBbMSUlwP8VkFsxJSWA/",
          "dtype": "f8"
         }
        }
       ],
       "layout": {
        "annotations": [
         {
          "font": {},
          "showarrow": false,
          "text": "GICS Sector=Real Estate",
          "x": 0.15999999999999998,
          "xanchor": "center",
          "xref": "paper",
          "y": 0.1975,
          "yanchor": "bottom",
          "yref": "paper"
         },
         {
          "font": {},
          "showarrow": false,
          "text": "GICS Sector=Communication Services",
          "x": 0.49999999999999994,
          "xanchor": "center",
          "xref": "paper",
          "y": 0.1975,
          "yanchor": "bottom",
          "yref": "paper"
         },
         {
          "font": {},
          "showarrow": false,
          "text": "GICS Sector=Energy",
          "x": 0.15999999999999998,
          "xanchor": "center",
          "xref": "paper",
          "y": 0.465,
          "yanchor": "bottom",
          "yref": "paper"
         },
         {
          "font": {},
          "showarrow": false,
          "text": "GICS Sector=Materials",
          "x": 0.49999999999999994,
          "xanchor": "center",
          "xref": "paper",
          "y": 0.465,
          "yanchor": "bottom",
          "yref": "paper"
         },
         {
          "font": {},
          "showarrow": false,
          "text": "GICS Sector=Consumer Discretionary",
          "x": 0.8399999999999999,
          "xanchor": "center",
          "xref": "paper",
          "y": 0.465,
          "yanchor": "bottom",
          "yref": "paper"
         },
         {
          "font": {},
          "showarrow": false,
          "text": "GICS Sector=Industrials",
          "x": 0.15999999999999998,
          "xanchor": "center",
          "xref": "paper",
          "y": 0.7325,
          "yanchor": "bottom",
          "yref": "paper"
         },
         {
          "font": {},
          "showarrow": false,
          "text": "GICS Sector=Consumer Staples",
          "x": 0.49999999999999994,
          "xanchor": "center",
          "xref": "paper",
          "y": 0.7325,
          "yanchor": "bottom",
          "yref": "paper"
         },
         {
          "font": {},
          "showarrow": false,
          "text": "GICS Sector=Financials",
          "x": 0.8399999999999999,
          "xanchor": "center",
          "xref": "paper",
          "y": 0.7325,
          "yanchor": "bottom",
          "yref": "paper"
         },
         {
          "font": {},
          "showarrow": false,
          "text": "GICS Sector=Health Care",
          "x": 0.15999999999999998,
          "xanchor": "center",
          "xref": "paper",
          "y": 1,
          "yanchor": "bottom",
          "yref": "paper"
         },
         {
          "font": {},
          "showarrow": false,
          "text": "GICS Sector=Utilities",
          "x": 0.49999999999999994,
          "xanchor": "center",
          "xref": "paper",
          "y": 1,
          "yanchor": "bottom",
          "yref": "paper"
         },
         {
          "font": {},
          "showarrow": false,
          "text": "GICS Sector=Information Technology",
          "x": 0.8399999999999999,
          "xanchor": "center",
          "xref": "paper",
          "y": 1,
          "yanchor": "bottom",
          "yref": "paper"
         }
        ],
        "height": 800,
        "legend": {
         "tracegroupgap": 0
        },
        "template": {
         "data": {
          "bar": [
           {
            "error_x": {
             "color": "#2a3f5f"
            },
            "error_y": {
             "color": "#2a3f5f"
            },
            "marker": {
             "line": {
              "color": "#E5ECF6",
              "width": 0.5
             },
             "pattern": {
              "fillmode": "overlay",
              "size": 10,
              "solidity": 0.2
             }
            },
            "type": "bar"
           }
          ],
          "barpolar": [
           {
            "marker": {
             "line": {
              "color": "#E5ECF6",
              "width": 0.5
             },
             "pattern": {
              "fillmode": "overlay",
              "size": 10,
              "solidity": 0.2
             }
            },
            "type": "barpolar"
           }
          ],
          "carpet": [
           {
            "aaxis": {
             "endlinecolor": "#2a3f5f",
             "gridcolor": "white",
             "linecolor": "white",
             "minorgridcolor": "white",
             "startlinecolor": "#2a3f5f"
            },
            "baxis": {
             "endlinecolor": "#2a3f5f",
             "gridcolor": "white",
             "linecolor": "white",
             "minorgridcolor": "white",
             "startlinecolor": "#2a3f5f"
            },
            "type": "carpet"
           }
          ],
          "choropleth": [
           {
            "colorbar": {
             "outlinewidth": 0,
             "ticks": ""
            },
            "type": "choropleth"
           }
          ],
          "contour": [
           {
            "colorbar": {
             "outlinewidth": 0,
             "ticks": ""
            },
            "colorscale": [
             [
              0,
              "#0d0887"
             ],
             [
              0.1111111111111111,
              "#46039f"
             ],
             [
              0.2222222222222222,
              "#7201a8"
             ],
             [
              0.3333333333333333,
              "#9c179e"
             ],
             [
              0.4444444444444444,
              "#bd3786"
             ],
             [
              0.5555555555555556,
              "#d8576b"
             ],
             [
              0.6666666666666666,
              "#ed7953"
             ],
             [
              0.7777777777777778,
              "#fb9f3a"
             ],
             [
              0.8888888888888888,
              "#fdca26"
             ],
             [
              1,
              "#f0f921"
             ]
            ],
            "type": "contour"
           }
          ],
          "contourcarpet": [
           {
            "colorbar": {
             "outlinewidth": 0,
             "ticks": ""
            },
            "type": "contourcarpet"
           }
          ],
          "heatmap": [
           {
            "colorbar": {
             "outlinewidth": 0,
             "ticks": ""
            },
            "colorscale": [
             [
              0,
              "#0d0887"
             ],
             [
              0.1111111111111111,
              "#46039f"
             ],
             [
              0.2222222222222222,
              "#7201a8"
             ],
             [
              0.3333333333333333,
              "#9c179e"
             ],
             [
              0.4444444444444444,
              "#bd3786"
             ],
             [
              0.5555555555555556,
              "#d8576b"
             ],
             [
              0.6666666666666666,
              "#ed7953"
             ],
             [
              0.7777777777777778,
              "#fb9f3a"
             ],
             [
              0.8888888888888888,
              "#fdca26"
             ],
             [
              1,
              "#f0f921"
             ]
            ],
            "type": "heatmap"
           }
          ],
          "histogram": [
           {
            "marker": {
             "pattern": {
              "fillmode": "overlay",
              "size": 10,
              "solidity": 0.2
             }
            },
            "type": "histogram"
           }
          ],
          "histogram2d": [
           {
            "colorbar": {
             "outlinewidth": 0,
             "ticks": ""
            },
            "colorscale": [
             [
              0,
              "#0d0887"
             ],
             [
              0.1111111111111111,
              "#46039f"
             ],
             [
              0.2222222222222222,
              "#7201a8"
             ],
             [
              0.3333333333333333,
              "#9c179e"
             ],
             [
              0.4444444444444444,
              "#bd3786"
             ],
             [
              0.5555555555555556,
              "#d8576b"
             ],
             [
              0.6666666666666666,
              "#ed7953"
             ],
             [
              0.7777777777777778,
              "#fb9f3a"
             ],
             [
              0.8888888888888888,
              "#fdca26"
             ],
             [
              1,
              "#f0f921"
             ]
            ],
            "type": "histogram2d"
           }
          ],
          "histogram2dcontour": [
           {
            "colorbar": {
             "outlinewidth": 0,
             "ticks": ""
            },
            "colorscale": [
             [
              0,
              "#0d0887"
             ],
             [
              0.1111111111111111,
              "#46039f"
             ],
             [
              0.2222222222222222,
              "#7201a8"
             ],
             [
              0.3333333333333333,
              "#9c179e"
             ],
             [
              0.4444444444444444,
              "#bd3786"
             ],
             [
              0.5555555555555556,
              "#d8576b"
             ],
             [
              0.6666666666666666,
              "#ed7953"
             ],
             [
              0.7777777777777778,
              "#fb9f3a"
             ],
             [
              0.8888888888888888,
              "#fdca26"
             ],
             [
              1,
              "#f0f921"
             ]
            ],
            "type": "histogram2dcontour"
           }
          ],
          "mesh3d": [
           {
            "colorbar": {
             "outlinewidth": 0,
             "ticks": ""
            },
            "type": "mesh3d"
           }
          ],
          "parcoords": [
           {
            "line": {
             "colorbar": {
              "outlinewidth": 0,
              "ticks": ""
             }
            },
            "type": "parcoords"
           }
          ],
          "pie": [
           {
            "automargin": true,
            "type": "pie"
           }
          ],
          "scatter": [
           {
            "fillpattern": {
             "fillmode": "overlay",
             "size": 10,
             "solidity": 0.2
            },
            "type": "scatter"
           }
          ],
          "scatter3d": [
           {
            "line": {
             "colorbar": {
              "outlinewidth": 0,
              "ticks": ""
             }
            },
            "marker": {
             "colorbar": {
              "outlinewidth": 0,
              "ticks": ""
             }
            },
            "type": "scatter3d"
           }
          ],
          "scattercarpet": [
           {
            "marker": {
             "colorbar": {
              "outlinewidth": 0,
              "ticks": ""
             }
            },
            "type": "scattercarpet"
           }
          ],
          "scattergeo": [
           {
            "marker": {
             "colorbar": {
              "outlinewidth": 0,
              "ticks": ""
             }
            },
            "type": "scattergeo"
           }
          ],
          "scattergl": [
           {
            "marker": {
             "colorbar": {
              "outlinewidth": 0,
              "ticks": ""
             }
            },
            "type": "scattergl"
           }
          ],
          "scattermap": [
           {
            "marker": {
             "colorbar": {
              "outlinewidth": 0,
              "ticks": ""
             }
            },
            "type": "scattermap"
           }
          ],
          "scattermapbox": [
           {
            "marker": {
             "colorbar": {
              "outlinewidth": 0,
              "ticks": ""
             }
            },
            "type": "scattermapbox"
           }
          ],
          "scatterpolar": [
           {
            "marker": {
             "colorbar": {
              "outlinewidth": 0,
              "ticks": ""
             }
            },
            "type": "scatterpolar"
           }
          ],
          "scatterpolargl": [
           {
            "marker": {
             "colorbar": {
              "outlinewidth": 0,
              "ticks": ""
             }
            },
            "type": "scatterpolargl"
           }
          ],
          "scatterternary": [
           {
            "marker": {
             "colorbar": {
              "outlinewidth": 0,
              "ticks": ""
             }
            },
            "type": "scatterternary"
           }
          ],
          "surface": [
           {
            "colorbar": {
             "outlinewidth": 0,
             "ticks": ""
            },
            "colorscale": [
             [
              0,
              "#0d0887"
             ],
             [
              0.1111111111111111,
              "#46039f"
             ],
             [
              0.2222222222222222,
              "#7201a8"
             ],
             [
              0.3333333333333333,
              "#9c179e"
             ],
             [
              0.4444444444444444,
              "#bd3786"
             ],
             [
              0.5555555555555556,
              "#d8576b"
             ],
             [
              0.6666666666666666,
              "#ed7953"
             ],
             [
              0.7777777777777778,
              "#fb9f3a"
             ],
             [
              0.8888888888888888,
              "#fdca26"
             ],
             [
              1,
              "#f0f921"
             ]
            ],
            "type": "surface"
           }
          ],
          "table": [
           {
            "cells": {
             "fill": {
              "color": "#EBF0F8"
             },
             "line": {
              "color": "white"
             }
            },
            "header": {
             "fill": {
              "color": "#C8D4E3"
             },
             "line": {
              "color": "white"
             }
            },
            "type": "table"
           }
          ]
         },
         "layout": {
          "annotationdefaults": {
           "arrowcolor": "#2a3f5f",
           "arrowhead": 0,
           "arrowwidth": 1
          },
          "autotypenumbers": "strict",
          "coloraxis": {
           "colorbar": {
            "outlinewidth": 0,
            "ticks": ""
           }
          },
          "colorscale": {
           "diverging": [
            [
             0,
             "#8e0152"
            ],
            [
             0.1,
             "#c51b7d"
            ],
            [
             0.2,
             "#de77ae"
            ],
            [
             0.3,
             "#f1b6da"
            ],
            [
             0.4,
             "#fde0ef"
            ],
            [
             0.5,
             "#f7f7f7"
            ],
            [
             0.6,
             "#e6f5d0"
            ],
            [
             0.7,
             "#b8e186"
            ],
            [
             0.8,
             "#7fbc41"
            ],
            [
             0.9,
             "#4d9221"
            ],
            [
             1,
             "#276419"
            ]
           ],
           "sequential": [
            [
             0,
             "#0d0887"
            ],
            [
             0.1111111111111111,
             "#46039f"
            ],
            [
             0.2222222222222222,
             "#7201a8"
            ],
            [
             0.3333333333333333,
             "#9c179e"
            ],
            [
             0.4444444444444444,
             "#bd3786"
            ],
            [
             0.5555555555555556,
             "#d8576b"
            ],
            [
             0.6666666666666666,
             "#ed7953"
            ],
            [
             0.7777777777777778,
             "#fb9f3a"
            ],
            [
             0.8888888888888888,
             "#fdca26"
            ],
            [
             1,
             "#f0f921"
            ]
           ],
           "sequentialminus": [
            [
             0,
             "#0d0887"
            ],
            [
             0.1111111111111111,
             "#46039f"
            ],
            [
             0.2222222222222222,
             "#7201a8"
            ],
            [
             0.3333333333333333,
             "#9c179e"
            ],
            [
             0.4444444444444444,
             "#bd3786"
            ],
            [
             0.5555555555555556,
             "#d8576b"
            ],
            [
             0.6666666666666666,
             "#ed7953"
            ],
            [
             0.7777777777777778,
             "#fb9f3a"
            ],
            [
             0.8888888888888888,
             "#fdca26"
            ],
            [
             1,
             "#f0f921"
            ]
           ]
          },
          "colorway": [
           "#636efa",
           "#EF553B",
           "#00cc96",
           "#ab63fa",
           "#FFA15A",
           "#19d3f3",
           "#FF6692",
           "#B6E880",
           "#FF97FF",
           "#FECB52"
          ],
          "font": {
           "color": "#2a3f5f"
          },
          "geo": {
           "bgcolor": "white",
           "lakecolor": "white",
           "landcolor": "#E5ECF6",
           "showlakes": true,
           "showland": true,
           "subunitcolor": "white"
          },
          "hoverlabel": {
           "align": "left"
          },
          "hovermode": "closest",
          "mapbox": {
           "style": "light"
          },
          "paper_bgcolor": "white",
          "plot_bgcolor": "#E5ECF6",
          "polar": {
           "angularaxis": {
            "gridcolor": "white",
            "linecolor": "white",
            "ticks": ""
           },
           "bgcolor": "#E5ECF6",
           "radialaxis": {
            "gridcolor": "white",
            "linecolor": "white",
            "ticks": ""
           }
          },
          "scene": {
           "xaxis": {
            "backgroundcolor": "#E5ECF6",
            "gridcolor": "white",
            "gridwidth": 2,
            "linecolor": "white",
            "showbackground": true,
            "ticks": "",
            "zerolinecolor": "white"
           },
           "yaxis": {
            "backgroundcolor": "#E5ECF6",
            "gridcolor": "white",
            "gridwidth": 2,
            "linecolor": "white",
            "showbackground": true,
            "ticks": "",
            "zerolinecolor": "white"
           },
           "zaxis": {
            "backgroundcolor": "#E5ECF6",
            "gridcolor": "white",
            "gridwidth": 2,
            "linecolor": "white",
            "showbackground": true,
            "ticks": "",
            "zerolinecolor": "white"
           }
          },
          "shapedefaults": {
           "line": {
            "color": "#2a3f5f"
           }
          },
          "ternary": {
           "aaxis": {
            "gridcolor": "white",
            "linecolor": "white",
            "ticks": ""
           },
           "baxis": {
            "gridcolor": "white",
            "linecolor": "white",
            "ticks": ""
           },
           "bgcolor": "#E5ECF6",
           "caxis": {
            "gridcolor": "white",
            "linecolor": "white",
            "ticks": ""
           }
          },
          "title": {
           "x": 0.05
          },
          "xaxis": {
           "automargin": true,
           "gridcolor": "white",
           "linecolor": "white",
           "ticks": "",
           "title": {
            "standoff": 15
           },
           "zerolinecolor": "white",
           "zerolinewidth": 2
          },
          "yaxis": {
           "automargin": true,
           "gridcolor": "white",
           "linecolor": "white",
           "ticks": "",
           "title": {
            "standoff": 15
           },
           "zerolinecolor": "white",
           "zerolinewidth": 2
          }
         }
        },
        "title": {
         "text": "GICS Sub-Industry"
        },
        "width": 1300
       }
      }
     },
     "metadata": {},
     "output_type": "display_data"
    }
   ],
   "source": [
    "px.pie(SECTOR_INDUSTRY_DISTRIBUTION.reset_index(), values='proportion',names='GICS Sub-Industry',title='GICS Sub-Industry',facet_col='GICS Sector', facet_col_wrap=3,height=800, width=1300)"
   ]
  },
  {
   "cell_type": "code",
   "execution_count": 75,
   "metadata": {},
   "outputs": [
    {
     "data": {
      "application/vnd.plotly.v1+json": {
       "config": {
        "plotlyServerURL": "https://plot.ly"
       },
       "data": [
        {
         "branchvalues": "total",
         "domain": {
          "x": [
           0,
           1
          ],
          "y": [
           0,
           1
          ]
         },
         "hovertemplate": "labels=%{label}<br>proportion=%{value}<br>parent=%{parent}<br>id=%{id}<extra></extra>",
         "ids": [
          "SP-500/Health Care/Health Care Equipment",
          "SP-500/Utilities/Electric Utilities",
          "SP-500/Information Technology/Semiconductors",
          "SP-500/Industrials/Industrial Machinery & Supplies & Components",
          "SP-500/Industrials/Aerospace & Defense",
          "SP-500/Utilities/Multi-Utilities",
          "SP-500/Information Technology/Application Software",
          "SP-500/Consumer Staples/Packaged Foods & Meats",
          "SP-500/Financials/Asset Management & Custody Banks",
          "SP-500/Energy/Oil & Gas Exploration & Production",
          "SP-500/Financials/Financial Exchanges & Data",
          "SP-500/Materials/Specialty Chemicals",
          "SP-500/Financials/Property & Casualty Insurance",
          "SP-500/Financials/Transaction & Payment Processing Services",
          "SP-500/Consumer Discretionary/Hotels, Resorts & Cruise Lines",
          "SP-500/Health Care/Life Sciences Tools & Services",
          "SP-500/Industrials/Building Products",
          "SP-500/Health Care/Biotechnology",
          "SP-500/Information Technology/Technology Hardware, Storage & Peripherals",
          "SP-500/Health Care/Pharmaceuticals",
          "SP-500/Financials/Diversified Banks",
          "SP-500/Information Technology/Systems Software",
          "SP-500/Financials/Regional Banks",
          "SP-500/Financials/Insurance Brokers",
          "SP-500/Consumer Discretionary/Restaurants",
          "SP-500/Real Estate/Multi-Family Residential REITs",
          "SP-500/Information Technology/Communications Equipment",
          "SP-500/Health Care/Managed Health Care",
          "SP-500/Health Care/Health Care Services",
          "SP-500/Real Estate/Retail REITs",
          "SP-500/Financials/Life & Health Insurance",
          "SP-500/Consumer Staples/Consumer Staples Merchandise Retail",
          "SP-500/Information Technology/Electronic Equipment & Instruments",
          "SP-500/Materials/Paper & Plastic Packaging Products & Materials",
          "SP-500/Information Technology/IT Consulting & Other Services",
          "SP-500/Industrials/Electrical Components & Equipment",
          "SP-500/Information Technology/Semiconductor Materials & Equipment",
          "SP-500/Health Care/Health Care Distributors",
          "SP-500/Materials/Fertilizers & Agricultural Chemicals",
          "SP-500/Communication Services/Interactive Media & Services",
          "SP-500/Communication Services/Movies & Entertainment",
          "SP-500/Financials/Investment Banking & Brokerage",
          "SP-500/Consumer Discretionary/Apparel, Accessories & Luxury Goods",
          "SP-500/Industrials/Human Resource & Employment Services",
          "SP-500/Industrials/Construction Machinery & Heavy Transportation Equipment",
          "SP-500/Financials/Consumer Finance",
          "SP-500/Consumer Discretionary/Casinos & Gaming",
          "SP-500/Energy/Oil & Gas Storage & Transportation",
          "SP-500/Information Technology/Internet Services & Infrastructure",
          "SP-500/Consumer Discretionary/Homebuilding",
          "SP-500/Consumer Staples/Soft Drinks & Non-alcoholic Beverages",
          "SP-500/Industrials/Air Freight & Logistics",
          "SP-500/Consumer Staples/Household Products",
          "SP-500/Industrials/Environmental & Facilities Services",
          "SP-500/Health Care/Health Care Supplies",
          "SP-500/Communication Services/Broadcasting",
          "SP-500/Industrials/Diversified Support Services",
          "SP-500/Industrials/Passenger Airlines",
          "SP-500/Financials/Multi-line Insurance",
          "SP-500/Real Estate/Health Care REITs",
          "SP-500/Consumer Staples/Personal Care Products",
          "SP-500/Consumer Discretionary/Automobile Manufacturers",
          "SP-500/Consumer Discretionary/Automotive Retail",
          "SP-500/Consumer Discretionary/Distributors",
          "SP-500/Real Estate/Telecom Tower REITs",
          "SP-500/Industrials/Rail Transportation",
          "SP-500/Energy/Integrated Oil & Gas",
          "SP-500/Energy/Oil & Gas Equipment & Services",
          "SP-500/Energy/Oil & Gas Refining & Marketing",
          "SP-500/Information Technology/Electronic Components",
          "SP-500/Industrials/Trading Companies & Distributors",
          "SP-500/Real Estate/Hotel & Resort REITs",
          "SP-500/Real Estate/Data Center REITs",
          "SP-500/Industrials/Industrial Conglomerates",
          "SP-500/Industrials/Research & Consulting Services",
          "SP-500/Materials/Steel",
          "SP-500/Materials/Construction Materials",
          "SP-500/Information Technology/Electronic Manufacturing Services",
          "SP-500/Communication Services/Advertising",
          "SP-500/Consumer Discretionary/Other Specialty Retail",
          "SP-500/Consumer Staples/Agricultural Products & Services",
          "SP-500/Communication Services/Cable & Satellite",
          "SP-500/Communication Services/Integrated Telecommunication Services",
          "SP-500/Communication Services/Interactive Home Entertainment",
          "SP-500/Communication Services/Publishing",
          "SP-500/Consumer Discretionary/Apparel Retail",
          "SP-500/Consumer Discretionary/Automotive Parts & Equipment",
          "SP-500/Consumer Discretionary/Broadline Retail",
          "SP-500/Utilities/Independent Power Producers & Energy Traders",
          "SP-500/Consumer Discretionary/Home Improvement Retail",
          "SP-500/Industrials/Construction & Engineering",
          "SP-500/Materials/Industrial Gases",
          "SP-500/Consumer Staples/Distillers & Vintners",
          "SP-500/Real Estate/Self-Storage REITs",
          "SP-500/Real Estate/Real Estate Services",
          "SP-500/Consumer Staples/Tobacco",
          "SP-500/Real Estate/Office REITs",
          "SP-500/Health Care/Health Care Facilities",
          "SP-500/Industrials/Cargo Ground Transportation",
          "SP-500/Real Estate/Single-Family Residential REITs",
          "SP-500/Real Estate/Timber REITs",
          "SP-500/Utilities/Gas Utilities",
          "SP-500/Real Estate/Other Specialized REITs",
          "SP-500/Materials/Metal, Glass & Plastic Containers",
          "SP-500/Real Estate/Industrial REITs",
          "SP-500/Health Care/Health Care Technology",
          "SP-500/Materials/Gold",
          "SP-500/Consumer Staples/Food Distributors",
          "SP-500/Communication Services/Wireless Telecommunication Services",
          "SP-500/Consumer Discretionary/Computer & Electronics Retail",
          "SP-500/Consumer Discretionary/Consumer Electronics",
          "SP-500/Consumer Discretionary/Footwear",
          "SP-500/Consumer Discretionary/Home Furnishings",
          "SP-500/Consumer Discretionary/Leisure Products",
          "SP-500/Consumer Staples/Brewers",
          "SP-500/Consumer Staples/Drug Retail",
          "SP-500/Consumer Staples/Food Retail",
          "SP-500/Materials/Copper",
          "SP-500/Financials/Multi-Sector Holdings",
          "SP-500/Financials/Reinsurance",
          "SP-500/Industrials/Agricultural & Farm Machinery",
          "SP-500/Industrials/Data Processing & Outsourced Services",
          "SP-500/Industrials/Heavy Electrical Equipment",
          "SP-500/Industrials/Passenger Ground Transportation",
          "SP-500/Information Technology/Technology Distributors",
          "SP-500/Materials/Commodity Chemicals",
          "SP-500/Utilities/Water Utilities",
          "SP-500/Health Care",
          "SP-500/Utilities",
          "SP-500/Information Technology",
          "SP-500/Industrials",
          "SP-500/Consumer Staples",
          "SP-500/Financials",
          "SP-500/Energy",
          "SP-500/Materials",
          "SP-500/Consumer Discretionary",
          "SP-500/Real Estate",
          "SP-500/Communication Services",
          "SP-500"
         ],
         "labels": [
          "Health Care Equipment",
          "Electric Utilities",
          "Semiconductors",
          "Industrial Machinery & Supplies & Components",
          "Aerospace & Defense",
          "Multi-Utilities",
          "Application Software",
          "Packaged Foods & Meats",
          "Asset Management & Custody Banks",
          "Oil & Gas Exploration & Production",
          "Financial Exchanges & Data",
          "Specialty Chemicals",
          "Property & Casualty Insurance",
          "Transaction & Payment Processing Services",
          "Hotels, Resorts & Cruise Lines",
          "Life Sciences Tools & Services",
          "Building Products",
          "Biotechnology",
          "Technology Hardware, Storage & Peripherals",
          "Pharmaceuticals",
          "Diversified Banks",
          "Systems Software",
          "Regional Banks",
          "Insurance Brokers",
          "Restaurants",
          "Multi-Family Residential REITs",
          "Communications Equipment",
          "Managed Health Care",
          "Health Care Services",
          "Retail REITs",
          "Life & Health Insurance",
          "Consumer Staples Merchandise Retail",
          "Electronic Equipment & Instruments",
          "Paper & Plastic Packaging Products & Materials",
          "IT Consulting & Other Services",
          "Electrical Components & Equipment",
          "Semiconductor Materials & Equipment",
          "Health Care Distributors",
          "Fertilizers & Agricultural Chemicals",
          "Interactive Media & Services",
          "Movies & Entertainment",
          "Investment Banking & Brokerage",
          "Apparel, Accessories & Luxury Goods",
          "Human Resource & Employment Services",
          "Construction Machinery & Heavy Transportation Equipment",
          "Consumer Finance",
          "Casinos & Gaming",
          "Oil & Gas Storage & Transportation",
          "Internet Services & Infrastructure",
          "Homebuilding",
          "Soft Drinks & Non-alcoholic Beverages",
          "Air Freight & Logistics",
          "Household Products",
          "Environmental & Facilities Services",
          "Health Care Supplies",
          "Broadcasting",
          "Diversified Support Services",
          "Passenger Airlines",
          "Multi-line Insurance",
          "Health Care REITs",
          "Personal Care Products",
          "Automobile Manufacturers",
          "Automotive Retail",
          "Distributors",
          "Telecom Tower REITs",
          "Rail Transportation",
          "Integrated Oil & Gas",
          "Oil & Gas Equipment & Services",
          "Oil & Gas Refining & Marketing",
          "Electronic Components",
          "Trading Companies & Distributors",
          "Hotel & Resort REITs",
          "Data Center REITs",
          "Industrial Conglomerates",
          "Research & Consulting Services",
          "Steel",
          "Construction Materials",
          "Electronic Manufacturing Services",
          "Advertising",
          "Other Specialty Retail",
          "Agricultural Products & Services",
          "Cable & Satellite",
          "Integrated Telecommunication Services",
          "Interactive Home Entertainment",
          "Publishing",
          "Apparel Retail",
          "Automotive Parts & Equipment",
          "Broadline Retail",
          "Independent Power Producers & Energy Traders",
          "Home Improvement Retail",
          "Construction & Engineering",
          "Industrial Gases",
          "Distillers & Vintners",
          "Self-Storage REITs",
          "Real Estate Services",
          "Tobacco",
          "Office REITs",
          "Health Care Facilities",
          "Cargo Ground Transportation",
          "Single-Family Residential REITs",
          "Timber REITs",
          "Gas Utilities",
          "Other Specialized REITs",
          "Metal, Glass & Plastic Containers",
          "Industrial REITs",
          "Health Care Technology",
          "Gold",
          "Food Distributors",
          "Wireless Telecommunication Services",
          "Computer & Electronics Retail",
          "Consumer Electronics",
          "Footwear",
          "Home Furnishings",
          "Leisure Products",
          "Brewers",
          "Drug Retail",
          "Food Retail",
          "Copper",
          "Multi-Sector Holdings",
          "Reinsurance",
          "Agricultural & Farm Machinery",
          "Data Processing & Outsourced Services",
          "Heavy Electrical Equipment",
          "Passenger Ground Transportation",
          "Technology Distributors",
          "Commodity Chemicals",
          "Water Utilities",
          "Health Care",
          "Utilities",
          "Information Technology",
          "Industrials",
          "Consumer Staples",
          "Financials",
          "Energy",
          "Materials",
          "Consumer Discretionary",
          "Real Estate",
          "Communication Services",
          "SP-500"
         ],
         "name": "",
         "parents": [
          "SP-500/Health Care",
          "SP-500/Utilities",
          "SP-500/Information Technology",
          "SP-500/Industrials",
          "SP-500/Industrials",
          "SP-500/Utilities",
          "SP-500/Information Technology",
          "SP-500/Consumer Staples",
          "SP-500/Financials",
          "SP-500/Energy",
          "SP-500/Financials",
          "SP-500/Materials",
          "SP-500/Financials",
          "SP-500/Financials",
          "SP-500/Consumer Discretionary",
          "SP-500/Health Care",
          "SP-500/Industrials",
          "SP-500/Health Care",
          "SP-500/Information Technology",
          "SP-500/Health Care",
          "SP-500/Financials",
          "SP-500/Information Technology",
          "SP-500/Financials",
          "SP-500/Financials",
          "SP-500/Consumer Discretionary",
          "SP-500/Real Estate",
          "SP-500/Information Technology",
          "SP-500/Health Care",
          "SP-500/Health Care",
          "SP-500/Real Estate",
          "SP-500/Financials",
          "SP-500/Consumer Staples",
          "SP-500/Information Technology",
          "SP-500/Materials",
          "SP-500/Information Technology",
          "SP-500/Industrials",
          "SP-500/Information Technology",
          "SP-500/Health Care",
          "SP-500/Materials",
          "SP-500/Communication Services",
          "SP-500/Communication Services",
          "SP-500/Financials",
          "SP-500/Consumer Discretionary",
          "SP-500/Industrials",
          "SP-500/Industrials",
          "SP-500/Financials",
          "SP-500/Consumer Discretionary",
          "SP-500/Energy",
          "SP-500/Information Technology",
          "SP-500/Consumer Discretionary",
          "SP-500/Consumer Staples",
          "SP-500/Industrials",
          "SP-500/Consumer Staples",
          "SP-500/Industrials",
          "SP-500/Health Care",
          "SP-500/Communication Services",
          "SP-500/Industrials",
          "SP-500/Industrials",
          "SP-500/Financials",
          "SP-500/Real Estate",
          "SP-500/Consumer Staples",
          "SP-500/Consumer Discretionary",
          "SP-500/Consumer Discretionary",
          "SP-500/Consumer Discretionary",
          "SP-500/Real Estate",
          "SP-500/Industrials",
          "SP-500/Energy",
          "SP-500/Energy",
          "SP-500/Energy",
          "SP-500/Information Technology",
          "SP-500/Industrials",
          "SP-500/Real Estate",
          "SP-500/Real Estate",
          "SP-500/Industrials",
          "SP-500/Industrials",
          "SP-500/Materials",
          "SP-500/Materials",
          "SP-500/Information Technology",
          "SP-500/Communication Services",
          "SP-500/Consumer Discretionary",
          "SP-500/Consumer Staples",
          "SP-500/Communication Services",
          "SP-500/Communication Services",
          "SP-500/Communication Services",
          "SP-500/Communication Services",
          "SP-500/Consumer Discretionary",
          "SP-500/Consumer Discretionary",
          "SP-500/Consumer Discretionary",
          "SP-500/Utilities",
          "SP-500/Consumer Discretionary",
          "SP-500/Industrials",
          "SP-500/Materials",
          "SP-500/Consumer Staples",
          "SP-500/Real Estate",
          "SP-500/Real Estate",
          "SP-500/Consumer Staples",
          "SP-500/Real Estate",
          "SP-500/Health Care",
          "SP-500/Industrials",
          "SP-500/Real Estate",
          "SP-500/Real Estate",
          "SP-500/Utilities",
          "SP-500/Real Estate",
          "SP-500/Materials",
          "SP-500/Real Estate",
          "SP-500/Health Care",
          "SP-500/Materials",
          "SP-500/Consumer Staples",
          "SP-500/Communication Services",
          "SP-500/Consumer Discretionary",
          "SP-500/Consumer Discretionary",
          "SP-500/Consumer Discretionary",
          "SP-500/Consumer Discretionary",
          "SP-500/Consumer Discretionary",
          "SP-500/Consumer Staples",
          "SP-500/Consumer Staples",
          "SP-500/Consumer Staples",
          "SP-500/Materials",
          "SP-500/Financials",
          "SP-500/Financials",
          "SP-500/Industrials",
          "SP-500/Industrials",
          "SP-500/Industrials",
          "SP-500/Industrials",
          "SP-500/Information Technology",
          "SP-500/Materials",
          "SP-500/Utilities",
          "SP-500",
          "SP-500",
          "SP-500",
          "SP-500",
          "SP-500",
          "SP-500",
          "SP-500",
          "SP-500",
          "SP-500",
          "SP-500",
          "SP-500",
          ""
         ],
         "type": "treemap",
         "values": {
          "bdata": "XjGZBXNSoj/y/KleaomeP1owJyVBgJw/WjAnJUGAnD8olyGy7m2YPyiXIbLubZg/KJchsu5tmD8olyGy7m2YP5DKnnjFZJY/XjGZBXNSkj9eMZkFc1KSP14xmQVzUpI/xWQWzElJkD/FZBbMSUmQP8VkFsxJSZA/xWQWzElJkD/FZBbMSUmQP8VkFsxJSZA/xWQWzElJkD9aMCclQYCMP1owJyVBgIw/KJchsu5tiD8olyGy7m2IPyiXIbLubYg/KJchsu5tiD8olyGy7m2IP/f9Gz+cW4Q/9/0bP5xbhD/3/Rs/nFuEP/f9Gz+cW4Q/9/0bP5xbhD/3/Rs/nFuEP/f9Gz+cW4Q/9/0bP5xbhD/3/Rs/nFuEP/f9Gz+cW4Q/9/0bP5xbhD/FZBbMSUmAP8VkFsxJSYA/xWQWzElJgD/FZBbMSUmAP8VkFsxJSYA/xWQWzElJgD/FZBbMSUmAP8VkFsxJSYA/xWQWzElJgD/FZBbMSUmAP8VkFsxJSYA/xWQWzElJgD/FZBbMSUmAP8VkFsxJSYA/xWQWzElJgD/FZBbMSUmAP8VkFsxJSYA/KJchsu5teD8olyGy7m14PyiXIbLubXg/KJchsu5teD8olyGy7m14PyiXIbLubXg/KJchsu5teD8olyGy7m14PyiXIbLubXg/KJchsu5teD8olyGy7m14PyiXIbLubXg/KJchsu5teD8olyGy7m14PyiXIbLubXg/xWQWzElJcD/FZBbMSUlwP8VkFsxJSXA/xWQWzElJcD/FZBbMSUlwP8VkFsxJSXA/xWQWzElJcD/FZBbMSUlwP8VkFsxJSXA/xWQWzElJcD/FZBbMSUlwP8VkFsxJSXA/xWQWzElJcD/FZBbMSUlwP8VkFsxJSXA/xWQWzElJcD/FZBbMSUlwP8VkFsxJSXA/xWQWzElJcD/FZBbMSUlwP8VkFsxJSXA/xWQWzElJcD/FZBbMSUlwP8VkFsxJSXA/xWQWzElJcD/FZBbMSUlwP8VkFsxJSXA/xWQWzElJcD/FZBbMSUlwP8VkFsxJSXA/xWQWzElJYD/FZBbMSUlgP8VkFsxJSWA/xWQWzElJYD/FZBbMSUlgP8VkFsxJSWA/xWQWzElJYD/FZBbMSUlgP8VkFsxJSWA/xWQWzElJYD/FZBbMSUlgP8VkFsxJSWA/xWQWzElJYD/FZBbMSUlgP8VkFsxJSWA/xWQWzElJYD/FZBbMSUlgP8VkFsxJSWA/xWQWzElJYD/FZBbMSUlgP8VkFsxJSWA/xWQWzElJYD/FZBbMSUlgP8VkFsxJSWA/xWQWzElJYD/FZBbMSUlgP8VkFsxJSWA/xWQWzElJYD8YsAqttAu/Pz5ja/v+ja8/pSQIkAOPwT/QSrvwUdnDP6qXWqIHV7M/8YrJLJiTwj+Pyp54xWSmP1kwJyVBgKw/dP3iToNyuT8+Y2v7/o2vP4/KnnjFZKY/AAAAAAAA8D8=",
          "dtype": "f8"
         }
        }
       ],
       "layout": {
        "font": {
         "size": 9
        },
        "height": 1000,
        "legend": {
         "tracegroupgap": 0
        },
        "margin": {
         "t": 60
        },
        "template": {
         "data": {
          "bar": [
           {
            "error_x": {
             "color": "#2a3f5f"
            },
            "error_y": {
             "color": "#2a3f5f"
            },
            "marker": {
             "line": {
              "color": "#E5ECF6",
              "width": 0.5
             },
             "pattern": {
              "fillmode": "overlay",
              "size": 10,
              "solidity": 0.2
             }
            },
            "type": "bar"
           }
          ],
          "barpolar": [
           {
            "marker": {
             "line": {
              "color": "#E5ECF6",
              "width": 0.5
             },
             "pattern": {
              "fillmode": "overlay",
              "size": 10,
              "solidity": 0.2
             }
            },
            "type": "barpolar"
           }
          ],
          "carpet": [
           {
            "aaxis": {
             "endlinecolor": "#2a3f5f",
             "gridcolor": "white",
             "linecolor": "white",
             "minorgridcolor": "white",
             "startlinecolor": "#2a3f5f"
            },
            "baxis": {
             "endlinecolor": "#2a3f5f",
             "gridcolor": "white",
             "linecolor": "white",
             "minorgridcolor": "white",
             "startlinecolor": "#2a3f5f"
            },
            "type": "carpet"
           }
          ],
          "choropleth": [
           {
            "colorbar": {
             "outlinewidth": 0,
             "ticks": ""
            },
            "type": "choropleth"
           }
          ],
          "contour": [
           {
            "colorbar": {
             "outlinewidth": 0,
             "ticks": ""
            },
            "colorscale": [
             [
              0,
              "#0d0887"
             ],
             [
              0.1111111111111111,
              "#46039f"
             ],
             [
              0.2222222222222222,
              "#7201a8"
             ],
             [
              0.3333333333333333,
              "#9c179e"
             ],
             [
              0.4444444444444444,
              "#bd3786"
             ],
             [
              0.5555555555555556,
              "#d8576b"
             ],
             [
              0.6666666666666666,
              "#ed7953"
             ],
             [
              0.7777777777777778,
              "#fb9f3a"
             ],
             [
              0.8888888888888888,
              "#fdca26"
             ],
             [
              1,
              "#f0f921"
             ]
            ],
            "type": "contour"
           }
          ],
          "contourcarpet": [
           {
            "colorbar": {
             "outlinewidth": 0,
             "ticks": ""
            },
            "type": "contourcarpet"
           }
          ],
          "heatmap": [
           {
            "colorbar": {
             "outlinewidth": 0,
             "ticks": ""
            },
            "colorscale": [
             [
              0,
              "#0d0887"
             ],
             [
              0.1111111111111111,
              "#46039f"
             ],
             [
              0.2222222222222222,
              "#7201a8"
             ],
             [
              0.3333333333333333,
              "#9c179e"
             ],
             [
              0.4444444444444444,
              "#bd3786"
             ],
             [
              0.5555555555555556,
              "#d8576b"
             ],
             [
              0.6666666666666666,
              "#ed7953"
             ],
             [
              0.7777777777777778,
              "#fb9f3a"
             ],
             [
              0.8888888888888888,
              "#fdca26"
             ],
             [
              1,
              "#f0f921"
             ]
            ],
            "type": "heatmap"
           }
          ],
          "histogram": [
           {
            "marker": {
             "pattern": {
              "fillmode": "overlay",
              "size": 10,
              "solidity": 0.2
             }
            },
            "type": "histogram"
           }
          ],
          "histogram2d": [
           {
            "colorbar": {
             "outlinewidth": 0,
             "ticks": ""
            },
            "colorscale": [
             [
              0,
              "#0d0887"
             ],
             [
              0.1111111111111111,
              "#46039f"
             ],
             [
              0.2222222222222222,
              "#7201a8"
             ],
             [
              0.3333333333333333,
              "#9c179e"
             ],
             [
              0.4444444444444444,
              "#bd3786"
             ],
             [
              0.5555555555555556,
              "#d8576b"
             ],
             [
              0.6666666666666666,
              "#ed7953"
             ],
             [
              0.7777777777777778,
              "#fb9f3a"
             ],
             [
              0.8888888888888888,
              "#fdca26"
             ],
             [
              1,
              "#f0f921"
             ]
            ],
            "type": "histogram2d"
           }
          ],
          "histogram2dcontour": [
           {
            "colorbar": {
             "outlinewidth": 0,
             "ticks": ""
            },
            "colorscale": [
             [
              0,
              "#0d0887"
             ],
             [
              0.1111111111111111,
              "#46039f"
             ],
             [
              0.2222222222222222,
              "#7201a8"
             ],
             [
              0.3333333333333333,
              "#9c179e"
             ],
             [
              0.4444444444444444,
              "#bd3786"
             ],
             [
              0.5555555555555556,
              "#d8576b"
             ],
             [
              0.6666666666666666,
              "#ed7953"
             ],
             [
              0.7777777777777778,
              "#fb9f3a"
             ],
             [
              0.8888888888888888,
              "#fdca26"
             ],
             [
              1,
              "#f0f921"
             ]
            ],
            "type": "histogram2dcontour"
           }
          ],
          "mesh3d": [
           {
            "colorbar": {
             "outlinewidth": 0,
             "ticks": ""
            },
            "type": "mesh3d"
           }
          ],
          "parcoords": [
           {
            "line": {
             "colorbar": {
              "outlinewidth": 0,
              "ticks": ""
             }
            },
            "type": "parcoords"
           }
          ],
          "pie": [
           {
            "automargin": true,
            "type": "pie"
           }
          ],
          "scatter": [
           {
            "fillpattern": {
             "fillmode": "overlay",
             "size": 10,
             "solidity": 0.2
            },
            "type": "scatter"
           }
          ],
          "scatter3d": [
           {
            "line": {
             "colorbar": {
              "outlinewidth": 0,
              "ticks": ""
             }
            },
            "marker": {
             "colorbar": {
              "outlinewidth": 0,
              "ticks": ""
             }
            },
            "type": "scatter3d"
           }
          ],
          "scattercarpet": [
           {
            "marker": {
             "colorbar": {
              "outlinewidth": 0,
              "ticks": ""
             }
            },
            "type": "scattercarpet"
           }
          ],
          "scattergeo": [
           {
            "marker": {
             "colorbar": {
              "outlinewidth": 0,
              "ticks": ""
             }
            },
            "type": "scattergeo"
           }
          ],
          "scattergl": [
           {
            "marker": {
             "colorbar": {
              "outlinewidth": 0,
              "ticks": ""
             }
            },
            "type": "scattergl"
           }
          ],
          "scattermap": [
           {
            "marker": {
             "colorbar": {
              "outlinewidth": 0,
              "ticks": ""
             }
            },
            "type": "scattermap"
           }
          ],
          "scattermapbox": [
           {
            "marker": {
             "colorbar": {
              "outlinewidth": 0,
              "ticks": ""
             }
            },
            "type": "scattermapbox"
           }
          ],
          "scatterpolar": [
           {
            "marker": {
             "colorbar": {
              "outlinewidth": 0,
              "ticks": ""
             }
            },
            "type": "scatterpolar"
           }
          ],
          "scatterpolargl": [
           {
            "marker": {
             "colorbar": {
              "outlinewidth": 0,
              "ticks": ""
             }
            },
            "type": "scatterpolargl"
           }
          ],
          "scatterternary": [
           {
            "marker": {
             "colorbar": {
              "outlinewidth": 0,
              "ticks": ""
             }
            },
            "type": "scatterternary"
           }
          ],
          "surface": [
           {
            "colorbar": {
             "outlinewidth": 0,
             "ticks": ""
            },
            "colorscale": [
             [
              0,
              "#0d0887"
             ],
             [
              0.1111111111111111,
              "#46039f"
             ],
             [
              0.2222222222222222,
              "#7201a8"
             ],
             [
              0.3333333333333333,
              "#9c179e"
             ],
             [
              0.4444444444444444,
              "#bd3786"
             ],
             [
              0.5555555555555556,
              "#d8576b"
             ],
             [
              0.6666666666666666,
              "#ed7953"
             ],
             [
              0.7777777777777778,
              "#fb9f3a"
             ],
             [
              0.8888888888888888,
              "#fdca26"
             ],
             [
              1,
              "#f0f921"
             ]
            ],
            "type": "surface"
           }
          ],
          "table": [
           {
            "cells": {
             "fill": {
              "color": "#EBF0F8"
             },
             "line": {
              "color": "white"
             }
            },
            "header": {
             "fill": {
              "color": "#C8D4E3"
             },
             "line": {
              "color": "white"
             }
            },
            "type": "table"
           }
          ]
         },
         "layout": {
          "annotationdefaults": {
           "arrowcolor": "#2a3f5f",
           "arrowhead": 0,
           "arrowwidth": 1
          },
          "autotypenumbers": "strict",
          "coloraxis": {
           "colorbar": {
            "outlinewidth": 0,
            "ticks": ""
           }
          },
          "colorscale": {
           "diverging": [
            [
             0,
             "#8e0152"
            ],
            [
             0.1,
             "#c51b7d"
            ],
            [
             0.2,
             "#de77ae"
            ],
            [
             0.3,
             "#f1b6da"
            ],
            [
             0.4,
             "#fde0ef"
            ],
            [
             0.5,
             "#f7f7f7"
            ],
            [
             0.6,
             "#e6f5d0"
            ],
            [
             0.7,
             "#b8e186"
            ],
            [
             0.8,
             "#7fbc41"
            ],
            [
             0.9,
             "#4d9221"
            ],
            [
             1,
             "#276419"
            ]
           ],
           "sequential": [
            [
             0,
             "#0d0887"
            ],
            [
             0.1111111111111111,
             "#46039f"
            ],
            [
             0.2222222222222222,
             "#7201a8"
            ],
            [
             0.3333333333333333,
             "#9c179e"
            ],
            [
             0.4444444444444444,
             "#bd3786"
            ],
            [
             0.5555555555555556,
             "#d8576b"
            ],
            [
             0.6666666666666666,
             "#ed7953"
            ],
            [
             0.7777777777777778,
             "#fb9f3a"
            ],
            [
             0.8888888888888888,
             "#fdca26"
            ],
            [
             1,
             "#f0f921"
            ]
           ],
           "sequentialminus": [
            [
             0,
             "#0d0887"
            ],
            [
             0.1111111111111111,
             "#46039f"
            ],
            [
             0.2222222222222222,
             "#7201a8"
            ],
            [
             0.3333333333333333,
             "#9c179e"
            ],
            [
             0.4444444444444444,
             "#bd3786"
            ],
            [
             0.5555555555555556,
             "#d8576b"
            ],
            [
             0.6666666666666666,
             "#ed7953"
            ],
            [
             0.7777777777777778,
             "#fb9f3a"
            ],
            [
             0.8888888888888888,
             "#fdca26"
            ],
            [
             1,
             "#f0f921"
            ]
           ]
          },
          "colorway": [
           "#636efa",
           "#EF553B",
           "#00cc96",
           "#ab63fa",
           "#FFA15A",
           "#19d3f3",
           "#FF6692",
           "#B6E880",
           "#FF97FF",
           "#FECB52"
          ],
          "font": {
           "color": "#2a3f5f"
          },
          "geo": {
           "bgcolor": "white",
           "lakecolor": "white",
           "landcolor": "#E5ECF6",
           "showlakes": true,
           "showland": true,
           "subunitcolor": "white"
          },
          "hoverlabel": {
           "align": "left"
          },
          "hovermode": "closest",
          "mapbox": {
           "style": "light"
          },
          "paper_bgcolor": "white",
          "plot_bgcolor": "#E5ECF6",
          "polar": {
           "angularaxis": {
            "gridcolor": "white",
            "linecolor": "white",
            "ticks": ""
           },
           "bgcolor": "#E5ECF6",
           "radialaxis": {
            "gridcolor": "white",
            "linecolor": "white",
            "ticks": ""
           }
          },
          "scene": {
           "xaxis": {
            "backgroundcolor": "#E5ECF6",
            "gridcolor": "white",
            "gridwidth": 2,
            "linecolor": "white",
            "showbackground": true,
            "ticks": "",
            "zerolinecolor": "white"
           },
           "yaxis": {
            "backgroundcolor": "#E5ECF6",
            "gridcolor": "white",
            "gridwidth": 2,
            "linecolor": "white",
            "showbackground": true,
            "ticks": "",
            "zerolinecolor": "white"
           },
           "zaxis": {
            "backgroundcolor": "#E5ECF6",
            "gridcolor": "white",
            "gridwidth": 2,
            "linecolor": "white",
            "showbackground": true,
            "ticks": "",
            "zerolinecolor": "white"
           }
          },
          "shapedefaults": {
           "line": {
            "color": "#2a3f5f"
           }
          },
          "ternary": {
           "aaxis": {
            "gridcolor": "white",
            "linecolor": "white",
            "ticks": ""
           },
           "baxis": {
            "gridcolor": "white",
            "linecolor": "white",
            "ticks": ""
           },
           "bgcolor": "#E5ECF6",
           "caxis": {
            "gridcolor": "white",
            "linecolor": "white",
            "ticks": ""
           }
          },
          "title": {
           "x": 0.05
          },
          "xaxis": {
           "automargin": true,
           "gridcolor": "white",
           "linecolor": "white",
           "ticks": "",
           "title": {
            "standoff": 15
           },
           "zerolinecolor": "white",
           "zerolinewidth": 2
          },
          "yaxis": {
           "automargin": true,
           "gridcolor": "white",
           "linecolor": "white",
           "ticks": "",
           "title": {
            "standoff": 15
           },
           "zerolinecolor": "white",
           "zerolinewidth": 2
          }
         }
        },
        "uniformtext": {
         "minsize": 9,
         "mode": "show"
        },
        "width": 1000,
        "yaxis": {
         "automargin": true
        }
       }
      }
     },
     "metadata": {},
     "output_type": "display_data"
    }
   ],
   "source": [
    " #Create treemap\n",
    "fig = px.treemap(\n",
    "    SECTOR_INDUSTRY_DISTRIBUTION.reset_index(),\n",
    "    path=[px.Constant(\"SP-500\"), 'GICS Sector', 'GICS Sub-Industry'],\n",
    "    values='proportion',\n",
    "    height=1000,\n",
    "    width=1000\n",
    ")\n",
    "\n",
    "# Adjust layout for better text visibility\n",
    "fig.update_layout(\n",
    "    font=dict(size=9),  # Increase font size\n",
    "    uniformtext=dict(minsize=9, mode='show'),\n",
    "    yaxis=dict(automargin=True)\n",
    ")\n",
    "\n",
    "# Display the chart\n",
    "fig.show()"
   ]
  },
  {
   "cell_type": "markdown",
   "metadata": {},
   "source": [
    "# 📊 **Downloading S&P 500 Data from Yahoo Finance**\n",
    "\n",
    "In this guide, we'll walk through how to download the historical stock price data of the **S&P 500** constituents using the `yfinance` library and clean the data by removing columns with missing values.\n",
    "\n",
    "---\n",
    "\n",
    "## 🔽 **Step 1: Install and Import `yfinance`**\n",
    "\n",
    "To begin, you need to install the `yfinance` library, which can be done via `pip`. Open your terminal and run:\n",
    "\n",
    "```bash\n",
    "pip install yfinance\n"
   ]
  },
  {
   "cell_type": "code",
   "execution_count": 7,
   "metadata": {},
   "outputs": [
    {
     "name": "stderr",
     "output_type": "stream",
     "text": [
      "[*********************100%***********************]  503 of 503 completed\n",
      "\n",
      "2 Failed downloads:\n",
      "['BF.B']: YFPricesMissingError('possibly delisted; no price data found  (period=1y)')\n",
      "['BRK.B']: YFPricesMissingError('possibly delisted; no price data found  (period=1y) (Yahoo error = \"No data found, symbol may be delisted\")')\n"
     ]
    },
    {
     "data": {
      "text/html": [
       "<div>\n",
       "<style scoped>\n",
       "    .dataframe tbody tr th:only-of-type {\n",
       "        vertical-align: middle;\n",
       "    }\n",
       "\n",
       "    .dataframe tbody tr th {\n",
       "        vertical-align: top;\n",
       "    }\n",
       "\n",
       "    .dataframe thead tr th {\n",
       "        text-align: left;\n",
       "    }\n",
       "\n",
       "    .dataframe thead tr:last-of-type th {\n",
       "        text-align: right;\n",
       "    }\n",
       "</style>\n",
       "<table border=\"1\" class=\"dataframe\">\n",
       "  <thead>\n",
       "    <tr>\n",
       "      <th>Price</th>\n",
       "      <th colspan=\"10\" halign=\"left\">Adj Close</th>\n",
       "      <th>...</th>\n",
       "      <th colspan=\"10\" halign=\"left\">Volume</th>\n",
       "    </tr>\n",
       "    <tr>\n",
       "      <th>Ticker</th>\n",
       "      <th>A</th>\n",
       "      <th>AAPL</th>\n",
       "      <th>ABBV</th>\n",
       "      <th>ABNB</th>\n",
       "      <th>ABT</th>\n",
       "      <th>ACGL</th>\n",
       "      <th>ACN</th>\n",
       "      <th>ADBE</th>\n",
       "      <th>ADI</th>\n",
       "      <th>ADM</th>\n",
       "      <th>...</th>\n",
       "      <th>WTW</th>\n",
       "      <th>WY</th>\n",
       "      <th>WYNN</th>\n",
       "      <th>XEL</th>\n",
       "      <th>XOM</th>\n",
       "      <th>XYL</th>\n",
       "      <th>YUM</th>\n",
       "      <th>ZBH</th>\n",
       "      <th>ZBRA</th>\n",
       "      <th>ZTS</th>\n",
       "    </tr>\n",
       "    <tr>\n",
       "      <th>Date</th>\n",
       "      <th></th>\n",
       "      <th></th>\n",
       "      <th></th>\n",
       "      <th></th>\n",
       "      <th></th>\n",
       "      <th></th>\n",
       "      <th></th>\n",
       "      <th></th>\n",
       "      <th></th>\n",
       "      <th></th>\n",
       "      <th></th>\n",
       "      <th></th>\n",
       "      <th></th>\n",
       "      <th></th>\n",
       "      <th></th>\n",
       "      <th></th>\n",
       "      <th></th>\n",
       "      <th></th>\n",
       "      <th></th>\n",
       "      <th></th>\n",
       "      <th></th>\n",
       "    </tr>\n",
       "  </thead>\n",
       "  <tbody>\n",
       "    <tr>\n",
       "      <th>2024-03-08</th>\n",
       "      <td>146.851044</td>\n",
       "      <td>169.927628</td>\n",
       "      <td>172.563904</td>\n",
       "      <td>164.910004</td>\n",
       "      <td>118.544174</td>\n",
       "      <td>83.308220</td>\n",
       "      <td>373.546021</td>\n",
       "      <td>551.690002</td>\n",
       "      <td>192.740906</td>\n",
       "      <td>52.810596</td>\n",
       "      <td>...</td>\n",
       "      <td>354800</td>\n",
       "      <td>3734300</td>\n",
       "      <td>1137600</td>\n",
       "      <td>8848600</td>\n",
       "      <td>16274600</td>\n",
       "      <td>761500</td>\n",
       "      <td>1365000</td>\n",
       "      <td>1395200</td>\n",
       "      <td>328600</td>\n",
       "      <td>6518000</td>\n",
       "    </tr>\n",
       "    <tr>\n",
       "      <th>2024-03-11</th>\n",
       "      <td>146.275040</td>\n",
       "      <td>171.938141</td>\n",
       "      <td>173.316498</td>\n",
       "      <td>162.990005</td>\n",
       "      <td>117.789551</td>\n",
       "      <td>85.875641</td>\n",
       "      <td>368.656555</td>\n",
       "      <td>560.419983</td>\n",
       "      <td>194.973846</td>\n",
       "      <td>52.906952</td>\n",
       "      <td>...</td>\n",
       "      <td>608500</td>\n",
       "      <td>2202100</td>\n",
       "      <td>1943400</td>\n",
       "      <td>9838100</td>\n",
       "      <td>17577300</td>\n",
       "      <td>1019900</td>\n",
       "      <td>1711300</td>\n",
       "      <td>1079800</td>\n",
       "      <td>268800</td>\n",
       "      <td>3383500</td>\n",
       "    </tr>\n",
       "    <tr>\n",
       "      <th>2024-03-12</th>\n",
       "      <td>146.821259</td>\n",
       "      <td>172.415878</td>\n",
       "      <td>174.561157</td>\n",
       "      <td>166.669998</td>\n",
       "      <td>118.348167</td>\n",
       "      <td>86.455696</td>\n",
       "      <td>375.827789</td>\n",
       "      <td>579.140015</td>\n",
       "      <td>195.947678</td>\n",
       "      <td>54.988155</td>\n",
       "      <td>...</td>\n",
       "      <td>641900</td>\n",
       "      <td>3330900</td>\n",
       "      <td>1436800</td>\n",
       "      <td>8809700</td>\n",
       "      <td>14957200</td>\n",
       "      <td>1029700</td>\n",
       "      <td>1464800</td>\n",
       "      <td>1073000</td>\n",
       "      <td>316100</td>\n",
       "      <td>2598400</td>\n",
       "    </tr>\n",
       "    <tr>\n",
       "      <th>2024-03-13</th>\n",
       "      <td>146.801392</td>\n",
       "      <td>170.325760</td>\n",
       "      <td>173.538437</td>\n",
       "      <td>164.759995</td>\n",
       "      <td>117.760155</td>\n",
       "      <td>86.531769</td>\n",
       "      <td>374.089294</td>\n",
       "      <td>573.549988</td>\n",
       "      <td>195.357468</td>\n",
       "      <td>56.144379</td>\n",
       "      <td>...</td>\n",
       "      <td>530100</td>\n",
       "      <td>2508500</td>\n",
       "      <td>1138400</td>\n",
       "      <td>5420000</td>\n",
       "      <td>17122200</td>\n",
       "      <td>872500</td>\n",
       "      <td>3361400</td>\n",
       "      <td>847000</td>\n",
       "      <td>286200</td>\n",
       "      <td>5947400</td>\n",
       "    </tr>\n",
       "    <tr>\n",
       "      <th>2024-03-14</th>\n",
       "      <td>144.209381</td>\n",
       "      <td>172.186951</td>\n",
       "      <td>174.831314</td>\n",
       "      <td>166.440002</td>\n",
       "      <td>116.476311</td>\n",
       "      <td>86.560295</td>\n",
       "      <td>373.585510</td>\n",
       "      <td>570.450012</td>\n",
       "      <td>191.255569</td>\n",
       "      <td>56.086571</td>\n",
       "      <td>...</td>\n",
       "      <td>482900</td>\n",
       "      <td>4124900</td>\n",
       "      <td>1882700</td>\n",
       "      <td>11860000</td>\n",
       "      <td>22121000</td>\n",
       "      <td>1335500</td>\n",
       "      <td>3091900</td>\n",
       "      <td>1203900</td>\n",
       "      <td>375300</td>\n",
       "      <td>6432600</td>\n",
       "    </tr>\n",
       "    <tr>\n",
       "      <th>...</th>\n",
       "      <td>...</td>\n",
       "      <td>...</td>\n",
       "      <td>...</td>\n",
       "      <td>...</td>\n",
       "      <td>...</td>\n",
       "      <td>...</td>\n",
       "      <td>...</td>\n",
       "      <td>...</td>\n",
       "      <td>...</td>\n",
       "      <td>...</td>\n",
       "      <td>...</td>\n",
       "      <td>...</td>\n",
       "      <td>...</td>\n",
       "      <td>...</td>\n",
       "      <td>...</td>\n",
       "      <td>...</td>\n",
       "      <td>...</td>\n",
       "      <td>...</td>\n",
       "      <td>...</td>\n",
       "      <td>...</td>\n",
       "      <td>...</td>\n",
       "    </tr>\n",
       "    <tr>\n",
       "      <th>2025-03-03</th>\n",
       "      <td>126.330002</td>\n",
       "      <td>238.029999</td>\n",
       "      <td>211.479996</td>\n",
       "      <td>140.979996</td>\n",
       "      <td>140.220001</td>\n",
       "      <td>92.980003</td>\n",
       "      <td>344.989990</td>\n",
       "      <td>440.720001</td>\n",
       "      <td>227.540009</td>\n",
       "      <td>46.580002</td>\n",
       "      <td>...</td>\n",
       "      <td>535400</td>\n",
       "      <td>6490600</td>\n",
       "      <td>2123200</td>\n",
       "      <td>5015600</td>\n",
       "      <td>18706900</td>\n",
       "      <td>1318000</td>\n",
       "      <td>1913300</td>\n",
       "      <td>1653200</td>\n",
       "      <td>586800</td>\n",
       "      <td>3020200</td>\n",
       "    </tr>\n",
       "    <tr>\n",
       "      <th>2025-03-04</th>\n",
       "      <td>123.059998</td>\n",
       "      <td>235.929993</td>\n",
       "      <td>207.759995</td>\n",
       "      <td>141.419998</td>\n",
       "      <td>137.580002</td>\n",
       "      <td>91.870003</td>\n",
       "      <td>345.779999</td>\n",
       "      <td>446.029999</td>\n",
       "      <td>226.179993</td>\n",
       "      <td>45.820000</td>\n",
       "      <td>...</td>\n",
       "      <td>470100</td>\n",
       "      <td>4294100</td>\n",
       "      <td>2272300</td>\n",
       "      <td>4212100</td>\n",
       "      <td>19394900</td>\n",
       "      <td>1819000</td>\n",
       "      <td>3969000</td>\n",
       "      <td>1233200</td>\n",
       "      <td>848400</td>\n",
       "      <td>3013700</td>\n",
       "    </tr>\n",
       "    <tr>\n",
       "      <th>2025-03-05</th>\n",
       "      <td>126.510002</td>\n",
       "      <td>235.740005</td>\n",
       "      <td>211.539993</td>\n",
       "      <td>142.580002</td>\n",
       "      <td>137.710007</td>\n",
       "      <td>91.349998</td>\n",
       "      <td>348.260010</td>\n",
       "      <td>451.239990</td>\n",
       "      <td>229.470001</td>\n",
       "      <td>45.799999</td>\n",
       "      <td>...</td>\n",
       "      <td>629100</td>\n",
       "      <td>3884900</td>\n",
       "      <td>2448900</td>\n",
       "      <td>6975000</td>\n",
       "      <td>24822200</td>\n",
       "      <td>1521100</td>\n",
       "      <td>2234300</td>\n",
       "      <td>2498400</td>\n",
       "      <td>578200</td>\n",
       "      <td>3667900</td>\n",
       "    </tr>\n",
       "    <tr>\n",
       "      <th>2025-03-06</th>\n",
       "      <td>126.550003</td>\n",
       "      <td>235.330002</td>\n",
       "      <td>210.750000</td>\n",
       "      <td>134.770004</td>\n",
       "      <td>135.080002</td>\n",
       "      <td>91.379997</td>\n",
       "      <td>341.839996</td>\n",
       "      <td>444.779999</td>\n",
       "      <td>222.770004</td>\n",
       "      <td>48.060001</td>\n",
       "      <td>...</td>\n",
       "      <td>636800</td>\n",
       "      <td>3997300</td>\n",
       "      <td>1797200</td>\n",
       "      <td>5262300</td>\n",
       "      <td>17150200</td>\n",
       "      <td>1504700</td>\n",
       "      <td>2020200</td>\n",
       "      <td>1081400</td>\n",
       "      <td>469000</td>\n",
       "      <td>3011500</td>\n",
       "    </tr>\n",
       "    <tr>\n",
       "      <th>2025-03-07</th>\n",
       "      <td>126.699997</td>\n",
       "      <td>239.070007</td>\n",
       "      <td>214.289993</td>\n",
       "      <td>134.389999</td>\n",
       "      <td>137.139999</td>\n",
       "      <td>91.000000</td>\n",
       "      <td>342.179993</td>\n",
       "      <td>449.399994</td>\n",
       "      <td>225.860001</td>\n",
       "      <td>49.439999</td>\n",
       "      <td>...</td>\n",
       "      <td>463800</td>\n",
       "      <td>5394200</td>\n",
       "      <td>1889600</td>\n",
       "      <td>3849600</td>\n",
       "      <td>19616400</td>\n",
       "      <td>1282800</td>\n",
       "      <td>3411300</td>\n",
       "      <td>1792900</td>\n",
       "      <td>1178300</td>\n",
       "      <td>3296800</td>\n",
       "    </tr>\n",
       "  </tbody>\n",
       "</table>\n",
       "<p>250 rows × 3018 columns</p>\n",
       "</div>"
      ],
      "text/plain": [
       "Price        Adj Close                                                  \\\n",
       "Ticker               A        AAPL        ABBV        ABNB         ABT   \n",
       "Date                                                                     \n",
       "2024-03-08  146.851044  169.927628  172.563904  164.910004  118.544174   \n",
       "2024-03-11  146.275040  171.938141  173.316498  162.990005  117.789551   \n",
       "2024-03-12  146.821259  172.415878  174.561157  166.669998  118.348167   \n",
       "2024-03-13  146.801392  170.325760  173.538437  164.759995  117.760155   \n",
       "2024-03-14  144.209381  172.186951  174.831314  166.440002  116.476311   \n",
       "...                ...         ...         ...         ...         ...   \n",
       "2025-03-03  126.330002  238.029999  211.479996  140.979996  140.220001   \n",
       "2025-03-04  123.059998  235.929993  207.759995  141.419998  137.580002   \n",
       "2025-03-05  126.510002  235.740005  211.539993  142.580002  137.710007   \n",
       "2025-03-06  126.550003  235.330002  210.750000  134.770004  135.080002   \n",
       "2025-03-07  126.699997  239.070007  214.289993  134.389999  137.139999   \n",
       "\n",
       "Price                                                                 ...  \\\n",
       "Ticker           ACGL         ACN        ADBE         ADI        ADM  ...   \n",
       "Date                                                                  ...   \n",
       "2024-03-08  83.308220  373.546021  551.690002  192.740906  52.810596  ...   \n",
       "2024-03-11  85.875641  368.656555  560.419983  194.973846  52.906952  ...   \n",
       "2024-03-12  86.455696  375.827789  579.140015  195.947678  54.988155  ...   \n",
       "2024-03-13  86.531769  374.089294  573.549988  195.357468  56.144379  ...   \n",
       "2024-03-14  86.560295  373.585510  570.450012  191.255569  56.086571  ...   \n",
       "...               ...         ...         ...         ...        ...  ...   \n",
       "2025-03-03  92.980003  344.989990  440.720001  227.540009  46.580002  ...   \n",
       "2025-03-04  91.870003  345.779999  446.029999  226.179993  45.820000  ...   \n",
       "2025-03-05  91.349998  348.260010  451.239990  229.470001  45.799999  ...   \n",
       "2025-03-06  91.379997  341.839996  444.779999  222.770004  48.060001  ...   \n",
       "2025-03-07  91.000000  342.179993  449.399994  225.860001  49.439999  ...   \n",
       "\n",
       "Price       Volume                                                          \\\n",
       "Ticker         WTW       WY     WYNN       XEL       XOM      XYL      YUM   \n",
       "Date                                                                         \n",
       "2024-03-08  354800  3734300  1137600   8848600  16274600   761500  1365000   \n",
       "2024-03-11  608500  2202100  1943400   9838100  17577300  1019900  1711300   \n",
       "2024-03-12  641900  3330900  1436800   8809700  14957200  1029700  1464800   \n",
       "2024-03-13  530100  2508500  1138400   5420000  17122200   872500  3361400   \n",
       "2024-03-14  482900  4124900  1882700  11860000  22121000  1335500  3091900   \n",
       "...            ...      ...      ...       ...       ...      ...      ...   \n",
       "2025-03-03  535400  6490600  2123200   5015600  18706900  1318000  1913300   \n",
       "2025-03-04  470100  4294100  2272300   4212100  19394900  1819000  3969000   \n",
       "2025-03-05  629100  3884900  2448900   6975000  24822200  1521100  2234300   \n",
       "2025-03-06  636800  3997300  1797200   5262300  17150200  1504700  2020200   \n",
       "2025-03-07  463800  5394200  1889600   3849600  19616400  1282800  3411300   \n",
       "\n",
       "Price                                  \n",
       "Ticker          ZBH     ZBRA      ZTS  \n",
       "Date                                   \n",
       "2024-03-08  1395200   328600  6518000  \n",
       "2024-03-11  1079800   268800  3383500  \n",
       "2024-03-12  1073000   316100  2598400  \n",
       "2024-03-13   847000   286200  5947400  \n",
       "2024-03-14  1203900   375300  6432600  \n",
       "...             ...      ...      ...  \n",
       "2025-03-03  1653200   586800  3020200  \n",
       "2025-03-04  1233200   848400  3013700  \n",
       "2025-03-05  2498400   578200  3667900  \n",
       "2025-03-06  1081400   469000  3011500  \n",
       "2025-03-07  1792900  1178300  3296800  \n",
       "\n",
       "[250 rows x 3018 columns]"
      ]
     },
     "execution_count": 7,
     "metadata": {},
     "output_type": "execute_result"
    }
   ],
   "source": [
    "import yfinance as yf\n",
    "\n",
    "df=yf.download(SP_500_DF.Symbol.tolist(),period='1y',auto_adjust=False) \n",
    "df"
   ]
  },
  {
   "cell_type": "code",
   "execution_count": 8,
   "metadata": {},
   "outputs": [
    {
     "data": {
      "application/vnd.plotly.v1+json": {
       "config": {
        "plotlyServerURL": "https://plot.ly"
       },
       "data": [
        {
         "close": {
          "bdata": "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",
          "dtype": "f8"
         },
         "high": {
          "bdata": "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",
          "dtype": "f8"
         },
         "low": {
          "bdata": "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",
          "dtype": "f8"
         },
         "open": {
          "bdata": "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",
          "dtype": "f8"
         },
         "type": "ohlc",
         "x": [
          "2024-03-08T00:00:00",
          "2024-03-11T00:00:00",
          "2024-03-12T00:00:00",
          "2024-03-13T00:00:00",
          "2024-03-14T00:00:00",
          "2024-03-15T00:00:00",
          "2024-03-18T00:00:00",
          "2024-03-19T00:00:00",
          "2024-03-20T00:00:00",
          "2024-03-21T00:00:00",
          "2024-03-22T00:00:00",
          "2024-03-25T00:00:00",
          "2024-03-26T00:00:00",
          "2024-03-27T00:00:00",
          "2024-03-28T00:00:00",
          "2024-04-01T00:00:00",
          "2024-04-02T00:00:00",
          "2024-04-03T00:00:00",
          "2024-04-04T00:00:00",
          "2024-04-05T00:00:00",
          "2024-04-08T00:00:00",
          "2024-04-09T00:00:00",
          "2024-04-10T00:00:00",
          "2024-04-11T00:00:00",
          "2024-04-12T00:00:00",
          "2024-04-15T00:00:00",
          "2024-04-16T00:00:00",
          "2024-04-17T00:00:00",
          "2024-04-18T00:00:00",
          "2024-04-19T00:00:00",
          "2024-04-22T00:00:00",
          "2024-04-23T00:00:00",
          "2024-04-24T00:00:00",
          "2024-04-25T00:00:00",
          "2024-04-26T00:00:00",
          "2024-04-29T00:00:00",
          "2024-04-30T00:00:00",
          "2024-05-01T00:00:00",
          "2024-05-02T00:00:00",
          "2024-05-03T00:00:00",
          "2024-05-06T00:00:00",
          "2024-05-07T00:00:00",
          "2024-05-08T00:00:00",
          "2024-05-09T00:00:00",
          "2024-05-10T00:00:00",
          "2024-05-13T00:00:00",
          "2024-05-14T00:00:00",
          "2024-05-15T00:00:00",
          "2024-05-16T00:00:00",
          "2024-05-17T00:00:00",
          "2024-05-20T00:00:00",
          "2024-05-21T00:00:00",
          "2024-05-22T00:00:00",
          "2024-05-23T00:00:00",
          "2024-05-24T00:00:00",
          "2024-05-28T00:00:00",
          "2024-05-29T00:00:00",
          "2024-05-30T00:00:00",
          "2024-05-31T00:00:00",
          "2024-06-03T00:00:00",
          "2024-06-04T00:00:00",
          "2024-06-05T00:00:00",
          "2024-06-06T00:00:00",
          "2024-06-07T00:00:00",
          "2024-06-10T00:00:00",
          "2024-06-11T00:00:00",
          "2024-06-12T00:00:00",
          "2024-06-13T00:00:00",
          "2024-06-14T00:00:00",
          "2024-06-17T00:00:00",
          "2024-06-18T00:00:00",
          "2024-06-20T00:00:00",
          "2024-06-21T00:00:00",
          "2024-06-24T00:00:00",
          "2024-06-25T00:00:00",
          "2024-06-26T00:00:00",
          "2024-06-27T00:00:00",
          "2024-06-28T00:00:00",
          "2024-07-01T00:00:00",
          "2024-07-02T00:00:00",
          "2024-07-03T00:00:00",
          "2024-07-05T00:00:00",
          "2024-07-08T00:00:00",
          "2024-07-09T00:00:00",
          "2024-07-10T00:00:00",
          "2024-07-11T00:00:00",
          "2024-07-12T00:00:00",
          "2024-07-15T00:00:00",
          "2024-07-16T00:00:00",
          "2024-07-17T00:00:00",
          "2024-07-18T00:00:00",
          "2024-07-19T00:00:00",
          "2024-07-22T00:00:00",
          "2024-07-23T00:00:00",
          "2024-07-24T00:00:00",
          "2024-07-25T00:00:00",
          "2024-07-26T00:00:00",
          "2024-07-29T00:00:00",
          "2024-07-30T00:00:00",
          "2024-07-31T00:00:00",
          "2024-08-01T00:00:00",
          "2024-08-02T00:00:00",
          "2024-08-05T00:00:00",
          "2024-08-06T00:00:00",
          "2024-08-07T00:00:00",
          "2024-08-08T00:00:00",
          "2024-08-09T00:00:00",
          "2024-08-12T00:00:00",
          "2024-08-13T00:00:00",
          "2024-08-14T00:00:00",
          "2024-08-15T00:00:00",
          "2024-08-16T00:00:00",
          "2024-08-19T00:00:00",
          "2024-08-20T00:00:00",
          "2024-08-21T00:00:00",
          "2024-08-22T00:00:00",
          "2024-08-23T00:00:00",
          "2024-08-26T00:00:00",
          "2024-08-27T00:00:00",
          "2024-08-28T00:00:00",
          "2024-08-29T00:00:00",
          "2024-08-30T00:00:00",
          "2024-09-03T00:00:00",
          "2024-09-04T00:00:00",
          "2024-09-05T00:00:00",
          "2024-09-06T00:00:00",
          "2024-09-09T00:00:00",
          "2024-09-10T00:00:00",
          "2024-09-11T00:00:00",
          "2024-09-12T00:00:00",
          "2024-09-13T00:00:00",
          "2024-09-16T00:00:00",
          "2024-09-17T00:00:00",
          "2024-09-18T00:00:00",
          "2024-09-19T00:00:00",
          "2024-09-20T00:00:00",
          "2024-09-23T00:00:00",
          "2024-09-24T00:00:00",
          "2024-09-25T00:00:00",
          "2024-09-26T00:00:00",
          "2024-09-27T00:00:00",
          "2024-09-30T00:00:00",
          "2024-10-01T00:00:00",
          "2024-10-02T00:00:00",
          "2024-10-03T00:00:00",
          "2024-10-04T00:00:00",
          "2024-10-07T00:00:00",
          "2024-10-08T00:00:00",
          "2024-10-09T00:00:00",
          "2024-10-10T00:00:00",
          "2024-10-11T00:00:00",
          "2024-10-14T00:00:00",
          "2024-10-15T00:00:00",
          "2024-10-16T00:00:00",
          "2024-10-17T00:00:00",
          "2024-10-18T00:00:00",
          "2024-10-21T00:00:00",
          "2024-10-22T00:00:00",
          "2024-10-23T00:00:00",
          "2024-10-24T00:00:00",
          "2024-10-25T00:00:00",
          "2024-10-28T00:00:00",
          "2024-10-29T00:00:00",
          "2024-10-30T00:00:00",
          "2024-10-31T00:00:00",
          "2024-11-01T00:00:00",
          "2024-11-04T00:00:00",
          "2024-11-05T00:00:00",
          "2024-11-06T00:00:00",
          "2024-11-07T00:00:00",
          "2024-11-08T00:00:00",
          "2024-11-11T00:00:00",
          "2024-11-12T00:00:00",
          "2024-11-13T00:00:00",
          "2024-11-14T00:00:00",
          "2024-11-15T00:00:00",
          "2024-11-18T00:00:00",
          "2024-11-19T00:00:00",
          "2024-11-20T00:00:00",
          "2024-11-21T00:00:00",
          "2024-11-22T00:00:00",
          "2024-11-25T00:00:00",
          "2024-11-26T00:00:00",
          "2024-11-27T00:00:00",
          "2024-11-29T00:00:00",
          "2024-12-02T00:00:00",
          "2024-12-03T00:00:00",
          "2024-12-04T00:00:00",
          "2024-12-05T00:00:00",
          "2024-12-06T00:00:00",
          "2024-12-09T00:00:00",
          "2024-12-10T00:00:00",
          "2024-12-11T00:00:00",
          "2024-12-12T00:00:00",
          "2024-12-13T00:00:00",
          "2024-12-16T00:00:00",
          "2024-12-17T00:00:00",
          "2024-12-18T00:00:00",
          "2024-12-19T00:00:00",
          "2024-12-20T00:00:00",
          "2024-12-23T00:00:00",
          "2024-12-24T00:00:00",
          "2024-12-26T00:00:00",
          "2024-12-27T00:00:00",
          "2024-12-30T00:00:00",
          "2024-12-31T00:00:00",
          "2025-01-02T00:00:00",
          "2025-01-03T00:00:00",
          "2025-01-06T00:00:00",
          "2025-01-07T00:00:00",
          "2025-01-08T00:00:00",
          "2025-01-10T00:00:00",
          "2025-01-13T00:00:00",
          "2025-01-14T00:00:00",
          "2025-01-15T00:00:00",
          "2025-01-16T00:00:00",
          "2025-01-17T00:00:00",
          "2025-01-21T00:00:00",
          "2025-01-22T00:00:00",
          "2025-01-23T00:00:00",
          "2025-01-24T00:00:00",
          "2025-01-27T00:00:00",
          "2025-01-28T00:00:00",
          "2025-01-29T00:00:00",
          "2025-01-30T00:00:00",
          "2025-01-31T00:00:00",
          "2025-02-03T00:00:00",
          "2025-02-04T00:00:00",
          "2025-02-05T00:00:00",
          "2025-02-06T00:00:00",
          "2025-02-07T00:00:00",
          "2025-02-10T00:00:00",
          "2025-02-11T00:00:00",
          "2025-02-12T00:00:00",
          "2025-02-13T00:00:00",
          "2025-02-14T00:00:00",
          "2025-02-18T00:00:00",
          "2025-02-19T00:00:00",
          "2025-02-20T00:00:00",
          "2025-02-21T00:00:00",
          "2025-02-24T00:00:00",
          "2025-02-25T00:00:00",
          "2025-02-26T00:00:00",
          "2025-02-27T00:00:00",
          "2025-02-28T00:00:00",
          "2025-03-03T00:00:00",
          "2025-03-04T00:00:00",
          "2025-03-05T00:00:00",
          "2025-03-06T00:00:00",
          "2025-03-07T00:00:00"
         ],
         "xaxis": "x",
         "yaxis": "y"
        },
        {
         "name": "Volume",
         "type": "bar",
         "x": [
          "2024-03-08T00:00:00",
          "2024-03-11T00:00:00",
          "2024-03-12T00:00:00",
          "2024-03-13T00:00:00",
          "2024-03-14T00:00:00",
          "2024-03-15T00:00:00",
          "2024-03-18T00:00:00",
          "2024-03-19T00:00:00",
          "2024-03-20T00:00:00",
          "2024-03-21T00:00:00",
          "2024-03-22T00:00:00",
          "2024-03-25T00:00:00",
          "2024-03-26T00:00:00",
          "2024-03-27T00:00:00",
          "2024-03-28T00:00:00",
          "2024-04-01T00:00:00",
          "2024-04-02T00:00:00",
          "2024-04-03T00:00:00",
          "2024-04-04T00:00:00",
          "2024-04-05T00:00:00",
          "2024-04-08T00:00:00",
          "2024-04-09T00:00:00",
          "2024-04-10T00:00:00",
          "2024-04-11T00:00:00",
          "2024-04-12T00:00:00",
          "2024-04-15T00:00:00",
          "2024-04-16T00:00:00",
          "2024-04-17T00:00:00",
          "2024-04-18T00:00:00",
          "2024-04-19T00:00:00",
          "2024-04-22T00:00:00",
          "2024-04-23T00:00:00",
          "2024-04-24T00:00:00",
          "2024-04-25T00:00:00",
          "2024-04-26T00:00:00",
          "2024-04-29T00:00:00",
          "2024-04-30T00:00:00",
          "2024-05-01T00:00:00",
          "2024-05-02T00:00:00",
          "2024-05-03T00:00:00",
          "2024-05-06T00:00:00",
          "2024-05-07T00:00:00",
          "2024-05-08T00:00:00",
          "2024-05-09T00:00:00",
          "2024-05-10T00:00:00",
          "2024-05-13T00:00:00",
          "2024-05-14T00:00:00",
          "2024-05-15T00:00:00",
          "2024-05-16T00:00:00",
          "2024-05-17T00:00:00",
          "2024-05-20T00:00:00",
          "2024-05-21T00:00:00",
          "2024-05-22T00:00:00",
          "2024-05-23T00:00:00",
          "2024-05-24T00:00:00",
          "2024-05-28T00:00:00",
          "2024-05-29T00:00:00",
          "2024-05-30T00:00:00",
          "2024-05-31T00:00:00",
          "2024-06-03T00:00:00",
          "2024-06-04T00:00:00",
          "2024-06-05T00:00:00",
          "2024-06-06T00:00:00",
          "2024-06-07T00:00:00",
          "2024-06-10T00:00:00",
          "2024-06-11T00:00:00",
          "2024-06-12T00:00:00",
          "2024-06-13T00:00:00",
          "2024-06-14T00:00:00",
          "2024-06-17T00:00:00",
          "2024-06-18T00:00:00",
          "2024-06-20T00:00:00",
          "2024-06-21T00:00:00",
          "2024-06-24T00:00:00",
          "2024-06-25T00:00:00",
          "2024-06-26T00:00:00",
          "2024-06-27T00:00:00",
          "2024-06-28T00:00:00",
          "2024-07-01T00:00:00",
          "2024-07-02T00:00:00",
          "2024-07-03T00:00:00",
          "2024-07-05T00:00:00",
          "2024-07-08T00:00:00",
          "2024-07-09T00:00:00",
          "2024-07-10T00:00:00",
          "2024-07-11T00:00:00",
          "2024-07-12T00:00:00",
          "2024-07-15T00:00:00",
          "2024-07-16T00:00:00",
          "2024-07-17T00:00:00",
          "2024-07-18T00:00:00",
          "2024-07-19T00:00:00",
          "2024-07-22T00:00:00",
          "2024-07-23T00:00:00",
          "2024-07-24T00:00:00",
          "2024-07-25T00:00:00",
          "2024-07-26T00:00:00",
          "2024-07-29T00:00:00",
          "2024-07-30T00:00:00",
          "2024-07-31T00:00:00",
          "2024-08-01T00:00:00",
          "2024-08-02T00:00:00",
          "2024-08-05T00:00:00",
          "2024-08-06T00:00:00",
          "2024-08-07T00:00:00",
          "2024-08-08T00:00:00",
          "2024-08-09T00:00:00",
          "2024-08-12T00:00:00",
          "2024-08-13T00:00:00",
          "2024-08-14T00:00:00",
          "2024-08-15T00:00:00",
          "2024-08-16T00:00:00",
          "2024-08-19T00:00:00",
          "2024-08-20T00:00:00",
          "2024-08-21T00:00:00",
          "2024-08-22T00:00:00",
          "2024-08-23T00:00:00",
          "2024-08-26T00:00:00",
          "2024-08-27T00:00:00",
          "2024-08-28T00:00:00",
          "2024-08-29T00:00:00",
          "2024-08-30T00:00:00",
          "2024-09-03T00:00:00",
          "2024-09-04T00:00:00",
          "2024-09-05T00:00:00",
          "2024-09-06T00:00:00",
          "2024-09-09T00:00:00",
          "2024-09-10T00:00:00",
          "2024-09-11T00:00:00",
          "2024-09-12T00:00:00",
          "2024-09-13T00:00:00",
          "2024-09-16T00:00:00",
          "2024-09-17T00:00:00",
          "2024-09-18T00:00:00",
          "2024-09-19T00:00:00",
          "2024-09-20T00:00:00",
          "2024-09-23T00:00:00",
          "2024-09-24T00:00:00",
          "2024-09-25T00:00:00",
          "2024-09-26T00:00:00",
          "2024-09-27T00:00:00",
          "2024-09-30T00:00:00",
          "2024-10-01T00:00:00",
          "2024-10-02T00:00:00",
          "2024-10-03T00:00:00",
          "2024-10-04T00:00:00",
          "2024-10-07T00:00:00",
          "2024-10-08T00:00:00",
          "2024-10-09T00:00:00",
          "2024-10-10T00:00:00",
          "2024-10-11T00:00:00",
          "2024-10-14T00:00:00",
          "2024-10-15T00:00:00",
          "2024-10-16T00:00:00",
          "2024-10-17T00:00:00",
          "2024-10-18T00:00:00",
          "2024-10-21T00:00:00",
          "2024-10-22T00:00:00",
          "2024-10-23T00:00:00",
          "2024-10-24T00:00:00",
          "2024-10-25T00:00:00",
          "2024-10-28T00:00:00",
          "2024-10-29T00:00:00",
          "2024-10-30T00:00:00",
          "2024-10-31T00:00:00",
          "2024-11-01T00:00:00",
          "2024-11-04T00:00:00",
          "2024-11-05T00:00:00",
          "2024-11-06T00:00:00",
          "2024-11-07T00:00:00",
          "2024-11-08T00:00:00",
          "2024-11-11T00:00:00",
          "2024-11-12T00:00:00",
          "2024-11-13T00:00:00",
          "2024-11-14T00:00:00",
          "2024-11-15T00:00:00",
          "2024-11-18T00:00:00",
          "2024-11-19T00:00:00",
          "2024-11-20T00:00:00",
          "2024-11-21T00:00:00",
          "2024-11-22T00:00:00",
          "2024-11-25T00:00:00",
          "2024-11-26T00:00:00",
          "2024-11-27T00:00:00",
          "2024-11-29T00:00:00",
          "2024-12-02T00:00:00",
          "2024-12-03T00:00:00",
          "2024-12-04T00:00:00",
          "2024-12-05T00:00:00",
          "2024-12-06T00:00:00",
          "2024-12-09T00:00:00",
          "2024-12-10T00:00:00",
          "2024-12-11T00:00:00",
          "2024-12-12T00:00:00",
          "2024-12-13T00:00:00",
          "2024-12-16T00:00:00",
          "2024-12-17T00:00:00",
          "2024-12-18T00:00:00",
          "2024-12-19T00:00:00",
          "2024-12-20T00:00:00",
          "2024-12-23T00:00:00",
          "2024-12-24T00:00:00",
          "2024-12-26T00:00:00",
          "2024-12-27T00:00:00",
          "2024-12-30T00:00:00",
          "2024-12-31T00:00:00",
          "2025-01-02T00:00:00",
          "2025-01-03T00:00:00",
          "2025-01-06T00:00:00",
          "2025-01-07T00:00:00",
          "2025-01-08T00:00:00",
          "2025-01-10T00:00:00",
          "2025-01-13T00:00:00",
          "2025-01-14T00:00:00",
          "2025-01-15T00:00:00",
          "2025-01-16T00:00:00",
          "2025-01-17T00:00:00",
          "2025-01-21T00:00:00",
          "2025-01-22T00:00:00",
          "2025-01-23T00:00:00",
          "2025-01-24T00:00:00",
          "2025-01-27T00:00:00",
          "2025-01-28T00:00:00",
          "2025-01-29T00:00:00",
          "2025-01-30T00:00:00",
          "2025-01-31T00:00:00",
          "2025-02-03T00:00:00",
          "2025-02-04T00:00:00",
          "2025-02-05T00:00:00",
          "2025-02-06T00:00:00",
          "2025-02-07T00:00:00",
          "2025-02-10T00:00:00",
          "2025-02-11T00:00:00",
          "2025-02-12T00:00:00",
          "2025-02-13T00:00:00",
          "2025-02-14T00:00:00",
          "2025-02-18T00:00:00",
          "2025-02-19T00:00:00",
          "2025-02-20T00:00:00",
          "2025-02-21T00:00:00",
          "2025-02-24T00:00:00",
          "2025-02-25T00:00:00",
          "2025-02-26T00:00:00",
          "2025-02-27T00:00:00",
          "2025-02-28T00:00:00",
          "2025-03-03T00:00:00",
          "2025-03-04T00:00:00",
          "2025-03-05T00:00:00",
          "2025-03-06T00:00:00",
          "2025-03-07T00:00:00"
         ],
         "xaxis": "x2",
         "y": {
          "bdata": "SKQVRGADbyj4A9In6DXkJbCk5iNwdEUmgMPfJ/iDECjY640cIOWhHBif+CJA7egggKWdHjis7iLgzvAZqLP3GkAI0Bk4xg4WCArtGTCa0hcgmOEQeIQDHqi2vhkIQroZCIdwGYjRaBoIqhQWQDSHHWClqBowdio0CHGLIxjhIxqArIce6IFPGbjC1yD4OS8XSMKtFdjUXiEQRIYWiDO+F/hmbBYwTxEaqBtqE0gFiBZIp/wTgCpEEXhWrBFYIeYYgB1PE/hycBXg8/8SUFGbE0C0syCoFMYx8I6ZGcDW5ybQ4zkh8F4MHZimjSTAVCEaYDwKGFDGfh/AdJ4n0IKUGAy+uRKg3EMN+HTbEfQIig/Q2m8SUDoyEXwyixHQhNweHOcRJ+QcYBxsAGEZnJKiFTTwDQ8cZ84S/AH7EHAfBA2IEdwMvBPEDPSqKg5IWQIRqBzXDuy6VhY0mQ8POM5qDFwfzQw4PkAXLMIhE3iS8gyk0WEP2KtdCoR6iRO4EGwbPOp8ESSAyg6UfAQduBA0HJxmMx/sJ7scoLTzIIQHYRgQFYYYcBJcFyjuVRFcpmcTLJyiEkB9OBQsnvUSzCcJEqBi+RJo+OIR0P1eD6wwbBZcGkQTHGHJE4h3ERLserUaRJYAGzCl5BMcz3AcHHIzFowrShLUnacYwJBTEDSv/Q9Akk8aVILhFRwPNQ7M9tMOjOjSDTQXfxJgjX4RwOnLFhTMSgwQXSgVpBH4EHQMCRKwRScQZO+ADaSYARKMGTkNMHyEEJQ7hg7YW6MUhMcHEfCVrA6EYHEO3DAlCjRY2Q1YPoUWVL7JDzzXQxJY7H4KBMjED7A9fQ0Q8goRVO1FCjTqOQwMuVgKALBkCfSzsQowehgQ+IRYDAh0LQs4m5EJ/EttDqSAWwyIcngKYBHeCszs1gtENnALREaXC6S56A4QaDkNFHyUDVREeBKo9eUXuEUXDkxljxRUj1cLVCV+DSCpdAjwqzsKMMLMCewzyA2Q/UkKAF48C7ieSAskqoQM8G0FC4hffQkUo8wNfNguDnxJdg+Ud4kQoA+ADFhBRRL8XH4KiJFEBiAo7QZI4ioKrG3/CcArRwkgA9ELBC+rDXhW0Q84xfcUjBWNDUTDXwzEIjUMZHmoCxQxCguQrngMwOX9CwhpyQvIRSoO7BRLCUCX/A00Xs4w4AGNItix1xs8kWsXJJ5EF3SbIBZwpEoPEFOhD9BV/Q682JkNrP3uDIDVqQpIqI0J8IrECzDIpguYXhANgGX8CXDLkwgAU5oNbMX7DlysLRDIxzkTeFNqGhwPMReYLoUYZH27F+ym8hDM2CQT/CJUFA==",
          "dtype": "i4"
         },
         "yaxis": "y2"
        }
       ],
       "layout": {
        "annotations": [
         {
          "font": {
           "size": 16
          },
          "showarrow": false,
          "text": "NVDA Candlestick Chart",
          "x": 0.5,
          "xanchor": "center",
          "xref": "paper",
          "y": 1,
          "yanchor": "bottom",
          "yref": "paper"
         },
         {
          "font": {
           "size": 16
          },
          "showarrow": false,
          "text": "NVDA Volume",
          "x": 0.5,
          "xanchor": "center",
          "xref": "paper",
          "y": 0.17,
          "yanchor": "bottom",
          "yref": "paper"
         }
        ],
        "height": 800,
        "showlegend": false,
        "template": {
         "data": {
          "bar": [
           {
            "error_x": {
             "color": "#2a3f5f"
            },
            "error_y": {
             "color": "#2a3f5f"
            },
            "marker": {
             "line": {
              "color": "#E5ECF6",
              "width": 0.5
             },
             "pattern": {
              "fillmode": "overlay",
              "size": 10,
              "solidity": 0.2
             }
            },
            "type": "bar"
           }
          ],
          "barpolar": [
           {
            "marker": {
             "line": {
              "color": "#E5ECF6",
              "width": 0.5
             },
             "pattern": {
              "fillmode": "overlay",
              "size": 10,
              "solidity": 0.2
             }
            },
            "type": "barpolar"
           }
          ],
          "carpet": [
           {
            "aaxis": {
             "endlinecolor": "#2a3f5f",
             "gridcolor": "white",
             "linecolor": "white",
             "minorgridcolor": "white",
             "startlinecolor": "#2a3f5f"
            },
            "baxis": {
             "endlinecolor": "#2a3f5f",
             "gridcolor": "white",
             "linecolor": "white",
             "minorgridcolor": "white",
             "startlinecolor": "#2a3f5f"
            },
            "type": "carpet"
           }
          ],
          "choropleth": [
           {
            "colorbar": {
             "outlinewidth": 0,
             "ticks": ""
            },
            "type": "choropleth"
           }
          ],
          "contour": [
           {
            "colorbar": {
             "outlinewidth": 0,
             "ticks": ""
            },
            "colorscale": [
             [
              0,
              "#0d0887"
             ],
             [
              0.1111111111111111,
              "#46039f"
             ],
             [
              0.2222222222222222,
              "#7201a8"
             ],
             [
              0.3333333333333333,
              "#9c179e"
             ],
             [
              0.4444444444444444,
              "#bd3786"
             ],
             [
              0.5555555555555556,
              "#d8576b"
             ],
             [
              0.6666666666666666,
              "#ed7953"
             ],
             [
              0.7777777777777778,
              "#fb9f3a"
             ],
             [
              0.8888888888888888,
              "#fdca26"
             ],
             [
              1,
              "#f0f921"
             ]
            ],
            "type": "contour"
           }
          ],
          "contourcarpet": [
           {
            "colorbar": {
             "outlinewidth": 0,
             "ticks": ""
            },
            "type": "contourcarpet"
           }
          ],
          "heatmap": [
           {
            "colorbar": {
             "outlinewidth": 0,
             "ticks": ""
            },
            "colorscale": [
             [
              0,
              "#0d0887"
             ],
             [
              0.1111111111111111,
              "#46039f"
             ],
             [
              0.2222222222222222,
              "#7201a8"
             ],
             [
              0.3333333333333333,
              "#9c179e"
             ],
             [
              0.4444444444444444,
              "#bd3786"
             ],
             [
              0.5555555555555556,
              "#d8576b"
             ],
             [
              0.6666666666666666,
              "#ed7953"
             ],
             [
              0.7777777777777778,
              "#fb9f3a"
             ],
             [
              0.8888888888888888,
              "#fdca26"
             ],
             [
              1,
              "#f0f921"
             ]
            ],
            "type": "heatmap"
           }
          ],
          "histogram": [
           {
            "marker": {
             "pattern": {
              "fillmode": "overlay",
              "size": 10,
              "solidity": 0.2
             }
            },
            "type": "histogram"
           }
          ],
          "histogram2d": [
           {
            "colorbar": {
             "outlinewidth": 0,
             "ticks": ""
            },
            "colorscale": [
             [
              0,
              "#0d0887"
             ],
             [
              0.1111111111111111,
              "#46039f"
             ],
             [
              0.2222222222222222,
              "#7201a8"
             ],
             [
              0.3333333333333333,
              "#9c179e"
             ],
             [
              0.4444444444444444,
              "#bd3786"
             ],
             [
              0.5555555555555556,
              "#d8576b"
             ],
             [
              0.6666666666666666,
              "#ed7953"
             ],
             [
              0.7777777777777778,
              "#fb9f3a"
             ],
             [
              0.8888888888888888,
              "#fdca26"
             ],
             [
              1,
              "#f0f921"
             ]
            ],
            "type": "histogram2d"
           }
          ],
          "histogram2dcontour": [
           {
            "colorbar": {
             "outlinewidth": 0,
             "ticks": ""
            },
            "colorscale": [
             [
              0,
              "#0d0887"
             ],
             [
              0.1111111111111111,
              "#46039f"
             ],
             [
              0.2222222222222222,
              "#7201a8"
             ],
             [
              0.3333333333333333,
              "#9c179e"
             ],
             [
              0.4444444444444444,
              "#bd3786"
             ],
             [
              0.5555555555555556,
              "#d8576b"
             ],
             [
              0.6666666666666666,
              "#ed7953"
             ],
             [
              0.7777777777777778,
              "#fb9f3a"
             ],
             [
              0.8888888888888888,
              "#fdca26"
             ],
             [
              1,
              "#f0f921"
             ]
            ],
            "type": "histogram2dcontour"
           }
          ],
          "mesh3d": [
           {
            "colorbar": {
             "outlinewidth": 0,
             "ticks": ""
            },
            "type": "mesh3d"
           }
          ],
          "parcoords": [
           {
            "line": {
             "colorbar": {
              "outlinewidth": 0,
              "ticks": ""
             }
            },
            "type": "parcoords"
           }
          ],
          "pie": [
           {
            "automargin": true,
            "type": "pie"
           }
          ],
          "scatter": [
           {
            "fillpattern": {
             "fillmode": "overlay",
             "size": 10,
             "solidity": 0.2
            },
            "type": "scatter"
           }
          ],
          "scatter3d": [
           {
            "line": {
             "colorbar": {
              "outlinewidth": 0,
              "ticks": ""
             }
            },
            "marker": {
             "colorbar": {
              "outlinewidth": 0,
              "ticks": ""
             }
            },
            "type": "scatter3d"
           }
          ],
          "scattercarpet": [
           {
            "marker": {
             "colorbar": {
              "outlinewidth": 0,
              "ticks": ""
             }
            },
            "type": "scattercarpet"
           }
          ],
          "scattergeo": [
           {
            "marker": {
             "colorbar": {
              "outlinewidth": 0,
              "ticks": ""
             }
            },
            "type": "scattergeo"
           }
          ],
          "scattergl": [
           {
            "marker": {
             "colorbar": {
              "outlinewidth": 0,
              "ticks": ""
             }
            },
            "type": "scattergl"
           }
          ],
          "scattermap": [
           {
            "marker": {
             "colorbar": {
              "outlinewidth": 0,
              "ticks": ""
             }
            },
            "type": "scattermap"
           }
          ],
          "scattermapbox": [
           {
            "marker": {
             "colorbar": {
              "outlinewidth": 0,
              "ticks": ""
             }
            },
            "type": "scattermapbox"
           }
          ],
          "scatterpolar": [
           {
            "marker": {
             "colorbar": {
              "outlinewidth": 0,
              "ticks": ""
             }
            },
            "type": "scatterpolar"
           }
          ],
          "scatterpolargl": [
           {
            "marker": {
             "colorbar": {
              "outlinewidth": 0,
              "ticks": ""
             }
            },
            "type": "scatterpolargl"
           }
          ],
          "scatterternary": [
           {
            "marker": {
             "colorbar": {
              "outlinewidth": 0,
              "ticks": ""
             }
            },
            "type": "scatterternary"
           }
          ],
          "surface": [
           {
            "colorbar": {
             "outlinewidth": 0,
             "ticks": ""
            },
            "colorscale": [
             [
              0,
              "#0d0887"
             ],
             [
              0.1111111111111111,
              "#46039f"
             ],
             [
              0.2222222222222222,
              "#7201a8"
             ],
             [
              0.3333333333333333,
              "#9c179e"
             ],
             [
              0.4444444444444444,
              "#bd3786"
             ],
             [
              0.5555555555555556,
              "#d8576b"
             ],
             [
              0.6666666666666666,
              "#ed7953"
             ],
             [
              0.7777777777777778,
              "#fb9f3a"
             ],
             [
              0.8888888888888888,
              "#fdca26"
             ],
             [
              1,
              "#f0f921"
             ]
            ],
            "type": "surface"
           }
          ],
          "table": [
           {
            "cells": {
             "fill": {
              "color": "#EBF0F8"
             },
             "line": {
              "color": "white"
             }
            },
            "header": {
             "fill": {
              "color": "#C8D4E3"
             },
             "line": {
              "color": "white"
             }
            },
            "type": "table"
           }
          ]
         },
         "layout": {
          "annotationdefaults": {
           "arrowcolor": "#2a3f5f",
           "arrowhead": 0,
           "arrowwidth": 1
          },
          "autotypenumbers": "strict",
          "coloraxis": {
           "colorbar": {
            "outlinewidth": 0,
            "ticks": ""
           }
          },
          "colorscale": {
           "diverging": [
            [
             0,
             "#8e0152"
            ],
            [
             0.1,
             "#c51b7d"
            ],
            [
             0.2,
             "#de77ae"
            ],
            [
             0.3,
             "#f1b6da"
            ],
            [
             0.4,
             "#fde0ef"
            ],
            [
             0.5,
             "#f7f7f7"
            ],
            [
             0.6,
             "#e6f5d0"
            ],
            [
             0.7,
             "#b8e186"
            ],
            [
             0.8,
             "#7fbc41"
            ],
            [
             0.9,
             "#4d9221"
            ],
            [
             1,
             "#276419"
            ]
           ],
           "sequential": [
            [
             0,
             "#0d0887"
            ],
            [
             0.1111111111111111,
             "#46039f"
            ],
            [
             0.2222222222222222,
             "#7201a8"
            ],
            [
             0.3333333333333333,
             "#9c179e"
            ],
            [
             0.4444444444444444,
             "#bd3786"
            ],
            [
             0.5555555555555556,
             "#d8576b"
            ],
            [
             0.6666666666666666,
             "#ed7953"
            ],
            [
             0.7777777777777778,
             "#fb9f3a"
            ],
            [
             0.8888888888888888,
             "#fdca26"
            ],
            [
             1,
             "#f0f921"
            ]
           ],
           "sequentialminus": [
            [
             0,
             "#0d0887"
            ],
            [
             0.1111111111111111,
             "#46039f"
            ],
            [
             0.2222222222222222,
             "#7201a8"
            ],
            [
             0.3333333333333333,
             "#9c179e"
            ],
            [
             0.4444444444444444,
             "#bd3786"
            ],
            [
             0.5555555555555556,
             "#d8576b"
            ],
            [
             0.6666666666666666,
             "#ed7953"
            ],
            [
             0.7777777777777778,
             "#fb9f3a"
            ],
            [
             0.8888888888888888,
             "#fdca26"
            ],
            [
             1,
             "#f0f921"
            ]
           ]
          },
          "colorway": [
           "#636efa",
           "#EF553B",
           "#00cc96",
           "#ab63fa",
           "#FFA15A",
           "#19d3f3",
           "#FF6692",
           "#B6E880",
           "#FF97FF",
           "#FECB52"
          ],
          "font": {
           "color": "#2a3f5f"
          },
          "geo": {
           "bgcolor": "white",
           "lakecolor": "white",
           "landcolor": "#E5ECF6",
           "showlakes": true,
           "showland": true,
           "subunitcolor": "white"
          },
          "hoverlabel": {
           "align": "left"
          },
          "hovermode": "closest",
          "mapbox": {
           "style": "light"
          },
          "paper_bgcolor": "white",
          "plot_bgcolor": "#E5ECF6",
          "polar": {
           "angularaxis": {
            "gridcolor": "white",
            "linecolor": "white",
            "ticks": ""
           },
           "bgcolor": "#E5ECF6",
           "radialaxis": {
            "gridcolor": "white",
            "linecolor": "white",
            "ticks": ""
           }
          },
          "scene": {
           "xaxis": {
            "backgroundcolor": "#E5ECF6",
            "gridcolor": "white",
            "gridwidth": 2,
            "linecolor": "white",
            "showbackground": true,
            "ticks": "",
            "zerolinecolor": "white"
           },
           "yaxis": {
            "backgroundcolor": "#E5ECF6",
            "gridcolor": "white",
            "gridwidth": 2,
            "linecolor": "white",
            "showbackground": true,
            "ticks": "",
            "zerolinecolor": "white"
           },
           "zaxis": {
            "backgroundcolor": "#E5ECF6",
            "gridcolor": "white",
            "gridwidth": 2,
            "linecolor": "white",
            "showbackground": true,
            "ticks": "",
            "zerolinecolor": "white"
           }
          },
          "shapedefaults": {
           "line": {
            "color": "#2a3f5f"
           }
          },
          "ternary": {
           "aaxis": {
            "gridcolor": "white",
            "linecolor": "white",
            "ticks": ""
           },
           "baxis": {
            "gridcolor": "white",
            "linecolor": "white",
            "ticks": ""
           },
           "bgcolor": "#E5ECF6",
           "caxis": {
            "gridcolor": "white",
            "linecolor": "white",
            "ticks": ""
           }
          },
          "title": {
           "x": 0.05
          },
          "xaxis": {
           "automargin": true,
           "gridcolor": "white",
           "linecolor": "white",
           "ticks": "",
           "title": {
            "standoff": 15
           },
           "zerolinecolor": "white",
           "zerolinewidth": 2
          },
          "yaxis": {
           "automargin": true,
           "gridcolor": "white",
           "linecolor": "white",
           "ticks": "",
           "title": {
            "standoff": 15
           },
           "zerolinecolor": "white",
           "zerolinewidth": 2
          }
         }
        },
        "title": {
         "font": {
          "size": 24
         },
         "text": "NVDA Candlestick and Volume Chart",
         "x": 0.5
        },
        "xaxis": {
         "anchor": "y",
         "domain": [
          0,
          1
         ],
         "matches": "x2",
         "rangeslider": {
          "visible": false
         },
         "showticklabels": false,
         "title": {
          "text": "Date"
         }
        },
        "xaxis2": {
         "anchor": "y2",
         "domain": [
          0,
          1
         ]
        },
        "yaxis": {
         "anchor": "x",
         "domain": [
          0.32,
          1
         ],
         "title": {
          "text": "Price (USD)"
         }
        },
        "yaxis2": {
         "anchor": "x2",
         "domain": [
          0,
          0.17
         ]
        }
       }
      }
     },
     "metadata": {},
     "output_type": "display_data"
    }
   ],
   "source": [
    "from datetime import date\n",
    "from plotly import graph_objects as go\n",
    "from plotly.subplots import make_subplots\n",
    "\n",
    "# Get NVDA OHLCV\n",
    "df_NVDA = df.reorder_levels(['Ticker', 'Price'], axis=1)['NVDA']\n",
    "\n",
    "# Create subplots: 1 row, 2 columns (candlestick chart + volume plot)\n",
    "fig = make_subplots(rows=2, cols=1, shared_xaxes=True, \n",
    "                    vertical_spacing=0.15,  # Increased spacing between plots\n",
    "                    subplot_titles=('NVDA Candlestick Chart', 'NVDA Volume'),\n",
    "                    row_heights=[0.8, 0.2])\n",
    "\n",
    "# Plot Candlestick Chart in the first subplot\n",
    "fig.add_trace(go.Ohlc(x=df_NVDA.index,\n",
    "                     open=df_NVDA['Open'],\n",
    "                     high=df_NVDA['High'],\n",
    "                     low=df_NVDA['Low'],\n",
    "                     close=df_NVDA['Close']),\n",
    "              row=1, col=1)\n",
    "\n",
    "# Plot Volume Chart in the second subplot\n",
    "fig.add_trace(go.Bar(x=df_NVDA.index,\n",
    "                     y=df_NVDA['Volume'],\n",
    "                     name='Volume'),\n",
    "              row=2, col=1)\n",
    "\n",
    "# Format Title and Layout\n",
    "fig.update_layout(\n",
    "    title={'text': 'NVDA Candlestick and Volume Chart', 'x': 0.5, 'font': dict(size=24)},\n",
    "    xaxis_title='Date',  # X-axis title for the entire figure\n",
    "    yaxis_title='Price (USD)',\n",
    "    xaxis_rangeslider_visible=False,  # Hide range slider\n",
    "    showlegend=False,\n",
    "    height=800  # Set figure height to avoid squeezing\n",
    ")\n",
    "\n",
    "# Show the plot\n",
    "fig.show()\n"
   ]
  },
  {
   "cell_type": "markdown",
   "metadata": {},
   "source": [
    "## Adjusted Close Price for Analysis\n",
    "\n",
    "For the rest of our analysis, we will focus on the **Adjusted Close** price of the asset. The Adjusted Close price accounts for stock splits and dividend payments, providing a more accurate reflection of the actual value of an asset over time.\n",
    "\n",
    "### Why Not Total Return Index?\n",
    "In a more comprehensive analysis, the **Total Return Index** would be preferred, as it incorporates both price appreciation and the reinvestment of dividends. This gives a more complete picture of the investment’s performance.\n",
    "\n",
    "However, since Yahoo Finance does not provide a Total Return Index, we will proceed with the **Adjusted Close** price as a proxy for the total returns.\n"
   ]
  },
  {
   "cell_type": "code",
   "execution_count": 9,
   "metadata": {},
   "outputs": [
    {
     "data": {
      "text/html": [
       "<div>\n",
       "<style scoped>\n",
       "    .dataframe tbody tr th:only-of-type {\n",
       "        vertical-align: middle;\n",
       "    }\n",
       "\n",
       "    .dataframe tbody tr th {\n",
       "        vertical-align: top;\n",
       "    }\n",
       "\n",
       "    .dataframe thead th {\n",
       "        text-align: right;\n",
       "    }\n",
       "</style>\n",
       "<table border=\"1\" class=\"dataframe\">\n",
       "  <thead>\n",
       "    <tr style=\"text-align: right;\">\n",
       "      <th>Ticker</th>\n",
       "      <th>A</th>\n",
       "      <th>AAPL</th>\n",
       "      <th>ABBV</th>\n",
       "      <th>ABNB</th>\n",
       "      <th>ABT</th>\n",
       "      <th>ACGL</th>\n",
       "      <th>ACN</th>\n",
       "      <th>ADBE</th>\n",
       "      <th>ADI</th>\n",
       "      <th>ADM</th>\n",
       "      <th>...</th>\n",
       "      <th>WTW</th>\n",
       "      <th>WY</th>\n",
       "      <th>WYNN</th>\n",
       "      <th>XEL</th>\n",
       "      <th>XOM</th>\n",
       "      <th>XYL</th>\n",
       "      <th>YUM</th>\n",
       "      <th>ZBH</th>\n",
       "      <th>ZBRA</th>\n",
       "      <th>ZTS</th>\n",
       "    </tr>\n",
       "    <tr>\n",
       "      <th>Date</th>\n",
       "      <th></th>\n",
       "      <th></th>\n",
       "      <th></th>\n",
       "      <th></th>\n",
       "      <th></th>\n",
       "      <th></th>\n",
       "      <th></th>\n",
       "      <th></th>\n",
       "      <th></th>\n",
       "      <th></th>\n",
       "      <th></th>\n",
       "      <th></th>\n",
       "      <th></th>\n",
       "      <th></th>\n",
       "      <th></th>\n",
       "      <th></th>\n",
       "      <th></th>\n",
       "      <th></th>\n",
       "      <th></th>\n",
       "      <th></th>\n",
       "      <th></th>\n",
       "    </tr>\n",
       "  </thead>\n",
       "  <tbody>\n",
       "    <tr>\n",
       "      <th>2024-03-08</th>\n",
       "      <td>146.851044</td>\n",
       "      <td>169.927628</td>\n",
       "      <td>172.563904</td>\n",
       "      <td>164.910004</td>\n",
       "      <td>118.544174</td>\n",
       "      <td>83.308220</td>\n",
       "      <td>373.546021</td>\n",
       "      <td>551.690002</td>\n",
       "      <td>192.740906</td>\n",
       "      <td>52.810596</td>\n",
       "      <td>...</td>\n",
       "      <td>270.343811</td>\n",
       "      <td>33.928585</td>\n",
       "      <td>99.301155</td>\n",
       "      <td>49.132404</td>\n",
       "      <td>104.841194</td>\n",
       "      <td>125.669731</td>\n",
       "      <td>136.874863</td>\n",
       "      <td>125.658829</td>\n",
       "      <td>282.589996</td>\n",
       "      <td>180.237778</td>\n",
       "    </tr>\n",
       "    <tr>\n",
       "      <th>2024-03-11</th>\n",
       "      <td>146.275040</td>\n",
       "      <td>171.938141</td>\n",
       "      <td>173.316498</td>\n",
       "      <td>162.990005</td>\n",
       "      <td>117.789551</td>\n",
       "      <td>85.875641</td>\n",
       "      <td>368.656555</td>\n",
       "      <td>560.419983</td>\n",
       "      <td>194.973846</td>\n",
       "      <td>52.906952</td>\n",
       "      <td>...</td>\n",
       "      <td>268.625183</td>\n",
       "      <td>34.152565</td>\n",
       "      <td>102.069679</td>\n",
       "      <td>50.952480</td>\n",
       "      <td>105.460304</td>\n",
       "      <td>124.779724</td>\n",
       "      <td>137.384842</td>\n",
       "      <td>126.947723</td>\n",
       "      <td>280.230011</td>\n",
       "      <td>181.553757</td>\n",
       "    </tr>\n",
       "    <tr>\n",
       "      <th>2024-03-12</th>\n",
       "      <td>146.821259</td>\n",
       "      <td>172.415878</td>\n",
       "      <td>174.561157</td>\n",
       "      <td>166.669998</td>\n",
       "      <td>118.348167</td>\n",
       "      <td>86.455696</td>\n",
       "      <td>375.827789</td>\n",
       "      <td>579.140015</td>\n",
       "      <td>195.947678</td>\n",
       "      <td>54.988155</td>\n",
       "      <td>...</td>\n",
       "      <td>271.598145</td>\n",
       "      <td>33.568268</td>\n",
       "      <td>101.881813</td>\n",
       "      <td>49.979851</td>\n",
       "      <td>104.783157</td>\n",
       "      <td>127.034424</td>\n",
       "      <td>138.032166</td>\n",
       "      <td>127.116295</td>\n",
       "      <td>285.440002</td>\n",
       "      <td>179.436325</td>\n",
       "    </tr>\n",
       "    <tr>\n",
       "      <th>2024-03-13</th>\n",
       "      <td>146.801392</td>\n",
       "      <td>170.325760</td>\n",
       "      <td>173.538437</td>\n",
       "      <td>164.759995</td>\n",
       "      <td>117.760155</td>\n",
       "      <td>86.531769</td>\n",
       "      <td>374.089294</td>\n",
       "      <td>573.549988</td>\n",
       "      <td>195.357468</td>\n",
       "      <td>56.144379</td>\n",
       "      <td>...</td>\n",
       "      <td>271.519165</td>\n",
       "      <td>33.655910</td>\n",
       "      <td>101.179802</td>\n",
       "      <td>49.594643</td>\n",
       "      <td>105.953651</td>\n",
       "      <td>126.599304</td>\n",
       "      <td>135.697937</td>\n",
       "      <td>125.510094</td>\n",
       "      <td>284.500000</td>\n",
       "      <td>174.370346</td>\n",
       "    </tr>\n",
       "    <tr>\n",
       "      <th>2024-03-14</th>\n",
       "      <td>144.209381</td>\n",
       "      <td>172.186951</td>\n",
       "      <td>174.831314</td>\n",
       "      <td>166.440002</td>\n",
       "      <td>116.476311</td>\n",
       "      <td>86.560295</td>\n",
       "      <td>373.585510</td>\n",
       "      <td>570.450012</td>\n",
       "      <td>191.255569</td>\n",
       "      <td>56.086571</td>\n",
       "      <td>...</td>\n",
       "      <td>270.630188</td>\n",
       "      <td>33.363758</td>\n",
       "      <td>99.864746</td>\n",
       "      <td>50.497929</td>\n",
       "      <td>107.830307</td>\n",
       "      <td>126.539955</td>\n",
       "      <td>134.521042</td>\n",
       "      <td>124.657448</td>\n",
       "      <td>281.769989</td>\n",
       "      <td>172.045166</td>\n",
       "    </tr>\n",
       "    <tr>\n",
       "      <th>...</th>\n",
       "      <td>...</td>\n",
       "      <td>...</td>\n",
       "      <td>...</td>\n",
       "      <td>...</td>\n",
       "      <td>...</td>\n",
       "      <td>...</td>\n",
       "      <td>...</td>\n",
       "      <td>...</td>\n",
       "      <td>...</td>\n",
       "      <td>...</td>\n",
       "      <td>...</td>\n",
       "      <td>...</td>\n",
       "      <td>...</td>\n",
       "      <td>...</td>\n",
       "      <td>...</td>\n",
       "      <td>...</td>\n",
       "      <td>...</td>\n",
       "      <td>...</td>\n",
       "      <td>...</td>\n",
       "      <td>...</td>\n",
       "      <td>...</td>\n",
       "    </tr>\n",
       "    <tr>\n",
       "      <th>2025-03-03</th>\n",
       "      <td>126.330002</td>\n",
       "      <td>238.029999</td>\n",
       "      <td>211.479996</td>\n",
       "      <td>140.979996</td>\n",
       "      <td>140.220001</td>\n",
       "      <td>92.980003</td>\n",
       "      <td>344.989990</td>\n",
       "      <td>440.720001</td>\n",
       "      <td>227.540009</td>\n",
       "      <td>46.580002</td>\n",
       "      <td>...</td>\n",
       "      <td>340.359985</td>\n",
       "      <td>31.171867</td>\n",
       "      <td>88.930000</td>\n",
       "      <td>71.900002</td>\n",
       "      <td>107.760002</td>\n",
       "      <td>129.779999</td>\n",
       "      <td>156.929993</td>\n",
       "      <td>105.379997</td>\n",
       "      <td>306.839996</td>\n",
       "      <td>170.529999</td>\n",
       "    </tr>\n",
       "    <tr>\n",
       "      <th>2025-03-04</th>\n",
       "      <td>123.059998</td>\n",
       "      <td>235.929993</td>\n",
       "      <td>207.759995</td>\n",
       "      <td>141.419998</td>\n",
       "      <td>137.580002</td>\n",
       "      <td>91.870003</td>\n",
       "      <td>345.779999</td>\n",
       "      <td>446.029999</td>\n",
       "      <td>226.179993</td>\n",
       "      <td>45.820000</td>\n",
       "      <td>...</td>\n",
       "      <td>333.940002</td>\n",
       "      <td>30.576038</td>\n",
       "      <td>87.099998</td>\n",
       "      <td>70.029999</td>\n",
       "      <td>107.540001</td>\n",
       "      <td>127.320000</td>\n",
       "      <td>158.410004</td>\n",
       "      <td>103.989998</td>\n",
       "      <td>297.920013</td>\n",
       "      <td>169.899994</td>\n",
       "    </tr>\n",
       "    <tr>\n",
       "      <th>2025-03-05</th>\n",
       "      <td>126.510002</td>\n",
       "      <td>235.740005</td>\n",
       "      <td>211.539993</td>\n",
       "      <td>142.580002</td>\n",
       "      <td>137.710007</td>\n",
       "      <td>91.349998</td>\n",
       "      <td>348.260010</td>\n",
       "      <td>451.239990</td>\n",
       "      <td>229.470001</td>\n",
       "      <td>45.799999</td>\n",
       "      <td>...</td>\n",
       "      <td>334.500000</td>\n",
       "      <td>30.715065</td>\n",
       "      <td>90.669998</td>\n",
       "      <td>68.730003</td>\n",
       "      <td>105.440002</td>\n",
       "      <td>129.669998</td>\n",
       "      <td>159.369995</td>\n",
       "      <td>104.750000</td>\n",
       "      <td>304.000000</td>\n",
       "      <td>167.000000</td>\n",
       "    </tr>\n",
       "    <tr>\n",
       "      <th>2025-03-06</th>\n",
       "      <td>126.550003</td>\n",
       "      <td>235.330002</td>\n",
       "      <td>210.750000</td>\n",
       "      <td>134.770004</td>\n",
       "      <td>135.080002</td>\n",
       "      <td>91.379997</td>\n",
       "      <td>341.839996</td>\n",
       "      <td>444.779999</td>\n",
       "      <td>222.770004</td>\n",
       "      <td>48.060001</td>\n",
       "      <td>...</td>\n",
       "      <td>330.429993</td>\n",
       "      <td>30.009998</td>\n",
       "      <td>88.190002</td>\n",
       "      <td>67.660004</td>\n",
       "      <td>107.620003</td>\n",
       "      <td>128.960007</td>\n",
       "      <td>159.259995</td>\n",
       "      <td>105.320000</td>\n",
       "      <td>294.559998</td>\n",
       "      <td>167.250000</td>\n",
       "    </tr>\n",
       "    <tr>\n",
       "      <th>2025-03-07</th>\n",
       "      <td>126.699997</td>\n",
       "      <td>239.070007</td>\n",
       "      <td>214.289993</td>\n",
       "      <td>134.389999</td>\n",
       "      <td>137.139999</td>\n",
       "      <td>91.000000</td>\n",
       "      <td>342.179993</td>\n",
       "      <td>449.399994</td>\n",
       "      <td>225.860001</td>\n",
       "      <td>49.439999</td>\n",
       "      <td>...</td>\n",
       "      <td>330.890015</td>\n",
       "      <td>30.650000</td>\n",
       "      <td>88.720001</td>\n",
       "      <td>68.000000</td>\n",
       "      <td>109.019997</td>\n",
       "      <td>130.619995</td>\n",
       "      <td>162.529999</td>\n",
       "      <td>107.989998</td>\n",
       "      <td>292.690002</td>\n",
       "      <td>170.369995</td>\n",
       "    </tr>\n",
       "  </tbody>\n",
       "</table>\n",
       "<p>250 rows × 503 columns</p>\n",
       "</div>"
      ],
      "text/plain": [
       "Ticker               A        AAPL        ABBV        ABNB         ABT  \\\n",
       "Date                                                                     \n",
       "2024-03-08  146.851044  169.927628  172.563904  164.910004  118.544174   \n",
       "2024-03-11  146.275040  171.938141  173.316498  162.990005  117.789551   \n",
       "2024-03-12  146.821259  172.415878  174.561157  166.669998  118.348167   \n",
       "2024-03-13  146.801392  170.325760  173.538437  164.759995  117.760155   \n",
       "2024-03-14  144.209381  172.186951  174.831314  166.440002  116.476311   \n",
       "...                ...         ...         ...         ...         ...   \n",
       "2025-03-03  126.330002  238.029999  211.479996  140.979996  140.220001   \n",
       "2025-03-04  123.059998  235.929993  207.759995  141.419998  137.580002   \n",
       "2025-03-05  126.510002  235.740005  211.539993  142.580002  137.710007   \n",
       "2025-03-06  126.550003  235.330002  210.750000  134.770004  135.080002   \n",
       "2025-03-07  126.699997  239.070007  214.289993  134.389999  137.139999   \n",
       "\n",
       "Ticker           ACGL         ACN        ADBE         ADI        ADM  ...  \\\n",
       "Date                                                                  ...   \n",
       "2024-03-08  83.308220  373.546021  551.690002  192.740906  52.810596  ...   \n",
       "2024-03-11  85.875641  368.656555  560.419983  194.973846  52.906952  ...   \n",
       "2024-03-12  86.455696  375.827789  579.140015  195.947678  54.988155  ...   \n",
       "2024-03-13  86.531769  374.089294  573.549988  195.357468  56.144379  ...   \n",
       "2024-03-14  86.560295  373.585510  570.450012  191.255569  56.086571  ...   \n",
       "...               ...         ...         ...         ...        ...  ...   \n",
       "2025-03-03  92.980003  344.989990  440.720001  227.540009  46.580002  ...   \n",
       "2025-03-04  91.870003  345.779999  446.029999  226.179993  45.820000  ...   \n",
       "2025-03-05  91.349998  348.260010  451.239990  229.470001  45.799999  ...   \n",
       "2025-03-06  91.379997  341.839996  444.779999  222.770004  48.060001  ...   \n",
       "2025-03-07  91.000000  342.179993  449.399994  225.860001  49.439999  ...   \n",
       "\n",
       "Ticker             WTW         WY        WYNN        XEL         XOM  \\\n",
       "Date                                                                   \n",
       "2024-03-08  270.343811  33.928585   99.301155  49.132404  104.841194   \n",
       "2024-03-11  268.625183  34.152565  102.069679  50.952480  105.460304   \n",
       "2024-03-12  271.598145  33.568268  101.881813  49.979851  104.783157   \n",
       "2024-03-13  271.519165  33.655910  101.179802  49.594643  105.953651   \n",
       "2024-03-14  270.630188  33.363758   99.864746  50.497929  107.830307   \n",
       "...                ...        ...         ...        ...         ...   \n",
       "2025-03-03  340.359985  31.171867   88.930000  71.900002  107.760002   \n",
       "2025-03-04  333.940002  30.576038   87.099998  70.029999  107.540001   \n",
       "2025-03-05  334.500000  30.715065   90.669998  68.730003  105.440002   \n",
       "2025-03-06  330.429993  30.009998   88.190002  67.660004  107.620003   \n",
       "2025-03-07  330.890015  30.650000   88.720001  68.000000  109.019997   \n",
       "\n",
       "Ticker             XYL         YUM         ZBH        ZBRA         ZTS  \n",
       "Date                                                                    \n",
       "2024-03-08  125.669731  136.874863  125.658829  282.589996  180.237778  \n",
       "2024-03-11  124.779724  137.384842  126.947723  280.230011  181.553757  \n",
       "2024-03-12  127.034424  138.032166  127.116295  285.440002  179.436325  \n",
       "2024-03-13  126.599304  135.697937  125.510094  284.500000  174.370346  \n",
       "2024-03-14  126.539955  134.521042  124.657448  281.769989  172.045166  \n",
       "...                ...         ...         ...         ...         ...  \n",
       "2025-03-03  129.779999  156.929993  105.379997  306.839996  170.529999  \n",
       "2025-03-04  127.320000  158.410004  103.989998  297.920013  169.899994  \n",
       "2025-03-05  129.669998  159.369995  104.750000  304.000000  167.000000  \n",
       "2025-03-06  128.960007  159.259995  105.320000  294.559998  167.250000  \n",
       "2025-03-07  130.619995  162.529999  107.989998  292.690002  170.369995  \n",
       "\n",
       "[250 rows x 503 columns]"
      ]
     },
     "execution_count": 9,
     "metadata": {},
     "output_type": "execute_result"
    }
   ],
   "source": [
    "df = df['Adj Close']\n",
    "df"
   ]
  },
  {
   "cell_type": "markdown",
   "metadata": {},
   "source": [
    "## 🧪 **Melting the DataFrame with `melt()`**\n",
    "\n",
    "The `melt()` function in pandas is used to **transform the data from wide format to long format**. This is useful when you want to restructure the data to make it more suitable for analysis or visualization.\n",
    "\n",
    "### 🏆 **Why Use `melt()`?**\n",
    "\n",
    "- **Reshaping Data**: This transformation is typically used when you have data in a wide format (with multiple columns) and want to convert it into a long format where each row represents a single observation of an asset over time.\n",
    "  \n",
    "- **Easier Analysis & Plotting**: The long format is often more convenient for time-series analysis and creating visualizations, especially when plotting multiple series over the same x-axis (like dates or time periods).\n",
    "\n",
    "This process is particularly useful for **financial data analysis**, where you may want to stack different assets (like stocks or assets from different time periods) in a single column for easier analysis.\n"
   ]
  },
  {
   "cell_type": "code",
   "execution_count": 77,
   "metadata": {},
   "outputs": [
    {
     "data": {
      "text/html": [
       "<div>\n",
       "<style scoped>\n",
       "    .dataframe tbody tr th:only-of-type {\n",
       "        vertical-align: middle;\n",
       "    }\n",
       "\n",
       "    .dataframe tbody tr th {\n",
       "        vertical-align: top;\n",
       "    }\n",
       "\n",
       "    .dataframe thead th {\n",
       "        text-align: right;\n",
       "    }\n",
       "</style>\n",
       "<table border=\"1\" class=\"dataframe\">\n",
       "  <thead>\n",
       "    <tr style=\"text-align: right;\">\n",
       "      <th></th>\n",
       "      <th>Ticker</th>\n",
       "      <th>Adj Close</th>\n",
       "    </tr>\n",
       "    <tr>\n",
       "      <th>Date</th>\n",
       "      <th></th>\n",
       "      <th></th>\n",
       "    </tr>\n",
       "  </thead>\n",
       "  <tbody>\n",
       "    <tr>\n",
       "      <th>2024-03-08</th>\n",
       "      <td>A</td>\n",
       "      <td>146.851044</td>\n",
       "    </tr>\n",
       "    <tr>\n",
       "      <th>2024-03-11</th>\n",
       "      <td>A</td>\n",
       "      <td>146.275040</td>\n",
       "    </tr>\n",
       "    <tr>\n",
       "      <th>2024-03-12</th>\n",
       "      <td>A</td>\n",
       "      <td>146.821259</td>\n",
       "    </tr>\n",
       "    <tr>\n",
       "      <th>2024-03-13</th>\n",
       "      <td>A</td>\n",
       "      <td>146.801392</td>\n",
       "    </tr>\n",
       "    <tr>\n",
       "      <th>2024-03-14</th>\n",
       "      <td>A</td>\n",
       "      <td>144.209381</td>\n",
       "    </tr>\n",
       "    <tr>\n",
       "      <th>...</th>\n",
       "      <td>...</td>\n",
       "      <td>...</td>\n",
       "    </tr>\n",
       "    <tr>\n",
       "      <th>2025-03-03</th>\n",
       "      <td>ZTS</td>\n",
       "      <td>170.529999</td>\n",
       "    </tr>\n",
       "    <tr>\n",
       "      <th>2025-03-04</th>\n",
       "      <td>ZTS</td>\n",
       "      <td>169.899994</td>\n",
       "    </tr>\n",
       "    <tr>\n",
       "      <th>2025-03-05</th>\n",
       "      <td>ZTS</td>\n",
       "      <td>167.000000</td>\n",
       "    </tr>\n",
       "    <tr>\n",
       "      <th>2025-03-06</th>\n",
       "      <td>ZTS</td>\n",
       "      <td>167.250000</td>\n",
       "    </tr>\n",
       "    <tr>\n",
       "      <th>2025-03-07</th>\n",
       "      <td>ZTS</td>\n",
       "      <td>170.369995</td>\n",
       "    </tr>\n",
       "  </tbody>\n",
       "</table>\n",
       "<p>125750 rows × 2 columns</p>\n",
       "</div>"
      ],
      "text/plain": [
       "           Ticker   Adj Close\n",
       "Date                         \n",
       "2024-03-08      A  146.851044\n",
       "2024-03-11      A  146.275040\n",
       "2024-03-12      A  146.821259\n",
       "2024-03-13      A  146.801392\n",
       "2024-03-14      A  144.209381\n",
       "...           ...         ...\n",
       "2025-03-03    ZTS  170.529999\n",
       "2025-03-04    ZTS  169.899994\n",
       "2025-03-05    ZTS  167.000000\n",
       "2025-03-06    ZTS  167.250000\n",
       "2025-03-07    ZTS  170.369995\n",
       "\n",
       "[125750 rows x 2 columns]"
      ]
     },
     "execution_count": 77,
     "metadata": {},
     "output_type": "execute_result"
    }
   ],
   "source": [
    "df_long = df.melt(ignore_index=False, value_name='Adj Close')\n",
    "df_long"
   ]
  },
  {
   "cell_type": "code",
   "execution_count": 78,
   "metadata": {},
   "outputs": [
    {
     "data": {
      "text/html": [
       "<div>\n",
       "<style scoped>\n",
       "    .dataframe tbody tr th:only-of-type {\n",
       "        vertical-align: middle;\n",
       "    }\n",
       "\n",
       "    .dataframe tbody tr th {\n",
       "        vertical-align: top;\n",
       "    }\n",
       "\n",
       "    .dataframe thead th {\n",
       "        text-align: right;\n",
       "    }\n",
       "</style>\n",
       "<table border=\"1\" class=\"dataframe\">\n",
       "  <thead>\n",
       "    <tr style=\"text-align: right;\">\n",
       "      <th></th>\n",
       "      <th>Date</th>\n",
       "      <th>Adj Close</th>\n",
       "      <th>Symbol</th>\n",
       "      <th>GICS Sector</th>\n",
       "      <th>GICS Sub-Industry</th>\n",
       "    </tr>\n",
       "  </thead>\n",
       "  <tbody>\n",
       "    <tr>\n",
       "      <th>0</th>\n",
       "      <td>2024-03-08</td>\n",
       "      <td>146.851044</td>\n",
       "      <td>A</td>\n",
       "      <td>Health Care</td>\n",
       "      <td>Life Sciences Tools &amp; Services</td>\n",
       "    </tr>\n",
       "    <tr>\n",
       "      <th>1</th>\n",
       "      <td>2024-03-11</td>\n",
       "      <td>146.275040</td>\n",
       "      <td>A</td>\n",
       "      <td>Health Care</td>\n",
       "      <td>Life Sciences Tools &amp; Services</td>\n",
       "    </tr>\n",
       "    <tr>\n",
       "      <th>2</th>\n",
       "      <td>2024-03-12</td>\n",
       "      <td>146.821259</td>\n",
       "      <td>A</td>\n",
       "      <td>Health Care</td>\n",
       "      <td>Life Sciences Tools &amp; Services</td>\n",
       "    </tr>\n",
       "    <tr>\n",
       "      <th>3</th>\n",
       "      <td>2024-03-13</td>\n",
       "      <td>146.801392</td>\n",
       "      <td>A</td>\n",
       "      <td>Health Care</td>\n",
       "      <td>Life Sciences Tools &amp; Services</td>\n",
       "    </tr>\n",
       "    <tr>\n",
       "      <th>4</th>\n",
       "      <td>2024-03-14</td>\n",
       "      <td>144.209381</td>\n",
       "      <td>A</td>\n",
       "      <td>Health Care</td>\n",
       "      <td>Life Sciences Tools &amp; Services</td>\n",
       "    </tr>\n",
       "    <tr>\n",
       "      <th>...</th>\n",
       "      <td>...</td>\n",
       "      <td>...</td>\n",
       "      <td>...</td>\n",
       "      <td>...</td>\n",
       "      <td>...</td>\n",
       "    </tr>\n",
       "    <tr>\n",
       "      <th>125745</th>\n",
       "      <td>2025-03-03</td>\n",
       "      <td>170.529999</td>\n",
       "      <td>ZTS</td>\n",
       "      <td>Health Care</td>\n",
       "      <td>Pharmaceuticals</td>\n",
       "    </tr>\n",
       "    <tr>\n",
       "      <th>125746</th>\n",
       "      <td>2025-03-04</td>\n",
       "      <td>169.899994</td>\n",
       "      <td>ZTS</td>\n",
       "      <td>Health Care</td>\n",
       "      <td>Pharmaceuticals</td>\n",
       "    </tr>\n",
       "    <tr>\n",
       "      <th>125747</th>\n",
       "      <td>2025-03-05</td>\n",
       "      <td>167.000000</td>\n",
       "      <td>ZTS</td>\n",
       "      <td>Health Care</td>\n",
       "      <td>Pharmaceuticals</td>\n",
       "    </tr>\n",
       "    <tr>\n",
       "      <th>125748</th>\n",
       "      <td>2025-03-06</td>\n",
       "      <td>167.250000</td>\n",
       "      <td>ZTS</td>\n",
       "      <td>Health Care</td>\n",
       "      <td>Pharmaceuticals</td>\n",
       "    </tr>\n",
       "    <tr>\n",
       "      <th>125749</th>\n",
       "      <td>2025-03-07</td>\n",
       "      <td>170.369995</td>\n",
       "      <td>ZTS</td>\n",
       "      <td>Health Care</td>\n",
       "      <td>Pharmaceuticals</td>\n",
       "    </tr>\n",
       "  </tbody>\n",
       "</table>\n",
       "<p>125750 rows × 5 columns</p>\n",
       "</div>"
      ],
      "text/plain": [
       "             Date   Adj Close Symbol  GICS Sector  \\\n",
       "0      2024-03-08  146.851044      A  Health Care   \n",
       "1      2024-03-11  146.275040      A  Health Care   \n",
       "2      2024-03-12  146.821259      A  Health Care   \n",
       "3      2024-03-13  146.801392      A  Health Care   \n",
       "4      2024-03-14  144.209381      A  Health Care   \n",
       "...           ...         ...    ...          ...   \n",
       "125745 2025-03-03  170.529999    ZTS  Health Care   \n",
       "125746 2025-03-04  169.899994    ZTS  Health Care   \n",
       "125747 2025-03-05  167.000000    ZTS  Health Care   \n",
       "125748 2025-03-06  167.250000    ZTS  Health Care   \n",
       "125749 2025-03-07  170.369995    ZTS  Health Care   \n",
       "\n",
       "                     GICS Sub-Industry  \n",
       "0       Life Sciences Tools & Services  \n",
       "1       Life Sciences Tools & Services  \n",
       "2       Life Sciences Tools & Services  \n",
       "3       Life Sciences Tools & Services  \n",
       "4       Life Sciences Tools & Services  \n",
       "...                                ...  \n",
       "125745                 Pharmaceuticals  \n",
       "125746                 Pharmaceuticals  \n",
       "125747                 Pharmaceuticals  \n",
       "125748                 Pharmaceuticals  \n",
       "125749                 Pharmaceuticals  \n",
       "\n",
       "[125750 rows x 5 columns]"
      ]
     },
     "execution_count": 78,
     "metadata": {},
     "output_type": "execute_result"
    }
   ],
   "source": [
    "df_long = df_long.reset_index().merge(SP_500_DF[['Symbol', 'GICS Sector', 'GICS Sub-Industry']], left_on='Ticker', right_on='Symbol').drop('Ticker',axis=1)\n",
    "df_long\n"
   ]
  },
  {
   "cell_type": "code",
   "execution_count": 84,
   "metadata": {},
   "outputs": [
    {
     "data": {
      "application/vnd.plotly.v1+json": {
       "config": {
        "plotlyServerURL": "https://plot.ly"
       },
       "data": [
        {
         "hovertemplate": "Symbol=ADBE<br>Date=%{x}<br>pct_change=%{y}<extra></extra>",
         "legendgroup": "ADBE",
         "line": {
          "color": "#636efa",
          "dash": "solid",
          "width": 3
         },
         "marker": {
          "symbol": "circle"
         },
         "mode": "lines",
         "name": "ADBE",
         "showlegend": true,
         "type": "scattergl",
         "x": [
          "2024-03-08T00:00:00",
          "2024-03-11T00:00:00",
          "2024-03-12T00:00:00",
          "2024-03-13T00:00:00",
          "2024-03-14T00:00:00",
          "2024-03-15T00:00:00",
          "2024-03-18T00:00:00",
          "2024-03-19T00:00:00",
          "2024-03-20T00:00:00",
          "2024-03-21T00:00:00",
          "2024-03-22T00:00:00",
          "2024-03-25T00:00:00",
          "2024-03-26T00:00:00",
          "2024-03-27T00:00:00",
          "2024-03-28T00:00:00",
          "2024-04-01T00:00:00",
          "2024-04-02T00:00:00",
          "2024-04-03T00:00:00",
          "2024-04-04T00:00:00",
          "2024-04-05T00:00:00",
          "2024-04-08T00:00:00",
          "2024-04-09T00:00:00",
          "2024-04-10T00:00:00",
          "2024-04-11T00:00:00",
          "2024-04-12T00:00:00",
          "2024-04-15T00:00:00",
          "2024-04-16T00:00:00",
          "2024-04-17T00:00:00",
          "2024-04-18T00:00:00",
          "2024-04-19T00:00:00",
          "2024-04-22T00:00:00",
          "2024-04-23T00:00:00",
          "2024-04-24T00:00:00",
          "2024-04-25T00:00:00",
          "2024-04-26T00:00:00",
          "2024-04-29T00:00:00",
          "2024-04-30T00:00:00",
          "2024-05-01T00:00:00",
          "2024-05-02T00:00:00",
          "2024-05-03T00:00:00",
          "2024-05-06T00:00:00",
          "2024-05-07T00:00:00",
          "2024-05-08T00:00:00",
          "2024-05-09T00:00:00",
          "2024-05-10T00:00:00",
          "2024-05-13T00:00:00",
          "2024-05-14T00:00:00",
          "2024-05-15T00:00:00",
          "2024-05-16T00:00:00",
          "2024-05-17T00:00:00",
          "2024-05-20T00:00:00",
          "2024-05-21T00:00:00",
          "2024-05-22T00:00:00",
          "2024-05-23T00:00:00",
          "2024-05-24T00:00:00",
          "2024-05-28T00:00:00",
          "2024-05-29T00:00:00",
          "2024-05-30T00:00:00",
          "2024-05-31T00:00:00",
          "2024-06-03T00:00:00",
          "2024-06-04T00:00:00",
          "2024-06-05T00:00:00",
          "2024-06-06T00:00:00",
          "2024-06-07T00:00:00",
          "2024-06-10T00:00:00",
          "2024-06-11T00:00:00",
          "2024-06-12T00:00:00",
          "2024-06-13T00:00:00",
          "2024-06-14T00:00:00",
          "2024-06-17T00:00:00",
          "2024-06-18T00:00:00",
          "2024-06-20T00:00:00",
          "2024-06-21T00:00:00",
          "2024-06-24T00:00:00",
          "2024-06-25T00:00:00",
          "2024-06-26T00:00:00",
          "2024-06-27T00:00:00",
          "2024-06-28T00:00:00",
          "2024-07-01T00:00:00",
          "2024-07-02T00:00:00",
          "2024-07-03T00:00:00",
          "2024-07-05T00:00:00",
          "2024-07-08T00:00:00",
          "2024-07-09T00:00:00",
          "2024-07-10T00:00:00",
          "2024-07-11T00:00:00",
          "2024-07-12T00:00:00",
          "2024-07-15T00:00:00",
          "2024-07-16T00:00:00",
          "2024-07-17T00:00:00",
          "2024-07-18T00:00:00",
          "2024-07-19T00:00:00",
          "2024-07-22T00:00:00",
          "2024-07-23T00:00:00",
          "2024-07-24T00:00:00",
          "2024-07-25T00:00:00",
          "2024-07-26T00:00:00",
          "2024-07-29T00:00:00",
          "2024-07-30T00:00:00",
          "2024-07-31T00:00:00",
          "2024-08-01T00:00:00",
          "2024-08-02T00:00:00",
          "2024-08-05T00:00:00",
          "2024-08-06T00:00:00",
          "2024-08-07T00:00:00",
          "2024-08-08T00:00:00",
          "2024-08-09T00:00:00",
          "2024-08-12T00:00:00",
          "2024-08-13T00:00:00",
          "2024-08-14T00:00:00",
          "2024-08-15T00:00:00",
          "2024-08-16T00:00:00",
          "2024-08-19T00:00:00",
          "2024-08-20T00:00:00",
          "2024-08-21T00:00:00",
          "2024-08-22T00:00:00",
          "2024-08-23T00:00:00",
          "2024-08-26T00:00:00",
          "2024-08-27T00:00:00",
          "2024-08-28T00:00:00",
          "2024-08-29T00:00:00",
          "2024-08-30T00:00:00",
          "2024-09-03T00:00:00",
          "2024-09-04T00:00:00",
          "2024-09-05T00:00:00",
          "2024-09-06T00:00:00",
          "2024-09-09T00:00:00",
          "2024-09-10T00:00:00",
          "2024-09-11T00:00:00",
          "2024-09-12T00:00:00",
          "2024-09-13T00:00:00",
          "2024-09-16T00:00:00",
          "2024-09-17T00:00:00",
          "2024-09-18T00:00:00",
          "2024-09-19T00:00:00",
          "2024-09-20T00:00:00",
          "2024-09-23T00:00:00",
          "2024-09-24T00:00:00",
          "2024-09-25T00:00:00",
          "2024-09-26T00:00:00",
          "2024-09-27T00:00:00",
          "2024-09-30T00:00:00",
          "2024-10-01T00:00:00",
          "2024-10-02T00:00:00",
          "2024-10-03T00:00:00",
          "2024-10-04T00:00:00",
          "2024-10-07T00:00:00",
          "2024-10-08T00:00:00",
          "2024-10-09T00:00:00",
          "2024-10-10T00:00:00",
          "2024-10-11T00:00:00",
          "2024-10-14T00:00:00",
          "2024-10-15T00:00:00",
          "2024-10-16T00:00:00",
          "2024-10-17T00:00:00",
          "2024-10-18T00:00:00",
          "2024-10-21T00:00:00",
          "2024-10-22T00:00:00",
          "2024-10-23T00:00:00",
          "2024-10-24T00:00:00",
          "2024-10-25T00:00:00",
          "2024-10-28T00:00:00",
          "2024-10-29T00:00:00",
          "2024-10-30T00:00:00",
          "2024-10-31T00:00:00",
          "2024-11-01T00:00:00",
          "2024-11-04T00:00:00",
          "2024-11-05T00:00:00",
          "2024-11-06T00:00:00",
          "2024-11-07T00:00:00",
          "2024-11-08T00:00:00",
          "2024-11-11T00:00:00",
          "2024-11-12T00:00:00",
          "2024-11-13T00:00:00",
          "2024-11-14T00:00:00",
          "2024-11-15T00:00:00",
          "2024-11-18T00:00:00",
          "2024-11-19T00:00:00",
          "2024-11-20T00:00:00",
          "2024-11-21T00:00:00",
          "2024-11-22T00:00:00",
          "2024-11-25T00:00:00",
          "2024-11-26T00:00:00",
          "2024-11-27T00:00:00",
          "2024-11-29T00:00:00",
          "2024-12-02T00:00:00",
          "2024-12-03T00:00:00",
          "2024-12-04T00:00:00",
          "2024-12-05T00:00:00",
          "2024-12-06T00:00:00",
          "2024-12-09T00:00:00",
          "2024-12-10T00:00:00",
          "2024-12-11T00:00:00",
          "2024-12-12T00:00:00",
          "2024-12-13T00:00:00",
          "2024-12-16T00:00:00",
          "2024-12-17T00:00:00",
          "2024-12-18T00:00:00",
          "2024-12-19T00:00:00",
          "2024-12-20T00:00:00",
          "2024-12-23T00:00:00",
          "2024-12-24T00:00:00",
          "2024-12-26T00:00:00",
          "2024-12-27T00:00:00",
          "2024-12-30T00:00:00",
          "2024-12-31T00:00:00",
          "2025-01-02T00:00:00",
          "2025-01-03T00:00:00",
          "2025-01-06T00:00:00",
          "2025-01-07T00:00:00",
          "2025-01-08T00:00:00",
          "2025-01-10T00:00:00",
          "2025-01-13T00:00:00",
          "2025-01-14T00:00:00",
          "2025-01-15T00:00:00",
          "2025-01-16T00:00:00",
          "2025-01-17T00:00:00",
          "2025-01-21T00:00:00",
          "2025-01-22T00:00:00",
          "2025-01-23T00:00:00",
          "2025-01-24T00:00:00",
          "2025-01-27T00:00:00",
          "2025-01-28T00:00:00",
          "2025-01-29T00:00:00",
          "2025-01-30T00:00:00",
          "2025-01-31T00:00:00",
          "2025-02-03T00:00:00",
          "2025-02-04T00:00:00",
          "2025-02-05T00:00:00",
          "2025-02-06T00:00:00",
          "2025-02-07T00:00:00",
          "2025-02-10T00:00:00",
          "2025-02-11T00:00:00",
          "2025-02-12T00:00:00",
          "2025-02-13T00:00:00",
          "2025-02-14T00:00:00",
          "2025-02-18T00:00:00",
          "2025-02-19T00:00:00",
          "2025-02-20T00:00:00",
          "2025-02-21T00:00:00",
          "2025-02-24T00:00:00",
          "2025-02-25T00:00:00",
          "2025-02-26T00:00:00",
          "2025-02-27T00:00:00",
          "2025-02-28T00:00:00",
          "2025-03-03T00:00:00",
          "2025-03-04T00:00:00",
          "2025-03-05T00:00:00",
          "2025-03-06T00:00:00",
          "2025-03-07T00:00:00"
         ],
         "xaxis": "x",
         "y": {
          "bdata": "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",
          "dtype": "f8"
         },
         "yaxis": "y"
        },
        {
         "hovertemplate": "Symbol=ADSK<br>Date=%{x}<br>pct_change=%{y}<extra></extra>",
         "legendgroup": "ADSK",
         "line": {
          "color": "#EF553B",
          "dash": "solid",
          "width": 3
         },
         "marker": {
          "symbol": "circle"
         },
         "mode": "lines",
         "name": "ADSK",
         "showlegend": true,
         "type": "scattergl",
         "x": [
          "2024-03-08T00:00:00",
          "2024-03-11T00:00:00",
          "2024-03-12T00:00:00",
          "2024-03-13T00:00:00",
          "2024-03-14T00:00:00",
          "2024-03-15T00:00:00",
          "2024-03-18T00:00:00",
          "2024-03-19T00:00:00",
          "2024-03-20T00:00:00",
          "2024-03-21T00:00:00",
          "2024-03-22T00:00:00",
          "2024-03-25T00:00:00",
          "2024-03-26T00:00:00",
          "2024-03-27T00:00:00",
          "2024-03-28T00:00:00",
          "2024-04-01T00:00:00",
          "2024-04-02T00:00:00",
          "2024-04-03T00:00:00",
          "2024-04-04T00:00:00",
          "2024-04-05T00:00:00",
          "2024-04-08T00:00:00",
          "2024-04-09T00:00:00",
          "2024-04-10T00:00:00",
          "2024-04-11T00:00:00",
          "2024-04-12T00:00:00",
          "2024-04-15T00:00:00",
          "2024-04-16T00:00:00",
          "2024-04-17T00:00:00",
          "2024-04-18T00:00:00",
          "2024-04-19T00:00:00",
          "2024-04-22T00:00:00",
          "2024-04-23T00:00:00",
          "2024-04-24T00:00:00",
          "2024-04-25T00:00:00",
          "2024-04-26T00:00:00",
          "2024-04-29T00:00:00",
          "2024-04-30T00:00:00",
          "2024-05-01T00:00:00",
          "2024-05-02T00:00:00",
          "2024-05-03T00:00:00",
          "2024-05-06T00:00:00",
          "2024-05-07T00:00:00",
          "2024-05-08T00:00:00",
          "2024-05-09T00:00:00",
          "2024-05-10T00:00:00",
          "2024-05-13T00:00:00",
          "2024-05-14T00:00:00",
          "2024-05-15T00:00:00",
          "2024-05-16T00:00:00",
          "2024-05-17T00:00:00",
          "2024-05-20T00:00:00",
          "2024-05-21T00:00:00",
          "2024-05-22T00:00:00",
          "2024-05-23T00:00:00",
          "2024-05-24T00:00:00",
          "2024-05-28T00:00:00",
          "2024-05-29T00:00:00",
          "2024-05-30T00:00:00",
          "2024-05-31T00:00:00",
          "2024-06-03T00:00:00",
          "2024-06-04T00:00:00",
          "2024-06-05T00:00:00",
          "2024-06-06T00:00:00",
          "2024-06-07T00:00:00",
          "2024-06-10T00:00:00",
          "2024-06-11T00:00:00",
          "2024-06-12T00:00:00",
          "2024-06-13T00:00:00",
          "2024-06-14T00:00:00",
          "2024-06-17T00:00:00",
          "2024-06-18T00:00:00",
          "2024-06-20T00:00:00",
          "2024-06-21T00:00:00",
          "2024-06-24T00:00:00",
          "2024-06-25T00:00:00",
          "2024-06-26T00:00:00",
          "2024-06-27T00:00:00",
          "2024-06-28T00:00:00",
          "2024-07-01T00:00:00",
          "2024-07-02T00:00:00",
          "2024-07-03T00:00:00",
          "2024-07-05T00:00:00",
          "2024-07-08T00:00:00",
          "2024-07-09T00:00:00",
          "2024-07-10T00:00:00",
          "2024-07-11T00:00:00",
          "2024-07-12T00:00:00",
          "2024-07-15T00:00:00",
          "2024-07-16T00:00:00",
          "2024-07-17T00:00:00",
          "2024-07-18T00:00:00",
          "2024-07-19T00:00:00",
          "2024-07-22T00:00:00",
          "2024-07-23T00:00:00",
          "2024-07-24T00:00:00",
          "2024-07-25T00:00:00",
          "2024-07-26T00:00:00",
          "2024-07-29T00:00:00",
          "2024-07-30T00:00:00",
          "2024-07-31T00:00:00",
          "2024-08-01T00:00:00",
          "2024-08-02T00:00:00",
          "2024-08-05T00:00:00",
          "2024-08-06T00:00:00",
          "2024-08-07T00:00:00",
          "2024-08-08T00:00:00",
          "2024-08-09T00:00:00",
          "2024-08-12T00:00:00",
          "2024-08-13T00:00:00",
          "2024-08-14T00:00:00",
          "2024-08-15T00:00:00",
          "2024-08-16T00:00:00",
          "2024-08-19T00:00:00",
          "2024-08-20T00:00:00",
          "2024-08-21T00:00:00",
          "2024-08-22T00:00:00",
          "2024-08-23T00:00:00",
          "2024-08-26T00:00:00",
          "2024-08-27T00:00:00",
          "2024-08-28T00:00:00",
          "2024-08-29T00:00:00",
          "2024-08-30T00:00:00",
          "2024-09-03T00:00:00",
          "2024-09-04T00:00:00",
          "2024-09-05T00:00:00",
          "2024-09-06T00:00:00",
          "2024-09-09T00:00:00",
          "2024-09-10T00:00:00",
          "2024-09-11T00:00:00",
          "2024-09-12T00:00:00",
          "2024-09-13T00:00:00",
          "2024-09-16T00:00:00",
          "2024-09-17T00:00:00",
          "2024-09-18T00:00:00",
          "2024-09-19T00:00:00",
          "2024-09-20T00:00:00",
          "2024-09-23T00:00:00",
          "2024-09-24T00:00:00",
          "2024-09-25T00:00:00",
          "2024-09-26T00:00:00",
          "2024-09-27T00:00:00",
          "2024-09-30T00:00:00",
          "2024-10-01T00:00:00",
          "2024-10-02T00:00:00",
          "2024-10-03T00:00:00",
          "2024-10-04T00:00:00",
          "2024-10-07T00:00:00",
          "2024-10-08T00:00:00",
          "2024-10-09T00:00:00",
          "2024-10-10T00:00:00",
          "2024-10-11T00:00:00",
          "2024-10-14T00:00:00",
          "2024-10-15T00:00:00",
          "2024-10-16T00:00:00",
          "2024-10-17T00:00:00",
          "2024-10-18T00:00:00",
          "2024-10-21T00:00:00",
          "2024-10-22T00:00:00",
          "2024-10-23T00:00:00",
          "2024-10-24T00:00:00",
          "2024-10-25T00:00:00",
          "2024-10-28T00:00:00",
          "2024-10-29T00:00:00",
          "2024-10-30T00:00:00",
          "2024-10-31T00:00:00",
          "2024-11-01T00:00:00",
          "2024-11-04T00:00:00",
          "2024-11-05T00:00:00",
          "2024-11-06T00:00:00",
          "2024-11-07T00:00:00",
          "2024-11-08T00:00:00",
          "2024-11-11T00:00:00",
          "2024-11-12T00:00:00",
          "2024-11-13T00:00:00",
          "2024-11-14T00:00:00",
          "2024-11-15T00:00:00",
          "2024-11-18T00:00:00",
          "2024-11-19T00:00:00",
          "2024-11-20T00:00:00",
          "2024-11-21T00:00:00",
          "2024-11-22T00:00:00",
          "2024-11-25T00:00:00",
          "2024-11-26T00:00:00",
          "2024-11-27T00:00:00",
          "2024-11-29T00:00:00",
          "2024-12-02T00:00:00",
          "2024-12-03T00:00:00",
          "2024-12-04T00:00:00",
          "2024-12-05T00:00:00",
          "2024-12-06T00:00:00",
          "2024-12-09T00:00:00",
          "2024-12-10T00:00:00",
          "2024-12-11T00:00:00",
          "2024-12-12T00:00:00",
          "2024-12-13T00:00:00",
          "2024-12-16T00:00:00",
          "2024-12-17T00:00:00",
          "2024-12-18T00:00:00",
          "2024-12-19T00:00:00",
          "2024-12-20T00:00:00",
          "2024-12-23T00:00:00",
          "2024-12-24T00:00:00",
          "2024-12-26T00:00:00",
          "2024-12-27T00:00:00",
          "2024-12-30T00:00:00",
          "2024-12-31T00:00:00",
          "2025-01-02T00:00:00",
          "2025-01-03T00:00:00",
          "2025-01-06T00:00:00",
          "2025-01-07T00:00:00",
          "2025-01-08T00:00:00",
          "2025-01-10T00:00:00",
          "2025-01-13T00:00:00",
          "2025-01-14T00:00:00",
          "2025-01-15T00:00:00",
          "2025-01-16T00:00:00",
          "2025-01-17T00:00:00",
          "2025-01-21T00:00:00",
          "2025-01-22T00:00:00",
          "2025-01-23T00:00:00",
          "2025-01-24T00:00:00",
          "2025-01-27T00:00:00",
          "2025-01-28T00:00:00",
          "2025-01-29T00:00:00",
          "2025-01-30T00:00:00",
          "2025-01-31T00:00:00",
          "2025-02-03T00:00:00",
          "2025-02-04T00:00:00",
          "2025-02-05T00:00:00",
          "2025-02-06T00:00:00",
          "2025-02-07T00:00:00",
          "2025-02-10T00:00:00",
          "2025-02-11T00:00:00",
          "2025-02-12T00:00:00",
          "2025-02-13T00:00:00",
          "2025-02-14T00:00:00",
          "2025-02-18T00:00:00",
          "2025-02-19T00:00:00",
          "2025-02-20T00:00:00",
          "2025-02-21T00:00:00",
          "2025-02-24T00:00:00",
          "2025-02-25T00:00:00",
          "2025-02-26T00:00:00",
          "2025-02-27T00:00:00",
          "2025-02-28T00:00:00",
          "2025-03-03T00:00:00",
          "2025-03-04T00:00:00",
          "2025-03-05T00:00:00",
          "2025-03-06T00:00:00",
          "2025-03-07T00:00:00"
         ],
         "xaxis": "x",
         "y": {
          "bdata": "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",
          "dtype": "f8"
         },
         "yaxis": "y"
        },
        {
         "hovertemplate": "Symbol=ANSS<br>Date=%{x}<br>pct_change=%{y}<extra></extra>",
         "legendgroup": "ANSS",
         "line": {
          "color": "#00cc96",
          "dash": "solid",
          "width": 3
         },
         "marker": {
          "symbol": "circle"
         },
         "mode": "lines",
         "name": "ANSS",
         "showlegend": true,
         "type": "scattergl",
         "x": [
          "2024-03-08T00:00:00",
          "2024-03-11T00:00:00",
          "2024-03-12T00:00:00",
          "2024-03-13T00:00:00",
          "2024-03-14T00:00:00",
          "2024-03-15T00:00:00",
          "2024-03-18T00:00:00",
          "2024-03-19T00:00:00",
          "2024-03-20T00:00:00",
          "2024-03-21T00:00:00",
          "2024-03-22T00:00:00",
          "2024-03-25T00:00:00",
          "2024-03-26T00:00:00",
          "2024-03-27T00:00:00",
          "2024-03-28T00:00:00",
          "2024-04-01T00:00:00",
          "2024-04-02T00:00:00",
          "2024-04-03T00:00:00",
          "2024-04-04T00:00:00",
          "2024-04-05T00:00:00",
          "2024-04-08T00:00:00",
          "2024-04-09T00:00:00",
          "2024-04-10T00:00:00",
          "2024-04-11T00:00:00",
          "2024-04-12T00:00:00",
          "2024-04-15T00:00:00",
          "2024-04-16T00:00:00",
          "2024-04-17T00:00:00",
          "2024-04-18T00:00:00",
          "2024-04-19T00:00:00",
          "2024-04-22T00:00:00",
          "2024-04-23T00:00:00",
          "2024-04-24T00:00:00",
          "2024-04-25T00:00:00",
          "2024-04-26T00:00:00",
          "2024-04-29T00:00:00",
          "2024-04-30T00:00:00",
          "2024-05-01T00:00:00",
          "2024-05-02T00:00:00",
          "2024-05-03T00:00:00",
          "2024-05-06T00:00:00",
          "2024-05-07T00:00:00",
          "2024-05-08T00:00:00",
          "2024-05-09T00:00:00",
          "2024-05-10T00:00:00",
          "2024-05-13T00:00:00",
          "2024-05-14T00:00:00",
          "2024-05-15T00:00:00",
          "2024-05-16T00:00:00",
          "2024-05-17T00:00:00",
          "2024-05-20T00:00:00",
          "2024-05-21T00:00:00",
          "2024-05-22T00:00:00",
          "2024-05-23T00:00:00",
          "2024-05-24T00:00:00",
          "2024-05-28T00:00:00",
          "2024-05-29T00:00:00",
          "2024-05-30T00:00:00",
          "2024-05-31T00:00:00",
          "2024-06-03T00:00:00",
          "2024-06-04T00:00:00",
          "2024-06-05T00:00:00",
          "2024-06-06T00:00:00",
          "2024-06-07T00:00:00",
          "2024-06-10T00:00:00",
          "2024-06-11T00:00:00",
          "2024-06-12T00:00:00",
          "2024-06-13T00:00:00",
          "2024-06-14T00:00:00",
          "2024-06-17T00:00:00",
          "2024-06-18T00:00:00",
          "2024-06-20T00:00:00",
          "2024-06-21T00:00:00",
          "2024-06-24T00:00:00",
          "2024-06-25T00:00:00",
          "2024-06-26T00:00:00",
          "2024-06-27T00:00:00",
          "2024-06-28T00:00:00",
          "2024-07-01T00:00:00",
          "2024-07-02T00:00:00",
          "2024-07-03T00:00:00",
          "2024-07-05T00:00:00",
          "2024-07-08T00:00:00",
          "2024-07-09T00:00:00",
          "2024-07-10T00:00:00",
          "2024-07-11T00:00:00",
          "2024-07-12T00:00:00",
          "2024-07-15T00:00:00",
          "2024-07-16T00:00:00",
          "2024-07-17T00:00:00",
          "2024-07-18T00:00:00",
          "2024-07-19T00:00:00",
          "2024-07-22T00:00:00",
          "2024-07-23T00:00:00",
          "2024-07-24T00:00:00",
          "2024-07-25T00:00:00",
          "2024-07-26T00:00:00",
          "2024-07-29T00:00:00",
          "2024-07-30T00:00:00",
          "2024-07-31T00:00:00",
          "2024-08-01T00:00:00",
          "2024-08-02T00:00:00",
          "2024-08-05T00:00:00",
          "2024-08-06T00:00:00",
          "2024-08-07T00:00:00",
          "2024-08-08T00:00:00",
          "2024-08-09T00:00:00",
          "2024-08-12T00:00:00",
          "2024-08-13T00:00:00",
          "2024-08-14T00:00:00",
          "2024-08-15T00:00:00",
          "2024-08-16T00:00:00",
          "2024-08-19T00:00:00",
          "2024-08-20T00:00:00",
          "2024-08-21T00:00:00",
          "2024-08-22T00:00:00",
          "2024-08-23T00:00:00",
          "2024-08-26T00:00:00",
          "2024-08-27T00:00:00",
          "2024-08-28T00:00:00",
          "2024-08-29T00:00:00",
          "2024-08-30T00:00:00",
          "2024-09-03T00:00:00",
          "2024-09-04T00:00:00",
          "2024-09-05T00:00:00",
          "2024-09-06T00:00:00",
          "2024-09-09T00:00:00",
          "2024-09-10T00:00:00",
          "2024-09-11T00:00:00",
          "2024-09-12T00:00:00",
          "2024-09-13T00:00:00",
          "2024-09-16T00:00:00",
          "2024-09-17T00:00:00",
          "2024-09-18T00:00:00",
          "2024-09-19T00:00:00",
          "2024-09-20T00:00:00",
          "2024-09-23T00:00:00",
          "2024-09-24T00:00:00",
          "2024-09-25T00:00:00",
          "2024-09-26T00:00:00",
          "2024-09-27T00:00:00",
          "2024-09-30T00:00:00",
          "2024-10-01T00:00:00",
          "2024-10-02T00:00:00",
          "2024-10-03T00:00:00",
          "2024-10-04T00:00:00",
          "2024-10-07T00:00:00",
          "2024-10-08T00:00:00",
          "2024-10-09T00:00:00",
          "2024-10-10T00:00:00",
          "2024-10-11T00:00:00",
          "2024-10-14T00:00:00",
          "2024-10-15T00:00:00",
          "2024-10-16T00:00:00",
          "2024-10-17T00:00:00",
          "2024-10-18T00:00:00",
          "2024-10-21T00:00:00",
          "2024-10-22T00:00:00",
          "2024-10-23T00:00:00",
          "2024-10-24T00:00:00",
          "2024-10-25T00:00:00",
          "2024-10-28T00:00:00",
          "2024-10-29T00:00:00",
          "2024-10-30T00:00:00",
          "2024-10-31T00:00:00",
          "2024-11-01T00:00:00",
          "2024-11-04T00:00:00",
          "2024-11-05T00:00:00",
          "2024-11-06T00:00:00",
          "2024-11-07T00:00:00",
          "2024-11-08T00:00:00",
          "2024-11-11T00:00:00",
          "2024-11-12T00:00:00",
          "2024-11-13T00:00:00",
          "2024-11-14T00:00:00",
          "2024-11-15T00:00:00",
          "2024-11-18T00:00:00",
          "2024-11-19T00:00:00",
          "2024-11-20T00:00:00",
          "2024-11-21T00:00:00",
          "2024-11-22T00:00:00",
          "2024-11-25T00:00:00",
          "2024-11-26T00:00:00",
          "2024-11-27T00:00:00",
          "2024-11-29T00:00:00",
          "2024-12-02T00:00:00",
          "2024-12-03T00:00:00",
          "2024-12-04T00:00:00",
          "2024-12-05T00:00:00",
          "2024-12-06T00:00:00",
          "2024-12-09T00:00:00",
          "2024-12-10T00:00:00",
          "2024-12-11T00:00:00",
          "2024-12-12T00:00:00",
          "2024-12-13T00:00:00",
          "2024-12-16T00:00:00",
          "2024-12-17T00:00:00",
          "2024-12-18T00:00:00",
          "2024-12-19T00:00:00",
          "2024-12-20T00:00:00",
          "2024-12-23T00:00:00",
          "2024-12-24T00:00:00",
          "2024-12-26T00:00:00",
          "2024-12-27T00:00:00",
          "2024-12-30T00:00:00",
          "2024-12-31T00:00:00",
          "2025-01-02T00:00:00",
          "2025-01-03T00:00:00",
          "2025-01-06T00:00:00",
          "2025-01-07T00:00:00",
          "2025-01-08T00:00:00",
          "2025-01-10T00:00:00",
          "2025-01-13T00:00:00",
          "2025-01-14T00:00:00",
          "2025-01-15T00:00:00",
          "2025-01-16T00:00:00",
          "2025-01-17T00:00:00",
          "2025-01-21T00:00:00",
          "2025-01-22T00:00:00",
          "2025-01-23T00:00:00",
          "2025-01-24T00:00:00",
          "2025-01-27T00:00:00",
          "2025-01-28T00:00:00",
          "2025-01-29T00:00:00",
          "2025-01-30T00:00:00",
          "2025-01-31T00:00:00",
          "2025-02-03T00:00:00",
          "2025-02-04T00:00:00",
          "2025-02-05T00:00:00",
          "2025-02-06T00:00:00",
          "2025-02-07T00:00:00",
          "2025-02-10T00:00:00",
          "2025-02-11T00:00:00",
          "2025-02-12T00:00:00",
          "2025-02-13T00:00:00",
          "2025-02-14T00:00:00",
          "2025-02-18T00:00:00",
          "2025-02-19T00:00:00",
          "2025-02-20T00:00:00",
          "2025-02-21T00:00:00",
          "2025-02-24T00:00:00",
          "2025-02-25T00:00:00",
          "2025-02-26T00:00:00",
          "2025-02-27T00:00:00",
          "2025-02-28T00:00:00",
          "2025-03-03T00:00:00",
          "2025-03-04T00:00:00",
          "2025-03-05T00:00:00",
          "2025-03-06T00:00:00",
          "2025-03-07T00:00:00"
         ],
         "xaxis": "x",
         "y": {
          "bdata": "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",
          "dtype": "f8"
         },
         "yaxis": "y"
        },
        {
         "hovertemplate": "Symbol=CDNS<br>Date=%{x}<br>pct_change=%{y}<extra></extra>",
         "legendgroup": "CDNS",
         "line": {
          "color": "#ab63fa",
          "dash": "solid",
          "width": 3
         },
         "marker": {
          "symbol": "circle"
         },
         "mode": "lines",
         "name": "CDNS",
         "showlegend": true,
         "type": "scattergl",
         "x": [
          "2024-03-08T00:00:00",
          "2024-03-11T00:00:00",
          "2024-03-12T00:00:00",
          "2024-03-13T00:00:00",
          "2024-03-14T00:00:00",
          "2024-03-15T00:00:00",
          "2024-03-18T00:00:00",
          "2024-03-19T00:00:00",
          "2024-03-20T00:00:00",
          "2024-03-21T00:00:00",
          "2024-03-22T00:00:00",
          "2024-03-25T00:00:00",
          "2024-03-26T00:00:00",
          "2024-03-27T00:00:00",
          "2024-03-28T00:00:00",
          "2024-04-01T00:00:00",
          "2024-04-02T00:00:00",
          "2024-04-03T00:00:00",
          "2024-04-04T00:00:00",
          "2024-04-05T00:00:00",
          "2024-04-08T00:00:00",
          "2024-04-09T00:00:00",
          "2024-04-10T00:00:00",
          "2024-04-11T00:00:00",
          "2024-04-12T00:00:00",
          "2024-04-15T00:00:00",
          "2024-04-16T00:00:00",
          "2024-04-17T00:00:00",
          "2024-04-18T00:00:00",
          "2024-04-19T00:00:00",
          "2024-04-22T00:00:00",
          "2024-04-23T00:00:00",
          "2024-04-24T00:00:00",
          "2024-04-25T00:00:00",
          "2024-04-26T00:00:00",
          "2024-04-29T00:00:00",
          "2024-04-30T00:00:00",
          "2024-05-01T00:00:00",
          "2024-05-02T00:00:00",
          "2024-05-03T00:00:00",
          "2024-05-06T00:00:00",
          "2024-05-07T00:00:00",
          "2024-05-08T00:00:00",
          "2024-05-09T00:00:00",
          "2024-05-10T00:00:00",
          "2024-05-13T00:00:00",
          "2024-05-14T00:00:00",
          "2024-05-15T00:00:00",
          "2024-05-16T00:00:00",
          "2024-05-17T00:00:00",
          "2024-05-20T00:00:00",
          "2024-05-21T00:00:00",
          "2024-05-22T00:00:00",
          "2024-05-23T00:00:00",
          "2024-05-24T00:00:00",
          "2024-05-28T00:00:00",
          "2024-05-29T00:00:00",
          "2024-05-30T00:00:00",
          "2024-05-31T00:00:00",
          "2024-06-03T00:00:00",
          "2024-06-04T00:00:00",
          "2024-06-05T00:00:00",
          "2024-06-06T00:00:00",
          "2024-06-07T00:00:00",
          "2024-06-10T00:00:00",
          "2024-06-11T00:00:00",
          "2024-06-12T00:00:00",
          "2024-06-13T00:00:00",
          "2024-06-14T00:00:00",
          "2024-06-17T00:00:00",
          "2024-06-18T00:00:00",
          "2024-06-20T00:00:00",
          "2024-06-21T00:00:00",
          "2024-06-24T00:00:00",
          "2024-06-25T00:00:00",
          "2024-06-26T00:00:00",
          "2024-06-27T00:00:00",
          "2024-06-28T00:00:00",
          "2024-07-01T00:00:00",
          "2024-07-02T00:00:00",
          "2024-07-03T00:00:00",
          "2024-07-05T00:00:00",
          "2024-07-08T00:00:00",
          "2024-07-09T00:00:00",
          "2024-07-10T00:00:00",
          "2024-07-11T00:00:00",
          "2024-07-12T00:00:00",
          "2024-07-15T00:00:00",
          "2024-07-16T00:00:00",
          "2024-07-17T00:00:00",
          "2024-07-18T00:00:00",
          "2024-07-19T00:00:00",
          "2024-07-22T00:00:00",
          "2024-07-23T00:00:00",
          "2024-07-24T00:00:00",
          "2024-07-25T00:00:00",
          "2024-07-26T00:00:00",
          "2024-07-29T00:00:00",
          "2024-07-30T00:00:00",
          "2024-07-31T00:00:00",
          "2024-08-01T00:00:00",
          "2024-08-02T00:00:00",
          "2024-08-05T00:00:00",
          "2024-08-06T00:00:00",
          "2024-08-07T00:00:00",
          "2024-08-08T00:00:00",
          "2024-08-09T00:00:00",
          "2024-08-12T00:00:00",
          "2024-08-13T00:00:00",
          "2024-08-14T00:00:00",
          "2024-08-15T00:00:00",
          "2024-08-16T00:00:00",
          "2024-08-19T00:00:00",
          "2024-08-20T00:00:00",
          "2024-08-21T00:00:00",
          "2024-08-22T00:00:00",
          "2024-08-23T00:00:00",
          "2024-08-26T00:00:00",
          "2024-08-27T00:00:00",
          "2024-08-28T00:00:00",
          "2024-08-29T00:00:00",
          "2024-08-30T00:00:00",
          "2024-09-03T00:00:00",
          "2024-09-04T00:00:00",
          "2024-09-05T00:00:00",
          "2024-09-06T00:00:00",
          "2024-09-09T00:00:00",
          "2024-09-10T00:00:00",
          "2024-09-11T00:00:00",
          "2024-09-12T00:00:00",
          "2024-09-13T00:00:00",
          "2024-09-16T00:00:00",
          "2024-09-17T00:00:00",
          "2024-09-18T00:00:00",
          "2024-09-19T00:00:00",
          "2024-09-20T00:00:00",
          "2024-09-23T00:00:00",
          "2024-09-24T00:00:00",
          "2024-09-25T00:00:00",
          "2024-09-26T00:00:00",
          "2024-09-27T00:00:00",
          "2024-09-30T00:00:00",
          "2024-10-01T00:00:00",
          "2024-10-02T00:00:00",
          "2024-10-03T00:00:00",
          "2024-10-04T00:00:00",
          "2024-10-07T00:00:00",
          "2024-10-08T00:00:00",
          "2024-10-09T00:00:00",
          "2024-10-10T00:00:00",
          "2024-10-11T00:00:00",
          "2024-10-14T00:00:00",
          "2024-10-15T00:00:00",
          "2024-10-16T00:00:00",
          "2024-10-17T00:00:00",
          "2024-10-18T00:00:00",
          "2024-10-21T00:00:00",
          "2024-10-22T00:00:00",
          "2024-10-23T00:00:00",
          "2024-10-24T00:00:00",
          "2024-10-25T00:00:00",
          "2024-10-28T00:00:00",
          "2024-10-29T00:00:00",
          "2024-10-30T00:00:00",
          "2024-10-31T00:00:00",
          "2024-11-01T00:00:00",
          "2024-11-04T00:00:00",
          "2024-11-05T00:00:00",
          "2024-11-06T00:00:00",
          "2024-11-07T00:00:00",
          "2024-11-08T00:00:00",
          "2024-11-11T00:00:00",
          "2024-11-12T00:00:00",
          "2024-11-13T00:00:00",
          "2024-11-14T00:00:00",
          "2024-11-15T00:00:00",
          "2024-11-18T00:00:00",
          "2024-11-19T00:00:00",
          "2024-11-20T00:00:00",
          "2024-11-21T00:00:00",
          "2024-11-22T00:00:00",
          "2024-11-25T00:00:00",
          "2024-11-26T00:00:00",
          "2024-11-27T00:00:00",
          "2024-11-29T00:00:00",
          "2024-12-02T00:00:00",
          "2024-12-03T00:00:00",
          "2024-12-04T00:00:00",
          "2024-12-05T00:00:00",
          "2024-12-06T00:00:00",
          "2024-12-09T00:00:00",
          "2024-12-10T00:00:00",
          "2024-12-11T00:00:00",
          "2024-12-12T00:00:00",
          "2024-12-13T00:00:00",
          "2024-12-16T00:00:00",
          "2024-12-17T00:00:00",
          "2024-12-18T00:00:00",
          "2024-12-19T00:00:00",
          "2024-12-20T00:00:00",
          "2024-12-23T00:00:00",
          "2024-12-24T00:00:00",
          "2024-12-26T00:00:00",
          "2024-12-27T00:00:00",
          "2024-12-30T00:00:00",
          "2024-12-31T00:00:00",
          "2025-01-02T00:00:00",
          "2025-01-03T00:00:00",
          "2025-01-06T00:00:00",
          "2025-01-07T00:00:00",
          "2025-01-08T00:00:00",
          "2025-01-10T00:00:00",
          "2025-01-13T00:00:00",
          "2025-01-14T00:00:00",
          "2025-01-15T00:00:00",
          "2025-01-16T00:00:00",
          "2025-01-17T00:00:00",
          "2025-01-21T00:00:00",
          "2025-01-22T00:00:00",
          "2025-01-23T00:00:00",
          "2025-01-24T00:00:00",
          "2025-01-27T00:00:00",
          "2025-01-28T00:00:00",
          "2025-01-29T00:00:00",
          "2025-01-30T00:00:00",
          "2025-01-31T00:00:00",
          "2025-02-03T00:00:00",
          "2025-02-04T00:00:00",
          "2025-02-05T00:00:00",
          "2025-02-06T00:00:00",
          "2025-02-07T00:00:00",
          "2025-02-10T00:00:00",
          "2025-02-11T00:00:00",
          "2025-02-12T00:00:00",
          "2025-02-13T00:00:00",
          "2025-02-14T00:00:00",
          "2025-02-18T00:00:00",
          "2025-02-19T00:00:00",
          "2025-02-20T00:00:00",
          "2025-02-21T00:00:00",
          "2025-02-24T00:00:00",
          "2025-02-25T00:00:00",
          "2025-02-26T00:00:00",
          "2025-02-27T00:00:00",
          "2025-02-28T00:00:00",
          "2025-03-03T00:00:00",
          "2025-03-04T00:00:00",
          "2025-03-05T00:00:00",
          "2025-03-06T00:00:00",
          "2025-03-07T00:00:00"
         ],
         "xaxis": "x",
         "y": {
          "bdata": "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",
          "dtype": "f8"
         },
         "yaxis": "y"
        },
        {
         "hovertemplate": "Symbol=CRM<br>Date=%{x}<br>pct_change=%{y}<extra></extra>",
         "legendgroup": "CRM",
         "line": {
          "color": "#FFA15A",
          "dash": "solid",
          "width": 3
         },
         "marker": {
          "symbol": "circle"
         },
         "mode": "lines",
         "name": "CRM",
         "showlegend": true,
         "type": "scattergl",
         "x": [
          "2024-03-08T00:00:00",
          "2024-03-11T00:00:00",
          "2024-03-12T00:00:00",
          "2024-03-13T00:00:00",
          "2024-03-14T00:00:00",
          "2024-03-15T00:00:00",
          "2024-03-18T00:00:00",
          "2024-03-19T00:00:00",
          "2024-03-20T00:00:00",
          "2024-03-21T00:00:00",
          "2024-03-22T00:00:00",
          "2024-03-25T00:00:00",
          "2024-03-26T00:00:00",
          "2024-03-27T00:00:00",
          "2024-03-28T00:00:00",
          "2024-04-01T00:00:00",
          "2024-04-02T00:00:00",
          "2024-04-03T00:00:00",
          "2024-04-04T00:00:00",
          "2024-04-05T00:00:00",
          "2024-04-08T00:00:00",
          "2024-04-09T00:00:00",
          "2024-04-10T00:00:00",
          "2024-04-11T00:00:00",
          "2024-04-12T00:00:00",
          "2024-04-15T00:00:00",
          "2024-04-16T00:00:00",
          "2024-04-17T00:00:00",
          "2024-04-18T00:00:00",
          "2024-04-19T00:00:00",
          "2024-04-22T00:00:00",
          "2024-04-23T00:00:00",
          "2024-04-24T00:00:00",
          "2024-04-25T00:00:00",
          "2024-04-26T00:00:00",
          "2024-04-29T00:00:00",
          "2024-04-30T00:00:00",
          "2024-05-01T00:00:00",
          "2024-05-02T00:00:00",
          "2024-05-03T00:00:00",
          "2024-05-06T00:00:00",
          "2024-05-07T00:00:00",
          "2024-05-08T00:00:00",
          "2024-05-09T00:00:00",
          "2024-05-10T00:00:00",
          "2024-05-13T00:00:00",
          "2024-05-14T00:00:00",
          "2024-05-15T00:00:00",
          "2024-05-16T00:00:00",
          "2024-05-17T00:00:00",
          "2024-05-20T00:00:00",
          "2024-05-21T00:00:00",
          "2024-05-22T00:00:00",
          "2024-05-23T00:00:00",
          "2024-05-24T00:00:00",
          "2024-05-28T00:00:00",
          "2024-05-29T00:00:00",
          "2024-05-30T00:00:00",
          "2024-05-31T00:00:00",
          "2024-06-03T00:00:00",
          "2024-06-04T00:00:00",
          "2024-06-05T00:00:00",
          "2024-06-06T00:00:00",
          "2024-06-07T00:00:00",
          "2024-06-10T00:00:00",
          "2024-06-11T00:00:00",
          "2024-06-12T00:00:00",
          "2024-06-13T00:00:00",
          "2024-06-14T00:00:00",
          "2024-06-17T00:00:00",
          "2024-06-18T00:00:00",
          "2024-06-20T00:00:00",
          "2024-06-21T00:00:00",
          "2024-06-24T00:00:00",
          "2024-06-25T00:00:00",
          "2024-06-26T00:00:00",
          "2024-06-27T00:00:00",
          "2024-06-28T00:00:00",
          "2024-07-01T00:00:00",
          "2024-07-02T00:00:00",
          "2024-07-03T00:00:00",
          "2024-07-05T00:00:00",
          "2024-07-08T00:00:00",
          "2024-07-09T00:00:00",
          "2024-07-10T00:00:00",
          "2024-07-11T00:00:00",
          "2024-07-12T00:00:00",
          "2024-07-15T00:00:00",
          "2024-07-16T00:00:00",
          "2024-07-17T00:00:00",
          "2024-07-18T00:00:00",
          "2024-07-19T00:00:00",
          "2024-07-22T00:00:00",
          "2024-07-23T00:00:00",
          "2024-07-24T00:00:00",
          "2024-07-25T00:00:00",
          "2024-07-26T00:00:00",
          "2024-07-29T00:00:00",
          "2024-07-30T00:00:00",
          "2024-07-31T00:00:00",
          "2024-08-01T00:00:00",
          "2024-08-02T00:00:00",
          "2024-08-05T00:00:00",
          "2024-08-06T00:00:00",
          "2024-08-07T00:00:00",
          "2024-08-08T00:00:00",
          "2024-08-09T00:00:00",
          "2024-08-12T00:00:00",
          "2024-08-13T00:00:00",
          "2024-08-14T00:00:00",
          "2024-08-15T00:00:00",
          "2024-08-16T00:00:00",
          "2024-08-19T00:00:00",
          "2024-08-20T00:00:00",
          "2024-08-21T00:00:00",
          "2024-08-22T00:00:00",
          "2024-08-23T00:00:00",
          "2024-08-26T00:00:00",
          "2024-08-27T00:00:00",
          "2024-08-28T00:00:00",
          "2024-08-29T00:00:00",
          "2024-08-30T00:00:00",
          "2024-09-03T00:00:00",
          "2024-09-04T00:00:00",
          "2024-09-05T00:00:00",
          "2024-09-06T00:00:00",
          "2024-09-09T00:00:00",
          "2024-09-10T00:00:00",
          "2024-09-11T00:00:00",
          "2024-09-12T00:00:00",
          "2024-09-13T00:00:00",
          "2024-09-16T00:00:00",
          "2024-09-17T00:00:00",
          "2024-09-18T00:00:00",
          "2024-09-19T00:00:00",
          "2024-09-20T00:00:00",
          "2024-09-23T00:00:00",
          "2024-09-24T00:00:00",
          "2024-09-25T00:00:00",
          "2024-09-26T00:00:00",
          "2024-09-27T00:00:00",
          "2024-09-30T00:00:00",
          "2024-10-01T00:00:00",
          "2024-10-02T00:00:00",
          "2024-10-03T00:00:00",
          "2024-10-04T00:00:00",
          "2024-10-07T00:00:00",
          "2024-10-08T00:00:00",
          "2024-10-09T00:00:00",
          "2024-10-10T00:00:00",
          "2024-10-11T00:00:00",
          "2024-10-14T00:00:00",
          "2024-10-15T00:00:00",
          "2024-10-16T00:00:00",
          "2024-10-17T00:00:00",
          "2024-10-18T00:00:00",
          "2024-10-21T00:00:00",
          "2024-10-22T00:00:00",
          "2024-10-23T00:00:00",
          "2024-10-24T00:00:00",
          "2024-10-25T00:00:00",
          "2024-10-28T00:00:00",
          "2024-10-29T00:00:00",
          "2024-10-30T00:00:00",
          "2024-10-31T00:00:00",
          "2024-11-01T00:00:00",
          "2024-11-04T00:00:00",
          "2024-11-05T00:00:00",
          "2024-11-06T00:00:00",
          "2024-11-07T00:00:00",
          "2024-11-08T00:00:00",
          "2024-11-11T00:00:00",
          "2024-11-12T00:00:00",
          "2024-11-13T00:00:00",
          "2024-11-14T00:00:00",
          "2024-11-15T00:00:00",
          "2024-11-18T00:00:00",
          "2024-11-19T00:00:00",
          "2024-11-20T00:00:00",
          "2024-11-21T00:00:00",
          "2024-11-22T00:00:00",
          "2024-11-25T00:00:00",
          "2024-11-26T00:00:00",
          "2024-11-27T00:00:00",
          "2024-11-29T00:00:00",
          "2024-12-02T00:00:00",
          "2024-12-03T00:00:00",
          "2024-12-04T00:00:00",
          "2024-12-05T00:00:00",
          "2024-12-06T00:00:00",
          "2024-12-09T00:00:00",
          "2024-12-10T00:00:00",
          "2024-12-11T00:00:00",
          "2024-12-12T00:00:00",
          "2024-12-13T00:00:00",
          "2024-12-16T00:00:00",
          "2024-12-17T00:00:00",
          "2024-12-18T00:00:00",
          "2024-12-19T00:00:00",
          "2024-12-20T00:00:00",
          "2024-12-23T00:00:00",
          "2024-12-24T00:00:00",
          "2024-12-26T00:00:00",
          "2024-12-27T00:00:00",
          "2024-12-30T00:00:00",
          "2024-12-31T00:00:00",
          "2025-01-02T00:00:00",
          "2025-01-03T00:00:00",
          "2025-01-06T00:00:00",
          "2025-01-07T00:00:00",
          "2025-01-08T00:00:00",
          "2025-01-10T00:00:00",
          "2025-01-13T00:00:00",
          "2025-01-14T00:00:00",
          "2025-01-15T00:00:00",
          "2025-01-16T00:00:00",
          "2025-01-17T00:00:00",
          "2025-01-21T00:00:00",
          "2025-01-22T00:00:00",
          "2025-01-23T00:00:00",
          "2025-01-24T00:00:00",
          "2025-01-27T00:00:00",
          "2025-01-28T00:00:00",
          "2025-01-29T00:00:00",
          "2025-01-30T00:00:00",
          "2025-01-31T00:00:00",
          "2025-02-03T00:00:00",
          "2025-02-04T00:00:00",
          "2025-02-05T00:00:00",
          "2025-02-06T00:00:00",
          "2025-02-07T00:00:00",
          "2025-02-10T00:00:00",
          "2025-02-11T00:00:00",
          "2025-02-12T00:00:00",
          "2025-02-13T00:00:00",
          "2025-02-14T00:00:00",
          "2025-02-18T00:00:00",
          "2025-02-19T00:00:00",
          "2025-02-20T00:00:00",
          "2025-02-21T00:00:00",
          "2025-02-24T00:00:00",
          "2025-02-25T00:00:00",
          "2025-02-26T00:00:00",
          "2025-02-27T00:00:00",
          "2025-02-28T00:00:00",
          "2025-03-03T00:00:00",
          "2025-03-04T00:00:00",
          "2025-03-05T00:00:00",
          "2025-03-06T00:00:00",
          "2025-03-07T00:00:00"
         ],
         "xaxis": "x",
         "y": {
          "bdata": "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",
          "dtype": "f8"
         },
         "yaxis": "y"
        },
        {
         "hovertemplate": "Symbol=FICO<br>Date=%{x}<br>pct_change=%{y}<extra></extra>",
         "legendgroup": "FICO",
         "line": {
          "color": "#19d3f3",
          "dash": "solid",
          "width": 3
         },
         "marker": {
          "symbol": "circle"
         },
         "mode": "lines",
         "name": "FICO",
         "showlegend": true,
         "type": "scattergl",
         "x": [
          "2024-03-08T00:00:00",
          "2024-03-11T00:00:00",
          "2024-03-12T00:00:00",
          "2024-03-13T00:00:00",
          "2024-03-14T00:00:00",
          "2024-03-15T00:00:00",
          "2024-03-18T00:00:00",
          "2024-03-19T00:00:00",
          "2024-03-20T00:00:00",
          "2024-03-21T00:00:00",
          "2024-03-22T00:00:00",
          "2024-03-25T00:00:00",
          "2024-03-26T00:00:00",
          "2024-03-27T00:00:00",
          "2024-03-28T00:00:00",
          "2024-04-01T00:00:00",
          "2024-04-02T00:00:00",
          "2024-04-03T00:00:00",
          "2024-04-04T00:00:00",
          "2024-04-05T00:00:00",
          "2024-04-08T00:00:00",
          "2024-04-09T00:00:00",
          "2024-04-10T00:00:00",
          "2024-04-11T00:00:00",
          "2024-04-12T00:00:00",
          "2024-04-15T00:00:00",
          "2024-04-16T00:00:00",
          "2024-04-17T00:00:00",
          "2024-04-18T00:00:00",
          "2024-04-19T00:00:00",
          "2024-04-22T00:00:00",
          "2024-04-23T00:00:00",
          "2024-04-24T00:00:00",
          "2024-04-25T00:00:00",
          "2024-04-26T00:00:00",
          "2024-04-29T00:00:00",
          "2024-04-30T00:00:00",
          "2024-05-01T00:00:00",
          "2024-05-02T00:00:00",
          "2024-05-03T00:00:00",
          "2024-05-06T00:00:00",
          "2024-05-07T00:00:00",
          "2024-05-08T00:00:00",
          "2024-05-09T00:00:00",
          "2024-05-10T00:00:00",
          "2024-05-13T00:00:00",
          "2024-05-14T00:00:00",
          "2024-05-15T00:00:00",
          "2024-05-16T00:00:00",
          "2024-05-17T00:00:00",
          "2024-05-20T00:00:00",
          "2024-05-21T00:00:00",
          "2024-05-22T00:00:00",
          "2024-05-23T00:00:00",
          "2024-05-24T00:00:00",
          "2024-05-28T00:00:00",
          "2024-05-29T00:00:00",
          "2024-05-30T00:00:00",
          "2024-05-31T00:00:00",
          "2024-06-03T00:00:00",
          "2024-06-04T00:00:00",
          "2024-06-05T00:00:00",
          "2024-06-06T00:00:00",
          "2024-06-07T00:00:00",
          "2024-06-10T00:00:00",
          "2024-06-11T00:00:00",
          "2024-06-12T00:00:00",
          "2024-06-13T00:00:00",
          "2024-06-14T00:00:00",
          "2024-06-17T00:00:00",
          "2024-06-18T00:00:00",
          "2024-06-20T00:00:00",
          "2024-06-21T00:00:00",
          "2024-06-24T00:00:00",
          "2024-06-25T00:00:00",
          "2024-06-26T00:00:00",
          "2024-06-27T00:00:00",
          "2024-06-28T00:00:00",
          "2024-07-01T00:00:00",
          "2024-07-02T00:00:00",
          "2024-07-03T00:00:00",
          "2024-07-05T00:00:00",
          "2024-07-08T00:00:00",
          "2024-07-09T00:00:00",
          "2024-07-10T00:00:00",
          "2024-07-11T00:00:00",
          "2024-07-12T00:00:00",
          "2024-07-15T00:00:00",
          "2024-07-16T00:00:00",
          "2024-07-17T00:00:00",
          "2024-07-18T00:00:00",
          "2024-07-19T00:00:00",
          "2024-07-22T00:00:00",
          "2024-07-23T00:00:00",
          "2024-07-24T00:00:00",
          "2024-07-25T00:00:00",
          "2024-07-26T00:00:00",
          "2024-07-29T00:00:00",
          "2024-07-30T00:00:00",
          "2024-07-31T00:00:00",
          "2024-08-01T00:00:00",
          "2024-08-02T00:00:00",
          "2024-08-05T00:00:00",
          "2024-08-06T00:00:00",
          "2024-08-07T00:00:00",
          "2024-08-08T00:00:00",
          "2024-08-09T00:00:00",
          "2024-08-12T00:00:00",
          "2024-08-13T00:00:00",
          "2024-08-14T00:00:00",
          "2024-08-15T00:00:00",
          "2024-08-16T00:00:00",
          "2024-08-19T00:00:00",
          "2024-08-20T00:00:00",
          "2024-08-21T00:00:00",
          "2024-08-22T00:00:00",
          "2024-08-23T00:00:00",
          "2024-08-26T00:00:00",
          "2024-08-27T00:00:00",
          "2024-08-28T00:00:00",
          "2024-08-29T00:00:00",
          "2024-08-30T00:00:00",
          "2024-09-03T00:00:00",
          "2024-09-04T00:00:00",
          "2024-09-05T00:00:00",
          "2024-09-06T00:00:00",
          "2024-09-09T00:00:00",
          "2024-09-10T00:00:00",
          "2024-09-11T00:00:00",
          "2024-09-12T00:00:00",
          "2024-09-13T00:00:00",
          "2024-09-16T00:00:00",
          "2024-09-17T00:00:00",
          "2024-09-18T00:00:00",
          "2024-09-19T00:00:00",
          "2024-09-20T00:00:00",
          "2024-09-23T00:00:00",
          "2024-09-24T00:00:00",
          "2024-09-25T00:00:00",
          "2024-09-26T00:00:00",
          "2024-09-27T00:00:00",
          "2024-09-30T00:00:00",
          "2024-10-01T00:00:00",
          "2024-10-02T00:00:00",
          "2024-10-03T00:00:00",
          "2024-10-04T00:00:00",
          "2024-10-07T00:00:00",
          "2024-10-08T00:00:00",
          "2024-10-09T00:00:00",
          "2024-10-10T00:00:00",
          "2024-10-11T00:00:00",
          "2024-10-14T00:00:00",
          "2024-10-15T00:00:00",
          "2024-10-16T00:00:00",
          "2024-10-17T00:00:00",
          "2024-10-18T00:00:00",
          "2024-10-21T00:00:00",
          "2024-10-22T00:00:00",
          "2024-10-23T00:00:00",
          "2024-10-24T00:00:00",
          "2024-10-25T00:00:00",
          "2024-10-28T00:00:00",
          "2024-10-29T00:00:00",
          "2024-10-30T00:00:00",
          "2024-10-31T00:00:00",
          "2024-11-01T00:00:00",
          "2024-11-04T00:00:00",
          "2024-11-05T00:00:00",
          "2024-11-06T00:00:00",
          "2024-11-07T00:00:00",
          "2024-11-08T00:00:00",
          "2024-11-11T00:00:00",
          "2024-11-12T00:00:00",
          "2024-11-13T00:00:00",
          "2024-11-14T00:00:00",
          "2024-11-15T00:00:00",
          "2024-11-18T00:00:00",
          "2024-11-19T00:00:00",
          "2024-11-20T00:00:00",
          "2024-11-21T00:00:00",
          "2024-11-22T00:00:00",
          "2024-11-25T00:00:00",
          "2024-11-26T00:00:00",
          "2024-11-27T00:00:00",
          "2024-11-29T00:00:00",
          "2024-12-02T00:00:00",
          "2024-12-03T00:00:00",
          "2024-12-04T00:00:00",
          "2024-12-05T00:00:00",
          "2024-12-06T00:00:00",
          "2024-12-09T00:00:00",
          "2024-12-10T00:00:00",
          "2024-12-11T00:00:00",
          "2024-12-12T00:00:00",
          "2024-12-13T00:00:00",
          "2024-12-16T00:00:00",
          "2024-12-17T00:00:00",
          "2024-12-18T00:00:00",
          "2024-12-19T00:00:00",
          "2024-12-20T00:00:00",
          "2024-12-23T00:00:00",
          "2024-12-24T00:00:00",
          "2024-12-26T00:00:00",
          "2024-12-27T00:00:00",
          "2024-12-30T00:00:00",
          "2024-12-31T00:00:00",
          "2025-01-02T00:00:00",
          "2025-01-03T00:00:00",
          "2025-01-06T00:00:00",
          "2025-01-07T00:00:00",
          "2025-01-08T00:00:00",
          "2025-01-10T00:00:00",
          "2025-01-13T00:00:00",
          "2025-01-14T00:00:00",
          "2025-01-15T00:00:00",
          "2025-01-16T00:00:00",
          "2025-01-17T00:00:00",
          "2025-01-21T00:00:00",
          "2025-01-22T00:00:00",
          "2025-01-23T00:00:00",
          "2025-01-24T00:00:00",
          "2025-01-27T00:00:00",
          "2025-01-28T00:00:00",
          "2025-01-29T00:00:00",
          "2025-01-30T00:00:00",
          "2025-01-31T00:00:00",
          "2025-02-03T00:00:00",
          "2025-02-04T00:00:00",
          "2025-02-05T00:00:00",
          "2025-02-06T00:00:00",
          "2025-02-07T00:00:00",
          "2025-02-10T00:00:00",
          "2025-02-11T00:00:00",
          "2025-02-12T00:00:00",
          "2025-02-13T00:00:00",
          "2025-02-14T00:00:00",
          "2025-02-18T00:00:00",
          "2025-02-19T00:00:00",
          "2025-02-20T00:00:00",
          "2025-02-21T00:00:00",
          "2025-02-24T00:00:00",
          "2025-02-25T00:00:00",
          "2025-02-26T00:00:00",
          "2025-02-27T00:00:00",
          "2025-02-28T00:00:00",
          "2025-03-03T00:00:00",
          "2025-03-04T00:00:00",
          "2025-03-05T00:00:00",
          "2025-03-06T00:00:00",
          "2025-03-07T00:00:00"
         ],
         "xaxis": "x",
         "y": {
          "bdata": "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",
          "dtype": "f8"
         },
         "yaxis": "y"
        },
        {
         "hovertemplate": "Symbol=INTU<br>Date=%{x}<br>pct_change=%{y}<extra></extra>",
         "legendgroup": "INTU",
         "line": {
          "color": "#FF6692",
          "dash": "solid",
          "width": 3
         },
         "marker": {
          "symbol": "circle"
         },
         "mode": "lines",
         "name": "INTU",
         "showlegend": true,
         "type": "scattergl",
         "x": [
          "2024-03-08T00:00:00",
          "2024-03-11T00:00:00",
          "2024-03-12T00:00:00",
          "2024-03-13T00:00:00",
          "2024-03-14T00:00:00",
          "2024-03-15T00:00:00",
          "2024-03-18T00:00:00",
          "2024-03-19T00:00:00",
          "2024-03-20T00:00:00",
          "2024-03-21T00:00:00",
          "2024-03-22T00:00:00",
          "2024-03-25T00:00:00",
          "2024-03-26T00:00:00",
          "2024-03-27T00:00:00",
          "2024-03-28T00:00:00",
          "2024-04-01T00:00:00",
          "2024-04-02T00:00:00",
          "2024-04-03T00:00:00",
          "2024-04-04T00:00:00",
          "2024-04-05T00:00:00",
          "2024-04-08T00:00:00",
          "2024-04-09T00:00:00",
          "2024-04-10T00:00:00",
          "2024-04-11T00:00:00",
          "2024-04-12T00:00:00",
          "2024-04-15T00:00:00",
          "2024-04-16T00:00:00",
          "2024-04-17T00:00:00",
          "2024-04-18T00:00:00",
          "2024-04-19T00:00:00",
          "2024-04-22T00:00:00",
          "2024-04-23T00:00:00",
          "2024-04-24T00:00:00",
          "2024-04-25T00:00:00",
          "2024-04-26T00:00:00",
          "2024-04-29T00:00:00",
          "2024-04-30T00:00:00",
          "2024-05-01T00:00:00",
          "2024-05-02T00:00:00",
          "2024-05-03T00:00:00",
          "2024-05-06T00:00:00",
          "2024-05-07T00:00:00",
          "2024-05-08T00:00:00",
          "2024-05-09T00:00:00",
          "2024-05-10T00:00:00",
          "2024-05-13T00:00:00",
          "2024-05-14T00:00:00",
          "2024-05-15T00:00:00",
          "2024-05-16T00:00:00",
          "2024-05-17T00:00:00",
          "2024-05-20T00:00:00",
          "2024-05-21T00:00:00",
          "2024-05-22T00:00:00",
          "2024-05-23T00:00:00",
          "2024-05-24T00:00:00",
          "2024-05-28T00:00:00",
          "2024-05-29T00:00:00",
          "2024-05-30T00:00:00",
          "2024-05-31T00:00:00",
          "2024-06-03T00:00:00",
          "2024-06-04T00:00:00",
          "2024-06-05T00:00:00",
          "2024-06-06T00:00:00",
          "2024-06-07T00:00:00",
          "2024-06-10T00:00:00",
          "2024-06-11T00:00:00",
          "2024-06-12T00:00:00",
          "2024-06-13T00:00:00",
          "2024-06-14T00:00:00",
          "2024-06-17T00:00:00",
          "2024-06-18T00:00:00",
          "2024-06-20T00:00:00",
          "2024-06-21T00:00:00",
          "2024-06-24T00:00:00",
          "2024-06-25T00:00:00",
          "2024-06-26T00:00:00",
          "2024-06-27T00:00:00",
          "2024-06-28T00:00:00",
          "2024-07-01T00:00:00",
          "2024-07-02T00:00:00",
          "2024-07-03T00:00:00",
          "2024-07-05T00:00:00",
          "2024-07-08T00:00:00",
          "2024-07-09T00:00:00",
          "2024-07-10T00:00:00",
          "2024-07-11T00:00:00",
          "2024-07-12T00:00:00",
          "2024-07-15T00:00:00",
          "2024-07-16T00:00:00",
          "2024-07-17T00:00:00",
          "2024-07-18T00:00:00",
          "2024-07-19T00:00:00",
          "2024-07-22T00:00:00",
          "2024-07-23T00:00:00",
          "2024-07-24T00:00:00",
          "2024-07-25T00:00:00",
          "2024-07-26T00:00:00",
          "2024-07-29T00:00:00",
          "2024-07-30T00:00:00",
          "2024-07-31T00:00:00",
          "2024-08-01T00:00:00",
          "2024-08-02T00:00:00",
          "2024-08-05T00:00:00",
          "2024-08-06T00:00:00",
          "2024-08-07T00:00:00",
          "2024-08-08T00:00:00",
          "2024-08-09T00:00:00",
          "2024-08-12T00:00:00",
          "2024-08-13T00:00:00",
          "2024-08-14T00:00:00",
          "2024-08-15T00:00:00",
          "2024-08-16T00:00:00",
          "2024-08-19T00:00:00",
          "2024-08-20T00:00:00",
          "2024-08-21T00:00:00",
          "2024-08-22T00:00:00",
          "2024-08-23T00:00:00",
          "2024-08-26T00:00:00",
          "2024-08-27T00:00:00",
          "2024-08-28T00:00:00",
          "2024-08-29T00:00:00",
          "2024-08-30T00:00:00",
          "2024-09-03T00:00:00",
          "2024-09-04T00:00:00",
          "2024-09-05T00:00:00",
          "2024-09-06T00:00:00",
          "2024-09-09T00:00:00",
          "2024-09-10T00:00:00",
          "2024-09-11T00:00:00",
          "2024-09-12T00:00:00",
          "2024-09-13T00:00:00",
          "2024-09-16T00:00:00",
          "2024-09-17T00:00:00",
          "2024-09-18T00:00:00",
          "2024-09-19T00:00:00",
          "2024-09-20T00:00:00",
          "2024-09-23T00:00:00",
          "2024-09-24T00:00:00",
          "2024-09-25T00:00:00",
          "2024-09-26T00:00:00",
          "2024-09-27T00:00:00",
          "2024-09-30T00:00:00",
          "2024-10-01T00:00:00",
          "2024-10-02T00:00:00",
          "2024-10-03T00:00:00",
          "2024-10-04T00:00:00",
          "2024-10-07T00:00:00",
          "2024-10-08T00:00:00",
          "2024-10-09T00:00:00",
          "2024-10-10T00:00:00",
          "2024-10-11T00:00:00",
          "2024-10-14T00:00:00",
          "2024-10-15T00:00:00",
          "2024-10-16T00:00:00",
          "2024-10-17T00:00:00",
          "2024-10-18T00:00:00",
          "2024-10-21T00:00:00",
          "2024-10-22T00:00:00",
          "2024-10-23T00:00:00",
          "2024-10-24T00:00:00",
          "2024-10-25T00:00:00",
          "2024-10-28T00:00:00",
          "2024-10-29T00:00:00",
          "2024-10-30T00:00:00",
          "2024-10-31T00:00:00",
          "2024-11-01T00:00:00",
          "2024-11-04T00:00:00",
          "2024-11-05T00:00:00",
          "2024-11-06T00:00:00",
          "2024-11-07T00:00:00",
          "2024-11-08T00:00:00",
          "2024-11-11T00:00:00",
          "2024-11-12T00:00:00",
          "2024-11-13T00:00:00",
          "2024-11-14T00:00:00",
          "2024-11-15T00:00:00",
          "2024-11-18T00:00:00",
          "2024-11-19T00:00:00",
          "2024-11-20T00:00:00",
          "2024-11-21T00:00:00",
          "2024-11-22T00:00:00",
          "2024-11-25T00:00:00",
          "2024-11-26T00:00:00",
          "2024-11-27T00:00:00",
          "2024-11-29T00:00:00",
          "2024-12-02T00:00:00",
          "2024-12-03T00:00:00",
          "2024-12-04T00:00:00",
          "2024-12-05T00:00:00",
          "2024-12-06T00:00:00",
          "2024-12-09T00:00:00",
          "2024-12-10T00:00:00",
          "2024-12-11T00:00:00",
          "2024-12-12T00:00:00",
          "2024-12-13T00:00:00",
          "2024-12-16T00:00:00",
          "2024-12-17T00:00:00",
          "2024-12-18T00:00:00",
          "2024-12-19T00:00:00",
          "2024-12-20T00:00:00",
          "2024-12-23T00:00:00",
          "2024-12-24T00:00:00",
          "2024-12-26T00:00:00",
          "2024-12-27T00:00:00",
          "2024-12-30T00:00:00",
          "2024-12-31T00:00:00",
          "2025-01-02T00:00:00",
          "2025-01-03T00:00:00",
          "2025-01-06T00:00:00",
          "2025-01-07T00:00:00",
          "2025-01-08T00:00:00",
          "2025-01-10T00:00:00",
          "2025-01-13T00:00:00",
          "2025-01-14T00:00:00",
          "2025-01-15T00:00:00",
          "2025-01-16T00:00:00",
          "2025-01-17T00:00:00",
          "2025-01-21T00:00:00",
          "2025-01-22T00:00:00",
          "2025-01-23T00:00:00",
          "2025-01-24T00:00:00",
          "2025-01-27T00:00:00",
          "2025-01-28T00:00:00",
          "2025-01-29T00:00:00",
          "2025-01-30T00:00:00",
          "2025-01-31T00:00:00",
          "2025-02-03T00:00:00",
          "2025-02-04T00:00:00",
          "2025-02-05T00:00:00",
          "2025-02-06T00:00:00",
          "2025-02-07T00:00:00",
          "2025-02-10T00:00:00",
          "2025-02-11T00:00:00",
          "2025-02-12T00:00:00",
          "2025-02-13T00:00:00",
          "2025-02-14T00:00:00",
          "2025-02-18T00:00:00",
          "2025-02-19T00:00:00",
          "2025-02-20T00:00:00",
          "2025-02-21T00:00:00",
          "2025-02-24T00:00:00",
          "2025-02-25T00:00:00",
          "2025-02-26T00:00:00",
          "2025-02-27T00:00:00",
          "2025-02-28T00:00:00",
          "2025-03-03T00:00:00",
          "2025-03-04T00:00:00",
          "2025-03-05T00:00:00",
          "2025-03-06T00:00:00",
          "2025-03-07T00:00:00"
         ],
         "xaxis": "x",
         "y": {
          "bdata": "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",
          "dtype": "f8"
         },
         "yaxis": "y"
        },
        {
         "hovertemplate": "Symbol=ORCL<br>Date=%{x}<br>pct_change=%{y}<extra></extra>",
         "legendgroup": "ORCL",
         "line": {
          "color": "#B6E880",
          "dash": "solid",
          "width": 3
         },
         "marker": {
          "symbol": "circle"
         },
         "mode": "lines",
         "name": "ORCL",
         "showlegend": true,
         "type": "scattergl",
         "x": [
          "2024-03-08T00:00:00",
          "2024-03-11T00:00:00",
          "2024-03-12T00:00:00",
          "2024-03-13T00:00:00",
          "2024-03-14T00:00:00",
          "2024-03-15T00:00:00",
          "2024-03-18T00:00:00",
          "2024-03-19T00:00:00",
          "2024-03-20T00:00:00",
          "2024-03-21T00:00:00",
          "2024-03-22T00:00:00",
          "2024-03-25T00:00:00",
          "2024-03-26T00:00:00",
          "2024-03-27T00:00:00",
          "2024-03-28T00:00:00",
          "2024-04-01T00:00:00",
          "2024-04-02T00:00:00",
          "2024-04-03T00:00:00",
          "2024-04-04T00:00:00",
          "2024-04-05T00:00:00",
          "2024-04-08T00:00:00",
          "2024-04-09T00:00:00",
          "2024-04-10T00:00:00",
          "2024-04-11T00:00:00",
          "2024-04-12T00:00:00",
          "2024-04-15T00:00:00",
          "2024-04-16T00:00:00",
          "2024-04-17T00:00:00",
          "2024-04-18T00:00:00",
          "2024-04-19T00:00:00",
          "2024-04-22T00:00:00",
          "2024-04-23T00:00:00",
          "2024-04-24T00:00:00",
          "2024-04-25T00:00:00",
          "2024-04-26T00:00:00",
          "2024-04-29T00:00:00",
          "2024-04-30T00:00:00",
          "2024-05-01T00:00:00",
          "2024-05-02T00:00:00",
          "2024-05-03T00:00:00",
          "2024-05-06T00:00:00",
          "2024-05-07T00:00:00",
          "2024-05-08T00:00:00",
          "2024-05-09T00:00:00",
          "2024-05-10T00:00:00",
          "2024-05-13T00:00:00",
          "2024-05-14T00:00:00",
          "2024-05-15T00:00:00",
          "2024-05-16T00:00:00",
          "2024-05-17T00:00:00",
          "2024-05-20T00:00:00",
          "2024-05-21T00:00:00",
          "2024-05-22T00:00:00",
          "2024-05-23T00:00:00",
          "2024-05-24T00:00:00",
          "2024-05-28T00:00:00",
          "2024-05-29T00:00:00",
          "2024-05-30T00:00:00",
          "2024-05-31T00:00:00",
          "2024-06-03T00:00:00",
          "2024-06-04T00:00:00",
          "2024-06-05T00:00:00",
          "2024-06-06T00:00:00",
          "2024-06-07T00:00:00",
          "2024-06-10T00:00:00",
          "2024-06-11T00:00:00",
          "2024-06-12T00:00:00",
          "2024-06-13T00:00:00",
          "2024-06-14T00:00:00",
          "2024-06-17T00:00:00",
          "2024-06-18T00:00:00",
          "2024-06-20T00:00:00",
          "2024-06-21T00:00:00",
          "2024-06-24T00:00:00",
          "2024-06-25T00:00:00",
          "2024-06-26T00:00:00",
          "2024-06-27T00:00:00",
          "2024-06-28T00:00:00",
          "2024-07-01T00:00:00",
          "2024-07-02T00:00:00",
          "2024-07-03T00:00:00",
          "2024-07-05T00:00:00",
          "2024-07-08T00:00:00",
          "2024-07-09T00:00:00",
          "2024-07-10T00:00:00",
          "2024-07-11T00:00:00",
          "2024-07-12T00:00:00",
          "2024-07-15T00:00:00",
          "2024-07-16T00:00:00",
          "2024-07-17T00:00:00",
          "2024-07-18T00:00:00",
          "2024-07-19T00:00:00",
          "2024-07-22T00:00:00",
          "2024-07-23T00:00:00",
          "2024-07-24T00:00:00",
          "2024-07-25T00:00:00",
          "2024-07-26T00:00:00",
          "2024-07-29T00:00:00",
          "2024-07-30T00:00:00",
          "2024-07-31T00:00:00",
          "2024-08-01T00:00:00",
          "2024-08-02T00:00:00",
          "2024-08-05T00:00:00",
          "2024-08-06T00:00:00",
          "2024-08-07T00:00:00",
          "2024-08-08T00:00:00",
          "2024-08-09T00:00:00",
          "2024-08-12T00:00:00",
          "2024-08-13T00:00:00",
          "2024-08-14T00:00:00",
          "2024-08-15T00:00:00",
          "2024-08-16T00:00:00",
          "2024-08-19T00:00:00",
          "2024-08-20T00:00:00",
          "2024-08-21T00:00:00",
          "2024-08-22T00:00:00",
          "2024-08-23T00:00:00",
          "2024-08-26T00:00:00",
          "2024-08-27T00:00:00",
          "2024-08-28T00:00:00",
          "2024-08-29T00:00:00",
          "2024-08-30T00:00:00",
          "2024-09-03T00:00:00",
          "2024-09-04T00:00:00",
          "2024-09-05T00:00:00",
          "2024-09-06T00:00:00",
          "2024-09-09T00:00:00",
          "2024-09-10T00:00:00",
          "2024-09-11T00:00:00",
          "2024-09-12T00:00:00",
          "2024-09-13T00:00:00",
          "2024-09-16T00:00:00",
          "2024-09-17T00:00:00",
          "2024-09-18T00:00:00",
          "2024-09-19T00:00:00",
          "2024-09-20T00:00:00",
          "2024-09-23T00:00:00",
          "2024-09-24T00:00:00",
          "2024-09-25T00:00:00",
          "2024-09-26T00:00:00",
          "2024-09-27T00:00:00",
          "2024-09-30T00:00:00",
          "2024-10-01T00:00:00",
          "2024-10-02T00:00:00",
          "2024-10-03T00:00:00",
          "2024-10-04T00:00:00",
          "2024-10-07T00:00:00",
          "2024-10-08T00:00:00",
          "2024-10-09T00:00:00",
          "2024-10-10T00:00:00",
          "2024-10-11T00:00:00",
          "2024-10-14T00:00:00",
          "2024-10-15T00:00:00",
          "2024-10-16T00:00:00",
          "2024-10-17T00:00:00",
          "2024-10-18T00:00:00",
          "2024-10-21T00:00:00",
          "2024-10-22T00:00:00",
          "2024-10-23T00:00:00",
          "2024-10-24T00:00:00",
          "2024-10-25T00:00:00",
          "2024-10-28T00:00:00",
          "2024-10-29T00:00:00",
          "2024-10-30T00:00:00",
          "2024-10-31T00:00:00",
          "2024-11-01T00:00:00",
          "2024-11-04T00:00:00",
          "2024-11-05T00:00:00",
          "2024-11-06T00:00:00",
          "2024-11-07T00:00:00",
          "2024-11-08T00:00:00",
          "2024-11-11T00:00:00",
          "2024-11-12T00:00:00",
          "2024-11-13T00:00:00",
          "2024-11-14T00:00:00",
          "2024-11-15T00:00:00",
          "2024-11-18T00:00:00",
          "2024-11-19T00:00:00",
          "2024-11-20T00:00:00",
          "2024-11-21T00:00:00",
          "2024-11-22T00:00:00",
          "2024-11-25T00:00:00",
          "2024-11-26T00:00:00",
          "2024-11-27T00:00:00",
          "2024-11-29T00:00:00",
          "2024-12-02T00:00:00",
          "2024-12-03T00:00:00",
          "2024-12-04T00:00:00",
          "2024-12-05T00:00:00",
          "2024-12-06T00:00:00",
          "2024-12-09T00:00:00",
          "2024-12-10T00:00:00",
          "2024-12-11T00:00:00",
          "2024-12-12T00:00:00",
          "2024-12-13T00:00:00",
          "2024-12-16T00:00:00",
          "2024-12-17T00:00:00",
          "2024-12-18T00:00:00",
          "2024-12-19T00:00:00",
          "2024-12-20T00:00:00",
          "2024-12-23T00:00:00",
          "2024-12-24T00:00:00",
          "2024-12-26T00:00:00",
          "2024-12-27T00:00:00",
          "2024-12-30T00:00:00",
          "2024-12-31T00:00:00",
          "2025-01-02T00:00:00",
          "2025-01-03T00:00:00",
          "2025-01-06T00:00:00",
          "2025-01-07T00:00:00",
          "2025-01-08T00:00:00",
          "2025-01-10T00:00:00",
          "2025-01-13T00:00:00",
          "2025-01-14T00:00:00",
          "2025-01-15T00:00:00",
          "2025-01-16T00:00:00",
          "2025-01-17T00:00:00",
          "2025-01-21T00:00:00",
          "2025-01-22T00:00:00",
          "2025-01-23T00:00:00",
          "2025-01-24T00:00:00",
          "2025-01-27T00:00:00",
          "2025-01-28T00:00:00",
          "2025-01-29T00:00:00",
          "2025-01-30T00:00:00",
          "2025-01-31T00:00:00",
          "2025-02-03T00:00:00",
          "2025-02-04T00:00:00",
          "2025-02-05T00:00:00",
          "2025-02-06T00:00:00",
          "2025-02-07T00:00:00",
          "2025-02-10T00:00:00",
          "2025-02-11T00:00:00",
          "2025-02-12T00:00:00",
          "2025-02-13T00:00:00",
          "2025-02-14T00:00:00",
          "2025-02-18T00:00:00",
          "2025-02-19T00:00:00",
          "2025-02-20T00:00:00",
          "2025-02-21T00:00:00",
          "2025-02-24T00:00:00",
          "2025-02-25T00:00:00",
          "2025-02-26T00:00:00",
          "2025-02-27T00:00:00",
          "2025-02-28T00:00:00",
          "2025-03-03T00:00:00",
          "2025-03-04T00:00:00",
          "2025-03-05T00:00:00",
          "2025-03-06T00:00:00",
          "2025-03-07T00:00:00"
         ],
         "xaxis": "x",
         "y": {
          "bdata": "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",
          "dtype": "f8"
         },
         "yaxis": "y"
        },
        {
         "hovertemplate": "Symbol=PTC<br>Date=%{x}<br>pct_change=%{y}<extra></extra>",
         "legendgroup": "PTC",
         "line": {
          "color": "#FF97FF",
          "dash": "solid",
          "width": 3
         },
         "marker": {
          "symbol": "circle"
         },
         "mode": "lines",
         "name": "PTC",
         "showlegend": true,
         "type": "scattergl",
         "x": [
          "2024-03-08T00:00:00",
          "2024-03-11T00:00:00",
          "2024-03-12T00:00:00",
          "2024-03-13T00:00:00",
          "2024-03-14T00:00:00",
          "2024-03-15T00:00:00",
          "2024-03-18T00:00:00",
          "2024-03-19T00:00:00",
          "2024-03-20T00:00:00",
          "2024-03-21T00:00:00",
          "2024-03-22T00:00:00",
          "2024-03-25T00:00:00",
          "2024-03-26T00:00:00",
          "2024-03-27T00:00:00",
          "2024-03-28T00:00:00",
          "2024-04-01T00:00:00",
          "2024-04-02T00:00:00",
          "2024-04-03T00:00:00",
          "2024-04-04T00:00:00",
          "2024-04-05T00:00:00",
          "2024-04-08T00:00:00",
          "2024-04-09T00:00:00",
          "2024-04-10T00:00:00",
          "2024-04-11T00:00:00",
          "2024-04-12T00:00:00",
          "2024-04-15T00:00:00",
          "2024-04-16T00:00:00",
          "2024-04-17T00:00:00",
          "2024-04-18T00:00:00",
          "2024-04-19T00:00:00",
          "2024-04-22T00:00:00",
          "2024-04-23T00:00:00",
          "2024-04-24T00:00:00",
          "2024-04-25T00:00:00",
          "2024-04-26T00:00:00",
          "2024-04-29T00:00:00",
          "2024-04-30T00:00:00",
          "2024-05-01T00:00:00",
          "2024-05-02T00:00:00",
          "2024-05-03T00:00:00",
          "2024-05-06T00:00:00",
          "2024-05-07T00:00:00",
          "2024-05-08T00:00:00",
          "2024-05-09T00:00:00",
          "2024-05-10T00:00:00",
          "2024-05-13T00:00:00",
          "2024-05-14T00:00:00",
          "2024-05-15T00:00:00",
          "2024-05-16T00:00:00",
          "2024-05-17T00:00:00",
          "2024-05-20T00:00:00",
          "2024-05-21T00:00:00",
          "2024-05-22T00:00:00",
          "2024-05-23T00:00:00",
          "2024-05-24T00:00:00",
          "2024-05-28T00:00:00",
          "2024-05-29T00:00:00",
          "2024-05-30T00:00:00",
          "2024-05-31T00:00:00",
          "2024-06-03T00:00:00",
          "2024-06-04T00:00:00",
          "2024-06-05T00:00:00",
          "2024-06-06T00:00:00",
          "2024-06-07T00:00:00",
          "2024-06-10T00:00:00",
          "2024-06-11T00:00:00",
          "2024-06-12T00:00:00",
          "2024-06-13T00:00:00",
          "2024-06-14T00:00:00",
          "2024-06-17T00:00:00",
          "2024-06-18T00:00:00",
          "2024-06-20T00:00:00",
          "2024-06-21T00:00:00",
          "2024-06-24T00:00:00",
          "2024-06-25T00:00:00",
          "2024-06-26T00:00:00",
          "2024-06-27T00:00:00",
          "2024-06-28T00:00:00",
          "2024-07-01T00:00:00",
          "2024-07-02T00:00:00",
          "2024-07-03T00:00:00",
          "2024-07-05T00:00:00",
          "2024-07-08T00:00:00",
          "2024-07-09T00:00:00",
          "2024-07-10T00:00:00",
          "2024-07-11T00:00:00",
          "2024-07-12T00:00:00",
          "2024-07-15T00:00:00",
          "2024-07-16T00:00:00",
          "2024-07-17T00:00:00",
          "2024-07-18T00:00:00",
          "2024-07-19T00:00:00",
          "2024-07-22T00:00:00",
          "2024-07-23T00:00:00",
          "2024-07-24T00:00:00",
          "2024-07-25T00:00:00",
          "2024-07-26T00:00:00",
          "2024-07-29T00:00:00",
          "2024-07-30T00:00:00",
          "2024-07-31T00:00:00",
          "2024-08-01T00:00:00",
          "2024-08-02T00:00:00",
          "2024-08-05T00:00:00",
          "2024-08-06T00:00:00",
          "2024-08-07T00:00:00",
          "2024-08-08T00:00:00",
          "2024-08-09T00:00:00",
          "2024-08-12T00:00:00",
          "2024-08-13T00:00:00",
          "2024-08-14T00:00:00",
          "2024-08-15T00:00:00",
          "2024-08-16T00:00:00",
          "2024-08-19T00:00:00",
          "2024-08-20T00:00:00",
          "2024-08-21T00:00:00",
          "2024-08-22T00:00:00",
          "2024-08-23T00:00:00",
          "2024-08-26T00:00:00",
          "2024-08-27T00:00:00",
          "2024-08-28T00:00:00",
          "2024-08-29T00:00:00",
          "2024-08-30T00:00:00",
          "2024-09-03T00:00:00",
          "2024-09-04T00:00:00",
          "2024-09-05T00:00:00",
          "2024-09-06T00:00:00",
          "2024-09-09T00:00:00",
          "2024-09-10T00:00:00",
          "2024-09-11T00:00:00",
          "2024-09-12T00:00:00",
          "2024-09-13T00:00:00",
          "2024-09-16T00:00:00",
          "2024-09-17T00:00:00",
          "2024-09-18T00:00:00",
          "2024-09-19T00:00:00",
          "2024-09-20T00:00:00",
          "2024-09-23T00:00:00",
          "2024-09-24T00:00:00",
          "2024-09-25T00:00:00",
          "2024-09-26T00:00:00",
          "2024-09-27T00:00:00",
          "2024-09-30T00:00:00",
          "2024-10-01T00:00:00",
          "2024-10-02T00:00:00",
          "2024-10-03T00:00:00",
          "2024-10-04T00:00:00",
          "2024-10-07T00:00:00",
          "2024-10-08T00:00:00",
          "2024-10-09T00:00:00",
          "2024-10-10T00:00:00",
          "2024-10-11T00:00:00",
          "2024-10-14T00:00:00",
          "2024-10-15T00:00:00",
          "2024-10-16T00:00:00",
          "2024-10-17T00:00:00",
          "2024-10-18T00:00:00",
          "2024-10-21T00:00:00",
          "2024-10-22T00:00:00",
          "2024-10-23T00:00:00",
          "2024-10-24T00:00:00",
          "2024-10-25T00:00:00",
          "2024-10-28T00:00:00",
          "2024-10-29T00:00:00",
          "2024-10-30T00:00:00",
          "2024-10-31T00:00:00",
          "2024-11-01T00:00:00",
          "2024-11-04T00:00:00",
          "2024-11-05T00:00:00",
          "2024-11-06T00:00:00",
          "2024-11-07T00:00:00",
          "2024-11-08T00:00:00",
          "2024-11-11T00:00:00",
          "2024-11-12T00:00:00",
          "2024-11-13T00:00:00",
          "2024-11-14T00:00:00",
          "2024-11-15T00:00:00",
          "2024-11-18T00:00:00",
          "2024-11-19T00:00:00",
          "2024-11-20T00:00:00",
          "2024-11-21T00:00:00",
          "2024-11-22T00:00:00",
          "2024-11-25T00:00:00",
          "2024-11-26T00:00:00",
          "2024-11-27T00:00:00",
          "2024-11-29T00:00:00",
          "2024-12-02T00:00:00",
          "2024-12-03T00:00:00",
          "2024-12-04T00:00:00",
          "2024-12-05T00:00:00",
          "2024-12-06T00:00:00",
          "2024-12-09T00:00:00",
          "2024-12-10T00:00:00",
          "2024-12-11T00:00:00",
          "2024-12-12T00:00:00",
          "2024-12-13T00:00:00",
          "2024-12-16T00:00:00",
          "2024-12-17T00:00:00",
          "2024-12-18T00:00:00",
          "2024-12-19T00:00:00",
          "2024-12-20T00:00:00",
          "2024-12-23T00:00:00",
          "2024-12-24T00:00:00",
          "2024-12-26T00:00:00",
          "2024-12-27T00:00:00",
          "2024-12-30T00:00:00",
          "2024-12-31T00:00:00",
          "2025-01-02T00:00:00",
          "2025-01-03T00:00:00",
          "2025-01-06T00:00:00",
          "2025-01-07T00:00:00",
          "2025-01-08T00:00:00",
          "2025-01-10T00:00:00",
          "2025-01-13T00:00:00",
          "2025-01-14T00:00:00",
          "2025-01-15T00:00:00",
          "2025-01-16T00:00:00",
          "2025-01-17T00:00:00",
          "2025-01-21T00:00:00",
          "2025-01-22T00:00:00",
          "2025-01-23T00:00:00",
          "2025-01-24T00:00:00",
          "2025-01-27T00:00:00",
          "2025-01-28T00:00:00",
          "2025-01-29T00:00:00",
          "2025-01-30T00:00:00",
          "2025-01-31T00:00:00",
          "2025-02-03T00:00:00",
          "2025-02-04T00:00:00",
          "2025-02-05T00:00:00",
          "2025-02-06T00:00:00",
          "2025-02-07T00:00:00",
          "2025-02-10T00:00:00",
          "2025-02-11T00:00:00",
          "2025-02-12T00:00:00",
          "2025-02-13T00:00:00",
          "2025-02-14T00:00:00",
          "2025-02-18T00:00:00",
          "2025-02-19T00:00:00",
          "2025-02-20T00:00:00",
          "2025-02-21T00:00:00",
          "2025-02-24T00:00:00",
          "2025-02-25T00:00:00",
          "2025-02-26T00:00:00",
          "2025-02-27T00:00:00",
          "2025-02-28T00:00:00",
          "2025-03-03T00:00:00",
          "2025-03-04T00:00:00",
          "2025-03-05T00:00:00",
          "2025-03-06T00:00:00",
          "2025-03-07T00:00:00"
         ],
         "xaxis": "x",
         "y": {
          "bdata": "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",
          "dtype": "f8"
         },
         "yaxis": "y"
        },
        {
         "hovertemplate": "Symbol=SNPS<br>Date=%{x}<br>pct_change=%{y}<extra></extra>",
         "legendgroup": "SNPS",
         "line": {
          "color": "#FECB52",
          "dash": "solid",
          "width": 3
         },
         "marker": {
          "symbol": "circle"
         },
         "mode": "lines",
         "name": "SNPS",
         "showlegend": true,
         "type": "scattergl",
         "x": [
          "2024-03-08T00:00:00",
          "2024-03-11T00:00:00",
          "2024-03-12T00:00:00",
          "2024-03-13T00:00:00",
          "2024-03-14T00:00:00",
          "2024-03-15T00:00:00",
          "2024-03-18T00:00:00",
          "2024-03-19T00:00:00",
          "2024-03-20T00:00:00",
          "2024-03-21T00:00:00",
          "2024-03-22T00:00:00",
          "2024-03-25T00:00:00",
          "2024-03-26T00:00:00",
          "2024-03-27T00:00:00",
          "2024-03-28T00:00:00",
          "2024-04-01T00:00:00",
          "2024-04-02T00:00:00",
          "2024-04-03T00:00:00",
          "2024-04-04T00:00:00",
          "2024-04-05T00:00:00",
          "2024-04-08T00:00:00",
          "2024-04-09T00:00:00",
          "2024-04-10T00:00:00",
          "2024-04-11T00:00:00",
          "2024-04-12T00:00:00",
          "2024-04-15T00:00:00",
          "2024-04-16T00:00:00",
          "2024-04-17T00:00:00",
          "2024-04-18T00:00:00",
          "2024-04-19T00:00:00",
          "2024-04-22T00:00:00",
          "2024-04-23T00:00:00",
          "2024-04-24T00:00:00",
          "2024-04-25T00:00:00",
          "2024-04-26T00:00:00",
          "2024-04-29T00:00:00",
          "2024-04-30T00:00:00",
          "2024-05-01T00:00:00",
          "2024-05-02T00:00:00",
          "2024-05-03T00:00:00",
          "2024-05-06T00:00:00",
          "2024-05-07T00:00:00",
          "2024-05-08T00:00:00",
          "2024-05-09T00:00:00",
          "2024-05-10T00:00:00",
          "2024-05-13T00:00:00",
          "2024-05-14T00:00:00",
          "2024-05-15T00:00:00",
          "2024-05-16T00:00:00",
          "2024-05-17T00:00:00",
          "2024-05-20T00:00:00",
          "2024-05-21T00:00:00",
          "2024-05-22T00:00:00",
          "2024-05-23T00:00:00",
          "2024-05-24T00:00:00",
          "2024-05-28T00:00:00",
          "2024-05-29T00:00:00",
          "2024-05-30T00:00:00",
          "2024-05-31T00:00:00",
          "2024-06-03T00:00:00",
          "2024-06-04T00:00:00",
          "2024-06-05T00:00:00",
          "2024-06-06T00:00:00",
          "2024-06-07T00:00:00",
          "2024-06-10T00:00:00",
          "2024-06-11T00:00:00",
          "2024-06-12T00:00:00",
          "2024-06-13T00:00:00",
          "2024-06-14T00:00:00",
          "2024-06-17T00:00:00",
          "2024-06-18T00:00:00",
          "2024-06-20T00:00:00",
          "2024-06-21T00:00:00",
          "2024-06-24T00:00:00",
          "2024-06-25T00:00:00",
          "2024-06-26T00:00:00",
          "2024-06-27T00:00:00",
          "2024-06-28T00:00:00",
          "2024-07-01T00:00:00",
          "2024-07-02T00:00:00",
          "2024-07-03T00:00:00",
          "2024-07-05T00:00:00",
          "2024-07-08T00:00:00",
          "2024-07-09T00:00:00",
          "2024-07-10T00:00:00",
          "2024-07-11T00:00:00",
          "2024-07-12T00:00:00",
          "2024-07-15T00:00:00",
          "2024-07-16T00:00:00",
          "2024-07-17T00:00:00",
          "2024-07-18T00:00:00",
          "2024-07-19T00:00:00",
          "2024-07-22T00:00:00",
          "2024-07-23T00:00:00",
          "2024-07-24T00:00:00",
          "2024-07-25T00:00:00",
          "2024-07-26T00:00:00",
          "2024-07-29T00:00:00",
          "2024-07-30T00:00:00",
          "2024-07-31T00:00:00",
          "2024-08-01T00:00:00",
          "2024-08-02T00:00:00",
          "2024-08-05T00:00:00",
          "2024-08-06T00:00:00",
          "2024-08-07T00:00:00",
          "2024-08-08T00:00:00",
          "2024-08-09T00:00:00",
          "2024-08-12T00:00:00",
          "2024-08-13T00:00:00",
          "2024-08-14T00:00:00",
          "2024-08-15T00:00:00",
          "2024-08-16T00:00:00",
          "2024-08-19T00:00:00",
          "2024-08-20T00:00:00",
          "2024-08-21T00:00:00",
          "2024-08-22T00:00:00",
          "2024-08-23T00:00:00",
          "2024-08-26T00:00:00",
          "2024-08-27T00:00:00",
          "2024-08-28T00:00:00",
          "2024-08-29T00:00:00",
          "2024-08-30T00:00:00",
          "2024-09-03T00:00:00",
          "2024-09-04T00:00:00",
          "2024-09-05T00:00:00",
          "2024-09-06T00:00:00",
          "2024-09-09T00:00:00",
          "2024-09-10T00:00:00",
          "2024-09-11T00:00:00",
          "2024-09-12T00:00:00",
          "2024-09-13T00:00:00",
          "2024-09-16T00:00:00",
          "2024-09-17T00:00:00",
          "2024-09-18T00:00:00",
          "2024-09-19T00:00:00",
          "2024-09-20T00:00:00",
          "2024-09-23T00:00:00",
          "2024-09-24T00:00:00",
          "2024-09-25T00:00:00",
          "2024-09-26T00:00:00",
          "2024-09-27T00:00:00",
          "2024-09-30T00:00:00",
          "2024-10-01T00:00:00",
          "2024-10-02T00:00:00",
          "2024-10-03T00:00:00",
          "2024-10-04T00:00:00",
          "2024-10-07T00:00:00",
          "2024-10-08T00:00:00",
          "2024-10-09T00:00:00",
          "2024-10-10T00:00:00",
          "2024-10-11T00:00:00",
          "2024-10-14T00:00:00",
          "2024-10-15T00:00:00",
          "2024-10-16T00:00:00",
          "2024-10-17T00:00:00",
          "2024-10-18T00:00:00",
          "2024-10-21T00:00:00",
          "2024-10-22T00:00:00",
          "2024-10-23T00:00:00",
          "2024-10-24T00:00:00",
          "2024-10-25T00:00:00",
          "2024-10-28T00:00:00",
          "2024-10-29T00:00:00",
          "2024-10-30T00:00:00",
          "2024-10-31T00:00:00",
          "2024-11-01T00:00:00",
          "2024-11-04T00:00:00",
          "2024-11-05T00:00:00",
          "2024-11-06T00:00:00",
          "2024-11-07T00:00:00",
          "2024-11-08T00:00:00",
          "2024-11-11T00:00:00",
          "2024-11-12T00:00:00",
          "2024-11-13T00:00:00",
          "2024-11-14T00:00:00",
          "2024-11-15T00:00:00",
          "2024-11-18T00:00:00",
          "2024-11-19T00:00:00",
          "2024-11-20T00:00:00",
          "2024-11-21T00:00:00",
          "2024-11-22T00:00:00",
          "2024-11-25T00:00:00",
          "2024-11-26T00:00:00",
          "2024-11-27T00:00:00",
          "2024-11-29T00:00:00",
          "2024-12-02T00:00:00",
          "2024-12-03T00:00:00",
          "2024-12-04T00:00:00",
          "2024-12-05T00:00:00",
          "2024-12-06T00:00:00",
          "2024-12-09T00:00:00",
          "2024-12-10T00:00:00",
          "2024-12-11T00:00:00",
          "2024-12-12T00:00:00",
          "2024-12-13T00:00:00",
          "2024-12-16T00:00:00",
          "2024-12-17T00:00:00",
          "2024-12-18T00:00:00",
          "2024-12-19T00:00:00",
          "2024-12-20T00:00:00",
          "2024-12-23T00:00:00",
          "2024-12-24T00:00:00",
          "2024-12-26T00:00:00",
          "2024-12-27T00:00:00",
          "2024-12-30T00:00:00",
          "2024-12-31T00:00:00",
          "2025-01-02T00:00:00",
          "2025-01-03T00:00:00",
          "2025-01-06T00:00:00",
          "2025-01-07T00:00:00",
          "2025-01-08T00:00:00",
          "2025-01-10T00:00:00",
          "2025-01-13T00:00:00",
          "2025-01-14T00:00:00",
          "2025-01-15T00:00:00",
          "2025-01-16T00:00:00",
          "2025-01-17T00:00:00",
          "2025-01-21T00:00:00",
          "2025-01-22T00:00:00",
          "2025-01-23T00:00:00",
          "2025-01-24T00:00:00",
          "2025-01-27T00:00:00",
          "2025-01-28T00:00:00",
          "2025-01-29T00:00:00",
          "2025-01-30T00:00:00",
          "2025-01-31T00:00:00",
          "2025-02-03T00:00:00",
          "2025-02-04T00:00:00",
          "2025-02-05T00:00:00",
          "2025-02-06T00:00:00",
          "2025-02-07T00:00:00",
          "2025-02-10T00:00:00",
          "2025-02-11T00:00:00",
          "2025-02-12T00:00:00",
          "2025-02-13T00:00:00",
          "2025-02-14T00:00:00",
          "2025-02-18T00:00:00",
          "2025-02-19T00:00:00",
          "2025-02-20T00:00:00",
          "2025-02-21T00:00:00",
          "2025-02-24T00:00:00",
          "2025-02-25T00:00:00",
          "2025-02-26T00:00:00",
          "2025-02-27T00:00:00",
          "2025-02-28T00:00:00",
          "2025-03-03T00:00:00",
          "2025-03-04T00:00:00",
          "2025-03-05T00:00:00",
          "2025-03-06T00:00:00",
          "2025-03-07T00:00:00"
         ],
         "xaxis": "x",
         "y": {
          "bdata": "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",
          "dtype": "f8"
         },
         "yaxis": "y"
        },
        {
         "hovertemplate": "Symbol=TYL<br>Date=%{x}<br>pct_change=%{y}<extra></extra>",
         "legendgroup": "TYL",
         "line": {
          "color": "#636efa",
          "dash": "solid",
          "width": 3
         },
         "marker": {
          "symbol": "circle"
         },
         "mode": "lines",
         "name": "TYL",
         "showlegend": true,
         "type": "scattergl",
         "x": [
          "2024-03-08T00:00:00",
          "2024-03-11T00:00:00",
          "2024-03-12T00:00:00",
          "2024-03-13T00:00:00",
          "2024-03-14T00:00:00",
          "2024-03-15T00:00:00",
          "2024-03-18T00:00:00",
          "2024-03-19T00:00:00",
          "2024-03-20T00:00:00",
          "2024-03-21T00:00:00",
          "2024-03-22T00:00:00",
          "2024-03-25T00:00:00",
          "2024-03-26T00:00:00",
          "2024-03-27T00:00:00",
          "2024-03-28T00:00:00",
          "2024-04-01T00:00:00",
          "2024-04-02T00:00:00",
          "2024-04-03T00:00:00",
          "2024-04-04T00:00:00",
          "2024-04-05T00:00:00",
          "2024-04-08T00:00:00",
          "2024-04-09T00:00:00",
          "2024-04-10T00:00:00",
          "2024-04-11T00:00:00",
          "2024-04-12T00:00:00",
          "2024-04-15T00:00:00",
          "2024-04-16T00:00:00",
          "2024-04-17T00:00:00",
          "2024-04-18T00:00:00",
          "2024-04-19T00:00:00",
          "2024-04-22T00:00:00",
          "2024-04-23T00:00:00",
          "2024-04-24T00:00:00",
          "2024-04-25T00:00:00",
          "2024-04-26T00:00:00",
          "2024-04-29T00:00:00",
          "2024-04-30T00:00:00",
          "2024-05-01T00:00:00",
          "2024-05-02T00:00:00",
          "2024-05-03T00:00:00",
          "2024-05-06T00:00:00",
          "2024-05-07T00:00:00",
          "2024-05-08T00:00:00",
          "2024-05-09T00:00:00",
          "2024-05-10T00:00:00",
          "2024-05-13T00:00:00",
          "2024-05-14T00:00:00",
          "2024-05-15T00:00:00",
          "2024-05-16T00:00:00",
          "2024-05-17T00:00:00",
          "2024-05-20T00:00:00",
          "2024-05-21T00:00:00",
          "2024-05-22T00:00:00",
          "2024-05-23T00:00:00",
          "2024-05-24T00:00:00",
          "2024-05-28T00:00:00",
          "2024-05-29T00:00:00",
          "2024-05-30T00:00:00",
          "2024-05-31T00:00:00",
          "2024-06-03T00:00:00",
          "2024-06-04T00:00:00",
          "2024-06-05T00:00:00",
          "2024-06-06T00:00:00",
          "2024-06-07T00:00:00",
          "2024-06-10T00:00:00",
          "2024-06-11T00:00:00",
          "2024-06-12T00:00:00",
          "2024-06-13T00:00:00",
          "2024-06-14T00:00:00",
          "2024-06-17T00:00:00",
          "2024-06-18T00:00:00",
          "2024-06-20T00:00:00",
          "2024-06-21T00:00:00",
          "2024-06-24T00:00:00",
          "2024-06-25T00:00:00",
          "2024-06-26T00:00:00",
          "2024-06-27T00:00:00",
          "2024-06-28T00:00:00",
          "2024-07-01T00:00:00",
          "2024-07-02T00:00:00",
          "2024-07-03T00:00:00",
          "2024-07-05T00:00:00",
          "2024-07-08T00:00:00",
          "2024-07-09T00:00:00",
          "2024-07-10T00:00:00",
          "2024-07-11T00:00:00",
          "2024-07-12T00:00:00",
          "2024-07-15T00:00:00",
          "2024-07-16T00:00:00",
          "2024-07-17T00:00:00",
          "2024-07-18T00:00:00",
          "2024-07-19T00:00:00",
          "2024-07-22T00:00:00",
          "2024-07-23T00:00:00",
          "2024-07-24T00:00:00",
          "2024-07-25T00:00:00",
          "2024-07-26T00:00:00",
          "2024-07-29T00:00:00",
          "2024-07-30T00:00:00",
          "2024-07-31T00:00:00",
          "2024-08-01T00:00:00",
          "2024-08-02T00:00:00",
          "2024-08-05T00:00:00",
          "2024-08-06T00:00:00",
          "2024-08-07T00:00:00",
          "2024-08-08T00:00:00",
          "2024-08-09T00:00:00",
          "2024-08-12T00:00:00",
          "2024-08-13T00:00:00",
          "2024-08-14T00:00:00",
          "2024-08-15T00:00:00",
          "2024-08-16T00:00:00",
          "2024-08-19T00:00:00",
          "2024-08-20T00:00:00",
          "2024-08-21T00:00:00",
          "2024-08-22T00:00:00",
          "2024-08-23T00:00:00",
          "2024-08-26T00:00:00",
          "2024-08-27T00:00:00",
          "2024-08-28T00:00:00",
          "2024-08-29T00:00:00",
          "2024-08-30T00:00:00",
          "2024-09-03T00:00:00",
          "2024-09-04T00:00:00",
          "2024-09-05T00:00:00",
          "2024-09-06T00:00:00",
          "2024-09-09T00:00:00",
          "2024-09-10T00:00:00",
          "2024-09-11T00:00:00",
          "2024-09-12T00:00:00",
          "2024-09-13T00:00:00",
          "2024-09-16T00:00:00",
          "2024-09-17T00:00:00",
          "2024-09-18T00:00:00",
          "2024-09-19T00:00:00",
          "2024-09-20T00:00:00",
          "2024-09-23T00:00:00",
          "2024-09-24T00:00:00",
          "2024-09-25T00:00:00",
          "2024-09-26T00:00:00",
          "2024-09-27T00:00:00",
          "2024-09-30T00:00:00",
          "2024-10-01T00:00:00",
          "2024-10-02T00:00:00",
          "2024-10-03T00:00:00",
          "2024-10-04T00:00:00",
          "2024-10-07T00:00:00",
          "2024-10-08T00:00:00",
          "2024-10-09T00:00:00",
          "2024-10-10T00:00:00",
          "2024-10-11T00:00:00",
          "2024-10-14T00:00:00",
          "2024-10-15T00:00:00",
          "2024-10-16T00:00:00",
          "2024-10-17T00:00:00",
          "2024-10-18T00:00:00",
          "2024-10-21T00:00:00",
          "2024-10-22T00:00:00",
          "2024-10-23T00:00:00",
          "2024-10-24T00:00:00",
          "2024-10-25T00:00:00",
          "2024-10-28T00:00:00",
          "2024-10-29T00:00:00",
          "2024-10-30T00:00:00",
          "2024-10-31T00:00:00",
          "2024-11-01T00:00:00",
          "2024-11-04T00:00:00",
          "2024-11-05T00:00:00",
          "2024-11-06T00:00:00",
          "2024-11-07T00:00:00",
          "2024-11-08T00:00:00",
          "2024-11-11T00:00:00",
          "2024-11-12T00:00:00",
          "2024-11-13T00:00:00",
          "2024-11-14T00:00:00",
          "2024-11-15T00:00:00",
          "2024-11-18T00:00:00",
          "2024-11-19T00:00:00",
          "2024-11-20T00:00:00",
          "2024-11-21T00:00:00",
          "2024-11-22T00:00:00",
          "2024-11-25T00:00:00",
          "2024-11-26T00:00:00",
          "2024-11-27T00:00:00",
          "2024-11-29T00:00:00",
          "2024-12-02T00:00:00",
          "2024-12-03T00:00:00",
          "2024-12-04T00:00:00",
          "2024-12-05T00:00:00",
          "2024-12-06T00:00:00",
          "2024-12-09T00:00:00",
          "2024-12-10T00:00:00",
          "2024-12-11T00:00:00",
          "2024-12-12T00:00:00",
          "2024-12-13T00:00:00",
          "2024-12-16T00:00:00",
          "2024-12-17T00:00:00",
          "2024-12-18T00:00:00",
          "2024-12-19T00:00:00",
          "2024-12-20T00:00:00",
          "2024-12-23T00:00:00",
          "2024-12-24T00:00:00",
          "2024-12-26T00:00:00",
          "2024-12-27T00:00:00",
          "2024-12-30T00:00:00",
          "2024-12-31T00:00:00",
          "2025-01-02T00:00:00",
          "2025-01-03T00:00:00",
          "2025-01-06T00:00:00",
          "2025-01-07T00:00:00",
          "2025-01-08T00:00:00",
          "2025-01-10T00:00:00",
          "2025-01-13T00:00:00",
          "2025-01-14T00:00:00",
          "2025-01-15T00:00:00",
          "2025-01-16T00:00:00",
          "2025-01-17T00:00:00",
          "2025-01-21T00:00:00",
          "2025-01-22T00:00:00",
          "2025-01-23T00:00:00",
          "2025-01-24T00:00:00",
          "2025-01-27T00:00:00",
          "2025-01-28T00:00:00",
          "2025-01-29T00:00:00",
          "2025-01-30T00:00:00",
          "2025-01-31T00:00:00",
          "2025-02-03T00:00:00",
          "2025-02-04T00:00:00",
          "2025-02-05T00:00:00",
          "2025-02-06T00:00:00",
          "2025-02-07T00:00:00",
          "2025-02-10T00:00:00",
          "2025-02-11T00:00:00",
          "2025-02-12T00:00:00",
          "2025-02-13T00:00:00",
          "2025-02-14T00:00:00",
          "2025-02-18T00:00:00",
          "2025-02-19T00:00:00",
          "2025-02-20T00:00:00",
          "2025-02-21T00:00:00",
          "2025-02-24T00:00:00",
          "2025-02-25T00:00:00",
          "2025-02-26T00:00:00",
          "2025-02-27T00:00:00",
          "2025-02-28T00:00:00",
          "2025-03-03T00:00:00",
          "2025-03-04T00:00:00",
          "2025-03-05T00:00:00",
          "2025-03-06T00:00:00",
          "2025-03-07T00:00:00"
         ],
         "xaxis": "x",
         "y": {
          "bdata": "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",
          "dtype": "f8"
         },
         "yaxis": "y"
        },
        {
         "hovertemplate": "Symbol=WDAY<br>Date=%{x}<br>pct_change=%{y}<extra></extra>",
         "legendgroup": "WDAY",
         "line": {
          "color": "#EF553B",
          "dash": "solid",
          "width": 3
         },
         "marker": {
          "symbol": "circle"
         },
         "mode": "lines",
         "name": "WDAY",
         "showlegend": true,
         "type": "scattergl",
         "x": [
          "2024-03-08T00:00:00",
          "2024-03-11T00:00:00",
          "2024-03-12T00:00:00",
          "2024-03-13T00:00:00",
          "2024-03-14T00:00:00",
          "2024-03-15T00:00:00",
          "2024-03-18T00:00:00",
          "2024-03-19T00:00:00",
          "2024-03-20T00:00:00",
          "2024-03-21T00:00:00",
          "2024-03-22T00:00:00",
          "2024-03-25T00:00:00",
          "2024-03-26T00:00:00",
          "2024-03-27T00:00:00",
          "2024-03-28T00:00:00",
          "2024-04-01T00:00:00",
          "2024-04-02T00:00:00",
          "2024-04-03T00:00:00",
          "2024-04-04T00:00:00",
          "2024-04-05T00:00:00",
          "2024-04-08T00:00:00",
          "2024-04-09T00:00:00",
          "2024-04-10T00:00:00",
          "2024-04-11T00:00:00",
          "2024-04-12T00:00:00",
          "2024-04-15T00:00:00",
          "2024-04-16T00:00:00",
          "2024-04-17T00:00:00",
          "2024-04-18T00:00:00",
          "2024-04-19T00:00:00",
          "2024-04-22T00:00:00",
          "2024-04-23T00:00:00",
          "2024-04-24T00:00:00",
          "2024-04-25T00:00:00",
          "2024-04-26T00:00:00",
          "2024-04-29T00:00:00",
          "2024-04-30T00:00:00",
          "2024-05-01T00:00:00",
          "2024-05-02T00:00:00",
          "2024-05-03T00:00:00",
          "2024-05-06T00:00:00",
          "2024-05-07T00:00:00",
          "2024-05-08T00:00:00",
          "2024-05-09T00:00:00",
          "2024-05-10T00:00:00",
          "2024-05-13T00:00:00",
          "2024-05-14T00:00:00",
          "2024-05-15T00:00:00",
          "2024-05-16T00:00:00",
          "2024-05-17T00:00:00",
          "2024-05-20T00:00:00",
          "2024-05-21T00:00:00",
          "2024-05-22T00:00:00",
          "2024-05-23T00:00:00",
          "2024-05-24T00:00:00",
          "2024-05-28T00:00:00",
          "2024-05-29T00:00:00",
          "2024-05-30T00:00:00",
          "2024-05-31T00:00:00",
          "2024-06-03T00:00:00",
          "2024-06-04T00:00:00",
          "2024-06-05T00:00:00",
          "2024-06-06T00:00:00",
          "2024-06-07T00:00:00",
          "2024-06-10T00:00:00",
          "2024-06-11T00:00:00",
          "2024-06-12T00:00:00",
          "2024-06-13T00:00:00",
          "2024-06-14T00:00:00",
          "2024-06-17T00:00:00",
          "2024-06-18T00:00:00",
          "2024-06-20T00:00:00",
          "2024-06-21T00:00:00",
          "2024-06-24T00:00:00",
          "2024-06-25T00:00:00",
          "2024-06-26T00:00:00",
          "2024-06-27T00:00:00",
          "2024-06-28T00:00:00",
          "2024-07-01T00:00:00",
          "2024-07-02T00:00:00",
          "2024-07-03T00:00:00",
          "2024-07-05T00:00:00",
          "2024-07-08T00:00:00",
          "2024-07-09T00:00:00",
          "2024-07-10T00:00:00",
          "2024-07-11T00:00:00",
          "2024-07-12T00:00:00",
          "2024-07-15T00:00:00",
          "2024-07-16T00:00:00",
          "2024-07-17T00:00:00",
          "2024-07-18T00:00:00",
          "2024-07-19T00:00:00",
          "2024-07-22T00:00:00",
          "2024-07-23T00:00:00",
          "2024-07-24T00:00:00",
          "2024-07-25T00:00:00",
          "2024-07-26T00:00:00",
          "2024-07-29T00:00:00",
          "2024-07-30T00:00:00",
          "2024-07-31T00:00:00",
          "2024-08-01T00:00:00",
          "2024-08-02T00:00:00",
          "2024-08-05T00:00:00",
          "2024-08-06T00:00:00",
          "2024-08-07T00:00:00",
          "2024-08-08T00:00:00",
          "2024-08-09T00:00:00",
          "2024-08-12T00:00:00",
          "2024-08-13T00:00:00",
          "2024-08-14T00:00:00",
          "2024-08-15T00:00:00",
          "2024-08-16T00:00:00",
          "2024-08-19T00:00:00",
          "2024-08-20T00:00:00",
          "2024-08-21T00:00:00",
          "2024-08-22T00:00:00",
          "2024-08-23T00:00:00",
          "2024-08-26T00:00:00",
          "2024-08-27T00:00:00",
          "2024-08-28T00:00:00",
          "2024-08-29T00:00:00",
          "2024-08-30T00:00:00",
          "2024-09-03T00:00:00",
          "2024-09-04T00:00:00",
          "2024-09-05T00:00:00",
          "2024-09-06T00:00:00",
          "2024-09-09T00:00:00",
          "2024-09-10T00:00:00",
          "2024-09-11T00:00:00",
          "2024-09-12T00:00:00",
          "2024-09-13T00:00:00",
          "2024-09-16T00:00:00",
          "2024-09-17T00:00:00",
          "2024-09-18T00:00:00",
          "2024-09-19T00:00:00",
          "2024-09-20T00:00:00",
          "2024-09-23T00:00:00",
          "2024-09-24T00:00:00",
          "2024-09-25T00:00:00",
          "2024-09-26T00:00:00",
          "2024-09-27T00:00:00",
          "2024-09-30T00:00:00",
          "2024-10-01T00:00:00",
          "2024-10-02T00:00:00",
          "2024-10-03T00:00:00",
          "2024-10-04T00:00:00",
          "2024-10-07T00:00:00",
          "2024-10-08T00:00:00",
          "2024-10-09T00:00:00",
          "2024-10-10T00:00:00",
          "2024-10-11T00:00:00",
          "2024-10-14T00:00:00",
          "2024-10-15T00:00:00",
          "2024-10-16T00:00:00",
          "2024-10-17T00:00:00",
          "2024-10-18T00:00:00",
          "2024-10-21T00:00:00",
          "2024-10-22T00:00:00",
          "2024-10-23T00:00:00",
          "2024-10-24T00:00:00",
          "2024-10-25T00:00:00",
          "2024-10-28T00:00:00",
          "2024-10-29T00:00:00",
          "2024-10-30T00:00:00",
          "2024-10-31T00:00:00",
          "2024-11-01T00:00:00",
          "2024-11-04T00:00:00",
          "2024-11-05T00:00:00",
          "2024-11-06T00:00:00",
          "2024-11-07T00:00:00",
          "2024-11-08T00:00:00",
          "2024-11-11T00:00:00",
          "2024-11-12T00:00:00",
          "2024-11-13T00:00:00",
          "2024-11-14T00:00:00",
          "2024-11-15T00:00:00",
          "2024-11-18T00:00:00",
          "2024-11-19T00:00:00",
          "2024-11-20T00:00:00",
          "2024-11-21T00:00:00",
          "2024-11-22T00:00:00",
          "2024-11-25T00:00:00",
          "2024-11-26T00:00:00",
          "2024-11-27T00:00:00",
          "2024-11-29T00:00:00",
          "2024-12-02T00:00:00",
          "2024-12-03T00:00:00",
          "2024-12-04T00:00:00",
          "2024-12-05T00:00:00",
          "2024-12-06T00:00:00",
          "2024-12-09T00:00:00",
          "2024-12-10T00:00:00",
          "2024-12-11T00:00:00",
          "2024-12-12T00:00:00",
          "2024-12-13T00:00:00",
          "2024-12-16T00:00:00",
          "2024-12-17T00:00:00",
          "2024-12-18T00:00:00",
          "2024-12-19T00:00:00",
          "2024-12-20T00:00:00",
          "2024-12-23T00:00:00",
          "2024-12-24T00:00:00",
          "2024-12-26T00:00:00",
          "2024-12-27T00:00:00",
          "2024-12-30T00:00:00",
          "2024-12-31T00:00:00",
          "2025-01-02T00:00:00",
          "2025-01-03T00:00:00",
          "2025-01-06T00:00:00",
          "2025-01-07T00:00:00",
          "2025-01-08T00:00:00",
          "2025-01-10T00:00:00",
          "2025-01-13T00:00:00",
          "2025-01-14T00:00:00",
          "2025-01-15T00:00:00",
          "2025-01-16T00:00:00",
          "2025-01-17T00:00:00",
          "2025-01-21T00:00:00",
          "2025-01-22T00:00:00",
          "2025-01-23T00:00:00",
          "2025-01-24T00:00:00",
          "2025-01-27T00:00:00",
          "2025-01-28T00:00:00",
          "2025-01-29T00:00:00",
          "2025-01-30T00:00:00",
          "2025-01-31T00:00:00",
          "2025-02-03T00:00:00",
          "2025-02-04T00:00:00",
          "2025-02-05T00:00:00",
          "2025-02-06T00:00:00",
          "2025-02-07T00:00:00",
          "2025-02-10T00:00:00",
          "2025-02-11T00:00:00",
          "2025-02-12T00:00:00",
          "2025-02-13T00:00:00",
          "2025-02-14T00:00:00",
          "2025-02-18T00:00:00",
          "2025-02-19T00:00:00",
          "2025-02-20T00:00:00",
          "2025-02-21T00:00:00",
          "2025-02-24T00:00:00",
          "2025-02-25T00:00:00",
          "2025-02-26T00:00:00",
          "2025-02-27T00:00:00",
          "2025-02-28T00:00:00",
          "2025-03-03T00:00:00",
          "2025-03-04T00:00:00",
          "2025-03-05T00:00:00",
          "2025-03-06T00:00:00",
          "2025-03-07T00:00:00"
         ],
         "xaxis": "x",
         "y": {
          "bdata": "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",
          "dtype": "f8"
         },
         "yaxis": "y"
        }
       ],
       "layout": {
        "height": 600,
        "legend": {
         "font": {
          "size": 20
         },
         "title": {
          "text": "Symbol"
         },
         "tracegroupgap": 0
        },
        "margin": {
         "t": 60
        },
        "template": {
         "data": {
          "bar": [
           {
            "error_x": {
             "color": "#2a3f5f"
            },
            "error_y": {
             "color": "#2a3f5f"
            },
            "marker": {
             "line": {
              "color": "#E5ECF6",
              "width": 0.5
             },
             "pattern": {
              "fillmode": "overlay",
              "size": 10,
              "solidity": 0.2
             }
            },
            "type": "bar"
           }
          ],
          "barpolar": [
           {
            "marker": {
             "line": {
              "color": "#E5ECF6",
              "width": 0.5
             },
             "pattern": {
              "fillmode": "overlay",
              "size": 10,
              "solidity": 0.2
             }
            },
            "type": "barpolar"
           }
          ],
          "carpet": [
           {
            "aaxis": {
             "endlinecolor": "#2a3f5f",
             "gridcolor": "white",
             "linecolor": "white",
             "minorgridcolor": "white",
             "startlinecolor": "#2a3f5f"
            },
            "baxis": {
             "endlinecolor": "#2a3f5f",
             "gridcolor": "white",
             "linecolor": "white",
             "minorgridcolor": "white",
             "startlinecolor": "#2a3f5f"
            },
            "type": "carpet"
           }
          ],
          "choropleth": [
           {
            "colorbar": {
             "outlinewidth": 0,
             "ticks": ""
            },
            "type": "choropleth"
           }
          ],
          "contour": [
           {
            "colorbar": {
             "outlinewidth": 0,
             "ticks": ""
            },
            "colorscale": [
             [
              0,
              "#0d0887"
             ],
             [
              0.1111111111111111,
              "#46039f"
             ],
             [
              0.2222222222222222,
              "#7201a8"
             ],
             [
              0.3333333333333333,
              "#9c179e"
             ],
             [
              0.4444444444444444,
              "#bd3786"
             ],
             [
              0.5555555555555556,
              "#d8576b"
             ],
             [
              0.6666666666666666,
              "#ed7953"
             ],
             [
              0.7777777777777778,
              "#fb9f3a"
             ],
             [
              0.8888888888888888,
              "#fdca26"
             ],
             [
              1,
              "#f0f921"
             ]
            ],
            "type": "contour"
           }
          ],
          "contourcarpet": [
           {
            "colorbar": {
             "outlinewidth": 0,
             "ticks": ""
            },
            "type": "contourcarpet"
           }
          ],
          "heatmap": [
           {
            "colorbar": {
             "outlinewidth": 0,
             "ticks": ""
            },
            "colorscale": [
             [
              0,
              "#0d0887"
             ],
             [
              0.1111111111111111,
              "#46039f"
             ],
             [
              0.2222222222222222,
              "#7201a8"
             ],
             [
              0.3333333333333333,
              "#9c179e"
             ],
             [
              0.4444444444444444,
              "#bd3786"
             ],
             [
              0.5555555555555556,
              "#d8576b"
             ],
             [
              0.6666666666666666,
              "#ed7953"
             ],
             [
              0.7777777777777778,
              "#fb9f3a"
             ],
             [
              0.8888888888888888,
              "#fdca26"
             ],
             [
              1,
              "#f0f921"
             ]
            ],
            "type": "heatmap"
           }
          ],
          "histogram": [
           {
            "marker": {
             "pattern": {
              "fillmode": "overlay",
              "size": 10,
              "solidity": 0.2
             }
            },
            "type": "histogram"
           }
          ],
          "histogram2d": [
           {
            "colorbar": {
             "outlinewidth": 0,
             "ticks": ""
            },
            "colorscale": [
             [
              0,
              "#0d0887"
             ],
             [
              0.1111111111111111,
              "#46039f"
             ],
             [
              0.2222222222222222,
              "#7201a8"
             ],
             [
              0.3333333333333333,
              "#9c179e"
             ],
             [
              0.4444444444444444,
              "#bd3786"
             ],
             [
              0.5555555555555556,
              "#d8576b"
             ],
             [
              0.6666666666666666,
              "#ed7953"
             ],
             [
              0.7777777777777778,
              "#fb9f3a"
             ],
             [
              0.8888888888888888,
              "#fdca26"
             ],
             [
              1,
              "#f0f921"
             ]
            ],
            "type": "histogram2d"
           }
          ],
          "histogram2dcontour": [
           {
            "colorbar": {
             "outlinewidth": 0,
             "ticks": ""
            },
            "colorscale": [
             [
              0,
              "#0d0887"
             ],
             [
              0.1111111111111111,
              "#46039f"
             ],
             [
              0.2222222222222222,
              "#7201a8"
             ],
             [
              0.3333333333333333,
              "#9c179e"
             ],
             [
              0.4444444444444444,
              "#bd3786"
             ],
             [
              0.5555555555555556,
              "#d8576b"
             ],
             [
              0.6666666666666666,
              "#ed7953"
             ],
             [
              0.7777777777777778,
              "#fb9f3a"
             ],
             [
              0.8888888888888888,
              "#fdca26"
             ],
             [
              1,
              "#f0f921"
             ]
            ],
            "type": "histogram2dcontour"
           }
          ],
          "mesh3d": [
           {
            "colorbar": {
             "outlinewidth": 0,
             "ticks": ""
            },
            "type": "mesh3d"
           }
          ],
          "parcoords": [
           {
            "line": {
             "colorbar": {
              "outlinewidth": 0,
              "ticks": ""
             }
            },
            "type": "parcoords"
           }
          ],
          "pie": [
           {
            "automargin": true,
            "type": "pie"
           }
          ],
          "scatter": [
           {
            "fillpattern": {
             "fillmode": "overlay",
             "size": 10,
             "solidity": 0.2
            },
            "type": "scatter"
           }
          ],
          "scatter3d": [
           {
            "line": {
             "colorbar": {
              "outlinewidth": 0,
              "ticks": ""
             }
            },
            "marker": {
             "colorbar": {
              "outlinewidth": 0,
              "ticks": ""
             }
            },
            "type": "scatter3d"
           }
          ],
          "scattercarpet": [
           {
            "marker": {
             "colorbar": {
              "outlinewidth": 0,
              "ticks": ""
             }
            },
            "type": "scattercarpet"
           }
          ],
          "scattergeo": [
           {
            "marker": {
             "colorbar": {
              "outlinewidth": 0,
              "ticks": ""
             }
            },
            "type": "scattergeo"
           }
          ],
          "scattergl": [
           {
            "marker": {
             "colorbar": {
              "outlinewidth": 0,
              "ticks": ""
             }
            },
            "type": "scattergl"
           }
          ],
          "scattermap": [
           {
            "marker": {
             "colorbar": {
              "outlinewidth": 0,
              "ticks": ""
             }
            },
            "type": "scattermap"
           }
          ],
          "scattermapbox": [
           {
            "marker": {
             "colorbar": {
              "outlinewidth": 0,
              "ticks": ""
             }
            },
            "type": "scattermapbox"
           }
          ],
          "scatterpolar": [
           {
            "marker": {
             "colorbar": {
              "outlinewidth": 0,
              "ticks": ""
             }
            },
            "type": "scatterpolar"
           }
          ],
          "scatterpolargl": [
           {
            "marker": {
             "colorbar": {
              "outlinewidth": 0,
              "ticks": ""
             }
            },
            "type": "scatterpolargl"
           }
          ],
          "scatterternary": [
           {
            "marker": {
             "colorbar": {
              "outlinewidth": 0,
              "ticks": ""
             }
            },
            "type": "scatterternary"
           }
          ],
          "surface": [
           {
            "colorbar": {
             "outlinewidth": 0,
             "ticks": ""
            },
            "colorscale": [
             [
              0,
              "#0d0887"
             ],
             [
              0.1111111111111111,
              "#46039f"
             ],
             [
              0.2222222222222222,
              "#7201a8"
             ],
             [
              0.3333333333333333,
              "#9c179e"
             ],
             [
              0.4444444444444444,
              "#bd3786"
             ],
             [
              0.5555555555555556,
              "#d8576b"
             ],
             [
              0.6666666666666666,
              "#ed7953"
             ],
             [
              0.7777777777777778,
              "#fb9f3a"
             ],
             [
              0.8888888888888888,
              "#fdca26"
             ],
             [
              1,
              "#f0f921"
             ]
            ],
            "type": "surface"
           }
          ],
          "table": [
           {
            "cells": {
             "fill": {
              "color": "#EBF0F8"
             },
             "line": {
              "color": "white"
             }
            },
            "header": {
             "fill": {
              "color": "#C8D4E3"
             },
             "line": {
              "color": "white"
             }
            },
            "type": "table"
           }
          ]
         },
         "layout": {
          "annotationdefaults": {
           "arrowcolor": "#2a3f5f",
           "arrowhead": 0,
           "arrowwidth": 1
          },
          "autotypenumbers": "strict",
          "coloraxis": {
           "colorbar": {
            "outlinewidth": 0,
            "ticks": ""
           }
          },
          "colorscale": {
           "diverging": [
            [
             0,
             "#8e0152"
            ],
            [
             0.1,
             "#c51b7d"
            ],
            [
             0.2,
             "#de77ae"
            ],
            [
             0.3,
             "#f1b6da"
            ],
            [
             0.4,
             "#fde0ef"
            ],
            [
             0.5,
             "#f7f7f7"
            ],
            [
             0.6,
             "#e6f5d0"
            ],
            [
             0.7,
             "#b8e186"
            ],
            [
             0.8,
             "#7fbc41"
            ],
            [
             0.9,
             "#4d9221"
            ],
            [
             1,
             "#276419"
            ]
           ],
           "sequential": [
            [
             0,
             "#0d0887"
            ],
            [
             0.1111111111111111,
             "#46039f"
            ],
            [
             0.2222222222222222,
             "#7201a8"
            ],
            [
             0.3333333333333333,
             "#9c179e"
            ],
            [
             0.4444444444444444,
             "#bd3786"
            ],
            [
             0.5555555555555556,
             "#d8576b"
            ],
            [
             0.6666666666666666,
             "#ed7953"
            ],
            [
             0.7777777777777778,
             "#fb9f3a"
            ],
            [
             0.8888888888888888,
             "#fdca26"
            ],
            [
             1,
             "#f0f921"
            ]
           ],
           "sequentialminus": [
            [
             0,
             "#0d0887"
            ],
            [
             0.1111111111111111,
             "#46039f"
            ],
            [
             0.2222222222222222,
             "#7201a8"
            ],
            [
             0.3333333333333333,
             "#9c179e"
            ],
            [
             0.4444444444444444,
             "#bd3786"
            ],
            [
             0.5555555555555556,
             "#d8576b"
            ],
            [
             0.6666666666666666,
             "#ed7953"
            ],
            [
             0.7777777777777778,
             "#fb9f3a"
            ],
            [
             0.8888888888888888,
             "#fdca26"
            ],
            [
             1,
             "#f0f921"
            ]
           ]
          },
          "colorway": [
           "#636efa",
           "#EF553B",
           "#00cc96",
           "#ab63fa",
           "#FFA15A",
           "#19d3f3",
           "#FF6692",
           "#B6E880",
           "#FF97FF",
           "#FECB52"
          ],
          "font": {
           "color": "#2a3f5f"
          },
          "geo": {
           "bgcolor": "white",
           "lakecolor": "white",
           "landcolor": "#E5ECF6",
           "showlakes": true,
           "showland": true,
           "subunitcolor": "white"
          },
          "hoverlabel": {
           "align": "left"
          },
          "hovermode": "closest",
          "mapbox": {
           "style": "light"
          },
          "paper_bgcolor": "white",
          "plot_bgcolor": "#E5ECF6",
          "polar": {
           "angularaxis": {
            "gridcolor": "white",
            "linecolor": "white",
            "ticks": ""
           },
           "bgcolor": "#E5ECF6",
           "radialaxis": {
            "gridcolor": "white",
            "linecolor": "white",
            "ticks": ""
           }
          },
          "scene": {
           "xaxis": {
            "backgroundcolor": "#E5ECF6",
            "gridcolor": "white",
            "gridwidth": 2,
            "linecolor": "white",
            "showbackground": true,
            "ticks": "",
            "zerolinecolor": "white"
           },
           "yaxis": {
            "backgroundcolor": "#E5ECF6",
            "gridcolor": "white",
            "gridwidth": 2,
            "linecolor": "white",
            "showbackground": true,
            "ticks": "",
            "zerolinecolor": "white"
           },
           "zaxis": {
            "backgroundcolor": "#E5ECF6",
            "gridcolor": "white",
            "gridwidth": 2,
            "linecolor": "white",
            "showbackground": true,
            "ticks": "",
            "zerolinecolor": "white"
           }
          },
          "shapedefaults": {
           "line": {
            "color": "#2a3f5f"
           }
          },
          "ternary": {
           "aaxis": {
            "gridcolor": "white",
            "linecolor": "white",
            "ticks": ""
           },
           "baxis": {
            "gridcolor": "white",
            "linecolor": "white",
            "ticks": ""
           },
           "bgcolor": "#E5ECF6",
           "caxis": {
            "gridcolor": "white",
            "linecolor": "white",
            "ticks": ""
           }
          },
          "title": {
           "x": 0.05
          },
          "xaxis": {
           "automargin": true,
           "gridcolor": "white",
           "linecolor": "white",
           "ticks": "",
           "title": {
            "standoff": 15
           },
           "zerolinecolor": "white",
           "zerolinewidth": 2
          },
          "yaxis": {
           "automargin": true,
           "gridcolor": "white",
           "linecolor": "white",
           "ticks": "",
           "title": {
            "standoff": 15
           },
           "zerolinecolor": "white",
           "zerolinewidth": 2
          }
         }
        },
        "title": {
         "font": {
          "size": 24
         },
         "text": "Application Software Stocks YTD Performance Comparison",
         "x": 0.5
        },
        "xaxis": {
         "anchor": "y",
         "domain": [
          0,
          1
         ],
         "dtick": "M1",
         "tickfont": {
          "size": 20
         },
         "tickformat": "%b",
         "title": {
          "font": {
           "size": 20
          },
          "text": "Date"
         }
        },
        "yaxis": {
         "anchor": "x",
         "domain": [
          0,
          1
         ],
         "tickfont": {
          "size": 20
         },
         "tickformat": ".0%",
         "title": {
          "font": {
           "size": 20
          },
          "text": "Return"
         }
        }
       }
      }
     },
     "metadata": {},
     "output_type": "display_data"
    },
    {
     "data": {
      "application/vnd.jupyter.widget-view+json": {
       "model_id": "1174240905484f57bdfc5235569fcbf5",
       "version_major": 2,
       "version_minor": 0
      },
      "text/plain": [
       "Dropdown(description='Sub-Industry:', index=7, options=('Life Sciences Tools & Services', 'Technology Hardware…"
      ]
     },
     "metadata": {},
     "output_type": "display_data"
    }
   ],
   "source": [
    "import ipywidgets as widgets\n",
    "import plotly.express as px\n",
    "from IPython.display import display, clear_output\n",
    "\n",
    "# Create the Dropdown widget for selecting Sub-Industry for YTD plot\n",
    "sub_industry_dropdown_ytd = widgets.Dropdown(\n",
    "    options=df_long['GICS Sub-Industry'].unique(),  # Get all unique Sub-Industries\n",
    "    description='Sub-Industry:',\n",
    ")\n",
    "\n",
    "# Function to filter data, calculate start price, pct change, and plot graph\n",
    "def filter_and_plot_ytd(sub_industry):\n",
    "    # Filter the dataframe for the selected Sub-Industry\n",
    "    filtered_df0 = df_long[df_long['GICS Sub-Industry'] == sub_industry].copy()  # Use .copy() to avoid the SettingWithCopyWarning\n",
    "\n",
    "    # Get Start Price for each stock symbol\n",
    "    filtered_df0['start_price'] = filtered_df0.groupby('Symbol')['Adj Close'].transform('first')\n",
    "\n",
    "    # Get Percentage Change (Pct Change)\n",
    "    filtered_df0['pct_change'] = (filtered_df0['Adj Close'] - filtered_df0['start_price']) / filtered_df0['start_price']\n",
    "\n",
    "    # Plotting the data\n",
    "    fig0 = px.line(filtered_df0, x='Date', y='pct_change', color='Symbol', height=600)\n",
    "\n",
    "    # Adjusting the appearance of the plot\n",
    "    fig0.update_traces(line=dict(width=3))\n",
    "    fig0.update_layout(\n",
    "        title={'text': f'{sub_industry} Stocks YTD Performance Comparison', 'x': 0.5, 'font': dict(size=24)},\n",
    "        yaxis_tickfont=dict(size=20),\n",
    "        xaxis_tickfont=dict(size=20),\n",
    "        xaxis_title=dict(text='Date', font=dict(size=20)),\n",
    "        yaxis_title=dict(text='Return', font=dict(size=20)),\n",
    "        legend=dict(font=dict(size=20)),\n",
    "        yaxis_tickformat=\".0%\",  # Format y-axis as percentage\n",
    "        xaxis=dict(\n",
    "            dtick=\"M1\",  # Set x-axis ticks to each month\n",
    "            tickformat=\"%b\"  # Format x-axis tick labels as month abbreviations\n",
    "        )\n",
    "    )\n",
    "\n",
    "    # Display the plot\n",
    "    fig0.show()\n",
    "\n",
    "# Attach the filtering and plotting function to the dropdown change\n",
    "def update_ytd_plot(change):\n",
    "    # Clear the output before updating the plot (this is needed to update the plot)\n",
    "    clear_output(wait=True)\n",
    "    # Call the function to update the plot with the selected sub-industry\n",
    "    filter_and_plot_ytd(change.new)\n",
    "    # Display the dropdown again after plot is updated\n",
    "    display(sub_industry_dropdown_ytd)\n",
    "\n",
    "# Observe the change in dropdown value and trigger the update\n",
    "sub_industry_dropdown_ytd.observe(update_ytd_plot, names='value')\n",
    "\n",
    "# Display the dropdown widget\n",
    "display(sub_industry_dropdown_ytd)\n"
   ]
  },
  {
   "cell_type": "markdown",
   "metadata": {},
   "source": [
    "## Introduction to Technical Analysis 📊\n",
    "\n",
    "**Technical Analysis** 📉 is a method of evaluating and predicting the future price movements of an asset based on historical price data, trading volume, and other market indicators. Unlike fundamental analysis, which focuses on the intrinsic value of an asset, technical analysis primarily relies on charts and patterns to assess market behavior.\n",
    "\n",
    "### Key Concepts in Technical Analysis:\n",
    "- **Charts** 📈: The foundation of technical analysis is charting. Common chart types include line charts, bar charts, and candlestick charts.\n",
    "- **Trends** 🔽🔼: Identifying trends (uptrend, downtrend, or sideways) is essential in technical analysis. Understanding market sentiment is key to making predictions.\n",
    "- **Support and Resistance** 🔒📈: Support refers to a price level where an asset tends to find buying interest, while resistance is a level where selling interest is likely to emerge.\n",
    "- **Indicators and Oscillators** 📉📊: These are mathematical calculations based on the asset’s price and volume. Examples include Moving Averages, Relative Strength Index (RSI), Bollinger Bands, and MACD.\n",
    "\n",
    "In technical analysis, it is believed that all known information is already reflected in the price of an asset, and therefore, historical price patterns can help forecast future price movements.\n",
    "\n",
    "In the following section, we will explore one technical indicator (RSI) and how they can be used to assess and predict stock market trends.\n"
   ]
  },
  {
   "cell_type": "markdown",
   "metadata": {},
   "source": [
    "### 📉 **Relative Strength Index (RSI) Explanation**\n",
    "\n",
    "The **Relative Strength Index (RSI)** is a momentum oscillator that measures the speed and change of price movements. RSI is used to identify overbought or oversold conditions in a market, which can signal potential price reversals. \n",
    "\n",
    "#### **RSI Formula**\n",
    "\n",
    "The formula for calculating the RSI is as follows:\n",
    "\n",
    "$\n",
    "RSI = 100 - \\frac{100}{1 + RS}\n",
    "$\n",
    "\n",
    "Where:\n",
    "- $ RS = \\frac{\\text{Average Gain}}{\\text{Average Loss}} $\n",
    "\n",
    "- **Average Gain** is the average of the gains over a specified period (default is 14 periods).\n",
    "- **Average Loss** is the average of the losses over the same period.\n",
    "\n",
    "#### **Steps to Calculate RSI:**\n",
    "1. **Calculate the daily price changes**:\n",
    "   $\n",
    "   \\Delta P_t = P_t - P_{t-1}\n",
    "   $\n",
    "2. **Separate the gains and losses**:\n",
    "   - If \\($\\Delta P_t > 0$\\), the gain is \\($\\Delta P_t$\\), otherwise, the loss is \\($-\\Delta P_t$\\).\n",
    "3. **Calculate the average gains and losses** over the window (default 14 periods).\n",
    "4. **Calculate the relative strength (RS)** as the ratio of the average gain to the average loss.\n",
    "5. **Apply the RSI formula**.\n",
    "\n",
    "The RSI typically uses a **14-day window** by default.\n",
    "\n",
    "---\n",
    "\n",
    "### 📊 **Code Example for RSI Calculation**\n",
    "\n",
    "The following Python code snippet demonstrates how to compute the RSI for a stock using the **`ta`** library:\n",
    "\n",
    "```python\n",
    "import ta\n",
    "\n",
    "# Select the QCOM stock data\n",
    "df_QCOM = df['QCOM']\n",
    "\n",
    "# Calculate RSI with a 14-day window\n",
    "df_QCOM['RSI'] = ta.momentum.RSIIndicator(df_QCOM['Adj Close'], window=14).rsi() #the default window length is also usually 14\n",
    "```\n",
    "Below is a dynamic Figure that displays the top 5 companies, ordered by RSI, once a sub-industry has been selected."
   ]
  },
  {
   "cell_type": "code",
   "execution_count": 86,
   "metadata": {},
   "outputs": [
    {
     "name": "stderr",
     "output_type": "stream",
     "text": [
      "/var/folders/gm/fn54mj5d4b51_7l5j667v4n00000gn/T/ipykernel_1423/3534313332.py:15: DeprecationWarning:\n",
      "\n",
      "DataFrameGroupBy.apply operated on the grouping columns. This behavior is deprecated, and in a future version of pandas the grouping columns will be excluded from the operation. Either pass `include_groups=False` to exclude the groupings or explicitly select the grouping columns after groupby to silence this warning.\n",
      "\n"
     ]
    },
    {
     "data": {
      "application/vnd.plotly.v1+json": {
       "config": {
        "plotlyServerURL": "https://plot.ly"
       },
       "data": [
        {
         "hovertemplate": "Symbol=%{y}<br>rsi=%{x}<extra></extra>",
         "legendgroup": "ADM",
         "marker": {
          "color": "#636efa",
          "pattern": {
           "shape": ""
          }
         },
         "name": "ADM",
         "orientation": "h",
         "showlegend": true,
         "textfont": {
          "size": 16
         },
         "textposition": "inside",
         "texttemplate": "%{y} %{x:.2f}",
         "type": "bar",
         "x": {
          "bdata": "FiQu4fCRTUA=",
          "dtype": "f8"
         },
         "xaxis": "x",
         "y": [
          "ADM"
         ],
         "yaxis": "y"
        },
        {
         "hovertemplate": "Symbol=%{y}<br>rsi=%{x}<extra></extra>",
         "legendgroup": "BG",
         "marker": {
          "color": "#EF553B",
          "pattern": {
           "shape": ""
          }
         },
         "name": "BG",
         "orientation": "h",
         "showlegend": true,
         "textfont": {
          "size": 16
         },
         "textposition": "inside",
         "texttemplate": "%{y} %{x:.2f}",
         "type": "bar",
         "x": {
          "bdata": "v6oGIHpkTUA=",
          "dtype": "f8"
         },
         "xaxis": "x",
         "y": [
          "BG"
         ],
         "yaxis": "y"
        }
       ],
       "layout": {
        "barmode": "relative",
        "height": 800,
        "legend": {
         "title": {
          "text": "Symbol"
         },
         "tracegroupgap": 0
        },
        "template": {
         "data": {
          "bar": [
           {
            "error_x": {
             "color": "#2a3f5f"
            },
            "error_y": {
             "color": "#2a3f5f"
            },
            "marker": {
             "line": {
              "color": "#E5ECF6",
              "width": 0.5
             },
             "pattern": {
              "fillmode": "overlay",
              "size": 10,
              "solidity": 0.2
             }
            },
            "type": "bar"
           }
          ],
          "barpolar": [
           {
            "marker": {
             "line": {
              "color": "#E5ECF6",
              "width": 0.5
             },
             "pattern": {
              "fillmode": "overlay",
              "size": 10,
              "solidity": 0.2
             }
            },
            "type": "barpolar"
           }
          ],
          "carpet": [
           {
            "aaxis": {
             "endlinecolor": "#2a3f5f",
             "gridcolor": "white",
             "linecolor": "white",
             "minorgridcolor": "white",
             "startlinecolor": "#2a3f5f"
            },
            "baxis": {
             "endlinecolor": "#2a3f5f",
             "gridcolor": "white",
             "linecolor": "white",
             "minorgridcolor": "white",
             "startlinecolor": "#2a3f5f"
            },
            "type": "carpet"
           }
          ],
          "choropleth": [
           {
            "colorbar": {
             "outlinewidth": 0,
             "ticks": ""
            },
            "type": "choropleth"
           }
          ],
          "contour": [
           {
            "colorbar": {
             "outlinewidth": 0,
             "ticks": ""
            },
            "colorscale": [
             [
              0,
              "#0d0887"
             ],
             [
              0.1111111111111111,
              "#46039f"
             ],
             [
              0.2222222222222222,
              "#7201a8"
             ],
             [
              0.3333333333333333,
              "#9c179e"
             ],
             [
              0.4444444444444444,
              "#bd3786"
             ],
             [
              0.5555555555555556,
              "#d8576b"
             ],
             [
              0.6666666666666666,
              "#ed7953"
             ],
             [
              0.7777777777777778,
              "#fb9f3a"
             ],
             [
              0.8888888888888888,
              "#fdca26"
             ],
             [
              1,
              "#f0f921"
             ]
            ],
            "type": "contour"
           }
          ],
          "contourcarpet": [
           {
            "colorbar": {
             "outlinewidth": 0,
             "ticks": ""
            },
            "type": "contourcarpet"
           }
          ],
          "heatmap": [
           {
            "colorbar": {
             "outlinewidth": 0,
             "ticks": ""
            },
            "colorscale": [
             [
              0,
              "#0d0887"
             ],
             [
              0.1111111111111111,
              "#46039f"
             ],
             [
              0.2222222222222222,
              "#7201a8"
             ],
             [
              0.3333333333333333,
              "#9c179e"
             ],
             [
              0.4444444444444444,
              "#bd3786"
             ],
             [
              0.5555555555555556,
              "#d8576b"
             ],
             [
              0.6666666666666666,
              "#ed7953"
             ],
             [
              0.7777777777777778,
              "#fb9f3a"
             ],
             [
              0.8888888888888888,
              "#fdca26"
             ],
             [
              1,
              "#f0f921"
             ]
            ],
            "type": "heatmap"
           }
          ],
          "histogram": [
           {
            "marker": {
             "pattern": {
              "fillmode": "overlay",
              "size": 10,
              "solidity": 0.2
             }
            },
            "type": "histogram"
           }
          ],
          "histogram2d": [
           {
            "colorbar": {
             "outlinewidth": 0,
             "ticks": ""
            },
            "colorscale": [
             [
              0,
              "#0d0887"
             ],
             [
              0.1111111111111111,
              "#46039f"
             ],
             [
              0.2222222222222222,
              "#7201a8"
             ],
             [
              0.3333333333333333,
              "#9c179e"
             ],
             [
              0.4444444444444444,
              "#bd3786"
             ],
             [
              0.5555555555555556,
              "#d8576b"
             ],
             [
              0.6666666666666666,
              "#ed7953"
             ],
             [
              0.7777777777777778,
              "#fb9f3a"
             ],
             [
              0.8888888888888888,
              "#fdca26"
             ],
             [
              1,
              "#f0f921"
             ]
            ],
            "type": "histogram2d"
           }
          ],
          "histogram2dcontour": [
           {
            "colorbar": {
             "outlinewidth": 0,
             "ticks": ""
            },
            "colorscale": [
             [
              0,
              "#0d0887"
             ],
             [
              0.1111111111111111,
              "#46039f"
             ],
             [
              0.2222222222222222,
              "#7201a8"
             ],
             [
              0.3333333333333333,
              "#9c179e"
             ],
             [
              0.4444444444444444,
              "#bd3786"
             ],
             [
              0.5555555555555556,
              "#d8576b"
             ],
             [
              0.6666666666666666,
              "#ed7953"
             ],
             [
              0.7777777777777778,
              "#fb9f3a"
             ],
             [
              0.8888888888888888,
              "#fdca26"
             ],
             [
              1,
              "#f0f921"
             ]
            ],
            "type": "histogram2dcontour"
           }
          ],
          "mesh3d": [
           {
            "colorbar": {
             "outlinewidth": 0,
             "ticks": ""
            },
            "type": "mesh3d"
           }
          ],
          "parcoords": [
           {
            "line": {
             "colorbar": {
              "outlinewidth": 0,
              "ticks": ""
             }
            },
            "type": "parcoords"
           }
          ],
          "pie": [
           {
            "automargin": true,
            "type": "pie"
           }
          ],
          "scatter": [
           {
            "fillpattern": {
             "fillmode": "overlay",
             "size": 10,
             "solidity": 0.2
            },
            "type": "scatter"
           }
          ],
          "scatter3d": [
           {
            "line": {
             "colorbar": {
              "outlinewidth": 0,
              "ticks": ""
             }
            },
            "marker": {
             "colorbar": {
              "outlinewidth": 0,
              "ticks": ""
             }
            },
            "type": "scatter3d"
           }
          ],
          "scattercarpet": [
           {
            "marker": {
             "colorbar": {
              "outlinewidth": 0,
              "ticks": ""
             }
            },
            "type": "scattercarpet"
           }
          ],
          "scattergeo": [
           {
            "marker": {
             "colorbar": {
              "outlinewidth": 0,
              "ticks": ""
             }
            },
            "type": "scattergeo"
           }
          ],
          "scattergl": [
           {
            "marker": {
             "colorbar": {
              "outlinewidth": 0,
              "ticks": ""
             }
            },
            "type": "scattergl"
           }
          ],
          "scattermap": [
           {
            "marker": {
             "colorbar": {
              "outlinewidth": 0,
              "ticks": ""
             }
            },
            "type": "scattermap"
           }
          ],
          "scattermapbox": [
           {
            "marker": {
             "colorbar": {
              "outlinewidth": 0,
              "ticks": ""
             }
            },
            "type": "scattermapbox"
           }
          ],
          "scatterpolar": [
           {
            "marker": {
             "colorbar": {
              "outlinewidth": 0,
              "ticks": ""
             }
            },
            "type": "scatterpolar"
           }
          ],
          "scatterpolargl": [
           {
            "marker": {
             "colorbar": {
              "outlinewidth": 0,
              "ticks": ""
             }
            },
            "type": "scatterpolargl"
           }
          ],
          "scatterternary": [
           {
            "marker": {
             "colorbar": {
              "outlinewidth": 0,
              "ticks": ""
             }
            },
            "type": "scatterternary"
           }
          ],
          "surface": [
           {
            "colorbar": {
             "outlinewidth": 0,
             "ticks": ""
            },
            "colorscale": [
             [
              0,
              "#0d0887"
             ],
             [
              0.1111111111111111,
              "#46039f"
             ],
             [
              0.2222222222222222,
              "#7201a8"
             ],
             [
              0.3333333333333333,
              "#9c179e"
             ],
             [
              0.4444444444444444,
              "#bd3786"
             ],
             [
              0.5555555555555556,
              "#d8576b"
             ],
             [
              0.6666666666666666,
              "#ed7953"
             ],
             [
              0.7777777777777778,
              "#fb9f3a"
             ],
             [
              0.8888888888888888,
              "#fdca26"
             ],
             [
              1,
              "#f0f921"
             ]
            ],
            "type": "surface"
           }
          ],
          "table": [
           {
            "cells": {
             "fill": {
              "color": "#EBF0F8"
             },
             "line": {
              "color": "white"
             }
            },
            "header": {
             "fill": {
              "color": "#C8D4E3"
             },
             "line": {
              "color": "white"
             }
            },
            "type": "table"
           }
          ]
         },
         "layout": {
          "annotationdefaults": {
           "arrowcolor": "#2a3f5f",
           "arrowhead": 0,
           "arrowwidth": 1
          },
          "autotypenumbers": "strict",
          "coloraxis": {
           "colorbar": {
            "outlinewidth": 0,
            "ticks": ""
           }
          },
          "colorscale": {
           "diverging": [
            [
             0,
             "#8e0152"
            ],
            [
             0.1,
             "#c51b7d"
            ],
            [
             0.2,
             "#de77ae"
            ],
            [
             0.3,
             "#f1b6da"
            ],
            [
             0.4,
             "#fde0ef"
            ],
            [
             0.5,
             "#f7f7f7"
            ],
            [
             0.6,
             "#e6f5d0"
            ],
            [
             0.7,
             "#b8e186"
            ],
            [
             0.8,
             "#7fbc41"
            ],
            [
             0.9,
             "#4d9221"
            ],
            [
             1,
             "#276419"
            ]
           ],
           "sequential": [
            [
             0,
             "#0d0887"
            ],
            [
             0.1111111111111111,
             "#46039f"
            ],
            [
             0.2222222222222222,
             "#7201a8"
            ],
            [
             0.3333333333333333,
             "#9c179e"
            ],
            [
             0.4444444444444444,
             "#bd3786"
            ],
            [
             0.5555555555555556,
             "#d8576b"
            ],
            [
             0.6666666666666666,
             "#ed7953"
            ],
            [
             0.7777777777777778,
             "#fb9f3a"
            ],
            [
             0.8888888888888888,
             "#fdca26"
            ],
            [
             1,
             "#f0f921"
            ]
           ],
           "sequentialminus": [
            [
             0,
             "#0d0887"
            ],
            [
             0.1111111111111111,
             "#46039f"
            ],
            [
             0.2222222222222222,
             "#7201a8"
            ],
            [
             0.3333333333333333,
             "#9c179e"
            ],
            [
             0.4444444444444444,
             "#bd3786"
            ],
            [
             0.5555555555555556,
             "#d8576b"
            ],
            [
             0.6666666666666666,
             "#ed7953"
            ],
            [
             0.7777777777777778,
             "#fb9f3a"
            ],
            [
             0.8888888888888888,
             "#fdca26"
            ],
            [
             1,
             "#f0f921"
            ]
           ]
          },
          "colorway": [
           "#636efa",
           "#EF553B",
           "#00cc96",
           "#ab63fa",
           "#FFA15A",
           "#19d3f3",
           "#FF6692",
           "#B6E880",
           "#FF97FF",
           "#FECB52"
          ],
          "font": {
           "color": "#2a3f5f"
          },
          "geo": {
           "bgcolor": "white",
           "lakecolor": "white",
           "landcolor": "#E5ECF6",
           "showlakes": true,
           "showland": true,
           "subunitcolor": "white"
          },
          "hoverlabel": {
           "align": "left"
          },
          "hovermode": "closest",
          "mapbox": {
           "style": "light"
          },
          "paper_bgcolor": "white",
          "plot_bgcolor": "#E5ECF6",
          "polar": {
           "angularaxis": {
            "gridcolor": "white",
            "linecolor": "white",
            "ticks": ""
           },
           "bgcolor": "#E5ECF6",
           "radialaxis": {
            "gridcolor": "white",
            "linecolor": "white",
            "ticks": ""
           }
          },
          "scene": {
           "xaxis": {
            "backgroundcolor": "#E5ECF6",
            "gridcolor": "white",
            "gridwidth": 2,
            "linecolor": "white",
            "showbackground": true,
            "ticks": "",
            "zerolinecolor": "white"
           },
           "yaxis": {
            "backgroundcolor": "#E5ECF6",
            "gridcolor": "white",
            "gridwidth": 2,
            "linecolor": "white",
            "showbackground": true,
            "ticks": "",
            "zerolinecolor": "white"
           },
           "zaxis": {
            "backgroundcolor": "#E5ECF6",
            "gridcolor": "white",
            "gridwidth": 2,
            "linecolor": "white",
            "showbackground": true,
            "ticks": "",
            "zerolinecolor": "white"
           }
          },
          "shapedefaults": {
           "line": {
            "color": "#2a3f5f"
           }
          },
          "ternary": {
           "aaxis": {
            "gridcolor": "white",
            "linecolor": "white",
            "ticks": ""
           },
           "baxis": {
            "gridcolor": "white",
            "linecolor": "white",
            "ticks": ""
           },
           "bgcolor": "#E5ECF6",
           "caxis": {
            "gridcolor": "white",
            "linecolor": "white",
            "ticks": ""
           }
          },
          "title": {
           "x": 0.05
          },
          "xaxis": {
           "automargin": true,
           "gridcolor": "white",
           "linecolor": "white",
           "ticks": "",
           "title": {
            "standoff": 15
           },
           "zerolinecolor": "white",
           "zerolinewidth": 2
          },
          "yaxis": {
           "automargin": true,
           "gridcolor": "white",
           "linecolor": "white",
           "ticks": "",
           "title": {
            "standoff": 15
           },
           "zerolinecolor": "white",
           "zerolinewidth": 2
          }
         }
        },
        "title": {
         "font": {
          "color": "blue",
          "size": 28
         },
         "text": "Top 5 RSI Stocks in Agricultural Products & Services",
         "x": 0.5
        },
        "width": 800,
        "xaxis": {
         "anchor": "y",
         "domain": [
          0,
          1
         ],
         "tickfont": {
          "size": 26
         },
         "title": {
          "font": {
           "size": 26
          },
          "text": "RSI"
         }
        },
        "yaxis": {
         "anchor": "x",
         "automargin": true,
         "categoryarray": [
          "BG",
          "ADM"
         ],
         "categoryorder": "array",
         "domain": [
          0,
          1
         ],
         "tickfont": {
          "size": 26
         },
         "tickmode": "linear",
         "title": {
          "font": {
           "size": 26
          },
          "text": "Stock Symbol"
         }
        }
       }
      }
     },
     "metadata": {},
     "output_type": "display_data"
    },
    {
     "data": {
      "application/vnd.jupyter.widget-view+json": {
       "model_id": "f827b245eea6494ba26dd81107664397",
       "version_major": 2,
       "version_minor": 0
      },
      "text/plain": [
       "Dropdown(description='Sub-Industry:', index=9, options=('Life Sciences Tools & Services', 'Technology Hardware…"
      ]
     },
     "metadata": {},
     "output_type": "display_data"
    }
   ],
   "source": [
    "import ipywidgets as widgets\n",
    "import plotly.express as px\n",
    "import ta\n",
    "from IPython.display import display, clear_output\n",
    "\n",
    "# Dropdown for Sub-Industry selection\n",
    "sub_industry_dropdown = widgets.Dropdown(\n",
    "    options=df_long['GICS Sub-Industry'].unique(),  \n",
    "    description='Sub-Industry:',\n",
    ")\n",
    "\n",
    "# Function to filter data, calculate RSI, and plot\n",
    "def filter_and_plot_data(sub_industry):\n",
    "    df_sub = df_long[df_long['GICS Sub-Industry'] == sub_industry]\n",
    "    df_rsi = df_sub.groupby('Symbol').apply(lambda l: ta.momentum.RSIIndicator(l['Adj Close']).rsi().iloc[-1]).T.sort_values().to_frame('rsi')# default RSI is always 14 days\n",
    "    top_5_rsi = df_rsi.nlargest(5, 'rsi')\n",
    "\n",
    "    # Plot\n",
    "    fig = px.bar(top_5_rsi.reset_index(), y='Symbol', x='rsi', color='Symbol', height=1200, \n",
    "                 title=f'Top 5 RSI Stocks in {sub_industry}')\n",
    "    fig.update_traces(texttemplate='%{y} %{x:.2f}', textposition='inside', textfont=dict(size=16))\n",
    "    fig.update_layout(\n",
    "        height=800, width=800,\n",
    "        title={'text': f'Top 5 RSI Stocks in {sub_industry}', 'x': 0.5, 'font': dict(size=28, color='blue')},\n",
    "        yaxis=dict(automargin=True, tickmode='linear', tickfont=dict(size=26)),\n",
    "        xaxis_tickfont=dict(size=26),\n",
    "        xaxis_title=dict(text=\"RSI\", font=dict(size=26)),\n",
    "        yaxis_title=dict(text=\"Stock Symbol\", font=dict(size=26)),\n",
    "    )\n",
    "    fig.show()\n",
    "\n",
    "# Update function for dropdown\n",
    "def update_plot(change):\n",
    "    clear_output(wait=True)\n",
    "    filter_and_plot_data(change.new)\n",
    "    display(sub_industry_dropdown)\n",
    "\n",
    "# Observe dropdown change\n",
    "sub_industry_dropdown.observe(update_plot, names='value')\n",
    "\n",
    "# Display dropdown\n",
    "display(sub_industry_dropdown)\n"
   ]
  },
  {
   "cell_type": "markdown",
   "metadata": {},
   "source": [
    "# 📊 RSI Example: Hewlett Packard Enterprise (HPE) Stocks 🏢\n",
    "\n",
    "As an example of how RSI works, let's apply it to **Hewlett Packard Enterprise** stocks. RSI helps us identify whether a stock is overbought or oversold. \n",
    "\n",
    "We will calculate the **latest RSI value** for Hewlett Packard Enterprise and analyze its performance based on the momentum indicator. 📉📈\n"
   ]
  },
  {
   "cell_type": "code",
   "execution_count": 90,
   "metadata": {},
   "outputs": [
    {
     "data": {
      "text/html": [
       "<div>\n",
       "<style scoped>\n",
       "    .dataframe tbody tr th:only-of-type {\n",
       "        vertical-align: middle;\n",
       "    }\n",
       "\n",
       "    .dataframe tbody tr th {\n",
       "        vertical-align: top;\n",
       "    }\n",
       "\n",
       "    .dataframe thead th {\n",
       "        text-align: right;\n",
       "    }\n",
       "</style>\n",
       "<table border=\"1\" class=\"dataframe\">\n",
       "  <thead>\n",
       "    <tr style=\"text-align: right;\">\n",
       "      <th></th>\n",
       "      <th>Adj Close</th>\n",
       "      <th>RSI</th>\n",
       "    </tr>\n",
       "    <tr>\n",
       "      <th>Date</th>\n",
       "      <th></th>\n",
       "      <th></th>\n",
       "    </tr>\n",
       "  </thead>\n",
       "  <tbody>\n",
       "    <tr>\n",
       "      <th>2024-03-08</th>\n",
       "      <td>17.516361</td>\n",
       "      <td>NaN</td>\n",
       "    </tr>\n",
       "    <tr>\n",
       "      <th>2024-03-11</th>\n",
       "      <td>17.565046</td>\n",
       "      <td>NaN</td>\n",
       "    </tr>\n",
       "    <tr>\n",
       "      <th>2024-03-12</th>\n",
       "      <td>17.574781</td>\n",
       "      <td>NaN</td>\n",
       "    </tr>\n",
       "    <tr>\n",
       "      <th>2024-03-13</th>\n",
       "      <td>17.428728</td>\n",
       "      <td>NaN</td>\n",
       "    </tr>\n",
       "    <tr>\n",
       "      <th>2024-03-14</th>\n",
       "      <td>17.193340</td>\n",
       "      <td>NaN</td>\n",
       "    </tr>\n",
       "    <tr>\n",
       "      <th>...</th>\n",
       "      <td>...</td>\n",
       "      <td>...</td>\n",
       "    </tr>\n",
       "    <tr>\n",
       "      <th>2025-03-03</th>\n",
       "      <td>19.030001</td>\n",
       "      <td>27.067950</td>\n",
       "    </tr>\n",
       "    <tr>\n",
       "      <th>2025-03-04</th>\n",
       "      <td>18.840000</td>\n",
       "      <td>25.966371</td>\n",
       "    </tr>\n",
       "    <tr>\n",
       "      <th>2025-03-05</th>\n",
       "      <td>18.889999</td>\n",
       "      <td>26.810487</td>\n",
       "    </tr>\n",
       "    <tr>\n",
       "      <th>2025-03-06</th>\n",
       "      <td>17.959999</td>\n",
       "      <td>21.825707</td>\n",
       "    </tr>\n",
       "    <tr>\n",
       "      <th>2025-03-07</th>\n",
       "      <td>15.810000</td>\n",
       "      <td>14.919546</td>\n",
       "    </tr>\n",
       "  </tbody>\n",
       "</table>\n",
       "<p>250 rows × 2 columns</p>\n",
       "</div>"
      ],
      "text/plain": [
       "            Adj Close        RSI\n",
       "Date                            \n",
       "2024-03-08  17.516361        NaN\n",
       "2024-03-11  17.565046        NaN\n",
       "2024-03-12  17.574781        NaN\n",
       "2024-03-13  17.428728        NaN\n",
       "2024-03-14  17.193340        NaN\n",
       "...               ...        ...\n",
       "2025-03-03  19.030001  27.067950\n",
       "2025-03-04  18.840000  25.966371\n",
       "2025-03-05  18.889999  26.810487\n",
       "2025-03-06  17.959999  21.825707\n",
       "2025-03-07  15.810000  14.919546\n",
       "\n",
       "[250 rows x 2 columns]"
      ]
     },
     "execution_count": 90,
     "metadata": {},
     "output_type": "execute_result"
    }
   ],
   "source": [
    "# Select the 'HPE' column and rename it to 'Adj Close'\n",
    "df_HPE = df['HPE'].to_frame()  # Convert to DataFrame\n",
    "df_HPE.rename(columns={'HPE': 'Adj Close'}, inplace=True)\n",
    "\n",
    "# Calculate RSI for the 'Adj Close' column\n",
    "df_HPE['RSI'] = ta.momentum.RSIIndicator(df_HPE['Adj Close'], window=14).rsi()  # default RSI is 14 days\n",
    "\n",
    "# Display the result\n",
    "df_HPE"
   ]
  },
  {
   "cell_type": "code",
   "execution_count": 91,
   "metadata": {},
   "outputs": [],
   "source": [
    "df_HPE['RSI_BECAME_OVERSOLD'] = (df_HPE['RSI'] < 30) & (df_HPE['RSI'].shift(1) > 30 )\n"
   ]
  },
  {
   "cell_type": "code",
   "execution_count": 89,
   "metadata": {},
   "outputs": [
    {
     "data": {
      "application/vnd.plotly.v1+json": {
       "config": {
        "plotlyServerURL": "https://plot.ly"
       },
       "data": [
        {
         "hovertemplate": "metric=Adj Close<br>Date=%{x}<br>value=%{y}<extra></extra>",
         "legendgroup": "Adj Close",
         "line": {
          "color": "#636efa",
          "dash": "solid"
         },
         "marker": {
          "symbol": "circle"
         },
         "mode": "lines",
         "name": "Adj Close",
         "orientation": "v",
         "showlegend": true,
         "type": "scatter",
         "x": [
          "2024-03-08T00:00:00.000000000",
          "2024-03-11T00:00:00.000000000",
          "2024-03-12T00:00:00.000000000",
          "2024-03-13T00:00:00.000000000",
          "2024-03-14T00:00:00.000000000",
          "2024-03-15T00:00:00.000000000",
          "2024-03-18T00:00:00.000000000",
          "2024-03-19T00:00:00.000000000",
          "2024-03-20T00:00:00.000000000",
          "2024-03-21T00:00:00.000000000",
          "2024-03-22T00:00:00.000000000",
          "2024-03-25T00:00:00.000000000",
          "2024-03-26T00:00:00.000000000",
          "2024-03-27T00:00:00.000000000",
          "2024-03-28T00:00:00.000000000",
          "2024-04-01T00:00:00.000000000",
          "2024-04-02T00:00:00.000000000",
          "2024-04-03T00:00:00.000000000",
          "2024-04-04T00:00:00.000000000",
          "2024-04-05T00:00:00.000000000",
          "2024-04-08T00:00:00.000000000",
          "2024-04-09T00:00:00.000000000",
          "2024-04-10T00:00:00.000000000",
          "2024-04-11T00:00:00.000000000",
          "2024-04-12T00:00:00.000000000",
          "2024-04-15T00:00:00.000000000",
          "2024-04-16T00:00:00.000000000",
          "2024-04-17T00:00:00.000000000",
          "2024-04-18T00:00:00.000000000",
          "2024-04-19T00:00:00.000000000",
          "2024-04-22T00:00:00.000000000",
          "2024-04-23T00:00:00.000000000",
          "2024-04-24T00:00:00.000000000",
          "2024-04-25T00:00:00.000000000",
          "2024-04-26T00:00:00.000000000",
          "2024-04-29T00:00:00.000000000",
          "2024-04-30T00:00:00.000000000",
          "2024-05-01T00:00:00.000000000",
          "2024-05-02T00:00:00.000000000",
          "2024-05-03T00:00:00.000000000",
          "2024-05-06T00:00:00.000000000",
          "2024-05-07T00:00:00.000000000",
          "2024-05-08T00:00:00.000000000",
          "2024-05-09T00:00:00.000000000",
          "2024-05-10T00:00:00.000000000",
          "2024-05-13T00:00:00.000000000",
          "2024-05-14T00:00:00.000000000",
          "2024-05-15T00:00:00.000000000",
          "2024-05-16T00:00:00.000000000",
          "2024-05-17T00:00:00.000000000",
          "2024-05-20T00:00:00.000000000",
          "2024-05-21T00:00:00.000000000",
          "2024-05-22T00:00:00.000000000",
          "2024-05-23T00:00:00.000000000",
          "2024-05-24T00:00:00.000000000",
          "2024-05-28T00:00:00.000000000",
          "2024-05-29T00:00:00.000000000",
          "2024-05-30T00:00:00.000000000",
          "2024-05-31T00:00:00.000000000",
          "2024-06-03T00:00:00.000000000",
          "2024-06-04T00:00:00.000000000",
          "2024-06-05T00:00:00.000000000",
          "2024-06-06T00:00:00.000000000",
          "2024-06-07T00:00:00.000000000",
          "2024-06-10T00:00:00.000000000",
          "2024-06-11T00:00:00.000000000",
          "2024-06-12T00:00:00.000000000",
          "2024-06-13T00:00:00.000000000",
          "2024-06-14T00:00:00.000000000",
          "2024-06-17T00:00:00.000000000",
          "2024-06-18T00:00:00.000000000",
          "2024-06-20T00:00:00.000000000",
          "2024-06-21T00:00:00.000000000",
          "2024-06-24T00:00:00.000000000",
          "2024-06-25T00:00:00.000000000",
          "2024-06-26T00:00:00.000000000",
          "2024-06-27T00:00:00.000000000",
          "2024-06-28T00:00:00.000000000",
          "2024-07-01T00:00:00.000000000",
          "2024-07-02T00:00:00.000000000",
          "2024-07-03T00:00:00.000000000",
          "2024-07-05T00:00:00.000000000",
          "2024-07-08T00:00:00.000000000",
          "2024-07-09T00:00:00.000000000",
          "2024-07-10T00:00:00.000000000",
          "2024-07-11T00:00:00.000000000",
          "2024-07-12T00:00:00.000000000",
          "2024-07-15T00:00:00.000000000",
          "2024-07-16T00:00:00.000000000",
          "2024-07-17T00:00:00.000000000",
          "2024-07-18T00:00:00.000000000",
          "2024-07-19T00:00:00.000000000",
          "2024-07-22T00:00:00.000000000",
          "2024-07-23T00:00:00.000000000",
          "2024-07-24T00:00:00.000000000",
          "2024-07-25T00:00:00.000000000",
          "2024-07-26T00:00:00.000000000",
          "2024-07-29T00:00:00.000000000",
          "2024-07-30T00:00:00.000000000",
          "2024-07-31T00:00:00.000000000",
          "2024-08-01T00:00:00.000000000",
          "2024-08-02T00:00:00.000000000",
          "2024-08-05T00:00:00.000000000",
          "2024-08-06T00:00:00.000000000",
          "2024-08-07T00:00:00.000000000",
          "2024-08-08T00:00:00.000000000",
          "2024-08-09T00:00:00.000000000",
          "2024-08-12T00:00:00.000000000",
          "2024-08-13T00:00:00.000000000",
          "2024-08-14T00:00:00.000000000",
          "2024-08-15T00:00:00.000000000",
          "2024-08-16T00:00:00.000000000",
          "2024-08-19T00:00:00.000000000",
          "2024-08-20T00:00:00.000000000",
          "2024-08-21T00:00:00.000000000",
          "2024-08-22T00:00:00.000000000",
          "2024-08-23T00:00:00.000000000",
          "2024-08-26T00:00:00.000000000",
          "2024-08-27T00:00:00.000000000",
          "2024-08-28T00:00:00.000000000",
          "2024-08-29T00:00:00.000000000",
          "2024-08-30T00:00:00.000000000",
          "2024-09-03T00:00:00.000000000",
          "2024-09-04T00:00:00.000000000",
          "2024-09-05T00:00:00.000000000",
          "2024-09-06T00:00:00.000000000",
          "2024-09-09T00:00:00.000000000",
          "2024-09-10T00:00:00.000000000",
          "2024-09-11T00:00:00.000000000",
          "2024-09-12T00:00:00.000000000",
          "2024-09-13T00:00:00.000000000",
          "2024-09-16T00:00:00.000000000",
          "2024-09-17T00:00:00.000000000",
          "2024-09-18T00:00:00.000000000",
          "2024-09-19T00:00:00.000000000",
          "2024-09-20T00:00:00.000000000",
          "2024-09-23T00:00:00.000000000",
          "2024-09-24T00:00:00.000000000",
          "2024-09-25T00:00:00.000000000",
          "2024-09-26T00:00:00.000000000",
          "2024-09-27T00:00:00.000000000",
          "2024-09-30T00:00:00.000000000",
          "2024-10-01T00:00:00.000000000",
          "2024-10-02T00:00:00.000000000",
          "2024-10-03T00:00:00.000000000",
          "2024-10-04T00:00:00.000000000",
          "2024-10-07T00:00:00.000000000",
          "2024-10-08T00:00:00.000000000",
          "2024-10-09T00:00:00.000000000",
          "2024-10-10T00:00:00.000000000",
          "2024-10-11T00:00:00.000000000",
          "2024-10-14T00:00:00.000000000",
          "2024-10-15T00:00:00.000000000",
          "2024-10-16T00:00:00.000000000",
          "2024-10-17T00:00:00.000000000",
          "2024-10-18T00:00:00.000000000",
          "2024-10-21T00:00:00.000000000",
          "2024-10-22T00:00:00.000000000",
          "2024-10-23T00:00:00.000000000",
          "2024-10-24T00:00:00.000000000",
          "2024-10-25T00:00:00.000000000",
          "2024-10-28T00:00:00.000000000",
          "2024-10-29T00:00:00.000000000",
          "2024-10-30T00:00:00.000000000",
          "2024-10-31T00:00:00.000000000",
          "2024-11-01T00:00:00.000000000",
          "2024-11-04T00:00:00.000000000",
          "2024-11-05T00:00:00.000000000",
          "2024-11-06T00:00:00.000000000",
          "2024-11-07T00:00:00.000000000",
          "2024-11-08T00:00:00.000000000",
          "2024-11-11T00:00:00.000000000",
          "2024-11-12T00:00:00.000000000",
          "2024-11-13T00:00:00.000000000",
          "2024-11-14T00:00:00.000000000",
          "2024-11-15T00:00:00.000000000",
          "2024-11-18T00:00:00.000000000",
          "2024-11-19T00:00:00.000000000",
          "2024-11-20T00:00:00.000000000",
          "2024-11-21T00:00:00.000000000",
          "2024-11-22T00:00:00.000000000",
          "2024-11-25T00:00:00.000000000",
          "2024-11-26T00:00:00.000000000",
          "2024-11-27T00:00:00.000000000",
          "2024-11-29T00:00:00.000000000",
          "2024-12-02T00:00:00.000000000",
          "2024-12-03T00:00:00.000000000",
          "2024-12-04T00:00:00.000000000",
          "2024-12-05T00:00:00.000000000",
          "2024-12-06T00:00:00.000000000",
          "2024-12-09T00:00:00.000000000",
          "2024-12-10T00:00:00.000000000",
          "2024-12-11T00:00:00.000000000",
          "2024-12-12T00:00:00.000000000",
          "2024-12-13T00:00:00.000000000",
          "2024-12-16T00:00:00.000000000",
          "2024-12-17T00:00:00.000000000",
          "2024-12-18T00:00:00.000000000",
          "2024-12-19T00:00:00.000000000",
          "2024-12-20T00:00:00.000000000",
          "2024-12-23T00:00:00.000000000",
          "2024-12-24T00:00:00.000000000",
          "2024-12-26T00:00:00.000000000",
          "2024-12-27T00:00:00.000000000",
          "2024-12-30T00:00:00.000000000",
          "2024-12-31T00:00:00.000000000",
          "2025-01-02T00:00:00.000000000",
          "2025-01-03T00:00:00.000000000",
          "2025-01-06T00:00:00.000000000",
          "2025-01-07T00:00:00.000000000",
          "2025-01-08T00:00:00.000000000",
          "2025-01-10T00:00:00.000000000",
          "2025-01-13T00:00:00.000000000",
          "2025-01-14T00:00:00.000000000",
          "2025-01-15T00:00:00.000000000",
          "2025-01-16T00:00:00.000000000",
          "2025-01-17T00:00:00.000000000",
          "2025-01-21T00:00:00.000000000",
          "2025-01-22T00:00:00.000000000",
          "2025-01-23T00:00:00.000000000",
          "2025-01-24T00:00:00.000000000",
          "2025-01-27T00:00:00.000000000",
          "2025-01-28T00:00:00.000000000",
          "2025-01-29T00:00:00.000000000",
          "2025-01-30T00:00:00.000000000",
          "2025-01-31T00:00:00.000000000",
          "2025-02-03T00:00:00.000000000",
          "2025-02-04T00:00:00.000000000",
          "2025-02-05T00:00:00.000000000",
          "2025-02-06T00:00:00.000000000",
          "2025-02-07T00:00:00.000000000",
          "2025-02-10T00:00:00.000000000",
          "2025-02-11T00:00:00.000000000",
          "2025-02-12T00:00:00.000000000",
          "2025-02-13T00:00:00.000000000",
          "2025-02-14T00:00:00.000000000",
          "2025-02-18T00:00:00.000000000",
          "2025-02-19T00:00:00.000000000",
          "2025-02-20T00:00:00.000000000",
          "2025-02-21T00:00:00.000000000",
          "2025-02-24T00:00:00.000000000",
          "2025-02-25T00:00:00.000000000",
          "2025-02-26T00:00:00.000000000",
          "2025-02-27T00:00:00.000000000",
          "2025-02-28T00:00:00.000000000",
          "2025-03-03T00:00:00.000000000",
          "2025-03-04T00:00:00.000000000",
          "2025-03-05T00:00:00.000000000",
          "2025-03-06T00:00:00.000000000",
          "2025-03-07T00:00:00.000000000"
         ],
         "xaxis": "x3",
         "y": [
          17.516361236572266,
          17.565046310424805,
          17.57478141784668,
          17.428728103637695,
          17.193340301513672,
          16.40870475769043,
          16.73236656188965,
          16.457746505737305,
          16.6048641204834,
          16.879486083984375,
          17.036413192749023,
          17.085453033447266,
          17.35026741027832,
          17.330650329589844,
          17.38949966430664,
          17.59546661376953,
          17.360076904296875,
          17.840665817260742,
          17.59546661376953,
          17.654314041137695,
          17.791624069213867,
          17.673931121826172,
          17.654314041137695,
          17.59546661376953,
          17.085453033447266,
          16.928525924682617,
          16.810829162597656,
          16.702943801879883,
          16.712749481201172,
          16.467552185058594,
          16.506784439086914,
          16.506784439086914,
          16.6048641204834,
          16.64409637451172,
          16.840253829956055,
          16.850061416625977,
          16.67351722717285,
          16.124271392822266,
          16.212543487548828,
          16.53620719909668,
          16.830446243286133,
          16.53620719909668,
          16.850061416625977,
          16.73236656188965,
          16.73236656188965,
          17.046220779418945,
          17.31103515625,
          17.624889373779297,
          17.54642677307129,
          17.51700210571289,
          17.458154678344727,
          17.438541412353516,
          17.801433563232422,
          17.88970375061035,
          18.056438446044922,
          18.056438446044922,
          17.830856323242188,
          18.16432762145996,
          17.31103515625,
          17.605274200439453,
          17.261995315551758,
          19.10589027404785,
          19.213777542114258,
          19.64533042907715,
          20.19457244873047,
          20.165149688720703,
          20.5084285736084,
          21.342103958129883,
          21.185178756713867,
          21.2440242767334,
          21.54990577697754,
          21.194686889648438,
          20.642127990722656,
          20.198102951049805,
          20.83946990966797,
          20.642127990722656,
          20.76053237915039,
          20.888805389404297,
          20.878938674926758,
          20.83946990966797,
          20.39544677734375,
          20.277040481567383,
          20.612524032592773,
          20.967742919921875,
          21.066415786743164,
          20.918407440185547,
          20.888805389404297,
          21.15522003173828,
          21.145353317260742,
          20.533586502075195,
          20.39544677734375,
          20.207969665527344,
          20.316509246826172,
          20.267173767089844,
          19.783681869506836,
          19.191652297973633,
          19.497533798217773,
          19.152183532714844,
          18.757495880126953,
          19.64554214477539,
          18.826566696166992,
          17.79051399230957,
          17.119544982910156,
          17.0208740234375,
          16.497913360595703,
          17.080076217651367,
          17.109678268432617,
          16.961669921875,
          17.563568115234375,
          17.543834686279297,
          18.51081657409668,
          18.422012329101562,
          18.629220962524414,
          18.52068328857422,
          18.629220962524414,
          18.52068328857422,
          18.9548397064209,
          18.92523956298828,
          18.846302032470703,
          18.747629165649414,
          18.4318790435791,
          19.112716674804688,
          18.80683135986328,
          18.52068328857422,
          17.40569305419922,
          17.297155380249023,
          17.366226196289062,
          15.886148452758789,
          16.18216323852539,
          16.63605499267578,
          16.92220115661621,
          17.00113868713379,
          17.958255767822266,
          18.056926727294922,
          18.732694625854492,
          18.692943572998047,
          18.712820053100586,
          18.76250648498535,
          19.726472854614258,
          20.223360061645508,
          20.014665603637695,
          20.332674026489258,
          19.825849533081055,
          20.372426986694336,
          20.223360061645508,
          20.491680145263672,
          20.730186462402344,
          20.839500427246094,
          20.72024917602539,
          20.41217803955078,
          20.54136848449707,
          20.59105682373047,
          20.610933303833008,
          20.759998321533203,
          20.809688568115234,
          20.56124496459961,
          19.84572410583496,
          19.76622200012207,
          19.18983268737793,
          19.279272079467773,
          19.338897705078125,
          19.60721778869629,
          19.746347427368164,
          20.213422775268555,
          19.368711471557617,
          19.935163497924805,
          19.88547706604004,
          19.875537872314453,
          21.197261810302734,
          21.306577682495117,
          21.902843475341797,
          21.88296890258789,
          21.594772338867188,
          21.714025497436523,
          21.207199096679688,
          20.938879013061523,
          21.246950149536133,
          21.39601707458496,
          21.048194885253906,
          21.60470962524414,
          21.96247100830078,
          22.07178497314453,
          21.99228286743164,
          20.67055892944336,
          21.08794593811035,
          21.117759704589844,
          21.167448043823242,
          21.62458610534668,
          21.515270233154297,
          23.80095863342285,
          22.966184616088867,
          21.78359031677246,
          21.773653030395508,
          21.694150924682617,
          21.694150924682617,
          21.714025497436523,
          21.405956268310547,
          20.46186637878418,
          20.759998321533203,
          21.610000610351562,
          21.81999969482422,
          21.889999389648438,
          22.030000686645508,
          21.649999618530273,
          21.399999618530273,
          21.350000381469727,
          21.469999313354492,
          21.81999969482422,
          22.850000381469727,
          22.280000686645508,
          22.030000686645508,
          22.079999923706055,
          21.979999542236328,
          22.540000915527344,
          23.299999237060547,
          23.40999984741211,
          23.139999389648438,
          23.700000762939453,
          24.420000076293945,
          24.360000610351562,
          24.3700008392334,
          22.950000762939453,
          21.459999084472656,
          21.65999984741211,
          21.190000534057617,
          21.190000534057617,
          20.459999084472656,
          20.829999923706055,
          21.360000610351562,
          21.360000610351562,
          21.270000457763672,
          21.43000030517578,
          21.18000030517578,
          21.09000015258789,
          21.280000686645508,
          21.709999084472656,
          21.780000686645508,
          21.850000381469727,
          21.739999771118164,
          21.139999389648438,
          20.75,
          20.290000915527344,
          20.3700008392334,
          19.84000015258789,
          19.809999465942383,
          19.030000686645508,
          18.84000015258789,
          18.889999389648438,
          17.959999084472656,
          15.8100004196167
         ],
         "yaxis": "y3"
        },
        {
         "hovertemplate": "metric=RSI<br>Date=%{x}<br>value=%{y}<extra></extra>",
         "legendgroup": "RSI",
         "line": {
          "color": "#EF553B",
          "dash": "solid"
         },
         "marker": {
          "symbol": "circle"
         },
         "mode": "lines",
         "name": "RSI",
         "orientation": "v",
         "showlegend": true,
         "type": "scatter",
         "x": [
          "2024-03-08T00:00:00.000000000",
          "2024-03-11T00:00:00.000000000",
          "2024-03-12T00:00:00.000000000",
          "2024-03-13T00:00:00.000000000",
          "2024-03-14T00:00:00.000000000",
          "2024-03-15T00:00:00.000000000",
          "2024-03-18T00:00:00.000000000",
          "2024-03-19T00:00:00.000000000",
          "2024-03-20T00:00:00.000000000",
          "2024-03-21T00:00:00.000000000",
          "2024-03-22T00:00:00.000000000",
          "2024-03-25T00:00:00.000000000",
          "2024-03-26T00:00:00.000000000",
          "2024-03-27T00:00:00.000000000",
          "2024-03-28T00:00:00.000000000",
          "2024-04-01T00:00:00.000000000",
          "2024-04-02T00:00:00.000000000",
          "2024-04-03T00:00:00.000000000",
          "2024-04-04T00:00:00.000000000",
          "2024-04-05T00:00:00.000000000",
          "2024-04-08T00:00:00.000000000",
          "2024-04-09T00:00:00.000000000",
          "2024-04-10T00:00:00.000000000",
          "2024-04-11T00:00:00.000000000",
          "2024-04-12T00:00:00.000000000",
          "2024-04-15T00:00:00.000000000",
          "2024-04-16T00:00:00.000000000",
          "2024-04-17T00:00:00.000000000",
          "2024-04-18T00:00:00.000000000",
          "2024-04-19T00:00:00.000000000",
          "2024-04-22T00:00:00.000000000",
          "2024-04-23T00:00:00.000000000",
          "2024-04-24T00:00:00.000000000",
          "2024-04-25T00:00:00.000000000",
          "2024-04-26T00:00:00.000000000",
          "2024-04-29T00:00:00.000000000",
          "2024-04-30T00:00:00.000000000",
          "2024-05-01T00:00:00.000000000",
          "2024-05-02T00:00:00.000000000",
          "2024-05-03T00:00:00.000000000",
          "2024-05-06T00:00:00.000000000",
          "2024-05-07T00:00:00.000000000",
          "2024-05-08T00:00:00.000000000",
          "2024-05-09T00:00:00.000000000",
          "2024-05-10T00:00:00.000000000",
          "2024-05-13T00:00:00.000000000",
          "2024-05-14T00:00:00.000000000",
          "2024-05-15T00:00:00.000000000",
          "2024-05-16T00:00:00.000000000",
          "2024-05-17T00:00:00.000000000",
          "2024-05-20T00:00:00.000000000",
          "2024-05-21T00:00:00.000000000",
          "2024-05-22T00:00:00.000000000",
          "2024-05-23T00:00:00.000000000",
          "2024-05-24T00:00:00.000000000",
          "2024-05-28T00:00:00.000000000",
          "2024-05-29T00:00:00.000000000",
          "2024-05-30T00:00:00.000000000",
          "2024-05-31T00:00:00.000000000",
          "2024-06-03T00:00:00.000000000",
          "2024-06-04T00:00:00.000000000",
          "2024-06-05T00:00:00.000000000",
          "2024-06-06T00:00:00.000000000",
          "2024-06-07T00:00:00.000000000",
          "2024-06-10T00:00:00.000000000",
          "2024-06-11T00:00:00.000000000",
          "2024-06-12T00:00:00.000000000",
          "2024-06-13T00:00:00.000000000",
          "2024-06-14T00:00:00.000000000",
          "2024-06-17T00:00:00.000000000",
          "2024-06-18T00:00:00.000000000",
          "2024-06-20T00:00:00.000000000",
          "2024-06-21T00:00:00.000000000",
          "2024-06-24T00:00:00.000000000",
          "2024-06-25T00:00:00.000000000",
          "2024-06-26T00:00:00.000000000",
          "2024-06-27T00:00:00.000000000",
          "2024-06-28T00:00:00.000000000",
          "2024-07-01T00:00:00.000000000",
          "2024-07-02T00:00:00.000000000",
          "2024-07-03T00:00:00.000000000",
          "2024-07-05T00:00:00.000000000",
          "2024-07-08T00:00:00.000000000",
          "2024-07-09T00:00:00.000000000",
          "2024-07-10T00:00:00.000000000",
          "2024-07-11T00:00:00.000000000",
          "2024-07-12T00:00:00.000000000",
          "2024-07-15T00:00:00.000000000",
          "2024-07-16T00:00:00.000000000",
          "2024-07-17T00:00:00.000000000",
          "2024-07-18T00:00:00.000000000",
          "2024-07-19T00:00:00.000000000",
          "2024-07-22T00:00:00.000000000",
          "2024-07-23T00:00:00.000000000",
          "2024-07-24T00:00:00.000000000",
          "2024-07-25T00:00:00.000000000",
          "2024-07-26T00:00:00.000000000",
          "2024-07-29T00:00:00.000000000",
          "2024-07-30T00:00:00.000000000",
          "2024-07-31T00:00:00.000000000",
          "2024-08-01T00:00:00.000000000",
          "2024-08-02T00:00:00.000000000",
          "2024-08-05T00:00:00.000000000",
          "2024-08-06T00:00:00.000000000",
          "2024-08-07T00:00:00.000000000",
          "2024-08-08T00:00:00.000000000",
          "2024-08-09T00:00:00.000000000",
          "2024-08-12T00:00:00.000000000",
          "2024-08-13T00:00:00.000000000",
          "2024-08-14T00:00:00.000000000",
          "2024-08-15T00:00:00.000000000",
          "2024-08-16T00:00:00.000000000",
          "2024-08-19T00:00:00.000000000",
          "2024-08-20T00:00:00.000000000",
          "2024-08-21T00:00:00.000000000",
          "2024-08-22T00:00:00.000000000",
          "2024-08-23T00:00:00.000000000",
          "2024-08-26T00:00:00.000000000",
          "2024-08-27T00:00:00.000000000",
          "2024-08-28T00:00:00.000000000",
          "2024-08-29T00:00:00.000000000",
          "2024-08-30T00:00:00.000000000",
          "2024-09-03T00:00:00.000000000",
          "2024-09-04T00:00:00.000000000",
          "2024-09-05T00:00:00.000000000",
          "2024-09-06T00:00:00.000000000",
          "2024-09-09T00:00:00.000000000",
          "2024-09-10T00:00:00.000000000",
          "2024-09-11T00:00:00.000000000",
          "2024-09-12T00:00:00.000000000",
          "2024-09-13T00:00:00.000000000",
          "2024-09-16T00:00:00.000000000",
          "2024-09-17T00:00:00.000000000",
          "2024-09-18T00:00:00.000000000",
          "2024-09-19T00:00:00.000000000",
          "2024-09-20T00:00:00.000000000",
          "2024-09-23T00:00:00.000000000",
          "2024-09-24T00:00:00.000000000",
          "2024-09-25T00:00:00.000000000",
          "2024-09-26T00:00:00.000000000",
          "2024-09-27T00:00:00.000000000",
          "2024-09-30T00:00:00.000000000",
          "2024-10-01T00:00:00.000000000",
          "2024-10-02T00:00:00.000000000",
          "2024-10-03T00:00:00.000000000",
          "2024-10-04T00:00:00.000000000",
          "2024-10-07T00:00:00.000000000",
          "2024-10-08T00:00:00.000000000",
          "2024-10-09T00:00:00.000000000",
          "2024-10-10T00:00:00.000000000",
          "2024-10-11T00:00:00.000000000",
          "2024-10-14T00:00:00.000000000",
          "2024-10-15T00:00:00.000000000",
          "2024-10-16T00:00:00.000000000",
          "2024-10-17T00:00:00.000000000",
          "2024-10-18T00:00:00.000000000",
          "2024-10-21T00:00:00.000000000",
          "2024-10-22T00:00:00.000000000",
          "2024-10-23T00:00:00.000000000",
          "2024-10-24T00:00:00.000000000",
          "2024-10-25T00:00:00.000000000",
          "2024-10-28T00:00:00.000000000",
          "2024-10-29T00:00:00.000000000",
          "2024-10-30T00:00:00.000000000",
          "2024-10-31T00:00:00.000000000",
          "2024-11-01T00:00:00.000000000",
          "2024-11-04T00:00:00.000000000",
          "2024-11-05T00:00:00.000000000",
          "2024-11-06T00:00:00.000000000",
          "2024-11-07T00:00:00.000000000",
          "2024-11-08T00:00:00.000000000",
          "2024-11-11T00:00:00.000000000",
          "2024-11-12T00:00:00.000000000",
          "2024-11-13T00:00:00.000000000",
          "2024-11-14T00:00:00.000000000",
          "2024-11-15T00:00:00.000000000",
          "2024-11-18T00:00:00.000000000",
          "2024-11-19T00:00:00.000000000",
          "2024-11-20T00:00:00.000000000",
          "2024-11-21T00:00:00.000000000",
          "2024-11-22T00:00:00.000000000",
          "2024-11-25T00:00:00.000000000",
          "2024-11-26T00:00:00.000000000",
          "2024-11-27T00:00:00.000000000",
          "2024-11-29T00:00:00.000000000",
          "2024-12-02T00:00:00.000000000",
          "2024-12-03T00:00:00.000000000",
          "2024-12-04T00:00:00.000000000",
          "2024-12-05T00:00:00.000000000",
          "2024-12-06T00:00:00.000000000",
          "2024-12-09T00:00:00.000000000",
          "2024-12-10T00:00:00.000000000",
          "2024-12-11T00:00:00.000000000",
          "2024-12-12T00:00:00.000000000",
          "2024-12-13T00:00:00.000000000",
          "2024-12-16T00:00:00.000000000",
          "2024-12-17T00:00:00.000000000",
          "2024-12-18T00:00:00.000000000",
          "2024-12-19T00:00:00.000000000",
          "2024-12-20T00:00:00.000000000",
          "2024-12-23T00:00:00.000000000",
          "2024-12-24T00:00:00.000000000",
          "2024-12-26T00:00:00.000000000",
          "2024-12-27T00:00:00.000000000",
          "2024-12-30T00:00:00.000000000",
          "2024-12-31T00:00:00.000000000",
          "2025-01-02T00:00:00.000000000",
          "2025-01-03T00:00:00.000000000",
          "2025-01-06T00:00:00.000000000",
          "2025-01-07T00:00:00.000000000",
          "2025-01-08T00:00:00.000000000",
          "2025-01-10T00:00:00.000000000",
          "2025-01-13T00:00:00.000000000",
          "2025-01-14T00:00:00.000000000",
          "2025-01-15T00:00:00.000000000",
          "2025-01-16T00:00:00.000000000",
          "2025-01-17T00:00:00.000000000",
          "2025-01-21T00:00:00.000000000",
          "2025-01-22T00:00:00.000000000",
          "2025-01-23T00:00:00.000000000",
          "2025-01-24T00:00:00.000000000",
          "2025-01-27T00:00:00.000000000",
          "2025-01-28T00:00:00.000000000",
          "2025-01-29T00:00:00.000000000",
          "2025-01-30T00:00:00.000000000",
          "2025-01-31T00:00:00.000000000",
          "2025-02-03T00:00:00.000000000",
          "2025-02-04T00:00:00.000000000",
          "2025-02-05T00:00:00.000000000",
          "2025-02-06T00:00:00.000000000",
          "2025-02-07T00:00:00.000000000",
          "2025-02-10T00:00:00.000000000",
          "2025-02-11T00:00:00.000000000",
          "2025-02-12T00:00:00.000000000",
          "2025-02-13T00:00:00.000000000",
          "2025-02-14T00:00:00.000000000",
          "2025-02-18T00:00:00.000000000",
          "2025-02-19T00:00:00.000000000",
          "2025-02-20T00:00:00.000000000",
          "2025-02-21T00:00:00.000000000",
          "2025-02-24T00:00:00.000000000",
          "2025-02-25T00:00:00.000000000",
          "2025-02-26T00:00:00.000000000",
          "2025-02-27T00:00:00.000000000",
          "2025-02-28T00:00:00.000000000",
          "2025-03-03T00:00:00.000000000",
          "2025-03-04T00:00:00.000000000",
          "2025-03-05T00:00:00.000000000",
          "2025-03-06T00:00:00.000000000",
          "2025-03-07T00:00:00.000000000"
         ],
         "xaxis": "x2",
         "y": [
          null,
          null,
          null,
          null,
          null,
          null,
          null,
          null,
          null,
          null,
          null,
          null,
          null,
          53.32384624197943,
          54.94946958555685,
          60.17703121083087,
          52.65684330580187,
          62.86140511392966,
          56.20496785017261,
          57.371641732732186,
          60.046142924389756,
          56.759048630501944,
          56.20673718306278,
          54.49367617321413,
          42.4253112329372,
          39.52481011995101,
          37.456451429882364,
          35.61656594671594,
          35.92463996203428,
          31.823943692429268,
          33.1390177141875,
          33.1390177141875,
          36.68031372485892,
          38.09278505551824,
          44.731237790289306,
          45.048520938416836,
          40.537263111931814,
          30.353225629880086,
          33.255397065508504,
          42.6859734540899,
          49.650734169959094,
          43.90501853861478,
          50.486911588995824,
          48.202820322589325,
          48.202820322589325,
          54.560620823764225,
          59.120039974671634,
          63.76115725773772,
          61.870067746234874,
          61.13775110894857,
          59.61791862632008,
          59.09067380241608,
          65.21957643034267,
          66.53298117324624,
          68.92043642699555,
          68.92043642699555,
          61.98242743071192,
          67.23357647016846,
          48.69802711625092,
          53.462445380215975,
          47.87611993178716,
          67.51267039062114,
          68.26597787734642,
          71.14791188883945,
          74.3416679778951,
          73.86993466333078,
          75.79940725978777,
          79.71658869539552,
          77.1840524991872,
          77.47306357237476,
          78.96465571900156,
          72.92577400162406,
          64.64407040477028,
          58.85952837203483,
          63.88637032605446,
          61.40040730153128,
          62.347119113978394,
          63.39456786492364,
          63.24881773778878,
          62.62852776333514,
          55.97744761217434,
          54.320763429580026,
          58.10413435127874,
          61.71946166939829,
          62.6827849585729,
          60.23422634820954,
          59.731667257623904,
          62.7443725667232,
          62.557703243190126,
          52.189981083457944,
          50.16813601006647,
          47.47979755331303,
          49.17778373024995,
          48.41163444409605,
          41.575691109974514,
          35.0493779882015,
          40.26660930040012,
          36.6838100131604,
          33.063057355878655,
          45.98206452851237,
          38.585824080479604,
          31.6500805725413,
          28.124321772184615,
          27.636752463016165,
          25.148310737810192,
          32.44094125657969,
          32.799464509144315,
          31.888264506384985,
          39.27626554058392,
          39.12642154979598,
          49.328201056533345,
          48.523928728371594,
          50.549902438177774,
          49.45198548309444,
          50.60729061667155,
          49.391580014385184,
          54.13754781984877,
          53.76733386536014,
          52.73171371158025,
          51.39900392104336,
          47.281051772096326,
          55.550526470630516,
          51.63194039228795,
          48.20615183100297,
          37.7074765787025,
          36.8657913064589,
          37.81703641084711,
          28.060465774675222,
          31.847548099536112,
          37.29811060119787,
          40.52733029147165,
          41.42356181534045,
          51.054744034966276,
          51.932189130871,
          57.545578454222046,
          57.122990109122604,
          57.29187530537804,
          57.739980317479,
          65.33844856838165,
          68.48407425701654,
          65.78375275613661,
          67.86316851282007,
          61.45318373832895,
          65.26371110160999,
          63.42229149278887,
          65.31911838456622,
          66.95929961381304,
          67.7129849201158,
          65.94572894716343,
          61.481516824113996,
          62.62416650415732,
          63.077836272966785,
          63.26989797306982,
          64.75079183037678,
          65.25370202108212,
          60.598442631204236,
          49.61929797486805,
          48.56640549931027,
          41.663783602471646,
          43.017163707080464,
          43.95071968421739,
          48.07350064910208,
          50.1222019996432,
          56.34863612969412,
          45.32803954064073,
          52.094295737602955,
          51.49231092843303,
          51.3644446612694,
          64.12305431398735,
          64.94220024684338,
          69.0880501138886,
          68.79601519176056,
          64.53601445536215,
          65.48832417011067,
          58.32052071297549,
          54.89494775187725,
          57.94896202728984,
          59.38206908475551,
          54.69789325624359,
          60.118560618021256,
          63.16956401419203,
          64.07393858813876,
          62.86490759519929,
          46.99008033751029,
          51.18244992787687,
          51.477643503692754,
          51.9986067483065,
          56.613843289169886,
          55.245922725504045,
          71.01555842865542,
          62.37160260647915,
          52.60321541992352,
          52.52876795998163,
          51.89596760189632,
          51.89596760189632,
          52.063394532338926,
          49.20458881151989,
          41.65579891055792,
          44.5488881926767,
          51.87584343224544,
          53.510222303488725,
          54.070170525295055,
          55.23157321941205,
          51.4301744058145,
          49.03886219896271,
          48.55263512051813,
          49.83813233734829,
          53.48855894681495,
          62.20530588951253,
          55.95559466674969,
          53.42052030500245,
          53.87064477599957,
          52.77222991659523,
          57.94373594499848,
          63.74584176599148,
          64.50904428320811,
          61.108579766232474,
          65.20533126048396,
          69.63424814477607,
          68.84779143344703,
          68.91081580108938,
          52.62885549421552,
          41.53834448440757,
          43.26655392740985,
          40.254969642724866,
          40.254969642724866,
          35.77001822212105,
          39.45216046178208,
          44.37162196237097,
          44.37162196237097,
          43.672800654912166,
          45.3214888224836,
          43.194085794409936,
          42.422071403414826,
          44.67037569799507,
          49.47846261718423,
          50.23660438184636,
          51.02800163803936,
          49.690658310044526,
          43.06141755083135,
          39.38351203938929,
          35.52897160745185,
          36.689487997098176,
          32.513817790717525,
          32.289796500805096,
          27.06794998195116,
          25.96637101521692,
          26.810487464674694,
          21.825706936778033,
          14.91954570538752
         ],
         "yaxis": "y2"
        },
        {
         "hovertemplate": "metric=RSI_BECAME_OVERSOLD<br>Date=%{x}<br>value=%{y}<extra></extra>",
         "legendgroup": "RSI_BECAME_OVERSOLD",
         "line": {
          "color": "#00cc96",
          "dash": "solid"
         },
         "marker": {
          "symbol": "circle"
         },
         "mode": "lines",
         "name": "RSI_BECAME_OVERSOLD",
         "orientation": "v",
         "showlegend": true,
         "type": "scatter",
         "x": [
          "2024-03-08T00:00:00.000000000",
          "2024-03-11T00:00:00.000000000",
          "2024-03-12T00:00:00.000000000",
          "2024-03-13T00:00:00.000000000",
          "2024-03-14T00:00:00.000000000",
          "2024-03-15T00:00:00.000000000",
          "2024-03-18T00:00:00.000000000",
          "2024-03-19T00:00:00.000000000",
          "2024-03-20T00:00:00.000000000",
          "2024-03-21T00:00:00.000000000",
          "2024-03-22T00:00:00.000000000",
          "2024-03-25T00:00:00.000000000",
          "2024-03-26T00:00:00.000000000",
          "2024-03-27T00:00:00.000000000",
          "2024-03-28T00:00:00.000000000",
          "2024-04-01T00:00:00.000000000",
          "2024-04-02T00:00:00.000000000",
          "2024-04-03T00:00:00.000000000",
          "2024-04-04T00:00:00.000000000",
          "2024-04-05T00:00:00.000000000",
          "2024-04-08T00:00:00.000000000",
          "2024-04-09T00:00:00.000000000",
          "2024-04-10T00:00:00.000000000",
          "2024-04-11T00:00:00.000000000",
          "2024-04-12T00:00:00.000000000",
          "2024-04-15T00:00:00.000000000",
          "2024-04-16T00:00:00.000000000",
          "2024-04-17T00:00:00.000000000",
          "2024-04-18T00:00:00.000000000",
          "2024-04-19T00:00:00.000000000",
          "2024-04-22T00:00:00.000000000",
          "2024-04-23T00:00:00.000000000",
          "2024-04-24T00:00:00.000000000",
          "2024-04-25T00:00:00.000000000",
          "2024-04-26T00:00:00.000000000",
          "2024-04-29T00:00:00.000000000",
          "2024-04-30T00:00:00.000000000",
          "2024-05-01T00:00:00.000000000",
          "2024-05-02T00:00:00.000000000",
          "2024-05-03T00:00:00.000000000",
          "2024-05-06T00:00:00.000000000",
          "2024-05-07T00:00:00.000000000",
          "2024-05-08T00:00:00.000000000",
          "2024-05-09T00:00:00.000000000",
          "2024-05-10T00:00:00.000000000",
          "2024-05-13T00:00:00.000000000",
          "2024-05-14T00:00:00.000000000",
          "2024-05-15T00:00:00.000000000",
          "2024-05-16T00:00:00.000000000",
          "2024-05-17T00:00:00.000000000",
          "2024-05-20T00:00:00.000000000",
          "2024-05-21T00:00:00.000000000",
          "2024-05-22T00:00:00.000000000",
          "2024-05-23T00:00:00.000000000",
          "2024-05-24T00:00:00.000000000",
          "2024-05-28T00:00:00.000000000",
          "2024-05-29T00:00:00.000000000",
          "2024-05-30T00:00:00.000000000",
          "2024-05-31T00:00:00.000000000",
          "2024-06-03T00:00:00.000000000",
          "2024-06-04T00:00:00.000000000",
          "2024-06-05T00:00:00.000000000",
          "2024-06-06T00:00:00.000000000",
          "2024-06-07T00:00:00.000000000",
          "2024-06-10T00:00:00.000000000",
          "2024-06-11T00:00:00.000000000",
          "2024-06-12T00:00:00.000000000",
          "2024-06-13T00:00:00.000000000",
          "2024-06-14T00:00:00.000000000",
          "2024-06-17T00:00:00.000000000",
          "2024-06-18T00:00:00.000000000",
          "2024-06-20T00:00:00.000000000",
          "2024-06-21T00:00:00.000000000",
          "2024-06-24T00:00:00.000000000",
          "2024-06-25T00:00:00.000000000",
          "2024-06-26T00:00:00.000000000",
          "2024-06-27T00:00:00.000000000",
          "2024-06-28T00:00:00.000000000",
          "2024-07-01T00:00:00.000000000",
          "2024-07-02T00:00:00.000000000",
          "2024-07-03T00:00:00.000000000",
          "2024-07-05T00:00:00.000000000",
          "2024-07-08T00:00:00.000000000",
          "2024-07-09T00:00:00.000000000",
          "2024-07-10T00:00:00.000000000",
          "2024-07-11T00:00:00.000000000",
          "2024-07-12T00:00:00.000000000",
          "2024-07-15T00:00:00.000000000",
          "2024-07-16T00:00:00.000000000",
          "2024-07-17T00:00:00.000000000",
          "2024-07-18T00:00:00.000000000",
          "2024-07-19T00:00:00.000000000",
          "2024-07-22T00:00:00.000000000",
          "2024-07-23T00:00:00.000000000",
          "2024-07-24T00:00:00.000000000",
          "2024-07-25T00:00:00.000000000",
          "2024-07-26T00:00:00.000000000",
          "2024-07-29T00:00:00.000000000",
          "2024-07-30T00:00:00.000000000",
          "2024-07-31T00:00:00.000000000",
          "2024-08-01T00:00:00.000000000",
          "2024-08-02T00:00:00.000000000",
          "2024-08-05T00:00:00.000000000",
          "2024-08-06T00:00:00.000000000",
          "2024-08-07T00:00:00.000000000",
          "2024-08-08T00:00:00.000000000",
          "2024-08-09T00:00:00.000000000",
          "2024-08-12T00:00:00.000000000",
          "2024-08-13T00:00:00.000000000",
          "2024-08-14T00:00:00.000000000",
          "2024-08-15T00:00:00.000000000",
          "2024-08-16T00:00:00.000000000",
          "2024-08-19T00:00:00.000000000",
          "2024-08-20T00:00:00.000000000",
          "2024-08-21T00:00:00.000000000",
          "2024-08-22T00:00:00.000000000",
          "2024-08-23T00:00:00.000000000",
          "2024-08-26T00:00:00.000000000",
          "2024-08-27T00:00:00.000000000",
          "2024-08-28T00:00:00.000000000",
          "2024-08-29T00:00:00.000000000",
          "2024-08-30T00:00:00.000000000",
          "2024-09-03T00:00:00.000000000",
          "2024-09-04T00:00:00.000000000",
          "2024-09-05T00:00:00.000000000",
          "2024-09-06T00:00:00.000000000",
          "2024-09-09T00:00:00.000000000",
          "2024-09-10T00:00:00.000000000",
          "2024-09-11T00:00:00.000000000",
          "2024-09-12T00:00:00.000000000",
          "2024-09-13T00:00:00.000000000",
          "2024-09-16T00:00:00.000000000",
          "2024-09-17T00:00:00.000000000",
          "2024-09-18T00:00:00.000000000",
          "2024-09-19T00:00:00.000000000",
          "2024-09-20T00:00:00.000000000",
          "2024-09-23T00:00:00.000000000",
          "2024-09-24T00:00:00.000000000",
          "2024-09-25T00:00:00.000000000",
          "2024-09-26T00:00:00.000000000",
          "2024-09-27T00:00:00.000000000",
          "2024-09-30T00:00:00.000000000",
          "2024-10-01T00:00:00.000000000",
          "2024-10-02T00:00:00.000000000",
          "2024-10-03T00:00:00.000000000",
          "2024-10-04T00:00:00.000000000",
          "2024-10-07T00:00:00.000000000",
          "2024-10-08T00:00:00.000000000",
          "2024-10-09T00:00:00.000000000",
          "2024-10-10T00:00:00.000000000",
          "2024-10-11T00:00:00.000000000",
          "2024-10-14T00:00:00.000000000",
          "2024-10-15T00:00:00.000000000",
          "2024-10-16T00:00:00.000000000",
          "2024-10-17T00:00:00.000000000",
          "2024-10-18T00:00:00.000000000",
          "2024-10-21T00:00:00.000000000",
          "2024-10-22T00:00:00.000000000",
          "2024-10-23T00:00:00.000000000",
          "2024-10-24T00:00:00.000000000",
          "2024-10-25T00:00:00.000000000",
          "2024-10-28T00:00:00.000000000",
          "2024-10-29T00:00:00.000000000",
          "2024-10-30T00:00:00.000000000",
          "2024-10-31T00:00:00.000000000",
          "2024-11-01T00:00:00.000000000",
          "2024-11-04T00:00:00.000000000",
          "2024-11-05T00:00:00.000000000",
          "2024-11-06T00:00:00.000000000",
          "2024-11-07T00:00:00.000000000",
          "2024-11-08T00:00:00.000000000",
          "2024-11-11T00:00:00.000000000",
          "2024-11-12T00:00:00.000000000",
          "2024-11-13T00:00:00.000000000",
          "2024-11-14T00:00:00.000000000",
          "2024-11-15T00:00:00.000000000",
          "2024-11-18T00:00:00.000000000",
          "2024-11-19T00:00:00.000000000",
          "2024-11-20T00:00:00.000000000",
          "2024-11-21T00:00:00.000000000",
          "2024-11-22T00:00:00.000000000",
          "2024-11-25T00:00:00.000000000",
          "2024-11-26T00:00:00.000000000",
          "2024-11-27T00:00:00.000000000",
          "2024-11-29T00:00:00.000000000",
          "2024-12-02T00:00:00.000000000",
          "2024-12-03T00:00:00.000000000",
          "2024-12-04T00:00:00.000000000",
          "2024-12-05T00:00:00.000000000",
          "2024-12-06T00:00:00.000000000",
          "2024-12-09T00:00:00.000000000",
          "2024-12-10T00:00:00.000000000",
          "2024-12-11T00:00:00.000000000",
          "2024-12-12T00:00:00.000000000",
          "2024-12-13T00:00:00.000000000",
          "2024-12-16T00:00:00.000000000",
          "2024-12-17T00:00:00.000000000",
          "2024-12-18T00:00:00.000000000",
          "2024-12-19T00:00:00.000000000",
          "2024-12-20T00:00:00.000000000",
          "2024-12-23T00:00:00.000000000",
          "2024-12-24T00:00:00.000000000",
          "2024-12-26T00:00:00.000000000",
          "2024-12-27T00:00:00.000000000",
          "2024-12-30T00:00:00.000000000",
          "2024-12-31T00:00:00.000000000",
          "2025-01-02T00:00:00.000000000",
          "2025-01-03T00:00:00.000000000",
          "2025-01-06T00:00:00.000000000",
          "2025-01-07T00:00:00.000000000",
          "2025-01-08T00:00:00.000000000",
          "2025-01-10T00:00:00.000000000",
          "2025-01-13T00:00:00.000000000",
          "2025-01-14T00:00:00.000000000",
          "2025-01-15T00:00:00.000000000",
          "2025-01-16T00:00:00.000000000",
          "2025-01-17T00:00:00.000000000",
          "2025-01-21T00:00:00.000000000",
          "2025-01-22T00:00:00.000000000",
          "2025-01-23T00:00:00.000000000",
          "2025-01-24T00:00:00.000000000",
          "2025-01-27T00:00:00.000000000",
          "2025-01-28T00:00:00.000000000",
          "2025-01-29T00:00:00.000000000",
          "2025-01-30T00:00:00.000000000",
          "2025-01-31T00:00:00.000000000",
          "2025-02-03T00:00:00.000000000",
          "2025-02-04T00:00:00.000000000",
          "2025-02-05T00:00:00.000000000",
          "2025-02-06T00:00:00.000000000",
          "2025-02-07T00:00:00.000000000",
          "2025-02-10T00:00:00.000000000",
          "2025-02-11T00:00:00.000000000",
          "2025-02-12T00:00:00.000000000",
          "2025-02-13T00:00:00.000000000",
          "2025-02-14T00:00:00.000000000",
          "2025-02-18T00:00:00.000000000",
          "2025-02-19T00:00:00.000000000",
          "2025-02-20T00:00:00.000000000",
          "2025-02-21T00:00:00.000000000",
          "2025-02-24T00:00:00.000000000",
          "2025-02-25T00:00:00.000000000",
          "2025-02-26T00:00:00.000000000",
          "2025-02-27T00:00:00.000000000",
          "2025-02-28T00:00:00.000000000",
          "2025-03-03T00:00:00.000000000",
          "2025-03-04T00:00:00.000000000",
          "2025-03-05T00:00:00.000000000",
          "2025-03-06T00:00:00.000000000",
          "2025-03-07T00:00:00.000000000"
         ],
         "xaxis": "x",
         "y": [
          0,
          0,
          0,
          0,
          0,
          0,
          0,
          0,
          0,
          0,
          0,
          0,
          0,
          0,
          0,
          0,
          0,
          0,
          0,
          0,
          0,
          0,
          0,
          0,
          0,
          0,
          0,
          0,
          0,
          0,
          0,
          0,
          0,
          0,
          0,
          0,
          0,
          0,
          0,
          0,
          0,
          0,
          0,
          0,
          0,
          0,
          0,
          0,
          0,
          0,
          0,
          0,
          0,
          0,
          0,
          0,
          0,
          0,
          0,
          0,
          0,
          0,
          0,
          0,
          0,
          0,
          0,
          0,
          0,
          0,
          0,
          0,
          0,
          0,
          0,
          0,
          0,
          0,
          0,
          0,
          0,
          0,
          0,
          0,
          0,
          0,
          0,
          0,
          0,
          0,
          0,
          0,
          0,
          0,
          0,
          0,
          0,
          0,
          0,
          0,
          0,
          0,
          1,
          0,
          0,
          0,
          0,
          0,
          0,
          0,
          0,
          0,
          0,
          0,
          0,
          0,
          0,
          0,
          0,
          0,
          0,
          0,
          0,
          0,
          0,
          0,
          0,
          1,
          0,
          0,
          0,
          0,
          0,
          0,
          0,
          0,
          0,
          0,
          0,
          0,
          0,
          0,
          0,
          0,
          0,
          0,
          0,
          0,
          0,
          0,
          0,
          0,
          0,
          0,
          0,
          0,
          0,
          0,
          0,
          0,
          0,
          0,
          0,
          0,
          0,
          0,
          0,
          0,
          0,
          0,
          0,
          0,
          0,
          0,
          0,
          0,
          0,
          0,
          0,
          0,
          0,
          0,
          0,
          0,
          0,
          0,
          0,
          0,
          0,
          0,
          0,
          0,
          0,
          0,
          0,
          0,
          0,
          0,
          0,
          0,
          0,
          0,
          0,
          0,
          0,
          0,
          0,
          0,
          0,
          0,
          0,
          0,
          0,
          0,
          0,
          0,
          0,
          0,
          0,
          0,
          0,
          0,
          0,
          0,
          0,
          0,
          0,
          0,
          0,
          0,
          0,
          0,
          0,
          0,
          0,
          0,
          0,
          0,
          0,
          0,
          0,
          0,
          0,
          0,
          0,
          1,
          0,
          0,
          0,
          0
         ],
         "yaxis": "y"
        }
       ],
       "layout": {
        "annotations": [
         {
          "font": {},
          "showarrow": false,
          "text": "metric=RSI_BECAME_OVERSOLD",
          "textangle": 90,
          "x": 0.98,
          "xanchor": "left",
          "xref": "paper",
          "y": 0.15666666666666665,
          "yanchor": "middle",
          "yref": "paper"
         },
         {
          "font": {},
          "showarrow": false,
          "text": "metric=RSI",
          "textangle": 90,
          "x": 0.98,
          "xanchor": "left",
          "xref": "paper",
          "y": 0.4999999999999999,
          "yanchor": "middle",
          "yref": "paper"
         },
         {
          "font": {},
          "showarrow": false,
          "text": "metric=Adj Close",
          "textangle": 90,
          "x": 0.98,
          "xanchor": "left",
          "xref": "paper",
          "y": 0.8433333333333332,
          "yanchor": "middle",
          "yref": "paper"
         }
        ],
        "legend": {
         "title": {
          "text": "metric"
         },
         "tracegroupgap": 0
        },
        "margin": {
         "t": 60
        },
        "template": {
         "data": {
          "bar": [
           {
            "error_x": {
             "color": "#2a3f5f"
            },
            "error_y": {
             "color": "#2a3f5f"
            },
            "marker": {
             "line": {
              "color": "#E5ECF6",
              "width": 0.5
             },
             "pattern": {
              "fillmode": "overlay",
              "size": 10,
              "solidity": 0.2
             }
            },
            "type": "bar"
           }
          ],
          "barpolar": [
           {
            "marker": {
             "line": {
              "color": "#E5ECF6",
              "width": 0.5
             },
             "pattern": {
              "fillmode": "overlay",
              "size": 10,
              "solidity": 0.2
             }
            },
            "type": "barpolar"
           }
          ],
          "carpet": [
           {
            "aaxis": {
             "endlinecolor": "#2a3f5f",
             "gridcolor": "white",
             "linecolor": "white",
             "minorgridcolor": "white",
             "startlinecolor": "#2a3f5f"
            },
            "baxis": {
             "endlinecolor": "#2a3f5f",
             "gridcolor": "white",
             "linecolor": "white",
             "minorgridcolor": "white",
             "startlinecolor": "#2a3f5f"
            },
            "type": "carpet"
           }
          ],
          "choropleth": [
           {
            "colorbar": {
             "outlinewidth": 0,
             "ticks": ""
            },
            "type": "choropleth"
           }
          ],
          "contour": [
           {
            "colorbar": {
             "outlinewidth": 0,
             "ticks": ""
            },
            "colorscale": [
             [
              0,
              "#0d0887"
             ],
             [
              0.1111111111111111,
              "#46039f"
             ],
             [
              0.2222222222222222,
              "#7201a8"
             ],
             [
              0.3333333333333333,
              "#9c179e"
             ],
             [
              0.4444444444444444,
              "#bd3786"
             ],
             [
              0.5555555555555556,
              "#d8576b"
             ],
             [
              0.6666666666666666,
              "#ed7953"
             ],
             [
              0.7777777777777778,
              "#fb9f3a"
             ],
             [
              0.8888888888888888,
              "#fdca26"
             ],
             [
              1,
              "#f0f921"
             ]
            ],
            "type": "contour"
           }
          ],
          "contourcarpet": [
           {
            "colorbar": {
             "outlinewidth": 0,
             "ticks": ""
            },
            "type": "contourcarpet"
           }
          ],
          "heatmap": [
           {
            "colorbar": {
             "outlinewidth": 0,
             "ticks": ""
            },
            "colorscale": [
             [
              0,
              "#0d0887"
             ],
             [
              0.1111111111111111,
              "#46039f"
             ],
             [
              0.2222222222222222,
              "#7201a8"
             ],
             [
              0.3333333333333333,
              "#9c179e"
             ],
             [
              0.4444444444444444,
              "#bd3786"
             ],
             [
              0.5555555555555556,
              "#d8576b"
             ],
             [
              0.6666666666666666,
              "#ed7953"
             ],
             [
              0.7777777777777778,
              "#fb9f3a"
             ],
             [
              0.8888888888888888,
              "#fdca26"
             ],
             [
              1,
              "#f0f921"
             ]
            ],
            "type": "heatmap"
           }
          ],
          "histogram": [
           {
            "marker": {
             "pattern": {
              "fillmode": "overlay",
              "size": 10,
              "solidity": 0.2
             }
            },
            "type": "histogram"
           }
          ],
          "histogram2d": [
           {
            "colorbar": {
             "outlinewidth": 0,
             "ticks": ""
            },
            "colorscale": [
             [
              0,
              "#0d0887"
             ],
             [
              0.1111111111111111,
              "#46039f"
             ],
             [
              0.2222222222222222,
              "#7201a8"
             ],
             [
              0.3333333333333333,
              "#9c179e"
             ],
             [
              0.4444444444444444,
              "#bd3786"
             ],
             [
              0.5555555555555556,
              "#d8576b"
             ],
             [
              0.6666666666666666,
              "#ed7953"
             ],
             [
              0.7777777777777778,
              "#fb9f3a"
             ],
             [
              0.8888888888888888,
              "#fdca26"
             ],
             [
              1,
              "#f0f921"
             ]
            ],
            "type": "histogram2d"
           }
          ],
          "histogram2dcontour": [
           {
            "colorbar": {
             "outlinewidth": 0,
             "ticks": ""
            },
            "colorscale": [
             [
              0,
              "#0d0887"
             ],
             [
              0.1111111111111111,
              "#46039f"
             ],
             [
              0.2222222222222222,
              "#7201a8"
             ],
             [
              0.3333333333333333,
              "#9c179e"
             ],
             [
              0.4444444444444444,
              "#bd3786"
             ],
             [
              0.5555555555555556,
              "#d8576b"
             ],
             [
              0.6666666666666666,
              "#ed7953"
             ],
             [
              0.7777777777777778,
              "#fb9f3a"
             ],
             [
              0.8888888888888888,
              "#fdca26"
             ],
             [
              1,
              "#f0f921"
             ]
            ],
            "type": "histogram2dcontour"
           }
          ],
          "mesh3d": [
           {
            "colorbar": {
             "outlinewidth": 0,
             "ticks": ""
            },
            "type": "mesh3d"
           }
          ],
          "parcoords": [
           {
            "line": {
             "colorbar": {
              "outlinewidth": 0,
              "ticks": ""
             }
            },
            "type": "parcoords"
           }
          ],
          "pie": [
           {
            "automargin": true,
            "type": "pie"
           }
          ],
          "scatter": [
           {
            "fillpattern": {
             "fillmode": "overlay",
             "size": 10,
             "solidity": 0.2
            },
            "type": "scatter"
           }
          ],
          "scatter3d": [
           {
            "line": {
             "colorbar": {
              "outlinewidth": 0,
              "ticks": ""
             }
            },
            "marker": {
             "colorbar": {
              "outlinewidth": 0,
              "ticks": ""
             }
            },
            "type": "scatter3d"
           }
          ],
          "scattercarpet": [
           {
            "marker": {
             "colorbar": {
              "outlinewidth": 0,
              "ticks": ""
             }
            },
            "type": "scattercarpet"
           }
          ],
          "scattergeo": [
           {
            "marker": {
             "colorbar": {
              "outlinewidth": 0,
              "ticks": ""
             }
            },
            "type": "scattergeo"
           }
          ],
          "scattergl": [
           {
            "marker": {
             "colorbar": {
              "outlinewidth": 0,
              "ticks": ""
             }
            },
            "type": "scattergl"
           }
          ],
          "scattermap": [
           {
            "marker": {
             "colorbar": {
              "outlinewidth": 0,
              "ticks": ""
             }
            },
            "type": "scattermap"
           }
          ],
          "scattermapbox": [
           {
            "marker": {
             "colorbar": {
              "outlinewidth": 0,
              "ticks": ""
             }
            },
            "type": "scattermapbox"
           }
          ],
          "scatterpolar": [
           {
            "marker": {
             "colorbar": {
              "outlinewidth": 0,
              "ticks": ""
             }
            },
            "type": "scatterpolar"
           }
          ],
          "scatterpolargl": [
           {
            "marker": {
             "colorbar": {
              "outlinewidth": 0,
              "ticks": ""
             }
            },
            "type": "scatterpolargl"
           }
          ],
          "scatterternary": [
           {
            "marker": {
             "colorbar": {
              "outlinewidth": 0,
              "ticks": ""
             }
            },
            "type": "scatterternary"
           }
          ],
          "surface": [
           {
            "colorbar": {
             "outlinewidth": 0,
             "ticks": ""
            },
            "colorscale": [
             [
              0,
              "#0d0887"
             ],
             [
              0.1111111111111111,
              "#46039f"
             ],
             [
              0.2222222222222222,
              "#7201a8"
             ],
             [
              0.3333333333333333,
              "#9c179e"
             ],
             [
              0.4444444444444444,
              "#bd3786"
             ],
             [
              0.5555555555555556,
              "#d8576b"
             ],
             [
              0.6666666666666666,
              "#ed7953"
             ],
             [
              0.7777777777777778,
              "#fb9f3a"
             ],
             [
              0.8888888888888888,
              "#fdca26"
             ],
             [
              1,
              "#f0f921"
             ]
            ],
            "type": "surface"
           }
          ],
          "table": [
           {
            "cells": {
             "fill": {
              "color": "#EBF0F8"
             },
             "line": {
              "color": "white"
             }
            },
            "header": {
             "fill": {
              "color": "#C8D4E3"
             },
             "line": {
              "color": "white"
             }
            },
            "type": "table"
           }
          ]
         },
         "layout": {
          "annotationdefaults": {
           "arrowcolor": "#2a3f5f",
           "arrowhead": 0,
           "arrowwidth": 1
          },
          "autotypenumbers": "strict",
          "coloraxis": {
           "colorbar": {
            "outlinewidth": 0,
            "ticks": ""
           }
          },
          "colorscale": {
           "diverging": [
            [
             0,
             "#8e0152"
            ],
            [
             0.1,
             "#c51b7d"
            ],
            [
             0.2,
             "#de77ae"
            ],
            [
             0.3,
             "#f1b6da"
            ],
            [
             0.4,
             "#fde0ef"
            ],
            [
             0.5,
             "#f7f7f7"
            ],
            [
             0.6,
             "#e6f5d0"
            ],
            [
             0.7,
             "#b8e186"
            ],
            [
             0.8,
             "#7fbc41"
            ],
            [
             0.9,
             "#4d9221"
            ],
            [
             1,
             "#276419"
            ]
           ],
           "sequential": [
            [
             0,
             "#0d0887"
            ],
            [
             0.1111111111111111,
             "#46039f"
            ],
            [
             0.2222222222222222,
             "#7201a8"
            ],
            [
             0.3333333333333333,
             "#9c179e"
            ],
            [
             0.4444444444444444,
             "#bd3786"
            ],
            [
             0.5555555555555556,
             "#d8576b"
            ],
            [
             0.6666666666666666,
             "#ed7953"
            ],
            [
             0.7777777777777778,
             "#fb9f3a"
            ],
            [
             0.8888888888888888,
             "#fdca26"
            ],
            [
             1,
             "#f0f921"
            ]
           ],
           "sequentialminus": [
            [
             0,
             "#0d0887"
            ],
            [
             0.1111111111111111,
             "#46039f"
            ],
            [
             0.2222222222222222,
             "#7201a8"
            ],
            [
             0.3333333333333333,
             "#9c179e"
            ],
            [
             0.4444444444444444,
             "#bd3786"
            ],
            [
             0.5555555555555556,
             "#d8576b"
            ],
            [
             0.6666666666666666,
             "#ed7953"
            ],
            [
             0.7777777777777778,
             "#fb9f3a"
            ],
            [
             0.8888888888888888,
             "#fdca26"
            ],
            [
             1,
             "#f0f921"
            ]
           ]
          },
          "colorway": [
           "#636efa",
           "#EF553B",
           "#00cc96",
           "#ab63fa",
           "#FFA15A",
           "#19d3f3",
           "#FF6692",
           "#B6E880",
           "#FF97FF",
           "#FECB52"
          ],
          "font": {
           "color": "#2a3f5f"
          },
          "geo": {
           "bgcolor": "white",
           "lakecolor": "white",
           "landcolor": "#E5ECF6",
           "showlakes": true,
           "showland": true,
           "subunitcolor": "white"
          },
          "hoverlabel": {
           "align": "left"
          },
          "hovermode": "closest",
          "mapbox": {
           "style": "light"
          },
          "paper_bgcolor": "white",
          "plot_bgcolor": "#E5ECF6",
          "polar": {
           "angularaxis": {
            "gridcolor": "white",
            "linecolor": "white",
            "ticks": ""
           },
           "bgcolor": "#E5ECF6",
           "radialaxis": {
            "gridcolor": "white",
            "linecolor": "white",
            "ticks": ""
           }
          },
          "scene": {
           "xaxis": {
            "backgroundcolor": "#E5ECF6",
            "gridcolor": "white",
            "gridwidth": 2,
            "linecolor": "white",
            "showbackground": true,
            "ticks": "",
            "zerolinecolor": "white"
           },
           "yaxis": {
            "backgroundcolor": "#E5ECF6",
            "gridcolor": "white",
            "gridwidth": 2,
            "linecolor": "white",
            "showbackground": true,
            "ticks": "",
            "zerolinecolor": "white"
           },
           "zaxis": {
            "backgroundcolor": "#E5ECF6",
            "gridcolor": "white",
            "gridwidth": 2,
            "linecolor": "white",
            "showbackground": true,
            "ticks": "",
            "zerolinecolor": "white"
           }
          },
          "shapedefaults": {
           "line": {
            "color": "#2a3f5f"
           }
          },
          "ternary": {
           "aaxis": {
            "gridcolor": "white",
            "linecolor": "white",
            "ticks": ""
           },
           "baxis": {
            "gridcolor": "white",
            "linecolor": "white",
            "ticks": ""
           },
           "bgcolor": "#E5ECF6",
           "caxis": {
            "gridcolor": "white",
            "linecolor": "white",
            "ticks": ""
           }
          },
          "title": {
           "x": 0.05
          },
          "xaxis": {
           "automargin": true,
           "gridcolor": "white",
           "linecolor": "white",
           "ticks": "",
           "title": {
            "standoff": 15
           },
           "zerolinecolor": "white",
           "zerolinewidth": 2
          },
          "yaxis": {
           "automargin": true,
           "gridcolor": "white",
           "linecolor": "white",
           "ticks": "",
           "title": {
            "standoff": 15
           },
           "zerolinecolor": "white",
           "zerolinewidth": 2
          }
         }
        },
        "xaxis": {
         "anchor": "y",
         "domain": [
          0,
          0.98
         ],
         "title": {
          "text": "Date"
         }
        },
        "xaxis2": {
         "anchor": "y2",
         "domain": [
          0,
          0.98
         ],
         "matches": "x",
         "showticklabels": false
        },
        "xaxis3": {
         "anchor": "y3",
         "domain": [
          0,
          0.98
         ],
         "matches": "x",
         "showticklabels": false
        },
        "yaxis": {
         "anchor": "x",
         "domain": [
          0,
          0.3133333333333333
         ],
         "title": {
          "text": "value"
         }
        },
        "yaxis2": {
         "anchor": "x2",
         "domain": [
          0.34333333333333327,
          0.6566666666666665
         ],
         "title": {
          "text": "value"
         }
        },
        "yaxis3": {
         "anchor": "x3",
         "domain": [
          0.6866666666666665,
          0.9999999999999998
         ],
         "title": {
          "text": "value"
         }
        }
       }
      }
     },
     "metadata": {},
     "output_type": "display_data"
    }
   ],
   "source": [
    "df_HPE_long = df_HPE.melt(ignore_index=False, var_name='metric', value_name='value')\n",
    "fig = px.line(df_HPE_long, y='value', facet_row='metric', color='metric')\n",
    "fig.update_yaxes(matches=None)\n",
    "fig.show()\n"
   ]
  },
  {
   "cell_type": "code",
   "execution_count": 92,
   "metadata": {},
   "outputs": [
    {
     "data": {
      "application/vnd.plotly.v1+json": {
       "config": {
        "plotlyServerURL": "https://plot.ly"
       },
       "data": [
        {
         "hovertemplate": "OVERSOLD_GROUP=1<br>Date=%{x}<br>Adj Close=%{y}<extra></extra>",
         "legendgroup": "1",
         "line": {
          "color": "#636efa",
          "dash": "solid"
         },
         "marker": {
          "symbol": "circle"
         },
         "mode": "lines",
         "name": "1",
         "orientation": "v",
         "showlegend": true,
         "type": "scatter",
         "x": [
          "2024-08-05T00:00:00",
          "2024-08-06T00:00:00",
          "2024-08-07T00:00:00",
          "2024-08-08T00:00:00",
          "2024-08-09T00:00:00",
          "2024-08-12T00:00:00",
          "2024-08-13T00:00:00",
          "2024-08-14T00:00:00",
          "2024-08-15T00:00:00",
          "2024-08-16T00:00:00"
         ],
         "xaxis": "x",
         "y": {
          "bdata": "AAAAgJoeMUAAAAAAWAUxQAAAAEB3fzBAAAAA4H8UMUAAAADgExwxQAAAAAAw9jBAAAAAAEaQMUAAAADAOIsxQAAAAODEgjJAAAAAAAlsMkA=",
          "dtype": "f8"
         },
         "yaxis": "y"
        },
        {
         "hovertemplate": "OVERSOLD_GROUP=2<br>Date=%{x}<br>Adj Close=%{y}<extra></extra>",
         "legendgroup": "2",
         "line": {
          "color": "#EF553B",
          "dash": "solid"
         },
         "marker": {
          "symbol": "circle"
         },
         "mode": "lines",
         "name": "2",
         "orientation": "v",
         "showlegend": true,
         "type": "scatter",
         "x": [
          "2024-09-10T00:00:00",
          "2024-09-11T00:00:00",
          "2024-09-12T00:00:00",
          "2024-09-13T00:00:00",
          "2024-09-16T00:00:00",
          "2024-09-17T00:00:00",
          "2024-09-18T00:00:00",
          "2024-09-19T00:00:00",
          "2024-09-20T00:00:00",
          "2024-09-23T00:00:00"
         ],
         "xaxis": "x",
         "y": {
          "bdata": "AAAAQLXFL0AAAABAoi4wQAAAAIDUojBAAAAAYBXsMEAAAACgSgAxQAAAAEBQ9TFAAAAAwJIOMkAAAADgkbsyQAAAAMBksTJAAAAAYHu2MkA=",
          "dtype": "f8"
         },
         "yaxis": "y"
        }
       ],
       "layout": {
        "height": 600,
        "legend": {
         "title": {
          "text": "OVERSOLD_GROUP"
         },
         "tracegroupgap": 0
        },
        "template": {
         "data": {
          "bar": [
           {
            "error_x": {
             "color": "#f2f5fa"
            },
            "error_y": {
             "color": "#f2f5fa"
            },
            "marker": {
             "line": {
              "color": "rgb(17,17,17)",
              "width": 0.5
             },
             "pattern": {
              "fillmode": "overlay",
              "size": 10,
              "solidity": 0.2
             }
            },
            "type": "bar"
           }
          ],
          "barpolar": [
           {
            "marker": {
             "line": {
              "color": "rgb(17,17,17)",
              "width": 0.5
             },
             "pattern": {
              "fillmode": "overlay",
              "size": 10,
              "solidity": 0.2
             }
            },
            "type": "barpolar"
           }
          ],
          "carpet": [
           {
            "aaxis": {
             "endlinecolor": "#A2B1C6",
             "gridcolor": "#506784",
             "linecolor": "#506784",
             "minorgridcolor": "#506784",
             "startlinecolor": "#A2B1C6"
            },
            "baxis": {
             "endlinecolor": "#A2B1C6",
             "gridcolor": "#506784",
             "linecolor": "#506784",
             "minorgridcolor": "#506784",
             "startlinecolor": "#A2B1C6"
            },
            "type": "carpet"
           }
          ],
          "choropleth": [
           {
            "colorbar": {
             "outlinewidth": 0,
             "ticks": ""
            },
            "type": "choropleth"
           }
          ],
          "contour": [
           {
            "colorbar": {
             "outlinewidth": 0,
             "ticks": ""
            },
            "colorscale": [
             [
              0,
              "#0d0887"
             ],
             [
              0.1111111111111111,
              "#46039f"
             ],
             [
              0.2222222222222222,
              "#7201a8"
             ],
             [
              0.3333333333333333,
              "#9c179e"
             ],
             [
              0.4444444444444444,
              "#bd3786"
             ],
             [
              0.5555555555555556,
              "#d8576b"
             ],
             [
              0.6666666666666666,
              "#ed7953"
             ],
             [
              0.7777777777777778,
              "#fb9f3a"
             ],
             [
              0.8888888888888888,
              "#fdca26"
             ],
             [
              1,
              "#f0f921"
             ]
            ],
            "type": "contour"
           }
          ],
          "contourcarpet": [
           {
            "colorbar": {
             "outlinewidth": 0,
             "ticks": ""
            },
            "type": "contourcarpet"
           }
          ],
          "heatmap": [
           {
            "colorbar": {
             "outlinewidth": 0,
             "ticks": ""
            },
            "colorscale": [
             [
              0,
              "#0d0887"
             ],
             [
              0.1111111111111111,
              "#46039f"
             ],
             [
              0.2222222222222222,
              "#7201a8"
             ],
             [
              0.3333333333333333,
              "#9c179e"
             ],
             [
              0.4444444444444444,
              "#bd3786"
             ],
             [
              0.5555555555555556,
              "#d8576b"
             ],
             [
              0.6666666666666666,
              "#ed7953"
             ],
             [
              0.7777777777777778,
              "#fb9f3a"
             ],
             [
              0.8888888888888888,
              "#fdca26"
             ],
             [
              1,
              "#f0f921"
             ]
            ],
            "type": "heatmap"
           }
          ],
          "histogram": [
           {
            "marker": {
             "pattern": {
              "fillmode": "overlay",
              "size": 10,
              "solidity": 0.2
             }
            },
            "type": "histogram"
           }
          ],
          "histogram2d": [
           {
            "colorbar": {
             "outlinewidth": 0,
             "ticks": ""
            },
            "colorscale": [
             [
              0,
              "#0d0887"
             ],
             [
              0.1111111111111111,
              "#46039f"
             ],
             [
              0.2222222222222222,
              "#7201a8"
             ],
             [
              0.3333333333333333,
              "#9c179e"
             ],
             [
              0.4444444444444444,
              "#bd3786"
             ],
             [
              0.5555555555555556,
              "#d8576b"
             ],
             [
              0.6666666666666666,
              "#ed7953"
             ],
             [
              0.7777777777777778,
              "#fb9f3a"
             ],
             [
              0.8888888888888888,
              "#fdca26"
             ],
             [
              1,
              "#f0f921"
             ]
            ],
            "type": "histogram2d"
           }
          ],
          "histogram2dcontour": [
           {
            "colorbar": {
             "outlinewidth": 0,
             "ticks": ""
            },
            "colorscale": [
             [
              0,
              "#0d0887"
             ],
             [
              0.1111111111111111,
              "#46039f"
             ],
             [
              0.2222222222222222,
              "#7201a8"
             ],
             [
              0.3333333333333333,
              "#9c179e"
             ],
             [
              0.4444444444444444,
              "#bd3786"
             ],
             [
              0.5555555555555556,
              "#d8576b"
             ],
             [
              0.6666666666666666,
              "#ed7953"
             ],
             [
              0.7777777777777778,
              "#fb9f3a"
             ],
             [
              0.8888888888888888,
              "#fdca26"
             ],
             [
              1,
              "#f0f921"
             ]
            ],
            "type": "histogram2dcontour"
           }
          ],
          "mesh3d": [
           {
            "colorbar": {
             "outlinewidth": 0,
             "ticks": ""
            },
            "type": "mesh3d"
           }
          ],
          "parcoords": [
           {
            "line": {
             "colorbar": {
              "outlinewidth": 0,
              "ticks": ""
             }
            },
            "type": "parcoords"
           }
          ],
          "pie": [
           {
            "automargin": true,
            "type": "pie"
           }
          ],
          "scatter": [
           {
            "marker": {
             "line": {
              "color": "#283442"
             }
            },
            "type": "scatter"
           }
          ],
          "scatter3d": [
           {
            "line": {
             "colorbar": {
              "outlinewidth": 0,
              "ticks": ""
             }
            },
            "marker": {
             "colorbar": {
              "outlinewidth": 0,
              "ticks": ""
             }
            },
            "type": "scatter3d"
           }
          ],
          "scattercarpet": [
           {
            "marker": {
             "colorbar": {
              "outlinewidth": 0,
              "ticks": ""
             }
            },
            "type": "scattercarpet"
           }
          ],
          "scattergeo": [
           {
            "marker": {
             "colorbar": {
              "outlinewidth": 0,
              "ticks": ""
             }
            },
            "type": "scattergeo"
           }
          ],
          "scattergl": [
           {
            "marker": {
             "line": {
              "color": "#283442"
             }
            },
            "type": "scattergl"
           }
          ],
          "scattermap": [
           {
            "marker": {
             "colorbar": {
              "outlinewidth": 0,
              "ticks": ""
             }
            },
            "type": "scattermap"
           }
          ],
          "scattermapbox": [
           {
            "marker": {
             "colorbar": {
              "outlinewidth": 0,
              "ticks": ""
             }
            },
            "type": "scattermapbox"
           }
          ],
          "scatterpolar": [
           {
            "marker": {
             "colorbar": {
              "outlinewidth": 0,
              "ticks": ""
             }
            },
            "type": "scatterpolar"
           }
          ],
          "scatterpolargl": [
           {
            "marker": {
             "colorbar": {
              "outlinewidth": 0,
              "ticks": ""
             }
            },
            "type": "scatterpolargl"
           }
          ],
          "scatterternary": [
           {
            "marker": {
             "colorbar": {
              "outlinewidth": 0,
              "ticks": ""
             }
            },
            "type": "scatterternary"
           }
          ],
          "surface": [
           {
            "colorbar": {
             "outlinewidth": 0,
             "ticks": ""
            },
            "colorscale": [
             [
              0,
              "#0d0887"
             ],
             [
              0.1111111111111111,
              "#46039f"
             ],
             [
              0.2222222222222222,
              "#7201a8"
             ],
             [
              0.3333333333333333,
              "#9c179e"
             ],
             [
              0.4444444444444444,
              "#bd3786"
             ],
             [
              0.5555555555555556,
              "#d8576b"
             ],
             [
              0.6666666666666666,
              "#ed7953"
             ],
             [
              0.7777777777777778,
              "#fb9f3a"
             ],
             [
              0.8888888888888888,
              "#fdca26"
             ],
             [
              1,
              "#f0f921"
             ]
            ],
            "type": "surface"
           }
          ],
          "table": [
           {
            "cells": {
             "fill": {
              "color": "#506784"
             },
             "line": {
              "color": "rgb(17,17,17)"
             }
            },
            "header": {
             "fill": {
              "color": "#2a3f5f"
             },
             "line": {
              "color": "rgb(17,17,17)"
             }
            },
            "type": "table"
           }
          ]
         },
         "layout": {
          "annotationdefaults": {
           "arrowcolor": "#f2f5fa",
           "arrowhead": 0,
           "arrowwidth": 1
          },
          "autotypenumbers": "strict",
          "coloraxis": {
           "colorbar": {
            "outlinewidth": 0,
            "ticks": ""
           }
          },
          "colorscale": {
           "diverging": [
            [
             0,
             "#8e0152"
            ],
            [
             0.1,
             "#c51b7d"
            ],
            [
             0.2,
             "#de77ae"
            ],
            [
             0.3,
             "#f1b6da"
            ],
            [
             0.4,
             "#fde0ef"
            ],
            [
             0.5,
             "#f7f7f7"
            ],
            [
             0.6,
             "#e6f5d0"
            ],
            [
             0.7,
             "#b8e186"
            ],
            [
             0.8,
             "#7fbc41"
            ],
            [
             0.9,
             "#4d9221"
            ],
            [
             1,
             "#276419"
            ]
           ],
           "sequential": [
            [
             0,
             "#0d0887"
            ],
            [
             0.1111111111111111,
             "#46039f"
            ],
            [
             0.2222222222222222,
             "#7201a8"
            ],
            [
             0.3333333333333333,
             "#9c179e"
            ],
            [
             0.4444444444444444,
             "#bd3786"
            ],
            [
             0.5555555555555556,
             "#d8576b"
            ],
            [
             0.6666666666666666,
             "#ed7953"
            ],
            [
             0.7777777777777778,
             "#fb9f3a"
            ],
            [
             0.8888888888888888,
             "#fdca26"
            ],
            [
             1,
             "#f0f921"
            ]
           ],
           "sequentialminus": [
            [
             0,
             "#0d0887"
            ],
            [
             0.1111111111111111,
             "#46039f"
            ],
            [
             0.2222222222222222,
             "#7201a8"
            ],
            [
             0.3333333333333333,
             "#9c179e"
            ],
            [
             0.4444444444444444,
             "#bd3786"
            ],
            [
             0.5555555555555556,
             "#d8576b"
            ],
            [
             0.6666666666666666,
             "#ed7953"
            ],
            [
             0.7777777777777778,
             "#fb9f3a"
            ],
            [
             0.8888888888888888,
             "#fdca26"
            ],
            [
             1,
             "#f0f921"
            ]
           ]
          },
          "colorway": [
           "#636efa",
           "#EF553B",
           "#00cc96",
           "#ab63fa",
           "#FFA15A",
           "#19d3f3",
           "#FF6692",
           "#B6E880",
           "#FF97FF",
           "#FECB52"
          ],
          "font": {
           "color": "#f2f5fa"
          },
          "geo": {
           "bgcolor": "rgb(17,17,17)",
           "lakecolor": "rgb(17,17,17)",
           "landcolor": "rgb(17,17,17)",
           "showlakes": true,
           "showland": true,
           "subunitcolor": "#506784"
          },
          "hoverlabel": {
           "align": "left"
          },
          "hovermode": "closest",
          "mapbox": {
           "style": "dark"
          },
          "paper_bgcolor": "rgb(17,17,17)",
          "plot_bgcolor": "rgb(17,17,17)",
          "polar": {
           "angularaxis": {
            "gridcolor": "#506784",
            "linecolor": "#506784",
            "ticks": ""
           },
           "bgcolor": "rgb(17,17,17)",
           "radialaxis": {
            "gridcolor": "#506784",
            "linecolor": "#506784",
            "ticks": ""
           }
          },
          "scene": {
           "xaxis": {
            "backgroundcolor": "rgb(17,17,17)",
            "gridcolor": "#506784",
            "gridwidth": 2,
            "linecolor": "#506784",
            "showbackground": true,
            "ticks": "",
            "zerolinecolor": "#C8D4E3"
           },
           "yaxis": {
            "backgroundcolor": "rgb(17,17,17)",
            "gridcolor": "#506784",
            "gridwidth": 2,
            "linecolor": "#506784",
            "showbackground": true,
            "ticks": "",
            "zerolinecolor": "#C8D4E3"
           },
           "zaxis": {
            "backgroundcolor": "rgb(17,17,17)",
            "gridcolor": "#506784",
            "gridwidth": 2,
            "linecolor": "#506784",
            "showbackground": true,
            "ticks": "",
            "zerolinecolor": "#C8D4E3"
           }
          },
          "shapedefaults": {
           "line": {
            "color": "#f2f5fa"
           }
          },
          "sliderdefaults": {
           "bgcolor": "#C8D4E3",
           "bordercolor": "rgb(17,17,17)",
           "borderwidth": 1,
           "tickwidth": 0
          },
          "ternary": {
           "aaxis": {
            "gridcolor": "#506784",
            "linecolor": "#506784",
            "ticks": ""
           },
           "baxis": {
            "gridcolor": "#506784",
            "linecolor": "#506784",
            "ticks": ""
           },
           "bgcolor": "rgb(17,17,17)",
           "caxis": {
            "gridcolor": "#506784",
            "linecolor": "#506784",
            "ticks": ""
           }
          },
          "title": {
           "x": 0.05
          },
          "updatemenudefaults": {
           "bgcolor": "#506784",
           "borderwidth": 0
          },
          "xaxis": {
           "automargin": true,
           "gridcolor": "#283442",
           "linecolor": "#506784",
           "ticks": "",
           "title": {
            "standoff": 15
           },
           "zerolinecolor": "#283442",
           "zerolinewidth": 2
          },
          "yaxis": {
           "automargin": true,
           "gridcolor": "#283442",
           "linecolor": "#506784",
           "ticks": "",
           "title": {
            "standoff": 15
           },
           "zerolinecolor": "#283442",
           "zerolinewidth": 2
          }
         }
        },
        "title": {
         "text": "Top 2 Oversold Events"
        },
        "xaxis": {
         "anchor": "y",
         "domain": [
          0,
          1
         ],
         "title": {
          "text": "Date"
         }
        },
        "yaxis": {
         "anchor": "x",
         "domain": [
          0,
          1
         ],
         "title": {
          "text": "Adj Close"
         }
        }
       }
      }
     },
     "metadata": {},
     "output_type": "display_data"
    }
   ],
   "source": [
    "# Create a cumulative sum to group oversold events\n",
    "df_HPE['OVERSOLD_GROUP'] = df_HPE['RSI_BECAME_OVERSOLD'].cumsum()\n",
    "\n",
    "# Filter the DataFrame for oversold events\n",
    "df_HPE_OVERSOLD = df_HPE[df_HPE['OVERSOLD_GROUP'] > 0]\n",
    "\n",
    "# Get the top 3 oversold groups\n",
    "top_2_oversold_groups = df_HPE_OVERSOLD['OVERSOLD_GROUP'].value_counts().nlargest(2).index\n",
    "\n",
    "# Filter only top 3 oversold groups\n",
    "df_top_2_oversold = df_HPE_OVERSOLD[df_HPE_OVERSOLD['OVERSOLD_GROUP'].isin(top_2_oversold_groups)]\n",
    "\n",
    "# Group by oversold group and take the first 10 entries from each group\n",
    "df_top_2_oversold_10 = df_top_2_oversold.groupby('OVERSOLD_GROUP').head(10)\n",
    "\n",
    "# Create the figure using Plotly Express\n",
    "fig = px.line(df_top_2_oversold_10, \n",
    "              y='Adj Close', \n",
    "              color='OVERSOLD_GROUP',  # Color by oversold group\n",
    "              title=\"Top 2 Oversold Events\",\n",
    "              height=600,\n",
    "              template=\"plotly_dark\")  # Use a dark theme\n",
    "\n",
    "# Show the plot\n",
    "fig.show()"
   ]
  },
  {
   "cell_type": "markdown",
   "metadata": {},
   "source": [
    "# 📊 Get Latest RSI for All S&P 500 Stocks and Keep Sector Info 🏢\n",
    "\n",
    "Stay updated with the **Relative Strength Index (RSI)** for all **S&P 500 stocks** 📈 and keep track of their **sector information** 🏙️.\n"
   ]
  },
  {
   "cell_type": "code",
   "execution_count": 93,
   "metadata": {},
   "outputs": [
    {
     "data": {
      "text/html": [
       "<div>\n",
       "<style scoped>\n",
       "    .dataframe tbody tr th:only-of-type {\n",
       "        vertical-align: middle;\n",
       "    }\n",
       "\n",
       "    .dataframe tbody tr th {\n",
       "        vertical-align: top;\n",
       "    }\n",
       "\n",
       "    .dataframe thead th {\n",
       "        text-align: right;\n",
       "    }\n",
       "</style>\n",
       "<table border=\"1\" class=\"dataframe\">\n",
       "  <thead>\n",
       "    <tr style=\"text-align: right;\">\n",
       "      <th></th>\n",
       "      <th>Symbol</th>\n",
       "      <th>GICS Sector</th>\n",
       "      <th>Latest RSI</th>\n",
       "    </tr>\n",
       "  </thead>\n",
       "  <tbody>\n",
       "    <tr>\n",
       "      <th>0</th>\n",
       "      <td>HPE</td>\n",
       "      <td>Information Technology</td>\n",
       "      <td>14.919546</td>\n",
       "    </tr>\n",
       "    <tr>\n",
       "      <th>1</th>\n",
       "      <td>DECK</td>\n",
       "      <td>Consumer Discretionary</td>\n",
       "      <td>22.028820</td>\n",
       "    </tr>\n",
       "    <tr>\n",
       "      <th>2</th>\n",
       "      <td>CZR</td>\n",
       "      <td>Consumer Discretionary</td>\n",
       "      <td>22.283987</td>\n",
       "    </tr>\n",
       "    <tr>\n",
       "      <th>3</th>\n",
       "      <td>VMC</td>\n",
       "      <td>Materials</td>\n",
       "      <td>22.837085</td>\n",
       "    </tr>\n",
       "    <tr>\n",
       "      <th>4</th>\n",
       "      <td>DAY</td>\n",
       "      <td>Industrials</td>\n",
       "      <td>23.003162</td>\n",
       "    </tr>\n",
       "    <tr>\n",
       "      <th>...</th>\n",
       "      <td>...</td>\n",
       "      <td>...</td>\n",
       "      <td>...</td>\n",
       "    </tr>\n",
       "    <tr>\n",
       "      <th>498</th>\n",
       "      <td>JKHY</td>\n",
       "      <td>Financials</td>\n",
       "      <td>78.343400</td>\n",
       "    </tr>\n",
       "    <tr>\n",
       "      <th>499</th>\n",
       "      <td>GILD</td>\n",
       "      <td>Health Care</td>\n",
       "      <td>78.477748</td>\n",
       "    </tr>\n",
       "    <tr>\n",
       "      <th>500</th>\n",
       "      <td>YUM</td>\n",
       "      <td>Consumer Discretionary</td>\n",
       "      <td>80.344443</td>\n",
       "    </tr>\n",
       "    <tr>\n",
       "      <th>501</th>\n",
       "      <td>BF.B</td>\n",
       "      <td>Consumer Staples</td>\n",
       "      <td>100.000000</td>\n",
       "    </tr>\n",
       "    <tr>\n",
       "      <th>502</th>\n",
       "      <td>BRK.B</td>\n",
       "      <td>Financials</td>\n",
       "      <td>100.000000</td>\n",
       "    </tr>\n",
       "  </tbody>\n",
       "</table>\n",
       "<p>503 rows × 3 columns</p>\n",
       "</div>"
      ],
      "text/plain": [
       "    Symbol             GICS Sector  Latest RSI\n",
       "0      HPE  Information Technology   14.919546\n",
       "1     DECK  Consumer Discretionary   22.028820\n",
       "2      CZR  Consumer Discretionary   22.283987\n",
       "3      VMC               Materials   22.837085\n",
       "4      DAY             Industrials   23.003162\n",
       "..     ...                     ...         ...\n",
       "498   JKHY              Financials   78.343400\n",
       "499   GILD             Health Care   78.477748\n",
       "500    YUM  Consumer Discretionary   80.344443\n",
       "501   BF.B        Consumer Staples  100.000000\n",
       "502  BRK.B              Financials  100.000000\n",
       "\n",
       "[503 rows x 3 columns]"
      ]
     },
     "execution_count": 93,
     "metadata": {},
     "output_type": "execute_result"
    }
   ],
   "source": [
    "df_rsi = df_long.groupby(['Symbol', 'GICS Sector'])['Adj Close'].apply(lambda x: ta.momentum.RSIIndicator(x, window=14).rsi().iloc[-1])\n",
    "df_rsi = df_rsi.to_frame('Latest RSI').reset_index()\n",
    "\n",
    "# Sort by RSI values in ascending order and drop NaNs\n",
    "df_rsi = df_rsi.sort_values(by='Latest RSI', ascending=True).dropna().reset_index(drop=True)\n",
    "\n",
    "df_rsi\n"
   ]
  },
  {
   "cell_type": "markdown",
   "metadata": {},
   "source": [
    "## 🧐 Inspecting the RSI Data  \n",
    "\n",
    "After reviewing the RSI values, we noticed that the tickers **BF.B** & **BRK.B** have an **RSI of 100 for NA values**. This could lead to misleading insights.  \n",
    "\n",
    "🔍 **Key takeaway:** Always clean your data before analysis! If not, you risk the classic **\"garbage in, garbage out\"** scenario.  \n",
    "\n",
    "### 🛠️ Fixing the Issue  \n",
    "To ensure accurate results, we'll remove these anomalies before proceeding. Let's keep our data **clean and reliable!** 🚀  \n"
   ]
  },
  {
   "cell_type": "code",
   "execution_count": 94,
   "metadata": {},
   "outputs": [
    {
     "data": {
      "text/html": [
       "<div>\n",
       "<style scoped>\n",
       "    .dataframe tbody tr th:only-of-type {\n",
       "        vertical-align: middle;\n",
       "    }\n",
       "\n",
       "    .dataframe tbody tr th {\n",
       "        vertical-align: top;\n",
       "    }\n",
       "\n",
       "    .dataframe thead th {\n",
       "        text-align: right;\n",
       "    }\n",
       "</style>\n",
       "<table border=\"1\" class=\"dataframe\">\n",
       "  <thead>\n",
       "    <tr style=\"text-align: right;\">\n",
       "      <th></th>\n",
       "      <th>Symbol</th>\n",
       "      <th>GICS Sector</th>\n",
       "      <th>Latest RSI</th>\n",
       "    </tr>\n",
       "  </thead>\n",
       "  <tbody>\n",
       "    <tr>\n",
       "      <th>0</th>\n",
       "      <td>HPE</td>\n",
       "      <td>Information Technology</td>\n",
       "      <td>14.919546</td>\n",
       "    </tr>\n",
       "    <tr>\n",
       "      <th>1</th>\n",
       "      <td>DECK</td>\n",
       "      <td>Consumer Discretionary</td>\n",
       "      <td>22.028820</td>\n",
       "    </tr>\n",
       "    <tr>\n",
       "      <th>2</th>\n",
       "      <td>CZR</td>\n",
       "      <td>Consumer Discretionary</td>\n",
       "      <td>22.283987</td>\n",
       "    </tr>\n",
       "    <tr>\n",
       "      <th>3</th>\n",
       "      <td>VMC</td>\n",
       "      <td>Materials</td>\n",
       "      <td>22.837085</td>\n",
       "    </tr>\n",
       "    <tr>\n",
       "      <th>4</th>\n",
       "      <td>DAY</td>\n",
       "      <td>Industrials</td>\n",
       "      <td>23.003162</td>\n",
       "    </tr>\n",
       "    <tr>\n",
       "      <th>...</th>\n",
       "      <td>...</td>\n",
       "      <td>...</td>\n",
       "      <td>...</td>\n",
       "    </tr>\n",
       "    <tr>\n",
       "      <th>496</th>\n",
       "      <td>ABBV</td>\n",
       "      <td>Health Care</td>\n",
       "      <td>76.741734</td>\n",
       "    </tr>\n",
       "    <tr>\n",
       "      <th>497</th>\n",
       "      <td>VZ</td>\n",
       "      <td>Communication Services</td>\n",
       "      <td>76.991988</td>\n",
       "    </tr>\n",
       "    <tr>\n",
       "      <th>498</th>\n",
       "      <td>JKHY</td>\n",
       "      <td>Financials</td>\n",
       "      <td>78.343400</td>\n",
       "    </tr>\n",
       "    <tr>\n",
       "      <th>499</th>\n",
       "      <td>GILD</td>\n",
       "      <td>Health Care</td>\n",
       "      <td>78.477748</td>\n",
       "    </tr>\n",
       "    <tr>\n",
       "      <th>500</th>\n",
       "      <td>YUM</td>\n",
       "      <td>Consumer Discretionary</td>\n",
       "      <td>80.344443</td>\n",
       "    </tr>\n",
       "  </tbody>\n",
       "</table>\n",
       "<p>501 rows × 3 columns</p>\n",
       "</div>"
      ],
      "text/plain": [
       "    Symbol             GICS Sector  Latest RSI\n",
       "0      HPE  Information Technology   14.919546\n",
       "1     DECK  Consumer Discretionary   22.028820\n",
       "2      CZR  Consumer Discretionary   22.283987\n",
       "3      VMC               Materials   22.837085\n",
       "4      DAY             Industrials   23.003162\n",
       "..     ...                     ...         ...\n",
       "496   ABBV             Health Care   76.741734\n",
       "497     VZ  Communication Services   76.991988\n",
       "498   JKHY              Financials   78.343400\n",
       "499   GILD             Health Care   78.477748\n",
       "500    YUM  Consumer Discretionary   80.344443\n",
       "\n",
       "[501 rows x 3 columns]"
      ]
     },
     "execution_count": 94,
     "metadata": {},
     "output_type": "execute_result"
    }
   ],
   "source": [
    "# Remove rows where RSI is 100 and Symbol is BF.B or BRK.B\n",
    "df_rsi_cleaned = df_rsi[~((df_rsi['Latest RSI'] == 100) & (df_rsi['Symbol'].isin(['BF.B', 'BRK.B'])))]\n",
    "\n",
    "# Display cleaned DataFrame\n",
    "df_rsi_cleaned\n"
   ]
  },
  {
   "cell_type": "code",
   "execution_count": 95,
   "metadata": {},
   "outputs": [
    {
     "data": {
      "application/vnd.plotly.v1+json": {
       "config": {
        "plotlyServerURL": "https://plot.ly"
       },
       "data": [
        {
         "hovertemplate": "Stock Symbol=%{y}<br>RSI Value=%{x}<extra></extra>",
         "legendgroup": "YUM",
         "marker": {
          "color": "#636efa",
          "pattern": {
           "shape": ""
          }
         },
         "name": "YUM",
         "orientation": "h",
         "showlegend": true,
         "textfont": {
          "size": 16
         },
         "textposition": "inside",
         "texttemplate": "%{y} %{x:.2f}",
         "type": "bar",
         "x": {
          "bdata": "bAMcWQsWVEA=",
          "dtype": "f8"
         },
         "xaxis": "x",
         "y": [
          "YUM"
         ],
         "yaxis": "y"
        },
        {
         "hovertemplate": "Stock Symbol=%{y}<br>RSI Value=%{x}<extra></extra>",
         "legendgroup": "GILD",
         "marker": {
          "color": "#EF553B",
          "pattern": {
           "shape": ""
          }
         },
         "name": "GILD",
         "orientation": "h",
         "showlegend": true,
         "textfont": {
          "size": 16
         },
         "textposition": "inside",
         "texttemplate": "%{y} %{x:.2f}",
         "type": "bar",
         "x": {
          "bdata": "rItIa5OeU0A=",
          "dtype": "f8"
         },
         "xaxis": "x",
         "y": [
          "GILD"
         ],
         "yaxis": "y"
        },
        {
         "hovertemplate": "Stock Symbol=%{y}<br>RSI Value=%{x}<extra></extra>",
         "legendgroup": "JKHY",
         "marker": {
          "color": "#00cc96",
          "pattern": {
           "shape": ""
          }
         },
         "name": "JKHY",
         "orientation": "h",
         "showlegend": true,
         "textfont": {
          "size": 16
         },
         "textposition": "inside",
         "texttemplate": "%{y} %{x:.2f}",
         "type": "bar",
         "x": {
          "bdata": "MdLwQvqVU0A=",
          "dtype": "f8"
         },
         "xaxis": "x",
         "y": [
          "JKHY"
         ],
         "yaxis": "y"
        },
        {
         "hovertemplate": "Stock Symbol=%{y}<br>RSI Value=%{x}<extra></extra>",
         "legendgroup": "VZ",
         "marker": {
          "color": "#ab63fa",
          "pattern": {
           "shape": ""
          }
         },
         "name": "VZ",
         "orientation": "h",
         "showlegend": true,
         "textfont": {
          "size": 16
         },
         "textposition": "inside",
         "texttemplate": "%{y} %{x:.2f}",
         "type": "bar",
         "x": {
          "bdata": "f6MPunw/U0A=",
          "dtype": "f8"
         },
         "xaxis": "x",
         "y": [
          "VZ"
         ],
         "yaxis": "y"
        },
        {
         "hovertemplate": "Stock Symbol=%{y}<br>RSI Value=%{x}<extra></extra>",
         "legendgroup": "ABBV",
         "marker": {
          "color": "#FFA15A",
          "pattern": {
           "shape": ""
          }
         },
         "name": "ABBV",
         "orientation": "h",
         "showlegend": true,
         "textfont": {
          "size": 16
         },
         "textposition": "inside",
         "texttemplate": "%{y} %{x:.2f}",
         "type": "bar",
         "x": {
          "bdata": "AoEhkXgvU0A=",
          "dtype": "f8"
         },
         "xaxis": "x",
         "y": [
          "ABBV"
         ],
         "yaxis": "y"
        },
        {
         "hovertemplate": "Stock Symbol=%{y}<br>RSI Value=%{x}<extra></extra>",
         "legendgroup": "AWK",
         "marker": {
          "color": "#19d3f3",
          "pattern": {
           "shape": ""
          }
         },
         "name": "AWK",
         "orientation": "h",
         "showlegend": true,
         "textfont": {
          "size": 16
         },
         "textposition": "inside",
         "texttemplate": "%{y} %{x:.2f}",
         "type": "bar",
         "x": {
          "bdata": "gKkdEXkGU0A=",
          "dtype": "f8"
         },
         "xaxis": "x",
         "y": [
          "AWK"
         ],
         "yaxis": "y"
        },
        {
         "hovertemplate": "Stock Symbol=%{y}<br>RSI Value=%{x}<extra></extra>",
         "legendgroup": "EXPD",
         "marker": {
          "color": "#FF6692",
          "pattern": {
           "shape": ""
          }
         },
         "name": "EXPD",
         "orientation": "h",
         "showlegend": true,
         "textfont": {
          "size": 16
         },
         "textposition": "inside",
         "texttemplate": "%{y} %{x:.2f}",
         "type": "bar",
         "x": {
          "bdata": "FkwySC34UkA=",
          "dtype": "f8"
         },
         "xaxis": "x",
         "y": [
          "EXPD"
         ],
         "yaxis": "y"
        },
        {
         "hovertemplate": "Stock Symbol=%{y}<br>RSI Value=%{x}<extra></extra>",
         "legendgroup": "LKQ",
         "marker": {
          "color": "#B6E880",
          "pattern": {
           "shape": ""
          }
         },
         "name": "LKQ",
         "orientation": "h",
         "showlegend": true,
         "textfont": {
          "size": 16
         },
         "textposition": "inside",
         "texttemplate": "%{y} %{x:.2f}",
         "type": "bar",
         "x": {
          "bdata": "R++PuvfmUkA=",
          "dtype": "f8"
         },
         "xaxis": "x",
         "y": [
          "LKQ"
         ],
         "yaxis": "y"
        },
        {
         "hovertemplate": "Stock Symbol=%{y}<br>RSI Value=%{x}<extra></extra>",
         "legendgroup": "AMGN",
         "marker": {
          "color": "#FF97FF",
          "pattern": {
           "shape": ""
          }
         },
         "name": "AMGN",
         "orientation": "h",
         "showlegend": true,
         "textfont": {
          "size": 16
         },
         "textposition": "inside",
         "texttemplate": "%{y} %{x:.2f}",
         "type": "bar",
         "x": {
          "bdata": "Dbr0BJC1UkA=",
          "dtype": "f8"
         },
         "xaxis": "x",
         "y": [
          "AMGN"
         ],
         "yaxis": "y"
        },
        {
         "hovertemplate": "Stock Symbol=%{y}<br>RSI Value=%{x}<extra></extra>",
         "legendgroup": "BRO",
         "marker": {
          "color": "#FECB52",
          "pattern": {
           "shape": ""
          }
         },
         "name": "BRO",
         "orientation": "h",
         "showlegend": true,
         "textfont": {
          "size": 16
         },
         "textposition": "inside",
         "texttemplate": "%{y} %{x:.2f}",
         "type": "bar",
         "x": {
          "bdata": "rtle1DqPUkA=",
          "dtype": "f8"
         },
         "xaxis": "x",
         "y": [
          "BRO"
         ],
         "yaxis": "y"
        },
        {
         "hovertemplate": "Stock Symbol=%{y}<br>RSI Value=%{x}<extra></extra>",
         "legendgroup": "HPE",
         "marker": {
          "color": "#636efa",
          "pattern": {
           "shape": ""
          }
         },
         "name": "HPE",
         "orientation": "h",
         "showlegend": true,
         "textfont": {
          "size": 16
         },
         "textposition": "inside",
         "texttemplate": "%{y} %{x:.2f}",
         "type": "bar",
         "x": {
          "bdata": "IKLXsc7WLUA=",
          "dtype": "f8"
         },
         "xaxis": "x",
         "y": [
          "HPE"
         ],
         "yaxis": "y"
        },
        {
         "hovertemplate": "Stock Symbol=%{y}<br>RSI Value=%{x}<extra></extra>",
         "legendgroup": "DECK",
         "marker": {
          "color": "#EF553B",
          "pattern": {
           "shape": ""
          }
         },
         "name": "DECK",
         "orientation": "h",
         "showlegend": true,
         "textfont": {
          "size": 16
         },
         "textposition": "inside",
         "texttemplate": "%{y} %{x:.2f}",
         "type": "bar",
         "x": {
          "bdata": "DB0HumAHNkA=",
          "dtype": "f8"
         },
         "xaxis": "x",
         "y": [
          "DECK"
         ],
         "yaxis": "y"
        },
        {
         "hovertemplate": "Stock Symbol=%{y}<br>RSI Value=%{x}<extra></extra>",
         "legendgroup": "CZR",
         "marker": {
          "color": "#00cc96",
          "pattern": {
           "shape": ""
          }
         },
         "name": "CZR",
         "orientation": "h",
         "showlegend": true,
         "textfont": {
          "size": 16
         },
         "textposition": "inside",
         "texttemplate": "%{y} %{x:.2f}",
         "type": "bar",
         "x": {
          "bdata": "pPaLXLNINkA=",
          "dtype": "f8"
         },
         "xaxis": "x",
         "y": [
          "CZR"
         ],
         "yaxis": "y"
        },
        {
         "hovertemplate": "Stock Symbol=%{y}<br>RSI Value=%{x}<extra></extra>",
         "legendgroup": "VMC",
         "marker": {
          "color": "#ab63fa",
          "pattern": {
           "shape": ""
          }
         },
         "name": "VMC",
         "orientation": "h",
         "showlegend": true,
         "textfont": {
          "size": 16
         },
         "textposition": "inside",
         "texttemplate": "%{y} %{x:.2f}",
         "type": "bar",
         "x": {
          "bdata": "DIQ5M0vWNkA=",
          "dtype": "f8"
         },
         "xaxis": "x",
         "y": [
          "VMC"
         ],
         "yaxis": "y"
        },
        {
         "hovertemplate": "Stock Symbol=%{y}<br>RSI Value=%{x}<extra></extra>",
         "legendgroup": "DAY",
         "marker": {
          "color": "#FFA15A",
          "pattern": {
           "shape": ""
          }
         },
         "name": "DAY",
         "orientation": "h",
         "showlegend": true,
         "textfont": {
          "size": 16
         },
         "textposition": "inside",
         "texttemplate": "%{y} %{x:.2f}",
         "type": "bar",
         "x": {
          "bdata": "wCmLM88AN0A=",
          "dtype": "f8"
         },
         "xaxis": "x",
         "y": [
          "DAY"
         ],
         "yaxis": "y"
        },
        {
         "hovertemplate": "Stock Symbol=%{y}<br>RSI Value=%{x}<extra></extra>",
         "legendgroup": "ADSK",
         "marker": {
          "color": "#19d3f3",
          "pattern": {
           "shape": ""
          }
         },
         "name": "ADSK",
         "orientation": "h",
         "showlegend": true,
         "textfont": {
          "size": 16
         },
         "textposition": "inside",
         "texttemplate": "%{y} %{x:.2f}",
         "type": "bar",
         "x": {
          "bdata": "0DbEK2+KN0A=",
          "dtype": "f8"
         },
         "xaxis": "x",
         "y": [
          "ADSK"
         ],
         "yaxis": "y"
        },
        {
         "hovertemplate": "Stock Symbol=%{y}<br>RSI Value=%{x}<extra></extra>",
         "legendgroup": "NCLH",
         "marker": {
          "color": "#FF6692",
          "pattern": {
           "shape": ""
          }
         },
         "name": "NCLH",
         "orientation": "h",
         "showlegend": true,
         "textfont": {
          "size": 16
         },
         "textposition": "inside",
         "texttemplate": "%{y} %{x:.2f}",
         "type": "bar",
         "x": {
          "bdata": "bICUKXgpOEA=",
          "dtype": "f8"
         },
         "xaxis": "x",
         "y": [
          "NCLH"
         ],
         "yaxis": "y"
        },
        {
         "hovertemplate": "Stock Symbol=%{y}<br>RSI Value=%{x}<extra></extra>",
         "legendgroup": "NTAP",
         "marker": {
          "color": "#B6E880",
          "pattern": {
           "shape": ""
          }
         },
         "name": "NTAP",
         "orientation": "h",
         "showlegend": true,
         "textfont": {
          "size": 16
         },
         "textposition": "inside",
         "texttemplate": "%{y} %{x:.2f}",
         "type": "bar",
         "x": {
          "bdata": "YCmtR//yOEA=",
          "dtype": "f8"
         },
         "xaxis": "x",
         "y": [
          "NTAP"
         ],
         "yaxis": "y"
        },
        {
         "hovertemplate": "Stock Symbol=%{y}<br>RSI Value=%{x}<extra></extra>",
         "legendgroup": "APO",
         "marker": {
          "color": "#FF97FF",
          "pattern": {
           "shape": ""
          }
         },
         "name": "APO",
         "orientation": "h",
         "showlegend": true,
         "textfont": {
          "size": 16
         },
         "textposition": "inside",
         "texttemplate": "%{y} %{x:.2f}",
         "type": "bar",
         "x": {
          "bdata": "CJz/Ld0DOUA=",
          "dtype": "f8"
         },
         "xaxis": "x",
         "y": [
          "APO"
         ],
         "yaxis": "y"
        },
        {
         "hovertemplate": "Stock Symbol=%{y}<br>RSI Value=%{x}<extra></extra>",
         "legendgroup": "KKR",
         "marker": {
          "color": "#FECB52",
          "pattern": {
           "shape": ""
          }
         },
         "name": "KKR",
         "orientation": "h",
         "showlegend": true,
         "textfont": {
          "size": 16
         },
         "textposition": "inside",
         "texttemplate": "%{y} %{x:.2f}",
         "type": "bar",
         "x": {
          "bdata": "HFVXSVJBOUA=",
          "dtype": "f8"
         },
         "xaxis": "x",
         "y": [
          "KKR"
         ],
         "yaxis": "y"
        }
       ],
       "layout": {
        "barmode": "relative",
        "height": 1200,
        "legend": {
         "title": {
          "text": "Stock Symbol"
         },
         "tracegroupgap": 0
        },
        "template": {
         "data": {
          "bar": [
           {
            "error_x": {
             "color": "#2a3f5f"
            },
            "error_y": {
             "color": "#2a3f5f"
            },
            "marker": {
             "line": {
              "color": "#E5ECF6",
              "width": 0.5
             },
             "pattern": {
              "fillmode": "overlay",
              "size": 10,
              "solidity": 0.2
             }
            },
            "type": "bar"
           }
          ],
          "barpolar": [
           {
            "marker": {
             "line": {
              "color": "#E5ECF6",
              "width": 0.5
             },
             "pattern": {
              "fillmode": "overlay",
              "size": 10,
              "solidity": 0.2
             }
            },
            "type": "barpolar"
           }
          ],
          "carpet": [
           {
            "aaxis": {
             "endlinecolor": "#2a3f5f",
             "gridcolor": "white",
             "linecolor": "white",
             "minorgridcolor": "white",
             "startlinecolor": "#2a3f5f"
            },
            "baxis": {
             "endlinecolor": "#2a3f5f",
             "gridcolor": "white",
             "linecolor": "white",
             "minorgridcolor": "white",
             "startlinecolor": "#2a3f5f"
            },
            "type": "carpet"
           }
          ],
          "choropleth": [
           {
            "colorbar": {
             "outlinewidth": 0,
             "ticks": ""
            },
            "type": "choropleth"
           }
          ],
          "contour": [
           {
            "colorbar": {
             "outlinewidth": 0,
             "ticks": ""
            },
            "colorscale": [
             [
              0,
              "#0d0887"
             ],
             [
              0.1111111111111111,
              "#46039f"
             ],
             [
              0.2222222222222222,
              "#7201a8"
             ],
             [
              0.3333333333333333,
              "#9c179e"
             ],
             [
              0.4444444444444444,
              "#bd3786"
             ],
             [
              0.5555555555555556,
              "#d8576b"
             ],
             [
              0.6666666666666666,
              "#ed7953"
             ],
             [
              0.7777777777777778,
              "#fb9f3a"
             ],
             [
              0.8888888888888888,
              "#fdca26"
             ],
             [
              1,
              "#f0f921"
             ]
            ],
            "type": "contour"
           }
          ],
          "contourcarpet": [
           {
            "colorbar": {
             "outlinewidth": 0,
             "ticks": ""
            },
            "type": "contourcarpet"
           }
          ],
          "heatmap": [
           {
            "colorbar": {
             "outlinewidth": 0,
             "ticks": ""
            },
            "colorscale": [
             [
              0,
              "#0d0887"
             ],
             [
              0.1111111111111111,
              "#46039f"
             ],
             [
              0.2222222222222222,
              "#7201a8"
             ],
             [
              0.3333333333333333,
              "#9c179e"
             ],
             [
              0.4444444444444444,
              "#bd3786"
             ],
             [
              0.5555555555555556,
              "#d8576b"
             ],
             [
              0.6666666666666666,
              "#ed7953"
             ],
             [
              0.7777777777777778,
              "#fb9f3a"
             ],
             [
              0.8888888888888888,
              "#fdca26"
             ],
             [
              1,
              "#f0f921"
             ]
            ],
            "type": "heatmap"
           }
          ],
          "histogram": [
           {
            "marker": {
             "pattern": {
              "fillmode": "overlay",
              "size": 10,
              "solidity": 0.2
             }
            },
            "type": "histogram"
           }
          ],
          "histogram2d": [
           {
            "colorbar": {
             "outlinewidth": 0,
             "ticks": ""
            },
            "colorscale": [
             [
              0,
              "#0d0887"
             ],
             [
              0.1111111111111111,
              "#46039f"
             ],
             [
              0.2222222222222222,
              "#7201a8"
             ],
             [
              0.3333333333333333,
              "#9c179e"
             ],
             [
              0.4444444444444444,
              "#bd3786"
             ],
             [
              0.5555555555555556,
              "#d8576b"
             ],
             [
              0.6666666666666666,
              "#ed7953"
             ],
             [
              0.7777777777777778,
              "#fb9f3a"
             ],
             [
              0.8888888888888888,
              "#fdca26"
             ],
             [
              1,
              "#f0f921"
             ]
            ],
            "type": "histogram2d"
           }
          ],
          "histogram2dcontour": [
           {
            "colorbar": {
             "outlinewidth": 0,
             "ticks": ""
            },
            "colorscale": [
             [
              0,
              "#0d0887"
             ],
             [
              0.1111111111111111,
              "#46039f"
             ],
             [
              0.2222222222222222,
              "#7201a8"
             ],
             [
              0.3333333333333333,
              "#9c179e"
             ],
             [
              0.4444444444444444,
              "#bd3786"
             ],
             [
              0.5555555555555556,
              "#d8576b"
             ],
             [
              0.6666666666666666,
              "#ed7953"
             ],
             [
              0.7777777777777778,
              "#fb9f3a"
             ],
             [
              0.8888888888888888,
              "#fdca26"
             ],
             [
              1,
              "#f0f921"
             ]
            ],
            "type": "histogram2dcontour"
           }
          ],
          "mesh3d": [
           {
            "colorbar": {
             "outlinewidth": 0,
             "ticks": ""
            },
            "type": "mesh3d"
           }
          ],
          "parcoords": [
           {
            "line": {
             "colorbar": {
              "outlinewidth": 0,
              "ticks": ""
             }
            },
            "type": "parcoords"
           }
          ],
          "pie": [
           {
            "automargin": true,
            "type": "pie"
           }
          ],
          "scatter": [
           {
            "fillpattern": {
             "fillmode": "overlay",
             "size": 10,
             "solidity": 0.2
            },
            "type": "scatter"
           }
          ],
          "scatter3d": [
           {
            "line": {
             "colorbar": {
              "outlinewidth": 0,
              "ticks": ""
             }
            },
            "marker": {
             "colorbar": {
              "outlinewidth": 0,
              "ticks": ""
             }
            },
            "type": "scatter3d"
           }
          ],
          "scattercarpet": [
           {
            "marker": {
             "colorbar": {
              "outlinewidth": 0,
              "ticks": ""
             }
            },
            "type": "scattercarpet"
           }
          ],
          "scattergeo": [
           {
            "marker": {
             "colorbar": {
              "outlinewidth": 0,
              "ticks": ""
             }
            },
            "type": "scattergeo"
           }
          ],
          "scattergl": [
           {
            "marker": {
             "colorbar": {
              "outlinewidth": 0,
              "ticks": ""
             }
            },
            "type": "scattergl"
           }
          ],
          "scattermap": [
           {
            "marker": {
             "colorbar": {
              "outlinewidth": 0,
              "ticks": ""
             }
            },
            "type": "scattermap"
           }
          ],
          "scattermapbox": [
           {
            "marker": {
             "colorbar": {
              "outlinewidth": 0,
              "ticks": ""
             }
            },
            "type": "scattermapbox"
           }
          ],
          "scatterpolar": [
           {
            "marker": {
             "colorbar": {
              "outlinewidth": 0,
              "ticks": ""
             }
            },
            "type": "scatterpolar"
           }
          ],
          "scatterpolargl": [
           {
            "marker": {
             "colorbar": {
              "outlinewidth": 0,
              "ticks": ""
             }
            },
            "type": "scatterpolargl"
           }
          ],
          "scatterternary": [
           {
            "marker": {
             "colorbar": {
              "outlinewidth": 0,
              "ticks": ""
             }
            },
            "type": "scatterternary"
           }
          ],
          "surface": [
           {
            "colorbar": {
             "outlinewidth": 0,
             "ticks": ""
            },
            "colorscale": [
             [
              0,
              "#0d0887"
             ],
             [
              0.1111111111111111,
              "#46039f"
             ],
             [
              0.2222222222222222,
              "#7201a8"
             ],
             [
              0.3333333333333333,
              "#9c179e"
             ],
             [
              0.4444444444444444,
              "#bd3786"
             ],
             [
              0.5555555555555556,
              "#d8576b"
             ],
             [
              0.6666666666666666,
              "#ed7953"
             ],
             [
              0.7777777777777778,
              "#fb9f3a"
             ],
             [
              0.8888888888888888,
              "#fdca26"
             ],
             [
              1,
              "#f0f921"
             ]
            ],
            "type": "surface"
           }
          ],
          "table": [
           {
            "cells": {
             "fill": {
              "color": "#EBF0F8"
             },
             "line": {
              "color": "white"
             }
            },
            "header": {
             "fill": {
              "color": "#C8D4E3"
             },
             "line": {
              "color": "white"
             }
            },
            "type": "table"
           }
          ]
         },
         "layout": {
          "annotationdefaults": {
           "arrowcolor": "#2a3f5f",
           "arrowhead": 0,
           "arrowwidth": 1
          },
          "autotypenumbers": "strict",
          "coloraxis": {
           "colorbar": {
            "outlinewidth": 0,
            "ticks": ""
           }
          },
          "colorscale": {
           "diverging": [
            [
             0,
             "#8e0152"
            ],
            [
             0.1,
             "#c51b7d"
            ],
            [
             0.2,
             "#de77ae"
            ],
            [
             0.3,
             "#f1b6da"
            ],
            [
             0.4,
             "#fde0ef"
            ],
            [
             0.5,
             "#f7f7f7"
            ],
            [
             0.6,
             "#e6f5d0"
            ],
            [
             0.7,
             "#b8e186"
            ],
            [
             0.8,
             "#7fbc41"
            ],
            [
             0.9,
             "#4d9221"
            ],
            [
             1,
             "#276419"
            ]
           ],
           "sequential": [
            [
             0,
             "#0d0887"
            ],
            [
             0.1111111111111111,
             "#46039f"
            ],
            [
             0.2222222222222222,
             "#7201a8"
            ],
            [
             0.3333333333333333,
             "#9c179e"
            ],
            [
             0.4444444444444444,
             "#bd3786"
            ],
            [
             0.5555555555555556,
             "#d8576b"
            ],
            [
             0.6666666666666666,
             "#ed7953"
            ],
            [
             0.7777777777777778,
             "#fb9f3a"
            ],
            [
             0.8888888888888888,
             "#fdca26"
            ],
            [
             1,
             "#f0f921"
            ]
           ],
           "sequentialminus": [
            [
             0,
             "#0d0887"
            ],
            [
             0.1111111111111111,
             "#46039f"
            ],
            [
             0.2222222222222222,
             "#7201a8"
            ],
            [
             0.3333333333333333,
             "#9c179e"
            ],
            [
             0.4444444444444444,
             "#bd3786"
            ],
            [
             0.5555555555555556,
             "#d8576b"
            ],
            [
             0.6666666666666666,
             "#ed7953"
            ],
            [
             0.7777777777777778,
             "#fb9f3a"
            ],
            [
             0.8888888888888888,
             "#fdca26"
            ],
            [
             1,
             "#f0f921"
            ]
           ]
          },
          "colorway": [
           "#636efa",
           "#EF553B",
           "#00cc96",
           "#ab63fa",
           "#FFA15A",
           "#19d3f3",
           "#FF6692",
           "#B6E880",
           "#FF97FF",
           "#FECB52"
          ],
          "font": {
           "color": "#2a3f5f"
          },
          "geo": {
           "bgcolor": "white",
           "lakecolor": "white",
           "landcolor": "#E5ECF6",
           "showlakes": true,
           "showland": true,
           "subunitcolor": "white"
          },
          "hoverlabel": {
           "align": "left"
          },
          "hovermode": "closest",
          "mapbox": {
           "style": "light"
          },
          "paper_bgcolor": "white",
          "plot_bgcolor": "#E5ECF6",
          "polar": {
           "angularaxis": {
            "gridcolor": "white",
            "linecolor": "white",
            "ticks": ""
           },
           "bgcolor": "#E5ECF6",
           "radialaxis": {
            "gridcolor": "white",
            "linecolor": "white",
            "ticks": ""
           }
          },
          "scene": {
           "xaxis": {
            "backgroundcolor": "#E5ECF6",
            "gridcolor": "white",
            "gridwidth": 2,
            "linecolor": "white",
            "showbackground": true,
            "ticks": "",
            "zerolinecolor": "white"
           },
           "yaxis": {
            "backgroundcolor": "#E5ECF6",
            "gridcolor": "white",
            "gridwidth": 2,
            "linecolor": "white",
            "showbackground": true,
            "ticks": "",
            "zerolinecolor": "white"
           },
           "zaxis": {
            "backgroundcolor": "#E5ECF6",
            "gridcolor": "white",
            "gridwidth": 2,
            "linecolor": "white",
            "showbackground": true,
            "ticks": "",
            "zerolinecolor": "white"
           }
          },
          "shapedefaults": {
           "line": {
            "color": "#2a3f5f"
           }
          },
          "ternary": {
           "aaxis": {
            "gridcolor": "white",
            "linecolor": "white",
            "ticks": ""
           },
           "baxis": {
            "gridcolor": "white",
            "linecolor": "white",
            "ticks": ""
           },
           "bgcolor": "#E5ECF6",
           "caxis": {
            "gridcolor": "white",
            "linecolor": "white",
            "ticks": ""
           }
          },
          "title": {
           "x": 0.05
          },
          "xaxis": {
           "automargin": true,
           "gridcolor": "white",
           "linecolor": "white",
           "ticks": "",
           "title": {
            "standoff": 15
           },
           "zerolinecolor": "white",
           "zerolinewidth": 2
          },
          "yaxis": {
           "automargin": true,
           "gridcolor": "white",
           "linecolor": "white",
           "ticks": "",
           "title": {
            "standoff": 15
           },
           "zerolinecolor": "white",
           "zerolinewidth": 2
          }
         }
        },
        "title": {
         "font": {
          "color": "blue",
          "size": 28
         },
         "text": "Top and Bottom 10 RSI Stocks (Overbought and Oversold)",
         "x": 0.5
        },
        "width": 1000,
        "xaxis": {
         "anchor": "y",
         "domain": [
          0,
          1
         ],
         "tickfont": {
          "size": 26
         },
         "title": {
          "font": {
           "size": 26
          },
          "text": "RSI"
         }
        },
        "yaxis": {
         "anchor": "x",
         "automargin": true,
         "categoryarray": [
          "KKR",
          "APO",
          "NTAP",
          "NCLH",
          "ADSK",
          "DAY",
          "VMC",
          "CZR",
          "DECK",
          "HPE",
          "BRO",
          "AMGN",
          "LKQ",
          "EXPD",
          "AWK",
          "ABBV",
          "VZ",
          "JKHY",
          "GILD",
          "YUM"
         ],
         "categoryorder": "array",
         "domain": [
          0,
          1
         ],
         "tickfont": {
          "size": 26
         },
         "tickmode": "linear",
         "title": {
          "font": {
           "size": 26
          },
          "text": "Stock Symbol"
         }
        }
       }
      }
     },
     "metadata": {},
     "output_type": "display_data"
    }
   ],
   "source": [
    "# Sort the dataframe by RSI and get the top 10 and bottom 10\n",
    "top_10_rsi = df_rsi_cleaned.nlargest(10, 'Latest RSI')\n",
    "bottom_10_rsi = df_rsi_cleaned.nsmallest(10, 'Latest RSI')\n",
    "\n",
    "# Concatenate top and bottom RSI data\n",
    "df_rsi_top_bottom = pd.concat([top_10_rsi, bottom_10_rsi])\n",
    "\n",
    "# Create a horizontal bar chart for the top and bottom RSI values\n",
    "fig = px.bar(df_rsi_top_bottom,\n",
    "             y='Symbol', \n",
    "             x='Latest RSI', \n",
    "             color='Symbol',\n",
    "             orientation='h',  # Horizontal bars\n",
    "             title=\"Top 10 and Bottom 10 RSI Values (Overbought and Oversold)\",\n",
    "             labels={'Symbol': 'Stock Symbol', 'Latest RSI': 'RSI Value'})\n",
    "\n",
    "# Add text to the bars\n",
    "fig.update_traces(texttemplate='%{y} %{x:.2f}', textposition='inside', textfont=dict(size=16))\n",
    "\n",
    "# Adjusting the appearance of the plot\n",
    "fig.update_layout(\n",
    "    height=1200, \n",
    "    width=1000,  # Set desired height and width\n",
    "    title={'text': 'Top and Bottom 10 RSI Stocks (Overbought and Oversold)', 'x': 0.5, 'font': dict(size=28, color='blue')},\n",
    "    yaxis=dict(automargin=True, tickmode='linear'),  # Force all labels to show\n",
    "    yaxis_tickfont=dict(size=26),  # Increase font size of y-axis labels\n",
    "    xaxis_tickfont=dict(size=26),  # Increase font size of x-axis labels\n",
    "    xaxis_title=dict(text=\"RSI\", font=dict(size=26)),  # Font size for x-axis title\n",
    "    yaxis_title=dict(text=\"Stock Symbol\", font=dict(size=26))  # Font size for y-axis title\n",
    ")\n",
    "\n",
    "# Display the plot\n",
    "fig.show()"
   ]
  },
  {
   "cell_type": "markdown",
   "metadata": {},
   "source": [
    "# 📊 Part 4: **Fundamental Analysis with Yahoo Finance** 📈\n",
    "\n",
    "In this section, we'll dive into calculating important **fundamental metrics** for stocks using the data from **Yahoo Finance**.\n",
    "\n",
    "---\n",
    "\n",
    "### 🔢 **P/E Ratio Formula:**\n",
    "\n",
    "The **Price-to-Earnings (P/E) Ratio** is one of the most commonly used metrics to assess whether a stock is **overvalued** or **undervalued**. It is calculated as:\n",
    "\n",
    "$\n",
    "\\text{P/E Ratio} = \\frac{\\text{Latest Stock Price (Adj Close)}}{\\text{Trailing 12-Month Earnings (EPS)}}\n",
    "$\n",
    "\n",
    "Where:\n",
    "- 📅 **Latest Stock Price (Adj Close)**: The most recent **adjusted closing price** of the stock.\n",
    "- 🧮 **Trailing 12-Month Earnings (EPS)**: The **earnings per share (EPS)** for the last 12 months.\n",
    "\n",
    "---\n",
    "\n",
    "### 🏷️ **Other Fundamental Metrics**:\n",
    "\n",
    "1. **Forward P/E**: \n",
    "   - A variation of the P/E ratio based on **forecasted earnings** for the next 12 months.\n",
    "\n",
    "2. **Price-to-Book (P/B) Ratio**:\n",
    "   - Measures a company's **market value** relative to its **book value**.\n",
    "\n",
    "   $\n",
    "   \\text{P/B Ratio} = \\frac{\\text{Market Price per Share}}{\\text{Book Value per Share}}\n",
    "   $\n",
    "\n",
    "3. **EPS (TTM)**:\n",
    "   - **Earnings per Share (EPS)** for the **trailing twelve months**.\n",
    "\n",
    "4. **Debt-to-Equity Ratio (D/E)**:\n",
    "   - Indicates the **financial leverage** of a company, calculated as:\n",
    "\n",
    "   $\n",
    "   \\text{Debt-to-Equity Ratio} = \\frac{\\text{Total Debt}}{\\text{Total Equity}}\n",
    "   $\n",
    "\n",
    "5. **Market Cap**:\n",
    "   - The total market value of a company’s **outstanding shares**.\n",
    "\n",
    "   $\n",
    "   \\text{Market Cap} = \\text{Share Price} \\times \\text{Shares Outstanding}\n",
    "   $\n",
    "\n",
    "6. **Price-to-Sales Ratio (P/S)**:\n",
    "   - Compares a company’s stock price to its **total revenue**.\n",
    "\n",
    "   $\n",
    "   \\text{P/S Ratio} = \\frac{\\text{Market Cap}}{\\text{Total Revenue}}\n",
    "   $\n",
    "\n",
    "7. **Profit Margin**:\n",
    "   - Measures the percentage of revenue that exceeds the **cost of goods sold (COGS)**.\n",
    "\n",
    "   $\n",
    "   \\text{Profit Margin} = \\frac{\\text{Net Income}}{\\text{Revenue}} \\times 100\n",
    "   $\n",
    "\n",
    "8. **Return on Equity (ROE)**:\n",
    "   - Measures a company’s **profitability** relative to shareholders' equity.\n",
    "   \n",
    "   $\n",
    "   \\text{ROE} = \\frac{\\text{Net Income}}{\\text{Shareholders' Equity}} \\times 100\n",
    "   $\n",
    "\n",
    "9. **Earnings Growth**:\n",
    "   - The percentage growth in a company’s **earnings** over a specific period.\n",
    "\n",
    "10. **Revenue Growth**:\n",
    "    - The percentage growth in a company’s **revenue** over a specified period.\n",
    "\n",
    "11. **Total Cash**:\n",
    "    - The total amount of **cash** and **cash equivalents** the company holds.\n",
    "\n",
    "12. **Total Debt**:\n",
    "    - The total amount of **debt** the company owes.\n",
    "\n",
    "13. **Book Value**:\n",
    "    - The **net asset value** of the company, calculated as:\n",
    "\n",
    "    $\n",
    "    \\text{Book Value} = \\text{Total Assets} - \\text{Total Liabilities}\n",
    "    $\n",
    "\n",
    "---\n",
    "\n",
    "### 📉 **Visualizing Fundamental Metrics**:\n",
    "\n",
    "We can compare multiple companies based on these fundamental metrics by creating **visualizations**. For example, we can use **strip plots** to compare different stocks across the various **financial ratios**.\n",
    "\n",
    "---\n",
    "\n",
    "Feel free to copy and paste the above markdown into your Jupyter notebook for a neat and organized presentation of **Fundamental Analysis**! 💼💡\n"
   ]
  },
  {
   "cell_type": "code",
   "execution_count": 37,
   "metadata": {},
   "outputs": [],
   "source": [
    "def get_fundamental_data(symbol, last_price):\n",
    "    # Print the stock symbol and its last price to indicate the start of data fetching\n",
    "    print(f\"Fetching data for {symbol}...\")\n",
    "    print(f\"Last Price: {last_price}\")\n",
    "    \n",
    "    \"\"\"\n",
    "    Fetches fundamental data for a single stock symbol.\n",
    "\n",
    "    Args:\n",
    "        symbol (str): The stock ticker symbol. (e.g., 'AAPL', 'GOOG', etc.)\n",
    "        last_price (float): The last traded price of the stock (typically from the Adj Close).\n",
    "\n",
    "    Returns:\n",
    "        pandas.Series: A Series containing the fundamental data for the given stock,\n",
    "                       or None if data retrieval fails due to errors.\n",
    "    \"\"\"\n",
    "\n",
    "    # Use the Yahoo Finance library to fetch data for the given stock symbol\n",
    "    ticker = yf.Ticker(symbol)\n",
    "    \n",
    "    try:\n",
    "        # Fetch fundamental financial data using Yahoo Finance's API\n",
    "        data = {\n",
    "            # These are different fundamental financial metrics we are fetching from the ticker's information:\n",
    "            #\"Trailing P/E\": ticker.info.get('trailingPE', None),  # Commented out because it's not used\n",
    "            \"Forward P/E\": ticker.info.get('forwardPE', None),  # Forward Price-to-Earnings ratio\n",
    "            \"Price-to-Book\": ticker.info.get('priceToBook', None),  # Price-to-Book ratio\n",
    "            \"EPS (TTM)\": ticker.info.get('trailingEps', None),  # Earnings Per Share (Trailing 12 Months)\n",
    "            \"Debt-to-Equity\": ticker.info.get('debtToEquity', None),  # Debt-to-Equity ratio\n",
    "            #\"Current Ratio\": ticker.info.get('currentRatio', None),  # Commented out\n",
    "            #\"Quick Ratio\": ticker.info.get('quickRatio', None),  # Commented out\n",
    "            \"Market Cap\": ticker.info.get('marketCap', None),  # Market Capitalization\n",
    "            \"Total Revenue\": ticker.info.get('totalRevenue', None),  # Total Revenue\n",
    "            \"Price-to-Sales\": ticker.info.get('priceToSalesTrailing12Months', None),  # Price-to-Sales ratio\n",
    "            #\"Gross Profit\": ticker.info.get('grossProfits', None),  # Commented out\n",
    "            #\"Operating Margin\": ticker.info.get('operatingMargin', None),  # Commented out\n",
    "            \"Profit Margin\": ticker.info.get('profitMargins', None),  # Profit Margin\n",
    "            \"Return on Equity\": ticker.info.get('returnOnEquity', None),  # Return on Equity\n",
    "            \"Earnings Growth\": ticker.info.get('earningsGrowth', None),  # Earnings Growth\n",
    "            \"Revenue Growth\": ticker.info.get('revenueGrowth', None),  # Revenue Growth\n",
    "            \"Total Cash\": ticker.info.get('totalCash', None),  # Total Cash on hand\n",
    "            \"Total Debt\": ticker.info.get('totalDebt', None),  # Total Debt\n",
    "            \"Book Value\": ticker.info.get('bookValue', None)  # Book Value of the company\n",
    "        }\n",
    "\n",
    "        # Convert the data dictionary into a pandas Series for easy manipulation\n",
    "        fundamentals = pd.Series(data, name=symbol)\n",
    "        \n",
    "        # Calculate the P/E ratio by dividing the last price by the trailing 12-month EPS\n",
    "        fundamentals['P/E Ratio'] = last_price / fundamentals['EPS (TTM)']\n",
    "        \n",
    "        # Return the full Series containing all the fetched fundamental data\n",
    "        return fundamentals\n",
    "\n",
    "    # Handle exceptions in case data retrieval fails (e.g., missing data, bad symbol)\n",
    "    except (KeyError, IndexError, TypeError) as e:\n",
    "        # Print an error message if any error occurs while fetching data\n",
    "        print(f\"Error fetching data for {symbol}: {e}\")\n",
    "        \n",
    "        # Return None to indicate the failure to fetch data\n",
    "        return None\n"
   ]
  },
  {
   "cell_type": "code",
   "execution_count": 66,
   "metadata": {},
   "outputs": [
    {
     "name": "stdout",
     "output_type": "stream",
     "text": [
      "Fetching data for HPE...\n",
      "Last Price: 15.8100004196167\n",
      "Fetching data for MSI...\n",
      "Last Price: 423.1300048828125\n",
      "Fetching data for FFIV...\n",
      "Last Price: 275.6300048828125\n"
     ]
    },
    {
     "data": {
      "text/html": [
       "<div>\n",
       "<style scoped>\n",
       "    .dataframe tbody tr th:only-of-type {\n",
       "        vertical-align: middle;\n",
       "    }\n",
       "\n",
       "    .dataframe tbody tr th {\n",
       "        vertical-align: top;\n",
       "    }\n",
       "\n",
       "    .dataframe thead th {\n",
       "        text-align: right;\n",
       "    }\n",
       "</style>\n",
       "<table border=\"1\" class=\"dataframe\">\n",
       "  <thead>\n",
       "    <tr style=\"text-align: right;\">\n",
       "      <th></th>\n",
       "      <th>Metric</th>\n",
       "      <th>Value</th>\n",
       "    </tr>\n",
       "    <tr>\n",
       "      <th>Ticker</th>\n",
       "      <th></th>\n",
       "      <th></th>\n",
       "    </tr>\n",
       "  </thead>\n",
       "  <tbody>\n",
       "    <tr>\n",
       "      <th>HPE</th>\n",
       "      <td>Forward P/E</td>\n",
       "      <td>7.528572e+00</td>\n",
       "    </tr>\n",
       "    <tr>\n",
       "      <th>MSI</th>\n",
       "      <td>Forward P/E</td>\n",
       "      <td>2.880395e+01</td>\n",
       "    </tr>\n",
       "    <tr>\n",
       "      <th>FFIV</th>\n",
       "      <td>Forward P/E</td>\n",
       "      <td>1.789805e+01</td>\n",
       "    </tr>\n",
       "    <tr>\n",
       "      <th>HPE</th>\n",
       "      <td>Price-to-Book</td>\n",
       "      <td>8.229660e-01</td>\n",
       "    </tr>\n",
       "    <tr>\n",
       "      <th>MSI</th>\n",
       "      <td>Price-to-Book</td>\n",
       "      <td>4.151589e+01</td>\n",
       "    </tr>\n",
       "    <tr>\n",
       "      <th>FFIV</th>\n",
       "      <td>Price-to-Book</td>\n",
       "      <td>4.951852e+00</td>\n",
       "    </tr>\n",
       "    <tr>\n",
       "      <th>HPE</th>\n",
       "      <td>EPS (TTM)</td>\n",
       "      <td>2.080000e+00</td>\n",
       "    </tr>\n",
       "    <tr>\n",
       "      <th>MSI</th>\n",
       "      <td>EPS (TTM)</td>\n",
       "      <td>9.220000e+00</td>\n",
       "    </tr>\n",
       "    <tr>\n",
       "      <th>FFIV</th>\n",
       "      <td>EPS (TTM)</td>\n",
       "      <td>1.004000e+01</td>\n",
       "    </tr>\n",
       "    <tr>\n",
       "      <th>HPE</th>\n",
       "      <td>Debt-to-Equity</td>\n",
       "      <td>7.071000e+01</td>\n",
       "    </tr>\n",
       "    <tr>\n",
       "      <th>MSI</th>\n",
       "      <td>Debt-to-Equity</td>\n",
       "      <td>3.810940e+02</td>\n",
       "    </tr>\n",
       "    <tr>\n",
       "      <th>FFIV</th>\n",
       "      <td>Debt-to-Equity</td>\n",
       "      <td>8.478000e+00</td>\n",
       "    </tr>\n",
       "    <tr>\n",
       "      <th>HPE</th>\n",
       "      <td>Market Cap</td>\n",
       "      <td>2.076770e+10</td>\n",
       "    </tr>\n",
       "    <tr>\n",
       "      <th>MSI</th>\n",
       "      <td>Market Cap</td>\n",
       "      <td>7.063605e+10</td>\n",
       "    </tr>\n",
       "    <tr>\n",
       "      <th>FFIV</th>\n",
       "      <td>Market Cap</td>\n",
       "      <td>1.589070e+10</td>\n",
       "    </tr>\n",
       "    <tr>\n",
       "      <th>HPE</th>\n",
       "      <td>Total Revenue</td>\n",
       "      <td>3.122600e+10</td>\n",
       "    </tr>\n",
       "    <tr>\n",
       "      <th>MSI</th>\n",
       "      <td>Total Revenue</td>\n",
       "      <td>1.081700e+10</td>\n",
       "    </tr>\n",
       "    <tr>\n",
       "      <th>FFIV</th>\n",
       "      <td>Total Revenue</td>\n",
       "      <td>2.890012e+09</td>\n",
       "    </tr>\n",
       "    <tr>\n",
       "      <th>HPE</th>\n",
       "      <td>Price-to-Sales</td>\n",
       "      <td>6.650772e-01</td>\n",
       "    </tr>\n",
       "    <tr>\n",
       "      <th>MSI</th>\n",
       "      <td>Price-to-Sales</td>\n",
       "      <td>6.530096e+00</td>\n",
       "    </tr>\n",
       "    <tr>\n",
       "      <th>FFIV</th>\n",
       "      <td>Price-to-Sales</td>\n",
       "      <td>5.498491e+00</td>\n",
       "    </tr>\n",
       "    <tr>\n",
       "      <th>HPE</th>\n",
       "      <td>Profit Margin</td>\n",
       "      <td>9.028000e-02</td>\n",
       "    </tr>\n",
       "    <tr>\n",
       "      <th>MSI</th>\n",
       "      <td>Profit Margin</td>\n",
       "      <td>1.457900e-01</td>\n",
       "    </tr>\n",
       "    <tr>\n",
       "      <th>FFIV</th>\n",
       "      <td>Profit Margin</td>\n",
       "      <td>2.058300e-01</td>\n",
       "    </tr>\n",
       "    <tr>\n",
       "      <th>HPE</th>\n",
       "      <td>Return on Equity</td>\n",
       "      <td>1.206000e-01</td>\n",
       "    </tr>\n",
       "    <tr>\n",
       "      <th>MSI</th>\n",
       "      <td>Return on Equity</td>\n",
       "      <td>1.287230e+00</td>\n",
       "    </tr>\n",
       "    <tr>\n",
       "      <th>FFIV</th>\n",
       "      <td>Return on Equity</td>\n",
       "      <td>1.951300e-01</td>\n",
       "    </tr>\n",
       "    <tr>\n",
       "      <th>HPE</th>\n",
       "      <td>Earnings Growth</td>\n",
       "      <td>5.340000e-01</td>\n",
       "    </tr>\n",
       "    <tr>\n",
       "      <th>MSI</th>\n",
       "      <td>Earnings Growth</td>\n",
       "      <td>2.500000e-02</td>\n",
       "    </tr>\n",
       "    <tr>\n",
       "      <th>FFIV</th>\n",
       "      <td>Earnings Growth</td>\n",
       "      <td>2.160000e-01</td>\n",
       "    </tr>\n",
       "    <tr>\n",
       "      <th>HPE</th>\n",
       "      <td>Revenue Growth</td>\n",
       "      <td>1.630000e-01</td>\n",
       "    </tr>\n",
       "    <tr>\n",
       "      <th>MSI</th>\n",
       "      <td>Revenue Growth</td>\n",
       "      <td>5.700000e-02</td>\n",
       "    </tr>\n",
       "    <tr>\n",
       "      <th>FFIV</th>\n",
       "      <td>Revenue Growth</td>\n",
       "      <td>1.070000e-01</td>\n",
       "    </tr>\n",
       "    <tr>\n",
       "      <th>HPE</th>\n",
       "      <td>Total Cash</td>\n",
       "      <td>1.343100e+10</td>\n",
       "    </tr>\n",
       "    <tr>\n",
       "      <th>MSI</th>\n",
       "      <td>Total Cash</td>\n",
       "      <td>2.102000e+09</td>\n",
       "    </tr>\n",
       "    <tr>\n",
       "      <th>FFIV</th>\n",
       "      <td>Total Cash</td>\n",
       "      <td>1.150907e+09</td>\n",
       "    </tr>\n",
       "    <tr>\n",
       "      <th>HPE</th>\n",
       "      <td>Total Debt</td>\n",
       "      <td>1.787700e+10</td>\n",
       "    </tr>\n",
       "    <tr>\n",
       "      <th>MSI</th>\n",
       "      <td>Total Debt</td>\n",
       "      <td>6.551000e+09</td>\n",
       "    </tr>\n",
       "    <tr>\n",
       "      <th>FFIV</th>\n",
       "      <td>Total Debt</td>\n",
       "      <td>2.743240e+08</td>\n",
       "    </tr>\n",
       "    <tr>\n",
       "      <th>HPE</th>\n",
       "      <td>Book Value</td>\n",
       "      <td>1.921100e+01</td>\n",
       "    </tr>\n",
       "    <tr>\n",
       "      <th>MSI</th>\n",
       "      <td>Book Value</td>\n",
       "      <td>1.019200e+01</td>\n",
       "    </tr>\n",
       "    <tr>\n",
       "      <th>FFIV</th>\n",
       "      <td>Book Value</td>\n",
       "      <td>5.566200e+01</td>\n",
       "    </tr>\n",
       "    <tr>\n",
       "      <th>HPE</th>\n",
       "      <td>P/E Ratio</td>\n",
       "      <td>7.600962e+00</td>\n",
       "    </tr>\n",
       "    <tr>\n",
       "      <th>MSI</th>\n",
       "      <td>P/E Ratio</td>\n",
       "      <td>4.589263e+01</td>\n",
       "    </tr>\n",
       "    <tr>\n",
       "      <th>FFIV</th>\n",
       "      <td>P/E Ratio</td>\n",
       "      <td>2.745319e+01</td>\n",
       "    </tr>\n",
       "  </tbody>\n",
       "</table>\n",
       "</div>"
      ],
      "text/plain": [
       "                  Metric         Value\n",
       "Ticker                                \n",
       "HPE          Forward P/E  7.528572e+00\n",
       "MSI          Forward P/E  2.880395e+01\n",
       "FFIV         Forward P/E  1.789805e+01\n",
       "HPE        Price-to-Book  8.229660e-01\n",
       "MSI        Price-to-Book  4.151589e+01\n",
       "FFIV       Price-to-Book  4.951852e+00\n",
       "HPE            EPS (TTM)  2.080000e+00\n",
       "MSI            EPS (TTM)  9.220000e+00\n",
       "FFIV           EPS (TTM)  1.004000e+01\n",
       "HPE       Debt-to-Equity  7.071000e+01\n",
       "MSI       Debt-to-Equity  3.810940e+02\n",
       "FFIV      Debt-to-Equity  8.478000e+00\n",
       "HPE           Market Cap  2.076770e+10\n",
       "MSI           Market Cap  7.063605e+10\n",
       "FFIV          Market Cap  1.589070e+10\n",
       "HPE        Total Revenue  3.122600e+10\n",
       "MSI        Total Revenue  1.081700e+10\n",
       "FFIV       Total Revenue  2.890012e+09\n",
       "HPE       Price-to-Sales  6.650772e-01\n",
       "MSI       Price-to-Sales  6.530096e+00\n",
       "FFIV      Price-to-Sales  5.498491e+00\n",
       "HPE        Profit Margin  9.028000e-02\n",
       "MSI        Profit Margin  1.457900e-01\n",
       "FFIV       Profit Margin  2.058300e-01\n",
       "HPE     Return on Equity  1.206000e-01\n",
       "MSI     Return on Equity  1.287230e+00\n",
       "FFIV    Return on Equity  1.951300e-01\n",
       "HPE      Earnings Growth  5.340000e-01\n",
       "MSI      Earnings Growth  2.500000e-02\n",
       "FFIV     Earnings Growth  2.160000e-01\n",
       "HPE       Revenue Growth  1.630000e-01\n",
       "MSI       Revenue Growth  5.700000e-02\n",
       "FFIV      Revenue Growth  1.070000e-01\n",
       "HPE           Total Cash  1.343100e+10\n",
       "MSI           Total Cash  2.102000e+09\n",
       "FFIV          Total Cash  1.150907e+09\n",
       "HPE           Total Debt  1.787700e+10\n",
       "MSI           Total Debt  6.551000e+09\n",
       "FFIV          Total Debt  2.743240e+08\n",
       "HPE           Book Value  1.921100e+01\n",
       "MSI           Book Value  1.019200e+01\n",
       "FFIV          Book Value  5.566200e+01\n",
       "HPE            P/E Ratio  7.600962e+00\n",
       "MSI            P/E Ratio  4.589263e+01\n",
       "FFIV           P/E Ratio  2.745319e+01"
      ]
     },
     "execution_count": 66,
     "metadata": {},
     "output_type": "execute_result"
    }
   ],
   "source": [
    "#looking at the market \n",
    "df_CE_fundamentals = df[['HPE','MSI','FFIV']].iloc[-1].to_frame('Last Price').reset_index()\n",
    "df_CE_fundamentals = df_CE_fundamentals.apply(lambda l:get_fundamental_data(l['Ticker'],l['Last Price']),axis=1).set_index(df_CE_fundamentals['Ticker'])\n",
    "df_CE_fundamentals = df_CE_fundamentals.melt(value_name='Value',var_name='Metric',ignore_index=False)\n",
    "\n",
    "df_CE_fundamentals"
   ]
  },
  {
   "cell_type": "code",
   "execution_count": 69,
   "metadata": {},
   "outputs": [
    {
     "data": {
      "application/vnd.plotly.v1+json": {
       "config": {
        "plotlyServerURL": "https://plot.ly"
       },
       "data": [
        {
         "alignmentgroup": "True",
         "boxpoints": "all",
         "fillcolor": "rgba(255,255,255,0)",
         "hoveron": "points",
         "hovertemplate": "Ticker=%{y}<br>Metric=Forward P/E<br>Value=%{x}<extra></extra>",
         "legendgroup": "HPE",
         "line": {
          "color": "rgba(255,255,255,0)"
         },
         "marker": {
          "color": "#636efa",
          "size": 15,
          "symbol": "square"
         },
         "name": "HPE",
         "offsetgroup": "HPE",
         "orientation": "h",
         "pointpos": 0,
         "showlegend": true,
         "type": "box",
         "x": {
          "bdata": "Q1N2+kEdHkA=",
          "dtype": "f8"
         },
         "x0": " ",
         "xaxis": "x13",
         "y": [
          "HPE"
         ],
         "y0": " ",
         "yaxis": "y13"
        },
        {
         "alignmentgroup": "True",
         "boxpoints": "all",
         "fillcolor": "rgba(255,255,255,0)",
         "hoveron": "points",
         "hovertemplate": "Ticker=%{y}<br>Metric=Price-to-Book<br>Value=%{x}<extra></extra>",
         "legendgroup": "HPE",
         "line": {
          "color": "rgba(255,255,255,0)"
         },
         "marker": {
          "color": "#636efa",
          "size": 15,
          "symbol": "square"
         },
         "name": "HPE",
         "offsetgroup": "HPE",
         "orientation": "h",
         "pointpos": 0,
         "showlegend": false,
         "type": "box",
         "x": {
          "bdata": "mZhw4LxV6j8=",
          "dtype": "f8"
         },
         "x0": " ",
         "xaxis": "x14",
         "y": [
          "HPE"
         ],
         "y0": " ",
         "yaxis": "y14"
        },
        {
         "alignmentgroup": "True",
         "boxpoints": "all",
         "fillcolor": "rgba(255,255,255,0)",
         "hoveron": "points",
         "hovertemplate": "Ticker=%{y}<br>Metric=EPS (TTM)<br>Value=%{x}<extra></extra>",
         "legendgroup": "HPE",
         "line": {
          "color": "rgba(255,255,255,0)"
         },
         "marker": {
          "color": "#636efa",
          "size": 15,
          "symbol": "square"
         },
         "name": "HPE",
         "offsetgroup": "HPE",
         "orientation": "h",
         "pointpos": 0,
         "showlegend": false,
         "type": "box",
         "x": {
          "bdata": "pHA9CtejAEA=",
          "dtype": "f8"
         },
         "x0": " ",
         "xaxis": "x15",
         "y": [
          "HPE"
         ],
         "y0": " ",
         "yaxis": "y15"
        },
        {
         "alignmentgroup": "True",
         "boxpoints": "all",
         "fillcolor": "rgba(255,255,255,0)",
         "hoveron": "points",
         "hovertemplate": "Ticker=%{y}<br>Metric=Debt-to-Equity<br>Value=%{x}<extra></extra>",
         "legendgroup": "HPE",
         "line": {
          "color": "rgba(255,255,255,0)"
         },
         "marker": {
          "color": "#636efa",
          "size": 15,
          "symbol": "square"
         },
         "name": "HPE",
         "offsetgroup": "HPE",
         "orientation": "h",
         "pointpos": 0,
         "showlegend": false,
         "type": "box",
         "x": {
          "bdata": "PQrXo3CtUUA=",
          "dtype": "f8"
         },
         "x0": " ",
         "xaxis": "x10",
         "y": [
          "HPE"
         ],
         "y0": " ",
         "yaxis": "y10"
        },
        {
         "alignmentgroup": "True",
         "boxpoints": "all",
         "fillcolor": "rgba(255,255,255,0)",
         "hoveron": "points",
         "hovertemplate": "Ticker=%{y}<br>Metric=Market Cap<br>Value=%{x}<extra></extra>",
         "legendgroup": "HPE",
         "line": {
          "color": "rgba(255,255,255,0)"
         },
         "marker": {
          "color": "#636efa",
          "size": 15,
          "symbol": "square"
         },
         "name": "HPE",
         "offsetgroup": "HPE",
         "orientation": "h",
         "pointpos": 0,
         "showlegend": false,
         "type": "box",
         "x": {
          "bdata": "AAAA4GdXE0I=",
          "dtype": "f8"
         },
         "x0": " ",
         "xaxis": "x11",
         "y": [
          "HPE"
         ],
         "y0": " ",
         "yaxis": "y11"
        },
        {
         "alignmentgroup": "True",
         "boxpoints": "all",
         "fillcolor": "rgba(255,255,255,0)",
         "hoveron": "points",
         "hovertemplate": "Ticker=%{y}<br>Metric=Total Revenue<br>Value=%{x}<extra></extra>",
         "legendgroup": "HPE",
         "line": {
          "color": "rgba(255,255,255,0)"
         },
         "marker": {
          "color": "#636efa",
          "size": 15,
          "symbol": "square"
         },
         "name": "HPE",
         "offsetgroup": "HPE",
         "orientation": "h",
         "pointpos": 0,
         "showlegend": false,
         "type": "box",
         "x": {
          "bdata": "AAAAwNsUHUI=",
          "dtype": "f8"
         },
         "x0": " ",
         "xaxis": "x12",
         "y": [
          "HPE"
         ],
         "y0": " ",
         "yaxis": "y12"
        },
        {
         "alignmentgroup": "True",
         "boxpoints": "all",
         "fillcolor": "rgba(255,255,255,0)",
         "hoveron": "points",
         "hovertemplate": "Ticker=%{y}<br>Metric=Price-to-Sales<br>Value=%{x}<extra></extra>",
         "legendgroup": "HPE",
         "line": {
          "color": "rgba(255,255,255,0)"
         },
         "marker": {
          "color": "#636efa",
          "size": 15,
          "symbol": "square"
         },
         "name": "HPE",
         "offsetgroup": "HPE",
         "orientation": "h",
         "pointpos": 0,
         "showlegend": false,
         "type": "box",
         "x": {
          "bdata": "ihbq+k9I5T8=",
          "dtype": "f8"
         },
         "x0": " ",
         "xaxis": "x7",
         "y": [
          "HPE"
         ],
         "y0": " ",
         "yaxis": "y7"
        },
        {
         "alignmentgroup": "True",
         "boxpoints": "all",
         "fillcolor": "rgba(255,255,255,0)",
         "hoveron": "points",
         "hovertemplate": "Ticker=%{y}<br>Metric=Profit Margin<br>Value=%{x}<extra></extra>",
         "legendgroup": "HPE",
         "line": {
          "color": "rgba(255,255,255,0)"
         },
         "marker": {
          "color": "#636efa",
          "size": 15,
          "symbol": "square"
         },
         "name": "HPE",
         "offsetgroup": "HPE",
         "orientation": "h",
         "pointpos": 0,
         "showlegend": false,
         "type": "box",
         "x": {
          "bdata": "Bp57D5cctz8=",
          "dtype": "f8"
         },
         "x0": " ",
         "xaxis": "x8",
         "y": [
          "HPE"
         ],
         "y0": " ",
         "yaxis": "y8"
        },
        {
         "alignmentgroup": "True",
         "boxpoints": "all",
         "fillcolor": "rgba(255,255,255,0)",
         "hoveron": "points",
         "hovertemplate": "Ticker=%{y}<br>Metric=Return on Equity<br>Value=%{x}<extra></extra>",
         "legendgroup": "HPE",
         "line": {
          "color": "rgba(255,255,255,0)"
         },
         "marker": {
          "color": "#636efa",
          "size": 15,
          "symbol": "square"
         },
         "name": "HPE",
         "offsetgroup": "HPE",
         "orientation": "h",
         "pointpos": 0,
         "showlegend": false,
         "type": "box",
         "x": {
          "bdata": "4ebYaqTfvj8=",
          "dtype": "f8"
         },
         "x0": " ",
         "xaxis": "x9",
         "y": [
          "HPE"
         ],
         "y0": " ",
         "yaxis": "y9"
        },
        {
         "alignmentgroup": "True",
         "boxpoints": "all",
         "fillcolor": "rgba(255,255,255,0)",
         "hoveron": "points",
         "hovertemplate": "Ticker=%{y}<br>Metric=Earnings Growth<br>Value=%{x}<extra></extra>",
         "legendgroup": "HPE",
         "line": {
          "color": "rgba(255,255,255,0)"
         },
         "marker": {
          "color": "#636efa",
          "size": 15,
          "symbol": "square"
         },
         "name": "HPE",
         "offsetgroup": "HPE",
         "orientation": "h",
         "pointpos": 0,
         "showlegend": false,
         "type": "box",
         "x": {
          "bdata": "SgwCK4cW4T8=",
          "dtype": "f8"
         },
         "x0": " ",
         "xaxis": "x4",
         "y": [
          "HPE"
         ],
         "y0": " ",
         "yaxis": "y4"
        },
        {
         "alignmentgroup": "True",
         "boxpoints": "all",
         "fillcolor": "rgba(255,255,255,0)",
         "hoveron": "points",
         "hovertemplate": "Ticker=%{y}<br>Metric=Revenue Growth<br>Value=%{x}<extra></extra>",
         "legendgroup": "HPE",
         "line": {
          "color": "rgba(255,255,255,0)"
         },
         "marker": {
          "color": "#636efa",
          "size": 15,
          "symbol": "square"
         },
         "name": "HPE",
         "offsetgroup": "HPE",
         "orientation": "h",
         "pointpos": 0,
         "showlegend": false,
         "type": "box",
         "x": {
          "bdata": "d76fGi/dxD8=",
          "dtype": "f8"
         },
         "x0": " ",
         "xaxis": "x5",
         "y": [
          "HPE"
         ],
         "y0": " ",
         "yaxis": "y5"
        },
        {
         "alignmentgroup": "True",
         "boxpoints": "all",
         "fillcolor": "rgba(255,255,255,0)",
         "hoveron": "points",
         "hovertemplate": "Ticker=%{y}<br>Metric=Total Cash<br>Value=%{x}<extra></extra>",
         "legendgroup": "HPE",
         "line": {
          "color": "rgba(255,255,255,0)"
         },
         "marker": {
          "color": "#636efa",
          "size": 15,
          "symbol": "square"
         },
         "name": "HPE",
         "offsetgroup": "HPE",
         "orientation": "h",
         "pointpos": 0,
         "showlegend": false,
         "type": "box",
         "x": {
          "bdata": "AAAAYGYECUI=",
          "dtype": "f8"
         },
         "x0": " ",
         "xaxis": "x6",
         "y": [
          "HPE"
         ],
         "y0": " ",
         "yaxis": "y6"
        },
        {
         "alignmentgroup": "True",
         "boxpoints": "all",
         "fillcolor": "rgba(255,255,255,0)",
         "hoveron": "points",
         "hovertemplate": "Ticker=%{y}<br>Metric=Total Debt<br>Value=%{x}<extra></extra>",
         "legendgroup": "HPE",
         "line": {
          "color": "rgba(255,255,255,0)"
         },
         "marker": {
          "color": "#636efa",
          "size": 15,
          "symbol": "square"
         },
         "name": "HPE",
         "offsetgroup": "HPE",
         "orientation": "h",
         "pointpos": 0,
         "showlegend": false,
         "type": "box",
         "x": {
          "bdata": "AAAAgDWmEEI=",
          "dtype": "f8"
         },
         "x0": " ",
         "xaxis": "x",
         "y": [
          "HPE"
         ],
         "y0": " ",
         "yaxis": "y"
        },
        {
         "alignmentgroup": "True",
         "boxpoints": "all",
         "fillcolor": "rgba(255,255,255,0)",
         "hoveron": "points",
         "hovertemplate": "Ticker=%{y}<br>Metric=Book Value<br>Value=%{x}<extra></extra>",
         "legendgroup": "HPE",
         "line": {
          "color": "rgba(255,255,255,0)"
         },
         "marker": {
          "color": "#636efa",
          "size": 15,
          "symbol": "square"
         },
         "name": "HPE",
         "offsetgroup": "HPE",
         "orientation": "h",
         "pointpos": 0,
         "showlegend": false,
         "type": "box",
         "x": {
          "bdata": "vHSTGAQ2M0A=",
          "dtype": "f8"
         },
         "x0": " ",
         "xaxis": "x2",
         "y": [
          "HPE"
         ],
         "y0": " ",
         "yaxis": "y2"
        },
        {
         "alignmentgroup": "True",
         "boxpoints": "all",
         "fillcolor": "rgba(255,255,255,0)",
         "hoveron": "points",
         "hovertemplate": "Ticker=%{y}<br>Metric=P/E Ratio<br>Value=%{x}<extra></extra>",
         "legendgroup": "HPE",
         "line": {
          "color": "rgba(255,255,255,0)"
         },
         "marker": {
          "color": "#636efa",
          "size": 15,
          "symbol": "square"
         },
         "name": "HPE",
         "offsetgroup": "HPE",
         "orientation": "h",
         "pointpos": 0,
         "showlegend": false,
         "type": "box",
         "x": {
          "bdata": "Ezuxg2JnHkA=",
          "dtype": "f8"
         },
         "x0": " ",
         "xaxis": "x3",
         "y": [
          "HPE"
         ],
         "y0": " ",
         "yaxis": "y3"
        },
        {
         "alignmentgroup": "True",
         "boxpoints": "all",
         "fillcolor": "rgba(255,255,255,0)",
         "hoveron": "points",
         "hovertemplate": "Ticker=%{y}<br>Metric=Forward P/E<br>Value=%{x}<extra></extra>",
         "legendgroup": "MSI",
         "line": {
          "color": "rgba(255,255,255,0)"
         },
         "marker": {
          "color": "#EF553B",
          "size": 15,
          "symbol": "square"
         },
         "name": "MSI",
         "offsetgroup": "MSI",
         "orientation": "h",
         "pointpos": 0,
         "showlegend": true,
         "type": "box",
         "x": {
          "bdata": "hJ7Nqs/NPEA=",
          "dtype": "f8"
         },
         "x0": " ",
         "xaxis": "x13",
         "y": [
          "MSI"
         ],
         "y0": " ",
         "yaxis": "y13"
        },
        {
         "alignmentgroup": "True",
         "boxpoints": "all",
         "fillcolor": "rgba(255,255,255,0)",
         "hoveron": "points",
         "hovertemplate": "Ticker=%{y}<br>Metric=Price-to-Book<br>Value=%{x}<extra></extra>",
         "legendgroup": "MSI",
         "line": {
          "color": "rgba(255,255,255,0)"
         },
         "marker": {
          "color": "#EF553B",
          "size": 15,
          "symbol": "square"
         },
         "name": "MSI",
         "offsetgroup": "MSI",
         "orientation": "h",
         "pointpos": 0,
         "showlegend": false,
         "type": "box",
         "x": {
          "bdata": "TyLCvwjCREA=",
          "dtype": "f8"
         },
         "x0": " ",
         "xaxis": "x14",
         "y": [
          "MSI"
         ],
         "y0": " ",
         "yaxis": "y14"
        },
        {
         "alignmentgroup": "True",
         "boxpoints": "all",
         "fillcolor": "rgba(255,255,255,0)",
         "hoveron": "points",
         "hovertemplate": "Ticker=%{y}<br>Metric=EPS (TTM)<br>Value=%{x}<extra></extra>",
         "legendgroup": "MSI",
         "line": {
          "color": "rgba(255,255,255,0)"
         },
         "marker": {
          "color": "#EF553B",
          "size": 15,
          "symbol": "square"
         },
         "name": "MSI",
         "offsetgroup": "MSI",
         "orientation": "h",
         "pointpos": 0,
         "showlegend": false,
         "type": "box",
         "x": {
          "bdata": "cT0K16NwIkA=",
          "dtype": "f8"
         },
         "x0": " ",
         "xaxis": "x15",
         "y": [
          "MSI"
         ],
         "y0": " ",
         "yaxis": "y15"
        },
        {
         "alignmentgroup": "True",
         "boxpoints": "all",
         "fillcolor": "rgba(255,255,255,0)",
         "hoveron": "points",
         "hovertemplate": "Ticker=%{y}<br>Metric=Debt-to-Equity<br>Value=%{x}<extra></extra>",
         "legendgroup": "MSI",
         "line": {
          "color": "rgba(255,255,255,0)"
         },
         "marker": {
          "color": "#EF553B",
          "size": 15,
          "symbol": "square"
         },
         "name": "MSI",
         "offsetgroup": "MSI",
         "orientation": "h",
         "pointpos": 0,
         "showlegend": false,
         "type": "box",
         "x": {
          "bdata": "L90kBoHRd0A=",
          "dtype": "f8"
         },
         "x0": " ",
         "xaxis": "x10",
         "y": [
          "MSI"
         ],
         "y0": " ",
         "yaxis": "y10"
        },
        {
         "alignmentgroup": "True",
         "boxpoints": "all",
         "fillcolor": "rgba(255,255,255,0)",
         "hoveron": "points",
         "hovertemplate": "Ticker=%{y}<br>Metric=Market Cap<br>Value=%{x}<extra></extra>",
         "legendgroup": "MSI",
         "line": {
          "color": "rgba(255,255,255,0)"
         },
         "marker": {
          "color": "#EF553B",
          "size": 15,
          "symbol": "square"
         },
         "name": "MSI",
         "offsetgroup": "MSI",
         "orientation": "h",
         "pointpos": 0,
         "showlegend": false,
         "type": "box",
         "x": {
          "bdata": "AAAAoDxyMEI=",
          "dtype": "f8"
         },
         "x0": " ",
         "xaxis": "x11",
         "y": [
          "MSI"
         ],
         "y0": " ",
         "yaxis": "y11"
        },
        {
         "alignmentgroup": "True",
         "boxpoints": "all",
         "fillcolor": "rgba(255,255,255,0)",
         "hoveron": "points",
         "hovertemplate": "Ticker=%{y}<br>Metric=Total Revenue<br>Value=%{x}<extra></extra>",
         "legendgroup": "MSI",
         "line": {
          "color": "rgba(255,255,255,0)"
         },
         "marker": {
          "color": "#EF553B",
          "size": 15,
          "symbol": "square"
         },
         "name": "MSI",
         "offsetgroup": "MSI",
         "orientation": "h",
         "pointpos": 0,
         "showlegend": false,
         "type": "box",
         "x": {
          "bdata": "AAAAoPIlBEI=",
          "dtype": "f8"
         },
         "x0": " ",
         "xaxis": "x12",
         "y": [
          "MSI"
         ],
         "y0": " ",
         "yaxis": "y12"
        },
        {
         "alignmentgroup": "True",
         "boxpoints": "all",
         "fillcolor": "rgba(255,255,255,0)",
         "hoveron": "points",
         "hovertemplate": "Ticker=%{y}<br>Metric=Price-to-Sales<br>Value=%{x}<extra></extra>",
         "legendgroup": "MSI",
         "line": {
          "color": "rgba(255,255,255,0)"
         },
         "marker": {
          "color": "#EF553B",
          "size": 15,
          "symbol": "square"
         },
         "name": "MSI",
         "offsetgroup": "MSI",
         "orientation": "h",
         "pointpos": 0,
         "showlegend": false,
         "type": "box",
         "x": {
          "bdata": "MPZefNEeGkA=",
          "dtype": "f8"
         },
         "x0": " ",
         "xaxis": "x7",
         "y": [
          "MSI"
         ],
         "y0": " ",
         "yaxis": "y7"
        },
        {
         "alignmentgroup": "True",
         "boxpoints": "all",
         "fillcolor": "rgba(255,255,255,0)",
         "hoveron": "points",
         "hovertemplate": "Ticker=%{y}<br>Metric=Profit Margin<br>Value=%{x}<extra></extra>",
         "legendgroup": "MSI",
         "line": {
          "color": "rgba(255,255,255,0)"
         },
         "marker": {
          "color": "#EF553B",
          "size": 15,
          "symbol": "square"
         },
         "name": "MSI",
         "offsetgroup": "MSI",
         "orientation": "h",
         "pointpos": 0,
         "showlegend": false,
         "type": "box",
         "x": {
          "bdata": "J0qEPj+pwj8=",
          "dtype": "f8"
         },
         "x0": " ",
         "xaxis": "x8",
         "y": [
          "MSI"
         ],
         "y0": " ",
         "yaxis": "y8"
        },
        {
         "alignmentgroup": "True",
         "boxpoints": "all",
         "fillcolor": "rgba(255,255,255,0)",
         "hoveron": "points",
         "hovertemplate": "Ticker=%{y}<br>Metric=Return on Equity<br>Value=%{x}<extra></extra>",
         "legendgroup": "MSI",
         "line": {
          "color": "rgba(255,255,255,0)"
         },
         "marker": {
          "color": "#EF553B",
          "size": 15,
          "symbol": "square"
         },
         "name": "MSI",
         "offsetgroup": "MSI",
         "orientation": "h",
         "pointpos": 0,
         "showlegend": false,
         "type": "box",
         "x": {
          "bdata": "nOEGfH6Y9D8=",
          "dtype": "f8"
         },
         "x0": " ",
         "xaxis": "x9",
         "y": [
          "MSI"
         ],
         "y0": " ",
         "yaxis": "y9"
        },
        {
         "alignmentgroup": "True",
         "boxpoints": "all",
         "fillcolor": "rgba(255,255,255,0)",
         "hoveron": "points",
         "hovertemplate": "Ticker=%{y}<br>Metric=Earnings Growth<br>Value=%{x}<extra></extra>",
         "legendgroup": "MSI",
         "line": {
          "color": "rgba(255,255,255,0)"
         },
         "marker": {
          "color": "#EF553B",
          "size": 15,
          "symbol": "square"
         },
         "name": "MSI",
         "offsetgroup": "MSI",
         "orientation": "h",
         "pointpos": 0,
         "showlegend": false,
         "type": "box",
         "x": {
          "bdata": "mpmZmZmZmT8=",
          "dtype": "f8"
         },
         "x0": " ",
         "xaxis": "x4",
         "y": [
          "MSI"
         ],
         "y0": " ",
         "yaxis": "y4"
        },
        {
         "alignmentgroup": "True",
         "boxpoints": "all",
         "fillcolor": "rgba(255,255,255,0)",
         "hoveron": "points",
         "hovertemplate": "Ticker=%{y}<br>Metric=Revenue Growth<br>Value=%{x}<extra></extra>",
         "legendgroup": "MSI",
         "line": {
          "color": "rgba(255,255,255,0)"
         },
         "marker": {
          "color": "#EF553B",
          "size": 15,
          "symbol": "square"
         },
         "name": "MSI",
         "offsetgroup": "MSI",
         "orientation": "h",
         "pointpos": 0,
         "showlegend": false,
         "type": "box",
         "x": {
          "bdata": "yXa+nxovrT8=",
          "dtype": "f8"
         },
         "x0": " ",
         "xaxis": "x5",
         "y": [
          "MSI"
         ],
         "y0": " ",
         "yaxis": "y5"
        },
        {
         "alignmentgroup": "True",
         "boxpoints": "all",
         "fillcolor": "rgba(255,255,255,0)",
         "hoveron": "points",
         "hovertemplate": "Ticker=%{y}<br>Metric=Total Cash<br>Value=%{x}<extra></extra>",
         "legendgroup": "MSI",
         "line": {
          "color": "rgba(255,255,255,0)"
         },
         "marker": {
          "color": "#EF553B",
          "size": 15,
          "symbol": "square"
         },
         "name": "MSI",
         "offsetgroup": "MSI",
         "orientation": "h",
         "pointpos": 0,
         "showlegend": false,
         "type": "box",
         "x": {
          "bdata": "AAAAYH5S30E=",
          "dtype": "f8"
         },
         "x0": " ",
         "xaxis": "x6",
         "y": [
          "MSI"
         ],
         "y0": " ",
         "yaxis": "y6"
        },
        {
         "alignmentgroup": "True",
         "boxpoints": "all",
         "fillcolor": "rgba(255,255,255,0)",
         "hoveron": "points",
         "hovertemplate": "Ticker=%{y}<br>Metric=Total Debt<br>Value=%{x}<extra></extra>",
         "legendgroup": "MSI",
         "line": {
          "color": "rgba(255,255,255,0)"
         },
         "marker": {
          "color": "#EF553B",
          "size": 15,
          "symbol": "square"
         },
         "name": "MSI",
         "offsetgroup": "MSI",
         "orientation": "h",
         "pointpos": 0,
         "showlegend": false,
         "type": "box",
         "x": {
          "bdata": "AAAAQIVn+EE=",
          "dtype": "f8"
         },
         "x0": " ",
         "xaxis": "x",
         "y": [
          "MSI"
         ],
         "y0": " ",
         "yaxis": "y"
        },
        {
         "alignmentgroup": "True",
         "boxpoints": "all",
         "fillcolor": "rgba(255,255,255,0)",
         "hoveron": "points",
         "hovertemplate": "Ticker=%{y}<br>Metric=Book Value<br>Value=%{x}<extra></extra>",
         "legendgroup": "MSI",
         "line": {
          "color": "rgba(255,255,255,0)"
         },
         "marker": {
          "color": "#EF553B",
          "size": 15,
          "symbol": "square"
         },
         "name": "MSI",
         "offsetgroup": "MSI",
         "orientation": "h",
         "pointpos": 0,
         "showlegend": false,
         "type": "box",
         "x": {
          "bdata": "/Knx0k1iJEA=",
          "dtype": "f8"
         },
         "x0": " ",
         "xaxis": "x2",
         "y": [
          "MSI"
         ],
         "y0": " ",
         "yaxis": "y2"
        },
        {
         "alignmentgroup": "True",
         "boxpoints": "all",
         "fillcolor": "rgba(255,255,255,0)",
         "hoveron": "points",
         "hovertemplate": "Ticker=%{y}<br>Metric=P/E Ratio<br>Value=%{x}<extra></extra>",
         "legendgroup": "MSI",
         "line": {
          "color": "rgba(255,255,255,0)"
         },
         "marker": {
          "color": "#EF553B",
          "size": 15,
          "symbol": "square"
         },
         "name": "MSI",
         "offsetgroup": "MSI",
         "orientation": "h",
         "pointpos": 0,
         "showlegend": false,
         "type": "box",
         "x": {
          "bdata": "aUpii0HyRkA=",
          "dtype": "f8"
         },
         "x0": " ",
         "xaxis": "x3",
         "y": [
          "MSI"
         ],
         "y0": " ",
         "yaxis": "y3"
        },
        {
         "alignmentgroup": "True",
         "boxpoints": "all",
         "fillcolor": "rgba(255,255,255,0)",
         "hoveron": "points",
         "hovertemplate": "Ticker=%{y}<br>Metric=Forward P/E<br>Value=%{x}<extra></extra>",
         "legendgroup": "FFIV",
         "line": {
          "color": "rgba(255,255,255,0)"
         },
         "marker": {
          "color": "#00cc96",
          "size": 15,
          "symbol": "square"
         },
         "name": "FFIV",
         "offsetgroup": "FFIV",
         "orientation": "h",
         "pointpos": 0,
         "showlegend": true,
         "type": "box",
         "x": {
          "bdata": "fhtivOblMUA=",
          "dtype": "f8"
         },
         "x0": " ",
         "xaxis": "x13",
         "y": [
          "FFIV"
         ],
         "y0": " ",
         "yaxis": "y13"
        },
        {
         "alignmentgroup": "True",
         "boxpoints": "all",
         "fillcolor": "rgba(255,255,255,0)",
         "hoveron": "points",
         "hovertemplate": "Ticker=%{y}<br>Metric=Price-to-Book<br>Value=%{x}<extra></extra>",
         "legendgroup": "FFIV",
         "line": {
          "color": "rgba(255,255,255,0)"
         },
         "marker": {
          "color": "#00cc96",
          "size": 15,
          "symbol": "square"
         },
         "name": "FFIV",
         "offsetgroup": "FFIV",
         "orientation": "h",
         "pointpos": 0,
         "showlegend": false,
         "type": "box",
         "x": {
          "bdata": "UX2MXrLOE0A=",
          "dtype": "f8"
         },
         "x0": " ",
         "xaxis": "x14",
         "y": [
          "FFIV"
         ],
         "y0": " ",
         "yaxis": "y14"
        },
        {
         "alignmentgroup": "True",
         "boxpoints": "all",
         "fillcolor": "rgba(255,255,255,0)",
         "hoveron": "points",
         "hovertemplate": "Ticker=%{y}<br>Metric=EPS (TTM)<br>Value=%{x}<extra></extra>",
         "legendgroup": "FFIV",
         "line": {
          "color": "rgba(255,255,255,0)"
         },
         "marker": {
          "color": "#00cc96",
          "size": 15,
          "symbol": "square"
         },
         "name": "FFIV",
         "offsetgroup": "FFIV",
         "orientation": "h",
         "pointpos": 0,
         "showlegend": false,
         "type": "box",
         "x": {
          "bdata": "FK5H4XoUJEA=",
          "dtype": "f8"
         },
         "x0": " ",
         "xaxis": "x15",
         "y": [
          "FFIV"
         ],
         "y0": " ",
         "yaxis": "y15"
        },
        {
         "alignmentgroup": "True",
         "boxpoints": "all",
         "fillcolor": "rgba(255,255,255,0)",
         "hoveron": "points",
         "hovertemplate": "Ticker=%{y}<br>Metric=Debt-to-Equity<br>Value=%{x}<extra></extra>",
         "legendgroup": "FFIV",
         "line": {
          "color": "rgba(255,255,255,0)"
         },
         "marker": {
          "color": "#00cc96",
          "size": 15,
          "symbol": "square"
         },
         "name": "FFIV",
         "offsetgroup": "FFIV",
         "orientation": "h",
         "pointpos": 0,
         "showlegend": false,
         "type": "box",
         "x": {
          "bdata": "2/l+arz0IEA=",
          "dtype": "f8"
         },
         "x0": " ",
         "xaxis": "x10",
         "y": [
          "FFIV"
         ],
         "y0": " ",
         "yaxis": "y10"
        },
        {
         "alignmentgroup": "True",
         "boxpoints": "all",
         "fillcolor": "rgba(255,255,255,0)",
         "hoveron": "points",
         "hovertemplate": "Ticker=%{y}<br>Metric=Market Cap<br>Value=%{x}<extra></extra>",
         "legendgroup": "FFIV",
         "line": {
          "color": "rgba(255,255,255,0)"
         },
         "marker": {
          "color": "#00cc96",
          "size": 15,
          "symbol": "square"
         },
         "name": "FFIV",
         "offsetgroup": "FFIV",
         "orientation": "h",
         "pointpos": 0,
         "showlegend": false,
         "type": "box",
         "x": {
          "bdata": "AAAAIEeZDUI=",
          "dtype": "f8"
         },
         "x0": " ",
         "xaxis": "x11",
         "y": [
          "FFIV"
         ],
         "y0": " ",
         "yaxis": "y11"
        },
        {
         "alignmentgroup": "True",
         "boxpoints": "all",
         "fillcolor": "rgba(255,255,255,0)",
         "hoveron": "points",
         "hovertemplate": "Ticker=%{y}<br>Metric=Total Revenue<br>Value=%{x}<extra></extra>",
         "legendgroup": "FFIV",
         "line": {
          "color": "rgba(255,255,255,0)"
         },
         "marker": {
          "color": "#00cc96",
          "size": 15,
          "symbol": "square"
         },
         "name": "FFIV",
         "offsetgroup": "FFIV",
         "orientation": "h",
         "pointpos": 0,
         "showlegend": false,
         "type": "box",
         "x": {
          "bdata": "AAAAoEKI5UE=",
          "dtype": "f8"
         },
         "x0": " ",
         "xaxis": "x12",
         "y": [
          "FFIV"
         ],
         "y0": " ",
         "yaxis": "y12"
        },
        {
         "alignmentgroup": "True",
         "boxpoints": "all",
         "fillcolor": "rgba(255,255,255,0)",
         "hoveron": "points",
         "hovertemplate": "Ticker=%{y}<br>Metric=Price-to-Sales<br>Value=%{x}<extra></extra>",
         "legendgroup": "FFIV",
         "line": {
          "color": "rgba(255,255,255,0)"
         },
         "marker": {
          "color": "#00cc96",
          "size": 15,
          "symbol": "square"
         },
         "name": "FFIV",
         "offsetgroup": "FFIV",
         "orientation": "h",
         "pointpos": 0,
         "showlegend": false,
         "type": "box",
         "x": {
          "bdata": "vma5bHT+FUA=",
          "dtype": "f8"
         },
         "x0": " ",
         "xaxis": "x7",
         "y": [
          "FFIV"
         ],
         "y0": " ",
         "yaxis": "y7"
        },
        {
         "alignmentgroup": "True",
         "boxpoints": "all",
         "fillcolor": "rgba(255,255,255,0)",
         "hoveron": "points",
         "hovertemplate": "Ticker=%{y}<br>Metric=Profit Margin<br>Value=%{x}<extra></extra>",
         "legendgroup": "FFIV",
         "line": {
          "color": "rgba(255,255,255,0)"
         },
         "marker": {
          "color": "#00cc96",
          "size": 15,
          "symbol": "square"
         },
         "name": "FFIV",
         "offsetgroup": "FFIV",
         "orientation": "h",
         "pointpos": 0,
         "showlegend": false,
         "type": "box",
         "x": {
          "bdata": "DCC+RKNYyj8=",
          "dtype": "f8"
         },
         "x0": " ",
         "xaxis": "x8",
         "y": [
          "FFIV"
         ],
         "y0": " ",
         "yaxis": "y8"
        },
        {
         "alignmentgroup": "True",
         "boxpoints": "all",
         "fillcolor": "rgba(255,255,255,0)",
         "hoveron": "points",
         "hovertemplate": "Ticker=%{y}<br>Metric=Return on Equity<br>Value=%{x}<extra></extra>",
         "legendgroup": "FFIV",
         "line": {
          "color": "rgba(255,255,255,0)"
         },
         "marker": {
          "color": "#00cc96",
          "size": 15,
          "symbol": "square"
         },
         "name": "FFIV",
         "offsetgroup": "FFIV",
         "orientation": "h",
         "pointpos": 0,
         "showlegend": false,
         "type": "box",
         "x": {
          "bdata": "J/c7FAX6yD8=",
          "dtype": "f8"
         },
         "x0": " ",
         "xaxis": "x9",
         "y": [
          "FFIV"
         ],
         "y0": " ",
         "yaxis": "y9"
        },
        {
         "alignmentgroup": "True",
         "boxpoints": "all",
         "fillcolor": "rgba(255,255,255,0)",
         "hoveron": "points",
         "hovertemplate": "Ticker=%{y}<br>Metric=Earnings Growth<br>Value=%{x}<extra></extra>",
         "legendgroup": "FFIV",
         "line": {
          "color": "rgba(255,255,255,0)"
         },
         "marker": {
          "color": "#00cc96",
          "size": 15,
          "symbol": "square"
         },
         "name": "FFIV",
         "offsetgroup": "FFIV",
         "orientation": "h",
         "pointpos": 0,
         "showlegend": false,
         "type": "box",
         "x": {
          "bdata": "2c73U+Olyz8=",
          "dtype": "f8"
         },
         "x0": " ",
         "xaxis": "x4",
         "y": [
          "FFIV"
         ],
         "y0": " ",
         "yaxis": "y4"
        },
        {
         "alignmentgroup": "True",
         "boxpoints": "all",
         "fillcolor": "rgba(255,255,255,0)",
         "hoveron": "points",
         "hovertemplate": "Ticker=%{y}<br>Metric=Revenue Growth<br>Value=%{x}<extra></extra>",
         "legendgroup": "FFIV",
         "line": {
          "color": "rgba(255,255,255,0)"
         },
         "marker": {
          "color": "#00cc96",
          "size": 15,
          "symbol": "square"
         },
         "name": "FFIV",
         "offsetgroup": "FFIV",
         "orientation": "h",
         "pointpos": 0,
         "showlegend": false,
         "type": "box",
         "x": {
          "bdata": "MQisHFpkuz8=",
          "dtype": "f8"
         },
         "x0": " ",
         "xaxis": "x5",
         "y": [
          "FFIV"
         ],
         "y0": " ",
         "yaxis": "y5"
        },
        {
         "alignmentgroup": "True",
         "boxpoints": "all",
         "fillcolor": "rgba(255,255,255,0)",
         "hoveron": "points",
         "hovertemplate": "Ticker=%{y}<br>Metric=Total Cash<br>Value=%{x}<extra></extra>",
         "legendgroup": "FFIV",
         "line": {
          "color": "rgba(255,255,255,0)"
         },
         "marker": {
          "color": "#00cc96",
          "size": 15,
          "symbol": "square"
         },
         "name": "FFIV",
         "offsetgroup": "FFIV",
         "orientation": "h",
         "pointpos": 0,
         "showlegend": false,
         "type": "box",
         "x": {
          "bdata": "AAAAoFwm0UE=",
          "dtype": "f8"
         },
         "x0": " ",
         "xaxis": "x6",
         "y": [
          "FFIV"
         ],
         "y0": " ",
         "yaxis": "y6"
        },
        {
         "alignmentgroup": "True",
         "boxpoints": "all",
         "fillcolor": "rgba(255,255,255,0)",
         "hoveron": "points",
         "hovertemplate": "Ticker=%{y}<br>Metric=Total Debt<br>Value=%{x}<extra></extra>",
         "legendgroup": "FFIV",
         "line": {
          "color": "rgba(255,255,255,0)"
         },
         "marker": {
          "color": "#00cc96",
          "size": 15,
          "symbol": "square"
         },
         "name": "FFIV",
         "offsetgroup": "FFIV",
         "orientation": "h",
         "pointpos": 0,
         "showlegend": false,
         "type": "box",
         "x": {
          "bdata": "AAAAINpZsEE=",
          "dtype": "f8"
         },
         "x0": " ",
         "xaxis": "x",
         "y": [
          "FFIV"
         ],
         "y0": " ",
         "yaxis": "y"
        },
        {
         "alignmentgroup": "True",
         "boxpoints": "all",
         "fillcolor": "rgba(255,255,255,0)",
         "hoveron": "points",
         "hovertemplate": "Ticker=%{y}<br>Metric=Book Value<br>Value=%{x}<extra></extra>",
         "legendgroup": "FFIV",
         "line": {
          "color": "rgba(255,255,255,0)"
         },
         "marker": {
          "color": "#00cc96",
          "size": 15,
          "symbol": "square"
         },
         "name": "FFIV",
         "offsetgroup": "FFIV",
         "orientation": "h",
         "pointpos": 0,
         "showlegend": false,
         "type": "box",
         "x": {
          "bdata": "2/l+arzUS0A=",
          "dtype": "f8"
         },
         "x0": " ",
         "xaxis": "x2",
         "y": [
          "FFIV"
         ],
         "y0": " ",
         "yaxis": "y2"
        },
        {
         "alignmentgroup": "True",
         "boxpoints": "all",
         "fillcolor": "rgba(255,255,255,0)",
         "hoveron": "points",
         "hovertemplate": "Ticker=%{y}<br>Metric=P/E Ratio<br>Value=%{x}<extra></extra>",
         "legendgroup": "FFIV",
         "line": {
          "color": "rgba(255,255,255,0)"
         },
         "marker": {
          "color": "#00cc96",
          "size": 15,
          "symbol": "square"
         },
         "name": "FFIV",
         "offsetgroup": "FFIV",
         "orientation": "h",
         "pointpos": 0,
         "showlegend": false,
         "type": "box",
         "x": {
          "bdata": "8smOHAR0O0A=",
          "dtype": "f8"
         },
         "x0": " ",
         "xaxis": "x3",
         "y": [
          "FFIV"
         ],
         "y0": " ",
         "yaxis": "y3"
        }
       ],
       "layout": {
        "annotations": [
         {
          "font": {
           "size": 15
          },
          "showarrow": false,
          "text": "Metric=Total Debt",
          "x": 0.15999999999999998,
          "xanchor": "center",
          "xref": "paper",
          "y": 0.144,
          "yanchor": "bottom",
          "yref": "paper"
         },
         {
          "font": {
           "size": 15
          },
          "showarrow": false,
          "text": "Metric=Book Value",
          "x": 0.49999999999999994,
          "xanchor": "center",
          "xref": "paper",
          "y": 0.144,
          "yanchor": "bottom",
          "yref": "paper"
         },
         {
          "font": {
           "size": 15
          },
          "showarrow": false,
          "text": "Metric=P/E Ratio",
          "x": 0.8399999999999999,
          "xanchor": "center",
          "xref": "paper",
          "y": 0.144,
          "yanchor": "bottom",
          "yref": "paper"
         },
         {
          "font": {
           "size": 15
          },
          "showarrow": false,
          "text": "Metric=Earnings Growth",
          "x": 0.15999999999999998,
          "xanchor": "center",
          "xref": "paper",
          "y": 0.358,
          "yanchor": "bottom",
          "yref": "paper"
         },
         {
          "font": {
           "size": 15
          },
          "showarrow": false,
          "text": "Metric=Revenue Growth",
          "x": 0.49999999999999994,
          "xanchor": "center",
          "xref": "paper",
          "y": 0.358,
          "yanchor": "bottom",
          "yref": "paper"
         },
         {
          "font": {
           "size": 15
          },
          "showarrow": false,
          "text": "Metric=Total Cash",
          "x": 0.8399999999999999,
          "xanchor": "center",
          "xref": "paper",
          "y": 0.358,
          "yanchor": "bottom",
          "yref": "paper"
         },
         {
          "font": {
           "size": 15
          },
          "showarrow": false,
          "text": "Metric=Price-to-Sales",
          "x": 0.15999999999999998,
          "xanchor": "center",
          "xref": "paper",
          "y": 0.572,
          "yanchor": "bottom",
          "yref": "paper"
         },
         {
          "font": {
           "size": 15
          },
          "showarrow": false,
          "text": "Metric=Profit Margin",
          "x": 0.49999999999999994,
          "xanchor": "center",
          "xref": "paper",
          "y": 0.572,
          "yanchor": "bottom",
          "yref": "paper"
         },
         {
          "font": {
           "size": 15
          },
          "showarrow": false,
          "text": "Metric=Return on Equity",
          "x": 0.8399999999999999,
          "xanchor": "center",
          "xref": "paper",
          "y": 0.572,
          "yanchor": "bottom",
          "yref": "paper"
         },
         {
          "font": {
           "size": 15
          },
          "showarrow": false,
          "text": "Metric=Debt-to-Equity",
          "x": 0.15999999999999998,
          "xanchor": "center",
          "xref": "paper",
          "y": 0.7859999999999999,
          "yanchor": "bottom",
          "yref": "paper"
         },
         {
          "font": {
           "size": 15
          },
          "showarrow": false,
          "text": "Metric=Market Cap",
          "x": 0.49999999999999994,
          "xanchor": "center",
          "xref": "paper",
          "y": 0.7859999999999999,
          "yanchor": "bottom",
          "yref": "paper"
         },
         {
          "font": {
           "size": 15
          },
          "showarrow": false,
          "text": "Metric=Total Revenue",
          "x": 0.8399999999999999,
          "xanchor": "center",
          "xref": "paper",
          "y": 0.7859999999999999,
          "yanchor": "bottom",
          "yref": "paper"
         },
         {
          "font": {
           "size": 15
          },
          "showarrow": false,
          "text": "Metric=Forward P/E",
          "x": 0.15999999999999998,
          "xanchor": "center",
          "xref": "paper",
          "y": 1,
          "yanchor": "bottom",
          "yref": "paper"
         },
         {
          "font": {
           "size": 15
          },
          "showarrow": false,
          "text": "Metric=Price-to-Book",
          "x": 0.49999999999999994,
          "xanchor": "center",
          "xref": "paper",
          "y": 1,
          "yanchor": "bottom",
          "yref": "paper"
         },
         {
          "font": {
           "size": 15
          },
          "showarrow": false,
          "text": "Metric=EPS (TTM)",
          "x": 0.8399999999999999,
          "xanchor": "center",
          "xref": "paper",
          "y": 1,
          "yanchor": "bottom",
          "yref": "paper"
         }
        ],
        "boxmode": "overlay",
        "height": 1000,
        "legend": {
         "title": {
          "text": "Ticker"
         },
         "tracegroupgap": 0
        },
        "margin": {
         "b": 50,
         "l": 50,
         "r": 50,
         "t": 50
        },
        "template": {
         "data": {
          "bar": [
           {
            "error_x": {
             "color": "#2a3f5f"
            },
            "error_y": {
             "color": "#2a3f5f"
            },
            "marker": {
             "line": {
              "color": "#E5ECF6",
              "width": 0.5
             },
             "pattern": {
              "fillmode": "overlay",
              "size": 10,
              "solidity": 0.2
             }
            },
            "type": "bar"
           }
          ],
          "barpolar": [
           {
            "marker": {
             "line": {
              "color": "#E5ECF6",
              "width": 0.5
             },
             "pattern": {
              "fillmode": "overlay",
              "size": 10,
              "solidity": 0.2
             }
            },
            "type": "barpolar"
           }
          ],
          "carpet": [
           {
            "aaxis": {
             "endlinecolor": "#2a3f5f",
             "gridcolor": "white",
             "linecolor": "white",
             "minorgridcolor": "white",
             "startlinecolor": "#2a3f5f"
            },
            "baxis": {
             "endlinecolor": "#2a3f5f",
             "gridcolor": "white",
             "linecolor": "white",
             "minorgridcolor": "white",
             "startlinecolor": "#2a3f5f"
            },
            "type": "carpet"
           }
          ],
          "choropleth": [
           {
            "colorbar": {
             "outlinewidth": 0,
             "ticks": ""
            },
            "type": "choropleth"
           }
          ],
          "contour": [
           {
            "colorbar": {
             "outlinewidth": 0,
             "ticks": ""
            },
            "colorscale": [
             [
              0,
              "#0d0887"
             ],
             [
              0.1111111111111111,
              "#46039f"
             ],
             [
              0.2222222222222222,
              "#7201a8"
             ],
             [
              0.3333333333333333,
              "#9c179e"
             ],
             [
              0.4444444444444444,
              "#bd3786"
             ],
             [
              0.5555555555555556,
              "#d8576b"
             ],
             [
              0.6666666666666666,
              "#ed7953"
             ],
             [
              0.7777777777777778,
              "#fb9f3a"
             ],
             [
              0.8888888888888888,
              "#fdca26"
             ],
             [
              1,
              "#f0f921"
             ]
            ],
            "type": "contour"
           }
          ],
          "contourcarpet": [
           {
            "colorbar": {
             "outlinewidth": 0,
             "ticks": ""
            },
            "type": "contourcarpet"
           }
          ],
          "heatmap": [
           {
            "colorbar": {
             "outlinewidth": 0,
             "ticks": ""
            },
            "colorscale": [
             [
              0,
              "#0d0887"
             ],
             [
              0.1111111111111111,
              "#46039f"
             ],
             [
              0.2222222222222222,
              "#7201a8"
             ],
             [
              0.3333333333333333,
              "#9c179e"
             ],
             [
              0.4444444444444444,
              "#bd3786"
             ],
             [
              0.5555555555555556,
              "#d8576b"
             ],
             [
              0.6666666666666666,
              "#ed7953"
             ],
             [
              0.7777777777777778,
              "#fb9f3a"
             ],
             [
              0.8888888888888888,
              "#fdca26"
             ],
             [
              1,
              "#f0f921"
             ]
            ],
            "type": "heatmap"
           }
          ],
          "histogram": [
           {
            "marker": {
             "pattern": {
              "fillmode": "overlay",
              "size": 10,
              "solidity": 0.2
             }
            },
            "type": "histogram"
           }
          ],
          "histogram2d": [
           {
            "colorbar": {
             "outlinewidth": 0,
             "ticks": ""
            },
            "colorscale": [
             [
              0,
              "#0d0887"
             ],
             [
              0.1111111111111111,
              "#46039f"
             ],
             [
              0.2222222222222222,
              "#7201a8"
             ],
             [
              0.3333333333333333,
              "#9c179e"
             ],
             [
              0.4444444444444444,
              "#bd3786"
             ],
             [
              0.5555555555555556,
              "#d8576b"
             ],
             [
              0.6666666666666666,
              "#ed7953"
             ],
             [
              0.7777777777777778,
              "#fb9f3a"
             ],
             [
              0.8888888888888888,
              "#fdca26"
             ],
             [
              1,
              "#f0f921"
             ]
            ],
            "type": "histogram2d"
           }
          ],
          "histogram2dcontour": [
           {
            "colorbar": {
             "outlinewidth": 0,
             "ticks": ""
            },
            "colorscale": [
             [
              0,
              "#0d0887"
             ],
             [
              0.1111111111111111,
              "#46039f"
             ],
             [
              0.2222222222222222,
              "#7201a8"
             ],
             [
              0.3333333333333333,
              "#9c179e"
             ],
             [
              0.4444444444444444,
              "#bd3786"
             ],
             [
              0.5555555555555556,
              "#d8576b"
             ],
             [
              0.6666666666666666,
              "#ed7953"
             ],
             [
              0.7777777777777778,
              "#fb9f3a"
             ],
             [
              0.8888888888888888,
              "#fdca26"
             ],
             [
              1,
              "#f0f921"
             ]
            ],
            "type": "histogram2dcontour"
           }
          ],
          "mesh3d": [
           {
            "colorbar": {
             "outlinewidth": 0,
             "ticks": ""
            },
            "type": "mesh3d"
           }
          ],
          "parcoords": [
           {
            "line": {
             "colorbar": {
              "outlinewidth": 0,
              "ticks": ""
             }
            },
            "type": "parcoords"
           }
          ],
          "pie": [
           {
            "automargin": true,
            "type": "pie"
           }
          ],
          "scatter": [
           {
            "fillpattern": {
             "fillmode": "overlay",
             "size": 10,
             "solidity": 0.2
            },
            "type": "scatter"
           }
          ],
          "scatter3d": [
           {
            "line": {
             "colorbar": {
              "outlinewidth": 0,
              "ticks": ""
             }
            },
            "marker": {
             "colorbar": {
              "outlinewidth": 0,
              "ticks": ""
             }
            },
            "type": "scatter3d"
           }
          ],
          "scattercarpet": [
           {
            "marker": {
             "colorbar": {
              "outlinewidth": 0,
              "ticks": ""
             }
            },
            "type": "scattercarpet"
           }
          ],
          "scattergeo": [
           {
            "marker": {
             "colorbar": {
              "outlinewidth": 0,
              "ticks": ""
             }
            },
            "type": "scattergeo"
           }
          ],
          "scattergl": [
           {
            "marker": {
             "colorbar": {
              "outlinewidth": 0,
              "ticks": ""
             }
            },
            "type": "scattergl"
           }
          ],
          "scattermap": [
           {
            "marker": {
             "colorbar": {
              "outlinewidth": 0,
              "ticks": ""
             }
            },
            "type": "scattermap"
           }
          ],
          "scattermapbox": [
           {
            "marker": {
             "colorbar": {
              "outlinewidth": 0,
              "ticks": ""
             }
            },
            "type": "scattermapbox"
           }
          ],
          "scatterpolar": [
           {
            "marker": {
             "colorbar": {
              "outlinewidth": 0,
              "ticks": ""
             }
            },
            "type": "scatterpolar"
           }
          ],
          "scatterpolargl": [
           {
            "marker": {
             "colorbar": {
              "outlinewidth": 0,
              "ticks": ""
             }
            },
            "type": "scatterpolargl"
           }
          ],
          "scatterternary": [
           {
            "marker": {
             "colorbar": {
              "outlinewidth": 0,
              "ticks": ""
             }
            },
            "type": "scatterternary"
           }
          ],
          "surface": [
           {
            "colorbar": {
             "outlinewidth": 0,
             "ticks": ""
            },
            "colorscale": [
             [
              0,
              "#0d0887"
             ],
             [
              0.1111111111111111,
              "#46039f"
             ],
             [
              0.2222222222222222,
              "#7201a8"
             ],
             [
              0.3333333333333333,
              "#9c179e"
             ],
             [
              0.4444444444444444,
              "#bd3786"
             ],
             [
              0.5555555555555556,
              "#d8576b"
             ],
             [
              0.6666666666666666,
              "#ed7953"
             ],
             [
              0.7777777777777778,
              "#fb9f3a"
             ],
             [
              0.8888888888888888,
              "#fdca26"
             ],
             [
              1,
              "#f0f921"
             ]
            ],
            "type": "surface"
           }
          ],
          "table": [
           {
            "cells": {
             "fill": {
              "color": "#EBF0F8"
             },
             "line": {
              "color": "white"
             }
            },
            "header": {
             "fill": {
              "color": "#C8D4E3"
             },
             "line": {
              "color": "white"
             }
            },
            "type": "table"
           }
          ]
         },
         "layout": {
          "annotationdefaults": {
           "arrowcolor": "#2a3f5f",
           "arrowhead": 0,
           "arrowwidth": 1
          },
          "autotypenumbers": "strict",
          "coloraxis": {
           "colorbar": {
            "outlinewidth": 0,
            "ticks": ""
           }
          },
          "colorscale": {
           "diverging": [
            [
             0,
             "#8e0152"
            ],
            [
             0.1,
             "#c51b7d"
            ],
            [
             0.2,
             "#de77ae"
            ],
            [
             0.3,
             "#f1b6da"
            ],
            [
             0.4,
             "#fde0ef"
            ],
            [
             0.5,
             "#f7f7f7"
            ],
            [
             0.6,
             "#e6f5d0"
            ],
            [
             0.7,
             "#b8e186"
            ],
            [
             0.8,
             "#7fbc41"
            ],
            [
             0.9,
             "#4d9221"
            ],
            [
             1,
             "#276419"
            ]
           ],
           "sequential": [
            [
             0,
             "#0d0887"
            ],
            [
             0.1111111111111111,
             "#46039f"
            ],
            [
             0.2222222222222222,
             "#7201a8"
            ],
            [
             0.3333333333333333,
             "#9c179e"
            ],
            [
             0.4444444444444444,
             "#bd3786"
            ],
            [
             0.5555555555555556,
             "#d8576b"
            ],
            [
             0.6666666666666666,
             "#ed7953"
            ],
            [
             0.7777777777777778,
             "#fb9f3a"
            ],
            [
             0.8888888888888888,
             "#fdca26"
            ],
            [
             1,
             "#f0f921"
            ]
           ],
           "sequentialminus": [
            [
             0,
             "#0d0887"
            ],
            [
             0.1111111111111111,
             "#46039f"
            ],
            [
             0.2222222222222222,
             "#7201a8"
            ],
            [
             0.3333333333333333,
             "#9c179e"
            ],
            [
             0.4444444444444444,
             "#bd3786"
            ],
            [
             0.5555555555555556,
             "#d8576b"
            ],
            [
             0.6666666666666666,
             "#ed7953"
            ],
            [
             0.7777777777777778,
             "#fb9f3a"
            ],
            [
             0.8888888888888888,
             "#fdca26"
            ],
            [
             1,
             "#f0f921"
            ]
           ]
          },
          "colorway": [
           "#636efa",
           "#EF553B",
           "#00cc96",
           "#ab63fa",
           "#FFA15A",
           "#19d3f3",
           "#FF6692",
           "#B6E880",
           "#FF97FF",
           "#FECB52"
          ],
          "font": {
           "color": "#2a3f5f"
          },
          "geo": {
           "bgcolor": "white",
           "lakecolor": "white",
           "landcolor": "#E5ECF6",
           "showlakes": true,
           "showland": true,
           "subunitcolor": "white"
          },
          "hoverlabel": {
           "align": "left"
          },
          "hovermode": "closest",
          "mapbox": {
           "style": "light"
          },
          "paper_bgcolor": "white",
          "plot_bgcolor": "#E5ECF6",
          "polar": {
           "angularaxis": {
            "gridcolor": "white",
            "linecolor": "white",
            "ticks": ""
           },
           "bgcolor": "#E5ECF6",
           "radialaxis": {
            "gridcolor": "white",
            "linecolor": "white",
            "ticks": ""
           }
          },
          "scene": {
           "xaxis": {
            "backgroundcolor": "#E5ECF6",
            "gridcolor": "white",
            "gridwidth": 2,
            "linecolor": "white",
            "showbackground": true,
            "ticks": "",
            "zerolinecolor": "white"
           },
           "yaxis": {
            "backgroundcolor": "#E5ECF6",
            "gridcolor": "white",
            "gridwidth": 2,
            "linecolor": "white",
            "showbackground": true,
            "ticks": "",
            "zerolinecolor": "white"
           },
           "zaxis": {
            "backgroundcolor": "#E5ECF6",
            "gridcolor": "white",
            "gridwidth": 2,
            "linecolor": "white",
            "showbackground": true,
            "ticks": "",
            "zerolinecolor": "white"
           }
          },
          "shapedefaults": {
           "line": {
            "color": "#2a3f5f"
           }
          },
          "ternary": {
           "aaxis": {
            "gridcolor": "white",
            "linecolor": "white",
            "ticks": ""
           },
           "baxis": {
            "gridcolor": "white",
            "linecolor": "white",
            "ticks": ""
           },
           "bgcolor": "#E5ECF6",
           "caxis": {
            "gridcolor": "white",
            "linecolor": "white",
            "ticks": ""
           }
          },
          "title": {
           "x": 0.05
          },
          "xaxis": {
           "automargin": true,
           "gridcolor": "white",
           "linecolor": "white",
           "ticks": "",
           "title": {
            "standoff": 15
           },
           "zerolinecolor": "white",
           "zerolinewidth": 2
          },
          "yaxis": {
           "automargin": true,
           "gridcolor": "white",
           "linecolor": "white",
           "ticks": "",
           "title": {
            "standoff": 15
           },
           "zerolinecolor": "white",
           "zerolinewidth": 2
          }
         }
        },
        "title": {
         "font": {
          "color": "blue",
          "size": 28
         },
         "text": "Stock Comparison by Metric",
         "x": 0.5
        },
        "width": 1000,
        "xaxis": {
         "anchor": "y",
         "domain": [
          0,
          0.31999999999999995
         ],
         "showticklabels": true,
         "tickfont": {
          "size": 16
         },
         "tickmode": "array",
         "title": {
          "font": {
           "size": 15
          },
          "text": "Value"
         }
        },
        "xaxis10": {
         "anchor": "y10",
         "domain": [
          0,
          0.31999999999999995
         ],
         "showticklabels": true,
         "tickfont": {
          "size": 16
         },
         "tickmode": "array",
         "title": {
          "font": {
           "size": 15
          }
         }
        },
        "xaxis11": {
         "anchor": "y11",
         "domain": [
          0.33999999999999997,
          0.6599999999999999
         ],
         "showticklabels": true,
         "tickfont": {
          "size": 16
         },
         "tickmode": "array",
         "title": {
          "font": {
           "size": 15
          }
         }
        },
        "xaxis12": {
         "anchor": "y12",
         "domain": [
          0.6799999999999999,
          0.9999999999999999
         ],
         "showticklabels": true,
         "tickfont": {
          "size": 16
         },
         "tickmode": "array",
         "title": {
          "font": {
           "size": 15
          }
         }
        },
        "xaxis13": {
         "anchor": "y13",
         "domain": [
          0,
          0.31999999999999995
         ],
         "showticklabels": true,
         "tickfont": {
          "size": 16
         },
         "tickmode": "array",
         "title": {
          "font": {
           "size": 15
          }
         }
        },
        "xaxis14": {
         "anchor": "y14",
         "domain": [
          0.33999999999999997,
          0.6599999999999999
         ],
         "showticklabels": true,
         "tickfont": {
          "size": 16
         },
         "tickmode": "array",
         "title": {
          "font": {
           "size": 15
          }
         }
        },
        "xaxis15": {
         "anchor": "y15",
         "domain": [
          0.6799999999999999,
          0.9999999999999999
         ],
         "showticklabels": true,
         "tickfont": {
          "size": 16
         },
         "tickmode": "array",
         "title": {
          "font": {
           "size": 15
          }
         }
        },
        "xaxis2": {
         "anchor": "y2",
         "domain": [
          0.33999999999999997,
          0.6599999999999999
         ],
         "showticklabels": true,
         "tickfont": {
          "size": 16
         },
         "tickmode": "array",
         "title": {
          "font": {
           "size": 15
          },
          "text": "Value"
         }
        },
        "xaxis3": {
         "anchor": "y3",
         "domain": [
          0.6799999999999999,
          0.9999999999999999
         ],
         "showticklabels": true,
         "tickfont": {
          "size": 16
         },
         "tickmode": "array",
         "title": {
          "font": {
           "size": 15
          },
          "text": "Value"
         }
        },
        "xaxis4": {
         "anchor": "y4",
         "domain": [
          0,
          0.31999999999999995
         ],
         "showticklabels": true,
         "tickfont": {
          "size": 16
         },
         "tickmode": "array",
         "title": {
          "font": {
           "size": 15
          }
         }
        },
        "xaxis5": {
         "anchor": "y5",
         "domain": [
          0.33999999999999997,
          0.6599999999999999
         ],
         "showticklabels": true,
         "tickfont": {
          "size": 16
         },
         "tickmode": "array",
         "title": {
          "font": {
           "size": 15
          }
         }
        },
        "xaxis6": {
         "anchor": "y6",
         "domain": [
          0.6799999999999999,
          0.9999999999999999
         ],
         "showticklabels": true,
         "tickfont": {
          "size": 16
         },
         "tickmode": "array",
         "title": {
          "font": {
           "size": 15
          }
         }
        },
        "xaxis7": {
         "anchor": "y7",
         "domain": [
          0,
          0.31999999999999995
         ],
         "showticklabels": true,
         "tickfont": {
          "size": 16
         },
         "tickmode": "array",
         "title": {
          "font": {
           "size": 15
          }
         }
        },
        "xaxis8": {
         "anchor": "y8",
         "domain": [
          0.33999999999999997,
          0.6599999999999999
         ],
         "showticklabels": true,
         "tickfont": {
          "size": 16
         },
         "tickmode": "array",
         "title": {
          "font": {
           "size": 15
          }
         }
        },
        "xaxis9": {
         "anchor": "y9",
         "domain": [
          0.6799999999999999,
          0.9999999999999999
         ],
         "showticklabels": true,
         "tickfont": {
          "size": 16
         },
         "tickmode": "array",
         "title": {
          "font": {
           "size": 15
          }
         }
        },
        "yaxis": {
         "anchor": "x",
         "categoryarray": [
          "FFIV",
          "MSI",
          "HPE"
         ],
         "categoryorder": "category ascending",
         "domain": [
          0,
          0.144
         ],
         "tickfont": {
          "size": 16
         },
         "tickmode": "array",
         "tickvals": [
          "HPE",
          "MSI",
          "FFIV"
         ],
         "title": {
          "font": {
           "size": 15
          },
          "text": "Ticker"
         }
        },
        "yaxis10": {
         "anchor": "x10",
         "categoryarray": [
          "FFIV",
          "MSI",
          "HPE"
         ],
         "categoryorder": "category ascending",
         "domain": [
          0.6419999999999999,
          0.7859999999999999
         ],
         "tickfont": {
          "size": 16
         },
         "tickmode": "array",
         "tickvals": [
          "HPE",
          "MSI",
          "FFIV"
         ],
         "title": {
          "font": {
           "size": 15
          },
          "text": "Ticker"
         }
        },
        "yaxis11": {
         "anchor": "x11",
         "categoryorder": "category ascending",
         "domain": [
          0.6419999999999999,
          0.7859999999999999
         ],
         "showticklabels": false,
         "tickfont": {
          "size": 16
         },
         "tickmode": "array",
         "tickvals": [
          "HPE",
          "MSI",
          "FFIV"
         ],
         "title": {
          "font": {
           "size": 15
          }
         }
        },
        "yaxis12": {
         "anchor": "x12",
         "categoryorder": "category ascending",
         "domain": [
          0.6419999999999999,
          0.7859999999999999
         ],
         "showticklabels": false,
         "tickfont": {
          "size": 16
         },
         "tickmode": "array",
         "tickvals": [
          "HPE",
          "MSI",
          "FFIV"
         ],
         "title": {
          "font": {
           "size": 15
          }
         }
        },
        "yaxis13": {
         "anchor": "x13",
         "categoryarray": [
          "FFIV",
          "MSI",
          "HPE"
         ],
         "categoryorder": "category ascending",
         "domain": [
          0.856,
          1
         ],
         "tickfont": {
          "size": 16
         },
         "tickmode": "array",
         "tickvals": [
          "HPE",
          "MSI",
          "FFIV"
         ],
         "title": {
          "font": {
           "size": 15
          },
          "text": "Ticker"
         }
        },
        "yaxis14": {
         "anchor": "x14",
         "categoryorder": "category ascending",
         "domain": [
          0.856,
          1
         ],
         "showticklabels": false,
         "tickfont": {
          "size": 16
         },
         "tickmode": "array",
         "tickvals": [
          "HPE",
          "MSI",
          "FFIV"
         ],
         "title": {
          "font": {
           "size": 15
          }
         }
        },
        "yaxis15": {
         "anchor": "x15",
         "categoryorder": "category ascending",
         "domain": [
          0.856,
          1
         ],
         "showticklabels": false,
         "tickfont": {
          "size": 16
         },
         "tickmode": "array",
         "tickvals": [
          "HPE",
          "MSI",
          "FFIV"
         ],
         "title": {
          "font": {
           "size": 15
          }
         }
        },
        "yaxis2": {
         "anchor": "x2",
         "categoryorder": "category ascending",
         "domain": [
          0,
          0.144
         ],
         "showticklabels": false,
         "tickfont": {
          "size": 16
         },
         "tickmode": "array",
         "tickvals": [
          "HPE",
          "MSI",
          "FFIV"
         ],
         "title": {
          "font": {
           "size": 15
          }
         }
        },
        "yaxis3": {
         "anchor": "x3",
         "categoryorder": "category ascending",
         "domain": [
          0,
          0.144
         ],
         "showticklabels": false,
         "tickfont": {
          "size": 16
         },
         "tickmode": "array",
         "tickvals": [
          "HPE",
          "MSI",
          "FFIV"
         ],
         "title": {
          "font": {
           "size": 15
          }
         }
        },
        "yaxis4": {
         "anchor": "x4",
         "categoryarray": [
          "FFIV",
          "MSI",
          "HPE"
         ],
         "categoryorder": "category ascending",
         "domain": [
          0.214,
          0.358
         ],
         "tickfont": {
          "size": 16
         },
         "tickmode": "array",
         "tickvals": [
          "HPE",
          "MSI",
          "FFIV"
         ],
         "title": {
          "font": {
           "size": 15
          },
          "text": "Ticker"
         }
        },
        "yaxis5": {
         "anchor": "x5",
         "categoryorder": "category ascending",
         "domain": [
          0.214,
          0.358
         ],
         "showticklabels": false,
         "tickfont": {
          "size": 16
         },
         "tickmode": "array",
         "tickvals": [
          "HPE",
          "MSI",
          "FFIV"
         ],
         "title": {
          "font": {
           "size": 15
          }
         }
        },
        "yaxis6": {
         "anchor": "x6",
         "categoryorder": "category ascending",
         "domain": [
          0.214,
          0.358
         ],
         "showticklabels": false,
         "tickfont": {
          "size": 16
         },
         "tickmode": "array",
         "tickvals": [
          "HPE",
          "MSI",
          "FFIV"
         ],
         "title": {
          "font": {
           "size": 15
          }
         }
        },
        "yaxis7": {
         "anchor": "x7",
         "categoryarray": [
          "FFIV",
          "MSI",
          "HPE"
         ],
         "categoryorder": "category ascending",
         "domain": [
          0.428,
          0.572
         ],
         "tickfont": {
          "size": 16
         },
         "tickmode": "array",
         "tickvals": [
          "HPE",
          "MSI",
          "FFIV"
         ],
         "title": {
          "font": {
           "size": 15
          },
          "text": "Ticker"
         }
        },
        "yaxis8": {
         "anchor": "x8",
         "categoryorder": "category ascending",
         "domain": [
          0.428,
          0.572
         ],
         "showticklabels": false,
         "tickfont": {
          "size": 16
         },
         "tickmode": "array",
         "tickvals": [
          "HPE",
          "MSI",
          "FFIV"
         ],
         "title": {
          "font": {
           "size": 15
          }
         }
        },
        "yaxis9": {
         "anchor": "x9",
         "categoryorder": "category ascending",
         "domain": [
          0.428,
          0.572
         ],
         "showticklabels": false,
         "tickfont": {
          "size": 16
         },
         "tickmode": "array",
         "tickvals": [
          "HPE",
          "MSI",
          "FFIV"
         ],
         "title": {
          "font": {
           "size": 15
          }
         }
        }
       }
      }
     },
     "metadata": {},
     "output_type": "display_data"
    }
   ],
   "source": [
    "fig = px.strip(\n",
    "    df_CE_fundamentals.reset_index(),\n",
    "    y='Ticker',\n",
    "    x='Value',\n",
    "    color='Ticker',\n",
    "    facet_col='Metric',  # Use facet_col for horizontal titles\n",
    "    facet_col_wrap=3\n",
    ")\n",
    "\n",
    "# Update layout\n",
    "fig.update_layout(\n",
    "    title={'text':'Stock Comparison by Metric','x':0.5,'font':dict(size=28,color='blue')},\n",
    "    height=1000,  # Adjust height to fit all facets\n",
    "    width=1000,  # Adjust width for better layout\n",
    "    margin=dict(t=50, l=50, r=50, b=50),  # Adjust margins,\n",
    ")\n",
    "\n",
    "# Force all y-axis ticks to show\n",
    "fig.update_yaxes(\n",
    "    matches=None,\n",
    "    tickmode='array',  # Use array mode to show specific ticks\n",
    "    tickvals=df_CE_fundamentals.index.unique(),  # Set tick values explicitly\n",
    "    tickfont=dict(size=16) # Increase y-axis tick font size\n",
    ")\n",
    "\n",
    "# Update traces for square shape and potentially larger size\n",
    "fig.update_traces(\n",
    "    marker_symbol='square',  # Make dots square\n",
    "    marker_size=15          # Increase size further if needed\n",
    ")\n",
    "\n",
    "# Ensure x-axes are independent and complete\n",
    "fig.update_xaxes(matches=None, tickfont=dict(size=16)) # Increase x-axis tick font size\n",
    "\n",
    "# Increase and center tile font (facet titles)\n",
    "for annotation in fig.layout.annotations:\n",
    "    annotation.font.size = 15  # Increase tile font size\n",
    "    annotation.xanchor = 'center'  # Center the title horizontally\n",
    "\n",
    "# Increase metric font (axis titles)\n",
    "fig.update_xaxes(title_font=dict(size=15)) # Increase x-axis title font size\n",
    "fig.update_yaxes(title_font=dict(size=15)) # Increase y-axis title font size\n",
    "\n",
    "fig.for_each_xaxis(lambda x: x.update(\n",
    "    tickmode='array',\n",
    "    matches=None, showticklabels=True\n",
    "))\n",
    "\n",
    "fig.for_each_yaxis(lambda x: x.update(\n",
    "    tickmode='array',tickvals=df_CE_fundamentals.index.unique(),\n",
    "    matches=None,categoryorder='category ascending'\n",
    "\n",
    "))\n",
    "\n",
    "fig.show()"
   ]
  }
 ],
 "metadata": {
  "kernelspec": {
   "display_name": "Python 3",
   "language": "python",
   "name": "python3"
  },
  "language_info": {
   "codemirror_mode": {
    "name": "ipython",
    "version": 3
   },
   "file_extension": ".py",
   "mimetype": "text/x-python",
   "name": "python",
   "nbconvert_exporter": "python",
   "pygments_lexer": "ipython3",
   "version": "3.13.1"
  }
 },
 "nbformat": 4,
 "nbformat_minor": 2
}
